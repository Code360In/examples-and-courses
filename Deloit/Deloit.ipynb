{
  "nbformat": 4,
  "nbformat_minor": 0,
  "metadata": {
    "colab": {
      "name": "Deloit.ipynb",
      "provenance": [],
      "collapsed_sections": [
        "iHtTZtEY6hjC",
        "jKXDJRhpu_2n",
        "I2g47wEJyGjI",
        "V76q1xP40Vbc",
        "5GS0s_ki0kcH",
        "4fgKu_h8M9Z3",
        "zJTeWSbxOmWe",
        "gaHJt_3IBT_7",
        "-qCswsO9Qcix"
      ]
    },
    "kernelspec": {
      "name": "python3",
      "display_name": "Python 3"
    },
    "accelerator": "TPU"
  },
  "cells": [
    {
      "cell_type": "markdown",
      "metadata": {
        "id": "Oc6U_PMtRoeS",
        "colab_type": "text"
      },
      "source": [
        "# Module importing"
      ]
    },
    {
      "cell_type": "code",
      "metadata": {
        "id": "yYTVLnlRRsV0",
        "colab_type": "code",
        "colab": {}
      },
      "source": [
        "import pandas as pd\n",
        "import numpy as np"
      ],
      "execution_count": 0,
      "outputs": []
    },
    {
      "cell_type": "code",
      "metadata": {
        "id": "lzrRIiiOZ1iP",
        "colab_type": "code",
        "colab": {}
      },
      "source": [
        "import tqdm"
      ],
      "execution_count": 0,
      "outputs": []
    },
    {
      "cell_type": "code",
      "metadata": {
        "id": "DwTZPJpntVqo",
        "colab_type": "code",
        "colab": {}
      },
      "source": [
        "import re"
      ],
      "execution_count": 0,
      "outputs": []
    },
    {
      "cell_type": "code",
      "metadata": {
        "id": "hq2VwYfQ6m_b",
        "colab_type": "code",
        "colab": {}
      },
      "source": [
        "from bs4 import BeautifulSoup"
      ],
      "execution_count": 0,
      "outputs": []
    },
    {
      "cell_type": "markdown",
      "metadata": {
        "id": "5IhpVNU2RIvc",
        "colab_type": "text"
      },
      "source": [
        "# Data loading"
      ]
    },
    {
      "cell_type": "code",
      "metadata": {
        "id": "6b1qcYk6O7jt",
        "colab_type": "code",
        "colab": {
          "base_uri": "https://localhost:8080/",
          "height": 187
        },
        "outputId": "518b4c3e-dca2-4abb-d17a-a5c30b8fd526"
      },
      "source": [
        "import os\n",
        "os.environ['KAGGLE_USERNAME'] = \"kryvokhyzha\" # username from the json file\n",
        "os.environ['KAGGLE_KEY'] = \"b30f0451d14f9a4f8a939d2fbadf03e8\" # key from the json file\n",
        "!kaggle competitions download -c company-acceptance-prediction # api copied from kaggle"
      ],
      "execution_count": 9,
      "outputs": [
        {
          "output_type": "stream",
          "text": [
            "Warning: Looks like you're using an outdated API Version, please consider updating (server 1.5.6 / client 1.5.4)\n",
            "Downloading test_df.pkl.zip to /content\n",
            " 81% 67.0M/82.3M [00:00<00:00, 77.1MB/s]\n",
            "100% 82.3M/82.3M [00:00<00:00, 152MB/s] \n",
            "Downloading train_df.pkl.zip to /content\n",
            " 98% 177M/180M [00:02<00:00, 121MB/s]\n",
            "100% 180M/180M [00:02<00:00, 70.5MB/s]\n",
            "Downloading sample_submission.csv to /content\n",
            "  0% 0.00/167k [00:00<?, ?B/s]\n",
            "100% 167k/167k [00:00<00:00, 170MB/s]\n"
          ],
          "name": "stdout"
        }
      ]
    },
    {
      "cell_type": "markdown",
      "metadata": {
        "id": "c5ET6VjFRQb5",
        "colab_type": "text"
      },
      "source": [
        "# Data serialization"
      ]
    },
    {
      "cell_type": "code",
      "metadata": {
        "id": "PLUZ1YkxPRtd",
        "colab_type": "code",
        "colab": {}
      },
      "source": [
        "train_df = pd.read_pickle('train_df.pkl.zip')"
      ],
      "execution_count": 0,
      "outputs": []
    },
    {
      "cell_type": "code",
      "metadata": {
        "id": "jgiRC140RmsN",
        "colab_type": "code",
        "colab": {}
      },
      "source": [
        "test_df = pd.read_pickle('test_df.pkl.zip')"
      ],
      "execution_count": 0,
      "outputs": []
    },
    {
      "cell_type": "code",
      "metadata": {
        "id": "B1UmNpwoXOw3",
        "colab_type": "code",
        "colab": {
          "base_uri": "https://localhost:8080/",
          "height": 391
        },
        "outputId": "d9c839f3-d172-4a64-df54-4dba6d4d824e"
      },
      "source": [
        "test_df.head(5)"
      ],
      "execution_count": 197,
      "outputs": [
        {
          "output_type": "execute_result",
          "data": {
            "text/html": [
              "<div>\n",
              "<style scoped>\n",
              "    .dataframe tbody tr th:only-of-type {\n",
              "        vertical-align: middle;\n",
              "    }\n",
              "\n",
              "    .dataframe tbody tr th {\n",
              "        vertical-align: top;\n",
              "    }\n",
              "\n",
              "    .dataframe thead th {\n",
              "        text-align: right;\n",
              "    }\n",
              "</style>\n",
              "<table border=\"1\" class=\"dataframe\">\n",
              "  <thead>\n",
              "    <tr style=\"text-align: right;\">\n",
              "      <th></th>\n",
              "      <th>id</th>\n",
              "      <th>html</th>\n",
              "      <th>text</th>\n",
              "      <th>keywords</th>\n",
              "      <th>accepted_function</th>\n",
              "      <th>rejected_function</th>\n",
              "      <th>accepted_product</th>\n",
              "      <th>rejected_product</th>\n",
              "    </tr>\n",
              "  </thead>\n",
              "  <tbody>\n",
              "    <tr>\n",
              "      <th>0</th>\n",
              "      <td>071c2e15-5fd0-4e7d-b78d-26b7c34491e1</td>\n",
              "      <td>[b'&lt;!DOCTYPE html&gt;\\r\\n&lt;html id=\"ctl00_htmlMast...</td>\n",
              "      <td>[We use cookies to tailor our service and ensu...</td>\n",
              "      <td>[technologies, descriptive, mapping, learning,...</td>\n",
              "      <td>IT support, IT managed services, IT integratio...</td>\n",
              "      <td>manufacture, production, processing, distribut...</td>\n",
              "      <td></td>\n",
              "      <td></td>\n",
              "    </tr>\n",
              "    <tr>\n",
              "      <th>1</th>\n",
              "      <td>e534df73-b385-4a12-8368-38992d3af7d3</td>\n",
              "      <td>[b'\\n&lt;!DOCTYPE html&gt;\\n\\n&lt;html lang=\"en-US\"&gt;\\n\\...</td>\n",
              "      <td>[About us\\nAbout Powernet\\nPartnerships\\nCusto...</td>\n",
              "      <td>[outsourcing, projects, IT, sensors, convergen...</td>\n",
              "      <td>software development, database development, sy...</td>\n",
              "      <td>wholesale, distribution, retail selling, manuf...</td>\n",
              "      <td></td>\n",
              "      <td></td>\n",
              "    </tr>\n",
              "    <tr>\n",
              "      <th>2</th>\n",
              "      <td>4e38c9ff-bffe-4251-b2b2-94777c7344fe</td>\n",
              "      <td>[b'&lt;!--\\n.----------------.  .----------------...</td>\n",
              "      <td>[Work\\nApproach\\nPeople\\nValues\\nBlog\\nCareers...</td>\n",
              "      <td>[Inventing, products, risk, development, servi...</td>\n",
              "      <td>general accounting, auditing, book keeping act...</td>\n",
              "      <td>manufacture, production, processing, distribut...</td>\n",
              "      <td></td>\n",
              "      <td></td>\n",
              "    </tr>\n",
              "    <tr>\n",
              "      <th>3</th>\n",
              "      <td>a7f8870c-30f8-4851-8f8b-4c16942b397f</td>\n",
              "      <td>[b'&lt;!DOCTYPE html&gt;\\n&lt;!--[if lt IE 7]&gt;&lt;html cla...</td>\n",
              "      <td>[Menu\\nMenu\\nSupport\\nInfrastructure\\nColocati...</td>\n",
              "      <td>[low, chain, portfolio, services, Procurement,...</td>\n",
              "      <td>Investment research and information services, ...</td>\n",
              "      <td>Construction, production and supply, Advertisi...</td>\n",
              "      <td></td>\n",
              "      <td></td>\n",
              "    </tr>\n",
              "    <tr>\n",
              "      <th>4</th>\n",
              "      <td>c062f411-ae3e-486a-9cba-2267889adb2b</td>\n",
              "      <td>[b'&lt;!DOCTYPE html&gt;&lt;html lang=\"en-US\"&gt;&lt;head&gt;&lt;me...</td>\n",
              "      <td>[Français (French)\\nEnglish (English)\\n日本語 (Ja...</td>\n",
              "      <td>[recruitment, producing, Evaluation, Payroll, ...</td>\n",
              "      <td>general accounting, auditing, book keeping act...</td>\n",
              "      <td>manufacture, production, processing, distribut...</td>\n",
              "      <td></td>\n",
              "      <td></td>\n",
              "    </tr>\n",
              "  </tbody>\n",
              "</table>\n",
              "</div>"
            ],
            "text/plain": [
              "                                     id  ... rejected_product\n",
              "0  071c2e15-5fd0-4e7d-b78d-26b7c34491e1  ...                 \n",
              "1  e534df73-b385-4a12-8368-38992d3af7d3  ...                 \n",
              "2  4e38c9ff-bffe-4251-b2b2-94777c7344fe  ...                 \n",
              "3  a7f8870c-30f8-4851-8f8b-4c16942b397f  ...                 \n",
              "4  c062f411-ae3e-486a-9cba-2267889adb2b  ...                 \n",
              "\n",
              "[5 rows x 8 columns]"
            ]
          },
          "metadata": {
            "tags": []
          },
          "execution_count": 197
        }
      ]
    },
    {
      "cell_type": "markdown",
      "metadata": {
        "id": "rekFGiJho6eX",
        "colab_type": "text"
      },
      "source": [
        "# Data preprocessing"
      ]
    },
    {
      "cell_type": "markdown",
      "metadata": {
        "id": "fsBq63L-49CC",
        "colab_type": "text"
      },
      "source": [
        "## Dropping byte-like parts"
      ]
    },
    {
      "cell_type": "code",
      "metadata": {
        "id": "3ccvhDYx8s5R",
        "colab_type": "code",
        "colab": {}
      },
      "source": [
        "# :("
      ],
      "execution_count": 0,
      "outputs": []
    },
    {
      "cell_type": "markdown",
      "metadata": {
        "id": "wwTD7L1ws4Gg",
        "colab_type": "text"
      },
      "source": [
        "## Extract comments"
      ]
    },
    {
      "cell_type": "code",
      "metadata": {
        "id": "ucdNFooW6hFa",
        "colab_type": "code",
        "colab": {}
      },
      "source": [
        "# :("
      ],
      "execution_count": 0,
      "outputs": []
    },
    {
      "cell_type": "markdown",
      "metadata": {
        "id": "iHtTZtEY6hjC",
        "colab_type": "text"
      },
      "source": [
        "## Extract meta information"
      ]
    },
    {
      "cell_type": "code",
      "metadata": {
        "id": "-7MDtqGPMd-L",
        "colab_type": "code",
        "colab": {}
      },
      "source": [
        "train_df['Title'] = np.nan\n",
        "train_df['Keyword'] = np.nan\n",
        "train_df['Locale'] = np.nan\n",
        "train_df['Description'] = np.nan"
      ],
      "execution_count": 0,
      "outputs": []
    },
    {
      "cell_type": "code",
      "metadata": {
        "colab_type": "code",
        "outputId": "96036af8-8791-4bda-dd79-aa93ff5de7cb",
        "id": "UebfmWQqRRvG",
        "colab": {
          "base_uri": "https://localhost:8080/",
          "height": 34
        }
      },
      "source": [
        "for idx, pages in tqdm.tqdm(enumerate(train_df.html)):\n",
        "  title_res = []\n",
        "  keywords_res = []\n",
        "  locale_res = []\n",
        "  description_res = []\n",
        "  for page in pages:\n",
        "    soup = BeautifulSoup(page, \"lxml\")  \n",
        "\n",
        "    res = ''\n",
        "    for tag in soup.find_all(\"meta\", property='og:title'):\n",
        "      try:\n",
        "        if tag['content'] not in (', ', '', ',', ' ', '.'):\n",
        "          res += tag['content'].strip() + ' '\n",
        "      except:\n",
        "        pass\n",
        "    if res != '':\n",
        "      title_res.append(res.strip()) \n",
        "\n",
        "    res = ''\n",
        "    for tag in soup.find_all(\"meta\", attrs={'name':'keywords'}):\n",
        "      try:\n",
        "        if tag['content'] not in (', ', '', ',', ' ', '.'):\n",
        "          res += tag['content'].strip() + ' '\n",
        "      except:\n",
        "        pass\n",
        "    if res != '':\n",
        "      keywords_res.append(res.strip()) \n",
        "\n",
        "    res = ''\n",
        "    for tag in soup.find_all(\"meta\", property='og:locale'):\n",
        "      try:\n",
        "        if tag['content'] not in (', ', '', ',', ' ', '.'):\n",
        "          res += tag['content'].strip() + ' ' \n",
        "      except:\n",
        "        pass\n",
        "    if res != '':\n",
        "      locale_res.append(res.strip()) \n",
        "\n",
        "    res = ''\n",
        "    for tag in soup.find_all(\"meta\", attrs={'name':'description'}):\n",
        "      try:\n",
        "        if tag['content'] not in (', ', '', ',', ' ', '.'):\n",
        "          res += tag['content'].strip() + ' '\n",
        "      except:\n",
        "        pass\n",
        "    if res != '':\n",
        "      description_res.append(res.strip()) \n",
        "\n",
        "\n",
        "  train_df.loc[idx, 'Title'] = str(title_res) if title_res != [] else np.nan\n",
        "  train_df.loc[idx, 'Keyword'] = str(keywords_res) if keywords_res != [] else np.nan\n",
        "  train_df.loc[idx, 'Locale'] = str(locale_res) if locale_res != [] else np.nan\n",
        "  train_df.loc[idx, 'Description'] = str(description_res) if description_res != [] else np.nan\n"
      ],
      "execution_count": 315,
      "outputs": [
        {
          "output_type": "stream",
          "text": [
            "15515it [35:49,  7.22it/s]\n"
          ],
          "name": "stderr"
        }
      ]
    },
    {
      "cell_type": "markdown",
      "metadata": {
        "id": "jKXDJRhpu_2n",
        "colab_type": "text"
      },
      "source": [
        "### Locale preprocessing"
      ]
    },
    {
      "cell_type": "code",
      "metadata": {
        "id": "DROoCh-_u-01",
        "colab_type": "code",
        "colab": {}
      },
      "source": [
        "# sl - seldom, ot - other\n",
        "train_df.Locale = train_df.Locale.fillna('[\"ot').apply(lambda x: x[2:4]).map({'ot': 'ot', 'en': 'en', 'ja': 'ja', 'pl':'pl',\n",
        "                                                                              'es': 'sl', 'de': 'sl', 'it': 'sl',\n",
        "                                                                              'fr': 'sl', 'bg': 'sl', 'zh': 'sl',\n",
        "                                                                              'sv': 'sl','nl': 'sl','fi': 'sl',\n",
        "                                                                              'nb': 'sl'})"
      ],
      "execution_count": 0,
      "outputs": []
    },
    {
      "cell_type": "markdown",
      "metadata": {
        "id": "I2g47wEJyGjI",
        "colab_type": "text"
      },
      "source": [
        "### Title preprocessing"
      ]
    },
    {
      "cell_type": "code",
      "metadata": {
        "id": "dVuKHWuCyKbW",
        "colab_type": "code",
        "colab": {}
      },
      "source": [
        "train_df.Title = train_df.Title.fillna('without_title').apply(lambda x: ' '.join(list(set(re.sub(r'[^\\w\\s\\d,\\[\\]]+', '', x).strip('][').lower().split(', ')))))"
      ],
      "execution_count": 0,
      "outputs": []
    },
    {
      "cell_type": "markdown",
      "metadata": {
        "id": "V76q1xP40Vbc",
        "colab_type": "text"
      },
      "source": [
        "### Keyword preprocessing"
      ]
    },
    {
      "cell_type": "code",
      "metadata": {
        "id": "euABvgOzyKYE",
        "colab_type": "code",
        "colab": {}
      },
      "source": [
        "train_df.Keyword = train_df.Keyword.fillna('without_keyword').apply(lambda x: ' '.join(list(set(re.sub(r'[^\\w\\s\\d,\\[\\]]+', '', x).strip('][').lower().split(', ')))))"
      ],
      "execution_count": 0,
      "outputs": []
    },
    {
      "cell_type": "markdown",
      "metadata": {
        "id": "5GS0s_ki0kcH",
        "colab_type": "text"
      },
      "source": [
        "### Description preprocessing"
      ]
    },
    {
      "cell_type": "code",
      "metadata": {
        "id": "CCxiwGXNK6K3",
        "colab_type": "code",
        "colab": {
          "base_uri": "https://localhost:8080/",
          "height": 54
        },
        "outputId": "2da6faf4-b3fe-47b1-9cb0-afed10fa17b6"
      },
      "source": [
        "train_df.Description[95]"
      ],
      "execution_count": 357,
      "outputs": [
        {
          "output_type": "execute_result",
          "data": {
            "text/plain": [
              "'manufacturing and commercializing single use medical devices for health care professionals raffin medical has been developing since 1914 raffin medical is a manufacturer and a distributor of singleuse medical devices for health care professionals'"
            ]
          },
          "metadata": {
            "tags": []
          },
          "execution_count": 357
        }
      ]
    },
    {
      "cell_type": "code",
      "metadata": {
        "id": "9tuggORd0kKc",
        "colab_type": "code",
        "colab": {}
      },
      "source": [
        "train_df.Description = train_df.Description.fillna('without_description').apply(lambda x: ' '.join(list(set(re.sub(r'[^\\w\\s\\d,\\[\\]]+', '', x).strip('][').lower().split(', ')))))"
      ],
      "execution_count": 0,
      "outputs": []
    },
    {
      "cell_type": "code",
      "metadata": {
        "id": "REQWriG9I56p",
        "colab_type": "code",
        "colab": {}
      },
      "source": [
        "train_df.Description = train_df.Description.apply(lambda x: x if re.sub(r'[a-zA-Z0-9\\s\\-_]+', '', x.strip()) == '' else 'wrong_description')"
      ],
      "execution_count": 0,
      "outputs": []
    },
    {
      "cell_type": "markdown",
      "metadata": {
        "id": "4fgKu_h8M9Z3",
        "colab_type": "text"
      },
      "source": [
        "## Keywords (model base) preproccesing"
      ]
    },
    {
      "cell_type": "code",
      "metadata": {
        "id": "4sQI8ORUMUV4",
        "colab_type": "code",
        "colab": {}
      },
      "source": [
        "train_df.keywords = train_df.keywords.apply(lambda x: [re.sub(r'[^\\w\\s\\d]+', ' ', i).lower() for i in x] if x != [] else ['empty_keyword_list'])"
      ],
      "execution_count": 0,
      "outputs": []
    },
    {
      "cell_type": "markdown",
      "metadata": {
        "id": "zJTeWSbxOmWe",
        "colab_type": "text"
      },
      "source": [
        "## Accepted/rejected preproccesing"
      ]
    },
    {
      "cell_type": "code",
      "metadata": {
        "id": "mj491-jfOpCs",
        "colab_type": "code",
        "colab": {}
      },
      "source": [
        "train_df.accepted_function = train_df.accepted_function.apply(lambda x: re.sub(r'[^\\w\\s\\d,]+', ' ', x).lower() if x != '' else x)"
      ],
      "execution_count": 0,
      "outputs": []
    },
    {
      "cell_type": "code",
      "metadata": {
        "id": "s7yW-9ZrOz8P",
        "colab_type": "code",
        "colab": {}
      },
      "source": [
        "train_df.rejected_function = train_df.rejected_function.apply(lambda x: re.sub(r'[^\\w\\s\\d,]+', ' ', x).lower() if x != '' else x)"
      ],
      "execution_count": 0,
      "outputs": []
    },
    {
      "cell_type": "code",
      "metadata": {
        "id": "hitfWm-IPbRL",
        "colab_type": "code",
        "colab": {}
      },
      "source": [
        "train_df.accepted_product = train_df.accepted_product.apply(lambda x: re.sub(r'[^\\w\\s\\d,]+', ' ', x).lower() if x != '' else x)"
      ],
      "execution_count": 0,
      "outputs": []
    },
    {
      "cell_type": "code",
      "metadata": {
        "id": "3kD0JTS_PbH8",
        "colab_type": "code",
        "colab": {}
      },
      "source": [
        "train_df.rejected_product = train_df.rejected_product.apply(lambda x: re.sub(r'[^\\w\\s\\d,]+', ' ', x).lower() if x != '' else x)"
      ],
      "execution_count": 0,
      "outputs": []
    },
    {
      "cell_type": "markdown",
      "metadata": {
        "id": "gaHJt_3IBT_7",
        "colab_type": "text"
      },
      "source": [
        "## Replace NaN like values"
      ]
    },
    {
      "cell_type": "code",
      "metadata": {
        "id": "KDvcKy-T4Uf5",
        "colab_type": "code",
        "colab": {}
      },
      "source": [
        "train_df = train_df.replace(['', '_nan_'], [np.nan, np.nan])"
      ],
      "execution_count": 0,
      "outputs": []
    },
    {
      "cell_type": "markdown",
      "metadata": {
        "id": "-qCswsO9Qcix",
        "colab_type": "text"
      },
      "source": [
        "## Filling keyword and description"
      ]
    },
    {
      "cell_type": "code",
      "metadata": {
        "id": "kA5gy5--QaGx",
        "colab_type": "code",
        "colab": {}
      },
      "source": [
        "train_df.Keyword = train_df.Keyword.fillna('without_keyword')"
      ],
      "execution_count": 0,
      "outputs": []
    },
    {
      "cell_type": "code",
      "metadata": {
        "id": "gtQdnJQwQsXQ",
        "colab_type": "code",
        "colab": {}
      },
      "source": [
        "train_df.Description = train_df.Description.fillna('without_description')"
      ],
      "execution_count": 0,
      "outputs": []
    },
    {
      "cell_type": "markdown",
      "metadata": {
        "id": "VL57KCm9pCR8",
        "colab_type": "text"
      },
      "source": [
        "## Combine all texts and html pages"
      ]
    },
    {
      "cell_type": "code",
      "metadata": {
        "id": "MPTUXylEpBEt",
        "colab_type": "code",
        "colab": {}
      },
      "source": [
        "# :("
      ],
      "execution_count": 0,
      "outputs": []
    },
    {
      "cell_type": "markdown",
      "metadata": {
        "id": "l22w7thUW9TI",
        "colab_type": "text"
      },
      "source": [
        "# EDA"
      ]
    },
    {
      "cell_type": "code",
      "metadata": {
        "id": "LtCgwzcCavl1",
        "colab_type": "code",
        "colab": {
          "base_uri": "https://localhost:8080/",
          "height": 51
        },
        "outputId": "388abb63-731b-4170-bb6e-0f56c5b9f044"
      },
      "source": [
        "print(train_df.text[15][0]) #1439"
      ],
      "execution_count": 469,
      "outputs": [
        {
          "output_type": "stream",
          "text": [
            "This page is being redirected. If it does not load, click https://www.fscables.com/featured_page/antennax--the-ultra-low-loss-coaxial-cable-range.html\n",
            "\n"
          ],
          "name": "stdout"
        }
      ]
    },
    {
      "cell_type": "code",
      "metadata": {
        "id": "ib7jzMMtX3CM",
        "colab_type": "code",
        "colab": {
          "base_uri": "https://localhost:8080/",
          "height": 54
        },
        "outputId": "eb8304d3-4823-4ddb-f003-beefbca42b08"
      },
      "source": [
        "print(str(train_df.html[2028][0]))"
      ],
      "execution_count": 464,
      "outputs": [
        {
          "output_type": "stream",
          "text": [
            "b\"<br />\\n<b>Fatal error</b>:  Uncaught Error: Call to undefined function mcrypt_create_iv() in /home/forumtna/public_html/system/library/encryption.php:8\\nStack trace:\\n#0 /home/forumtna/public_html/index.php(215): Encryption-&gt;__construct('8751d0dc1cb676e...')\\n#1 {main}\\n  thrown in <b>/home/forumtna/public_html/system/library/encryption.php</b> on line <b>8</b><br />\\n\"\n"
          ],
          "name": "stdout"
        }
      ]
    },
    {
      "cell_type": "code",
      "metadata": {
        "id": "Y6kw6ybdSPLg",
        "colab_type": "code",
        "colab": {
          "base_uri": "https://localhost:8080/",
          "height": 85
        },
        "outputId": "f7b173e2-3e39-44b2-a523-5c80a51f4c7b"
      },
      "source": [
        "train_df['target'].value_counts() / train_df['target'].value_counts().sum()"
      ],
      "execution_count": 11,
      "outputs": [
        {
          "output_type": "execute_result",
          "data": {
            "text/plain": [
              "1    0.744892\n",
              "2    0.190139\n",
              "0    0.064969\n",
              "Name: target, dtype: float64"
            ]
          },
          "metadata": {
            "tags": []
          },
          "execution_count": 11
        }
      ]
    },
    {
      "cell_type": "markdown",
      "metadata": {
        "id": "cVvfNOj3oHqY",
        "colab_type": "text"
      },
      "source": [
        "# Feature generation"
      ]
    },
    {
      "cell_type": "code",
      "metadata": {
        "id": "_WG79UABT22V",
        "colab_type": "code",
        "colab": {}
      },
      "source": [
        "train_df['html_page_cnt'] = train_df.html.apply(lambda x: len(x)).astype(np.int16)"
      ],
      "execution_count": 0,
      "outputs": []
    },
    {
      "cell_type": "markdown",
      "metadata": {
        "id": "P9bX-Uu-ZI2P",
        "colab_type": "text"
      },
      "source": [
        "## Mean number of rows in texts"
      ]
    },
    {
      "cell_type": "code",
      "metadata": {
        "id": "IzgHeHnlZU55",
        "colab_type": "code",
        "colab": {}
      },
      "source": [
        "train_df['text_rows_mean'] = train_df.text.apply(lambda x: np.sum([len(i.split('\\n')) for i in x]) // len(x)).astype(np.int16)"
      ],
      "execution_count": 0,
      "outputs": []
    },
    {
      "cell_type": "markdown",
      "metadata": {
        "id": "NnTt-4lualKy",
        "colab_type": "text"
      },
      "source": [
        "## Missing values columns"
      ]
    },
    {
      "cell_type": "code",
      "metadata": {
        "id": "ZiawjapMboJy",
        "colab_type": "code",
        "colab": {}
      },
      "source": [
        "train_df['is_mis_accepted_function'] = pd.isnull(train_df.accepted_function).map({True:1, False:0})"
      ],
      "execution_count": 0,
      "outputs": []
    },
    {
      "cell_type": "code",
      "metadata": {
        "id": "kH8bfz-zccld",
        "colab_type": "code",
        "colab": {}
      },
      "source": [
        "train_df['is_mis_rejected_function'] = pd.isnull(train_df.rejected_function).map({True:1, False:0})"
      ],
      "execution_count": 0,
      "outputs": []
    },
    {
      "cell_type": "code",
      "metadata": {
        "id": "yq5ZnOzQccik",
        "colab_type": "code",
        "colab": {}
      },
      "source": [
        "train_df['is_mis_accepted_product'] = pd.isnull(train_df.accepted_product).map({True:1, False:0})"
      ],
      "execution_count": 0,
      "outputs": []
    },
    {
      "cell_type": "code",
      "metadata": {
        "id": "WDGcdJDxccf3",
        "colab_type": "code",
        "colab": {}
      },
      "source": [
        "train_df['is_mis_rejected_product'] = pd.isnull(train_df.rejected_product).map({True:1, False:0})"
      ],
      "execution_count": 0,
      "outputs": []
    },
    {
      "cell_type": "code",
      "metadata": {
        "id": "eHuxHvM0lKoG",
        "colab_type": "code",
        "colab": {}
      },
      "source": [
        "train_df['is_mis_keyword'] = train_df['keywords'].apply(lambda x: 1 if x == ['empty_keyword_list'] else 0)"
      ],
      "execution_count": 0,
      "outputs": []
    },
    {
      "cell_type": "code",
      "metadata": {
        "id": "GXTJ8kY4oU1K",
        "colab_type": "code",
        "colab": {}
      },
      "source": [
        "train_df = train_df.fillna('is_missing')"
      ],
      "execution_count": 0,
      "outputs": []
    },
    {
      "cell_type": "markdown",
      "metadata": {
        "id": "hNU8j4pmdKcA",
        "colab_type": "text"
      },
      "source": [
        "## Redirect feature"
      ]
    },
    {
      "cell_type": "code",
      "metadata": {
        "id": "M6FjYpwkoWWz",
        "colab_type": "code",
        "colab": {}
      },
      "source": [
        "train_df['have_error'] = train_df.text.apply(lambda x: 1 if (('redirected' in x[0].lower() or 'error' in x[0].lower()) and len(x) == 1) else 0)"
      ],
      "execution_count": 0,
      "outputs": []
    },
    {
      "cell_type": "markdown",
      "metadata": {
        "id": "JLUvcJ3ygiG2",
        "colab_type": "text"
      },
      "source": [
        "## Similarity criteria features (in accepted and rejected)"
      ]
    },
    {
      "cell_type": "code",
      "metadata": {
        "id": "5-dtKxcNghti",
        "colab_type": "code",
        "colab": {}
      },
      "source": [
        "acc_f_rej_f_sim = []\n",
        "for row in train_df.itertuples():\n",
        "  accepted_f = set(row.accepted_function.replace(',', '').split(' '))\n",
        "  rejected_f = set(row.rejected_function.replace(',', '').split(' '))\n",
        "  acc_f_rej_f_sim.append(len(accepted_f.intersection(rejected_f)) / len(accepted_f.union(rejected_f)))\n",
        "\n",
        "train_df['acc_f_rej_f_sim'] = acc_f_rej_f_sim"
      ],
      "execution_count": 0,
      "outputs": []
    },
    {
      "cell_type": "code",
      "metadata": {
        "id": "-SAfbvvfghqw",
        "colab_type": "code",
        "colab": {}
      },
      "source": [
        "acc_p_rej_p_sim = []\n",
        "for row in train_df.itertuples():\n",
        "  accepted_p = set(row.accepted_product.replace(',', '').split(' '))\n",
        "  rejected_p = set(row.rejected_product.replace(',', '').split(' '))\n",
        "  acc_p_rej_p_sim.append(len(accepted_p.intersection(rejected_p)) / len(accepted_p.union(rejected_p)))\n",
        "\n",
        "train_df['acc_p_rej_p_sim'] = acc_p_rej_p_sim"
      ],
      "execution_count": 0,
      "outputs": []
    },
    {
      "cell_type": "code",
      "metadata": {
        "id": "DhbZv9U5ml-K",
        "colab_type": "code",
        "colab": {}
      },
      "source": [
        "kwd_acc_p_sim = []\n",
        "for row in train_df.itertuples():\n",
        "  kwd = set(', '.join(row.keywords).replace(',', '').split(' '))\n",
        "  accepted_p = set(row.accepted_product.replace(',', '').split(' '))\n",
        "  kwd_acc_p_sim.append(len(kwd.intersection(accepted_p)) / len(kwd.union(accepted_p)))\n",
        "\n",
        "train_df['kwd_acc_p_sim'] = kwd_acc_p_sim"
      ],
      "execution_count": 0,
      "outputs": []
    },
    {
      "cell_type": "code",
      "metadata": {
        "id": "umslKveRghnx",
        "colab_type": "code",
        "colab": {}
      },
      "source": [
        "kwd_rej_p_sim = []\n",
        "for row in train_df.itertuples():\n",
        "  kwd = set(', '.join(row.keywords).replace(',', '').split(' '))\n",
        "  rejected_p = set(row.rejected_product.replace(',', '').split(' '))\n",
        "  kwd_rej_p_sim.append(len(kwd.intersection(rejected_p)) / len(kwd.union(rejected_p)))\n",
        "\n",
        "train_df['kwd_rej_p_sim'] = kwd_rej_p_sim"
      ],
      "execution_count": 0,
      "outputs": []
    },
    {
      "cell_type": "code",
      "metadata": {
        "id": "n8aGSNKMghlE",
        "colab_type": "code",
        "colab": {}
      },
      "source": [
        "kwd_acc_f_sim = []\n",
        "for row in train_df.itertuples():\n",
        "  kwd = set(', '.join(row.keywords).replace(',', '').split(' '))\n",
        "  accepted_f = set(row.accepted_function.replace(',', '').split(' '))\n",
        "  kwd_acc_f_sim.append(len(kwd.intersection(accepted_f)) / len(kwd.union(accepted_f)))\n",
        "\n",
        "train_df['kwd_acc_f_sim'] = kwd_acc_f_sim"
      ],
      "execution_count": 0,
      "outputs": []
    },
    {
      "cell_type": "code",
      "metadata": {
        "id": "qkvz91XPghjJ",
        "colab_type": "code",
        "colab": {}
      },
      "source": [
        "kwd_rej_f_sim = []\n",
        "for row in train_df.itertuples():\n",
        "  kwd = set(', '.join(row.keywords).replace(',', '').split(' '))\n",
        "  rejected_f = set(row.rejected_function.replace(',', '').split(' '))\n",
        "  kwd_rej_f_sim.append(len(kwd.intersection(rejected_f)) / len(kwd.union(rejected_f)))\n",
        "\n",
        "train_df['kwd_rej_f_sim'] = kwd_rej_f_sim"
      ],
      "execution_count": 0,
      "outputs": []
    },
    {
      "cell_type": "code",
      "metadata": {
        "id": "J3u7x0YyghgJ",
        "colab_type": "code",
        "colab": {}
      },
      "source": [
        "train_df['dif_kwd_acc_p_rej_p'] = train_df['kwd_acc_p_sim'] - train_df['kwd_rej_p_sim']\n",
        "train_df['dif_kwd_acc_j_rej_j'] = train_df['kwd_acc_f_sim'] - train_df['kwd_rej_f_sim']"
      ],
      "execution_count": 0,
      "outputs": []
    },
    {
      "cell_type": "markdown",
      "metadata": {
        "id": "DLdVVUP5scbF",
        "colab_type": "text"
      },
      "source": [
        "## All accepted and rejected fraction"
      ]
    },
    {
      "cell_type": "code",
      "metadata": {
        "id": "4KmspEjjeaK2",
        "colab_type": "code",
        "colab": {}
      },
      "source": [
        "all_accepted_function = set()\n",
        "all_rejected_function = set()\n",
        "\n",
        "all_accepted_product = set()\n",
        "all_rejected_product = set()"
      ],
      "execution_count": 0,
      "outputs": []
    },
    {
      "cell_type": "code",
      "metadata": {
        "id": "D1lwt9o0tX3P",
        "colab_type": "code",
        "colab": {}
      },
      "source": [
        "for row in train_df.itertuples():\n",
        "  all_accepted_function = all_accepted_function.union(set(row.accepted_function.split(', ')))\n",
        "  all_rejected_function = all_rejected_function.union(set(row.rejected_function.split(', ')))\n",
        "  all_accepted_product = all_accepted_product.union(set(row.accepted_product.split(', ')))\n",
        "  all_rejected_product = all_rejected_product.union(set(row.rejected_product.split(', ')))"
      ],
      "execution_count": 0,
      "outputs": []
    },
    {
      "cell_type": "code",
      "metadata": {
        "id": "PWAIH_LotX0G",
        "colab_type": "code",
        "colab": {}
      },
      "source": [
        "frc_acc_f = []\n",
        "frc_rej_f = []\n",
        "frc_acc_p = []\n",
        "frc_rej_p = []\n",
        "\n",
        "for row in train_df.itertuples():\n",
        "  frc_acc_f.append(len(set(row.accepted_function.split(', '))) / len(all_accepted_function))\n",
        "  frc_rej_f.append(len(set(row.rejected_function.split(', '))) / len(all_rejected_function))\n",
        "\n",
        "  frc_acc_p.append(len(set(row.accepted_product.split(', '))) / len(all_accepted_product))\n",
        "  frc_rej_p.append(len(set(row.rejected_product.split(', '))) / len(all_rejected_product))\n",
        "\n",
        "train_df['frc_acc_f'] = frc_acc_f\n",
        "train_df['frc_rej_f'] = frc_rej_f\n",
        "train_df['frc_acc_p'] = frc_acc_p\n",
        "train_df['frc_rej_p'] = frc_rej_p"
      ],
      "execution_count": 0,
      "outputs": []
    },
    {
      "cell_type": "code",
      "metadata": {
        "id": "4QOY25d2yfNM",
        "colab_type": "code",
        "colab": {}
      },
      "source": [
        ""
      ],
      "execution_count": 0,
      "outputs": []
    },
    {
      "cell_type": "code",
      "metadata": {
        "id": "kz9Bhny8yfLx",
        "colab_type": "code",
        "colab": {}
      },
      "source": [
        ""
      ],
      "execution_count": 0,
      "outputs": []
    },
    {
      "cell_type": "code",
      "metadata": {
        "id": "1BfqN5oiyfEU",
        "colab_type": "code",
        "colab": {}
      },
      "source": [
        ""
      ],
      "execution_count": 0,
      "outputs": []
    },
    {
      "cell_type": "code",
      "metadata": {
        "id": "4MWS44M2ye-2",
        "colab_type": "code",
        "colab": {}
      },
      "source": [
        ""
      ],
      "execution_count": 0,
      "outputs": []
    },
    {
      "cell_type": "code",
      "metadata": {
        "id": "LTzcFOEqye8A",
        "colab_type": "code",
        "colab": {}
      },
      "source": [
        ""
      ],
      "execution_count": 0,
      "outputs": []
    },
    {
      "cell_type": "code",
      "metadata": {
        "id": "OCeOcn21tXw-",
        "colab_type": "code",
        "colab": {
          "base_uri": "https://localhost:8080/",
          "height": 983
        },
        "outputId": "4a12d32f-0a0a-483b-9f7f-bfd317e6ca56"
      },
      "source": [
        "train_df"
      ],
      "execution_count": 533,
      "outputs": [
        {
          "output_type": "execute_result",
          "data": {
            "text/html": [
              "<div>\n",
              "<style scoped>\n",
              "    .dataframe tbody tr th:only-of-type {\n",
              "        vertical-align: middle;\n",
              "    }\n",
              "\n",
              "    .dataframe tbody tr th {\n",
              "        vertical-align: top;\n",
              "    }\n",
              "\n",
              "    .dataframe thead th {\n",
              "        text-align: right;\n",
              "    }\n",
              "</style>\n",
              "<table border=\"1\" class=\"dataframe\">\n",
              "  <thead>\n",
              "    <tr style=\"text-align: right;\">\n",
              "      <th></th>\n",
              "      <th>id</th>\n",
              "      <th>html</th>\n",
              "      <th>text</th>\n",
              "      <th>keywords</th>\n",
              "      <th>accepted_function</th>\n",
              "      <th>rejected_function</th>\n",
              "      <th>accepted_product</th>\n",
              "      <th>rejected_product</th>\n",
              "      <th>target</th>\n",
              "      <th>Title</th>\n",
              "      <th>Keyword</th>\n",
              "      <th>Locale</th>\n",
              "      <th>Description</th>\n",
              "      <th>html_page_cnt</th>\n",
              "      <th>text_rows_mean</th>\n",
              "      <th>is_mis_accepted_function</th>\n",
              "      <th>is_mis_rejected_function</th>\n",
              "      <th>is_mis_accepted_product</th>\n",
              "      <th>is_mis_rejected_product</th>\n",
              "      <th>have_error</th>\n",
              "      <th>acc_f_rej_f_sim</th>\n",
              "      <th>acc_p_rej_p_sim</th>\n",
              "      <th>is_mis_keyword</th>\n",
              "      <th>kwd_acc_p_sim</th>\n",
              "      <th>kwd_rej_p_sim</th>\n",
              "      <th>kwd_acc_f_sim</th>\n",
              "      <th>kwd_rej_f_sim</th>\n",
              "      <th>dif_kwd_acc_p_rej_p</th>\n",
              "      <th>dif_kwd_acc_j_rej_j</th>\n",
              "      <th>frc_acc_f</th>\n",
              "      <th>frc_rej_f</th>\n",
              "      <th>frc_acc_p</th>\n",
              "      <th>frc_rej_p</th>\n",
              "    </tr>\n",
              "  </thead>\n",
              "  <tbody>\n",
              "    <tr>\n",
              "      <th>0</th>\n",
              "      <td>b811ea46-1bc5-4a18-a64c-7504c382da44</td>\n",
              "      <td>[b'&lt;!DOCTYPE html&gt;\\n&lt;html lang=\"en\" class=\"pre...</td>\n",
              "      <td>[Release\\n2020\\n2019\\n2018\\n2017\\n2020\\n2019\\n...</td>\n",
              "      <td>[tools, services, projects, incubates, investm...</td>\n",
              "      <td>accounting, bookeeping, auditing, finance, hr,...</td>\n",
              "      <td>manufacture production processing assembly, re...</td>\n",
              "      <td>is_missing</td>\n",
              "      <td>is_missing</td>\n",
              "      <td>2</td>\n",
              "      <td>about dream incubator  di company  di</td>\n",
              "      <td>without_keyword</td>\n",
              "      <td>ot</td>\n",
              "      <td>wrong_description</td>\n",
              "      <td>2</td>\n",
              "      <td>73</td>\n",
              "      <td>0</td>\n",
              "      <td>0</td>\n",
              "      <td>1</td>\n",
              "      <td>1</td>\n",
              "      <td>0</td>\n",
              "      <td>0.000000</td>\n",
              "      <td>1.000000</td>\n",
              "      <td>0</td>\n",
              "      <td>0.000000</td>\n",
              "      <td>0.00</td>\n",
              "      <td>0.047619</td>\n",
              "      <td>0.044776</td>\n",
              "      <td>0.000000</td>\n",
              "      <td>0.002843</td>\n",
              "      <td>0.018265</td>\n",
              "      <td>0.011785</td>\n",
              "      <td>0.002597</td>\n",
              "      <td>0.004149</td>\n",
              "    </tr>\n",
              "    <tr>\n",
              "      <th>1</th>\n",
              "      <td>b5e3f6d4-30bc-443c-a9d6-8ed41d5c33b3</td>\n",
              "      <td>[b'&lt;!DOCTYPE html&gt;\\n&lt;html lang=\"en-US\"&gt;\\n  &lt;he...</td>\n",
              "      <td>[SAP Integrated Business Planning (IBP)\\nSAP A...</td>\n",
              "      <td>[budgeting, decision, cycles, closing, simplif...</td>\n",
              "      <td>it consultancy, it support services, it manage...</td>\n",
              "      <td>distribution, sale, trade, wholesale, retail s...</td>\n",
              "      <td>is_missing</td>\n",
              "      <td>is_missing</td>\n",
              "      <td>2</td>\n",
              "      <td>sap bpc business planning and consolidation  s...</td>\n",
              "      <td>without_keyword</td>\n",
              "      <td>en</td>\n",
              "      <td>forecasting and consolidation processes of you...</td>\n",
              "      <td>1</td>\n",
              "      <td>48</td>\n",
              "      <td>0</td>\n",
              "      <td>0</td>\n",
              "      <td>1</td>\n",
              "      <td>1</td>\n",
              "      <td>0</td>\n",
              "      <td>0.061224</td>\n",
              "      <td>1.000000</td>\n",
              "      <td>0</td>\n",
              "      <td>0.000000</td>\n",
              "      <td>0.00</td>\n",
              "      <td>0.000000</td>\n",
              "      <td>0.000000</td>\n",
              "      <td>0.000000</td>\n",
              "      <td>0.000000</td>\n",
              "      <td>0.019787</td>\n",
              "      <td>0.023569</td>\n",
              "      <td>0.002597</td>\n",
              "      <td>0.004149</td>\n",
              "    </tr>\n",
              "    <tr>\n",
              "      <th>2</th>\n",
              "      <td>997ae1ab-93c4-45a9-9bd0-a49b2b952f1f</td>\n",
              "      <td>[b'&lt;!doctype html&gt;\\n&lt;html lang=\"en-US\"&gt;\\n&lt;head...</td>\n",
              "      <td>[facebook\\ntwitter\\nlinkedin\\ninstagram\\nWelco...</td>\n",
              "      <td>[empty_keyword_list]</td>\n",
              "      <td>general accounting, auditing, book keeping act...</td>\n",
              "      <td>manufacture, production, processing, distribut...</td>\n",
              "      <td>is_missing</td>\n",
              "      <td>is_missing</td>\n",
              "      <td>1</td>\n",
              "      <td>home  ams media group cookie policy  ams media...</td>\n",
              "      <td>without_keyword</td>\n",
              "      <td>en</td>\n",
              "      <td>a fully accredited independent media planning ...</td>\n",
              "      <td>2</td>\n",
              "      <td>72</td>\n",
              "      <td>0</td>\n",
              "      <td>0</td>\n",
              "      <td>1</td>\n",
              "      <td>1</td>\n",
              "      <td>0</td>\n",
              "      <td>0.117647</td>\n",
              "      <td>1.000000</td>\n",
              "      <td>1</td>\n",
              "      <td>0.000000</td>\n",
              "      <td>0.00</td>\n",
              "      <td>0.000000</td>\n",
              "      <td>0.000000</td>\n",
              "      <td>0.000000</td>\n",
              "      <td>0.000000</td>\n",
              "      <td>0.031963</td>\n",
              "      <td>0.045455</td>\n",
              "      <td>0.002597</td>\n",
              "      <td>0.004149</td>\n",
              "    </tr>\n",
              "    <tr>\n",
              "      <th>3</th>\n",
              "      <td>6890f2f1-bdc1-48cb-bf7f-00944eb37e77</td>\n",
              "      <td>[b'&lt;?xml version=\"1.0\" encoding=\"iso-8859-1\"?&gt;...</td>\n",
              "      <td>[ANDERSON BUSINESS TRAVEL\\nSpecialist Independ...</td>\n",
              "      <td>[provide, service, financial, arranging, trave...</td>\n",
              "      <td>insurance brokerage, insurance agents, travel ...</td>\n",
              "      <td>software development, wholesale, retail sale, ...</td>\n",
              "      <td>is_missing</td>\n",
              "      <td>is_missing</td>\n",
              "      <td>2</td>\n",
              "      <td>without_title</td>\n",
              "      <td>without_keyword</td>\n",
              "      <td>ot</td>\n",
              "      <td>without_description</td>\n",
              "      <td>2</td>\n",
              "      <td>11</td>\n",
              "      <td>0</td>\n",
              "      <td>0</td>\n",
              "      <td>1</td>\n",
              "      <td>1</td>\n",
              "      <td>0</td>\n",
              "      <td>0.024390</td>\n",
              "      <td>1.000000</td>\n",
              "      <td>0</td>\n",
              "      <td>0.000000</td>\n",
              "      <td>0.00</td>\n",
              "      <td>0.083333</td>\n",
              "      <td>0.000000</td>\n",
              "      <td>0.000000</td>\n",
              "      <td>0.083333</td>\n",
              "      <td>0.015221</td>\n",
              "      <td>0.023569</td>\n",
              "      <td>0.002597</td>\n",
              "      <td>0.004149</td>\n",
              "    </tr>\n",
              "    <tr>\n",
              "      <th>4</th>\n",
              "      <td>74a95f04-e440-4af0-850a-eec5a44ba397</td>\n",
              "      <td>[b'\\r\\n\\r\\n&lt;!DOCTYPE html&gt;\\r\\n\\r\\n&lt;html xmlns=...</td>\n",
              "      <td>[Amari Ireland Ltd\\nStandards\\nPeople\\nQuality...</td>\n",
              "      <td>[independent, centre, forms, copper, bronze, s...</td>\n",
              "      <td>sales agent and sales representative, product ...</td>\n",
              "      <td>manufacture, production, processing and retail...</td>\n",
              "      <td>product, motor vehicles, buses and trucks, mot...</td>\n",
              "      <td>is_missing</td>\n",
              "      <td>1</td>\n",
              "      <td>without_title</td>\n",
              "      <td>uk metals suppliers marine aluminium stainless...</td>\n",
              "      <td>ot</td>\n",
              "      <td>without_description</td>\n",
              "      <td>2</td>\n",
              "      <td>40</td>\n",
              "      <td>0</td>\n",
              "      <td>0</td>\n",
              "      <td>0</td>\n",
              "      <td>1</td>\n",
              "      <td>0</td>\n",
              "      <td>0.041667</td>\n",
              "      <td>0.000000</td>\n",
              "      <td>0</td>\n",
              "      <td>0.064516</td>\n",
              "      <td>0.00</td>\n",
              "      <td>0.018519</td>\n",
              "      <td>0.018868</td>\n",
              "      <td>0.064516</td>\n",
              "      <td>-0.000349</td>\n",
              "      <td>0.010654</td>\n",
              "      <td>0.010101</td>\n",
              "      <td>0.036364</td>\n",
              "      <td>0.004149</td>\n",
              "    </tr>\n",
              "    <tr>\n",
              "      <th>...</th>\n",
              "      <td>...</td>\n",
              "      <td>...</td>\n",
              "      <td>...</td>\n",
              "      <td>...</td>\n",
              "      <td>...</td>\n",
              "      <td>...</td>\n",
              "      <td>...</td>\n",
              "      <td>...</td>\n",
              "      <td>...</td>\n",
              "      <td>...</td>\n",
              "      <td>...</td>\n",
              "      <td>...</td>\n",
              "      <td>...</td>\n",
              "      <td>...</td>\n",
              "      <td>...</td>\n",
              "      <td>...</td>\n",
              "      <td>...</td>\n",
              "      <td>...</td>\n",
              "      <td>...</td>\n",
              "      <td>...</td>\n",
              "      <td>...</td>\n",
              "      <td>...</td>\n",
              "      <td>...</td>\n",
              "      <td>...</td>\n",
              "      <td>...</td>\n",
              "      <td>...</td>\n",
              "      <td>...</td>\n",
              "      <td>...</td>\n",
              "      <td>...</td>\n",
              "      <td>...</td>\n",
              "      <td>...</td>\n",
              "      <td>...</td>\n",
              "      <td>...</td>\n",
              "    </tr>\n",
              "    <tr>\n",
              "      <th>15510</th>\n",
              "      <td>0ea4fb41-d5d8-4086-aceb-ced6665562c1</td>\n",
              "      <td>[b'&lt;!DOCTYPE html&gt;\\n&lt;html&gt;\\n&lt;head&gt;\\n&lt;meta http...</td>\n",
              "      <td>[About Thule Group\\nStrategic building blocks\\...</td>\n",
              "      <td>[enthusiasts, duffel, chain, reports, industry...</td>\n",
              "      <td>general accounting, auditing, book keeping act...</td>\n",
              "      <td>manufacture, production, processing, distribut...</td>\n",
              "      <td>is_missing</td>\n",
              "      <td>is_missing</td>\n",
              "      <td>1</td>\n",
              "      <td>about thule group what we are about</td>\n",
              "      <td>without_keyword</td>\n",
              "      <td>ot</td>\n",
              "      <td>simplified captures the ambition of how we dev...</td>\n",
              "      <td>2</td>\n",
              "      <td>135</td>\n",
              "      <td>0</td>\n",
              "      <td>0</td>\n",
              "      <td>1</td>\n",
              "      <td>1</td>\n",
              "      <td>0</td>\n",
              "      <td>0.087719</td>\n",
              "      <td>1.000000</td>\n",
              "      <td>0</td>\n",
              "      <td>0.000000</td>\n",
              "      <td>0.00</td>\n",
              "      <td>0.025974</td>\n",
              "      <td>0.021505</td>\n",
              "      <td>0.000000</td>\n",
              "      <td>0.004469</td>\n",
              "      <td>0.022831</td>\n",
              "      <td>0.042088</td>\n",
              "      <td>0.002597</td>\n",
              "      <td>0.004149</td>\n",
              "    </tr>\n",
              "    <tr>\n",
              "      <th>15511</th>\n",
              "      <td>7563c3e1-0ab0-415a-b565-b8f71e097014</td>\n",
              "      <td>[b'\\xef\\xbb\\xbf&lt;!doctype html&gt;\\r\\n&lt;html&gt;\\r\\n&lt;h...</td>\n",
              "      <td>[Solutions\\nEnterprise\\nBank\\nConstruction\\nSc...</td>\n",
              "      <td>[empty_keyword_list]</td>\n",
              "      <td>accounting, bookeeping, auditing, finance, hr,...</td>\n",
              "      <td>manufacture production processing assembly, re...</td>\n",
              "      <td>is_missing</td>\n",
              "      <td>is_missing</td>\n",
              "      <td>1</td>\n",
              "      <td>without_title</td>\n",
              "      <td>aboutweds solutions</td>\n",
              "      <td>ot</td>\n",
              "      <td>aboutweds solutions</td>\n",
              "      <td>2</td>\n",
              "      <td>54</td>\n",
              "      <td>0</td>\n",
              "      <td>0</td>\n",
              "      <td>1</td>\n",
              "      <td>1</td>\n",
              "      <td>0</td>\n",
              "      <td>0.000000</td>\n",
              "      <td>1.000000</td>\n",
              "      <td>1</td>\n",
              "      <td>0.000000</td>\n",
              "      <td>0.00</td>\n",
              "      <td>0.000000</td>\n",
              "      <td>0.000000</td>\n",
              "      <td>0.000000</td>\n",
              "      <td>0.000000</td>\n",
              "      <td>0.018265</td>\n",
              "      <td>0.011785</td>\n",
              "      <td>0.002597</td>\n",
              "      <td>0.004149</td>\n",
              "    </tr>\n",
              "    <tr>\n",
              "      <th>15512</th>\n",
              "      <td>9ed7c052-8e38-4e89-a0df-88fadeef66ab</td>\n",
              "      <td>[b'&lt;!DOCTYPE html&gt;\\n&lt;html lang=\"en-US\"&gt;\\n&lt;head...</td>\n",
              "      <td>[[wpml_language_switcher]\\nSearch\\nCompany\\nCo...</td>\n",
              "      <td>[transfusion, connectors, infusion, blood, pre...</td>\n",
              "      <td>management consultancy, business management, s...</td>\n",
              "      <td>manufacture, production, research, development...</td>\n",
              "      <td>is_missing</td>\n",
              "      <td>is_missing</td>\n",
              "      <td>1</td>\n",
              "      <td>codan products  quality  reliability  precisio...</td>\n",
              "      <td>without_keyword</td>\n",
              "      <td>en</td>\n",
              "      <td>60 years of research  development of infusion ...</td>\n",
              "      <td>2</td>\n",
              "      <td>131</td>\n",
              "      <td>0</td>\n",
              "      <td>0</td>\n",
              "      <td>1</td>\n",
              "      <td>1</td>\n",
              "      <td>0</td>\n",
              "      <td>0.050000</td>\n",
              "      <td>1.000000</td>\n",
              "      <td>0</td>\n",
              "      <td>0.000000</td>\n",
              "      <td>0.00</td>\n",
              "      <td>0.030769</td>\n",
              "      <td>0.045455</td>\n",
              "      <td>0.000000</td>\n",
              "      <td>-0.014685</td>\n",
              "      <td>0.015221</td>\n",
              "      <td>0.053872</td>\n",
              "      <td>0.002597</td>\n",
              "      <td>0.004149</td>\n",
              "    </tr>\n",
              "    <tr>\n",
              "      <th>15513</th>\n",
              "      <td>628a2283-3196-46b1-8968-9518d7a877f2</td>\n",
              "      <td>[b'&lt;!DOCTYPE html PUBLIC \"-//W3C//DTD XHTML 1....</td>\n",
              "      <td>[HOME About AIT\\nAIT is an integrated logistic...</td>\n",
              "      <td>[forwarding railroad, customs, domestic, trade...</td>\n",
              "      <td>management consultancy, business and strategic...</td>\n",
              "      <td>manufacture and production activities, researc...</td>\n",
              "      <td>is_missing</td>\n",
              "      <td>is_missing</td>\n",
              "      <td>1</td>\n",
              "      <td>without_title</td>\n",
              "      <td>without_keyword</td>\n",
              "      <td>ot</td>\n",
              "      <td>without_description</td>\n",
              "      <td>2</td>\n",
              "      <td>25</td>\n",
              "      <td>0</td>\n",
              "      <td>0</td>\n",
              "      <td>1</td>\n",
              "      <td>1</td>\n",
              "      <td>0</td>\n",
              "      <td>0.096154</td>\n",
              "      <td>1.000000</td>\n",
              "      <td>0</td>\n",
              "      <td>0.000000</td>\n",
              "      <td>0.00</td>\n",
              "      <td>0.028986</td>\n",
              "      <td>0.037975</td>\n",
              "      <td>0.000000</td>\n",
              "      <td>-0.008989</td>\n",
              "      <td>0.024353</td>\n",
              "      <td>0.031987</td>\n",
              "      <td>0.002597</td>\n",
              "      <td>0.004149</td>\n",
              "    </tr>\n",
              "    <tr>\n",
              "      <th>15514</th>\n",
              "      <td>924c39d3-e66f-43ff-8b30-1d003bc71ab0</td>\n",
              "      <td>[b'&lt;!DOCTYPE html&gt;\\n&lt;html lang=\"en\"&gt;\\n&lt;head&gt;\\n...</td>\n",
              "      <td>[Contact\\nLocations\\nExtranet\\nSkip navigation...</td>\n",
              "      <td>[shading, tools, poilicy, climate, control, sm...</td>\n",
              "      <td>manufacture, production, development, design, ...</td>\n",
              "      <td>retail, distribution and wholesale, leasing, h...</td>\n",
              "      <td>product, air conditioning products, cooling eq...</td>\n",
              "      <td>product, metal products and furniture, batteri...</td>\n",
              "      <td>1</td>\n",
              "      <td>without_title</td>\n",
              "      <td>without_keyword</td>\n",
              "      <td>ot</td>\n",
              "      <td>without_description</td>\n",
              "      <td>2</td>\n",
              "      <td>355</td>\n",
              "      <td>0</td>\n",
              "      <td>0</td>\n",
              "      <td>0</td>\n",
              "      <td>0</td>\n",
              "      <td>0</td>\n",
              "      <td>0.071429</td>\n",
              "      <td>0.176471</td>\n",
              "      <td>0</td>\n",
              "      <td>0.024390</td>\n",
              "      <td>0.05</td>\n",
              "      <td>0.055556</td>\n",
              "      <td>0.000000</td>\n",
              "      <td>-0.025610</td>\n",
              "      <td>0.055556</td>\n",
              "      <td>0.007610</td>\n",
              "      <td>0.008418</td>\n",
              "      <td>0.010390</td>\n",
              "      <td>0.020747</td>\n",
              "    </tr>\n",
              "  </tbody>\n",
              "</table>\n",
              "<p>15515 rows × 33 columns</p>\n",
              "</div>"
            ],
            "text/plain": [
              "                                         id  ... frc_rej_p\n",
              "0      b811ea46-1bc5-4a18-a64c-7504c382da44  ...  0.004149\n",
              "1      b5e3f6d4-30bc-443c-a9d6-8ed41d5c33b3  ...  0.004149\n",
              "2      997ae1ab-93c4-45a9-9bd0-a49b2b952f1f  ...  0.004149\n",
              "3      6890f2f1-bdc1-48cb-bf7f-00944eb37e77  ...  0.004149\n",
              "4      74a95f04-e440-4af0-850a-eec5a44ba397  ...  0.004149\n",
              "...                                     ...  ...       ...\n",
              "15510  0ea4fb41-d5d8-4086-aceb-ced6665562c1  ...  0.004149\n",
              "15511  7563c3e1-0ab0-415a-b565-b8f71e097014  ...  0.004149\n",
              "15512  9ed7c052-8e38-4e89-a0df-88fadeef66ab  ...  0.004149\n",
              "15513  628a2283-3196-46b1-8968-9518d7a877f2  ...  0.004149\n",
              "15514  924c39d3-e66f-43ff-8b30-1d003bc71ab0  ...  0.020747\n",
              "\n",
              "[15515 rows x 33 columns]"
            ]
          },
          "metadata": {
            "tags": []
          },
          "execution_count": 533
        }
      ]
    },
    {
      "cell_type": "code",
      "metadata": {
        "id": "XuOliNN0okSX",
        "colab_type": "code",
        "colab": {
          "base_uri": "https://localhost:8080/",
          "height": 163
        },
        "outputId": "b6c4d083-683b-48e6-dc99-b2eb0c861a7d"
      },
      "source": [
        "train_df"
      ],
      "execution_count": 1,
      "outputs": [
        {
          "output_type": "error",
          "ename": "NameError",
          "evalue": "ignored",
          "traceback": [
            "\u001b[0;31m---------------------------------------------------------------------------\u001b[0m",
            "\u001b[0;31mNameError\u001b[0m                                 Traceback (most recent call last)",
            "\u001b[0;32m<ipython-input-1-ef797c2b3b5b>\u001b[0m in \u001b[0;36m<module>\u001b[0;34m()\u001b[0m\n\u001b[0;32m----> 1\u001b[0;31m \u001b[0mtrain_df\u001b[0m\u001b[0;34m\u001b[0m\u001b[0;34m\u001b[0m\u001b[0m\n\u001b[0m",
            "\u001b[0;31mNameError\u001b[0m: name 'train_df' is not defined"
          ]
        }
      ]
    },
    {
      "cell_type": "code",
      "metadata": {
        "id": "0LKPQnmPokPH",
        "colab_type": "code",
        "colab": {}
      },
      "source": [
        ""
      ],
      "execution_count": 0,
      "outputs": []
    }
  ]
}