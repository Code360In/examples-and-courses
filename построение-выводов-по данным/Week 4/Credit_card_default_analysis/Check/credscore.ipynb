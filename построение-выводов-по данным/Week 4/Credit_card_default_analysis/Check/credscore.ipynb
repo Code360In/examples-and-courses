{
 "cells": [
  {
   "cell_type": "code",
   "execution_count": 64,
   "metadata": {},
   "outputs": [],
   "source": [
    "import statsmodels\n",
    "import scipy as sc\n",
    "import numpy as np\n",
    "import pandas as pd\n",
    "import statsmodels.formula.api as smf\n",
    "import statsmodels.stats.api as sms\n",
    "import statsmodels.stats.multitest as smm\n",
    "from statsmodels.stats.weightstats import *\n",
    "from statsmodels.graphics.regressionplots import plot_leverage_resid2\n",
    "from statsmodels.stats.proportion import proportion_confint\n",
    "\n",
    "from statsmodels.stats.descriptivestats import sign_test\n",
    "from statsmodels.stats.weightstats import zconfint\n",
    "from statsmodels.stats.weightstats import *\n",
    "\n",
    "%matplotlib inline\n",
    "import matplotlib.pyplot as plt"
   ]
  },
  {
   "cell_type": "code",
   "execution_count": 3,
   "metadata": {},
   "outputs": [
    {
     "data": {
      "text/html": [
       "<div>\n",
       "<style scoped>\n",
       "    .dataframe tbody tr th:only-of-type {\n",
       "        vertical-align: middle;\n",
       "    }\n",
       "\n",
       "    .dataframe tbody tr th {\n",
       "        vertical-align: top;\n",
       "    }\n",
       "\n",
       "    .dataframe thead th {\n",
       "        text-align: right;\n",
       "    }\n",
       "</style>\n",
       "<table border=\"1\" class=\"dataframe\">\n",
       "  <thead>\n",
       "    <tr style=\"text-align: right;\">\n",
       "      <th></th>\n",
       "      <th>ID</th>\n",
       "      <th>LIMIT_BAL</th>\n",
       "      <th>SEX</th>\n",
       "      <th>EDUCATION</th>\n",
       "      <th>MARRIAGE</th>\n",
       "      <th>AGE</th>\n",
       "      <th>PAY_0</th>\n",
       "      <th>PAY_2</th>\n",
       "      <th>PAY_3</th>\n",
       "      <th>PAY_4</th>\n",
       "      <th>...</th>\n",
       "      <th>BILL_AMT4</th>\n",
       "      <th>BILL_AMT5</th>\n",
       "      <th>BILL_AMT6</th>\n",
       "      <th>PAY_AMT1</th>\n",
       "      <th>PAY_AMT2</th>\n",
       "      <th>PAY_AMT3</th>\n",
       "      <th>PAY_AMT4</th>\n",
       "      <th>PAY_AMT5</th>\n",
       "      <th>PAY_AMT6</th>\n",
       "      <th>default</th>\n",
       "    </tr>\n",
       "  </thead>\n",
       "  <tbody>\n",
       "    <tr>\n",
       "      <th>0</th>\n",
       "      <td>1</td>\n",
       "      <td>20000</td>\n",
       "      <td>2</td>\n",
       "      <td>2</td>\n",
       "      <td>1</td>\n",
       "      <td>24</td>\n",
       "      <td>2</td>\n",
       "      <td>2</td>\n",
       "      <td>0</td>\n",
       "      <td>0</td>\n",
       "      <td>...</td>\n",
       "      <td>0</td>\n",
       "      <td>0</td>\n",
       "      <td>0</td>\n",
       "      <td>0</td>\n",
       "      <td>689</td>\n",
       "      <td>0</td>\n",
       "      <td>0</td>\n",
       "      <td>0</td>\n",
       "      <td>0</td>\n",
       "      <td>1</td>\n",
       "    </tr>\n",
       "    <tr>\n",
       "      <th>1</th>\n",
       "      <td>2</td>\n",
       "      <td>120000</td>\n",
       "      <td>2</td>\n",
       "      <td>2</td>\n",
       "      <td>2</td>\n",
       "      <td>26</td>\n",
       "      <td>0</td>\n",
       "      <td>2</td>\n",
       "      <td>0</td>\n",
       "      <td>0</td>\n",
       "      <td>...</td>\n",
       "      <td>3272</td>\n",
       "      <td>3455</td>\n",
       "      <td>3261</td>\n",
       "      <td>0</td>\n",
       "      <td>1000</td>\n",
       "      <td>1000</td>\n",
       "      <td>1000</td>\n",
       "      <td>0</td>\n",
       "      <td>2000</td>\n",
       "      <td>1</td>\n",
       "    </tr>\n",
       "    <tr>\n",
       "      <th>2</th>\n",
       "      <td>3</td>\n",
       "      <td>90000</td>\n",
       "      <td>2</td>\n",
       "      <td>2</td>\n",
       "      <td>2</td>\n",
       "      <td>34</td>\n",
       "      <td>0</td>\n",
       "      <td>0</td>\n",
       "      <td>0</td>\n",
       "      <td>0</td>\n",
       "      <td>...</td>\n",
       "      <td>14331</td>\n",
       "      <td>14948</td>\n",
       "      <td>15549</td>\n",
       "      <td>1518</td>\n",
       "      <td>1500</td>\n",
       "      <td>1000</td>\n",
       "      <td>1000</td>\n",
       "      <td>1000</td>\n",
       "      <td>5000</td>\n",
       "      <td>0</td>\n",
       "    </tr>\n",
       "    <tr>\n",
       "      <th>3</th>\n",
       "      <td>4</td>\n",
       "      <td>50000</td>\n",
       "      <td>2</td>\n",
       "      <td>2</td>\n",
       "      <td>1</td>\n",
       "      <td>37</td>\n",
       "      <td>0</td>\n",
       "      <td>0</td>\n",
       "      <td>0</td>\n",
       "      <td>0</td>\n",
       "      <td>...</td>\n",
       "      <td>28314</td>\n",
       "      <td>28959</td>\n",
       "      <td>29547</td>\n",
       "      <td>2000</td>\n",
       "      <td>2019</td>\n",
       "      <td>1200</td>\n",
       "      <td>1100</td>\n",
       "      <td>1069</td>\n",
       "      <td>1000</td>\n",
       "      <td>0</td>\n",
       "    </tr>\n",
       "    <tr>\n",
       "      <th>4</th>\n",
       "      <td>5</td>\n",
       "      <td>50000</td>\n",
       "      <td>1</td>\n",
       "      <td>2</td>\n",
       "      <td>1</td>\n",
       "      <td>57</td>\n",
       "      <td>0</td>\n",
       "      <td>0</td>\n",
       "      <td>0</td>\n",
       "      <td>0</td>\n",
       "      <td>...</td>\n",
       "      <td>20940</td>\n",
       "      <td>19146</td>\n",
       "      <td>19131</td>\n",
       "      <td>2000</td>\n",
       "      <td>36681</td>\n",
       "      <td>10000</td>\n",
       "      <td>9000</td>\n",
       "      <td>689</td>\n",
       "      <td>679</td>\n",
       "      <td>0</td>\n",
       "    </tr>\n",
       "  </tbody>\n",
       "</table>\n",
       "<p>5 rows × 25 columns</p>\n",
       "</div>"
      ],
      "text/plain": [
       "   ID  LIMIT_BAL  SEX  EDUCATION  MARRIAGE  AGE  PAY_0  PAY_2  PAY_3  PAY_4  \\\n",
       "0   1      20000    2          2         1   24      2      2      0      0   \n",
       "1   2     120000    2          2         2   26      0      2      0      0   \n",
       "2   3      90000    2          2         2   34      0      0      0      0   \n",
       "3   4      50000    2          2         1   37      0      0      0      0   \n",
       "4   5      50000    1          2         1   57      0      0      0      0   \n",
       "\n",
       "    ...     BILL_AMT4  BILL_AMT5  BILL_AMT6  PAY_AMT1  PAY_AMT2  PAY_AMT3  \\\n",
       "0   ...             0          0          0         0       689         0   \n",
       "1   ...          3272       3455       3261         0      1000      1000   \n",
       "2   ...         14331      14948      15549      1518      1500      1000   \n",
       "3   ...         28314      28959      29547      2000      2019      1200   \n",
       "4   ...         20940      19146      19131      2000     36681     10000   \n",
       "\n",
       "   PAY_AMT4  PAY_AMT5  PAY_AMT6  default  \n",
       "0         0         0         0        1  \n",
       "1      1000         0      2000        1  \n",
       "2      1000      1000      5000        0  \n",
       "3      1100      1069      1000        0  \n",
       "4      9000       689       679        0  \n",
       "\n",
       "[5 rows x 25 columns]"
      ]
     },
     "execution_count": 3,
     "metadata": {},
     "output_type": "execute_result"
    }
   ],
   "source": [
    "data = pd.read_csv(\"credit_card_default_analysis.csv\", sep=\",\", index_col=False, header = 0) \n",
    "data.head()\n"
   ]
  },
  {
   "cell_type": "code",
   "execution_count": 57,
   "metadata": {},
   "outputs": [
    {
     "name": "stdout",
     "output_type": "stream",
     "text": [
      "23364 6636\n"
     ]
    }
   ],
   "source": [
    "good_client = data[data['default']  == 0]\n",
    "bad_client = data[data['default']  == 1]\n",
    "\n",
    "print good_client.shape[0], bad_client.shape[0]"
   ]
  },
  {
   "cell_type": "markdown",
   "metadata": {},
   "source": [
    "## 1. Размер кредитного лимита (LIMIT_BAL)"
   ]
  },
  {
   "cell_type": "code",
   "execution_count": 14,
   "metadata": {},
   "outputs": [
    {
     "data": {
      "text/plain": [
       "<matplotlib.legend.Legend at 0x1733b358>"
      ]
     },
     "execution_count": 14,
     "metadata": {},
     "output_type": "execute_result"
    },
    {
     "data": {
      "image/png": "[encoded data removed]",
      "text/plain": [
       "<Figure size 1080x504 with 2 Axes>"
      ]
     },
     "metadata": {
      "needs_background": "light"
     },
     "output_type": "display_data"
    }
   ],
   "source": [
    "plt.figure(1, figsize=(15,7))\n",
    "plt.subplot(121)\n",
    "plt.title('LIMIT_BALL')\n",
    "plt.hist(data['LIMIT_BAL'], edgecolor='k')\n",
    "plt.subplot(122)\n",
    "plt.title('LIMIT_BALL for default')\n",
    "plt.hist(good_client['LIMIT_BAL'], edgecolor='k', label='Default = 0')\n",
    "plt.hist(bad_client['LIMIT_BAL'], edgecolor='k', label='Default = 1')\n",
    "plt.legend()"
   ]
  },
  {
   "cell_type": "markdown",
   "metadata": {},
   "source": [
    "### 1. a) Проверка гипотезы о равенстве медианных значений кредитного лимита с помощью интервальной оценки."
   ]
  },
  {
   "cell_type": "markdown",
   "metadata": {},
   "source": [
    "H0: медианные значения не отличаются\n",
    "\n",
    "H1: медианные значения отличаются"
   ]
  },
  {
   "cell_type": "code",
   "execution_count": 227,
   "metadata": {},
   "outputs": [
    {
     "name": "stdout",
     "output_type": "stream",
     "text": [
      "For good clients median LIMIT_BAL = 150000.0\n",
      "For bad clients median LIMIT_BAL = 90000.0\n"
     ]
    }
   ],
   "source": [
    "print 'For good clients median LIMIT_BAL =',  good_client['LIMIT_BAL'].median()\n",
    "print 'For bad clients median LIMIT_BAL =' , bad_client['LIMIT_BAL'].median()"
   ]
  },
  {
   "cell_type": "code",
   "execution_count": 19,
   "metadata": {},
   "outputs": [],
   "source": [
    "def get_bootstrap_samples(data, n_samples):\n",
    "    indices = np.random.randint(0, len(data), (n_samples, len(data)))\n",
    "    samples = data[indices]\n",
    "    return samples\n",
    "def stat_intervals(stat, alpha):\n",
    "    boundaries = np.percentile(stat, [100 * alpha / 2., 100 * (1 - alpha / 2.)])\n",
    "    return boundaries"
   ]
  },
  {
   "cell_type": "code",
   "execution_count": 25,
   "metadata": {},
   "outputs": [
    {
     "name": "stdout",
     "output_type": "stream",
     "text": [
      "Median difference LIMIT_BAL for good and bad clients: [60000. 70000.]\n"
     ]
    }
   ],
   "source": [
    "np.random.seed(0)\n",
    "\n",
    "g = np.array(map(np.median, get_bootstrap_samples(np.array(good_client['LIMIT_BAL']), 1000)))\n",
    "b =np.array(map(np.median, get_bootstrap_samples(np.array(bad_client['LIMIT_BAL']), 1000)))\n",
    "\n",
    "print 'Median difference LIMIT_BAL for good and bad clients:', stat_intervals(g-b, 0.05)"
   ]
  },
  {
   "cell_type": "markdown",
   "metadata": {},
   "source": [
    " Разность медиан лежит в указанном отрезки и не включает 0, следовательно нулевую гипотизу можно отвергнуть."
   ]
  },
  {
   "cell_type": "markdown",
   "metadata": {},
   "source": [
    "### 1. б) Проверка гипотезы о равенстве распределений "
   ]
  },
  {
   "cell_type": "markdown",
   "metadata": {},
   "source": [
    "H0: распределения выборок не отличаются\n",
    "    \n",
    "H1: распределения выборок отличаются на величину сдвига"
   ]
  },
  {
   "cell_type": "code",
   "execution_count": 30,
   "metadata": {},
   "outputs": [],
   "source": [
    "# воспользуемся функциями из примера stat.non_parametric_tests_ind\n",
    "\n",
    "def permutation_t_stat_ind(sample1, sample2):\n",
    "    return np.mean(sample1) - np.mean(sample2)\n",
    "\n",
    "def get_random_combinations(n1, n2, max_combinations):\n",
    "    index = range(n1 + n2)\n",
    "    indices = set([tuple(index)])\n",
    "    for i in range(max_combinations - 1):\n",
    "        np.random.shuffle(index)\n",
    "        indices.add(tuple(index))\n",
    "    return [(index[:n1], index[n1:]) for index in indices]\n",
    "\n",
    "def permutation_zero_dist_ind(sample1, sample2, max_combinations=None):\n",
    "    joined_sample = np.hstack((sample1, sample2))\n",
    "    n1 = len(sample1)\n",
    "    n = len(joined_sample)\n",
    "    \n",
    "    if max_combinations:\n",
    "        indices = get_random_combinations(n1, len(sample2), max_combinations)\n",
    "    else:\n",
    "        indices = [(list(index), filter(lambda i: i not in index, range(n))) \\\n",
    "                    for index in itertools.combinations(range(n), n1)]\n",
    "    \n",
    "    distr = [joined_sample[list(i[0])].mean() - joined_sample[list(i[1])].mean() \\\n",
    "             for i in indices]\n",
    "    return distr\n",
    "\n",
    "def permutation_test(sample, mean, max_permutations = None, alternative = 'two-sided'):\n",
    "    if alternative not in ('two-sided', 'less', 'greater'):\n",
    "        raise ValueError(\"alternative not recognized\\n\"\n",
    "                         \"should be 'two-sided', 'less' or 'greater'\")\n",
    "    \n",
    "    t_stat = permutation_t_stat_ind(sample, mean)\n",
    "    \n",
    "    zero_distr = permutation_zero_dist_ind(sample, mean, max_permutations)\n",
    "    \n",
    "    if alternative == 'two-sided':\n",
    "        return sum([1. if abs(x) >= abs(t_stat) else 0. for x in zero_distr]) / len(zero_distr)\n",
    "    \n",
    "    if alternative == 'less':\n",
    "        return sum([1. if x <= t_stat else 0. for x in zero_distr]) / len(zero_distr)\n",
    "\n",
    "    if alternative == 'greater':\n",
    "        return sum([1. if x >= t_stat else 0. for x in zero_distr]) / len(zero_distr)"
   ]
  },
  {
   "cell_type": "code",
   "execution_count": 31,
   "metadata": {},
   "outputs": [
    {
     "name": "stdout",
     "output_type": "stream",
     "text": [
      "p-value: 0.001000\n"
     ]
    }
   ],
   "source": [
    "print \"p-value: %f\" % permutation_test(good_client['LIMIT_BAL'], bad_client['LIMIT_BAL'], max_permutations = 1000)"
   ]
  },
  {
   "cell_type": "markdown",
   "metadata": {},
   "source": [
    "Нулевая гипотеза отвергается на уровне значимости 0.05, т.е. распределения выборок отличаются на величину сдвига.\n",
    "\n",
    "\n",
    "Общий вывод: люди с большей ответственностью относятся к кредитам на более крупные суммы, чем на меньшие. Хотя в РФ один банк сделал противоположный вывод, кредиты с малыми лимитами закрываются быстрее чем на большие. И таким образом повысил качество кредитного портфеля, сократив в нем кредиты с большими лимитами."
   ]
  },
  {
   "cell_type": "markdown",
   "metadata": {},
   "source": [
    " ## 2. Проверка гипотезы о том, что гендерный состав группы людей вернувших и не вернувших кредит отличается. "
   ]
  },
  {
   "cell_type": "code",
   "execution_count": 32,
   "metadata": {},
   "outputs": [
    {
     "data": {
      "text/plain": [
       "<matplotlib.legend.Legend at 0x15758198>"
      ]
     },
     "execution_count": 32,
     "metadata": {},
     "output_type": "execute_result"
    },
    {
     "data": {
      "image/png": "[encoded data removed]",
      "text/plain": [
       "<Figure size 1080x504 with 2 Axes>"
      ]
     },
     "metadata": {
      "needs_background": "light"
     },
     "output_type": "display_data"
    }
   ],
   "source": [
    "plt.figure(1, figsize=(15,7))\n",
    "plt.subplot(121)\n",
    "plt.title('SEX')\n",
    "plt.hist(data['SEX'], edgecolor='k')\n",
    "plt.subplot(122)\n",
    "plt.title('SEX for default')\n",
    "plt.hist(good_client['SEX'], edgecolor='k', label='Default = 0')\n",
    "plt.hist(bad_client['SEX'], edgecolor='k', label='Default = 1')\n",
    "plt.legend()"
   ]
  },
  {
   "cell_type": "code",
   "execution_count": 61,
   "metadata": {},
   "outputs": [
    {
     "name": "stdout",
     "output_type": "stream",
     "text": [
      "Proportion of men in good clients: 0.385850025681\n",
      "Proportion of men in bad clients: 0.432941531043\n"
     ]
    }
   ],
   "source": [
    "print 'Proportion of men in good clients:', float(good_client.loc[good_client['SEX']==1].values.shape[0])/float(good_client.shape[0])\n",
    "print 'Proportion of men in bad clients:', float(bad_client.loc[bad_client['SEX']==1].values.shape[0])/float(bad_client.shape[0])"
   ]
  },
  {
   "cell_type": "code",
   "execution_count": 68,
   "metadata": {},
   "outputs": [
    {
     "name": "stdout",
     "output_type": "stream",
     "text": [
      "Conf. int. for prop. of men (good clients): [0.3796, 0.3921]\n",
      "Conf. int. for prop. of men (bad clients): [0.4210, 0.4449]\n"
     ]
    }
   ],
   "source": [
    "good_men_int = proportion_confint(good_client.loc[good_client['SEX']==1].values.shape[0], good_client.shape[0])\n",
    "bad_men_int = proportion_confint(bad_client.loc[bad_client['SEX']==1].values.shape[0], bad_client.shape[0])\n",
    "\n",
    "print'Conf. int. for prop. of men in good clients: [%.4f, %.4f]' % good_men_int\n",
    "print'Conf. int. for prop. of men in bad clients: [%.4f, %.4f]' % bad_men_int\n"
   ]
  },
  {
   "cell_type": "markdown",
   "metadata": {},
   "source": [
    "Т.к. доверительные интервалы  не пересекаются, то распределение полов по плохим и хорошим клиентам различаются.\n",
    "\n",
    "\n",
    "Оценка  доверительного интервала для разности двух долей независимых выборок"
   ]
  },
  {
   "cell_type": "code",
   "execution_count": 97,
   "metadata": {},
   "outputs": [],
   "source": [
    "# воспользуемся функцией из задания stat.two_proportions_diff_test\n",
    "def proportions_diff_confint_ind(sample1, sample2, alpha = 0.05):    \n",
    "    z = stats.norm.ppf(1 - alpha / 2.)\n",
    "    \n",
    "    p1 = float(sum(sample1)) / len(sample1)\n",
    "    p2 = float(sum(sample2)) / len(sample2)\n",
    "    \n",
    "     \n",
    "    left_boundary = (p1 - p2) - z * np.sqrt(p1 * (1 - p1)/ len(sample1) + p2 * (1 - p2)/ len(sample2))\n",
    "    right_boundary = (p1 - p2) + z * np.sqrt(p1 * (1 - p1)/ len(sample1) + p2 * (1 - p2)/ len(sample2))\n",
    "    \n",
    "    return (left_boundary, right_boundary)"
   ]
  },
  {
   "cell_type": "code",
   "execution_count": 99,
   "metadata": {},
   "outputs": [
    {
     "name": "stdout",
     "output_type": "stream",
     "text": [
      "95% confidence interval for a difference between proportions: [-0.060548, -0.033635]\n"
     ]
    }
   ],
   "source": [
    "print \"95%% confidence interval for a difference between proportions: [%f, %f]\" %\\\n",
    "      proportions_diff_confint_ind(np.abs(np.array(good_client['SEX'])-2), np.abs(np.array(bad_client['SEX'])-2))"
   ]
  },
  {
   "cell_type": "markdown",
   "metadata": {},
   "source": [
    "Рассчитываем статистический Z-критерий для доли для двух независимых выборок.\n",
    "\n",
    "H0: половой состав не отличается\n",
    "\n",
    "H1: половой состав отличается"
   ]
  },
  {
   "cell_type": "code",
   "execution_count": 103,
   "metadata": {},
   "outputs": [],
   "source": [
    "def proportions_diff_z_stat_ind(sample1, sample2):\n",
    "    n1 = len(sample1)\n",
    "    n2 = len(sample2)\n",
    "    \n",
    "    p1 = float(sum(sample1)) / n1\n",
    "    p2 = float(sum(sample2)) / n2 \n",
    "    P = float(p1*n1 + p2*n2) / (n1 + n2)\n",
    "    \n",
    "    return (p1 - p2) / np.sqrt(P * (1 - P) * (1. / n1 + 1. / n2))\n",
    "\n",
    "def proportions_diff_z_test(z_stat, alternative = 'two-sided'):\n",
    "    if alternative not in ('two-sided', 'less', 'greater'):\n",
    "        raise ValueError(\"alternative not recognized\\n\"\n",
    "                         \"should be 'two-sided', 'less' or 'greater'\")\n",
    "    \n",
    "    if alternative == 'two-sided':\n",
    "        return 2 * (1 - stats.norm.cdf(np.abs(z_stat)))\n",
    "    \n",
    "    if alternative == 'less':\n",
    "        return stats.norm.cdf(z_stat)\n",
    "\n",
    "    if alternative == 'greater':\n",
    "        return 1 - stats.norm.cdf(z_stat)"
   ]
  },
  {
   "cell_type": "code",
   "execution_count": 104,
   "metadata": {},
   "outputs": [
    {
     "name": "stdout",
     "output_type": "stream",
     "text": [
      "p-value: 0.000000000004473\n"
     ]
    }
   ],
   "source": [
    "print'p-value: %.15f' % proportions_diff_z_test(proportions_diff_z_stat_ind(np.abs(np.array(good_client['SEX'])-2), np.abs(np.array(bad_client['SEX'])-2)))"
   ]
  },
  {
   "cell_type": "markdown",
   "metadata": {},
   "source": [
    "Гипотеза о равенстве выборок отвергается на уровне значимости 0.05. "
   ]
  },
  {
   "cell_type": "markdown",
   "metadata": {},
   "source": [
    "## 3. Проверка гипотезы о том, что образование не влияет на то, вернет ли клиент долг. "
   ]
  },
  {
   "cell_type": "code",
   "execution_count": 107,
   "metadata": {},
   "outputs": [
    {
     "data": {
      "text/plain": [
       "<matplotlib.legend.Legend at 0x11f22c50>"
      ]
     },
     "execution_count": 107,
     "metadata": {},
     "output_type": "execute_result"
    },
    {
     "data": {
      "image/png": "[encoded data removed]",
      "text/plain": [
       "<Figure size 1080x504 with 2 Axes>"
      ]
     },
     "metadata": {
      "needs_background": "light"
     },
     "output_type": "display_data"
    }
   ],
   "source": [
    "plt.figure(1, figsize=(15,7))\n",
    "plt.subplot(121)\n",
    "plt.title('EDUCATION')\n",
    "plt.hist(data['EDUCATION'], edgecolor='k')\n",
    "plt.subplot(122)\n",
    "plt.title('EDUCATION for default')\n",
    "plt.hist(good_client['EDUCATION'], edgecolor='k', label='Default = 0')\n",
    "plt.hist(bad_client['EDUCATION'], edgecolor='k', label='Default = 1')\n",
    "plt.legend()"
   ]
  },
  {
   "cell_type": "markdown",
   "metadata": {},
   "source": [
    "H0: рассматривая величина имеет равномерное распределение\n",
    "\n",
    "H1: рассматривая величина имеет не равномерное распределение\n",
    "    \n",
    "Оценка доли возврата кредитов по уровням образования. \n",
    "С помощью этой оценки строится распределение."
   ]
  },
  {
   "cell_type": "code",
   "execution_count": 228,
   "metadata": {},
   "outputs": [
    {
     "data": {
      "text/plain": [
       "[0, 6, 0.5, 1]"
      ]
     },
     "execution_count": 228,
     "metadata": {},
     "output_type": "execute_result"
    },
    {
     "data": {
      "image/png": "[encoded data removed]",
      "text/plain": [
       "<Figure size 360x360 with 1 Axes>"
      ]
     },
     "metadata": {
      "needs_background": "light"
     },
     "output_type": "display_data"
    }
   ],
   "source": [
    "propoprtion_ed = np.zeros((len(np.unique(data['EDUCATION'])),2))\n",
    "\n",
    "for i in range(propoprtion_ed.shape[0]):\n",
    "    good_client_edu  = good_client.loc[good_client['EDUCATION']==i].values.shape[0]\n",
    "    client_edu = data.loc[data['EDUCATION']==i].values.shape[0]\n",
    "    propoprtion_ed[i, 0] = i\n",
    "    propoprtion_ed[i, 1] = float(good_client_edu)/float(client_edu)\n",
    "    \n",
    "plt.figure(1, figsize=(5,5))\n",
    "plt.title('Distribution of EDUCATION proportion')\n",
    "plt.plot(propoprtion_ed[:,0], propoprtion_ed[:,1])\n",
    "plt.axis([0, 6, 0.5, 1])"
   ]
  },
  {
   "cell_type": "markdown",
   "metadata": {},
   "source": [
    "Распределение не является равномерным. Равномерным распределением было бы:"
   ]
  },
  {
   "cell_type": "code",
   "execution_count": 181,
   "metadata": {},
   "outputs": [
    {
     "name": "stdout",
     "output_type": "stream",
     "text": [
      "0.8629526580788338\n"
     ]
    }
   ],
   "source": [
    "expexted_distr = propoprtion_ed[:,1].mean()\n",
    "print expexted_distr"
   ]
  },
  {
   "cell_type": "markdown",
   "metadata": {},
   "source": [
    "Проверка соответствия данного распределения равномерному с помощью критерия согласия Пирсона хи-квадрат."
   ]
  },
  {
   "cell_type": "code",
   "execution_count": 237,
   "metadata": {},
   "outputs": [
    {
     "name": "stdout",
     "output_type": "stream",
     "text": [
      "expected distr     |real distr| difference \n",
      "12.081337213103673 |  14.0   |  -1.918662786896327\n",
      "9134.353885764456 |  8549.0   |  585.3538857644562\n",
      "12107.225792846039 |  10700.0   |  1407.2257928460385\n",
      "4243.138219773626 |  3680.0   |  563.1382197736257\n",
      "106.14317694369656 |  116.0   |  -9.85682305630344\n",
      "241.62674426207346 |  262.0   |  -20.37325573792654\n",
      "44.01058556202052 |  43.0   |  1.0105855620205233\n",
      "p-value = 3.653181595163598e-58\n"
     ]
    }
   ],
   "source": [
    "expected_f  = np.zeros(propoprtion_ed.shape[0])\n",
    "good_c_edu_f = np.zeros(propoprtion_ed.shape[0])\n",
    "\n",
    "for i in range(len(expexted_f)): \n",
    "    expected_f[i] = data.loc[data['EDUCATION']==i].values.shape[0]*expexted_distr\n",
    "    good_c_edu_f[i]  = good_client.loc[good_client['EDUCATION']==i].values.shape[0]\n",
    "\n",
    "print 'expected distr     |real distr| difference '\n",
    "    \n",
    "for i  in range(len(expexted_f)):\n",
    "    print expected_f[i], '| ',good_c_edu_f[i], '  | ', expected_f[i]- good_c_edu_f[i]"
   ]
  },
  {
   "cell_type": "markdown",
   "metadata": {},
   "source": [
    "Проверка соответствия данного распределения равномерному с помощью критерия согласия Пирсона хи-квадрат."
   ]
  },
  {
   "cell_type": "code",
   "execution_count": 239,
   "metadata": {},
   "outputs": [
    {
     "name": "stdout",
     "output_type": "stream",
     "text": [
      "p-value = 3.653181595163598e-58\n"
     ]
    }
   ],
   "source": [
    "pvalue  = stats.chisquare(good_c_edu_f, expected_f, ddof = 1)[1]\n",
    "print  'p-value =', pvalue"
   ]
  },
  {
   "cell_type": "markdown",
   "metadata": {},
   "source": [
    "Нулевая гипотеза отвергается на уровне значимости 0.05, т.е. распределение качества клиентов в зависимости от образования не равномерно и может характеризовать потенциального заемщика по уровню образования: люди с докторской степенью лучше обслуживают кредиты, чем выпускники школ или бакалавры. "
   ]
  },
  {
   "cell_type": "markdown",
   "metadata": {},
   "source": [
    "## 4. Семейное положение (MARRIAGE): Проверка, как связан семейный статус с индикатором дефолта."
   ]
  },
  {
   "cell_type": "code",
   "execution_count": 189,
   "metadata": {},
   "outputs": [
    {
     "data": {
      "text/plain": [
       "<matplotlib.legend.Legend at 0x131f6748>"
      ]
     },
     "execution_count": 189,
     "metadata": {},
     "output_type": "execute_result"
    },
    {
     "data": {
      "image/png": "[encoded data removed]",
      "text/plain": [
       "<Figure size 1080x504 with 2 Axes>"
      ]
     },
     "metadata": {
      "needs_background": "light"
     },
     "output_type": "display_data"
    }
   ],
   "source": [
    "plt.figure(1, figsize=(15,7))\n",
    "plt.subplot(121)\n",
    "plt.title('MARRIAGE')\n",
    "plt.hist(data['MARRIAGE'], edgecolor='k')\n",
    "plt.subplot(122)\n",
    "plt.title('MARRIAGE for default')\n",
    "plt.hist(good_client['MARRIAGE'], edgecolor='k', label='Default = 0')\n",
    "plt.hist(bad_client['MARRIAGE'], edgecolor='k', label='Default = 1')\n",
    "plt.legend()"
   ]
  },
  {
   "cell_type": "markdown",
   "metadata": {},
   "source": [
    "Таблица сопряжённости для признаков default и MARRIAGE и рассчет коэфициента Крамера"
   ]
  },
  {
   "cell_type": "code",
   "execution_count": 207,
   "metadata": {},
   "outputs": [
    {
     "name": "stdout",
     "output_type": "stream",
     "text": [
      "0.034478203662766466\n"
     ]
    }
   ],
   "source": [
    "table = np.zeros((len(np.unique(data['MARRIAGE'])),2))\n",
    "\n",
    "for i in range(conf_table.shape[0]):\n",
    "    table[i, 0] = good_client.loc[good_client['MARRIAGE']==i].values.shape[0]\n",
    "    table[i, 1] = bad_client.loc[bad_client['MARRIAGE']==i].values.shape[0]\n",
    "\n",
    "hi_stat = stats.chi2_contingency(table)[0]\n",
    "n = table.sum()\n",
    "v_kramer = (hi_stat/(n*(min(table.shape)-1)))**0.5\n",
    "\n",
    "\n",
    "print v_kramer"
   ]
  },
  {
   "cell_type": "markdown",
   "metadata": {},
   "source": [
    "Коэфициент крамера мал, поэтому можно считать что связь между семейным положением и качеством клиента отсутствует."
   ]
  },
  {
   "cell_type": "markdown",
   "metadata": {},
   "source": [
    "## 5. Возраст (Age)"
   ]
  },
  {
   "cell_type": "code",
   "execution_count": 208,
   "metadata": {},
   "outputs": [
    {
     "data": {
      "text/plain": [
       "<matplotlib.legend.Legend at 0x13dd6da0>"
      ]
     },
     "execution_count": 208,
     "metadata": {},
     "output_type": "execute_result"
    },
    {
     "data": {
      "image/png": "[encoded data removed]",
      "text/plain": [
       "<Figure size 1080x504 with 2 Axes>"
      ]
     },
     "metadata": {
      "needs_background": "light"
     },
     "output_type": "display_data"
    }
   ],
   "source": [
    "plt.figure(1, figsize=(15,7))\n",
    "plt.subplot(121)\n",
    "plt.title('AGE')\n",
    "plt.hist(data['AGE'], edgecolor='k')\n",
    "plt.subplot(122)\n",
    "plt.title('AGE for default')\n",
    "plt.hist(good_client['AGE'], edgecolor='k', label='Default = 0')\n",
    "plt.hist(bad_client['AGE'], edgecolor='k', label='Default = 1')\n",
    "plt.legend()"
   ]
  },
  {
   "cell_type": "markdown",
   "metadata": {},
   "source": [
    "### 5. a) Проверка гипотизы о равенстве медианных значений возрастов людей"
   ]
  },
  {
   "cell_type": "markdown",
   "metadata": {},
   "source": [
    "H0: медианные значения не отличаются\n",
    "\n",
    "H1: медианные значения отличаются"
   ]
  },
  {
   "cell_type": "code",
   "execution_count": 230,
   "metadata": {},
   "outputs": [
    {
     "name": "stdout",
     "output_type": "stream",
     "text": [
      "For good clients median AGE =  34.0\n",
      "For bad clients median AGE  =  34.0\n"
     ]
    }
   ],
   "source": [
    "print 'For good clients median AGE = ',  good_client['AGE'].median()\n",
    "print 'For bad clients median AGE  = ',  bad_client['AGE'].median()"
   ]
  },
  {
   "cell_type": "markdown",
   "metadata": {},
   "source": [
    "Интервальная оценка для разности медиан."
   ]
  },
  {
   "cell_type": "code",
   "execution_count": 211,
   "metadata": {},
   "outputs": [
    {
     "name": "stdout",
     "output_type": "stream",
     "text": [
      "Median difference AGE for good and bad clients: [-1.  0.]\n"
     ]
    }
   ],
   "source": [
    "np.random.seed(0)\n",
    "\n",
    "g = np.array(map(np.median, get_bootstrap_samples(np.array(good_client['AGE']), 1000)))\n",
    "b =np.array(map(np.median, get_bootstrap_samples(np.array(bad_client['AGE']), 1000)))\n",
    "\n",
    "print 'Median difference AGE for good and bad clients:', stat_intervals(g-b, 0.05)"
   ]
  },
  {
   "cell_type": "markdown",
   "metadata": {},
   "source": [
    "Разность медиан лежит в указанном отрезки и включает 0, следовательно нулевую гипотизу нельзя отвергнуть."
   ]
  },
  {
   "cell_type": "markdown",
   "metadata": {},
   "source": [
    "### 5. b) Проверка гипотизы о равенстве распределений плохих и хороших клиентов"
   ]
  },
  {
   "cell_type": "markdown",
   "metadata": {},
   "source": [
    "H0: распределения выборок не отличаются\n",
    "    \n",
    "H1: распределения выборок отличаются на величину сдвига"
   ]
  },
  {
   "cell_type": "code",
   "execution_count": 213,
   "metadata": {},
   "outputs": [
    {
     "name": "stdout",
     "output_type": "stream",
     "text": [
      "p-value: 0.017000\n"
     ]
    }
   ],
   "source": [
    "print \"p-value: %f\" % permutation_test(good_client['AGE'], bad_client['AGE'], max_permutations = 1000)"
   ]
  },
  {
   "cell_type": "markdown",
   "metadata": {},
   "source": [
    "Нулевая гипотеза отвергается на уровне значимости 0.05, т.е. возраст потенциальго заемщика характеризует качество обслуживания кредита"
   ]
  }
 ],
 "metadata": {
  "kernelspec": {
   "display_name": "Python 2",
   "language": "python",
   "name": "python2"
  },
  "language_info": {
   "codemirror_mode": {
    "name": "ipython",
    "version": 2
   },
   "file_extension": ".py",
   "mimetype": "text/x-python",
   "name": "python",
   "nbconvert_exporter": "python",
   "pygments_lexer": "ipython2",
   "version": "2.7.15"
  }
 },
 "nbformat": 4,
 "nbformat_minor": 2
}
