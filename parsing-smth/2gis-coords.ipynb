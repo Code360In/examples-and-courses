{
 "cells": [
  {
   "cell_type": "code",
   "execution_count": 1,
   "metadata": {},
   "outputs": [],
   "source": [
    "import requests\n",
    "import re\n",
    "import json\n",
    "from bs4 import BeautifulSoup"
   ]
  },
  {
   "cell_type": "code",
   "execution_count": 2,
   "metadata": {},
   "outputs": [],
   "source": [
    "headers = {\n",
    "    'User-Agent': 'Mozilla/5.0 (Macintosh; Intel Mac OS X 10_15_7) AppleWebKit/605.1.15 (KHTML, like Gecko) Version/15.2 Safari/605.1.15',\n",
    "    'referer': 'https://www.google.com/'\n",
    "}\n",
    "html = requests.get(\n",
    "    'https://2gis.ua/kyiv/branches/70000001038360095?m=30.506%2C50.454641%2F13.72',\n",
    "    headers=headers,\n",
    ").text\n",
    "soup = BeautifulSoup(html, 'lxml')"
   ]
  },
  {
   "cell_type": "code",
   "execution_count": 49,
   "metadata": {},
   "outputs": [],
   "source": [
    "script = ''.join(list(filter(lambda x: x is not None, map(lambda x: x.string, soup.findAll('script')))))\n",
    "coordinates = re.findall(r'\"point\":{\"lat\":(\\d+\\.\\d+),\"lon\":(\\d+\\.\\d+)},', script)\n",
    "address = re.findall(r',\"address_name\":\"([^_]+)\",', script)"
   ]
  },
  {
   "cell_type": "code",
   "execution_count": 50,
   "metadata": {},
   "outputs": [
    {
     "data": {
      "text/plain": [
       "([('50.4694', '30.486657'),\n",
       "  ('50.452905', '30.468755'),\n",
       "  ('50.428759', '30.450207'),\n",
       "  ('50.473047', '30.447137'),\n",
       "  ('50.435704', '30.600785'),\n",
       "  ('50.438822', '30.436131'),\n",
       "  ('50.396155', '30.504604'),\n",
       "  ('50.435106', '30.59295'),\n",
       "  ('50.505009', '30.450848'),\n",
       "  ('50.417408', '30.394044'),\n",
       "  ('50.523873', '30.791913'),\n",
       "  ('50.425345', '30.664977')],\n",
       " ['Татарська, 38а/2',\n",
       "  'Богдана Гаврилишина, 6',\n",
       "  'Волинська, 15',\n",
       "  'Олени Теліги, 17',\n",
       "  'Ентузіастів, 7',\n",
       "  'Ніжинська, 16',\n",
       "  'Васильківська, 5/7',\n",
       "  'Русанівська Набережна, 4',\n",
       "  'Вишгородська, 33',\n",
       "  'Сім’ї Сосніних, 17а/1',\n",
       "  'Короленка, 78',\n",
       "  'Вереснева, 24/1'])"
      ]
     },
     "execution_count": 50,
     "metadata": {},
     "output_type": "execute_result"
    }
   ],
   "source": [
    "coordinates, address"
   ]
  },
  {
   "cell_type": "code",
   "execution_count": 51,
   "metadata": {},
   "outputs": [
    {
     "data": {
      "text/plain": [
       "(12, 12)"
      ]
     },
     "execution_count": 51,
     "metadata": {},
     "output_type": "execute_result"
    }
   ],
   "source": [
    "len(coordinates), len(address)"
   ]
  },
  {
   "cell_type": "code",
   "execution_count": null,
   "metadata": {},
   "outputs": [],
   "source": []
  }
 ],
 "metadata": {
  "kernelspec": {
   "display_name": "Python 3.9.7 64-bit ('base': conda)",
   "language": "python",
   "name": "python397jvsc74a57bd0c6e4e9f98eb68ad3b7c296f83d20e6de614cb42e90992a65aa266555a3137d0d"
  },
  "language_info": {
   "codemirror_mode": {
    "name": "ipython",
    "version": 3
   },
   "file_extension": ".py",
   "mimetype": "text/x-python",
   "name": "python",
   "nbconvert_exporter": "python",
   "pygments_lexer": "ipython3",
   "version": "3.9.7"
  }
 },
 "nbformat": 4,
 "nbformat_minor": 4
}
