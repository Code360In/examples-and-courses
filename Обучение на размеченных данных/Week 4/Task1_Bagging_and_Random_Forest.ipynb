{
 "cells": [
  {
   "cell_type": "code",
   "execution_count": 1,
   "metadata": {},
   "outputs": [
    {
     "name": "stderr",
     "output_type": "stream",
     "text": [
      "C:\\Program Files (x86)\\Microsoft Visual Studio\\Shared\\Anaconda3_64\\lib\\site-packages\\sklearn\\cross_validation.py:41: DeprecationWarning: This module was deprecated in version 0.18 in favor of the model_selection module into which all the refactored classes and functions are moved. Also note that the interface of the new CV iterators are different from that of this module. This module will be removed in 0.20.\n",
      "  \"This module will be removed in 0.20.\", DeprecationWarning)\n"
     ]
    }
   ],
   "source": [
    "from sklearn.datasets import load_digits\n",
    "from sklearn import model_selection\n",
    "from sklearn.cross_validation import cross_val_score\n",
    "from sklearn.ensemble import BaggingClassifier, RandomForestClassifier\n",
    "from sklearn.tree import DecisionTreeClassifier\n",
    "\n",
    "import numpy as np"
   ]
  },
  {
   "cell_type": "code",
   "execution_count": 2,
   "metadata": {
    "collapsed": true
   },
   "outputs": [],
   "source": [
    "# load our dataset \n",
    "\n",
    "digits = load_digits()"
   ]
  },
  {
   "cell_type": "code",
   "execution_count": 3,
   "metadata": {
    "collapsed": true
   },
   "outputs": [],
   "source": [
    "X = digits.data\n",
    "y = digits.target"
   ]
  },
  {
   "cell_type": "code",
   "execution_count": 22,
   "metadata": {
    "collapsed": true
   },
   "outputs": [],
   "source": [
    "# estimate quality \n",
    "\n",
    "def quality(estimator, X, y, cv):\n",
    "    return cross_val_score(n_jobs=4 ,estimator=estimator, X=X, y=y, cv=10).mean()\n",
    "\n",
    "def write_answer_1(answer1):\n",
    "    with open(\"answer1.txt\", \"w\") as fout:\n",
    "        fout.write(str(answer1))\n",
    "        \n",
    "def write_answer_2(answer2):\n",
    "    with open(\"answer2.txt\", \"w\") as fout:\n",
    "        fout.write(str(answer2))\n",
    "        \n",
    "def write_answer_3(answer3):\n",
    "    with open(\"answer3.txt\", \"w\") as fout:\n",
    "        fout.write(str(answer3))\n",
    "        \n",
    "def write_answer_4(answer4):\n",
    "    with open(\"answer4.txt\", \"w\") as fout:\n",
    "        fout.write(str(answer4))\n",
    "        \n",
    "def write_answer_5(*args):\n",
    "    with open(\"answer5.txt\", \"w\") as fout:\n",
    "        for i in args:\n",
    "            fout.write(str(i) + ' ')"
   ]
  },
  {
   "cell_type": "code",
   "execution_count": 5,
   "metadata": {
    "collapsed": true
   },
   "outputs": [],
   "source": [
    "# start task 1\n",
    "# create RandomForestClassifier with default setiings\n",
    "\n",
    "dt_classifier = DecisionTreeClassifier()"
   ]
  },
  {
   "cell_type": "code",
   "execution_count": 6,
   "metadata": {},
   "outputs": [
    {
     "name": "stdout",
     "output_type": "stream",
     "text": [
      "0.815319193611\n"
     ]
    }
   ],
   "source": [
    "# answer 1\n",
    "\n",
    "answer1 = quality(dt_classifier, X, y, 10)\n",
    "print(answer1)\n",
    "\n",
    "write_answer_1(answer1)\n",
    "\n",
    "# end task 1"
   ]
  },
  {
   "cell_type": "code",
   "execution_count": 7,
   "metadata": {
    "collapsed": true
   },
   "outputs": [],
   "source": [
    "# start task 2\n",
    "\n",
    "bagging_classifire = BaggingClassifier(base_estimator=dt_classifier,\n",
    "                                       n_estimators=100)"
   ]
  },
  {
   "cell_type": "code",
   "execution_count": 8,
   "metadata": {},
   "outputs": [
    {
     "name": "stdout",
     "output_type": "stream",
     "text": [
      "0.923827101392\n"
     ]
    }
   ],
   "source": [
    "# answer 2\n",
    "\n",
    "answer2 = quality(bagging_classifire, X, y, 10)\n",
    "print(answer2)\n",
    "\n",
    "write_answer_2(answer2)\n",
    "\n",
    "# end task 2"
   ]
  },
  {
   "cell_type": "code",
   "execution_count": 9,
   "metadata": {
    "collapsed": true
   },
   "outputs": [],
   "source": [
    "# start task 3\n",
    "\n",
    "d = X.shape[1]\n",
    "\n",
    "bagging_classifire = BaggingClassifier(base_estimator=dt_classifier, \n",
    "                                       n_estimators=100, max_features=int(np.sqrt(d)))"
   ]
  },
  {
   "cell_type": "code",
   "execution_count": 10,
   "metadata": {},
   "outputs": [
    {
     "name": "stdout",
     "output_type": "stream",
     "text": [
      "0.931102798663\n"
     ]
    }
   ],
   "source": [
    "# answer 3\n",
    "\n",
    "answer3 = quality(bagging_classifire, X, y, 10)\n",
    "print(answer3)\n",
    "\n",
    "write_answer_3(answer3)\n",
    "\n",
    "#end task 3"
   ]
  },
  {
   "cell_type": "code",
   "execution_count": 11,
   "metadata": {
    "collapsed": true
   },
   "outputs": [],
   "source": [
    "# start task 4\n",
    "\n",
    "dt_classifier = DecisionTreeClassifier(max_features=int(np.sqrt(d)))\n",
    "bagging_classifire = BaggingClassifier(base_estimator=dt_classifier, \n",
    "                                       n_estimators=100)"
   ]
  },
  {
   "cell_type": "code",
   "execution_count": 20,
   "metadata": {},
   "outputs": [
    {
     "name": "stdout",
     "output_type": "stream",
     "text": [
      "0.951698741638\n"
     ]
    }
   ],
   "source": [
    "# answer 4\n",
    "\n",
    "answer4 = quality(bagging_classifire, X, y, 10)\n",
    "print(answer4)\n",
    "\n",
    "write_answer_4(answer4)\n",
    "\n",
    "#end task 4"
   ]
  },
  {
   "cell_type": "code",
   "execution_count": 37,
   "metadata": {
    "collapsed": true
   },
   "outputs": [],
   "source": [
    "# start task 5\n",
    "\n",
    "rf_classifier = RandomForestClassifier()"
   ]
  },
  {
   "cell_type": "code",
   "execution_count": 38,
   "metadata": {},
   "outputs": [
    {
     "name": "stdout",
     "output_type": "stream",
     "text": [
      "0.921565654297\n"
     ]
    }
   ],
   "source": [
    "# answer 5\n",
    "\n",
    "answer5 = quality(rf_classifier, X, y, 10)\n",
    "print(answer5)\n",
    "\n",
    "# end task 5"
   ]
  },
  {
   "cell_type": "code",
   "execution_count": 40,
   "metadata": {
    "collapsed": true
   },
   "outputs": [],
   "source": [
    "write_answer_5(2, 3, 4, 7)"
   ]
  },
  {
   "cell_type": "code",
   "execution_count": null,
   "metadata": {
    "collapsed": true
   },
   "outputs": [],
   "source": []
  },
  {
   "cell_type": "code",
   "execution_count": null,
   "metadata": {
    "collapsed": true
   },
   "outputs": [],
   "source": []
  }
 ],
 "metadata": {
  "kernelspec": {
   "display_name": "Python 3",
   "language": "python",
   "name": "python3"
  },
  "language_info": {
   "codemirror_mode": {
    "name": "ipython",
    "version": 3
   },
   "file_extension": ".py",
   "mimetype": "text/x-python",
   "name": "python",
   "nbconvert_exporter": "python",
   "pygments_lexer": "ipython3",
   "version": "3.6.2"
  }
 },
 "nbformat": 4,
 "nbformat_minor": 2
}
