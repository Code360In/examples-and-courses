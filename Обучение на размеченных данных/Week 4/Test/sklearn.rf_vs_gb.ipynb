{
 "cells": [
  {
   "cell_type": "markdown",
   "metadata": {},
   "source": [
    "# Sklearn, XGBoost"
   ]
  },
  {
   "cell_type": "markdown",
   "metadata": {},
   "source": [
    "## sklearn.ensemble.RandomForestClassifier"
   ]
  },
  {
   "cell_type": "code",
   "execution_count": 1,
   "metadata": {},
   "outputs": [
    {
     "name": "stderr",
     "output_type": "stream",
     "text": [
      "C:\\Program Files (x86)\\Microsoft Visual Studio\\Shared\\Anaconda3_64\\lib\\site-packages\\sklearn\\cross_validation.py:41: DeprecationWarning: This module was deprecated in version 0.18 in favor of the model_selection module into which all the refactored classes and functions are moved. Also note that the interface of the new CV iterators are different from that of this module. This module will be removed in 0.20.\n",
      "  \"This module will be removed in 0.20.\", DeprecationWarning)\n",
      "C:\\Program Files (x86)\\Microsoft Visual Studio\\Shared\\Anaconda3_64\\lib\\site-packages\\sklearn\\learning_curve.py:22: DeprecationWarning: This module was deprecated in version 0.18 in favor of the model_selection module into which all the functions are moved. This module will be removed in 0.20\n",
      "  DeprecationWarning)\n"
     ]
    }
   ],
   "source": [
    "from sklearn import ensemble , cross_validation, learning_curve, metrics \n",
    "\n",
    "import numpy as np\n",
    "import pandas as pd\n",
    "import xgboost as xgb"
   ]
  },
  {
   "cell_type": "code",
   "execution_count": 4,
   "metadata": {},
   "outputs": [
    {
     "name": "stdout",
     "output_type": "stream",
     "text": [
      " Volume in drive C has no label.\n",
      " Volume Serial Number is 2618-ADE2\n",
      "\n",
      " Directory of C:\\Users\\Roman\\Coursera\\ЋЎгзҐ­ЁҐ ­  а §¬ҐзҐ­­ле ¤ ­­ле\\Week 4\\Test\n",
      "\n",
      "04.11.2018  20:59    <DIR>          .\n",
      "04.11.2018  20:59    <DIR>          ..\n",
      "04.11.2018  20:02    <DIR>          .ipynb_checkpoints\n",
      "04.11.2018  17:16        18я623я278 bioresponse.csv\n",
      "04.11.2018  16:28           268я115 sklearn.decision_trees.ipynb\n",
      "04.11.2018  17:23            38я490 sklearn.random_forest.ipynb\n",
      "04.11.2018  20:59            20я867 sklearn.rf_vs_gb.ipynb\n",
      "               4 File(s)     18я950я750 bytes\n",
      "               3 Dir(s)  173я581я959я168 bytes free\n"
     ]
    }
   ],
   "source": [
    "%ls"
   ]
  },
  {
   "cell_type": "markdown",
   "metadata": {},
   "source": [
    "### Данные"
   ]
  },
  {
   "cell_type": "markdown",
   "metadata": {},
   "source": [
    "Задача на kaggle: https://www.kaggle.com/c/bioresponse\n",
    "\n",
    "Данные: https://www.kaggle.com/c/bioresponse/data\n",
    "\n",
    "По данным характеристикам молекулы требуется определить, будет ли дан биологический ответ (biological response).\n",
    "\n",
    "Признаки нормализаваны.\n",
    "\n",
    "Для демонстрации используется обучающая выборка из исходных данных train.csv, файл с данными прилагается."
   ]
  },
  {
   "cell_type": "code",
   "execution_count": null,
   "metadata": {
    "collapsed": true
   },
   "outputs": [],
   "source": [
    "bioresponce = pd.read_csv('bioresponse.csv', header=0, sep=',')"
   ]
  },
  {
   "cell_type": "code",
   "execution_count": null,
   "metadata": {
    "collapsed": true
   },
   "outputs": [],
   "source": [
    "bioresponce.head()"
   ]
  },
  {
   "cell_type": "code",
   "execution_count": null,
   "metadata": {
    "collapsed": true
   },
   "outputs": [],
   "source": [
    "bioresponce_target = bioresponce.Activity.values"
   ]
  },
  {
   "cell_type": "code",
   "execution_count": null,
   "metadata": {
    "collapsed": true
   },
   "outputs": [],
   "source": [
    "bioresponce_data = bioresponce.iloc[:, 1:]"
   ]
  },
  {
   "cell_type": "markdown",
   "metadata": {},
   "source": [
    "### Модель RandomForestClassifier"
   ]
  },
  {
   "cell_type": "markdown",
   "metadata": {},
   "source": [
    "#### Зависимость качества от количесвта деревьев"
   ]
  },
  {
   "cell_type": "code",
   "execution_count": null,
   "metadata": {
    "collapsed": true
   },
   "outputs": [],
   "source": [
    "n_trees = [1] + range(10, 55, 5) "
   ]
  },
  {
   "cell_type": "code",
   "execution_count": null,
   "metadata": {
    "collapsed": true
   },
   "outputs": [],
   "source": [
    "%%time\n",
    "scoring = []\n",
    "for n_tree in n_trees:\n",
    "    estimator = ensemble.RandomForestClassifier(n_estimators = n_tree, min_samples_split=5, random_state=1)\n",
    "    score = cross_validation.cross_val_score(estimator, bioresponce_data, bioresponce_target, \n",
    "                                             scoring = 'accuracy', cv = 3)    \n",
    "    scoring.append(score)\n",
    "scoring = np.asmatrix(scoring)"
   ]
  },
  {
   "cell_type": "code",
   "execution_count": null,
   "metadata": {
    "collapsed": true
   },
   "outputs": [],
   "source": [
    "scoring"
   ]
  },
  {
   "cell_type": "code",
   "execution_count": null,
   "metadata": {
    "collapsed": true
   },
   "outputs": [],
   "source": [
    "pylab.plot(n_trees, scoring.mean(axis = 1), marker='.', label='RandomForest')\n",
    "pylab.grid(True)\n",
    "pylab.xlabel('n_trees')\n",
    "pylab.ylabel('score')\n",
    "pylab.title('Accuracy score')\n",
    "pylab.legend(loc='lower right')"
   ]
  },
  {
   "cell_type": "markdown",
   "metadata": {},
   "source": [
    "#### Кривые обучения для деревьев большей глубины"
   ]
  },
  {
   "cell_type": "code",
   "execution_count": null,
   "metadata": {
    "collapsed": true
   },
   "outputs": [],
   "source": [
    "%%time\n",
    "xgb_scoring = []\n",
    "for n_tree in n_trees:\n",
    "    estimator = xgb.XGBClassifier(learning_rate=0.1, max_depth=5, n_estimators=n_tree, min_child_weight=3)\n",
    "    score = cross_validation.cross_val_score(estimator, bioresponce_data, bioresponce_target, \n",
    "                                             scoring = 'accuracy', cv = 3)    \n",
    "    xgb_scoring.append(score)\n",
    "xgb_scoring = np.asmatrix(xgb_scoring)"
   ]
  },
  {
   "cell_type": "code",
   "execution_count": null,
   "metadata": {
    "collapsed": true
   },
   "outputs": [],
   "source": [
    "xgb_scoring"
   ]
  },
  {
   "cell_type": "code",
   "execution_count": null,
   "metadata": {
    "collapsed": true
   },
   "outputs": [],
   "source": [
    "pylab.plot(n_trees, scoring.mean(axis = 1), marker='.', label='RandomForest')\n",
    "pylab.plot(n_trees, xgb_scoring.mean(axis = 1), marker='.', label='XGBoost')\n",
    "pylab.grid(True)\n",
    "pylab.xlabel('n_trees')\n",
    "pylab.ylabel('score')\n",
    "pylab.title('Accuracy score')\n",
    "pylab.legend(loc='lower right')"
   ]
  },
  {
   "cell_type": "markdown",
   "metadata": {},
   "source": [
    "#### **Если Вас заинтересовал xgboost:**\n",
    "python api: http://xgboost.readthedocs.org/en/latest/python/python_api.html\n",
    "\n",
    "установка: http://xgboost.readthedocs.io/en/latest/build.html"
   ]
  }
 ],
 "metadata": {
  "kernelspec": {
   "display_name": "Python 3",
   "language": "python",
   "name": "python3"
  },
  "language_info": {
   "codemirror_mode": {
    "name": "ipython",
    "version": 3
   },
   "file_extension": ".py",
   "mimetype": "text/x-python",
   "name": "python",
   "nbconvert_exporter": "python",
   "pygments_lexer": "ipython3",
   "version": "3.6.2"
  }
 },
 "nbformat": 4,
 "nbformat_minor": 1
}
