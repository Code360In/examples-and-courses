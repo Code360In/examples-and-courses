{
 "cells": [
  {
   "cell_type": "code",
   "execution_count": null,
   "id": "77774056",
   "metadata": {},
   "outputs": [],
   "source": [
    "!pip install torch-scatter -f https://data.pyg.org/whl/torch-1.9.0+cu111.html\n",
    "!pip install torch-sparse -f https://data.pyg.org/whl/torch-1.9.0+cu111.html\n",
    "!pip install torch-geometric"
   ]
  },
  {
   "cell_type": "code",
   "execution_count": null,
   "id": "05db05d5",
   "metadata": {},
   "outputs": [],
   "source": [
    "import numpy as np\n",
    "import torch\n",
    "import torch_geometric.datasets as datasets\n",
    "import torch_geometric.data as data\n",
    "import torch_geometric.transforms as transforms\n",
    "import networkx as nx\n",
    "from torch_geometric.utils.convert import to_networkx"
   ]
  },
  {
   "cell_type": "markdown",
   "id": "4d015cbc",
   "metadata": {},
   "source": [
    "## Data Handling in PyG"
   ]
  },
  {
   "cell_type": "markdown",
   "id": "75643309",
   "metadata": {},
   "source": [
    "### Data"
   ]
  },
  {
   "cell_type": "markdown",
   "id": "8153c9bb",
   "metadata": {},
   "source": [
    "Let's create a dummy graph"
   ]
  },
  {
   "cell_type": "code",
   "execution_count": null,
   "id": "5249fb91",
   "metadata": {},
   "outputs": [],
   "source": [
    "embeddings = torch.rand((100, 16), dtype=torch.float)"
   ]
  },
  {
   "cell_type": "code",
   "execution_count": null,
   "id": "800dd51c",
   "metadata": {},
   "outputs": [],
   "source": [
    "rows = np.random.choice(100, 500)\n",
    "cols = np.random.choice(100, 500)\n",
    "edges = torch.tensor([rows, cols])"
   ]
  },
  {
   "cell_type": "code",
   "execution_count": null,
   "id": "4858d2d6",
   "metadata": {},
   "outputs": [],
   "source": [
    "edges_attr = np.random.choice(3,500)"
   ]
  },
  {
   "cell_type": "code",
   "execution_count": null,
   "id": "32f747e1",
   "metadata": {},
   "outputs": [],
   "source": [
    "ys = torch.rand((100)).round().long()"
   ]
  },
  {
   "cell_type": "markdown",
   "id": "4fedf5f7",
   "metadata": {},
   "source": [
    "Convert the graph information into a PyG Data object"
   ]
  },
  {
   "cell_type": "code",
   "execution_count": null,
   "id": "8257d259",
   "metadata": {},
   "outputs": [],
   "source": [
    "graph = data.Data(x=embeddings, edge_index=edges, edge_attr=edges_attr, y=ys)"
   ]
  },
  {
   "cell_type": "code",
   "execution_count": null,
   "id": "d53099a8",
   "metadata": {},
   "outputs": [],
   "source": [
    "graph"
   ]
  },
  {
   "cell_type": "markdown",
   "id": "b40d4a39",
   "metadata": {},
   "source": [
    "Let's visualize the information contained in the data object"
   ]
  },
  {
   "cell_type": "code",
   "execution_count": null,
   "id": "9346ce30",
   "metadata": {},
   "outputs": [],
   "source": [
    "for prop in graph:\n",
    "    print(prop)"
   ]
  },
  {
   "cell_type": "code",
   "execution_count": null,
   "id": "9ce658ab",
   "metadata": {},
   "outputs": [],
   "source": [
    "vis = to_networkx(graph)\n",
    "\n",
    "node_labels = graph.y.numpy()\n",
    "\n",
    "import matplotlib.pyplot as plt\n",
    "plt.figure(1,figsize=(15,13)) \n",
    "nx.draw(vis, cmap=plt.get_cmap('Set3'),node_color = node_labels,node_size=70,linewidths=6)\n",
    "plt.show()"
   ]
  },
  {
   "cell_type": "markdown",
   "id": "e868a39e",
   "metadata": {},
   "source": [
    "### Batch"
   ]
  },
  {
   "cell_type": "markdown",
   "id": "51a19d5b",
   "metadata": {},
   "source": [
    "With the Batch object we can represent multiple graphs as a single disconnected graph"
   ]
  },
  {
   "cell_type": "code",
   "execution_count": null,
   "id": "0f6b2704",
   "metadata": {},
   "outputs": [],
   "source": [
    "graph2 = graph"
   ]
  },
  {
   "cell_type": "code",
   "execution_count": null,
   "id": "a309d319",
   "metadata": {},
   "outputs": [],
   "source": [
    "batch = data.Batch().from_data_list([graph, graph2])"
   ]
  },
  {
   "cell_type": "code",
   "execution_count": null,
   "id": "5b56948b",
   "metadata": {},
   "outputs": [],
   "source": [
    "print(\"Number of graphs:\",batch.num_graphs)\n",
    "print(\"Graph at index 1:\",batch[1])\n",
    "print(\"Retrieve the list of graphs:\\n\",len(batch.to_data_list()))"
   ]
  },
  {
   "cell_type": "markdown",
   "id": "ce13becd",
   "metadata": {},
   "source": [
    "### Cluster"
   ]
  },
  {
   "cell_type": "markdown",
   "id": "d0c464d0",
   "metadata": {},
   "source": [
    "ClusterData groups the nodes of a graph into a specific number of cluster for faster computation in large graphs, then use ClusterLoader to load batches of clusters"
   ]
  },
  {
   "cell_type": "code",
   "execution_count": null,
   "id": "5957340c",
   "metadata": {
    "scrolled": false
   },
   "outputs": [],
   "source": [
    "#cluster = data.ClusterData(graph, 5)"
   ]
  },
  {
   "cell_type": "code",
   "execution_count": null,
   "id": "79fdc313",
   "metadata": {},
   "outputs": [],
   "source": [
    "#clusterloader = data.ClusterLoader(cluster)"
   ]
  },
  {
   "cell_type": "markdown",
   "id": "02886b8c",
   "metadata": {},
   "source": [
    "### Sampler"
   ]
  },
  {
   "cell_type": "markdown",
   "id": "6d3d7b53",
   "metadata": {},
   "source": [
    "For each convolutional layer, sample a maximum of nodes from each neighborhood (as in GraphSAGE)"
   ]
  },
  {
   "cell_type": "code",
   "execution_count": null,
   "id": "ad5e660d",
   "metadata": {},
   "outputs": [],
   "source": [
    "sampler = data.NeighborSampler(graph.edge_index, sizes=[3,10], batch_size=4,\n",
    "                                  shuffle=False)"
   ]
  },
  {
   "cell_type": "code",
   "execution_count": null,
   "id": "1f4fad55",
   "metadata": {
    "scrolled": false
   },
   "outputs": [],
   "source": [
    "for s in sampler:\n",
    "    print(s)\n",
    "    break"
   ]
  },
  {
   "cell_type": "code",
   "execution_count": null,
   "id": "b891aa74",
   "metadata": {},
   "outputs": [],
   "source": [
    "print(\"Batch size:\", s[0])\n",
    "print(\"Number of unique nodes involved in the sampling:\",len(s[1]))\n",
    "print(\"Number of neighbors sampled:\", len(s[2][0].edge_index[0]), len(s[2][1].edge_index[0]))"
   ]
  },
  {
   "cell_type": "markdown",
   "id": "d5846044",
   "metadata": {},
   "source": [
    "### Datasets"
   ]
  },
  {
   "cell_type": "markdown",
   "id": "5e694db4",
   "metadata": {},
   "source": [
    "List all the available datasets"
   ]
  },
  {
   "cell_type": "code",
   "execution_count": null,
   "id": "517ef04e",
   "metadata": {},
   "outputs": [],
   "source": [
    "datasets.__all__"
   ]
  },
  {
   "cell_type": "code",
   "execution_count": null,
   "id": "65b044f0",
   "metadata": {},
   "outputs": [],
   "source": [
    "name = 'Cora'\n",
    "transform = transforms.Compose([\n",
    "    transforms.AddTrainValTestMask('train_rest', num_val=500, num_test=500),\n",
    "    transforms.TargetIndegree(),\n",
    "])\n",
    "cora = datasets.Planetoid('./data', name, pre_transform=transforms.NormalizeFeatures(), transform=transform)"
   ]
  },
  {
   "cell_type": "code",
   "execution_count": null,
   "id": "af19b75e",
   "metadata": {},
   "outputs": [],
   "source": [
    "aids = datasets.TUDataset(root=\"./data\", name=\"AIDS\")"
   ]
  },
  {
   "cell_type": "code",
   "execution_count": null,
   "id": "da84c8f6",
   "metadata": {},
   "outputs": [],
   "source": [
    "print(\"AIDS info:\")\n",
    "print('# of graphs:', len(aids))\n",
    "print('# Classes (graphs)', aids.num_classes)\n",
    "print('# Edge features', aids.num_edge_features)\n",
    "print('# Edge labels', aids.num_edge_labels)\n",
    "print('# Node features', aids.num_node_features)"
   ]
  },
  {
   "cell_type": "code",
   "execution_count": null,
   "id": "58bed3c7",
   "metadata": {},
   "outputs": [],
   "source": [
    "print(\"Cora info:\")\n",
    "print('# of graphs:', len(cora))\n",
    "print('# Classes (nodes)', cora.num_classes)\n",
    "print('# Edge features', cora.num_edge_features)\n",
    "print('# Node features', cora.num_node_features)"
   ]
  },
  {
   "cell_type": "code",
   "execution_count": null,
   "id": "b7b848a9",
   "metadata": {},
   "outputs": [],
   "source": [
    "aids.data"
   ]
  },
  {
   "cell_type": "code",
   "execution_count": null,
   "id": "2d5294e1",
   "metadata": {},
   "outputs": [],
   "source": [
    "aids[0]"
   ]
  },
  {
   "cell_type": "code",
   "execution_count": null,
   "id": "9542c914",
   "metadata": {},
   "outputs": [],
   "source": [
    "cora.data"
   ]
  },
  {
   "cell_type": "code",
   "execution_count": null,
   "id": "2dc6ea4a",
   "metadata": {},
   "outputs": [],
   "source": [
    "cora[0]"
   ]
  },
  {
   "cell_type": "code",
   "execution_count": null,
   "id": "59a1c28e",
   "metadata": {},
   "outputs": [],
   "source": [
    "cora_loader = data.DataLoader(cora)"
   ]
  },
  {
   "cell_type": "code",
   "execution_count": null,
   "id": "14e4797e",
   "metadata": {},
   "outputs": [],
   "source": [
    "for l in cora_loader:\n",
    "    print(l)\n",
    "    break"
   ]
  },
  {
   "cell_type": "code",
   "execution_count": null,
   "id": "cddf8ae9",
   "metadata": {},
   "outputs": [],
   "source": []
  }
 ],
 "metadata": {
  "kernelspec": {
   "display_name": "Python 3",
   "language": "python",
   "name": "python3"
  },
  "language_info": {
   "codemirror_mode": {
    "name": "ipython",
    "version": 3
   },
   "file_extension": ".py",
   "mimetype": "text/x-python",
   "name": "python",
   "nbconvert_exporter": "python",
   "pygments_lexer": "ipython3",
   "version": "3.6.8"
  }
 },
 "nbformat": 4,
 "nbformat_minor": 5
}
