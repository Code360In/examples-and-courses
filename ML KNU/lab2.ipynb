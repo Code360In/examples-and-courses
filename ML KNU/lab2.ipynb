{
 "cells": [
  {
   "cell_type": "markdown",
   "metadata": {},
   "source": [
    "## Module importing"
   ]
  },
  {
   "cell_type": "code",
   "execution_count": 3,
   "metadata": {},
   "outputs": [],
   "source": [
    "import pandas as pd\n",
    "import numpy as np"
   ]
  },
  {
   "cell_type": "code",
   "execution_count": 4,
   "metadata": {},
   "outputs": [],
   "source": [
    "import seaborn as sns\n",
    "import matplotlib.pyplot as plt\n",
    "import matplotlib.gridspec as gridspec"
   ]
  },
  {
   "cell_type": "code",
   "execution_count": 5,
   "metadata": {},
   "outputs": [],
   "source": [
    "%matplotlib inline"
   ]
  },
  {
   "cell_type": "markdown",
   "metadata": {},
   "source": [
    "## Data loading"
   ]
  },
  {
   "cell_type": "markdown",
   "metadata": {},
   "source": [
    "1. Age of patient at time of operation (numerical)\n",
    "2. Patient's year of operation (year - 1900, numerical)\n",
    "3. Number of positive axillary nodes detected (numerical)\n",
    "4. Survival status (class attribute)\n",
    "    + 1 = the patient survived 5 years or longer\n",
    "    + 2 = the patient died within 5 year"
   ]
  },
  {
   "cell_type": "code",
   "execution_count": 6,
   "metadata": {},
   "outputs": [
    {
     "data": {
      "text/plain": [
       "(306, 4)"
      ]
     },
     "execution_count": 6,
     "metadata": {},
     "output_type": "execute_result"
    }
   ],
   "source": [
    "data = pd.read_csv('data/haberman.data', header=None)\n",
    "data.columns = ['age', 'operation_year', 'np_nodes', 'survival']\n",
    "data.shape"
   ]
  },
  {
   "cell_type": "markdown",
   "metadata": {},
   "source": [
    "## Simple data preprocessing"
   ]
  },
  {
   "cell_type": "code",
   "execution_count": 7,
   "metadata": {},
   "outputs": [],
   "source": [
    "data.survival = data.survival.map({1: 1, 2: 0})"
   ]
  },
  {
   "cell_type": "markdown",
   "metadata": {},
   "source": [
    "_Перетворiть на фактор колонку Age - до 30 рокiв, 30-60, бiльше 60_\n",
    "\n",
    "**Оскільки в датасеті немає записів про пацієнтів з віком < 30, тому будемо використовувати наступні розпоідли:**\n",
    "+ до 40\n",
    "+ 40-60\n",
    "+ більше 60"
   ]
  },
  {
   "cell_type": "code",
   "execution_count": 8,
   "metadata": {},
   "outputs": [],
   "source": [
    "data.age = data.age.apply(lambda x: '< 40' if x < 40 else '> 60' if x > 60 else '40-60')"
   ]
  },
  {
   "cell_type": "markdown",
   "metadata": {},
   "source": [
    "## I PART"
   ]
  },
  {
   "cell_type": "markdown",
   "metadata": {},
   "source": [
    "**Опрацювати данi на предмет пропущених значень.**"
   ]
  },
  {
   "cell_type": "markdown",
   "metadata": {},
   "source": [
    "## EDA"
   ]
  },
  {
   "cell_type": "code",
   "execution_count": 9,
   "metadata": {},
   "outputs": [
    {
     "data": {
      "text/html": [
       "<div>\n",
       "<style scoped>\n",
       "    .dataframe tbody tr th:only-of-type {\n",
       "        vertical-align: middle;\n",
       "    }\n",
       "\n",
       "    .dataframe tbody tr th {\n",
       "        vertical-align: top;\n",
       "    }\n",
       "\n",
       "    .dataframe thead th {\n",
       "        text-align: right;\n",
       "    }\n",
       "</style>\n",
       "<table border=\"1\" class=\"dataframe\">\n",
       "  <thead>\n",
       "    <tr style=\"text-align: right;\">\n",
       "      <th></th>\n",
       "      <th>age</th>\n",
       "      <th>operation_year</th>\n",
       "      <th>np_nodes</th>\n",
       "      <th>survival</th>\n",
       "    </tr>\n",
       "  </thead>\n",
       "  <tbody>\n",
       "    <tr>\n",
       "      <th>0</th>\n",
       "      <td>&lt; 40</td>\n",
       "      <td>64</td>\n",
       "      <td>1</td>\n",
       "      <td>1</td>\n",
       "    </tr>\n",
       "    <tr>\n",
       "      <th>1</th>\n",
       "      <td>&lt; 40</td>\n",
       "      <td>62</td>\n",
       "      <td>3</td>\n",
       "      <td>1</td>\n",
       "    </tr>\n",
       "    <tr>\n",
       "      <th>2</th>\n",
       "      <td>&lt; 40</td>\n",
       "      <td>65</td>\n",
       "      <td>0</td>\n",
       "      <td>1</td>\n",
       "    </tr>\n",
       "    <tr>\n",
       "      <th>3</th>\n",
       "      <td>&lt; 40</td>\n",
       "      <td>59</td>\n",
       "      <td>2</td>\n",
       "      <td>1</td>\n",
       "    </tr>\n",
       "    <tr>\n",
       "      <th>4</th>\n",
       "      <td>&lt; 40</td>\n",
       "      <td>65</td>\n",
       "      <td>4</td>\n",
       "      <td>1</td>\n",
       "    </tr>\n",
       "  </tbody>\n",
       "</table>\n",
       "</div>"
      ],
      "text/plain": [
       "    age  operation_year  np_nodes  survival\n",
       "0  < 40              64         1         1\n",
       "1  < 40              62         3         1\n",
       "2  < 40              65         0         1\n",
       "3  < 40              59         2         1\n",
       "4  < 40              65         4         1"
      ]
     },
     "execution_count": 9,
     "metadata": {},
     "output_type": "execute_result"
    }
   ],
   "source": [
    "data.head()"
   ]
  },
  {
   "cell_type": "code",
   "execution_count": 10,
   "metadata": {},
   "outputs": [
    {
     "name": "stdout",
     "output_type": "stream",
     "text": [
      "<class 'pandas.core.frame.DataFrame'>\n",
      "RangeIndex: 306 entries, 0 to 305\n",
      "Data columns (total 4 columns):\n",
      " #   Column          Non-Null Count  Dtype \n",
      "---  ------          --------------  ----- \n",
      " 0   age             306 non-null    object\n",
      " 1   operation_year  306 non-null    int64 \n",
      " 2   np_nodes        306 non-null    int64 \n",
      " 3   survival        306 non-null    int64 \n",
      "dtypes: int64(3), object(1)\n",
      "memory usage: 9.7+ KB\n"
     ]
    }
   ],
   "source": [
    "data.info()"
   ]
  },
  {
   "cell_type": "markdown",
   "metadata": {},
   "source": [
    "**Як бачимо, в наших даних відсутні пропущені значення**"
   ]
  },
  {
   "cell_type": "code",
   "execution_count": 11,
   "metadata": {},
   "outputs": [
    {
     "data": {
      "text/html": [
       "<div>\n",
       "<style scoped>\n",
       "    .dataframe tbody tr th:only-of-type {\n",
       "        vertical-align: middle;\n",
       "    }\n",
       "\n",
       "    .dataframe tbody tr th {\n",
       "        vertical-align: top;\n",
       "    }\n",
       "\n",
       "    .dataframe thead th {\n",
       "        text-align: right;\n",
       "    }\n",
       "</style>\n",
       "<table border=\"1\" class=\"dataframe\">\n",
       "  <thead>\n",
       "    <tr style=\"text-align: right;\">\n",
       "      <th></th>\n",
       "      <th>operation_year</th>\n",
       "      <th>np_nodes</th>\n",
       "      <th>survival</th>\n",
       "    </tr>\n",
       "  </thead>\n",
       "  <tbody>\n",
       "    <tr>\n",
       "      <th>count</th>\n",
       "      <td>306.000000</td>\n",
       "      <td>306.000000</td>\n",
       "      <td>306.000000</td>\n",
       "    </tr>\n",
       "    <tr>\n",
       "      <th>mean</th>\n",
       "      <td>62.852941</td>\n",
       "      <td>4.026144</td>\n",
       "      <td>0.735294</td>\n",
       "    </tr>\n",
       "    <tr>\n",
       "      <th>std</th>\n",
       "      <td>3.249405</td>\n",
       "      <td>7.189654</td>\n",
       "      <td>0.441899</td>\n",
       "    </tr>\n",
       "    <tr>\n",
       "      <th>min</th>\n",
       "      <td>58.000000</td>\n",
       "      <td>0.000000</td>\n",
       "      <td>0.000000</td>\n",
       "    </tr>\n",
       "    <tr>\n",
       "      <th>25%</th>\n",
       "      <td>60.000000</td>\n",
       "      <td>0.000000</td>\n",
       "      <td>0.000000</td>\n",
       "    </tr>\n",
       "    <tr>\n",
       "      <th>50%</th>\n",
       "      <td>63.000000</td>\n",
       "      <td>1.000000</td>\n",
       "      <td>1.000000</td>\n",
       "    </tr>\n",
       "    <tr>\n",
       "      <th>75%</th>\n",
       "      <td>65.750000</td>\n",
       "      <td>4.000000</td>\n",
       "      <td>1.000000</td>\n",
       "    </tr>\n",
       "    <tr>\n",
       "      <th>max</th>\n",
       "      <td>69.000000</td>\n",
       "      <td>52.000000</td>\n",
       "      <td>1.000000</td>\n",
       "    </tr>\n",
       "  </tbody>\n",
       "</table>\n",
       "</div>"
      ],
      "text/plain": [
       "       operation_year    np_nodes    survival\n",
       "count      306.000000  306.000000  306.000000\n",
       "mean        62.852941    4.026144    0.735294\n",
       "std          3.249405    7.189654    0.441899\n",
       "min         58.000000    0.000000    0.000000\n",
       "25%         60.000000    0.000000    0.000000\n",
       "50%         63.000000    1.000000    1.000000\n",
       "75%         65.750000    4.000000    1.000000\n",
       "max         69.000000   52.000000    1.000000"
      ]
     },
     "execution_count": 11,
     "metadata": {},
     "output_type": "execute_result"
    }
   ],
   "source": [
    "data.describe()"
   ]
  },
  {
   "cell_type": "code",
   "execution_count": 12,
   "metadata": {},
   "outputs": [
    {
     "data": {
      "text/plain": [
       "1    225\n",
       "0     81\n",
       "Name: survival, dtype: int64"
      ]
     },
     "execution_count": 12,
     "metadata": {},
     "output_type": "execute_result"
    }
   ],
   "source": [
    "data['survival'].value_counts()"
   ]
  },
  {
   "cell_type": "markdown",
   "metadata": {},
   "source": [
    "**Цільова змінна є незбалансованою. Для покращення результату можна спробувати виконати балансування класів.**"
   ]
  },
  {
   "cell_type": "code",
   "execution_count": 14,
   "metadata": {},
   "outputs": [
    {
     "data": {
      "image/png": "[encoded data removed]",
      "text/plain": [
       "<Figure size 1440x1080 with 4 Axes>"
      ]
     },
     "metadata": {
      "needs_background": "light"
     },
     "output_type": "display_data"
    }
   ],
   "source": [
    "fig = plt.figure(constrained_layout=True, figsize=(20, 15))\n",
    "\n",
    "# Creating a grid:\n",
    "\n",
    "grid = gridspec.GridSpec(ncols=4, nrows=4, figure=fig)\n",
    "\n",
    "ax1 = fig.add_subplot(grid[0,:])\n",
    "\n",
    "# Set the title.\n",
    "\n",
    "ax1.set_title('Positive axillary nodes distribution')\n",
    "\n",
    "sns.countplot(data.np_nodes.sort_values(ignore_index=True),\n",
    "              alpha=0.9,\n",
    "              ax=ax1,\n",
    "              label='Train')\n",
    "ax1.legend()\n",
    "\n",
    "\n",
    "\n",
    "ax2 = fig.add_subplot(grid[1, :])\n",
    "\n",
    "# Set the title.\n",
    "\n",
    "ax2.set_title('Age distribution')\n",
    "\n",
    "# Plot the histogram.\n",
    "\n",
    "sns.countplot(data.age.sort_values(ignore_index=True),\n",
    "              alpha=0.9,\n",
    "              ax=ax2,\n",
    "              label='Train')\n",
    "\n",
    "ax2.legend()\n",
    "\n",
    "\n",
    "\n",
    "ax3 = fig.add_subplot(grid[2,:])\n",
    "\n",
    "# Set the title.\n",
    "\n",
    "ax3.set_title('Patient`s year of operation distribution')\n",
    "\n",
    "sns.countplot(data.operation_year.sort_values(ignore_index=True),\n",
    "              alpha=0.9,\n",
    "              ax=ax3,\n",
    "              label='Train')\n",
    "ax3.legend()\n",
    "\n",
    "\n",
    "\n",
    "ax4 = fig.add_subplot(grid[3,:])\n",
    "\n",
    "# Set the title.\n",
    "\n",
    "ax4.set_title('Survival status')\n",
    "\n",
    "sns.countplot(data.survival.sort_values(ignore_index=True),\n",
    "              alpha=0.9,\n",
    "              ax=ax4,\n",
    "              label='Train')\n",
    "ax4.legend()\n",
    "\n",
    "\n",
    "plt.show()\n"
   ]
  },
  {
   "cell_type": "code",
   "execution_count": 15,
   "metadata": {},
   "outputs": [
    {
     "data": {
      "text/plain": [
       "<AxesSubplot:>"
      ]
     },
     "execution_count": 15,
     "metadata": {},
     "output_type": "execute_result"
    },
    {
     "data": {
      "image/png": "[encoded data removed]",
      "text/plain": [
       "<Figure size 576x576 with 2 Axes>"
      ]
     },
     "metadata": {
      "needs_background": "light"
     },
     "output_type": "display_data"
    }
   ],
   "source": [
    "f, ax = plt.subplots(1,1, figsize=(8,8))\n",
    "sns.heatmap(data.corr(), annot=True, ax=ax)"
   ]
  },
  {
   "cell_type": "code",
   "execution_count": 17,
   "metadata": {},
   "outputs": [
    {
     "data": {
      "text/plain": [
       "<AxesSubplot:>"
      ]
     },
     "execution_count": 17,
     "metadata": {},
     "output_type": "execute_result"
    },
    {
     "data": {
      "image/png": "[encoded data removed]",
      "text/plain": [
       "<Figure size 576x576 with 2 Axes>"
      ]
     },
     "metadata": {
      "needs_background": "light"
     },
     "output_type": "display_data"
    }
   ],
   "source": [
    "f, ax = plt.subplots(1,1, figsize=(8,8))\n",
    "sns.heatmap(data.corr(method='spearman'), annot=True, ax=ax)"
   ]
  },
  {
   "cell_type": "markdown",
   "metadata": {},
   "source": [
    "## II - IV PARTS"
   ]
  },
  {
   "cell_type": "markdown",
   "metadata": {},
   "source": [
    "**Побудувати наївний байєсiвський класифiкатор.**\n",
    "\n",
    "**Провести класифiкацiю методом k-nn, спробуйте рiзнi значення n.**\n",
    "\n",
    "**Провести класифiкацiю за допомогою логiстичної регресiї.**"
   ]
  },
  {
   "cell_type": "markdown",
   "metadata": {},
   "source": [
    "## Data preparation"
   ]
  },
  {
   "cell_type": "code",
   "execution_count": 264,
   "metadata": {},
   "outputs": [],
   "source": [
    "from sklearn.model_selection import train_test_split\n",
    "from sklearn.preprocessing import StandardScaler"
   ]
  },
  {
   "cell_type": "code",
   "execution_count": 265,
   "metadata": {},
   "outputs": [],
   "source": [
    "scaler = StandardScaler()"
   ]
  },
  {
   "cell_type": "code",
   "execution_count": 266,
   "metadata": {},
   "outputs": [],
   "source": [
    "X = data.drop(['survival', 'age'], axis=1)\n",
    "y = data['survival']"
   ]
  },
  {
   "cell_type": "code",
   "execution_count": 267,
   "metadata": {},
   "outputs": [],
   "source": [
    "X = scaler.fit_transform(X)"
   ]
  },
  {
   "cell_type": "code",
   "execution_count": 268,
   "metadata": {},
   "outputs": [],
   "source": [
    "X_train, X_test, y_train, y_test = train_test_split(X, y, test_size=0.2, shuffle=True, random_state=42)"
   ]
  },
  {
   "cell_type": "markdown",
   "metadata": {},
   "source": [
    "## Model building"
   ]
  },
  {
   "cell_type": "markdown",
   "metadata": {},
   "source": [
    "### Naive bayes"
   ]
  },
  {
   "cell_type": "code",
   "execution_count": 269,
   "metadata": {},
   "outputs": [],
   "source": [
    "from sklearn.naive_bayes import GaussianNB\n",
    "from sklearn.metrics import roc_auc_score, classification_report"
   ]
  },
  {
   "cell_type": "markdown",
   "metadata": {},
   "source": [
    "**В якості метрики якості будемо використовувати roc-auc**"
   ]
  },
  {
   "cell_type": "code",
   "execution_count": 270,
   "metadata": {},
   "outputs": [],
   "source": [
    "nb = GaussianNB()"
   ]
  },
  {
   "cell_type": "code",
   "execution_count": 271,
   "metadata": {},
   "outputs": [
    {
     "data": {
      "text/plain": [
       "GaussianNB()"
      ]
     },
     "execution_count": 271,
     "metadata": {},
     "output_type": "execute_result"
    }
   ],
   "source": [
    "nb.fit(X_train, y_train)"
   ]
  },
  {
   "cell_type": "code",
   "execution_count": 272,
   "metadata": {},
   "outputs": [],
   "source": [
    "predict_nb_train = nb.predict_proba(X_train)[:, 1]\n",
    "predict_nb_test = nb.predict_proba(X_test)[:, 1]"
   ]
  },
  {
   "cell_type": "code",
   "execution_count": 273,
   "metadata": {},
   "outputs": [
    {
     "name": "stdout",
     "output_type": "stream",
     "text": [
      "(train|NB) roc-auc = 0.7058668771375954\n",
      "(test|NB) roc-auc = 0.5707070707070707\n"
     ]
    }
   ],
   "source": [
    "print(f'(train|NB) roc-auc = {roc_auc_score(y_train, predict_nb_train)}')\n",
    "print(f'(test|NB) roc-auc = {roc_auc_score(y_test, predict_nb_test)}')"
   ]
  },
  {
   "cell_type": "code",
   "execution_count": 274,
   "metadata": {},
   "outputs": [
    {
     "name": "stdout",
     "output_type": "stream",
     "text": [
      "Test set report\n",
      "              precision    recall  f1-score   support\n",
      "\n",
      "           0       0.50      0.22      0.31        18\n",
      "           1       0.74      0.91      0.82        44\n",
      "\n",
      "    accuracy                           0.71        62\n",
      "   macro avg       0.62      0.57      0.56        62\n",
      "weighted avg       0.67      0.71      0.67        62\n",
      "\n"
     ]
    }
   ],
   "source": [
    "print('Test set report')\n",
    "print(classification_report(y_test, predict_nb_test.round()))"
   ]
  },
  {
   "cell_type": "markdown",
   "metadata": {},
   "source": [
    "**Бачимо, що дана модель показує поганий результат на тестовій вибірці, якщо порівнювати з результатом на навчальній вибірці. Можемо зробити висновок, що модель перенавчилась.**"
   ]
  },
  {
   "cell_type": "markdown",
   "metadata": {},
   "source": [
    "### K-NN"
   ]
  },
  {
   "cell_type": "code",
   "execution_count": 275,
   "metadata": {},
   "outputs": [],
   "source": [
    "from sklearn.neighbors import KNeighborsClassifier\n",
    "from sklearn.model_selection import GridSearchCV"
   ]
  },
  {
   "cell_type": "markdown",
   "metadata": {},
   "source": [
    "**Для пошуку найкращого значення параметра n_neighbors використаємо GridSearchCV**"
   ]
  },
  {
   "cell_type": "code",
   "execution_count": 276,
   "metadata": {},
   "outputs": [],
   "source": [
    "parameters = {'n_neighbors': np.arange(2, 10)}"
   ]
  },
  {
   "cell_type": "code",
   "execution_count": 277,
   "metadata": {},
   "outputs": [],
   "source": [
    "knn = KNeighborsClassifier()"
   ]
  },
  {
   "cell_type": "code",
   "execution_count": 278,
   "metadata": {},
   "outputs": [
    {
     "data": {
      "text/plain": [
       "KNeighborsClassifier(n_neighbors=8)"
      ]
     },
     "execution_count": 278,
     "metadata": {},
     "output_type": "execute_result"
    }
   ],
   "source": [
    "knn_grid = GridSearchCV(knn, parameters, cv=5)\n",
    "\n",
    "#fit the grid search\n",
    "knn_grid.fit(X_train, y_train)\n",
    "\n",
    "# best model\n",
    "best_model_knn = knn_grid.best_estimator_\n",
    "best_model_knn.fit(X_train, y_train)"
   ]
  },
  {
   "cell_type": "code",
   "execution_count": 279,
   "metadata": {},
   "outputs": [],
   "source": [
    "predict_knn_test = best_model_knn.predict_proba(X_test)[:, 1]\n",
    "predict_knn_train = best_model_knn.predict_proba(X_train)[:, 1]"
   ]
  },
  {
   "cell_type": "code",
   "execution_count": 280,
   "metadata": {},
   "outputs": [
    {
     "name": "stdout",
     "output_type": "stream",
     "text": [
      "(train|KNN) roc-auc = 0.7588353941945103\n",
      "(test|KNN) roc-auc = 0.67739898989899\n"
     ]
    }
   ],
   "source": [
    "print(f'(train|KNN) roc-auc = {roc_auc_score(y_train, predict_knn_train)}')\n",
    "print(f'(test|KNN) roc-auc = {roc_auc_score(y_test, predict_knn_test)}')"
   ]
  },
  {
   "cell_type": "code",
   "execution_count": 281,
   "metadata": {},
   "outputs": [
    {
     "name": "stdout",
     "output_type": "stream",
     "text": [
      "Test set report\n",
      "              precision    recall  f1-score   support\n",
      "\n",
      "           0       0.50      0.33      0.40        18\n",
      "           1       0.76      0.86      0.81        44\n",
      "\n",
      "    accuracy                           0.71        62\n",
      "   macro avg       0.63      0.60      0.60        62\n",
      "weighted avg       0.68      0.71      0.69        62\n",
      "\n"
     ]
    }
   ],
   "source": [
    "print('Test set report')\n",
    "print(classification_report(y_test, predict_knn_test.round()))"
   ]
  },
  {
   "cell_type": "markdown",
   "metadata": {},
   "source": [
    "**Результат все на тестовій вибірці покращився, але модель досі перенавчається.**"
   ]
  },
  {
   "cell_type": "markdown",
   "metadata": {},
   "source": [
    "### Logistic Regression"
   ]
  },
  {
   "cell_type": "code",
   "execution_count": 282,
   "metadata": {},
   "outputs": [],
   "source": [
    "from sklearn.linear_model import LogisticRegression"
   ]
  },
  {
   "cell_type": "code",
   "execution_count": 283,
   "metadata": {},
   "outputs": [],
   "source": [
    "lr = LogisticRegression()"
   ]
  },
  {
   "cell_type": "code",
   "execution_count": 284,
   "metadata": {},
   "outputs": [
    {
     "data": {
      "text/plain": [
       "LogisticRegression()"
      ]
     },
     "execution_count": 284,
     "metadata": {},
     "output_type": "execute_result"
    }
   ],
   "source": [
    "lr.fit(X_train, y_train)"
   ]
  },
  {
   "cell_type": "code",
   "execution_count": 285,
   "metadata": {},
   "outputs": [],
   "source": [
    "predict_lr_train = lr.predict_proba(X_train)[:, 1]\n",
    "predict_lr_test = lr.predict_proba(X_test)[:, 1]"
   ]
  },
  {
   "cell_type": "code",
   "execution_count": 286,
   "metadata": {},
   "outputs": [
    {
     "name": "stdout",
     "output_type": "stream",
     "text": [
      "(train|LR) roc-auc = 0.7184074366394808\n",
      "(test|LR) roc-auc = 0.5984848484848485\n"
     ]
    }
   ],
   "source": [
    "print(f'(train|LR) roc-auc = {roc_auc_score(y_train, predict_lr_train)}')\n",
    "print(f'(test|LR) roc-auc = {roc_auc_score(y_test, predict_lr_test)}')"
   ]
  },
  {
   "cell_type": "code",
   "execution_count": 287,
   "metadata": {},
   "outputs": [
    {
     "name": "stdout",
     "output_type": "stream",
     "text": [
      "Test set report\n",
      "              precision    recall  f1-score   support\n",
      "\n",
      "           0       0.50      0.17      0.25        18\n",
      "           1       0.73      0.93      0.82        44\n",
      "\n",
      "    accuracy                           0.71        62\n",
      "   macro avg       0.62      0.55      0.53        62\n",
      "weighted avg       0.66      0.71      0.65        62\n",
      "\n"
     ]
    }
   ],
   "source": [
    "print('Test set report')\n",
    "print(classification_report(y_test, predict_lr_test.round()))"
   ]
  },
  {
   "cell_type": "markdown",
   "metadata": {},
   "source": [
    "**Результат роботи логістичної є кращим, ніж Naive bayes, але гіршим за K-NN**"
   ]
  },
  {
   "cell_type": "markdown",
   "metadata": {},
   "source": [
    "## V PART"
   ]
  },
  {
   "cell_type": "markdown",
   "metadata": {},
   "source": [
    "**Додайте до моделi факторнi данi. Для цього можна скористатися рiзними технiками: присвоїти кожному фактору деяке число i проводити звичайний аналiз (для яких методiв цей пiдхiд може спрацювати краще?), iнший пiдхiд полягає у тому щоб розбити вибiрку на пiдвибiрки по кожному значенню фактора i аналiзувати пiдвибiрки окремо.**"
   ]
  },
  {
   "cell_type": "markdown",
   "metadata": {},
   "source": [
    "**Спробуємо застосувати метод кодування категоріальних змінних під назвою OneHotEncoder (він добре підходить для моделей, які показують гарний результат при роботі з розрідженими даними) та MeanEncoding (кодування середнім по цільовому класу)**\n",
    "\n",
    "**Отже, застосуємо наступні техніки кодування для алгоритмів:**\n",
    "+ Naive bayes - MeanEncoding\n",
    "+ K-NN - MeanEncoding\n",
    "+ Logistic Regression - OneHotEncoding"
   ]
  },
  {
   "cell_type": "markdown",
   "metadata": {},
   "source": [
    "**P.S. Кодування категоріальних зміних довільним числом добре підійде для алгоритмів, які працюють на основі дерева прийняття рішень. В нашому випадку, кодуючи категоріальні змінні довільними числами ми будем вносити поняття величини та порядку, що вплине на роботу метричних алгоритмів.**"
   ]
  },
  {
   "cell_type": "markdown",
   "metadata": {},
   "source": [
    "## Data preparation"
   ]
  },
  {
   "cell_type": "code",
   "execution_count": 318,
   "metadata": {},
   "outputs": [],
   "source": [
    "def encode_target_smooth(data, target, categ_variables, smooth):\n",
    "    \"\"\"    \n",
    "    Apply target encoding with smoothing.\n",
    "    \n",
    "    Parameters\n",
    "    ----------\n",
    "    data: pd.DataFrame\n",
    "    target: str, dependent variable\n",
    "    categ_variables: list of str, variables to encode\n",
    "    smooth: int, number of observations to weigh global average with\n",
    "    \n",
    "    Returns\n",
    "    --------\n",
    "    encoded_dataset: pd.DataFrame\n",
    "    code_map: dict, mapping to be used on validation/test datasets \n",
    "    defaul_map: dict, mapping to replace previously unseen values with\n",
    "    \"\"\"\n",
    "    train_target = data.copy()\n",
    "    code_map = dict()    # stores mapping between original and encoded values\n",
    "    default_map = dict() # stores global average of each variable\n",
    "    \n",
    "    for v in categ_variables:\n",
    "        prior = data[target].mean()\n",
    "        n = data.groupby(v).size()\n",
    "        mu = data.groupby(v)[target].mean()\n",
    "        mu_smoothed = (n * mu + smooth * prior) / (n + smooth)\n",
    "        \n",
    "        train_target.loc[:, v] = train_target[v].map(mu_smoothed)        \n",
    "        code_map[v] = mu_smoothed\n",
    "        default_map[v] = prior        \n",
    "    return train_target, code_map, default_map"
   ]
  },
  {
   "cell_type": "code",
   "execution_count": 319,
   "metadata": {},
   "outputs": [],
   "source": [
    "scaler = StandardScaler()"
   ]
  },
  {
   "cell_type": "code",
   "execution_count": 320,
   "metadata": {},
   "outputs": [],
   "source": [
    "X, _, _ = encode_target_smooth(data, 'survival', ['age'], 300)\n",
    "X = X.drop(['survival'], axis=1)"
   ]
  },
  {
   "cell_type": "code",
   "execution_count": 321,
   "metadata": {},
   "outputs": [],
   "source": [
    "y = data['survival']"
   ]
  },
  {
   "cell_type": "code",
   "execution_count": 322,
   "metadata": {},
   "outputs": [],
   "source": [
    "X = scaler.fit_transform(X)"
   ]
  },
  {
   "cell_type": "code",
   "execution_count": 323,
   "metadata": {},
   "outputs": [],
   "source": [
    "X_train, X_test, y_train, y_test = train_test_split(X, y, test_size=0.2, shuffle=True, random_state=42)"
   ]
  },
  {
   "cell_type": "markdown",
   "metadata": {},
   "source": [
    "## Model building"
   ]
  },
  {
   "cell_type": "markdown",
   "metadata": {},
   "source": [
    "### Naive bayes"
   ]
  },
  {
   "cell_type": "code",
   "execution_count": 324,
   "metadata": {},
   "outputs": [],
   "source": [
    "nb = GaussianNB()"
   ]
  },
  {
   "cell_type": "code",
   "execution_count": 325,
   "metadata": {},
   "outputs": [
    {
     "data": {
      "text/plain": [
       "GaussianNB()"
      ]
     },
     "execution_count": 325,
     "metadata": {},
     "output_type": "execute_result"
    }
   ],
   "source": [
    "nb.fit(X_train, y_train)"
   ]
  },
  {
   "cell_type": "code",
   "execution_count": 326,
   "metadata": {},
   "outputs": [],
   "source": [
    "predict_nb_train = nb.predict_proba(X_train)[:, 1]\n",
    "predict_nb_test = nb.predict_proba(X_test)[:, 1]"
   ]
  },
  {
   "cell_type": "code",
   "execution_count": 327,
   "metadata": {},
   "outputs": [
    {
     "name": "stdout",
     "output_type": "stream",
     "text": [
      "(train|NB) roc-auc = 0.7116548276769271\n",
      "(test|NB) roc-auc = 0.5921717171717171\n"
     ]
    }
   ],
   "source": [
    "print(f'(train|NB) roc-auc = {roc_auc_score(y_train, predict_nb_train)}')\n",
    "print(f'(test|NB) roc-auc = {roc_auc_score(y_test, predict_nb_test)}')"
   ]
  },
  {
   "cell_type": "code",
   "execution_count": 328,
   "metadata": {},
   "outputs": [
    {
     "name": "stdout",
     "output_type": "stream",
     "text": [
      "Test set report\n",
      "              precision    recall  f1-score   support\n",
      "\n",
      "           0       0.57      0.22      0.32        18\n",
      "           1       0.75      0.93      0.83        44\n",
      "\n",
      "    accuracy                           0.73        62\n",
      "   macro avg       0.66      0.58      0.57        62\n",
      "weighted avg       0.69      0.73      0.68        62\n",
      "\n"
     ]
    }
   ],
   "source": [
    "print('Test set report')\n",
    "print(classification_report(y_test, predict_nb_test.round()))"
   ]
  },
  {
   "cell_type": "markdown",
   "metadata": {},
   "source": [
    "**Результат трохи покращився, в порівнянні з попереднім**"
   ]
  },
  {
   "cell_type": "markdown",
   "metadata": {},
   "source": [
    "### K-NN"
   ]
  },
  {
   "cell_type": "code",
   "execution_count": 329,
   "metadata": {},
   "outputs": [],
   "source": [
    "parameters = {'n_neighbors': np.arange(2, 10)}"
   ]
  },
  {
   "cell_type": "code",
   "execution_count": 330,
   "metadata": {},
   "outputs": [],
   "source": [
    "knn = KNeighborsClassifier()"
   ]
  },
  {
   "cell_type": "code",
   "execution_count": 331,
   "metadata": {},
   "outputs": [
    {
     "data": {
      "text/plain": [
       "KNeighborsClassifier(n_neighbors=9)"
      ]
     },
     "execution_count": 331,
     "metadata": {},
     "output_type": "execute_result"
    }
   ],
   "source": [
    "knn_grid = GridSearchCV(knn, parameters, cv=5)\n",
    "\n",
    "#fit the grid search\n",
    "knn_grid.fit(X_train, y_train)\n",
    "\n",
    "# best model\n",
    "best_model_knn = knn_grid.best_estimator_\n",
    "best_model_knn.fit(X_train, y_train)"
   ]
  },
  {
   "cell_type": "code",
   "execution_count": 332,
   "metadata": {},
   "outputs": [],
   "source": [
    "predict_knn_test = best_model_knn.predict_proba(X_test)[:, 1]\n",
    "predict_knn_train = best_model_knn.predict_proba(X_train)[:, 1]"
   ]
  },
  {
   "cell_type": "code",
   "execution_count": 333,
   "metadata": {},
   "outputs": [
    {
     "name": "stdout",
     "output_type": "stream",
     "text": [
      "(train|KNN) roc-auc = 0.8063228974831184\n",
      "(test|KNN) roc-auc = 0.6704545454545455\n"
     ]
    }
   ],
   "source": [
    "print(f'(train|KNN) roc-auc = {roc_auc_score(y_train, predict_knn_train)}')\n",
    "print(f'(test|KNN) roc-auc = {roc_auc_score(y_test, predict_knn_test)}')"
   ]
  },
  {
   "cell_type": "code",
   "execution_count": 334,
   "metadata": {},
   "outputs": [
    {
     "name": "stdout",
     "output_type": "stream",
     "text": [
      "Test set report\n",
      "              precision    recall  f1-score   support\n",
      "\n",
      "           0       0.50      0.22      0.31        18\n",
      "           1       0.74      0.91      0.82        44\n",
      "\n",
      "    accuracy                           0.71        62\n",
      "   macro avg       0.62      0.57      0.56        62\n",
      "weighted avg       0.67      0.71      0.67        62\n",
      "\n"
     ]
    }
   ],
   "source": [
    "print('Test set report')\n",
    "print(classification_report(y_test, predict_knn_test.round()))"
   ]
  },
  {
   "cell_type": "markdown",
   "metadata": {},
   "source": [
    "**Результат на тестовій вибірці трохи погіршився, а на навчальній покращився**"
   ]
  },
  {
   "cell_type": "markdown",
   "metadata": {},
   "source": [
    "## Data preparation"
   ]
  },
  {
   "cell_type": "code",
   "execution_count": 306,
   "metadata": {},
   "outputs": [],
   "source": [
    "def one_hot_enc(df):\n",
    "    encode_col_list = list(df.select_dtypes(include=['object']).columns)\n",
    "    for i in encode_col_list:\n",
    "        df = pd.concat([df,pd.get_dummies(df[i], prefix=i)],axis=1)\n",
    "        df.drop(i, axis = 1, inplace=True)\n",
    "    \n",
    "    return df"
   ]
  },
  {
   "cell_type": "code",
   "execution_count": 307,
   "metadata": {},
   "outputs": [],
   "source": [
    "scaler = StandardScaler()"
   ]
  },
  {
   "cell_type": "code",
   "execution_count": 308,
   "metadata": {},
   "outputs": [],
   "source": [
    "X = data.drop(['survival', 'age'], axis=1)\n",
    "y = data['survival']\n",
    "categorical = data[['age']]"
   ]
  },
  {
   "cell_type": "code",
   "execution_count": 309,
   "metadata": {},
   "outputs": [],
   "source": [
    "categorical = one_hot_enc(categorical).values"
   ]
  },
  {
   "cell_type": "code",
   "execution_count": 310,
   "metadata": {},
   "outputs": [],
   "source": [
    "X = scaler.fit_transform(X)"
   ]
  },
  {
   "cell_type": "code",
   "execution_count": 311,
   "metadata": {},
   "outputs": [],
   "source": [
    "X = np.hstack((X, categorical))"
   ]
  },
  {
   "cell_type": "code",
   "execution_count": 312,
   "metadata": {},
   "outputs": [],
   "source": [
    "X_train, X_test, y_train, y_test = train_test_split(X, y, test_size=0.2, shuffle=True, random_state=42)"
   ]
  },
  {
   "cell_type": "markdown",
   "metadata": {},
   "source": [
    "## Model building"
   ]
  },
  {
   "cell_type": "markdown",
   "metadata": {},
   "source": [
    "### Logistic Regression"
   ]
  },
  {
   "cell_type": "code",
   "execution_count": 313,
   "metadata": {},
   "outputs": [],
   "source": [
    "lr = LogisticRegression()"
   ]
  },
  {
   "cell_type": "code",
   "execution_count": 314,
   "metadata": {},
   "outputs": [
    {
     "data": {
      "text/plain": [
       "LogisticRegression()"
      ]
     },
     "execution_count": 314,
     "metadata": {},
     "output_type": "execute_result"
    }
   ],
   "source": [
    "lr.fit(X_train, y_train)"
   ]
  },
  {
   "cell_type": "code",
   "execution_count": 315,
   "metadata": {},
   "outputs": [],
   "source": [
    "predict_lr_train = lr.predict_proba(X_train)[:, 1]\n",
    "predict_lr_test = lr.predict_proba(X_test)[:, 1]"
   ]
  },
  {
   "cell_type": "code",
   "execution_count": 316,
   "metadata": {},
   "outputs": [
    {
     "name": "stdout",
     "output_type": "stream",
     "text": [
      "(train|LR) roc-auc = 0.7542751907392791\n",
      "(test|LR) roc-auc = 0.5808080808080809\n"
     ]
    }
   ],
   "source": [
    "print(f'(train|LR) roc-auc = {roc_auc_score(y_train, predict_lr_train)}')\n",
    "print(f'(test|LR) roc-auc = {roc_auc_score(y_test, predict_lr_test)}')"
   ]
  },
  {
   "cell_type": "code",
   "execution_count": 317,
   "metadata": {},
   "outputs": [
    {
     "name": "stdout",
     "output_type": "stream",
     "text": [
      "Test set report\n",
      "              precision    recall  f1-score   support\n",
      "\n",
      "           0       0.43      0.17      0.24        18\n",
      "           1       0.73      0.91      0.81        44\n",
      "\n",
      "    accuracy                           0.69        62\n",
      "   macro avg       0.58      0.54      0.52        62\n",
      "weighted avg       0.64      0.69      0.64        62\n",
      "\n"
     ]
    }
   ],
   "source": [
    "print('Test set report')\n",
    "print(classification_report(y_test, predict_lr_test.round()))"
   ]
  },
  {
   "cell_type": "markdown",
   "metadata": {},
   "source": [
    "**Результат на тестовій вибірці погіршився, а на навчальній покращився**"
   ]
  },
  {
   "cell_type": "code",
   "execution_count": null,
   "metadata": {},
   "outputs": [],
   "source": []
  }
 ],
 "metadata": {
  "kernelspec": {
   "display_name": "Python 3",
   "language": "python",
   "name": "python3"
  },
  "language_info": {
   "codemirror_mode": {
    "name": "ipython",
    "version": 3
   },
   "file_extension": ".py",
   "mimetype": "text/x-python",
   "name": "python",
   "nbconvert_exporter": "python",
   "pygments_lexer": "ipython3",
   "version": "3.7.5"
  }
 },
 "nbformat": 4,
 "nbformat_minor": 4
}
