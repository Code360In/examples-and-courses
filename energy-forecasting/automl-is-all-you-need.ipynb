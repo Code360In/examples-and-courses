{
 "cells": [
  {
   "cell_type": "code",
   "execution_count": 1,
   "metadata": {},
   "outputs": [
    {
     "name": "stdout",
     "output_type": "stream",
     "text": [
      "Collecting h2o\r\n",
      "\u001b[?25l  Downloading https://files.pythonhosted.org/packages/d7/8f/7c480e71bf8b632cfa7e6b2bafa0ae85a5730c8f987fb5a49d4f2d2d2a1b/h2o-3.26.0.10.tar.gz (123.7MB)\r\n",
      "\u001b[K     |████████████████████████████████| 123.7MB 58kB/s \r\n",
      "\u001b[?25hRequirement already satisfied, skipping upgrade: requests in /opt/conda/lib/python3.6/site-packages (from h2o) (2.22.0)\r\n",
      "Requirement already satisfied, skipping upgrade: tabulate in /opt/conda/lib/python3.6/site-packages/tabulate-0.8.5-py3.6.egg (from h2o) (0.8.5)\r\n",
      "Requirement already satisfied, skipping upgrade: future in /opt/conda/lib/python3.6/site-packages (from h2o) (0.17.1)\r\n",
      "Requirement already satisfied, skipping upgrade: colorama>=0.3.8 in /opt/conda/lib/python3.6/site-packages (from h2o) (0.4.1)\r\n",
      "Requirement already satisfied, skipping upgrade: urllib3!=1.25.0,!=1.25.1,<1.26,>=1.21.1 in /opt/conda/lib/python3.6/site-packages (from requests->h2o) (1.24.2)\r\n",
      "Requirement already satisfied, skipping upgrade: chardet<3.1.0,>=3.0.2 in /opt/conda/lib/python3.6/site-packages (from requests->h2o) (3.0.4)\r\n",
      "Requirement already satisfied, skipping upgrade: idna<2.9,>=2.5 in /opt/conda/lib/python3.6/site-packages (from requests->h2o) (2.8)\r\n",
      "Requirement already satisfied, skipping upgrade: certifi>=2017.4.17 in /opt/conda/lib/python3.6/site-packages (from requests->h2o) (2019.9.11)\r\n",
      "Building wheels for collected packages: h2o\r\n",
      "  Building wheel for h2o (setup.py) ... \u001b[?25l-\b \b\\\b \b|\b \b/\b \b-\b \b\\\b \bdone\r\n",
      "\u001b[?25h  Created wheel for h2o: filename=h2o-3.26.0.10-py2.py3-none-any.whl size=123719583 sha256=e4ce377ad20fee5a105a6a672ceab0d59639fe00df9f5f3e9260f7fd729ef0a2\r\n",
      "  Stored in directory: /tmp/.cache/pip/wheels/7d/09/bc/23eaa75a5948deb1d6c88d9ee3a20f94bac7d9df6c55ec8aa3\r\n",
      "Successfully built h2o\r\n",
      "Installing collected packages: h2o\r\n",
      "  Found existing installation: h2o 3.26.0.8\r\n",
      "    Uninstalling h2o-3.26.0.8:\r\n",
      "      Successfully uninstalled h2o-3.26.0.8\r\n",
      "Successfully installed h2o-3.26.0.10\r\n"
     ]
    }
   ],
   "source": [
    "!pip install -U h2o"
   ]
  },
  {
   "cell_type": "code",
   "execution_count": 2,
   "metadata": {
    "_cell_guid": "b1076dfc-b9ad-4769-8c92-a6c4dae69d19",
    "_uuid": "8f2839f25d086af736a60e9eeb907d3b93b6e0e5"
   },
   "outputs": [
    {
     "name": "stdout",
     "output_type": "stream",
     "text": [
      "Checking whether there is an H2O instance running at http://localhost:54321 ..... not found.\n",
      "Attempting to start a local H2O server...\n",
      "  Java Version: openjdk version \"1.8.0_232\"; OpenJDK Runtime Environment (build 1.8.0_232-8u232-b09-1~deb9u1-b09); OpenJDK 64-Bit Server VM (build 25.232-b09, mixed mode)\n",
      "  Starting server from /opt/conda/lib/python3.6/site-packages/h2o/backend/bin/h2o.jar\n",
      "  Ice root: /tmp/tmp6q91564t\n",
      "  JVM stdout: /tmp/tmp6q91564t/h2o_unknownUser_started_from_python.out\n",
      "  JVM stderr: /tmp/tmp6q91564t/h2o_unknownUser_started_from_python.err\n",
      "  Server is running at http://127.0.0.1:54321\n",
      "Connecting to H2O server at http://127.0.0.1:54321 ... successful.\n"
     ]
    },
    {
     "data": {
      "text/html": [
       "<div style=\"overflow:auto\"><table style=\"width:50%\"><tr><td>H2O cluster uptime:</td>\n",
       "<td>02 secs</td></tr>\n",
       "<tr><td>H2O cluster timezone:</td>\n",
       "<td>Etc/UTC</td></tr>\n",
       "<tr><td>H2O data parsing timezone:</td>\n",
       "<td>UTC</td></tr>\n",
       "<tr><td>H2O cluster version:</td>\n",
       "<td>3.26.0.10</td></tr>\n",
       "<tr><td>H2O cluster version age:</td>\n",
       "<td>24 days </td></tr>\n",
       "<tr><td>H2O cluster name:</td>\n",
       "<td>H2O_from_python_unknownUser_aci743</td></tr>\n",
       "<tr><td>H2O cluster total nodes:</td>\n",
       "<td>1</td></tr>\n",
       "<tr><td>H2O cluster free memory:</td>\n",
       "<td>3.556 Gb</td></tr>\n",
       "<tr><td>H2O cluster total cores:</td>\n",
       "<td>4</td></tr>\n",
       "<tr><td>H2O cluster allowed cores:</td>\n",
       "<td>4</td></tr>\n",
       "<tr><td>H2O cluster status:</td>\n",
       "<td>accepting new members, healthy</td></tr>\n",
       "<tr><td>H2O connection url:</td>\n",
       "<td>http://127.0.0.1:54321</td></tr>\n",
       "<tr><td>H2O connection proxy:</td>\n",
       "<td>{'http': None, 'https': None}</td></tr>\n",
       "<tr><td>H2O internal security:</td>\n",
       "<td>False</td></tr>\n",
       "<tr><td>H2O API Extensions:</td>\n",
       "<td>Amazon S3, XGBoost, Algos, AutoML, Core V3, TargetEncoder, Core V4</td></tr>\n",
       "<tr><td>Python version:</td>\n",
       "<td>3.6.6 final</td></tr></table></div>"
      ],
      "text/plain": [
       "--------------------------  ------------------------------------------------------------------\n",
       "H2O cluster uptime:         02 secs\n",
       "H2O cluster timezone:       Etc/UTC\n",
       "H2O data parsing timezone:  UTC\n",
       "H2O cluster version:        3.26.0.10\n",
       "H2O cluster version age:    24 days\n",
       "H2O cluster name:           H2O_from_python_unknownUser_aci743\n",
       "H2O cluster total nodes:    1\n",
       "H2O cluster free memory:    3.556 Gb\n",
       "H2O cluster total cores:    4\n",
       "H2O cluster allowed cores:  4\n",
       "H2O cluster status:         accepting new members, healthy\n",
       "H2O connection url:         http://127.0.0.1:54321\n",
       "H2O connection proxy:       {'http': None, 'https': None}\n",
       "H2O internal security:      False\n",
       "H2O API Extensions:         Amazon S3, XGBoost, Algos, AutoML, Core V3, TargetEncoder, Core V4\n",
       "Python version:             3.6.6 final\n",
       "--------------------------  ------------------------------------------------------------------"
      ]
     },
     "metadata": {},
     "output_type": "display_data"
    }
   ],
   "source": [
    "import pandas as pd\n",
    "\n",
    "import h2o\n",
    "from h2o.automl import H2OAutoML\n",
    "\n",
    "h2o.init()"
   ]
  },
  {
   "cell_type": "markdown",
   "metadata": {},
   "source": [
    "Of course, we can analyse data, do model selection, fine-tune hyperparams. But what about something else ..."
   ]
  },
  {
   "cell_type": "code",
   "execution_count": 3,
   "metadata": {
    "_cell_guid": "79c7e3d0-c299-4dcb-8224-4455121ee9b0",
    "_uuid": "d629ff2d2480ee46fbb7e2d37f6b5fab8052498a"
   },
   "outputs": [
    {
     "name": "stdout",
     "output_type": "stream",
     "text": [
      "Parse progress: |█████████████████████████████████████████████████████████| 100%\n",
      "Parse progress: |█████████████████████████████████████████████████████████| 100%\n"
     ]
    }
   ],
   "source": [
    "train = h2o.import_file('/kaggle/input/infopulsehackathon/train.csv')\n",
    "test = h2o.import_file('/kaggle/input/infopulsehackathon/test.csv')\n",
    "\n",
    "sample_submission = pd.read_csv('/kaggle/input/infopulsehackathon/sample_submission.csv')\n",
    "\n",
    "y = \"Energy_consumption\"\n",
    "x = list(train.columns) \n",
    "x.remove(y)"
   ]
  },
  {
   "cell_type": "markdown",
   "metadata": {},
   "source": [
    "# Magic"
   ]
  },
  {
   "cell_type": "code",
   "execution_count": 4,
   "metadata": {},
   "outputs": [
    {
     "name": "stdout",
     "output_type": "stream",
     "text": [
      "AutoML progress: |████████████████████████████████████████████████████████| 100%\n"
     ]
    },
    {
     "data": {
      "text/html": [
       "<table>\n",
       "<thead>\n",
       "<tr><th>model_id                                           </th><th style=\"text-align: right;\">  mean_residual_deviance</th><th style=\"text-align: right;\">   rmse</th><th style=\"text-align: right;\">   mse</th><th style=\"text-align: right;\">    mae</th><th style=\"text-align: right;\">   rmsle</th></tr>\n",
       "</thead>\n",
       "<tbody>\n",
       "<tr><td>StackedEnsemble_AllModels_AutoML_20191201_195713   </td><td style=\"text-align: right;\">                  620670</td><td style=\"text-align: right;\">787.826</td><td style=\"text-align: right;\">620670</td><td style=\"text-align: right;\">537.723</td><td style=\"text-align: right;\">0.372911</td></tr>\n",
       "<tr><td>StackedEnsemble_BestOfFamily_AutoML_20191201_195713</td><td style=\"text-align: right;\">                  626571</td><td style=\"text-align: right;\">791.562</td><td style=\"text-align: right;\">626571</td><td style=\"text-align: right;\">543.184</td><td style=\"text-align: right;\">0.377761</td></tr>\n",
       "<tr><td>GBM_grid_1_AutoML_20191201_195713_model_3          </td><td style=\"text-align: right;\">                  649743</td><td style=\"text-align: right;\">806.066</td><td style=\"text-align: right;\">649743</td><td style=\"text-align: right;\">553.989</td><td style=\"text-align: right;\">0.385169</td></tr>\n",
       "<tr><td>XGBoost_grid_1_AutoML_20191201_195713_model_3      </td><td style=\"text-align: right;\">                  660415</td><td style=\"text-align: right;\">812.659</td><td style=\"text-align: right;\">660415</td><td style=\"text-align: right;\">561.569</td><td style=\"text-align: right;\">0.387243</td></tr>\n",
       "<tr><td>XGBoost_grid_1_AutoML_20191201_195713_model_57     </td><td style=\"text-align: right;\">                  661533</td><td style=\"text-align: right;\">813.347</td><td style=\"text-align: right;\">661533</td><td style=\"text-align: right;\">557.686</td><td style=\"text-align: right;\">0.386083</td></tr>\n",
       "<tr><td>XGBoost_grid_1_AutoML_20191201_195713_model_54     </td><td style=\"text-align: right;\">                  662851</td><td style=\"text-align: right;\">814.156</td><td style=\"text-align: right;\">662851</td><td style=\"text-align: right;\">558.391</td><td style=\"text-align: right;\">0.387735</td></tr>\n",
       "<tr><td>XGBoost_grid_1_AutoML_20191201_195713_model_60     </td><td style=\"text-align: right;\">                  662909</td><td style=\"text-align: right;\">814.192</td><td style=\"text-align: right;\">662909</td><td style=\"text-align: right;\">555.716</td><td style=\"text-align: right;\">0.381891</td></tr>\n",
       "<tr><td>XGBoost_grid_1_AutoML_20191201_195713_model_55     </td><td style=\"text-align: right;\">                  663465</td><td style=\"text-align: right;\">814.534</td><td style=\"text-align: right;\">663465</td><td style=\"text-align: right;\">559.115</td><td style=\"text-align: right;\">0.384718</td></tr>\n",
       "<tr><td>XGBoost_grid_1_AutoML_20191201_195713_model_5      </td><td style=\"text-align: right;\">                  664336</td><td style=\"text-align: right;\">815.068</td><td style=\"text-align: right;\">664336</td><td style=\"text-align: right;\">562.87 </td><td style=\"text-align: right;\">0.389085</td></tr>\n",
       "<tr><td>XGBoost_grid_1_AutoML_20191201_195713_model_1      </td><td style=\"text-align: right;\">                  664622</td><td style=\"text-align: right;\">815.243</td><td style=\"text-align: right;\">664622</td><td style=\"text-align: right;\">559.191</td><td style=\"text-align: right;\">0.386519</td></tr>\n",
       "</tbody>\n",
       "</table>"
      ]
     },
     "metadata": {},
     "output_type": "display_data"
    },
    {
     "data": {
      "text/plain": []
     },
     "execution_count": 4,
     "metadata": {},
     "output_type": "execute_result"
    }
   ],
   "source": [
    "aml = H2OAutoML(max_runtime_secs = 18000, sort_metric='mse', stopping_metric='MSE' , stopping_rounds=100)\n",
    "aml.train(x = x, y = y, training_frame = train)\n",
    "\n",
    "aml.leaderboard"
   ]
  },
  {
   "cell_type": "markdown",
   "metadata": {},
   "source": [
    "# Some more magic"
   ]
  },
  {
   "cell_type": "code",
   "execution_count": 5,
   "metadata": {},
   "outputs": [
    {
     "name": "stdout",
     "output_type": "stream",
     "text": [
      "stackedensemble prediction progress: |████████████████████████████████████| 100%\n"
     ]
    }
   ],
   "source": [
    "sample_submission['Energy_consumption'] = aml.leader.predict(test).as_data_frame()['predict']\n",
    "sample_submission.loc[sample_submission['Energy_consumption'] < 0, 'Energy_consumption'] = 0"
   ]
  },
  {
   "cell_type": "code",
   "execution_count": 6,
   "metadata": {},
   "outputs": [],
   "source": [
    "sample_submission[['Id','Energy_consumption']].to_csv('submission.csv', index=False)"
   ]
  },
  {
   "cell_type": "markdown",
   "metadata": {},
   "source": [
    "# Final thougths"
   ]
  },
  {
   "cell_type": "markdown",
   "metadata": {},
   "source": [
    "You can GO DEEPER! or ANALYSE DATA! But you can just blend AutoMLs. According to [this discussion](https://www.kaggle.com/c/infopulsehackathon/discussion/119729#latest-685093) will it dare it? ;)"
   ]
  }
 ],
 "metadata": {
  "kernelspec": {
   "display_name": "Python 3",
   "language": "python",
   "name": "python3"
  },
  "language_info": {
   "codemirror_mode": {
    "name": "ipython",
    "version": 3
   },
   "file_extension": ".py",
   "mimetype": "text/x-python",
   "name": "python",
   "nbconvert_exporter": "python",
   "pygments_lexer": "ipython3",
   "version": "3.6.6"
  }
 },
 "nbformat": 4,
 "nbformat_minor": 1
}
