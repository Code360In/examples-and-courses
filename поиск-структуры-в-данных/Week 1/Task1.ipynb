{
 "cells": [
  {
   "cell_type": "code",
   "execution_count": 51,
   "metadata": {
    "collapsed": true
   },
   "outputs": [],
   "source": [
    "import pandas as pd\n",
    "import numpy as np"
   ]
  },
  {
   "cell_type": "code",
   "execution_count": 52,
   "metadata": {},
   "outputs": [
    {
     "name": "stderr",
     "output_type": "stream",
     "text": [
      "C:\\Program Files (x86)\\Microsoft Visual Studio\\Shared\\Anaconda3_64\\lib\\site-packages\\IPython\\core\\interactiveshell.py:2698: DtypeWarning: Columns (0) have mixed types. Specify dtype option on import or set low_memory=False.\n",
      "  interactivity=interactivity, compiler=compiler, result=result)\n"
     ]
    }
   ],
   "source": [
    "fl = pd.read_csv('checkins.dat', sep='|', skipinitialspace=True)"
   ]
  },
  {
   "cell_type": "code",
   "execution_count": 53,
   "metadata": {},
   "outputs": [
    {
     "data": {
      "text/plain": [
       "Index(['latitude', 'longitude'], dtype='object')"
      ]
     },
     "execution_count": 53,
     "metadata": {},
     "output_type": "execute_result"
    }
   ],
   "source": [
    "fl = fl.drop(['id    ', 'user_id ', 'venue_id ', 'created_at      '], axis=1)\n",
    "fl = fl.dropna()\n",
    "fl = fl.replace(r'^\\s+$', np.nan, regex=True)\n",
    "fl = fl.rename(index=str, columns={'latitude      ': 'latitude', 'longitude     ': 'longitude'})\n",
    "fl.columns"
   ]
  },
  {
   "cell_type": "code",
   "execution_count": 54,
   "metadata": {
    "collapsed": true
   },
   "outputs": [],
   "source": [
    "from sklearn.cluster import MeanShift"
   ]
  },
  {
   "cell_type": "code",
   "execution_count": 55,
   "metadata": {
    "collapsed": true
   },
   "outputs": [],
   "source": [
    "ms = MeanShift(bandwidth=0.1)"
   ]
  },
  {
   "cell_type": "code",
   "execution_count": 56,
   "metadata": {},
   "outputs": [
    {
     "name": "stdout",
     "output_type": "stream",
     "text": [
      "[[  38.8951118  -77.0363658]\n",
      " [  33.800745   -84.41052  ]\n",
      " [  45.5234515 -122.6762071]\n",
      " ...\n",
      " [  29.7628844  -95.3830615]\n",
      " [  32.802955   -96.769923 ]\n",
      " [  37.7749295 -122.4194155]]\n"
     ]
    }
   ],
   "source": [
    "data = fl.values\n",
    "data = data[0:100000]\n",
    "print(data)"
   ]
  },
  {
   "cell_type": "code",
   "execution_count": 79,
   "metadata": {},
   "outputs": [
    {
     "data": {
      "text/plain": [
       "MeanShift(bandwidth=0.1, bin_seeding=False, cluster_all=True, min_bin_freq=1,\n",
       "     n_jobs=1, seeds=None)"
      ]
     },
     "execution_count": 79,
     "metadata": {},
     "output_type": "execute_result"
    }
   ],
   "source": [
    "ms.fit(data)"
   ]
  },
  {
   "cell_type": "code",
   "execution_count": 85,
   "metadata": {},
   "outputs": [
    {
     "name": "stdout",
     "output_type": "stream",
     "text": [
      "[[  40.7177164   -73.99183542]\n",
      " [  33.44943805 -112.00213969]\n",
      " [  33.44638027 -111.90188756]\n",
      " ...\n",
      " [  38.891565   -121.2930079 ]\n",
      " [  42.5953378   -78.9411461 ]\n",
      " [  41.5822716   -85.8344383 ]]\n",
      "length: 3230\n"
     ]
    }
   ],
   "source": [
    "cluster_centers = ms.cluster_centers_\n",
    "print(cluster_centers)\n",
    "print('length:', len(cluster_centers))"
   ]
  },
  {
   "cell_type": "code",
   "execution_count": 87,
   "metadata": {},
   "outputs": [
    {
     "name": "stdout",
     "output_type": "stream",
     "text": [
      "[ 5  7 30 ... 25 19  4]\n",
      "length: 100000\n"
     ]
    }
   ],
   "source": [
    "labels = ms.labels_\n",
    "print(labels)\n",
    "print('length:', len(labels))"
   ]
  },
  {
   "cell_type": "code",
   "execution_count": 109,
   "metadata": {
    "collapsed": true
   },
   "outputs": [],
   "source": [
    "match = []\n",
    "for i in range(len(cluster_centers)):\n",
    "    count = 0\n",
    "    for l in labels:\n",
    "        if i == l:\n",
    "            count += 1\n",
    "    if count > 15:\n",
    "        match.append(i)\n",
    "    else:\n",
    "        match.append(-1)"
   ]
  },
  {
   "cell_type": "code",
   "execution_count": 98,
   "metadata": {
    "collapsed": true
   },
   "outputs": [],
   "source": [
    "offices = [[33.751277, -118.188740], [25.867736, -80.324116],\n",
    "          [51.503016, -0.075479], [52.378894, 4.885084],\n",
    "          [39.366487, 117.036146], [-33.868457, 151.205134]]"
   ]
  },
  {
   "cell_type": "code",
   "execution_count": 106,
   "metadata": {},
   "outputs": [
    {
     "name": "stdout",
     "output_type": "stream",
     "text": [
      "3230\n"
     ]
    }
   ],
   "source": [
    "labels_unique = np.unique(labels)\n",
    "n_clusters_ = len(labels_unique)\n",
    "print(n_clusters_)"
   ]
  },
  {
   "cell_type": "code",
   "execution_count": 122,
   "metadata": {
    "collapsed": true
   },
   "outputs": [],
   "source": [
    "min_dist = -1\n",
    "min_dist_list = {}\n",
    "for m in match:\n",
    "    if m == -1:\n",
    "        continue\n",
    "    \n",
    "    x1 = cluster_centers[m][0]\n",
    "    x2 = cluster_centers[m][1]\n",
    "    \n",
    "    min_dist = -1\n",
    "    for o in offices:\n",
    "        o1 = o[0]\n",
    "        o2 = o[1]\n",
    "        \n",
    "        dist = np.sqrt((x1 - o1)**2 + (x2 - o2)**2)\n",
    "        \n",
    "        if min_dist == -1 or min_dist > dist:\n",
    "            min_dist = dist\n",
    "            \n",
    "    min_dist_list[min_dist] = cluster_centers[m]"
   ]
  },
  {
   "cell_type": "code",
   "execution_count": 123,
   "metadata": {
    "collapsed": true
   },
   "outputs": [],
   "source": [
    "result = min_dist_list[min(min_dist_list)]"
   ]
  },
  {
   "cell_type": "code",
   "execution_count": 127,
   "metadata": {
    "collapsed": true
   },
   "outputs": [],
   "source": [
    "def write(result):\n",
    "    with open('submit.txt', 'w') as file:\n",
    "        file.write('{} {}'.format(result[0], result[1]))"
   ]
  },
  {
   "cell_type": "code",
   "execution_count": 128,
   "metadata": {
    "collapsed": true
   },
   "outputs": [],
   "source": [
    "write(result)"
   ]
  },
  {
   "cell_type": "code",
   "execution_count": null,
   "metadata": {
    "collapsed": true
   },
   "outputs": [],
   "source": []
  }
 ],
 "metadata": {
  "kernelspec": {
   "display_name": "Python 3",
   "language": "python",
   "name": "python3"
  },
  "language_info": {
   "codemirror_mode": {
    "name": "ipython",
    "version": 3
   },
   "file_extension": ".py",
   "mimetype": "text/x-python",
   "name": "python",
   "nbconvert_exporter": "python",
   "pygments_lexer": "ipython3",
   "version": "3.6.2"
  }
 },
 "nbformat": 4,
 "nbformat_minor": 2
}
