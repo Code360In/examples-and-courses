{
 "cells": [
  {
   "cell_type": "markdown",
   "metadata": {},
   "source": [
    "# Lab 9\n",
    "+ ## Автор: Роман Кривохижа\n",
    "+ ## Група: ІС-72"
   ]
  },
  {
   "cell_type": "markdown",
   "metadata": {},
   "source": [
    "****\n",
    "****\n",
    "****"
   ]
  },
  {
   "cell_type": "markdown",
   "metadata": {},
   "source": [
    "## Module importing"
   ]
  },
  {
   "cell_type": "code",
   "execution_count": 52,
   "metadata": {},
   "outputs": [],
   "source": [
    "import pandas as pd\n",
    "import numpy as np"
   ]
  },
  {
   "cell_type": "markdown",
   "metadata": {},
   "source": [
    "## Additional functions"
   ]
  },
  {
   "cell_type": "code",
   "execution_count": 53,
   "metadata": {},
   "outputs": [],
   "source": [
    "def array_to_pmatrix(array):\n",
    "    begin = '\\\\begin{pmatrix} \\n'\n",
    "    data = ''\n",
    "    for line in array:        \n",
    "        if line.size == 1:\n",
    "            data = data + ' %.0f &'%line\n",
    "            data = data + r' \\\\'\n",
    "            data = data + '\\n'\n",
    "            continue\n",
    "        for element in line:\n",
    "            data = data + ' %.0f &'%element\n",
    "\n",
    "        data = data + r' \\\\'\n",
    "        data = data + '\\n'\n",
    "    end = '\\end{pmatrix}'\n",
    "    print(begin + data + end)"
   ]
  },
  {
   "cell_type": "code",
   "execution_count": 54,
   "metadata": {},
   "outputs": [],
   "source": [
    "def pmatrix_to_array(pmatrix):\n",
    "    pmatrix = pmatrix.split('\\begin{pmatrix}')[1]\n",
    "    pmatrix = pmatrix.split('\\end{pmatrix}')[0]\n",
    "    \n",
    "    pmatrix = [*map(lambda x: x.strip(), pmatrix.split('\\\\'))]\n",
    "    matrix = []\n",
    "    for row in pmatrix:\n",
    "        if row:\n",
    "            row = [*map(lambda x: int(x.strip()), row.split('&'))]\n",
    "        if row:\n",
    "            row = np.array(row)\n",
    "            matrix.append(row)\n",
    "    \n",
    "    return np.array(matrix)"
   ]
  },
  {
   "cell_type": "markdown",
   "metadata": {},
   "source": [
    "## Task"
   ]
  },
  {
   "cell_type": "markdown",
   "metadata": {},
   "source": [
    "Згідно протоколу передачу одного повідомлення від вузла А до вузла В описують такі події: запит від А на передачу в В, позитивна відповідь від вузла В вузлу А, передача повідомлення з А в В, відправка повідомлення вузлом А, отримання повідомлення вузлом В, відправка сигналу про успішне отримання повідомлення вузлом В, відправка сигналу про успішне отримання повідомлення вузлом В.<br>\n",
    "Двостороння передача означає, що обмін повідомленнями відбувається одночасно в обох напрямках. Через те, що у вузлі може зберігатись тільки одне  повідомлення, може виникати тупикова ситуація, коли два вузли здійснили відправку і «зависли» в очікуванні підтвердження отримання повідомлення іншим вузлом. Для запобігання тупикової ситуації, використовується керуючий сигнал, що надає дозвіл на відправку повідомлення тільки одному з двох вузлів."
   ]
  },
  {
   "cell_type": "markdown",
   "metadata": {},
   "source": [
    "<!-- <img src=\"img/task1.jpg\"> -->\n",
    "<img src=\"https://github.com/kryvokhyzha/Courses/blob/master/System_Modeling/Lab8/img/task1.jpg?raw=true\">"
   ]
  },
  {
   "cell_type": "markdown",
   "metadata": {},
   "source": [
    "**Positions:**\n",
    "+ P1 - Генерація повідомлення від А для В\n",
    "+ P2 - None\n",
    "+ P3 - None\n",
    "+ P4 - Кількість успішно отриманих повідомлень вузлом В від вузла А\n",
    "+ P5 - Вільність каналу\n",
    "+ P6 - Генерація повідомлення від В для А\n",
    "+ P7 - None\n",
    "+ P8 - None\n",
    "+ P9 - Кількість успішно отриманих повідомлень вузлом А від вузла В\n",
    "\n",
    "**Transitions:**\n",
    "+ T1 - Запит від А на передачу В\n",
    "+ T2 - Відправлення повідомлення вузлом А\n",
    "+ T3 - Отримання повідомлення вузлом В\n",
    "+ T4 - Запит від В на передачу А\n",
    "+ T5 - Відправлення повідомлення вузлом В\n",
    "+ T6 - Отримання повідомлення вузлом А"
   ]
  },
  {
   "cell_type": "code",
   "execution_count": 60,
   "metadata": {},
   "outputs": [],
   "source": [
    "a_plus = np.array([[1, 0, 0, 0, 0, 0],\n",
    "                   [1, 0, 0, 0, 0, 0],\n",
    "                   [0, 1, 0, 0, 0, 0],\n",
    "                   [0, 0, 1, 0, 0, 0],\n",
    "                   [0, 0, 1, 0, 0, 1],\n",
    "                   [0, 0, 0, 1, 0, 0],\n",
    "                   [0, 0, 0, 1, 0, 0],\n",
    "                   [0, 0, 0, 0, 1, 0],\n",
    "                   [0, 0, 0, 0, 0, 1]])\n",
    "\n",
    "a_minus = np.array([[1, 0, 0, 0, 0, 0],\n",
    "                    [0, 1, 0, 0, 0, 0],\n",
    "                    [0, 0, 1, 0, 0, 0],\n",
    "                    [0, 0, 0, 0, 0, 0],\n",
    "                    [1, 0, 0, 1, 0, 0],\n",
    "                    [0, 0, 0, 1, 0, 0],\n",
    "                    [0, 0, 0, 0, 1, 0],\n",
    "                    [0, 0, 0, 0, 0, 1],\n",
    "                    [0, 0, 0, 0, 0, 0]])"
   ]
  },
  {
   "cell_type": "code",
   "execution_count": 61,
   "metadata": {},
   "outputs": [],
   "source": [
    "a = a_plus - a_minus"
   ]
  },
  {
   "cell_type": "markdown",
   "metadata": {},
   "source": [
    "## Report"
   ]
  },
  {
   "cell_type": "markdown",
   "metadata": {},
   "source": [
    "**1. Знайдемо матрицю виходів**<br>\n",
    "$a^+ = \\begin{pmatrix}\n",
    "  1  & 0  & 0  & 0  & 0  & 0\\\\ \n",
    "  1  & 0  & 0  & 0  & 0  & 0\\\\\n",
    "  0  & 1  & 0  & 0  & 0  & 0\\\\\n",
    "  0  & 0  & 1  & 0  & 0  & 0\\\\\n",
    "  0  & 0  & 1  & 0  & 0  & 1\\\\\n",
    "  0  & 0  & 0  & 1  & 0  & 0\\\\\n",
    "  0  & 0  & 0  & 1  & 0  & 0\\\\\n",
    "  0  & 0  & 0  & 0  & 1  & 0\\\\\n",
    "  0  & 0  & 0  & 0  & 0  & 1\\\\\n",
    "\\end{pmatrix}$ \n",
    "\n",
    "**2. Знайдемо матрицю входів**<br>\n",
    "$a^- = \\begin{pmatrix}\n",
    "  1  & 0  & 0  & 0  & 0  & 0\\\\ \n",
    "  0  & 1  & 0  & 0  & 0  & 0\\\\\n",
    "  0  & 0  & 1  & 0  & 0  & 0\\\\\n",
    "  0  & 0  & 0  & 0  & 0  & 0\\\\\n",
    "  1  & 0  & 0  & 1  & 0  & 0\\\\\n",
    "  0  & 0  & 0  & 1  & 0  & 0\\\\\n",
    "  0  & 0  & 0  & 0  & 1  & 0\\\\\n",
    "  0  & 0  & 0  & 0  & 0  & 1\\\\\n",
    "  0  & 0  & 0  & 0  & 0  & 0\\\\\n",
    "\\end{pmatrix}$\n",
    "\n",
    "**3. Знайдемо матрицю змінювань**<br>\n",
    "$a = a^+ - a^- = \\begin{pmatrix} \n",
    " 0 & 0 & 0 & 0 & 0 & 0 & \\\\\n",
    " 1 & -1 & 0 & 0 & 0 & 0 & \\\\\n",
    " 0 & 1 & -1 & 0 & 0 & 0 & \\\\\n",
    " 0 & 0 & 1 & 0 & 0 & 0 & \\\\\n",
    " -1 & 0 & 1 & -1 & 0 & 1 & \\\\\n",
    " 0 & 0 & 0 & 0 & 0 & 0 & \\\\\n",
    " 0 & 0 & 0 & 1 & -1 & 0 & \\\\\n",
    " 0 & 0 & 0 & 0 & 1 & -1 & \\\\\n",
    " 0 & 0 & 0 & 0 & 0 & 1 & \\\\\n",
    "\\end{pmatrix}$\n",
    "\n",
    "**4. Дослідження S-інваріанту**<br>\n",
    "$a^T w = \n",
    "\\begin{pmatrix} \n",
    " 0 & 1 & 0 & 0 & -1 & 0 & 0 & 0 & 0 & \\\\\n",
    " 0 & -1 & 1 & 0 & 0 & 0 & 0 & 0 & 0 & \\\\\n",
    " 0 & 0 & -1 & 1 & 1 & 0 & 0 & 0 & 0 & \\\\\n",
    " 0 & 0 & 0 & 0 & -1 & 0 & 1 & 0 & 0 & \\\\\n",
    " 0 & 0 & 0 & 0 & 0 & 0 & -1 & 1 & 0 & \\\\\n",
    " 0 & 0 & 0 & 0 & 1 & 0 & 0 & -1 & 1 & \\\\\n",
    "\\end{pmatrix}\n",
    "\\begin{pmatrix}\n",
    "  w_1 \\\\\n",
    "  w_2 \\\\\n",
    "  w_3 \\\\\n",
    "  w_4 \\\\\n",
    "  w_5 \\\\\n",
    "  w_6 \\\\\n",
    "  w_7 \\\\\n",
    "  w_8 \\\\\n",
    "  w_9 \\\\\n",
    "\\end{pmatrix} = \n",
    "\\begin{pmatrix}\n",
    "  w_2 - w_5 \\\\\n",
    "  -w_2 + w_3 \\\\\n",
    "  -w_3 + w_4 + w_5 \\\\\n",
    "  -w_5 + w_7 \\\\\n",
    "  -w_7 + w_8 \\\\\n",
    "  w_5 - w_8 + w_9\n",
    "\\end{pmatrix} = \n",
    "\\begin{pmatrix}\n",
    "  0 \\\\\n",
    "  0 \\\\\n",
    "  0 \\\\\n",
    "  0 \\\\\n",
    "  0 \\\\\n",
    "  0\n",
    "\\end{pmatrix}\n",
    "\\implies\n",
    "\\begin{matrix}\n",
    "  w_8 = w_7 = w_5 = w_3 = w_2 = k \\\\\n",
    "  w_4 = 0 \\\\\n",
    "  w_9 = 0\n",
    "\\end{matrix}\n",
    "$<br>\n",
    "Оскільки $w_4$ та $w_9$ дорівнюють нулю, а для консервативності потрібно, щоб всі компоненти вектора $w$ були цілими і додатніми, то можна зробити висновок, що в даній мережі Петрі консервативність відсутня. S-інваріанти, відповідно, відсутні.\n",
    "\n",
    "**5. Дослідження T-інваріанту**<br>\n",
    "$a * v = \\begin{pmatrix} \n",
    " 0 & 0 & 0 & 0 & 0 & 0 & \\\\\n",
    " 1 & -1 & 0 & 0 & 0 & 0 & \\\\\n",
    " 0 & 1 & -1 & 0 & 0 & 0 & \\\\\n",
    " 0 & 0 & 1 & 0 & 0 & 0 & \\\\\n",
    " -1 & 0 & 1 & -1 & 0 & 1 & \\\\\n",
    " 0 & 0 & 0 & 0 & 0 & 0 & \\\\\n",
    " 0 & 0 & 0 & 1 & -1 & 0 & \\\\\n",
    " 0 & 0 & 0 & 0 & 1 & -1 & \\\\\n",
    " 0 & 0 & 0 & 0 & 0 & 1 & \\\\\n",
    "\\end{pmatrix} \n",
    "\\begin{pmatrix}\n",
    "  v_1 \\\\\n",
    "  v_2 \\\\\n",
    "  v_3 \\\\\n",
    "  v_4 \\\\\n",
    "  v_5 \\\\\n",
    "  v_6\n",
    "\\end{pmatrix} = \n",
    "\\begin{pmatrix}\n",
    "  0 \\\\\n",
    "  v_1 - v_2 \\\\\n",
    "  v_2 - v_3 \\\\\n",
    "  v_3 \\\\\n",
    "  -v_1 + v_3 - v_4 + v_6 \\\\\n",
    "  0 \\\\\n",
    "  v_4 - v_5 \\\\\n",
    "  v_5 - v_6 \\\\\n",
    "  v_6\n",
    "\\end{pmatrix} = \n",
    "\\begin{pmatrix}\n",
    "  0 \\\\\n",
    "  0 \\\\\n",
    "  0 \\\\\n",
    "  0 \\\\\n",
    "  0 \\\\\n",
    "  0 \\\\\n",
    "  0 \\\\\n",
    "  0 \\\\\n",
    "  0\n",
    "\\end{pmatrix}\n",
    "\\implies\n",
    "\\begin{matrix}\n",
    "  v_1 = 0 \\\\\n",
    "  v_2 = 0 \\\\\n",
    "  v_3 = 0 \\\\\n",
    "  v_4 = 0 \\\\\n",
    "  v_5 = 0 \\\\\n",
    "  v_6 = 0\n",
    "\\end{matrix}\n",
    "$<br>\n",
    "Оскільки всі компоненти вектора $v$ дорівнюють $0$ $\\implies$ Т-інваріанти відсутні, циклічність системи не гарантується."
   ]
  },
  {
   "cell_type": "markdown",
   "metadata": {},
   "source": [
    "## Conclusion"
   ]
  },
  {
   "cell_type": "markdown",
   "metadata": {},
   "source": [
    "Виконуючи лабораторну роботу, було досліджено властивості мережі Петрі з використанням матричного підходу.<br> Даний підхід дозволяє швидко отримати необхідну інформацію, не моделюючи систему та не досліджуючи історію запусків."
   ]
  }
 ],
 "metadata": {
  "kernelspec": {
   "display_name": "Python 3",
   "language": "python",
   "name": "python3"
  },
  "language_info": {
   "codemirror_mode": {
    "name": "ipython",
    "version": 3
   },
   "file_extension": ".py",
   "mimetype": "text/x-python",
   "name": "python",
   "nbconvert_exporter": "python",
   "pygments_lexer": "ipython3",
   "version": "3.8.6"
  }
 },
 "nbformat": 4,
 "nbformat_minor": 4
}
