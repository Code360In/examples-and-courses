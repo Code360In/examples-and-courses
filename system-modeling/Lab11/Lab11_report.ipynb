{
 "cells": [
  {
   "cell_type": "markdown",
   "metadata": {},
   "source": [
    "# Lab 11\n",
    "+ ## Автор: Роман Кривохижа\n",
    "+ ## Група: ІС-72"
   ]
  },
  {
   "cell_type": "markdown",
   "metadata": {},
   "source": [
    "****\n",
    "****\n",
    "****"
   ]
  },
  {
   "cell_type": "markdown",
   "metadata": {},
   "source": [
    "## Task 1"
   ]
  },
  {
   "cell_type": "markdown",
   "metadata": {},
   "source": [
    "**Початкова схема 1:**\n",
    "\n",
    "<img src=\"https://github.com/kryvokhyzha/Courses/blob/master/System_Modeling/Lab11/img/task2_1.jpg?raw=true\">"
   ]
  },
  {
   "cell_type": "markdown",
   "metadata": {},
   "source": [
    "**Петрі-об'єктна схема 1:**\n",
    "\n",
    "<img src=\"https://github.com/kryvokhyzha/Courses/blob/master/System_Modeling/Lab11/img/task2_1_petri_object.jpg?raw=true\">"
   ]
  },
  {
   "cell_type": "markdown",
   "metadata": {},
   "source": [
    "**Згенеровані методи:**\n",
    "\n",
    "<img src=\"https://github.com/kryvokhyzha/Courses/blob/master/System_Modeling/Lab11/img/task2_1_methods1.jpg?raw=true\">\n",
    "\n",
    "<img src=\"https://github.com/kryvokhyzha/Courses/blob/master/System_Modeling/Lab11/img/task2_1_methods2.jpg?raw=true\">\n",
    "\n",
    "<img src=\"https://github.com/kryvokhyzha/Courses/blob/master/System_Modeling/Lab11/img/task2_1_methods3.jpg?raw=true\">"
   ]
  },
  {
   "cell_type": "markdown",
   "metadata": {},
   "source": [
    "**Результати моделювання до змін:**\n",
    "\n",
    "<img src=\"https://github.com/kryvokhyzha/Courses/blob/master/System_Modeling/Lab11/img/task2_1_modeling_result_before.jpg?raw=true\">"
   ]
  },
  {
   "cell_type": "markdown",
   "metadata": {},
   "source": [
    "**Результати моделювання після змін:**\n",
    "\n",
    "<img src=\"https://github.com/kryvokhyzha/Courses/blob/master/System_Modeling/Lab11/img/task2_1_modeling_result_after.jpg?raw=true\">"
   ]
  },
  {
   "cell_type": "markdown",
   "metadata": {},
   "source": [
    "## Task 2"
   ]
  },
  {
   "cell_type": "markdown",
   "metadata": {},
   "source": [
    "**Початкова схема:**\n",
    "\n",
    "<img src=\"https://github.com/kryvokhyzha/Courses/blob/master/System_Modeling/Lab11/img/task3.jpg?raw=true\">"
   ]
  },
  {
   "cell_type": "markdown",
   "metadata": {},
   "source": [
    "**Петрі-об'єктна схема:**\n",
    "\n",
    "<img src=\"https://github.com/kryvokhyzha/Courses/blob/master/System_Modeling/Lab11/img/task3_petri_object.jpg?raw=true\">"
   ]
  },
  {
   "cell_type": "markdown",
   "metadata": {},
   "source": [
    "**Згенеровані методи:**\n",
    "\n",
    "<img src=\"https://github.com/kryvokhyzha/Courses/blob/master/System_Modeling/Lab11/img/task3_methods1.jpg?raw=true\">\n",
    "\n",
    "<img src=\"https://github.com/kryvokhyzha/Courses/blob/master/System_Modeling/Lab11/img/task3_methods2.jpg?raw=true\">"
   ]
  },
  {
   "cell_type": "markdown",
   "metadata": {},
   "source": [
    "**Результати моделювання до змін:**\n",
    "\n",
    "<img src=\"https://github.com/kryvokhyzha/Courses/blob/master/System_Modeling/Lab11/img/task3_modeling_result_before.jpg?raw=true\">"
   ]
  },
  {
   "cell_type": "markdown",
   "metadata": {},
   "source": [
    "**Результати моделювання після змін:**\n",
    "\n",
    "<img src=\"https://github.com/kryvokhyzha/Courses/blob/master/System_Modeling/Lab11/img/task3_modeling_result_after.jpg?raw=true\">"
   ]
  }
 ],
 "metadata": {
  "kernelspec": {
   "display_name": "Python 3",
   "language": "python",
   "name": "python3"
  },
  "language_info": {
   "codemirror_mode": {
    "name": "ipython",
    "version": 3
   },
   "file_extension": ".py",
   "mimetype": "text/x-python",
   "name": "python",
   "nbconvert_exporter": "python",
   "pygments_lexer": "ipython3",
   "version": "3.8.6"
  }
 },
 "nbformat": 4,
 "nbformat_minor": 4
}
