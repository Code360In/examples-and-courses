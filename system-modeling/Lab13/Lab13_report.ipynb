{
 "cells": [
  {
   "cell_type": "markdown",
   "metadata": {},
   "source": [
    "# Lab 13\n",
    "+ ## Автор: Роман Кривохижа\n",
    "+ ## Група: ІС-72"
   ]
  },
  {
   "cell_type": "markdown",
   "metadata": {},
   "source": [
    "****\n",
    "****\n",
    "****"
   ]
  },
  {
   "cell_type": "markdown",
   "metadata": {},
   "source": [
    "**Для дослідження була обрана модель з 10 ЛР (схема про конвеєрну обробку деталей)**"
   ]
  },
  {
   "cell_type": "markdown",
   "metadata": {},
   "source": [
    "**Початкова схема:**\n",
    "\n",
    "<img src=\"https://github.com/kryvokhyzha/Courses/blob/master/System_Modeling/Lab13/img/task1_petri_net.jpg?raw=true\">"
   ]
  },
  {
   "cell_type": "markdown",
   "metadata": {},
   "source": [
    "+ в якості відгука моделі було обрано середнє значення маркерів в позиції **\"Вільний 5\"**\n",
    "+ в якості факторних змінних були обрані: час затримки в **\"Обслуговування п1\"**, час затримки в **\"Перехід п1-п2\"**, час затримки в **\"Обслуговування п2\"**"
   ]
  },
  {
   "cell_type": "markdown",
   "metadata": {},
   "source": [
    "**Згенеровані методи:**\n",
    "\n",
    "```java\n",
    "public static PetriNet CreateСonveyorSystem(double servC1, double transpC1C2, double servC2) throws ExceptionInvalidNetStructure, ExceptionInvalidTimeDelay {\n",
    "                ArrayList<PetriP> d_P = new ArrayList<>();\n",
    "                ArrayList<PetriT> d_T = new ArrayList<>();\n",
    "                ArrayList<ArcIn> d_In = new ArrayList<>();\n",
    "                ArrayList<ArcOut> d_Out = new ArrayList<>();\n",
    "                d_P.add(new PetriP(\"P1\",1));\n",
    "                d_P.add(new PetriP(\"Черга п1\",0));\n",
    "                d_P.add(new PetriP(\"Вільний п1\",1));\n",
    "                d_P.add(new PetriP(\"Кількість оброблених\",0));\n",
    "                d_P.add(new PetriP(\"Черга п2\",0));\n",
    "                d_P.add(new PetriP(\"Вільний п2\",1));\n",
    "                d_P.add(new PetriP(\"Черга п3\",0));\n",
    "                d_P.add(new PetriP(\"Вільний п3\",1));\n",
    "                d_P.add(new PetriP(\"Черга п4\",0));\n",
    "                d_P.add(new PetriP(\"Черга п5\",0));\n",
    "                d_P.add(new PetriP(\"Вільний п4\",1));\n",
    "                d_P.add(new PetriP(\"Вільний п5\",1));\n",
    "                d_T.add(new PetriT(\"Надходження\",1.0));\n",
    "                d_T.add(new PetriT(\"Обслуговування п1\",1.0));\n",
    "                d_T.get(1).setDistribution(\"exp\", servC1);\n",
    "                d_T.get(1).setParamDeviation(0.0);\n",
    "                d_T.get(1).setPriority(1);\n",
    "                d_T.add(new PetriT(\"Перехід п1-п2\",transpC1C2));\n",
    "                d_T.add(new PetriT(\"Обслуговування п2\",1.0));\n",
    "                d_T.get(3).setDistribution(\"exp\", servC2);\n",
    "                d_T.get(3).setParamDeviation(0.0);\n",
    "                d_T.get(3).setPriority(1);\n",
    "                d_T.add(new PetriT(\"Перехід п2-п3\",1.0));\n",
    "                d_T.add(new PetriT(\"Обслуговування п3\",1.0));\n",
    "                d_T.get(5).setDistribution(\"exp\", 1.0);\n",
    "                d_T.get(5).setParamDeviation(0.0);\n",
    "                d_T.get(5).setPriority(1);\n",
    "                d_T.add(new PetriT(\"Перехід п3-п4\",1.0));\n",
    "                d_T.add(new PetriT(\"Перехід п4-п5\",1.0));\n",
    "                d_T.add(new PetriT(\"Перехід п5-п1\",5.0));\n",
    "                d_T.add(new PetriT(\"Обслуговування п4\",1.0));\n",
    "                d_T.get(9).setDistribution(\"exp\", 1.0);\n",
    "                d_T.get(9).setParamDeviation(0.0);\n",
    "                d_T.add(new PetriT(\"Обслуговування п5\",1.0));\n",
    "                d_T.get(10).setDistribution(\"exp\", 1.0);\n",
    "                d_T.get(10).setParamDeviation(0.0);\n",
    "                d_In.add(new ArcIn(d_P.get(0),d_T.get(0),1));\n",
    "                d_In.add(new ArcIn(d_P.get(1),d_T.get(1),1));\n",
    "                d_In.add(new ArcIn(d_P.get(2),d_T.get(1),1));\n",
    "                d_In.add(new ArcIn(d_P.get(1),d_T.get(2),1));\n",
    "                d_In.add(new ArcIn(d_P.get(5),d_T.get(3),1));\n",
    "                d_In.add(new ArcIn(d_P.get(4),d_T.get(3),1));\n",
    "                d_In.add(new ArcIn(d_P.get(4),d_T.get(4),1));\n",
    "                d_In.add(new ArcIn(d_P.get(7),d_T.get(5),1));\n",
    "                d_In.add(new ArcIn(d_P.get(6),d_T.get(5),1));\n",
    "                d_In.add(new ArcIn(d_P.get(6),d_T.get(6),1));\n",
    "                d_In.add(new ArcIn(d_P.get(8),d_T.get(7),1));\n",
    "                d_In.add(new ArcIn(d_P.get(9),d_T.get(8),1));\n",
    "                d_In.add(new ArcIn(d_P.get(10),d_T.get(9),1));\n",
    "                d_In.add(new ArcIn(d_P.get(8),d_T.get(9),1));\n",
    "                d_In.add(new ArcIn(d_P.get(9),d_T.get(10),1));\n",
    "                d_In.add(new ArcIn(d_P.get(11),d_T.get(10),1));\n",
    "                d_Out.add(new ArcOut(d_T.get(0),d_P.get(0),1));\n",
    "                d_Out.add(new ArcOut(d_T.get(0),d_P.get(1),4));\n",
    "                d_Out.add(new ArcOut(d_T.get(1),d_P.get(2),1));\n",
    "                d_Out.add(new ArcOut(d_T.get(1),d_P.get(3),1));\n",
    "                d_Out.add(new ArcOut(d_T.get(2),d_P.get(4),1));\n",
    "                d_Out.add(new ArcOut(d_T.get(3),d_P.get(5),1));\n",
    "                d_Out.add(new ArcOut(d_T.get(3),d_P.get(3),1));\n",
    "                d_Out.add(new ArcOut(d_T.get(5),d_P.get(7),1));\n",
    "                d_Out.add(new ArcOut(d_T.get(4),d_P.get(6),1));\n",
    "                d_Out.add(new ArcOut(d_T.get(5),d_P.get(3),1));\n",
    "                d_Out.add(new ArcOut(d_T.get(6),d_P.get(8),1));\n",
    "                d_Out.add(new ArcOut(d_T.get(7),d_P.get(9),1));\n",
    "                d_Out.add(new ArcOut(d_T.get(8),d_P.get(1),1));\n",
    "                d_Out.add(new ArcOut(d_T.get(9),d_P.get(10),1));\n",
    "                d_Out.add(new ArcOut(d_T.get(9),d_P.get(3),1));\n",
    "                d_Out.add(new ArcOut(d_T.get(10),d_P.get(11),1));\n",
    "                d_Out.add(new ArcOut(d_T.get(10),d_P.get(3),1));\n",
    "                PetriNet d_Net = new PetriNet(\"СonveyorSystem\",d_P,d_T,d_In,d_Out);\n",
    "                PetriP.initNext();\n",
    "                PetriT.initNext();\n",
    "                ArcIn.initNext();\n",
    "                ArcOut.initNext();\n",
    "\n",
    "                return d_Net;\n",
    "        }\n",
    "```"
   ]
  },
  {
   "cell_type": "markdown",
   "metadata": {},
   "source": [
    "**Результати моделювання:**\n",
    "\n",
    "<img src=\"https://github.com/kryvokhyzha/Courses/blob/master/System_Modeling/Lab13/img/task1_petri_result.jpg?raw=true\">"
   ]
  },
  {
   "cell_type": "markdown",
   "metadata": {},
   "source": [
    "**Результати роботи регресійного аналізу:**\n",
    "\n",
    "<img src=\"https://github.com/kryvokhyzha/Courses/blob/master/System_Modeling/Lab13/img/task1_regression_result.jpg?raw=true\">"
   ]
  },
  {
   "cell_type": "markdown",
   "metadata": {},
   "source": [
    "**Результати роботи дисперсійного аналізу:**\n",
    "\n",
    "<img src=\"https://github.com/kryvokhyzha/Courses/blob/master/System_Modeling/Lab13/img/task1_variance_result.jpg?raw=true\">"
   ]
  }
 ],
 "metadata": {
  "kernelspec": {
   "display_name": "Python 3",
   "language": "python",
   "name": "python3"
  },
  "language_info": {
   "codemirror_mode": {
    "name": "ipython",
    "version": 3
   },
   "file_extension": ".py",
   "mimetype": "text/x-python",
   "name": "python",
   "nbconvert_exporter": "python",
   "pygments_lexer": "ipython3",
   "version": "3.8.6"
  }
 },
 "nbformat": 4,
 "nbformat_minor": 4
}
