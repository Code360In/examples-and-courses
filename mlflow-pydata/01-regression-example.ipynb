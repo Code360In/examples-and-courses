{
 "cells": [
  {
   "cell_type": "markdown",
   "metadata": {},
   "source": [
    "## Load modules"
   ]
  },
  {
   "cell_type": "code",
   "execution_count": 1,
   "metadata": {},
   "outputs": [],
   "source": [
    "import os\n",
    "import mlflow\n",
    "import pandas as pd\n",
    "import numpy as np\n",
    "import matplotlib.pyplot as plt\n",
    "from sklearn.metrics import mean_squared_error, mean_absolute_error\n",
    "from sklearn.model_selection import train_test_split\n",
    "from sklearn.linear_model import ElasticNet"
   ]
  },
  {
   "cell_type": "markdown",
   "metadata": {},
   "source": [
    "## Load and prepare data"
   ]
  },
  {
   "cell_type": "code",
   "execution_count": 10,
   "metadata": {},
   "outputs": [
    {
     "data": {
      "text/html": [
       "<div>\n",
       "<style scoped>\n",
       "    .dataframe tbody tr th:only-of-type {\n",
       "        vertical-align: middle;\n",
       "    }\n",
       "\n",
       "    .dataframe tbody tr th {\n",
       "        vertical-align: top;\n",
       "    }\n",
       "\n",
       "    .dataframe thead th {\n",
       "        text-align: right;\n",
       "    }\n",
       "</style>\n",
       "<table border=\"1\" class=\"dataframe\">\n",
       "  <thead>\n",
       "    <tr style=\"text-align: right;\">\n",
       "      <th></th>\n",
       "      <th>mpg</th>\n",
       "      <th>cylinders</th>\n",
       "      <th>displacement</th>\n",
       "      <th>horsepower</th>\n",
       "      <th>weight</th>\n",
       "      <th>acceleration</th>\n",
       "      <th>model year</th>\n",
       "      <th>origin</th>\n",
       "      <th>car name</th>\n",
       "    </tr>\n",
       "  </thead>\n",
       "  <tbody>\n",
       "    <tr>\n",
       "      <th>0</th>\n",
       "      <td>18.0</td>\n",
       "      <td>8</td>\n",
       "      <td>307.0</td>\n",
       "      <td>130</td>\n",
       "      <td>3504</td>\n",
       "      <td>12.0</td>\n",
       "      <td>70</td>\n",
       "      <td>1</td>\n",
       "      <td>chevrolet chevelle malibu</td>\n",
       "    </tr>\n",
       "    <tr>\n",
       "      <th>1</th>\n",
       "      <td>15.0</td>\n",
       "      <td>8</td>\n",
       "      <td>350.0</td>\n",
       "      <td>165</td>\n",
       "      <td>3693</td>\n",
       "      <td>11.5</td>\n",
       "      <td>70</td>\n",
       "      <td>1</td>\n",
       "      <td>buick skylark 320</td>\n",
       "    </tr>\n",
       "    <tr>\n",
       "      <th>2</th>\n",
       "      <td>18.0</td>\n",
       "      <td>8</td>\n",
       "      <td>318.0</td>\n",
       "      <td>150</td>\n",
       "      <td>3436</td>\n",
       "      <td>11.0</td>\n",
       "      <td>70</td>\n",
       "      <td>1</td>\n",
       "      <td>plymouth satellite</td>\n",
       "    </tr>\n",
       "    <tr>\n",
       "      <th>3</th>\n",
       "      <td>16.0</td>\n",
       "      <td>8</td>\n",
       "      <td>304.0</td>\n",
       "      <td>150</td>\n",
       "      <td>3433</td>\n",
       "      <td>12.0</td>\n",
       "      <td>70</td>\n",
       "      <td>1</td>\n",
       "      <td>amc rebel sst</td>\n",
       "    </tr>\n",
       "    <tr>\n",
       "      <th>4</th>\n",
       "      <td>17.0</td>\n",
       "      <td>8</td>\n",
       "      <td>302.0</td>\n",
       "      <td>140</td>\n",
       "      <td>3449</td>\n",
       "      <td>10.5</td>\n",
       "      <td>70</td>\n",
       "      <td>1</td>\n",
       "      <td>ford torino</td>\n",
       "    </tr>\n",
       "  </tbody>\n",
       "</table>\n",
       "</div>"
      ],
      "text/plain": [
       "    mpg  cylinders  displacement horsepower  weight  acceleration  model year  \\\n",
       "0  18.0          8         307.0        130    3504          12.0          70   \n",
       "1  15.0          8         350.0        165    3693          11.5          70   \n",
       "2  18.0          8         318.0        150    3436          11.0          70   \n",
       "3  16.0          8         304.0        150    3433          12.0          70   \n",
       "4  17.0          8         302.0        140    3449          10.5          70   \n",
       "\n",
       "   origin                   car name  \n",
       "0       1  chevrolet chevelle malibu  \n",
       "1       1          buick skylark 320  \n",
       "2       1         plymouth satellite  \n",
       "3       1              amc rebel sst  \n",
       "4       1                ford torino  "
      ]
     },
     "execution_count": 10,
     "metadata": {},
     "output_type": "execute_result"
    }
   ],
   "source": [
    "df = pd.read_csv('data/auto-mpg.csv', sep=',')\n",
    "df.columns = [col.strip().replace(' ', '_') for col in df.columns]\n",
    "df.head()"
   ]
  },
  {
   "cell_type": "code",
   "execution_count": 14,
   "metadata": {},
   "outputs": [],
   "source": [
    "df['car_name'] = df['car_name'].apply(lambda x: x.replace('\"', ''))"
   ]
  },
  {
   "cell_type": "code",
   "execution_count": 20,
   "metadata": {},
   "outputs": [],
   "source": [
    "for col in df.columns:\n",
    "    if col not in ['mpg', 'car_name']:\n",
    "        df = df[pd.to_numeric(df[col], errors='coerce').notnull()]\n",
    "        df[col] = df[col].astype(float)\n",
    "        \n",
    "X = df.drop(columns=['mpg', 'car_name'])\n",
    "y = df['mpg']"
   ]
  },
  {
   "cell_type": "markdown",
   "metadata": {},
   "source": [
    "## Train-Test split"
   ]
  },
  {
   "cell_type": "code",
   "execution_count": 21,
   "metadata": {},
   "outputs": [],
   "source": [
    "train_X, test_X, train_y, test_y = train_test_split(X, y, random_state=0)"
   ]
  },
  {
   "cell_type": "markdown",
   "metadata": {},
   "source": [
    "## Conventional way"
   ]
  },
  {
   "cell_type": "code",
   "execution_count": 22,
   "metadata": {},
   "outputs": [],
   "source": [
    "def eval_metrics(actual, pred):\n",
    "    rmse = np.sqrt(mean_squared_error(actual, pred))\n",
    "    mae = mean_absolute_error(actual, pred)\n",
    "    return rmse, mae"
   ]
  },
  {
   "cell_type": "code",
   "execution_count": 23,
   "metadata": {},
   "outputs": [
    {
     "name": "stdout",
     "output_type": "stream",
     "text": [
      "Hypermapameters: alpha=0.01, l1_ratio=0.15\n",
      "Model Performance on test set:RMSE=3.264085059242753, MAE=2.4428252673534954\n"
     ]
    }
   ],
   "source": [
    "alpha, l1_ratio = 0.01, 0.15\n",
    "\n",
    "lr = ElasticNet(alpha=alpha, l1_ratio=l1_ratio, random_state=42)\n",
    "lr.fit(train_X, train_y)\n",
    "\n",
    "y_pred = lr.predict(test_X)\n",
    "\n",
    "rmse, mae = eval_metrics(test_y, y_pred)\n",
    "\n",
    "print(f'Hypermapameters: alpha={alpha}, l1_ratio={l1_ratio}')\n",
    "print(f'Model Performance on test set:RMSE={rmse}, MAE={mae}')"
   ]
  },
  {
   "cell_type": "code",
   "execution_count": 24,
   "metadata": {},
   "outputs": [
    {
     "name": "stdout",
     "output_type": "stream",
     "text": [
      "Hypermapameters: alpha=0.01, l1_ratio=0.15\n",
      "Model Performance on test set:RMSE=3.264085059242753, MAE=2.4428252673534954\n",
      "-------------------------------------------------- \n",
      "\n",
      "Hypermapameters: alpha=0.01, l1_ratio=0.2\n",
      "Model Performance on test set:RMSE=3.2641081943690287, MAE=2.442779799335202\n",
      "-------------------------------------------------- \n",
      "\n",
      "Hypermapameters: alpha=0.01, l1_ratio=0.5\n",
      "Model Performance on test set:RMSE=3.2642539363043768, MAE=2.4425053728576818\n",
      "-------------------------------------------------- \n",
      "\n",
      "Hypermapameters: alpha=0.02, l1_ratio=0.15\n",
      "Model Performance on test set:RMSE=3.268230661826571, MAE=2.4462236246381988\n",
      "-------------------------------------------------- \n",
      "\n",
      "Hypermapameters: alpha=0.02, l1_ratio=0.2\n",
      "Model Performance on test set:RMSE=3.2682901197277037, MAE=2.4461431101781237\n",
      "-------------------------------------------------- \n",
      "\n",
      "Hypermapameters: alpha=0.02, l1_ratio=0.5\n",
      "Model Performance on test set:RMSE=3.268674967967474, MAE=2.4456545533936795\n",
      "-------------------------------------------------- \n",
      "\n",
      "Hypermapameters: alpha=0.5, l1_ratio=0.15\n",
      "Model Performance on test set:RMSE=3.393387034540802, MAE=2.5567673950618097\n",
      "-------------------------------------------------- \n",
      "\n",
      "Hypermapameters: alpha=0.5, l1_ratio=0.2\n",
      "Model Performance on test set:RMSE=3.396458991035914, MAE=2.5595987553371033\n",
      "-------------------------------------------------- \n",
      "\n",
      "Hypermapameters: alpha=0.5, l1_ratio=0.5\n",
      "Model Performance on test set:RMSE=3.418455637049288, MAE=2.5797626917276975\n",
      "-------------------------------------------------- \n",
      "\n"
     ]
    }
   ],
   "source": [
    "alphas, l1_ratios = [0.01, 0.02, 0.5], [0.15, 0.2, 0.5]\n",
    "\n",
    "for alpha in alphas:\n",
    "    for l1_ratio in l1_ratios:\n",
    "        lr = ElasticNet(alpha=alpha, l1_ratio=l1_ratio, random_state=42)\n",
    "        lr.fit(train_X, train_y)\n",
    "\n",
    "        y_pred = lr.predict(test_X)\n",
    "\n",
    "        rmse, mae = eval_metrics(test_y, y_pred)\n",
    "\n",
    "        print(f'Hypermapameters: alpha={alpha}, l1_ratio={l1_ratio}')\n",
    "        print(f'Model Performance on test set:RMSE={rmse}, MAE={mae}')\n",
    "        print('-'*50, '\\n')"
   ]
  },
  {
   "cell_type": "markdown",
   "metadata": {},
   "source": [
    "## Using mlflow"
   ]
  },
  {
   "cell_type": "code",
   "execution_count": 25,
   "metadata": {},
   "outputs": [],
   "source": [
    "experiment_name = 'PlainRegression'\n",
    "\n",
    "try:\n",
    "    exp_id = mlflow.create_experiment(name=experiment_name)\n",
    "except Exception as e:\n",
    "    exp_id = mlflow.get_experiment_by_name(experiment_name).experiment_id"
   ]
  },
  {
   "cell_type": "code",
   "execution_count": 27,
   "metadata": {},
   "outputs": [
    {
     "data": {
      "image/png": "[encoded data removed]",
      "text/plain": [
       "<Figure size 1152x648 with 8 Axes>"
      ]
     },
     "metadata": {},
     "output_type": "display_data"
    }
   ],
   "source": [
    "if 'images' not in os.listdir():\n",
    "    os.makedirs('images')\n",
    "    \n",
    "with mlflow.start_run(experiment_id=exp_id):\n",
    "    train_X.plot(kind='box', subplots=True, layout=(2,4), figsize=(16,9), title='Box plot of each feature')\n",
    "    plt.savefig('images/distribution_plot_all_features.png')\n",
    "    \n",
    "    mlflow.log_artifacts('images')\n",
    "    \n",
    "    alpha, l1_ratio = 0.01, 0.15\n",
    "\n",
    "    lr = ElasticNet(alpha=alpha, l1_ratio=l1_ratio, random_state=42)\n",
    "    lr.fit(train_X, train_y)\n",
    "\n",
    "    y_pred = lr.predict(test_X)\n",
    "\n",
    "    rmse, mae = eval_metrics(test_y, y_pred)\n",
    "\n",
    "    mlflow.log_param('alpha',  alpha)\n",
    "    mlflow.log_param('l1_ratio', l1_ratio)\n",
    "    \n",
    "    mlflow.log_metric('rmse', rmse)\n",
    "    mlflow.log_metric('mae', mae)\n",
    "    \n",
    "    mlflow.sklearn.log_model(lr, 'PlainRegressionModel')"
   ]
  },
  {
   "cell_type": "code",
   "execution_count": null,
   "metadata": {},
   "outputs": [],
   "source": []
  }
 ],
 "metadata": {
  "interpreter": {
   "hash": "c6e4e9f98eb68ad3b7c296f83d20e6de614cb42e90992a65aa266555a3137d0d"
  },
  "kernelspec": {
   "display_name": "Python 3.9.7 64-bit ('base': conda)",
   "language": "python",
   "name": "python3"
  },
  "language_info": {
   "codemirror_mode": {
    "name": "ipython",
    "version": 3
   },
   "file_extension": ".py",
   "mimetype": "text/x-python",
   "name": "python",
   "nbconvert_exporter": "python",
   "pygments_lexer": "ipython3",
   "version": "3.9.7"
  },
  "orig_nbformat": 4
 },
 "nbformat": 4,
 "nbformat_minor": 2
}
