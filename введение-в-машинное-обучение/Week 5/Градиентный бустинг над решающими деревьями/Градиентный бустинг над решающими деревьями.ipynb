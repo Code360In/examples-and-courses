{
 "cells": [
  {
   "cell_type": "code",
   "execution_count": 52,
   "metadata": {},
   "outputs": [],
   "source": [
    "import pandas as pd\n",
    "import numpy as np\n",
    "\n",
    "from sklearn.ensemble import GradientBoostingClassifier, RandomForestClassifier\n",
    "from sklearn.model_selection import train_test_split\n",
    "from sklearn.metrics import log_loss\n",
    "import matplotlib.pyplot as plt\n",
    "%matplotlib inline"
   ]
  },
  {
   "cell_type": "markdown",
   "metadata": {},
   "source": [
    "### Загрузите выборку из файла gbm-data.csv с помощью pandas и преобразуйте ее в массив numpy (параметр values у датафрейма). В первой колонке файла с данными записано, была или нет реакция. Все остальные колонки (d1 - d1776) содержат различные характеристики молекулы, такие как размер, форма и т.д. Разбейте выборку на обучающую и тестовую, используя функцию train_test_split с параметрами test_size = 0.8 и random_state = 241."
   ]
  },
  {
   "cell_type": "code",
   "execution_count": 6,
   "metadata": {},
   "outputs": [],
   "source": [
    "data = pd.read_csv('gbm-data.csv')"
   ]
  },
  {
   "cell_type": "code",
   "execution_count": 7,
   "metadata": {},
   "outputs": [
    {
     "data": {
      "text/html": [
       "<div>\n",
       "<style scoped>\n",
       "    .dataframe tbody tr th:only-of-type {\n",
       "        vertical-align: middle;\n",
       "    }\n",
       "\n",
       "    .dataframe tbody tr th {\n",
       "        vertical-align: top;\n",
       "    }\n",
       "\n",
       "    .dataframe thead th {\n",
       "        text-align: right;\n",
       "    }\n",
       "</style>\n",
       "<table border=\"1\" class=\"dataframe\">\n",
       "  <thead>\n",
       "    <tr style=\"text-align: right;\">\n",
       "      <th></th>\n",
       "      <th>Activity</th>\n",
       "      <th>D1</th>\n",
       "      <th>D2</th>\n",
       "      <th>D3</th>\n",
       "      <th>D4</th>\n",
       "      <th>D5</th>\n",
       "      <th>D6</th>\n",
       "      <th>D7</th>\n",
       "      <th>D8</th>\n",
       "      <th>D9</th>\n",
       "      <th>...</th>\n",
       "      <th>D1767</th>\n",
       "      <th>D1768</th>\n",
       "      <th>D1769</th>\n",
       "      <th>D1770</th>\n",
       "      <th>D1771</th>\n",
       "      <th>D1772</th>\n",
       "      <th>D1773</th>\n",
       "      <th>D1774</th>\n",
       "      <th>D1775</th>\n",
       "      <th>D1776</th>\n",
       "    </tr>\n",
       "  </thead>\n",
       "  <tbody>\n",
       "    <tr>\n",
       "      <th>0</th>\n",
       "      <td>1</td>\n",
       "      <td>0.000000</td>\n",
       "      <td>0.497009</td>\n",
       "      <td>0.10</td>\n",
       "      <td>0.0</td>\n",
       "      <td>0.132956</td>\n",
       "      <td>0.678031</td>\n",
       "      <td>0.273166</td>\n",
       "      <td>0.585445</td>\n",
       "      <td>0.743663</td>\n",
       "      <td>...</td>\n",
       "      <td>0</td>\n",
       "      <td>0</td>\n",
       "      <td>0</td>\n",
       "      <td>0</td>\n",
       "      <td>0</td>\n",
       "      <td>0</td>\n",
       "      <td>0</td>\n",
       "      <td>0</td>\n",
       "      <td>0</td>\n",
       "      <td>0</td>\n",
       "    </tr>\n",
       "    <tr>\n",
       "      <th>1</th>\n",
       "      <td>1</td>\n",
       "      <td>0.366667</td>\n",
       "      <td>0.606291</td>\n",
       "      <td>0.05</td>\n",
       "      <td>0.0</td>\n",
       "      <td>0.111209</td>\n",
       "      <td>0.803455</td>\n",
       "      <td>0.106105</td>\n",
       "      <td>0.411754</td>\n",
       "      <td>0.836582</td>\n",
       "      <td>...</td>\n",
       "      <td>1</td>\n",
       "      <td>1</td>\n",
       "      <td>1</td>\n",
       "      <td>1</td>\n",
       "      <td>0</td>\n",
       "      <td>1</td>\n",
       "      <td>0</td>\n",
       "      <td>0</td>\n",
       "      <td>1</td>\n",
       "      <td>0</td>\n",
       "    </tr>\n",
       "    <tr>\n",
       "      <th>2</th>\n",
       "      <td>1</td>\n",
       "      <td>0.033300</td>\n",
       "      <td>0.480124</td>\n",
       "      <td>0.00</td>\n",
       "      <td>0.0</td>\n",
       "      <td>0.209791</td>\n",
       "      <td>0.610350</td>\n",
       "      <td>0.356453</td>\n",
       "      <td>0.517720</td>\n",
       "      <td>0.679051</td>\n",
       "      <td>...</td>\n",
       "      <td>0</td>\n",
       "      <td>0</td>\n",
       "      <td>0</td>\n",
       "      <td>0</td>\n",
       "      <td>0</td>\n",
       "      <td>0</td>\n",
       "      <td>0</td>\n",
       "      <td>0</td>\n",
       "      <td>0</td>\n",
       "      <td>0</td>\n",
       "    </tr>\n",
       "    <tr>\n",
       "      <th>3</th>\n",
       "      <td>1</td>\n",
       "      <td>0.000000</td>\n",
       "      <td>0.538825</td>\n",
       "      <td>0.00</td>\n",
       "      <td>0.5</td>\n",
       "      <td>0.196344</td>\n",
       "      <td>0.724230</td>\n",
       "      <td>0.235606</td>\n",
       "      <td>0.288764</td>\n",
       "      <td>0.805110</td>\n",
       "      <td>...</td>\n",
       "      <td>0</td>\n",
       "      <td>0</td>\n",
       "      <td>0</td>\n",
       "      <td>0</td>\n",
       "      <td>0</td>\n",
       "      <td>0</td>\n",
       "      <td>0</td>\n",
       "      <td>0</td>\n",
       "      <td>0</td>\n",
       "      <td>0</td>\n",
       "    </tr>\n",
       "    <tr>\n",
       "      <th>4</th>\n",
       "      <td>0</td>\n",
       "      <td>0.100000</td>\n",
       "      <td>0.517794</td>\n",
       "      <td>0.00</td>\n",
       "      <td>0.0</td>\n",
       "      <td>0.494734</td>\n",
       "      <td>0.781422</td>\n",
       "      <td>0.154361</td>\n",
       "      <td>0.303809</td>\n",
       "      <td>0.812646</td>\n",
       "      <td>...</td>\n",
       "      <td>0</td>\n",
       "      <td>0</td>\n",
       "      <td>0</td>\n",
       "      <td>0</td>\n",
       "      <td>0</td>\n",
       "      <td>0</td>\n",
       "      <td>0</td>\n",
       "      <td>0</td>\n",
       "      <td>0</td>\n",
       "      <td>0</td>\n",
       "    </tr>\n",
       "  </tbody>\n",
       "</table>\n",
       "<p>5 rows × 1777 columns</p>\n",
       "</div>"
      ],
      "text/plain": [
       "   Activity        D1        D2    D3   D4        D5        D6        D7  \\\n",
       "0         1  0.000000  0.497009  0.10  0.0  0.132956  0.678031  0.273166   \n",
       "1         1  0.366667  0.606291  0.05  0.0  0.111209  0.803455  0.106105   \n",
       "2         1  0.033300  0.480124  0.00  0.0  0.209791  0.610350  0.356453   \n",
       "3         1  0.000000  0.538825  0.00  0.5  0.196344  0.724230  0.235606   \n",
       "4         0  0.100000  0.517794  0.00  0.0  0.494734  0.781422  0.154361   \n",
       "\n",
       "         D8        D9  ...    D1767  D1768  D1769  D1770  D1771  D1772  D1773  \\\n",
       "0  0.585445  0.743663  ...        0      0      0      0      0      0      0   \n",
       "1  0.411754  0.836582  ...        1      1      1      1      0      1      0   \n",
       "2  0.517720  0.679051  ...        0      0      0      0      0      0      0   \n",
       "3  0.288764  0.805110  ...        0      0      0      0      0      0      0   \n",
       "4  0.303809  0.812646  ...        0      0      0      0      0      0      0   \n",
       "\n",
       "   D1774  D1775  D1776  \n",
       "0      0      0      0  \n",
       "1      0      1      0  \n",
       "2      0      0      0  \n",
       "3      0      0      0  \n",
       "4      0      0      0  \n",
       "\n",
       "[5 rows x 1777 columns]"
      ]
     },
     "execution_count": 7,
     "metadata": {},
     "output_type": "execute_result"
    }
   ],
   "source": [
    "data.head()"
   ]
  },
  {
   "cell_type": "code",
   "execution_count": 8,
   "metadata": {},
   "outputs": [],
   "source": [
    "y = data['Activity']\n",
    "X = data.drop(['Activity'], axis=1)"
   ]
  },
  {
   "cell_type": "code",
   "execution_count": 9,
   "metadata": {},
   "outputs": [],
   "source": [
    "X_train, X_test, y_train, y_test = train_test_split(X, y, test_size=0.8, random_state=241)"
   ]
  },
  {
   "cell_type": "code",
   "execution_count": 43,
   "metadata": {},
   "outputs": [
    {
     "name": "stdout",
     "output_type": "stream",
     "text": [
      "      Iter       Train Loss   Remaining Time \n",
      "         1           1.0190           11.45s\n",
      "         2           0.9192           11.16s\n",
      "         3           0.8272            9.88s\n",
      "         4           0.7834            8.73s\n",
      "         5           0.7109            8.48s\n",
      "         6           0.6368            9.07s\n",
      "         7           0.5797            8.95s\n",
      "         8           0.5610            8.41s\n",
      "         9           0.5185            8.22s\n",
      "        10           0.4984            7.87s\n",
      "        20           0.1999            7.47s\n",
      "        30           0.1313            6.75s\n",
      "        40           0.0790            6.51s\n",
      "        50           0.0511            6.19s\n",
      "        60           0.0352            5.84s\n",
      "        70           0.0245            5.68s\n",
      "        80           0.0162            5.34s\n",
      "        90           0.0114            4.94s\n",
      "       100           0.0077            4.61s\n",
      "       200           0.0004            1.33s\n",
      "      Iter       Train Loss   Remaining Time \n",
      "         1           1.1255           10.96s\n",
      "         2           1.0035           11.03s\n",
      "         3           0.9386           10.95s\n",
      "         4           0.8844           10.08s\n",
      "         5           0.8381            9.80s\n",
      "         6           0.7995            9.35s\n",
      "         7           0.7559            9.03s\n",
      "         8           0.7205            8.83s\n",
      "         9           0.6958            8.54s\n",
      "        10           0.6725            8.35s\n",
      "        20           0.4672            7.29s\n",
      "        30           0.3179            6.97s\n",
      "        40           0.2274            6.92s\n",
      "        50           0.1774            6.81s\n",
      "        60           0.1394            6.43s\n",
      "        70           0.1050            6.04s\n",
      "        80           0.0805            5.64s\n",
      "        90           0.0650            5.19s\n",
      "       100           0.0511            4.87s\n",
      "       200           0.0058            1.52s\n",
      "      Iter       Train Loss   Remaining Time \n",
      "         1           1.2095           11.21s\n",
      "         2           1.1006           11.28s\n",
      "         3           1.0240           11.20s\n",
      "         4           0.9729           11.31s\n",
      "         5           0.9387           10.53s\n",
      "         6           0.8948           10.57s\n",
      "         7           0.8621           10.17s\n",
      "         8           0.8360            9.71s\n",
      "         9           0.8171            9.26s\n",
      "        10           0.7883            9.07s\n",
      "        20           0.6164            7.72s\n",
      "        30           0.4933            7.05s\n",
      "        40           0.4248            6.38s\n",
      "        50           0.3345            6.17s\n",
      "        60           0.2760            5.86s\n",
      "        70           0.2263            5.56s\n",
      "        80           0.1971            5.15s\n",
      "        90           0.1693            4.80s\n",
      "       100           0.1388            4.58s\n",
      "       200           0.0294            1.50s\n",
      "      Iter       Train Loss   Remaining Time \n",
      "         1           1.2613           11.45s\n",
      "         2           1.1715           11.28s\n",
      "         3           1.1009           11.20s\n",
      "         4           1.0529           11.13s\n",
      "         5           1.0130           11.47s\n",
      "         6           0.9740           11.34s\n",
      "         7           0.9475           10.59s\n",
      "         8           0.9197           10.62s\n",
      "         9           0.8979           10.15s\n",
      "        10           0.8730           10.15s\n",
      "        20           0.7207            8.18s\n",
      "        30           0.6055            7.36s\n",
      "        40           0.5244            7.34s\n",
      "        50           0.4501            7.41s\n",
      "        60           0.3908            7.16s\n",
      "        70           0.3372            6.90s\n",
      "        80           0.3009            6.38s\n",
      "        90           0.2603            5.92s\n",
      "       100           0.2327            5.44s\n",
      "       200           0.0835            1.62s\n",
      "      Iter       Train Loss   Remaining Time \n",
      "         1           1.3199           11.45s\n",
      "         2           1.2645           12.03s\n",
      "         3           1.2170           11.94s\n",
      "         4           1.1775           11.93s\n",
      "         5           1.1404           12.05s\n",
      "         6           1.1106           11.99s\n",
      "         7           1.0844           11.84s\n",
      "         8           1.0617           11.71s\n",
      "         9           1.0411           11.65s\n",
      "        10           1.0223           12.14s\n",
      "        20           0.8864           11.76s\n",
      "        30           0.7844           10.08s\n",
      "        40           0.7176            8.86s\n",
      "        50           0.6590            7.96s\n",
      "        60           0.6120            7.25s\n",
      "        70           0.5599            6.77s\n",
      "        80           0.5242            6.23s\n",
      "        90           0.4829            5.80s\n",
      "       100           0.4473            5.38s\n",
      "       200           0.2379            1.66s\n"
     ]
    },
    {
     "data": {
      "image/png": "[encoded data removed]",
      "text/plain": [
       "<Figure size 432x288 with 1 Axes>"
      ]
     },
     "metadata": {
      "needs_background": "light"
     },
     "output_type": "display_data"
    }
   ],
   "source": [
    "for l_rate in [1, 0.5, 0.3, 0.2, 0.1]:\n",
    "    gbc = GradientBoostingClassifier(n_estimators=250, verbose=True, random_state=241, learning_rate=l_rate)\n",
    "    gbc.fit(X_train, y_train)\n",
    "    \n",
    "    test_deviance = []\n",
    "    count_of_iter = 0\n",
    "    log_loss_arr = []\n",
    "    for y_pred in gbc.staged_decision_function(X_test):\n",
    "        count_of_iter += 1\n",
    "        log_loss_arr.append(log_loss(y_test, 1./(1 + np.exp(-y_pred))))\n",
    "    plt.plot(np.linspace(1, count_of_iter, count_of_iter), log_loss_arr, label=str(l_rate))\n",
    "    plt.legend()"
   ]
  },
  {
   "cell_type": "markdown",
   "metadata": {},
   "source": [
    "### Как можно охарактеризовать график качества на тестовой выборке, начиная с некоторой итерации: переобучение (overfitting) или недообучение (underfitting)? В ответе укажите одно из слов overfitting либо underfitting."
   ]
  },
  {
   "cell_type": "code",
   "execution_count": 51,
   "metadata": {},
   "outputs": [],
   "source": [
    "with open('answer1.txt', 'w') as file:\n",
    "    file.write('overfitting')"
   ]
  },
  {
   "cell_type": "markdown",
   "metadata": {},
   "source": [
    "### Приведите минимальное значение log-loss на тестовой выборке и номер итерации, на котором оно достигается, при learning_rate = 0.2."
   ]
  },
  {
   "cell_type": "code",
   "execution_count": 46,
   "metadata": {},
   "outputs": [
    {
     "name": "stdout",
     "output_type": "stream",
     "text": [
      "      Iter       Train Loss   Remaining Time \n",
      "         1           1.2613           11.95s\n",
      "         2           1.1715           11.78s\n",
      "         3           1.1009           11.69s\n",
      "         4           1.0529           11.56s\n",
      "         5           1.0130           12.00s\n",
      "         6           0.9740           11.87s\n",
      "         7           0.9475           11.07s\n",
      "         8           0.9197           11.07s\n",
      "         9           0.8979           10.58s\n",
      "        10           0.8730           10.51s\n",
      "        20           0.7207            8.53s\n",
      "        30           0.6055            7.70s\n",
      "        40           0.5244            7.13s\n",
      "        50           0.4501            6.67s\n",
      "        60           0.3908            6.28s\n",
      "        70           0.3372            5.93s\n",
      "        80           0.3009            5.59s\n",
      "        90           0.2603            5.49s\n",
      "       100           0.2327            5.10s\n",
      "       200           0.0835            1.64s\n"
     ]
    }
   ],
   "source": [
    "gbc = GradientBoostingClassifier(n_estimators=250, verbose=True, random_state=241, learning_rate=0.2)\n",
    "gbc.fit(X_train, y_train)\n",
    "    \n",
    "test_deviance = []\n",
    "count_of_iter = 0\n",
    "log_loss_arr = []\n",
    "min_iter = np.inf\n",
    "min_val = np.inf\n",
    "for y_pred in gbc.staged_decision_function(X_test):\n",
    "    count_of_iter += 1\n",
    "    val = log_loss(y_test, 1./(1 + np.exp(-y_pred)))\n",
    "    log_loss_arr.append(val)\n",
    "    if min_val > val:\n",
    "        min_val = val\n",
    "        min_iter = count_of_iter"
   ]
  },
  {
   "cell_type": "code",
   "execution_count": 50,
   "metadata": {},
   "outputs": [],
   "source": [
    "with open('answer2.txt', 'w') as file:\n",
    "    file.write('{} {}'.format(min_val, min_iter))"
   ]
  },
  {
   "cell_type": "markdown",
   "metadata": {},
   "source": [
    "### На этих же данных обучите RandomForestClassifier с количеством деревьев, равным количеству итераций, на котором достигается наилучшее качество у градиентного бустинга из предыдущего пункта, c random_state=241 и остальными параметрами по умолчанию. Какое значение log-loss на тесте получается у этого случайного леса? (Не забывайте, что предсказания нужно получать с помощью функции predict_proba. В данном случае брать сигмоиду от оценки вероятности класса не нужно)"
   ]
  },
  {
   "cell_type": "code",
   "execution_count": 53,
   "metadata": {},
   "outputs": [
    {
     "data": {
      "text/plain": [
       "RandomForestClassifier(bootstrap=True, class_weight=None, criterion='gini',\n",
       "            max_depth=None, max_features='auto', max_leaf_nodes=None,\n",
       "            min_impurity_decrease=0.0, min_impurity_split=None,\n",
       "            min_samples_leaf=1, min_samples_split=2,\n",
       "            min_weight_fraction_leaf=0.0, n_estimators=37, n_jobs=None,\n",
       "            oob_score=False, random_state=241, verbose=0, warm_start=False)"
      ]
     },
     "execution_count": 53,
     "metadata": {},
     "output_type": "execute_result"
    }
   ],
   "source": [
    "rfc = RandomForestClassifier(n_estimators=min_iter, random_state=241)\n",
    "rfc.fit(X_train, y_train)"
   ]
  },
  {
   "cell_type": "code",
   "execution_count": 57,
   "metadata": {},
   "outputs": [],
   "source": [
    "answer3 = log_loss(y_test, rfc.predict_proba(X_test))"
   ]
  },
  {
   "cell_type": "code",
   "execution_count": 58,
   "metadata": {},
   "outputs": [],
   "source": [
    "with open('answer3.txt', 'w') as file:\n",
    "    file.write(str(round(answer3, 2)))"
   ]
  },
  {
   "cell_type": "code",
   "execution_count": null,
   "metadata": {},
   "outputs": [],
   "source": []
  }
 ],
 "metadata": {
  "kernelspec": {
   "display_name": "tfvenv",
   "language": "python",
   "name": "tfvenv"
  },
  "language_info": {
   "codemirror_mode": {
    "name": "ipython",
    "version": 3
   },
   "file_extension": ".py",
   "mimetype": "text/x-python",
   "name": "python",
   "nbconvert_exporter": "python",
   "pygments_lexer": "ipython3",
   "version": "3.6.6"
  }
 },
 "nbformat": 4,
 "nbformat_minor": 2
}
