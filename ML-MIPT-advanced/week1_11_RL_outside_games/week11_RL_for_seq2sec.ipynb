{
  "nbformat": 4,
  "nbformat_minor": 0,
  "metadata": {
    "kernelspec": {
      "display_name": "Py3 research env",
      "language": "python",
      "name": "py3_research"
    },
    "language_info": {
      "codemirror_mode": {
        "name": "ipython",
        "version": 3
      },
      "file_extension": ".py",
      "mimetype": "text/x-python",
      "name": "python",
      "nbconvert_exporter": "python",
      "pygments_lexer": "ipython3",
      "version": "3.7.7"
    },
    "colab": {
      "name": "Copy of week11_RL_for_seq2sec.ipynb",
      "provenance": [],
      "collapsed_sections": [
        "NwRv56ctKgzD"
      ]
    },
    "accelerator": "GPU"
  },
  "cells": [
    {
      "cell_type": "markdown",
      "metadata": {
        "id": "ipt3nA-zKgy_"
      },
      "source": [
        "# week08: Self-critical Sequence Training\n",
        "_Reference: based on Practical RL_ [week07](https://github.com/yandexdataschool/Practical_RL/blob/master/week07_seq2seq)\n",
        "\n",
        "This time we'll solve a problem of transribing hebrew words in english, also known as g2p (grapheme2phoneme)\n",
        "\n",
        " * word (sequence of letters in source language) -> translation (sequence of letters in target language)\n",
        "\n",
        "Unlike what most deep learning practicioners do, we won't only train it to maximize likelihood of correct translation, but also employ reinforcement learning to actually teach it to translate with as few errors as possible.\n",
        "\n",
        "\n",
        "### About the task\n",
        "\n",
        "One notable property of Hebrew is that it's consonant language. That is, there are no wovels in the written language. One could represent wovels with diacritics above consonants, but you don't expect people to do that in everyay life.\n",
        "\n",
        "Therefore, some hebrew characters will correspond to several english letters and others - to none, so we should use encoder-decoder architecture to figure that out.\n",
        "\n",
        "![img](https://esciencegroup.files.wordpress.com/2016/03/seq2seq.jpg)\n",
        "_(img: esciencegroup.files.wordpress.com)_\n",
        "\n",
        "Encoder-decoder architectures are about converting anything to anything, including\n",
        " * Machine translation and spoken dialogue systems\n",
        " * [Image captioning](http://mscoco.org/dataset/#captions-challenge2015) and [image2latex](https://htmlpreview.github.io/?https://github.com/openai/requests-for-research/blob/master/_requests_for_research/im2latex.html) (convolutional encoder, recurrent decoder)\n",
        " * Generating [images by captions](https://arxiv.org/abs/1511.02793) (recurrent encoder, convolutional decoder)\n",
        " * Grapheme2phoneme - convert words to transcripts\n",
        "  \n",
        "We chose simplified __Hebrew->English__ machine translation for words and short phrases (character-level), as it is relatively quick to train even without a gpu cluster."
      ]
    },
    {
      "cell_type": "code",
      "metadata": {
        "id": "pk8Pd4LlKgy_",
        "colab": {
          "base_uri": "https://localhost:8080/"
        },
        "outputId": "f79d3f7b-d9cf-46d4-b153-c68177945862"
      },
      "source": [
        "# # if running in colab, uncomment\n",
        "!wget https://raw.githubusercontent.com/girafe-ai/ml-mipt/advanced/week11_RL_outside_games/basic_model_torch.py -O basic_model_torch.py -nc\n",
        "!wget https://raw.githubusercontent.com/girafe-ai/ml-mipt/advanced/week11_RL_outside_games/main_dataset.txt -O main_dataset.txt -nc\n",
        "!wget https://raw.githubusercontent.com/girafe-ai/ml-mipt/advanced/week11_RL_outside_games/voc.py -O voc.py -nc\n",
        "!pip install nltk editdistance"
      ],
      "execution_count": 1,
      "outputs": [
        {
          "output_type": "stream",
          "text": [
            "--2020-12-04 14:32:39--  https://raw.githubusercontent.com/girafe-ai/ml-mipt/advanced/week11_RL_outside_games/basic_model_torch.py\n",
            "Resolving raw.githubusercontent.com (raw.githubusercontent.com)... 151.101.0.133, 151.101.64.133, 151.101.128.133, ...\n",
            "Connecting to raw.githubusercontent.com (raw.githubusercontent.com)|151.101.0.133|:443... connected.\n",
            "HTTP request sent, awaiting response... 200 OK\n",
            "Length: 7054 (6.9K) [text/plain]\n",
            "Saving to: ‘basic_model_torch.py’\n",
            "\n",
            "\rbasic_model_torch.p   0%[                    ]       0  --.-KB/s               \rbasic_model_torch.p 100%[===================>]   6.89K  --.-KB/s    in 0s      \n",
            "\n",
            "2020-12-04 14:32:39 (77.4 MB/s) - ‘basic_model_torch.py’ saved [7054/7054]\n",
            "\n",
            "--2020-12-04 14:32:39--  https://raw.githubusercontent.com/girafe-ai/ml-mipt/advanced/week11_RL_outside_games/main_dataset.txt\n",
            "Resolving raw.githubusercontent.com (raw.githubusercontent.com)... 151.101.0.133, 151.101.64.133, 151.101.128.133, ...\n",
            "Connecting to raw.githubusercontent.com (raw.githubusercontent.com)|151.101.0.133|:443... connected.\n",
            "HTTP request sent, awaiting response... 200 OK\n",
            "Length: 8608230 (8.2M) [text/plain]\n",
            "Saving to: ‘main_dataset.txt’\n",
            "\n",
            "main_dataset.txt    100%[===================>]   8.21M  29.4MB/s    in 0.3s    \n",
            "\n",
            "2020-12-04 14:32:40 (29.4 MB/s) - ‘main_dataset.txt’ saved [8608230/8608230]\n",
            "\n",
            "--2020-12-04 14:32:40--  https://raw.githubusercontent.com/girafe-ai/ml-mipt/advanced/week11_RL_outside_games/voc.py\n",
            "Resolving raw.githubusercontent.com (raw.githubusercontent.com)... 151.101.0.133, 151.101.64.133, 151.101.128.133, ...\n",
            "Connecting to raw.githubusercontent.com (raw.githubusercontent.com)|151.101.0.133|:443... connected.\n",
            "HTTP request sent, awaiting response... 200 OK\n",
            "Length: 2581 (2.5K) [text/plain]\n",
            "Saving to: ‘voc.py’\n",
            "\n",
            "voc.py              100%[===================>]   2.52K  --.-KB/s    in 0s      \n",
            "\n",
            "2020-12-04 14:32:40 (59.6 MB/s) - ‘voc.py’ saved [2581/2581]\n",
            "\n"
          ],
          "name": "stdout"
        }
      ]
    },
    {
      "cell_type": "code",
      "metadata": {
        "id": "Y236LCfxKgzB"
      },
      "source": [
        "# If True, only translates phrases shorter than 20 characters (way easier).\n",
        "EASY_MODE = True\n",
        "# Useful for initial coding.\n",
        "# If false, works with all phrases (please switch to this mode for homework assignment)\n",
        "\n",
        "# way we translate. Either \"he-to-en\" or \"en-to-he\"\n",
        "MODE = \"he-to-en\"\n",
        "# maximal length of _generated_ output, does not affect training\n",
        "MAX_OUTPUT_LENGTH = 50 if not EASY_MODE else 20\n",
        "REPORT_FREQ = 100                          # how often to evaluate validation score"
      ],
      "execution_count": 2,
      "outputs": []
    },
    {
      "cell_type": "markdown",
      "metadata": {
        "id": "yMFi47ACKgzB"
      },
      "source": [
        "### Step 1: preprocessing\n",
        "\n",
        "We shall store dataset as a dictionary\n",
        "`{ word1:[translation1,translation2,...], word2:[...],...}`.\n",
        "\n",
        "This is mostly due to the fact that many words have several correct translations.\n",
        "\n",
        "We have implemented this thing for you so that you can focus on more interesting parts.\n",
        "\n",
        "\n",
        "__Attention python2 users!__ You may want to cast everything to unicode later during homework phase, just make sure you do it _everywhere_."
      ]
    },
    {
      "cell_type": "code",
      "metadata": {
        "id": "-Z6gbWKOKgzB",
        "colab": {
          "base_uri": "https://localhost:8080/"
        },
        "outputId": "34415ac3-6696-4dc6-97af-492677c90cd3"
      },
      "source": [
        "import numpy as np\n",
        "from collections import defaultdict\n",
        "word_to_translation = defaultdict(list)  # our dictionary\n",
        "\n",
        "bos = '_'\n",
        "eos = ';'\n",
        "\n",
        "with open(\"main_dataset.txt\", encoding=\"utf-8\") as fin:\n",
        "    for line in fin:\n",
        "\n",
        "        en, he = line[:-1].lower().replace(bos, ' ').replace(eos,\n",
        "                                                             ' ').split('\\t')\n",
        "        word, trans = (he, en) if MODE == 'he-to-en' else (en, he)\n",
        "\n",
        "        if len(word) < 3:\n",
        "            continue\n",
        "        if EASY_MODE:\n",
        "            if max(len(word), len(trans)) > 20:\n",
        "                continue\n",
        "\n",
        "        word_to_translation[word].append(trans)\n",
        "\n",
        "print(\"size = \", len(word_to_translation))"
      ],
      "execution_count": 3,
      "outputs": [
        {
          "output_type": "stream",
          "text": [
            "size =  130113\n"
          ],
          "name": "stdout"
        }
      ]
    },
    {
      "cell_type": "code",
      "metadata": {
        "id": "73Eua1eLKgzB"
      },
      "source": [
        "# get all unique lines in source language\n",
        "all_words = np.array(list(word_to_translation.keys()))\n",
        "# get all unique lines in translation language\n",
        "all_translations = np.array(\n",
        "    [ts for all_ts in word_to_translation.values() for ts in all_ts])"
      ],
      "execution_count": 4,
      "outputs": []
    },
    {
      "cell_type": "markdown",
      "metadata": {
        "id": "PzirvfKEKgzB"
      },
      "source": [
        "### split the dataset\n",
        "\n",
        "We hold out 10% of all words to be used for validation.\n"
      ]
    },
    {
      "cell_type": "code",
      "metadata": {
        "id": "kyHOgY2cKgzB"
      },
      "source": [
        "from sklearn.model_selection import train_test_split\n",
        "train_words, test_words = train_test_split(\n",
        "    all_words, test_size=0.1, random_state=42)"
      ],
      "execution_count": 5,
      "outputs": []
    },
    {
      "cell_type": "markdown",
      "metadata": {
        "id": "EqZjopH5KgzB"
      },
      "source": [
        "### Building vocabularies\n",
        "\n",
        "We now need to build vocabularies that map strings to token ids and vice versa. We're gonna need these fellas when we feed training data into model or convert output matrices into english words."
      ]
    },
    {
      "cell_type": "code",
      "metadata": {
        "id": "f0rL8JIYKgzB"
      },
      "source": [
        "from voc import Vocab\n",
        "inp_voc = Vocab.from_lines(''.join(all_words), bos=bos, eos=eos, sep='')\n",
        "out_voc = Vocab.from_lines(''.join(all_translations), bos=bos, eos=eos, sep='')"
      ],
      "execution_count": 6,
      "outputs": []
    },
    {
      "cell_type": "code",
      "metadata": {
        "id": "rk8ray89KgzB",
        "colab": {
          "base_uri": "https://localhost:8080/"
        },
        "outputId": "8082c8aa-57e3-4b3c-efb3-52339c529663"
      },
      "source": [
        "# Here's how you cast lines into ids and backwards.\n",
        "batch_lines = all_words[:5]\n",
        "batch_ids = inp_voc.to_matrix(batch_lines)\n",
        "batch_lines_restored = inp_voc.to_lines(batch_ids)\n",
        "\n",
        "print(\"lines\")\n",
        "print(batch_lines)\n",
        "print(\"\\nwords to ids (0 = bos, 1 = eos):\")\n",
        "print(batch_ids)\n",
        "print(\"\\nback to words\")\n",
        "print(batch_lines_restored)"
      ],
      "execution_count": 7,
      "outputs": [
        {
          "output_type": "stream",
          "text": [
            "lines\n",
            "['אנרכיזם' 'אוטיזם קלאסי' 'אלבדו' 'אלבמה' 'אכילס']\n",
            "\n",
            "words to ids (0 = bos, 1 = eos):\n",
            "[[  0 108  73 183 172 175  53  74   1   1   1   1   1   1]\n",
            " [  0 108  79 131 175  53  74  62  84 182 108 145 175   1]\n",
            " [  0 108 182 163  17  79   1   1   1   1   1   1   1   1]\n",
            " [  0 108 182 163  12  88   1   1   1   1   1   1   1   1]\n",
            " [  0 108 172 175 182 145   1   1   1   1   1   1   1   1]]\n",
            "\n",
            "back to words\n",
            "['אנרכיזם', 'אוטיזם קלאסי', 'אלבדו', 'אלבמה', 'אכילס']\n"
          ],
          "name": "stdout"
        }
      ]
    },
    {
      "cell_type": "markdown",
      "metadata": {
        "id": "C6CL5mGPKgzB"
      },
      "source": [
        "Draw word/translation length distributions to estimate the scope of the task."
      ]
    },
    {
      "cell_type": "code",
      "metadata": {
        "id": "0IKUr_RrKgzB",
        "colab": {
          "base_uri": "https://localhost:8080/",
          "height": 400
        },
        "outputId": "ee420336-0444-402d-d71b-ec35be6bdbb6"
      },
      "source": [
        "import matplotlib.pyplot as plt\n",
        "%matplotlib inline\n",
        "plt.figure(figsize=[8, 4])\n",
        "plt.subplot(1, 2, 1)\n",
        "plt.title(\"words\")\n",
        "plt.hist(list(map(len, all_words)), bins=20)\n",
        "\n",
        "plt.subplot(1, 2, 2)\n",
        "plt.title('translations')\n",
        "plt.hist(list(map(len, all_translations)), bins=20)"
      ],
      "execution_count": 8,
      "outputs": [
        {
          "output_type": "execute_result",
          "data": {
            "text/plain": [
              "(array([   21.,   112.,  3098.,  8157., 11482., 12556., 11430.,  9568.,\n",
              "         9254.,  9755., 10299., 11123., 11203., 10840.,  9316.,  7873.,\n",
              "         6527.,  5523.,  4505.,  3684.]),\n",
              " array([ 1.  ,  1.95,  2.9 ,  3.85,  4.8 ,  5.75,  6.7 ,  7.65,  8.6 ,\n",
              "         9.55, 10.5 , 11.45, 12.4 , 13.35, 14.3 , 15.25, 16.2 , 17.15,\n",
              "        18.1 , 19.05, 20.  ]),\n",
              " <a list of 20 Patch objects>)"
            ]
          },
          "metadata": {
            "tags": []
          },
          "execution_count": 8
        },
        {
          "output_type": "display_data",
          "data": {
            "image/png": "[encoded data removed]",
            "text/plain": [
              "<Figure size 576x288 with 2 Axes>"
            ]
          },
          "metadata": {
            "tags": [],
            "needs_background": "light"
          }
        }
      ]
    },
    {
      "cell_type": "markdown",
      "metadata": {
        "id": "QWvzMmSdKgzB"
      },
      "source": [
        "### Step 3: deploy encoder-decoder \n",
        "\n",
        "__assignment starts here__\n",
        "\n",
        "Our architecture consists of two main blocks:\n",
        "* Encoder reads words character by character and outputs code vector (usually a function of last RNN state)\n",
        "* Decoder takes that code vector and produces translations character by character\n",
        "\n",
        "Than it gets fed into a model that follows this simple interface:\n",
        "* __`model(inp, out, **flags) -> logp`__ - takes symbolic int32 matrices of hebrew words and their english translations. Computes the log-probabilities of all possible english characters given english prefices and hebrew word.\n",
        "* __`model.translate(inp, **flags) -> out, logp`__ - takes symbolic int32 matrix of hebrew words, produces output tokens sampled from the model and output log-probabilities for all possible tokens at each tick.\n",
        "  * if given flag __`greedy=True`__, takes most likely next token at each iteration. Otherwise samples with next token probabilities predicted by model.\n",
        "\n",
        "That's all! It's as hard as it gets. With those two methods alone you can implement all kinds of prediction and training."
      ]
    },
    {
      "cell_type": "code",
      "metadata": {
        "id": "WS06qlfxKgzB"
      },
      "source": [
        "import torch\n",
        "import torch.nn as nn\n",
        "import torch.nn.functional as F"
      ],
      "execution_count": 9,
      "outputs": []
    },
    {
      "cell_type": "code",
      "metadata": {
        "id": "VcPHlN0-KgzC"
      },
      "source": [
        "from basic_model_torch import BasicTranslationModel\n",
        "model = BasicTranslationModel(inp_voc, out_voc,\n",
        "                              emb_size=64, hid_size=256)"
      ],
      "execution_count": 10,
      "outputs": []
    },
    {
      "cell_type": "code",
      "metadata": {
        "id": "jVFMym9AKgzC",
        "colab": {
          "base_uri": "https://localhost:8080/"
        },
        "outputId": "cb74fdaf-9241-4d72-988a-9b26a6377f83"
      },
      "source": [
        "device = torch.device('cuda:0') if torch.cuda.is_available() else torch.device('cpu')\n",
        "model.to(device)"
      ],
      "execution_count": 11,
      "outputs": [
        {
          "output_type": "execute_result",
          "data": {
            "text/plain": [
              "BasicTranslationModel(\n",
              "  (emb_inp): Embedding(189, 64)\n",
              "  (emb_out): Embedding(283, 64)\n",
              "  (enc0): GRU(64, 256, batch_first=True)\n",
              "  (dec_start): Linear(in_features=256, out_features=256, bias=True)\n",
              "  (dec0): GRUCell(64, 256)\n",
              "  (logits): Linear(in_features=256, out_features=283, bias=True)\n",
              ")"
            ]
          },
          "metadata": {
            "tags": []
          },
          "execution_count": 11
        }
      ]
    },
    {
      "cell_type": "code",
      "metadata": {
        "id": "7wjCS_6tKgzC",
        "colab": {
          "base_uri": "https://localhost:8080/"
        },
        "outputId": "2d48e77f-a4a8-44ba-c981-c33446bdc1d7"
      },
      "source": [
        "# Play around with symbolic_translate and symbolic_score\n",
        "inp = torch.tensor(np.random.randint(0, 10, [3, 5]), dtype=torch.int64).to(device)\n",
        "out = torch.tensor(np.random.randint(0, 10, [3, 5]), dtype=torch.int64).to(device)\n",
        "\n",
        "# translate inp (with untrained model)\n",
        "sampled_out, logp = model.translate(inp, greedy=False)\n",
        "\n",
        "print(\"Sample translations:\\n\", sampled_out)\n",
        "print(\"Log-probabilities at each step:\\n\", logp)"
      ],
      "execution_count": 13,
      "outputs": [
        {
          "output_type": "stream",
          "text": [
            "Sample translations:\n",
            " tensor([[  0,  17,  11, 107,  75,  60, 235, 126, 165,  87,  12, 261,  58, 131,\n",
            "         222,  92,  23,  36, 259, 122,  24, 140, 212,   9,  29, 233, 253,  28,\n",
            "         148, 127, 236,  42, 277, 235, 200,  95, 173, 131, 175, 104, 103,  70,\n",
            "         204, 192, 186, 276, 209, 278, 143, 189, 225, 264, 119, 183, 163, 163,\n",
            "         102, 151,  34,  16,  41, 263,  90, 145, 229,  56,  75, 126, 159, 120,\n",
            "         243,  79, 225,  11, 282, 265,   2, 116, 194, 275, 104, 188, 280, 203,\n",
            "         146,  46, 246, 170, 244, 233, 156, 136, 189,  14,  34, 260, 265, 162,\n",
            "          24,  81,  89, 211, 247, 245,  89, 207, 225, 201, 271, 243, 147,  21,\n",
            "         245, 146, 199, 147, 203, 143, 278, 115, 223,  73,  22, 194,  62, 126,\n",
            "           4, 155,  52,  42, 246,  40,  12, 100,  21, 180,  66, 263, 230, 204,\n",
            "         279, 105, 237, 160, 235,  26,   7, 117, 176, 239,  31, 139, 140, 179,\n",
            "         173, 260,  65, 157, 255, 123, 167, 162, 156, 184, 139,  40, 218,  10,\n",
            "         107,  24, 182, 181,  55, 252,   1, 205,  60, 130, 120, 107, 178, 162,\n",
            "         156, 223,  84,  21, 231, 156,  86, 232, 272, 271,  17,  92,  52,  65,\n",
            "          21, 127, 190, 200, 181, 144,  31,  56, 113, 176, 141,  27, 115,  16,\n",
            "         114, 269,  61, 276, 193, 211],\n",
            "        [  0, 264, 229,  54, 254,  47, 185, 220, 264, 128, 270, 112,  87, 254,\n",
            "         104,  76, 181, 140,  17, 241, 153, 250,  59, 183, 202, 233,   0, 142,\n",
            "         135,  56, 110,  22,  60,  29, 184, 170, 139, 269, 196, 156,  98, 155,\n",
            "          39,   3, 120,   6, 143, 144,  32, 274, 172, 265, 137,  87, 139,  58,\n",
            "          97, 117, 187, 161,  33, 234,  21, 155, 155,  33, 199,  12, 281, 231,\n",
            "         117, 268,  57,  48,  30,  96, 267, 238, 233,   3,  24, 142,  49, 148,\n",
            "         240, 250, 269,  83, 251, 121, 118,  74,  13, 174, 245, 255, 101,  37,\n",
            "         257, 201,  60,  57, 124, 230, 210, 201,  64, 233,  11, 273,  82, 139,\n",
            "         180, 223,  78,  55,   9, 254,  71, 201, 125, 247, 249, 282, 243,  28,\n",
            "          91, 189, 233, 257,  12, 251, 172,  62, 252,  74, 149, 159,  20, 143,\n",
            "           3,  75,  25, 146, 186,  74, 143, 176, 116, 140, 147,  93,   0,  45,\n",
            "         105,  28, 171, 248, 170, 166,  13,  85,  37, 217, 198,  84, 241,   0,\n",
            "         247, 152, 173,   7, 193,  35, 250,  55,  90,  54, 203,  82,   6, 126,\n",
            "          21,  34,  88,  88, 189, 215, 154,  67,  39, 146, 239, 281,  13, 279,\n",
            "          70, 181,  68, 266, 105, 118, 156, 196, 115,   3, 183,  24, 228, 120,\n",
            "         211, 272, 247, 240, 129,   1],\n",
            "        [  0,   9,  40,   7, 150,  49, 147, 193, 171, 140, 150,  83,  74,  99,\n",
            "         238,  24, 179, 187, 251, 226,  87, 179, 154, 205, 161, 216, 221,  59,\n",
            "          79, 161, 208, 112, 126,  85, 255, 105,  71, 201,  71,  79, 181, 208,\n",
            "         202,  59,  70, 271,  40, 208, 230, 125, 250,  41, 224,  16, 150, 205,\n",
            "         109, 261, 113,  86,  33,  79, 273,  36, 246,   8, 193,  83, 152, 239,\n",
            "         205, 152, 166,  72, 181, 231,  98, 104,  19, 153,  86, 258, 282,  28,\n",
            "         192,  24,  52,  27, 270,  34, 249,  20, 268,  46,  72, 170,  31, 234,\n",
            "         121, 220,  11,  72, 247, 133, 178,  19,  45,  26,  94,  75, 228,  90,\n",
            "         177,  87,  77, 161,  21, 163,  16, 274, 146, 186,  57, 248, 254,  95,\n",
            "         129, 127,   4, 262, 110, 127, 232, 104, 101,   1, 106, 274, 163,  59,\n",
            "          85, 105, 183, 192, 211, 255, 266, 214,  31, 117,  89, 237, 183, 243,\n",
            "         206,  14, 118,  72,  94, 129,  58,  95, 280, 127, 135, 193, 103,  92,\n",
            "         231, 253, 210, 102, 250,  65,  14,  60,  51, 224,  85, 242,  69, 203,\n",
            "         142, 194, 188, 219,  30, 231, 266,   4, 255,  10, 205, 215, 106, 272,\n",
            "         194, 222, 227,  64, 124, 135, 202, 166, 170,  56,  66, 266, 108, 191,\n",
            "          72, 274,  40, 190, 278, 277]], device='cuda:0')\n",
            "Log-probabilities at each step:\n",
            " tensor([[[  0.0000, -69.0776, -69.0776,  ..., -69.0776, -69.0776, -69.0776],\n",
            "         [ -5.5704,  -5.7611,  -5.7580,  ...,  -5.8103,  -5.7287,  -5.6539],\n",
            "         [ -5.7062,  -5.7079,  -5.7371,  ...,  -5.8437,  -5.8173,  -5.7527],\n",
            "         ...,\n",
            "         [ -5.4527,  -5.7357,  -5.6873,  ...,  -5.7996,  -5.7084,  -5.6486],\n",
            "         [ -5.5589,  -5.7504,  -5.7565,  ...,  -5.7553,  -5.8023,  -5.6924],\n",
            "         [ -5.3962,  -5.6876,  -5.7309,  ...,  -5.7421,  -5.6271,  -5.7246]],\n",
            "\n",
            "        [[  0.0000, -69.0776, -69.0776,  ..., -69.0776, -69.0776, -69.0776],\n",
            "         [ -5.5632,  -5.7441,  -5.7361,  ...,  -5.8412,  -5.8088,  -5.5953],\n",
            "         [ -5.5281,  -5.8037,  -5.8291,  ...,  -5.8906,  -5.5928,  -5.7488],\n",
            "         ...,\n",
            "         [ -5.7065,  -5.4468,  -5.8153,  ...,  -5.6879,  -5.7162,  -5.7079],\n",
            "         [ -5.8023,  -5.4557,  -5.6819,  ...,  -5.6349,  -5.6355,  -5.6746],\n",
            "         [ -5.5048,  -5.4633,  -5.7402,  ...,  -5.6916,  -5.6534,  -5.7098]],\n",
            "\n",
            "        [[  0.0000, -69.0776, -69.0776,  ..., -69.0776, -69.0776, -69.0776],\n",
            "         [ -5.5882,  -5.7366,  -5.7755,  ...,  -5.8369,  -5.7694,  -5.6240],\n",
            "         [ -5.4919,  -5.6828,  -5.6857,  ...,  -5.8725,  -5.7396,  -5.6147],\n",
            "         ...,\n",
            "         [ -5.6950,  -5.7030,  -5.6668,  ...,  -5.8648,  -5.7636,  -5.7072],\n",
            "         [ -5.6121,  -5.6414,  -5.7106,  ...,  -5.5898,  -5.6346,  -5.6420],\n",
            "         [ -5.5970,  -5.5191,  -5.6449,  ...,  -5.7242,  -5.4863,  -5.6364]]],\n",
            "       device='cuda:0', grad_fn=<LogSoftmaxBackward>)\n"
          ],
          "name": "stdout"
        }
      ]
    },
    {
      "cell_type": "code",
      "metadata": {
        "id": "L_7NZptIKgzC",
        "colab": {
          "base_uri": "https://localhost:8080/"
        },
        "outputId": "23d9d170-8097-456c-f351-40c38919aa97"
      },
      "source": [
        "# score logp(out | inp) with untrained input\n",
        "logp = model(inp, out)\n",
        "print(\"Symbolic_score output:\\n\", logp)\n",
        "\n",
        "print(\"Log-probabilities of output tokens:\\n\",\n",
        "      torch.gather(logp, dim=2, index=out[:, :, None]))"
      ],
      "execution_count": 14,
      "outputs": [
        {
          "output_type": "stream",
          "text": [
            "Symbolic_score output:\n",
            " tensor([[[  0.0000, -69.0776, -69.0776,  ..., -69.0776, -69.0776, -69.0776],\n",
            "         [ -5.5704,  -5.7611,  -5.7580,  ...,  -5.8103,  -5.7287,  -5.6539],\n",
            "         [ -5.4806,  -5.7010,  -5.6721,  ...,  -5.8486,  -5.7074,  -5.6397],\n",
            "         [ -5.6544,  -5.6753,  -5.7732,  ...,  -5.6777,  -5.6911,  -5.6353],\n",
            "         [ -5.5095,  -5.6377,  -5.6650,  ...,  -5.7702,  -5.6897,  -5.6190]],\n",
            "\n",
            "        [[  0.0000, -69.0776, -69.0776,  ..., -69.0776, -69.0776, -69.0776],\n",
            "         [ -5.5577,  -5.7438,  -5.6312,  ...,  -5.7835,  -5.6097,  -5.6608],\n",
            "         [ -5.4802,  -5.6870,  -5.6131,  ...,  -5.8142,  -5.6382,  -5.6397],\n",
            "         [ -5.3766,  -5.6972,  -5.7391,  ...,  -5.8497,  -5.6642,  -5.6348],\n",
            "         [ -5.2860,  -5.6993,  -5.8015,  ...,  -5.8807,  -5.6799,  -5.6476]],\n",
            "\n",
            "        [[  0.0000, -69.0776, -69.0776,  ..., -69.0776, -69.0776, -69.0776],\n",
            "         [ -5.7181,  -5.6350,  -5.7997,  ...,  -5.5889,  -5.6467,  -5.6638],\n",
            "         [ -5.9023,  -5.6055,  -5.6759,  ...,  -5.5898,  -5.7355,  -5.7122],\n",
            "         [ -5.7199,  -5.6458,  -5.6816,  ...,  -5.6563,  -5.6646,  -5.5508],\n",
            "         [ -5.5784,  -5.6399,  -5.6396,  ...,  -5.7938,  -5.6786,  -5.5900]]],\n",
            "       device='cuda:0', grad_fn=<LogSoftmaxBackward>)\n",
            "Log-probabilities of output tokens:\n",
            " tensor([[[  0.0000],\n",
            "         [ -5.6184],\n",
            "         [ -5.7010],\n",
            "         [ -5.7490],\n",
            "         [ -5.7132]],\n",
            "\n",
            "        [[-69.0776],\n",
            "         [ -5.6257],\n",
            "         [ -5.6107],\n",
            "         [ -5.6982],\n",
            "         [ -5.7482]],\n",
            "\n",
            "        [[-69.0776],\n",
            "         [ -5.5702],\n",
            "         [ -5.6549],\n",
            "         [ -5.7282],\n",
            "         [ -5.6396]]], device='cuda:0', grad_fn=<GatherBackward>)\n"
          ],
          "name": "stdout"
        }
      ]
    },
    {
      "cell_type": "code",
      "metadata": {
        "id": "mACfgcSWKgzC"
      },
      "source": [
        "def translate(lines, max_len=MAX_OUTPUT_LENGTH, device=device):\n",
        "    \"\"\"\n",
        "    You are given a list of input lines. \n",
        "    Make your neural network translate them.\n",
        "    :return: a list of output lines\n",
        "    \"\"\"\n",
        "    # Convert lines to a matrix of indices\n",
        "    lines_ix = inp_voc.to_matrix(lines)\n",
        "    lines_ix = torch.tensor(lines_ix, dtype=torch.int64).to(device)\n",
        "\n",
        "    # Compute translations in form of indices\n",
        "    trans_ix, _ = model.translate(lines_ix, greedy=True, max_len=max_len)\n",
        "\n",
        "    # Convert translations back into strings\n",
        "    return out_voc.to_lines(trans_ix.cpu().data.numpy())"
      ],
      "execution_count": 19,
      "outputs": []
    },
    {
      "cell_type": "code",
      "metadata": {
        "id": "0IXFGorzKgzC",
        "colab": {
          "base_uri": "https://localhost:8080/"
        },
        "outputId": "965609f3-2173-45c4-c0f0-a11bc434e78f"
      },
      "source": [
        "print(\"Sample inputs:\", all_words[:3])\n",
        "print(\"Dummy translations:\", translate(all_words[:3]))\n",
        "trans = translate(all_words[:3])\n",
        "\n",
        "assert translate(all_words[:3]) == translate(\n",
        "    all_words[:3]), \"make sure translation is deterministic (use greedy=True and disable any noise layers)\"\n",
        "assert type(translate(all_words[:3])) is list and (type(translate(all_words[:1])[0]) is str or type(\n",
        "    translate(all_words[:1])[0]) is unicode), \"translate(lines) must return a sequence of strings!\"\n",
        "# note: if translation freezes, make sure you used max_len parameter\n",
        "print(\"Tests passed!\")"
      ],
      "execution_count": 20,
      "outputs": [
        {
          "output_type": "stream",
          "text": [
            "Sample inputs: ['אנרכיזם' 'אוטיזם קלאסי' 'אלבדו']\n",
            "Dummy translations: ['רר!ðã²ľbる→̇?ז~n&ò~σ', 'רר!ðã²ľbる→̇?ז~n&ò~σ', 'רר!ðã²ľbる→̇?ז~n&ò~σ']\n",
            "Tests passed!\n"
          ],
          "name": "stdout"
        }
      ]
    },
    {
      "cell_type": "markdown",
      "metadata": {
        "id": "B-cIEtsHKgzC"
      },
      "source": [
        "### Scoring function\n",
        "\n",
        "LogLikelihood is a poor estimator of model performance.\n",
        "* If we predict zero probability once, it shouldn't ruin entire model.\n",
        "* It is enough to learn just one translation if there are several correct ones.\n",
        "* What matters is how many mistakes model's gonna make when it translates!\n",
        "\n",
        "Therefore, we will use minimal Levenshtein distance. It measures how many characters do we need to add/remove/replace from model translation to make it perfect. Alternatively, one could use character-level BLEU/RougeL or other similar metrics.\n",
        "\n",
        "The catch here is that Levenshtein distance is not differentiable: it isn't even continuous. We can't train our neural network to maximize it by gradient descent."
      ]
    },
    {
      "cell_type": "code",
      "metadata": {
        "colab": {
          "base_uri": "https://localhost:8080/"
        },
        "id": "pOMbFJxsNDlr",
        "outputId": "e5f7c2bf-4046-459c-b1cc-b45acc980cd1"
      },
      "source": [
        "# !pip install editdistance"
      ],
      "execution_count": 21,
      "outputs": [
        {
          "output_type": "stream",
          "text": [
            "Requirement already satisfied: editdistance in /usr/local/lib/python3.6/dist-packages (0.5.3)\n"
          ],
          "name": "stdout"
        }
      ]
    },
    {
      "cell_type": "code",
      "metadata": {
        "id": "q0P1lxFeKgzC"
      },
      "source": [
        "import editdistance\n",
        "\n",
        "\n",
        "def get_distance(word, trans):\n",
        "    \"\"\"\n",
        "    A function that takes word and predicted translation\n",
        "    and evaluates (Levenshtein's) edit distance to closest correct translation\n",
        "    \"\"\"\n",
        "    references = word_to_translation[word]\n",
        "    assert len(references) != 0, \"wrong/unknown word\"\n",
        "    return min(editdistance.eval(trans, ref) for ref in references)\n",
        "\n",
        "\n",
        "def score(words, bsize=100):\n",
        "    \"\"\"a function that computes levenshtein distance for bsize random samples\"\"\"\n",
        "    assert isinstance(words, np.ndarray)\n",
        "\n",
        "    batch_words = np.random.choice(words, size=bsize, replace=False)\n",
        "    batch_trans = translate(batch_words)\n",
        "\n",
        "    distances = list(map(get_distance, batch_words, batch_trans))\n",
        "\n",
        "    return np.array(distances, dtype='float32')"
      ],
      "execution_count": 22,
      "outputs": []
    },
    {
      "cell_type": "code",
      "metadata": {
        "id": "T86pS1XSKgzC",
        "colab": {
          "base_uri": "https://localhost:8080/"
        },
        "outputId": "a0e1d7de-d922-435c-f96c-376ca3c9a854"
      },
      "source": [
        "# should be around 5-50 and decrease rapidly after training :)\n",
        "[score(test_words, 10).mean() for _ in range(5)]"
      ],
      "execution_count": 23,
      "outputs": [
        {
          "output_type": "execute_result",
          "data": {
            "text/plain": [
              "[18.5, 18.8, 18.4, 18.6, 18.7]"
            ]
          },
          "metadata": {
            "tags": []
          },
          "execution_count": 23
        }
      ]
    },
    {
      "cell_type": "markdown",
      "metadata": {
        "id": "MNPAYdaHKgzC"
      },
      "source": [
        "### Supervised pre-training\n",
        "\n",
        "Here we define a function that trains our model through maximizing log-likelihood a.k.a. minimizing crossentropy."
      ]
    },
    {
      "cell_type": "code",
      "metadata": {
        "id": "K-7M7229KgzC"
      },
      "source": [
        "import random\n",
        "\n",
        "\n",
        "def sample_batch(words, word_to_translation, batch_size):\n",
        "    \"\"\"\n",
        "    sample random batch of words and random correct translation for each word\n",
        "    example usage:\n",
        "    batch_x,batch_y = sample_batch(train_words, word_to_translations,10)\n",
        "    \"\"\"\n",
        "    # choose words\n",
        "    batch_words = np.random.choice(words, size=batch_size)\n",
        "\n",
        "    # choose translations\n",
        "    batch_trans_candidates = list(map(word_to_translation.get, batch_words))\n",
        "    batch_trans = list(map(random.choice, batch_trans_candidates))\n",
        "    return batch_words, batch_trans"
      ],
      "execution_count": 24,
      "outputs": []
    },
    {
      "cell_type": "code",
      "metadata": {
        "id": "8ZEdx5tKKgzC",
        "colab": {
          "base_uri": "https://localhost:8080/"
        },
        "outputId": "691d23a8-f701-4f7f-c6ca-ff89ab1379d6"
      },
      "source": [
        "bx, by = sample_batch(train_words, word_to_translation, batch_size=3)\n",
        "print(\"Source:\")\n",
        "print(bx)\n",
        "print(\"Target:\")\n",
        "print(by)"
      ],
      "execution_count": 25,
      "outputs": [
        {
          "output_type": "stream",
          "text": [
            "Source:\n",
            "['spiritual genocide' 'ורד הגליל' 'טריאומווירט']\n",
            "Target:\n",
            "['spiritual genocide', 'vered hagalil', 'triumvirate']\n"
          ],
          "name": "stdout"
        }
      ]
    },
    {
      "cell_type": "code",
      "metadata": {
        "id": "BtkmrM0VKgzC"
      },
      "source": [
        "from basic_model_torch import infer_length, infer_mask, to_one_hot\n",
        "\n",
        "\n",
        "def compute_loss_on_batch(input_sequence, reference_answers, device=device):\n",
        "    \"\"\" Compute crossentropy loss given a batch of sources and translations \"\"\"\n",
        "    input_sequence = torch.tensor(inp_voc.to_matrix(input_sequence), dtype=torch.int64).to(device)\n",
        "    reference_answers = torch.tensor(out_voc.to_matrix(reference_answers), dtype=torch.int64).to(device)\n",
        "\n",
        "    # Compute log-probabilities of all possible tokens at each step. Use model interface.\n",
        "    logprobs_seq = model(input_sequence, reference_answers) # YOUR CODE\n",
        "\n",
        "    # compute elementwise crossentropy as negative log-probabilities of reference_answers.\n",
        "    crossentropy = -torch.sum(to_one_hot(reference_answers, len(out_voc)) * logprobs_seq, dim=-1)\n",
        "    # YOUR CODE\n",
        "    assert crossentropy.dim(\n",
        "    ) == 2, \"please return elementwise crossentropy, don't compute mean just yet\"\n",
        "\n",
        "    # average with mask\n",
        "    mask = infer_mask(reference_answers, out_voc.eos_ix)\n",
        "    loss = torch.sum(crossentropy * mask) / torch.sum(mask)\n",
        "\n",
        "    return loss"
      ],
      "execution_count": 26,
      "outputs": []
    },
    {
      "cell_type": "code",
      "metadata": {
        "id": "QqRuxD-mKgzC",
        "colab": {
          "base_uri": "https://localhost:8080/"
        },
        "outputId": "3c8174f4-8ab8-4d33-f5ff-01673ed9af5a"
      },
      "source": [
        "# test it\n",
        "loss = compute_loss_on_batch(*sample_batch(train_words, word_to_translation, 3))\n",
        "print('loss = ', loss)\n",
        "\n",
        "assert loss.item() > 0.0\n",
        "loss.backward()\n",
        "for w in model.parameters():\n",
        "    assert w.grad is not None and torch.max(torch.abs(w.grad)).item() != 0, \\\n",
        "        \"Loss is not differentiable w.r.t. a weight with shape %s. Check comput_loss_on_batch.\" % (\n",
        "            w.size(),)\n",
        "print('Seems fine!')"
      ],
      "execution_count": 27,
      "outputs": [
        {
          "output_type": "stream",
          "text": [
            "loss =  tensor(5.3485, device='cuda:0', grad_fn=<DivBackward0>)\n",
            "Seems fine!\n"
          ],
          "name": "stdout"
        }
      ]
    },
    {
      "cell_type": "markdown",
      "metadata": {
        "id": "0XhtYJiYKgzC"
      },
      "source": [
        "##### Actually train the model\n",
        "\n",
        "Minibatches and stuff..."
      ]
    },
    {
      "cell_type": "code",
      "metadata": {
        "id": "6umdWe2MKgzC"
      },
      "source": [
        "from IPython.display import clear_output\n",
        "from tqdm import tqdm, trange  # or use tqdm_notebook,tnrange\n",
        "\n",
        "loss_history = []\n",
        "editdist_history = []\n",
        "entropy_history = []\n",
        "opt = torch.optim.Adam(model.parameters())"
      ],
      "execution_count": 28,
      "outputs": []
    },
    {
      "cell_type": "code",
      "metadata": {
        "id": "xNf_MHZBKgzC",
        "colab": {
          "base_uri": "https://localhost:8080/",
          "height": 315
        },
        "outputId": "c5c29566-e7a9-4789-b9c9-c08bb6d556ca"
      },
      "source": [
        "\n",
        "\n",
        "for i in trange(5000):\n",
        "    loss = compute_loss_on_batch(*sample_batch(train_words, word_to_translation, 32))\n",
        "\n",
        "    # train with backprop\n",
        "    loss.backward()\n",
        "    opt.step()\n",
        "    opt.zero_grad()\n",
        "\n",
        "    loss_history.append(loss.item())\n",
        "\n",
        "    if (i+1) % REPORT_FREQ == 0:\n",
        "        clear_output(True)\n",
        "        current_scores = score(test_words)\n",
        "        editdist_history.append(current_scores.mean())\n",
        "        print(\"llh=%.3f, mean score=%.3f\" %\n",
        "              (np.mean(loss_history[-10:]), np.mean(editdist_history[-10:])))\n",
        "        plt.figure(figsize=(12, 4))\n",
        "        plt.subplot(131)\n",
        "        plt.title('train loss / traning time')\n",
        "        plt.plot(loss_history)\n",
        "        plt.grid()\n",
        "        plt.subplot(132)\n",
        "        plt.title('val score distribution')\n",
        "        plt.hist(current_scores, bins=20)\n",
        "        plt.subplot(133)\n",
        "        plt.title('val score / traning time (lower is better)')\n",
        "        plt.plot(editdist_history)\n",
        "        plt.grid()\n",
        "        plt.show()"
      ],
      "execution_count": 29,
      "outputs": [
        {
          "output_type": "stream",
          "text": [
            "llh=1.310, mean score=7.043\n"
          ],
          "name": "stdout"
        },
        {
          "output_type": "display_data",
          "data": {
            "image/png": "[encoded data removed]",
            "text/plain": [
              "<Figure size 864x288 with 3 Axes>"
            ]
          },
          "metadata": {
            "tags": [],
            "needs_background": "light"
          }
        },
        {
          "output_type": "stream",
          "text": [
            "\r100%|██████████| 5000/5000 [01:35<00:00, 52.51it/s]\n"
          ],
          "name": "stderr"
        }
      ]
    },
    {
      "cell_type": "markdown",
      "metadata": {
        "id": "pRJY1gxyKgzC"
      },
      "source": [
        "__How to interpret the plots:__\n",
        "\n",
        "* __Train loss__ - that's your model's crossentropy over minibatches. It should go down steadily. Most importantly, it shouldn't be NaN :)\n",
        "* __Val score distribution__ - distribution of translation edit distance (score) within batch. It should move to the left over time.\n",
        "* __Val score / training time__ - it's your current mean edit distance. This plot is much whimsier than loss, but make sure it goes below 8 by 2500 steps. \n",
        "\n",
        "If it doesn't, first try to re-create both model and opt. You may have changed it's weight too much while debugging. If that doesn't help, it's debugging time."
      ]
    },
    {
      "cell_type": "code",
      "metadata": {
        "id": "R6kcW0gvKgzD",
        "colab": {
          "base_uri": "https://localhost:8080/"
        },
        "outputId": "48ae48f9-53fe-4d5b-abd8-3a475aa37649"
      },
      "source": [
        "for word in train_words[:10]:\n",
        "    print(\"%s -> %s\" % (word, translate([word])[0]))"
      ],
      "execution_count": 30,
      "outputs": [
        {
          "output_type": "stream",
          "text": [
            "כל אנשי סמיילי -> compolity of the se\n",
            "קטגוריה:ערוץ 2 -> the sant 2\n",
            "עבודה מהבית -> abushim\n",
            "פראליה -> prahlia\n",
            "קפלר 42 -> caffer cleer 2\n",
            "קטגוריה:מתאסלמים -> mastalism\n",
            "בושמי -> boshmi\n",
            "לאונרדו -> leonardo ross\n",
            "שאמה -> shama\n",
            "עכברה -> abara\n"
          ],
          "name": "stdout"
        }
      ]
    },
    {
      "cell_type": "code",
      "metadata": {
        "id": "pV4w_hN3KgzD",
        "colab": {
          "base_uri": "https://localhost:8080/"
        },
        "outputId": "f3951449-744d-4ace-8c00-2613c9b82769"
      },
      "source": [
        "test_scores = []\n",
        "for start_i in trange(0, len(test_words), 32):\n",
        "    batch_words = test_words[start_i:start_i+32]\n",
        "    batch_trans = translate(batch_words)\n",
        "    distances = list(map(get_distance, batch_words, batch_trans))\n",
        "    test_scores.extend(distances)\n",
        "\n",
        "print(\"Supervised test score:\", np.mean(test_scores))"
      ],
      "execution_count": 31,
      "outputs": [
        {
          "output_type": "stream",
          "text": [
            "100%|██████████| 407/407 [00:03<00:00, 119.76it/s]"
          ],
          "name": "stderr"
        },
        {
          "output_type": "stream",
          "text": [
            "Supervised test score: 6.974023977866585\n"
          ],
          "name": "stdout"
        },
        {
          "output_type": "stream",
          "text": [
            "\n"
          ],
          "name": "stderr"
        }
      ]
    },
    {
      "cell_type": "markdown",
      "metadata": {
        "id": "WWBVv1jgKgzD"
      },
      "source": [
        "### Self-critical policy gradient\n",
        "\n",
        "In this section you'll implement algorithm called self-critical sequence training (here's an [article](https://arxiv.org/abs/1612.00563)).\n",
        "\n",
        "The algorithm is a vanilla policy gradient with a special baseline. \n",
        "\n",
        "$$ \\nabla J = E_{x \\sim p(s)} E_{y \\sim \\pi(y|x)} \\nabla log \\pi(y|x) \\cdot (R(x,y) - b(x)) $$\n",
        "\n",
        "Here reward R(x,y) is a __negative levenshtein distance__ (since we minimize it). The baseline __b(x)__ represents how well model fares on word __x__.\n",
        "\n",
        "In practice, this means that we compute baseline as a score of greedy translation, $b(x) = R(x,y_{greedy}(x)) $.\n",
        "\n",
        "![img](https://github.com/yandexdataschool/Practical_RL/raw/master/yet_another_week/_resource/scheme.png)\n",
        "\n",
        "\n",
        "Luckily, we already obtained the required outputs: `model.greedy_translations, model.greedy_mask` and we only need to compute levenshtein using `compute_levenshtein` function.\n"
      ]
    },
    {
      "cell_type": "code",
      "metadata": {
        "id": "Zd6SsHCyKgzD"
      },
      "source": [
        "def compute_reward(input_sequence, translations):\n",
        "    \"\"\" computes sample-wise reward given token ids for inputs and translations \"\"\"\n",
        "    distances = list(map(get_distance,\n",
        "                         inp_voc.to_lines(input_sequence.data.numpy()),\n",
        "                         out_voc.to_lines(translations.data.numpy())))\n",
        "    # use negative levenshtein distance so that larger reward means better policy\n",
        "    return - torch.tensor(distances, dtype=torch.int64)"
      ],
      "execution_count": 32,
      "outputs": []
    },
    {
      "cell_type": "code",
      "metadata": {
        "id": "_W1wzybLKgzD"
      },
      "source": [
        "def scst_objective_on_batch(input_sequence, max_len=MAX_OUTPUT_LENGTH, device=device):\n",
        "    \"\"\" Compute pseudo-loss for policy gradient given a batch of sources \"\"\"\n",
        "    input_sequence = torch.tensor(inp_voc.to_matrix(input_sequence), dtype=torch.int64).to(device)\n",
        "\n",
        "    # use model to __sample__ symbolic translations given input_sequence\n",
        "    sample_translations, sample_logp = model.translate(input_sequence, greedy=False, max_len=max_len) # YOUR CODE\n",
        "    # use model to __greedy__ symbolic translations given input_sequence\n",
        "    greedy_translations, greedy_logp = model.translate(input_sequence, greedy=True, max_len=max_len) # YOUR CODE\n",
        "\n",
        "    # compute rewards and advantage\n",
        "    # be careful with the device, rewards require casting to numpy, so send everything to cpu\n",
        "    rewards = compute_reward(input_sequence.cpu(), sample_translations.cpu())\n",
        "    baseline = compute_reward(input_sequence.cpu(), greedy_translations.cpu()) # <compute __negative__ levenshtein for greedy mode >\n",
        "\n",
        "    # compute advantage using rewards and baseline\n",
        "    # be careful with the device, advantage is used to compute gradients, so send it to device\n",
        "    advantage = (rewards - baseline).float().to(device)  # YOUR CODE\n",
        "\n",
        "    # compute log_pi(a_t|s_t), shape = [batch, seq_length]\n",
        "    logp_sample = torch.sum(to_one_hot(sample_translations, n_dims=len(out_voc)) * sample_logp, dim=-1)\n",
        "        # YOUR CODE\n",
        "    \n",
        "    # ^-- hint: look at how crossentropy is implemented in supervised learning loss above\n",
        "    # mind the sign - this one should not be multiplied by -1 :)\n",
        "\n",
        "    # policy gradient pseudo-loss. Gradient of J is exactly policy gradient.\n",
        "    J = logp_sample * advantage[:, None]\n",
        "\n",
        "    assert J.dim() == 2, \"please return elementwise objective, don't compute mean just yet\"\n",
        "\n",
        "    # average with mask\n",
        "    mask = infer_mask(sample_translations, out_voc.eos_ix)\n",
        "    loss = - torch.sum(J * mask) / torch.sum(mask)\n",
        "\n",
        "    # regularize with negative entropy. Don't forget the sign!\n",
        "    # note: for entropy you need probabilities for all tokens (sample_logp), not just logp_sample\n",
        "    entropy = -torch.sum(torch.exp(sample_logp) * sample_logp, dim=-1)\n",
        "    # <compute entropy matrix of shape[batch, seq_length], H = -sum(p*log_p), don't forget the sign!>\n",
        "    # hint: you can get sample probabilities from sample_logp using math :)\n",
        "\n",
        "    assert entropy.dim(\n",
        "    ) == 2, \"please make sure elementwise entropy is of shape [batch,time]\"\n",
        "\n",
        "    reg = - 0.01 * torch.sum(entropy * mask) / torch.sum(mask)\n",
        "\n",
        "    return loss + reg, torch.sum(entropy * mask) / torch.sum(mask)"
      ],
      "execution_count": 39,
      "outputs": []
    },
    {
      "cell_type": "markdown",
      "metadata": {
        "id": "ga5eOkStKgzD"
      },
      "source": [
        "### Policy gradient training\n"
      ]
    },
    {
      "cell_type": "code",
      "metadata": {
        "id": "AObVWGd9KgzD"
      },
      "source": [
        "entropy_history = [np.nan] * len(loss_history)\n",
        "opt = torch.optim.Adam(model.parameters(), lr=1e-5)"
      ],
      "execution_count": 40,
      "outputs": []
    },
    {
      "cell_type": "code",
      "metadata": {
        "id": "HF-OcMXEKgzD",
        "colab": {
          "base_uri": "https://localhost:8080/",
          "height": 775
        },
        "outputId": "5355a149-e3dc-45d9-dcb2-dcbac5072a6d"
      },
      "source": [
        "for i in trange(100000):\n",
        "    loss, ent = scst_objective_on_batch(\n",
        "        sample_batch(train_words, word_to_translation, 32)[0])  # [0] = only source sentence\n",
        "\n",
        "    # train with backprop\n",
        "    loss.backward()\n",
        "    opt.step()\n",
        "    opt.zero_grad()\n",
        "\n",
        "    loss_history.append(loss.item())\n",
        "    entropy_history.append(ent.item())\n",
        "\n",
        "    if (i+1) % REPORT_FREQ == 0:\n",
        "        clear_output(True)\n",
        "        current_scores = score(test_words)\n",
        "        editdist_history.append(current_scores.mean())\n",
        "        plt.figure(figsize=(12, 4))\n",
        "        plt.subplot(131)\n",
        "        plt.title('val score distribution')\n",
        "        plt.hist(current_scores, bins=20)\n",
        "        plt.subplot(132)\n",
        "        plt.title('val score / traning time')\n",
        "        plt.plot(editdist_history)\n",
        "        plt.grid()\n",
        "        plt.subplot(133)\n",
        "        plt.title('policy entropy / traning time')\n",
        "        plt.plot(entropy_history)\n",
        "        plt.grid()\n",
        "        plt.show()\n",
        "        print(\"J=%.3f, mean score=%.3f\" %\n",
        "              (np.mean(loss_history[-10:]), np.mean(editdist_history[-10:])))"
      ],
      "execution_count": 41,
      "outputs": [
        {
          "output_type": "display_data",
          "data": {
            "image/png": "[encoded data removed]",
            "text/plain": [
              "<Figure size 864x288 with 3 Axes>"
            ]
          },
          "metadata": {
            "tags": [],
            "needs_background": "light"
          }
        },
        {
          "output_type": "stream",
          "text": [
            " 42%|████▏     | 42304/100000 [23:04<48:22, 19.88it/s]"
          ],
          "name": "stderr"
        },
        {
          "output_type": "stream",
          "text": [
            "J=-0.648, mean score=6.107\n"
          ],
          "name": "stdout"
        },
        {
          "output_type": "stream",
          "text": [
            " 42%|████▏     | 42340/100000 [23:05<29:43, 32.33it/s]"
          ],
          "name": "stderr"
        },
        {
          "output_type": "error",
          "ename": "KeyboardInterrupt",
          "evalue": "ignored",
          "traceback": [
            "\u001b[0;31m---------------------------------------------------------------------------\u001b[0m",
            "\u001b[0;31mKeyboardInterrupt\u001b[0m                         Traceback (most recent call last)",
            "\u001b[0;32m<ipython-input-41-06a9d82c8bc5>\u001b[0m in \u001b[0;36m<module>\u001b[0;34m()\u001b[0m\n\u001b[1;32m      1\u001b[0m \u001b[0;32mfor\u001b[0m \u001b[0mi\u001b[0m \u001b[0;32min\u001b[0m \u001b[0mtrange\u001b[0m\u001b[0;34m(\u001b[0m\u001b[0;36m100000\u001b[0m\u001b[0;34m)\u001b[0m\u001b[0;34m:\u001b[0m\u001b[0;34m\u001b[0m\u001b[0;34m\u001b[0m\u001b[0m\n\u001b[1;32m      2\u001b[0m     loss, ent = scst_objective_on_batch(\n\u001b[0;32m----> 3\u001b[0;31m         sample_batch(train_words, word_to_translation, 32)[0])  # [0] = only source sentence\n\u001b[0m\u001b[1;32m      4\u001b[0m \u001b[0;34m\u001b[0m\u001b[0m\n\u001b[1;32m      5\u001b[0m     \u001b[0;31m# train with backprop\u001b[0m\u001b[0;34m\u001b[0m\u001b[0;34m\u001b[0m\u001b[0;34m\u001b[0m\u001b[0m\n",
            "\u001b[0;32m<ipython-input-24-88ac3812da78>\u001b[0m in \u001b[0;36msample_batch\u001b[0;34m(words, word_to_translation, batch_size)\u001b[0m\n\u001b[1;32m      9\u001b[0m     \"\"\"\n\u001b[1;32m     10\u001b[0m     \u001b[0;31m# choose words\u001b[0m\u001b[0;34m\u001b[0m\u001b[0;34m\u001b[0m\u001b[0;34m\u001b[0m\u001b[0m\n\u001b[0;32m---> 11\u001b[0;31m     \u001b[0mbatch_words\u001b[0m \u001b[0;34m=\u001b[0m \u001b[0mnp\u001b[0m\u001b[0;34m.\u001b[0m\u001b[0mrandom\u001b[0m\u001b[0;34m.\u001b[0m\u001b[0mchoice\u001b[0m\u001b[0;34m(\u001b[0m\u001b[0mwords\u001b[0m\u001b[0;34m,\u001b[0m \u001b[0msize\u001b[0m\u001b[0;34m=\u001b[0m\u001b[0mbatch_size\u001b[0m\u001b[0;34m)\u001b[0m\u001b[0;34m\u001b[0m\u001b[0;34m\u001b[0m\u001b[0m\n\u001b[0m\u001b[1;32m     12\u001b[0m \u001b[0;34m\u001b[0m\u001b[0m\n\u001b[1;32m     13\u001b[0m     \u001b[0;31m# choose translations\u001b[0m\u001b[0;34m\u001b[0m\u001b[0;34m\u001b[0m\u001b[0;34m\u001b[0m\u001b[0m\n",
            "\u001b[0;32mmtrand.pyx\u001b[0m in \u001b[0;36mnumpy.random.mtrand.RandomState.choice\u001b[0;34m()\u001b[0m\n",
            "\u001b[0;32m<__array_function__ internals>\u001b[0m in \u001b[0;36mprod\u001b[0;34m(*args, **kwargs)\u001b[0m\n",
            "\u001b[0;32m/usr/local/lib/python3.6/dist-packages/numpy/core/fromnumeric.py\u001b[0m in \u001b[0;36mprod\u001b[0;34m(a, axis, dtype, out, keepdims, initial, where)\u001b[0m\n\u001b[1;32m   2960\u001b[0m     \"\"\"\n\u001b[1;32m   2961\u001b[0m     return _wrapreduction(a, np.multiply, 'prod', axis, dtype, out,\n\u001b[0;32m-> 2962\u001b[0;31m                           keepdims=keepdims, initial=initial, where=where)\n\u001b[0m\u001b[1;32m   2963\u001b[0m \u001b[0;34m\u001b[0m\u001b[0m\n\u001b[1;32m   2964\u001b[0m \u001b[0;34m\u001b[0m\u001b[0m\n",
            "\u001b[0;32m/usr/local/lib/python3.6/dist-packages/numpy/core/fromnumeric.py\u001b[0m in \u001b[0;36m_wrapreduction\u001b[0;34m(obj, ufunc, method, axis, dtype, out, **kwargs)\u001b[0m\n\u001b[1;32m     88\u001b[0m                 \u001b[0;32mreturn\u001b[0m \u001b[0mreduction\u001b[0m\u001b[0;34m(\u001b[0m\u001b[0maxis\u001b[0m\u001b[0;34m=\u001b[0m\u001b[0maxis\u001b[0m\u001b[0;34m,\u001b[0m \u001b[0mout\u001b[0m\u001b[0;34m=\u001b[0m\u001b[0mout\u001b[0m\u001b[0;34m,\u001b[0m \u001b[0;34m**\u001b[0m\u001b[0mpasskwargs\u001b[0m\u001b[0;34m)\u001b[0m\u001b[0;34m\u001b[0m\u001b[0;34m\u001b[0m\u001b[0m\n\u001b[1;32m     89\u001b[0m \u001b[0;34m\u001b[0m\u001b[0m\n\u001b[0;32m---> 90\u001b[0;31m     \u001b[0;32mreturn\u001b[0m \u001b[0mufunc\u001b[0m\u001b[0;34m.\u001b[0m\u001b[0mreduce\u001b[0m\u001b[0;34m(\u001b[0m\u001b[0mobj\u001b[0m\u001b[0;34m,\u001b[0m \u001b[0maxis\u001b[0m\u001b[0;34m,\u001b[0m \u001b[0mdtype\u001b[0m\u001b[0;34m,\u001b[0m \u001b[0mout\u001b[0m\u001b[0;34m,\u001b[0m \u001b[0;34m**\u001b[0m\u001b[0mpasskwargs\u001b[0m\u001b[0;34m)\u001b[0m\u001b[0;34m\u001b[0m\u001b[0;34m\u001b[0m\u001b[0m\n\u001b[0m\u001b[1;32m     91\u001b[0m \u001b[0;34m\u001b[0m\u001b[0m\n\u001b[1;32m     92\u001b[0m \u001b[0;34m\u001b[0m\u001b[0m\n",
            "\u001b[0;31mKeyboardInterrupt\u001b[0m: "
          ]
        }
      ]
    },
    {
      "cell_type": "markdown",
      "metadata": {
        "id": "cgm5E5HTKgzD"
      },
      "source": [
        "__Debugging tips:__\n",
        "![img](https://github.com/yandexdataschool/Practical_RL/raw/master/yet_another_week/_resource/do_something_scst.png)\n",
        "\n",
        " * As usual, don't expect improvements right away, but in general the model should be able to show some positive changes by 5k steps.\n",
        " * Entropy is a good indicator of many problems. \n",
        "   * If it reaches zero, you may need greater entropy regularizer.\n",
        "   * If it has rapid changes time to time, you may need gradient clipping.\n",
        "   * If it oscillates up and down in an erratic manner... it's perfectly okay for entropy to do so. But it should decrease at the end.\n",
        "   \n",
        " * We don't show loss_history cuz it's uninformative for pseudo-losses in policy gradient. However, if something goes wrong you can check it to see if everything isn't a constant zero."
      ]
    },
    {
      "cell_type": "markdown",
      "metadata": {
        "id": "VDatcje4KgzD"
      },
      "source": [
        "### Results"
      ]
    },
    {
      "cell_type": "code",
      "metadata": {
        "id": "fNushQ3AKgzD",
        "colab": {
          "base_uri": "https://localhost:8080/"
        },
        "outputId": "7f5ff81a-4b36-418c-8030-dfec0ae44e76"
      },
      "source": [
        "for word in train_words[:10]:\n",
        "    print(\"%s -> %s\" % (word, translate([word])[0]))"
      ],
      "execution_count": 42,
      "outputs": [
        {
          "output_type": "stream",
          "text": [
            "כל אנשי סמיילי -> san mili\n",
            "קטגוריה:ערוץ 2 -> at 2\n",
            "עבודה מהבית -> abad mat\n",
            "פראליה -> pralia\n",
            "קפלר 42 -> caper 24\n",
            "קטגוריה:מתאסלמים -> matalsma\n",
            "בושמי -> boshmi\n",
            "לאונרדו -> leonardo\n",
            "שאמה -> shama\n",
            "עכברה -> abara\n"
          ],
          "name": "stdout"
        }
      ]
    },
    {
      "cell_type": "code",
      "metadata": {
        "id": "1992uPaQKgzD",
        "colab": {
          "base_uri": "https://localhost:8080/"
        },
        "outputId": "7a47ebfc-f99d-4c2f-f5b4-74665b692ce5"
      },
      "source": [
        "test_scores = []\n",
        "for start_i in trange(0, len(test_words), 32):\n",
        "    batch_words = test_words[start_i:start_i+32]\n",
        "    batch_trans = translate(batch_words)\n",
        "    distances = list(map(get_distance, batch_words, batch_trans))\n",
        "    test_scores.extend(distances)\n",
        "print(\"Supervised test score:\", np.mean(test_scores))\n",
        "\n",
        "# ^^ If you get Out Of MemoryError, please replace this with batched computation"
      ],
      "execution_count": 43,
      "outputs": [
        {
          "output_type": "stream",
          "text": [
            "\n",
            "  0%|          | 0/407 [00:00<?, ?it/s]\u001b[A\n",
            "  3%|▎         | 14/407 [00:00<00:02, 133.79it/s]\u001b[A\n",
            "  7%|▋         | 28/407 [00:00<00:02, 135.42it/s]\u001b[A\n",
            " 10%|█         | 42/407 [00:00<00:02, 134.85it/s]\u001b[A\n",
            " 14%|█▍        | 56/407 [00:00<00:02, 134.18it/s]\u001b[A\n",
            " 17%|█▋        | 70/407 [00:00<00:02, 134.38it/s]\u001b[A\n",
            " 21%|██        | 84/407 [00:00<00:02, 135.42it/s]\u001b[A\n",
            " 24%|██▍       | 97/407 [00:00<00:02, 133.69it/s]\u001b[A\n",
            " 27%|██▋       | 111/407 [00:00<00:02, 133.02it/s]\u001b[A\n",
            " 30%|███       | 124/407 [00:00<00:02, 130.84it/s]\u001b[A\n",
            " 34%|███▎      | 137/407 [00:01<00:02, 127.15it/s]\u001b[A\n",
            " 37%|███▋      | 150/407 [00:01<00:02, 123.60it/s]\u001b[A\n",
            " 40%|████      | 163/407 [00:01<00:01, 125.07it/s]\u001b[A\n",
            " 43%|████▎     | 177/407 [00:01<00:01, 129.11it/s]\u001b[A\n",
            " 47%|████▋     | 191/407 [00:01<00:01, 131.24it/s]\u001b[A\n",
            " 51%|█████     | 206/407 [00:01<00:01, 134.00it/s]\u001b[A\n",
            " 54%|█████▍    | 220/407 [00:01<00:01, 135.20it/s]\u001b[A\n",
            " 57%|█████▋    | 234/407 [00:01<00:01, 135.07it/s]\u001b[A\n",
            " 61%|██████    | 248/407 [00:01<00:01, 134.90it/s]\u001b[A\n",
            " 64%|██████▍   | 262/407 [00:01<00:01, 133.92it/s]\u001b[A\n",
            " 68%|██████▊   | 276/407 [00:02<00:00, 132.36it/s]\u001b[A\n",
            " 71%|███████▏  | 290/407 [00:02<00:00, 132.67it/s]\u001b[A\n",
            " 75%|███████▍  | 304/407 [00:02<00:00, 134.71it/s]\u001b[A\n",
            " 78%|███████▊  | 318/407 [00:02<00:00, 134.94it/s]\u001b[A\n",
            " 82%|████████▏ | 332/407 [00:02<00:00, 134.38it/s]\u001b[A\n",
            " 85%|████████▌ | 346/407 [00:02<00:00, 135.22it/s]\u001b[A\n",
            " 89%|████████▊ | 361/407 [00:02<00:00, 137.65it/s]\u001b[A\n",
            " 92%|█████████▏| 375/407 [00:02<00:00, 134.53it/s]\u001b[A\n",
            " 96%|█████████▌| 389/407 [00:02<00:00, 133.38it/s]\u001b[A\n",
            "100%|██████████| 407/407 [00:03<00:00, 132.78it/s]"
          ],
          "name": "stderr"
        },
        {
          "output_type": "stream",
          "text": [
            "Supervised test score: 6.181985859206886\n"
          ],
          "name": "stdout"
        },
        {
          "output_type": "stream",
          "text": [
            "\n"
          ],
          "name": "stderr"
        }
      ]
    },
    {
      "cell_type": "markdown",
      "metadata": {
        "id": "NwRv56ctKgzD"
      },
      "source": [
        "### Bonus area: Make it actually work\n",
        "\n",
        "In this section we want you to finally __restart with EASY_MODE=False__ and experiment to find a good model/curriculum for that task.\n",
        "\n",
        "We recommend you to start with the following architecture\n",
        "\n",
        "```\n",
        "encoder---decoder\n",
        "\n",
        "           P(y|h)\n",
        "             ^\n",
        " LSTM  ->   LSTM\n",
        "  ^          ^\n",
        " biLSTM  ->   LSTM\n",
        "  ^          ^\n",
        "input       y_prev\n",
        "```\n",
        "\n",
        "__Note:__ you can fit all 4 state tensors of both LSTMs into a in a single state - just assume that it contains, for example, [h0, c0, h1, c1] - pack it in encode and update in decode.\n",
        "\n",
        "\n",
        "Here are some cool ideas on what you can do then.\n",
        "\n",
        "__General tips & tricks:__\n",
        "* You will likely need to adjust pre-training time for such a network.\n",
        "* Supervised pre-training may benefit from clipping gradients somehow.\n",
        "* SCST may indulge a higher learning rate in some cases and changing entropy regularizer over time.\n",
        "* It's often useful to save pre-trained model parameters to not re-train it every time you want new policy gradient parameters. \n",
        "* When leaving training for nighttime, try setting REPORT_FREQ to a larger value (e.g. 500) not to waste time on it.\n",
        "\n",
        "__Formal criteria:__\n",
        "Build an architecture that:\n",
        "* _doesn't consist of single GRU_\n",
        "* _works better_ than single GRU baseline. \n",
        "* We also want you to provide either learning curve or trained model, preferably both\n",
        "* ... and write a brief report or experiment log describing what you did and how it fared.\n",
        "\n",
        "### Attention\n",
        "There's more than one way to connect decoder to encoder\n",
        "  * __Vanilla:__ layer_i of encoder last state goes to layer_i of decoder initial state\n",
        "  * __Every tick:__ feed encoder last state _on every iteration_ of decoder.\n",
        "  * __Attention:__ allow decoder to \"peek\" at one (or several) positions of encoded sequence on every tick.\n",
        "  \n",
        "The most effective (and cool) of those is, of course, attention.\n",
        "You can read more about attention [in this nice blog post](https://distill.pub/2016/augmented-rnns/). The easiest way to begin is to use \"soft\" attention with \"additive\" or \"dot-product\" intermediate layers.\n",
        "\n",
        "__Tips__\n",
        "* Model usually generalizes better if you no longer allow decoder to see final encoder state\n",
        "* Once your model made it through several epochs, it is a good idea to visualize attention maps to understand what your model has actually learned\n",
        "\n",
        "* There's more stuff [here](https://github.com/yandexdataschool/Practical_RL/blob/master/week8_scst/bonus.ipynb)\n",
        "* If you opted for hard attention, we recommend [gumbel-softmax](https://blog.evjang.com/2016/11/tutorial-categorical-variational.html) instead of sampling. Also please make sure soft attention works fine before you switch to hard.\n",
        "\n",
        "### UREX\n",
        "* This is a way to improve exploration in policy-based settings. The main idea is that you find and upweight under-appreciated actions.\n",
        "* Here's [video](https://www.youtube.com/watch?v=fZNyHoXgV7M&feature=youtu.be&t=3444)\n",
        " and an [article](https://arxiv.org/abs/1611.09321).\n",
        "* You may want to reduce batch size 'cuz UREX requires you to sample multiple times per source sentence.\n",
        "* Once you got it working, try using experience replay with importance sampling instead of (in addition to) basic UREX.\n",
        "\n",
        "### Some additional ideas:\n",
        "* (advanced deep learning) It may be a good idea to first train on small phrases and then adapt to larger ones (a.k.a. training curriculum).\n",
        "* (advanced nlp) You may want to switch from raw utf8 to something like unicode or even syllables to make task easier.\n",
        "* (advanced nlp) Since hebrew words are written __with vowels omitted__, you may want to use a small Hebrew vowel markup dataset at `he-pron-wiktionary.txt`.\n",
        "\n"
      ]
    },
    {
      "cell_type": "code",
      "metadata": {
        "id": "up4agwIyKgzD"
      },
      "source": [
        "assert not EASY_MODE, \"make sure you set EASY_MODE = False at the top of the notebook.\""
      ],
      "execution_count": null,
      "outputs": []
    },
    {
      "cell_type": "markdown",
      "metadata": {
        "id": "wo6IQQRmKgzD"
      },
      "source": [
        "`[your report/log here or anywhere you please]`"
      ]
    },
    {
      "cell_type": "markdown",
      "metadata": {
        "id": "y9GZX1FEKgzD"
      },
      "source": [
        "__Contributions:__ This notebook is brought to you by\n",
        "* Yandex [MT team](https://tech.yandex.com/translate/)\n",
        "* Denis Mazur ([DeniskaMazur](https://github.com/DeniskaMazur)), Oleg Vasilev ([Omrigan](https://github.com/Omrigan/)), Dmitry Emelyanenko ([TixFeniks](https://github.com/tixfeniks)) and Fedor Ratnikov ([justheuristic](https://github.com/justheuristic/))\n",
        "* Dataset is parsed from [Wiktionary](https://en.wiktionary.org), which is under CC-BY-SA and GFDL licenses.\n"
      ]
    }
  ]
}