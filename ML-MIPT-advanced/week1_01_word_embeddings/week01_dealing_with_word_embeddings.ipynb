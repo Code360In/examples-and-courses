{
  "nbformat": 4,
  "nbformat_minor": 0,
  "metadata": {
    "colab": {
      "name": "week01_dealing_with_word_embeddings.ipynb",
      "provenance": [],
      "collapsed_sections": []
    },
    "kernelspec": {
      "display_name": "Python 3",
      "language": "python",
      "name": "python3"
    },
    "language_info": {
      "codemirror_mode": {
        "name": "ipython",
        "version": 3
      },
      "file_extension": ".py",
      "mimetype": "text/x-python",
      "name": "python",
      "nbconvert_exporter": "python",
      "pygments_lexer": "ipython3",
      "version": "3.7.5"
    }
  },
  "cells": [
    {
      "cell_type": "markdown",
      "metadata": {
        "colab_type": "text",
        "id": "ywi-4wqApllv"
      },
      "source": [
        "## Seminar 01: Dealing with Word Embeddings\n",
        "\n",
        "Today we gonna play with word embeddings: train our own little embedding, load one from   gensim model zoo and use it to visualize text corpora.\n",
        "\n",
        "This whole thing is gonna happen on top of embedding dataset.\n",
        "\n",
        "__Requirements:__ if you're running locally, in the selected environment run the following command:\n",
        "\n",
        "```pip install --upgrade nltk gensim bokeh umap-learn```\n"
      ]
    },
    {
      "cell_type": "code",
      "metadata": {
        "colab_type": "code",
        "id": "hN408hURpllx",
        "colab": {}
      },
      "source": [
        "import itertools\n",
        "import string\n",
        "\n",
        "import numpy as np\n",
        "import umap\n",
        "from nltk.tokenize import WordPunctTokenizer\n",
        "\n",
        "from matplotlib import pyplot as plt\n",
        "\n",
        "from IPython.display import clear_output"
      ],
      "execution_count": 3,
      "outputs": []
    },
    {
      "cell_type": "code",
      "metadata": {
        "colab_type": "code",
        "id": "JSDbZg1epll5",
        "colab": {
          "base_uri": "https://localhost:8080/",
          "height": 377
        },
        "outputId": "bd597dea-cf4b-4bd8-b8fe-5b1e3a413a7a"
      },
      "source": [
        "# download the data:\n",
        "!wget https://www.dropbox.com/s/obaitrix9jyu84r/quora.txt?dl=1 -O ./quora.txt -nc\n",
        "# alternative download link: https://yadi.sk/i/BPQrUu1NaTduEw"
      ],
      "execution_count": 4,
      "outputs": [
        {
          "output_type": "stream",
          "text": [
            "--2020-09-10 16:10:07--  https://www.dropbox.com/s/obaitrix9jyu84r/quora.txt?dl=1\n",
            "Resolving www.dropbox.com (www.dropbox.com)... 162.125.5.1, 2620:100:601d:1::a27d:501\n",
            "Connecting to www.dropbox.com (www.dropbox.com)|162.125.5.1|:443... connected.\n",
            "HTTP request sent, awaiting response... 301 Moved Permanently\n",
            "Location: /s/dl/obaitrix9jyu84r/quora.txt [following]\n",
            "--2020-09-10 16:10:07--  https://www.dropbox.com/s/dl/obaitrix9jyu84r/quora.txt\n",
            "Reusing existing connection to www.dropbox.com:443.\n",
            "HTTP request sent, awaiting response... 302 Found\n",
            "Location: https://uc23434d79703e9b1174aa68bd9d.dl.dropboxusercontent.com/cd/0/get/A_LPEZuwrH8-bGQhbXHKkIMDMpfBWwmOE7qtoxTJ961pGuIWjzZDY3SwjFVBfrDLVtDU99ILQnHjsyVlqvokjNxcKl5pfwcm3xjCyRMe7FpEuQ/file?dl=1# [following]\n",
            "--2020-09-10 16:10:08--  https://uc23434d79703e9b1174aa68bd9d.dl.dropboxusercontent.com/cd/0/get/A_LPEZuwrH8-bGQhbXHKkIMDMpfBWwmOE7qtoxTJ961pGuIWjzZDY3SwjFVBfrDLVtDU99ILQnHjsyVlqvokjNxcKl5pfwcm3xjCyRMe7FpEuQ/file?dl=1\n",
            "Resolving uc23434d79703e9b1174aa68bd9d.dl.dropboxusercontent.com (uc23434d79703e9b1174aa68bd9d.dl.dropboxusercontent.com)... 162.125.5.15, 2620:100:601d:15::a27d:50f\n",
            "Connecting to uc23434d79703e9b1174aa68bd9d.dl.dropboxusercontent.com (uc23434d79703e9b1174aa68bd9d.dl.dropboxusercontent.com)|162.125.5.15|:443... connected.\n",
            "HTTP request sent, awaiting response... 200 OK\n",
            "Length: 33813903 (32M) [application/binary]\n",
            "Saving to: ‘./quora.txt’\n",
            "\n",
            "./quora.txt         100%[===================>]  32.25M  59.0MB/s    in 0.5s    \n",
            "\n",
            "2020-09-10 16:10:09 (59.0 MB/s) - ‘./quora.txt’ saved [33813903/33813903]\n",
            "\n"
          ],
          "name": "stdout"
        }
      ]
    },
    {
      "cell_type": "code",
      "metadata": {
        "colab_type": "code",
        "id": "tqFHFDktplmA",
        "colab": {
          "base_uri": "https://localhost:8080/",
          "height": 35
        },
        "outputId": "d40318de-ad71-4c20-b586-a9f1102b450f"
      },
      "source": [
        "data = list(open(\"./quora.txt\", encoding=\"utf-8\"))\n",
        "data[50]"
      ],
      "execution_count": 5,
      "outputs": [
        {
          "output_type": "execute_result",
          "data": {
            "application/vnd.google.colaboratory.intrinsic+json": {
              "type": "string"
            },
            "text/plain": [
              "\"What TV shows or books help you read people's body language?\\n\""
            ]
          },
          "metadata": {
            "tags": []
          },
          "execution_count": 5
        }
      ]
    },
    {
      "cell_type": "markdown",
      "metadata": {
        "colab_type": "text",
        "id": "189nQXszplmG"
      },
      "source": [
        "__Tokenization:__ a typical first step for an nlp task is to split raw data into words.\n",
        "The text we're working with is in raw format: with all the punctuation and smiles attached to some words, so a simple str.split won't do.\n",
        "\n",
        "Let's use __`nltk`__ - a library that handles many nlp tasks like tokenization, stemming or part-of-speech tagging."
      ]
    },
    {
      "cell_type": "code",
      "metadata": {
        "colab_type": "code",
        "id": "gBNsu9wDplmH",
        "colab": {
          "base_uri": "https://localhost:8080/",
          "height": 34
        },
        "outputId": "31c9faa4-b188-4a42-d7c4-ae641f525a6d"
      },
      "source": [
        "tokenizer = WordPunctTokenizer()\n",
        "\n",
        "print(tokenizer.tokenize(data[50]))"
      ],
      "execution_count": 6,
      "outputs": [
        {
          "output_type": "stream",
          "text": [
            "['What', 'TV', 'shows', 'or', 'books', 'help', 'you', 'read', 'people', \"'\", 's', 'body', 'language', '?']\n"
          ],
          "name": "stdout"
        }
      ]
    },
    {
      "cell_type": "code",
      "metadata": {
        "colab_type": "code",
        "id": "CHK2dSCTplmO",
        "colab": {}
      },
      "source": [
        "# TASK: lowercase everything and extract tokens with tokenizer. \n",
        "# data_tok should be a list of lists of tokens for each line in data.\n",
        "\n",
        "data_tok = [tokenizer.tokenize(x.lower()) for x in data]"
      ],
      "execution_count": 7,
      "outputs": []
    },
    {
      "cell_type": "markdown",
      "metadata": {
        "colab_type": "text",
        "id": "RtZvgES5plmU"
      },
      "source": [
        "Let's peek at the result:"
      ]
    },
    {
      "cell_type": "code",
      "metadata": {
        "colab_type": "code",
        "id": "nwCoX4OhplmU",
        "colab": {
          "base_uri": "https://localhost:8080/",
          "height": 35
        },
        "outputId": "8835caaf-95b6-4825-8390-f0b65207da87"
      },
      "source": [
        "' '.join(data_tok[0])"
      ],
      "execution_count": 8,
      "outputs": [
        {
          "output_type": "execute_result",
          "data": {
            "application/vnd.google.colaboratory.intrinsic+json": {
              "type": "string"
            },
            "text/plain": [
              "\"can i get back with my ex even though she is pregnant with another guy ' s baby ?\""
            ]
          },
          "metadata": {
            "tags": []
          },
          "execution_count": 8
        }
      ]
    },
    {
      "cell_type": "markdown",
      "metadata": {
        "colab_type": "text",
        "id": "f8hzIFsxplma"
      },
      "source": [
        "Small check that everything is alright"
      ]
    },
    {
      "cell_type": "code",
      "metadata": {
        "colab_type": "code",
        "id": "ssuUDyUSplmc",
        "colab": {}
      },
      "source": [
        "assert all(isinstance(row, (list, tuple)) for row in data_tok), \"please convert each line into a list of tokens (strings)\"\n",
        "assert all(all(isinstance(tok, str) for tok in row) for row in data_tok), \"please convert each line into a list of tokens (strings)\"\n",
        "is_latin = lambda tok: all('a' <= x.lower() <= 'z' for x in tok)\n",
        "assert all(map(lambda l: not is_latin(l) or l.islower(), map(' '.join, data_tok))), \"please make sure to lowercase the data\""
      ],
      "execution_count": 9,
      "outputs": []
    },
    {
      "cell_type": "markdown",
      "metadata": {
        "colab_type": "text",
        "id": "UjcQlRtkplmm"
      },
      "source": [
        "__Word vectors:__ as the saying goes, there's more than one way to train word embeddings. There's Word2Vec and GloVe with different objective functions. Then there's fasttext that uses character-level models to train word embeddings. \n",
        "\n",
        "The choice is huge, so let's start someplace small: __gensim__ is another NLP library that features many vector-based models incuding word2vec."
      ]
    },
    {
      "cell_type": "code",
      "metadata": {
        "colab_type": "code",
        "id": "syh6bz_Pplmm",
        "colab": {}
      },
      "source": [
        "from gensim.models import Word2Vec\n",
        "\n",
        "\n",
        "model = Word2Vec(data_tok, \n",
        "                 size=32,      # embedding vector size\n",
        "                 min_count=5,  # consider words that occured at least 5 times\n",
        "                 window=5).wv  # define context as a 5-word window around the target word"
      ],
      "execution_count": 10,
      "outputs": []
    },
    {
      "cell_type": "code",
      "metadata": {
        "colab_type": "code",
        "id": "zPn3rB0uplmr",
        "colab": {
          "base_uri": "https://localhost:8080/",
          "height": 170
        },
        "outputId": "60301926-e3c7-466c-b5b2-92273ef6e228"
      },
      "source": [
        "# now you can get word vectors !\n",
        "model.get_vector('anything')"
      ],
      "execution_count": 11,
      "outputs": [
        {
          "output_type": "execute_result",
          "data": {
            "text/plain": [
              "array([ 2.6229894e+00,  2.6857684e+00, -1.0651792e+00, -4.0507522e+00,\n",
              "       -9.7230184e-01,  6.7451090e-02,  2.6748369e+00, -1.5266796e+00,\n",
              "        2.3629479e+00, -3.4753469e-01, -3.4009838e+00,  2.4936080e+00,\n",
              "        1.9661429e+00, -1.1845291e+00,  2.8075876e-03,  1.9570255e+00,\n",
              "       -1.9359245e+00, -3.7280238e+00,  2.5864704e+00, -1.0390204e+00,\n",
              "        2.7727287e+00, -5.2846283e-02,  3.0720637e+00, -1.2081593e+00,\n",
              "        2.1191967e+00,  3.8404775e-01, -1.4649528e+00,  2.5952618e+00,\n",
              "       -6.7834508e-01,  1.0176107e+00,  3.7699109e-01, -3.8582018e-01],\n",
              "      dtype=float32)"
            ]
          },
          "metadata": {
            "tags": []
          },
          "execution_count": 11
        }
      ]
    },
    {
      "cell_type": "code",
      "metadata": {
        "colab_type": "code",
        "id": "LXERa4zLplmu",
        "colab": {
          "base_uri": "https://localhost:8080/",
          "height": 241
        },
        "outputId": "16bbe433-1479-4ad3-9657-b88d1316d442"
      },
      "source": [
        "# or query similar words directly. Go play with it!\n",
        "model.most_similar('fire')"
      ],
      "execution_count": 12,
      "outputs": [
        {
          "output_type": "stream",
          "text": [
            "/usr/local/lib/python3.6/dist-packages/gensim/matutils.py:737: FutureWarning: Conversion of the second argument of issubdtype from `int` to `np.signedinteger` is deprecated. In future, it will be treated as `np.int64 == np.dtype(int).type`.\n",
            "  if np.issubdtype(vec.dtype, np.int):\n"
          ],
          "name": "stderr"
        },
        {
          "output_type": "execute_result",
          "data": {
            "text/plain": [
              "[('ceiling', 0.7711032629013062),\n",
              " ('ice', 0.7699073553085327),\n",
              " ('glass', 0.7599433064460754),\n",
              " ('sink', 0.7383423447608948),\n",
              " ('arrow', 0.7288029789924622),\n",
              " ('sticks', 0.7256364226341248),\n",
              " ('tube', 0.7216198444366455),\n",
              " ('gorilla', 0.7161028385162354),\n",
              " ('steam', 0.7152435779571533),\n",
              " ('cast', 0.715008556842804)]"
            ]
          },
          "metadata": {
            "tags": []
          },
          "execution_count": 12
        }
      ]
    },
    {
      "cell_type": "markdown",
      "metadata": {
        "colab_type": "text",
        "id": "-p09mD72plmz"
      },
      "source": [
        "### Using pre-trained model\n",
        "\n",
        "Took it a while, huh? Now imagine training life-sized (100~300D) word embeddings on gigabytes of text: wikipedia articles or twitter posts. \n",
        "\n",
        "Thankfully, nowadays you can get a pre-trained word embedding model in 2 lines of code (no sms required, promise)."
      ]
    },
    {
      "cell_type": "code",
      "metadata": {
        "colab_type": "code",
        "id": "w8LWGMBHplm0",
        "colab": {
          "base_uri": "https://localhost:8080/",
          "height": 71
        },
        "outputId": "498c4249-126b-4d1e-e893-9426ad70b0cc"
      },
      "source": [
        "import gensim.downloader as api\n",
        "\n",
        "\n",
        "model = api.load('glove-twitter-25')"
      ],
      "execution_count": 13,
      "outputs": [
        {
          "output_type": "stream",
          "text": [
            "[================================================--] 97.2% 101.8/104.8MB downloaded"
          ],
          "name": "stdout"
        },
        {
          "output_type": "stream",
          "text": [
            "/usr/local/lib/python3.6/dist-packages/smart_open/smart_open_lib.py:254: UserWarning: This function is deprecated, use smart_open.open instead. See the migration notes for details: https://github.com/RaRe-Technologies/smart_open/blob/master/README.rst#migrating-to-the-new-open-function\n",
            "  'See the migration notes for details: %s' % _MIGRATION_NOTES_URL\n"
          ],
          "name": "stderr"
        }
      ]
    },
    {
      "cell_type": "code",
      "metadata": {
        "colab_type": "code",
        "id": "FZBME5dxplm5",
        "colab": {
          "base_uri": "https://localhost:8080/",
          "height": 241
        },
        "outputId": "5a4974f1-9c01-4a42-81ea-fbc7241cb789"
      },
      "source": [
        "model.most_similar(positive=[\"coder\", \"money\"], negative=[\"brain\"])"
      ],
      "execution_count": 14,
      "outputs": [
        {
          "output_type": "stream",
          "text": [
            "/usr/local/lib/python3.6/dist-packages/gensim/matutils.py:737: FutureWarning: Conversion of the second argument of issubdtype from `int` to `np.signedinteger` is deprecated. In future, it will be treated as `np.int64 == np.dtype(int).type`.\n",
            "  if np.issubdtype(vec.dtype, np.int):\n"
          ],
          "name": "stderr"
        },
        {
          "output_type": "execute_result",
          "data": {
            "text/plain": [
              "[('realtor', 0.8265186548233032),\n",
              " ('gfx', 0.8249695897102356),\n",
              " ('caterers', 0.798202395439148),\n",
              " ('beatmaker', 0.7936854362487793),\n",
              " ('recruiter', 0.7892400622367859),\n",
              " ('sfi', 0.784467339515686),\n",
              " ('sosh', 0.7840631604194641),\n",
              " ('promoter', 0.7838252186775208),\n",
              " ('smallbusiness', 0.7786215543746948),\n",
              " ('promoters', 0.7764680981636047)]"
            ]
          },
          "metadata": {
            "tags": []
          },
          "execution_count": 14
        }
      ]
    },
    {
      "cell_type": "markdown",
      "metadata": {
        "colab_type": "text",
        "id": "jmABiGh7plm-"
      },
      "source": [
        "### Visualizing word vectors\n",
        "\n",
        "One way to see if our vectors are any good is to plot them. Thing is, those vectors are in 30D+ space and we humans are more used to 2-3D.\n",
        "\n",
        "Luckily, we machine learners know about __dimensionality reduction__ methods.\n",
        "\n",
        "Let's use that to plot 1000 most frequent words"
      ]
    },
    {
      "cell_type": "code",
      "metadata": {
        "colab_type": "code",
        "id": "TOVkKgkzplm_",
        "colab": {
          "base_uri": "https://localhost:8080/",
          "height": 34
        },
        "outputId": "85db39bf-0fd2-4a75-e638-6ce510dfb2fe"
      },
      "source": [
        "words = sorted(model.vocab.keys(), \n",
        "               key=lambda word: model.vocab[word].count,\n",
        "               reverse=True)[:1000]\n",
        "\n",
        "print(words[::100])"
      ],
      "execution_count": 15,
      "outputs": [
        {
          "output_type": "stream",
          "text": [
            "['<user>', '_', 'please', 'apa', 'justin', 'text', 'hari', 'playing', 'once', 'sei']\n"
          ],
          "name": "stdout"
        }
      ]
    },
    {
      "cell_type": "code",
      "metadata": {
        "colab_type": "code",
        "id": "KobcaY6CplnE",
        "colab": {}
      },
      "source": [
        "# for each word, compute it's vector with model\n",
        "word_vectors = np.asanyarray([model[x] for x in words])"
      ],
      "execution_count": 16,
      "outputs": []
    },
    {
      "cell_type": "code",
      "metadata": {
        "colab_type": "code",
        "id": "LhYbwuI4plnK",
        "colab": {}
      },
      "source": [
        "assert isinstance(word_vectors, np.ndarray)\n",
        "assert word_vectors.shape == (len(words), 25)\n",
        "assert np.isfinite(word_vectors).all()"
      ],
      "execution_count": 17,
      "outputs": []
    },
    {
      "cell_type": "code",
      "metadata": {
        "colab_type": "code",
        "id": "ZdaHkLBBplnO",
        "colab": {
          "base_uri": "https://localhost:8080/",
          "height": 34
        },
        "outputId": "ffbc8829-79e2-4a11-b3cb-989923f28ebe"
      },
      "source": [
        "word_vectors.shape"
      ],
      "execution_count": 18,
      "outputs": [
        {
          "output_type": "execute_result",
          "data": {
            "text/plain": [
              "(1000, 25)"
            ]
          },
          "metadata": {
            "tags": []
          },
          "execution_count": 18
        }
      ]
    },
    {
      "cell_type": "markdown",
      "metadata": {
        "colab_type": "text",
        "id": "bBMe3XO5plnS"
      },
      "source": [
        "#### Linear projection: PCA\n",
        "\n",
        "The simplest linear dimensionality reduction method is __P__rincipial __C__omponent __A__nalysis.\n",
        "\n",
        "In geometric terms, PCA tries to find axes along which most of the variance occurs. The \"natural\" axes, if you wish.\n",
        "\n",
        "<img src=\"https://github.com/yandexdataschool/Practical_RL/raw/master/yet_another_week/_resource/pca_fish.png\" style=\"width:30%\">\n",
        "\n",
        "\n",
        "Under the hood, it attempts to decompose object-feature matrix $X$ into two smaller matrices: $W$ and $\\hat W$ minimizing _mean squared error_:\n",
        "\n",
        "$$\\|(X W) \\hat{W} - X\\|^2_2 \\to_{W, \\hat{W}} \\min$$\n",
        "- $X \\in \\mathbb{R}^{n \\times m}$ - object matrix (**centered**);\n",
        "- $W \\in \\mathbb{R}^{m \\times d}$ - matrix of direct transformation;\n",
        "- $\\hat{W} \\in \\mathbb{R}^{d \\times m}$ - matrix of reverse transformation;\n",
        "- $n$ samples, $m$ original dimensions and $d$ target dimensions;\n",
        "\n"
      ]
    },
    {
      "cell_type": "code",
      "metadata": {
        "colab_type": "code",
        "id": "ibbYcPUNplnT",
        "colab": {}
      },
      "source": [
        "from sklearn.decomposition import PCA\n",
        "from sklearn.preprocessing import StandardScaler\n",
        "\n",
        "\n",
        "pca = PCA(n_components=2)\n",
        "scaler = StandardScaler()\n",
        "# map word vectors onto 2d plane with PCA. Use good old sklearn api (fit, transform)\n",
        "# after that, normalize vectors to make sure they have zero mean and unit variance\n",
        "word_vectors_pca = pca.fit_transform(word_vectors)\n",
        "\n",
        "word_vectors_pca = scaler.fit_transform(word_vectors_pca)"
      ],
      "execution_count": 19,
      "outputs": []
    },
    {
      "cell_type": "code",
      "metadata": {
        "colab_type": "code",
        "id": "AVqteFySplnX",
        "colab": {}
      },
      "source": [
        "assert word_vectors_pca.shape == (len(word_vectors), 2), \"there must be a 2d vector for each word\"\n",
        "assert max(abs(word_vectors_pca.mean(0))) < 1e-5, \"points must be zero-centered\"\n",
        "assert max(abs(1.0 - word_vectors_pca.std(0))) < 1e-2, \"points must have unit variance\""
      ],
      "execution_count": 20,
      "outputs": []
    },
    {
      "cell_type": "markdown",
      "metadata": {
        "colab_type": "text",
        "id": "iUJJ1C1Nplnb"
      },
      "source": [
        "#### Let's draw it!"
      ]
    },
    {
      "cell_type": "code",
      "metadata": {
        "colab_type": "code",
        "id": "VTSrbQDTplnb",
        "colab": {}
      },
      "source": [
        "import bokeh.models as bm, bokeh.plotting as pl\n",
        "from bokeh.io import output_notebook\n",
        "output_notebook()\n",
        "\n",
        "\n",
        "def draw_vectors(x, y, radius=10, alpha=0.25, color='blue',\n",
        "                 width=600, height=400, show=True, **kwargs):\n",
        "    \"\"\" draws an interactive plot for data points with auxilirary info on hover \"\"\"\n",
        "    if isinstance(color, str): color = [color] * len(x)\n",
        "    data_source = bm.ColumnDataSource({ 'x' : x, 'y' : y, 'color': color, **kwargs })\n",
        "\n",
        "    fig = pl.figure(active_scroll='wheel_zoom', width=width, height=height)\n",
        "    fig.scatter('x', 'y', size=radius, color='color', alpha=alpha, source=data_source)\n",
        "\n",
        "    fig.add_tools(bm.HoverTool(tooltips=[(key, \"@\" + key) for key in kwargs.keys()]))\n",
        "    if show: pl.show(fig)\n",
        "    return fig"
      ],
      "execution_count": 21,
      "outputs": []
    },
    {
      "cell_type": "code",
      "metadata": {
        "colab_type": "code",
        "id": "JWz4llo-plnh",
        "colab": {
          "base_uri": "https://localhost:8080/",
          "height": 434
        },
        "outputId": "a2829976-a2b9-4157-bf3c-996cb5c3c5c0"
      },
      "source": [
        "draw_vectors(word_vectors_pca[:, 0], word_vectors_pca[:, 1], token=words)\n",
        "\n",
        "# hover a mouse over there and see if you can identify the clusters"
      ],
      "execution_count": 22,
      "outputs": [
        {
          "output_type": "display_data",
          "data": {
            "application/javascript": [
              "\n",
              "(function(root) {\n",
              "  function now() {\n",
              "    return new Date();\n",
              "  }\n",
              "\n",
              "  var force = true;\n",
              "\n",
              "  if (typeof root._bokeh_onload_callbacks === \"undefined\" || force === true) {\n",
              "    root._bokeh_onload_callbacks = [];\n",
              "    root._bokeh_is_loading = undefined;\n",
              "  }\n",
              "\n",
              "  var JS_MIME_TYPE = 'application/javascript';\n",
              "  var HTML_MIME_TYPE = 'text/html';\n",
              "  var EXEC_MIME_TYPE = 'application/vnd.bokehjs_exec.v0+json';\n",
              "  var CLASS_NAME = 'output_bokeh rendered_html';\n",
              "\n",
              "  /**\n",
              "   * Render data to the DOM node\n",
              "   */\n",
              "  function render(props, node) {\n",
              "    var script = document.createElement(\"script\");\n",
              "    node.appendChild(script);\n",
              "  }\n",
              "\n",
              "  /**\n",
              "   * Handle when an output is cleared or removed\n",
              "   */\n",
              "  function handleClearOutput(event, handle) {\n",
              "    var cell = handle.cell;\n",
              "\n",
              "    var id = cell.output_area._bokeh_element_id;\n",
              "    var server_id = cell.output_area._bokeh_server_id;\n",
              "    // Clean up Bokeh references\n",
              "    if (id != null && id in Bokeh.index) {\n",
              "      Bokeh.index[id].model.document.clear();\n",
              "      delete Bokeh.index[id];\n",
              "    }\n",
              "\n",
              "    if (server_id !== undefined) {\n",
              "      // Clean up Bokeh references\n",
              "      var cmd = \"from bokeh.io.state import curstate; print(curstate().uuid_to_server['\" + server_id + \"'].get_sessions()[0].document.roots[0]._id)\";\n",
              "      cell.notebook.kernel.execute(cmd, {\n",
              "        iopub: {\n",
              "          output: function(msg) {\n",
              "            var id = msg.content.text.trim();\n",
              "            if (id in Bokeh.index) {\n",
              "              Bokeh.index[id].model.document.clear();\n",
              "              delete Bokeh.index[id];\n",
              "            }\n",
              "          }\n",
              "        }\n",
              "      });\n",
              "      // Destroy server and session\n",
              "      var cmd = \"import bokeh.io.notebook as ion; ion.destroy_server('\" + server_id + \"')\";\n",
              "      cell.notebook.kernel.execute(cmd);\n",
              "    }\n",
              "  }\n",
              "\n",
              "  /**\n",
              "   * Handle when a new output is added\n",
              "   */\n",
              "  function handleAddOutput(event, handle) {\n",
              "    var output_area = handle.output_area;\n",
              "    var output = handle.output;\n",
              "\n",
              "    // limit handleAddOutput to display_data with EXEC_MIME_TYPE content only\n",
              "    if ((output.output_type != \"display_data\") || (!output.data.hasOwnProperty(EXEC_MIME_TYPE))) {\n",
              "      return\n",
              "    }\n",
              "\n",
              "    var toinsert = output_area.element.find(\".\" + CLASS_NAME.split(' ')[0]);\n",
              "\n",
              "    if (output.metadata[EXEC_MIME_TYPE][\"id\"] !== undefined) {\n",
              "      toinsert[toinsert.length - 1].firstChild.textContent = output.data[JS_MIME_TYPE];\n",
              "      // store reference to embed id on output_area\n",
              "      output_area._bokeh_element_id = output.metadata[EXEC_MIME_TYPE][\"id\"];\n",
              "    }\n",
              "    if (output.metadata[EXEC_MIME_TYPE][\"server_id\"] !== undefined) {\n",
              "      var bk_div = document.createElement(\"div\");\n",
              "      bk_div.innerHTML = output.data[HTML_MIME_TYPE];\n",
              "      var script_attrs = bk_div.children[0].attributes;\n",
              "      for (var i = 0; i < script_attrs.length; i++) {\n",
              "        toinsert[toinsert.length - 1].firstChild.setAttribute(script_attrs[i].name, script_attrs[i].value);\n",
              "        toinsert[toinsert.length - 1].firstChild.textContent = bk_div.children[0].textContent\n",
              "      }\n",
              "      // store reference to server id on output_area\n",
              "      output_area._bokeh_server_id = output.metadata[EXEC_MIME_TYPE][\"server_id\"];\n",
              "    }\n",
              "  }\n",
              "\n",
              "  function register_renderer(events, OutputArea) {\n",
              "\n",
              "    function append_mime(data, metadata, element) {\n",
              "      // create a DOM node to render to\n",
              "      var toinsert = this.create_output_subarea(\n",
              "        metadata,\n",
              "        CLASS_NAME,\n",
              "        EXEC_MIME_TYPE\n",
              "      );\n",
              "      this.keyboard_manager.register_events(toinsert);\n",
              "      // Render to node\n",
              "      var props = {data: data, metadata: metadata[EXEC_MIME_TYPE]};\n",
              "      render(props, toinsert[toinsert.length - 1]);\n",
              "      element.append(toinsert);\n",
              "      return toinsert\n",
              "    }\n",
              "\n",
              "    /* Handle when an output is cleared or removed */\n",
              "    events.on('clear_output.CodeCell', handleClearOutput);\n",
              "    events.on('delete.Cell', handleClearOutput);\n",
              "\n",
              "    /* Handle when a new output is added */\n",
              "    events.on('output_added.OutputArea', handleAddOutput);\n",
              "\n",
              "    /**\n",
              "     * Register the mime type and append_mime function with output_area\n",
              "     */\n",
              "    OutputArea.prototype.register_mime_type(EXEC_MIME_TYPE, append_mime, {\n",
              "      /* Is output safe? */\n",
              "      safe: true,\n",
              "      /* Index of renderer in `output_area.display_order` */\n",
              "      index: 0\n",
              "    });\n",
              "  }\n",
              "\n",
              "  // register the mime type if in Jupyter Notebook environment and previously unregistered\n",
              "  if (root.Jupyter !== undefined) {\n",
              "    var events = require('base/js/events');\n",
              "    var OutputArea = require('notebook/js/outputarea').OutputArea;\n",
              "\n",
              "    if (OutputArea.prototype.mime_types().indexOf(EXEC_MIME_TYPE) == -1) {\n",
              "      register_renderer(events, OutputArea);\n",
              "    }\n",
              "  }\n",
              "\n",
              "  \n",
              "  if (typeof (root._bokeh_timeout) === \"undefined\" || force === true) {\n",
              "    root._bokeh_timeout = Date.now() + 5000;\n",
              "    root._bokeh_failed_load = false;\n",
              "  }\n",
              "\n",
              "  var NB_LOAD_WARNING = {'data': {'text/html':\n",
              "     \"<div style='background-color: #fdd'>\\n\"+\n",
              "     \"<p>\\n\"+\n",
              "     \"BokehJS does not appear to have successfully loaded. If loading BokehJS from CDN, this \\n\"+\n",
              "     \"may be due to a slow or bad network connection. Possible fixes:\\n\"+\n",
              "     \"</p>\\n\"+\n",
              "     \"<ul>\\n\"+\n",
              "     \"<li>re-rerun `output_notebook()` to attempt to load from CDN again, or</li>\\n\"+\n",
              "     \"<li>use INLINE resources instead, as so:</li>\\n\"+\n",
              "     \"</ul>\\n\"+\n",
              "     \"<code>\\n\"+\n",
              "     \"from bokeh.resources import INLINE\\n\"+\n",
              "     \"output_notebook(resources=INLINE)\\n\"+\n",
              "     \"</code>\\n\"+\n",
              "     \"</div>\"}};\n",
              "\n",
              "  function display_loaded() {\n",
              "    var el = document.getElementById(null);\n",
              "    if (el != null) {\n",
              "      el.textContent = \"BokehJS is loading...\";\n",
              "    }\n",
              "    if (root.Bokeh !== undefined) {\n",
              "      if (el != null) {\n",
              "        el.textContent = \"BokehJS \" + root.Bokeh.version + \" successfully loaded.\";\n",
              "      }\n",
              "    } else if (Date.now() < root._bokeh_timeout) {\n",
              "      setTimeout(display_loaded, 100)\n",
              "    }\n",
              "  }\n",
              "\n",
              "\n",
              "  function run_callbacks() {\n",
              "    try {\n",
              "      root._bokeh_onload_callbacks.forEach(function(callback) {\n",
              "        if (callback != null)\n",
              "          callback();\n",
              "      });\n",
              "    } finally {\n",
              "      delete root._bokeh_onload_callbacks\n",
              "    }\n",
              "    console.debug(\"Bokeh: all callbacks have finished\");\n",
              "  }\n",
              "\n",
              "  function load_libs(css_urls, js_urls, callback) {\n",
              "    if (css_urls == null) css_urls = [];\n",
              "    if (js_urls == null) js_urls = [];\n",
              "\n",
              "    root._bokeh_onload_callbacks.push(callback);\n",
              "    if (root._bokeh_is_loading > 0) {\n",
              "      console.debug(\"Bokeh: BokehJS is being loaded, scheduling callback at\", now());\n",
              "      return null;\n",
              "    }\n",
              "    if (js_urls == null || js_urls.length === 0) {\n",
              "      run_callbacks();\n",
              "      return null;\n",
              "    }\n",
              "    console.debug(\"Bokeh: BokehJS not loaded, scheduling load and callback at\", now());\n",
              "    root._bokeh_is_loading = css_urls.length + js_urls.length;\n",
              "\n",
              "    function on_load() {\n",
              "      root._bokeh_is_loading--;\n",
              "      if (root._bokeh_is_loading === 0) {\n",
              "        console.debug(\"Bokeh: all BokehJS libraries/stylesheets loaded\");\n",
              "        run_callbacks()\n",
              "      }\n",
              "    }\n",
              "\n",
              "    function on_error() {\n",
              "      console.error(\"failed to load \" + url);\n",
              "    }\n",
              "\n",
              "    for (var i = 0; i < css_urls.length; i++) {\n",
              "      var url = css_urls[i];\n",
              "      const element = document.createElement(\"link\");\n",
              "      element.onload = on_load;\n",
              "      element.onerror = on_error;\n",
              "      element.rel = \"stylesheet\";\n",
              "      element.type = \"text/css\";\n",
              "      element.href = url;\n",
              "      console.debug(\"Bokeh: injecting link tag for BokehJS stylesheet: \", url);\n",
              "      document.body.appendChild(element);\n",
              "    }\n",
              "\n",
              "    const hashes = {\"https://cdn.bokeh.org/bokeh/release/bokeh-2.1.1.min.js\": \"kLr4fYcqcSpbuI95brIH3vnnYCquzzSxHPU6XGQCIkQRGJwhg0StNbj1eegrHs12\", \"https://cdn.bokeh.org/bokeh/release/bokeh-widgets-2.1.1.min.js\": \"xIGPmVtaOm+z0BqfSOMn4lOR6ciex448GIKG4eE61LsAvmGj48XcMQZtKcE/UXZe\", \"https://cdn.bokeh.org/bokeh/release/bokeh-tables-2.1.1.min.js\": \"Dc9u1wF/0zApGIWoBbH77iWEHtdmkuYWG839Uzmv8y8yBLXebjO9ZnERsde5Ln/P\", \"https://cdn.bokeh.org/bokeh/release/bokeh-gl-2.1.1.min.js\": \"cT9JaBz7GiRXdENrJLZNSC6eMNF3nh3fa5fTF51Svp+ukxPdwcU5kGXGPBgDCa2j\"};\n",
              "\n",
              "    for (var i = 0; i < js_urls.length; i++) {\n",
              "      var url = js_urls[i];\n",
              "      var element = document.createElement('script');\n",
              "      element.onload = on_load;\n",
              "      element.onerror = on_error;\n",
              "      element.async = false;\n",
              "      element.src = url;\n",
              "      if (url in hashes) {\n",
              "        element.crossOrigin = \"anonymous\";\n",
              "        element.integrity = \"sha384-\" + hashes[url];\n",
              "      }\n",
              "      console.debug(\"Bokeh: injecting script tag for BokehJS library: \", url);\n",
              "      document.head.appendChild(element);\n",
              "    }\n",
              "  };\n",
              "\n",
              "  function inject_raw_css(css) {\n",
              "    const element = document.createElement(\"style\");\n",
              "    element.appendChild(document.createTextNode(css));\n",
              "    document.body.appendChild(element);\n",
              "  }\n",
              "\n",
              "  \n",
              "  var js_urls = [\"https://cdn.bokeh.org/bokeh/release/bokeh-2.1.1.min.js\", \"https://cdn.bokeh.org/bokeh/release/bokeh-widgets-2.1.1.min.js\", \"https://cdn.bokeh.org/bokeh/release/bokeh-tables-2.1.1.min.js\", \"https://cdn.bokeh.org/bokeh/release/bokeh-gl-2.1.1.min.js\"];\n",
              "  var css_urls = [];\n",
              "  \n",
              "\n",
              "  var inline_js = [\n",
              "    function(Bokeh) {\n",
              "      Bokeh.set_log_level(\"info\");\n",
              "    },\n",
              "    function(Bokeh) {\n",
              "    \n",
              "    \n",
              "    }\n",
              "  ];\n",
              "\n",
              "  function run_inline_js() {\n",
              "    \n",
              "    if (root.Bokeh !== undefined || force === true) {\n",
              "      \n",
              "    for (var i = 0; i < inline_js.length; i++) {\n",
              "      inline_js[i].call(root, root.Bokeh);\n",
              "    }\n",
              "    } else if (Date.now() < root._bokeh_timeout) {\n",
              "      setTimeout(run_inline_js, 100);\n",
              "    } else if (!root._bokeh_failed_load) {\n",
              "      console.log(\"Bokeh: BokehJS failed to load within specified timeout.\");\n",
              "      root._bokeh_failed_load = true;\n",
              "    } else if (force !== true) {\n",
              "      var cell = $(document.getElementById(null)).parents('.cell').data().cell;\n",
              "      cell.output_area.append_execute_result(NB_LOAD_WARNING)\n",
              "    }\n",
              "\n",
              "  }\n",
              "\n",
              "  if (root._bokeh_is_loading === 0) {\n",
              "    console.debug(\"Bokeh: BokehJS loaded, going straight to plotting\");\n",
              "    run_inline_js();\n",
              "  } else {\n",
              "    load_libs(css_urls, js_urls, function() {\n",
              "      console.debug(\"Bokeh: BokehJS plotting callback run at\", now());\n",
              "      run_inline_js();\n",
              "    });\n",
              "  }\n",
              "}(window));"
            ],
            "application/vnd.bokehjs_load.v0+json": "\n(function(root) {\n  function now() {\n    return new Date();\n  }\n\n  var force = true;\n\n  if (typeof root._bokeh_onload_callbacks === \"undefined\" || force === true) {\n    root._bokeh_onload_callbacks = [];\n    root._bokeh_is_loading = undefined;\n  }\n\n  \n\n  \n  if (typeof (root._bokeh_timeout) === \"undefined\" || force === true) {\n    root._bokeh_timeout = Date.now() + 5000;\n    root._bokeh_failed_load = false;\n  }\n\n  var NB_LOAD_WARNING = {'data': {'text/html':\n     \"<div style='background-color: #fdd'>\\n\"+\n     \"<p>\\n\"+\n     \"BokehJS does not appear to have successfully loaded. If loading BokehJS from CDN, this \\n\"+\n     \"may be due to a slow or bad network connection. Possible fixes:\\n\"+\n     \"</p>\\n\"+\n     \"<ul>\\n\"+\n     \"<li>re-rerun `output_notebook()` to attempt to load from CDN again, or</li>\\n\"+\n     \"<li>use INLINE resources instead, as so:</li>\\n\"+\n     \"</ul>\\n\"+\n     \"<code>\\n\"+\n     \"from bokeh.resources import INLINE\\n\"+\n     \"output_notebook(resources=INLINE)\\n\"+\n     \"</code>\\n\"+\n     \"</div>\"}};\n\n  function display_loaded() {\n    var el = document.getElementById(null);\n    if (el != null) {\n      el.textContent = \"BokehJS is loading...\";\n    }\n    if (root.Bokeh !== undefined) {\n      if (el != null) {\n        el.textContent = \"BokehJS \" + root.Bokeh.version + \" successfully loaded.\";\n      }\n    } else if (Date.now() < root._bokeh_timeout) {\n      setTimeout(display_loaded, 100)\n    }\n  }\n\n\n  function run_callbacks() {\n    try {\n      root._bokeh_onload_callbacks.forEach(function(callback) {\n        if (callback != null)\n          callback();\n      });\n    } finally {\n      delete root._bokeh_onload_callbacks\n    }\n    console.debug(\"Bokeh: all callbacks have finished\");\n  }\n\n  function load_libs(css_urls, js_urls, callback) {\n    if (css_urls == null) css_urls = [];\n    if (js_urls == null) js_urls = [];\n\n    root._bokeh_onload_callbacks.push(callback);\n    if (root._bokeh_is_loading > 0) {\n      console.debug(\"Bokeh: BokehJS is being loaded, scheduling callback at\", now());\n      return null;\n    }\n    if (js_urls == null || js_urls.length === 0) {\n      run_callbacks();\n      return null;\n    }\n    console.debug(\"Bokeh: BokehJS not loaded, scheduling load and callback at\", now());\n    root._bokeh_is_loading = css_urls.length + js_urls.length;\n\n    function on_load() {\n      root._bokeh_is_loading--;\n      if (root._bokeh_is_loading === 0) {\n        console.debug(\"Bokeh: all BokehJS libraries/stylesheets loaded\");\n        run_callbacks()\n      }\n    }\n\n    function on_error() {\n      console.error(\"failed to load \" + url);\n    }\n\n    for (var i = 0; i < css_urls.length; i++) {\n      var url = css_urls[i];\n      const element = document.createElement(\"link\");\n      element.onload = on_load;\n      element.onerror = on_error;\n      element.rel = \"stylesheet\";\n      element.type = \"text/css\";\n      element.href = url;\n      console.debug(\"Bokeh: injecting link tag for BokehJS stylesheet: \", url);\n      document.body.appendChild(element);\n    }\n\n    const hashes = {\"https://cdn.bokeh.org/bokeh/release/bokeh-2.1.1.min.js\": \"kLr4fYcqcSpbuI95brIH3vnnYCquzzSxHPU6XGQCIkQRGJwhg0StNbj1eegrHs12\", \"https://cdn.bokeh.org/bokeh/release/bokeh-widgets-2.1.1.min.js\": \"xIGPmVtaOm+z0BqfSOMn4lOR6ciex448GIKG4eE61LsAvmGj48XcMQZtKcE/UXZe\", \"https://cdn.bokeh.org/bokeh/release/bokeh-tables-2.1.1.min.js\": \"Dc9u1wF/0zApGIWoBbH77iWEHtdmkuYWG839Uzmv8y8yBLXebjO9ZnERsde5Ln/P\", \"https://cdn.bokeh.org/bokeh/release/bokeh-gl-2.1.1.min.js\": \"cT9JaBz7GiRXdENrJLZNSC6eMNF3nh3fa5fTF51Svp+ukxPdwcU5kGXGPBgDCa2j\"};\n\n    for (var i = 0; i < js_urls.length; i++) {\n      var url = js_urls[i];\n      var element = document.createElement('script');\n      element.onload = on_load;\n      element.onerror = on_error;\n      element.async = false;\n      element.src = url;\n      if (url in hashes) {\n        element.crossOrigin = \"anonymous\";\n        element.integrity = \"sha384-\" + hashes[url];\n      }\n      console.debug(\"Bokeh: injecting script tag for BokehJS library: \", url);\n      document.head.appendChild(element);\n    }\n  };\n\n  function inject_raw_css(css) {\n    const element = document.createElement(\"style\");\n    element.appendChild(document.createTextNode(css));\n    document.body.appendChild(element);\n  }\n\n  \n  var js_urls = [\"https://cdn.bokeh.org/bokeh/release/bokeh-2.1.1.min.js\", \"https://cdn.bokeh.org/bokeh/release/bokeh-widgets-2.1.1.min.js\", \"https://cdn.bokeh.org/bokeh/release/bokeh-tables-2.1.1.min.js\", \"https://cdn.bokeh.org/bokeh/release/bokeh-gl-2.1.1.min.js\"];\n  var css_urls = [];\n  \n\n  var inline_js = [\n    function(Bokeh) {\n      Bokeh.set_log_level(\"info\");\n    },\n    function(Bokeh) {\n    \n    \n    }\n  ];\n\n  function run_inline_js() {\n    \n    if (root.Bokeh !== undefined || force === true) {\n      \n    for (var i = 0; i < inline_js.length; i++) {\n      inline_js[i].call(root, root.Bokeh);\n    }\n    } else if (Date.now() < root._bokeh_timeout) {\n      setTimeout(run_inline_js, 100);\n    } else if (!root._bokeh_failed_load) {\n      console.log(\"Bokeh: BokehJS failed to load within specified timeout.\");\n      root._bokeh_failed_load = true;\n    } else if (force !== true) {\n      var cell = $(document.getElementById(null)).parents('.cell').data().cell;\n      cell.output_area.append_execute_result(NB_LOAD_WARNING)\n    }\n\n  }\n\n  if (root._bokeh_is_loading === 0) {\n    console.debug(\"Bokeh: BokehJS loaded, going straight to plotting\");\n    run_inline_js();\n  } else {\n    load_libs(css_urls, js_urls, function() {\n      console.debug(\"Bokeh: BokehJS plotting callback run at\", now());\n      run_inline_js();\n    });\n  }\n}(window));"
          },
          "metadata": {
            "tags": []
          }
        },
        {
          "output_type": "display_data",
          "data": {
            "text/html": [
              "\n",
              "\n",
              "\n",
              "\n",
              "\n",
              "\n",
              "  <div class=\"bk-root\" id=\"6129b5b2-c2a5-4209-b5bd-ca53cca2892f\" data-root-id=\"1002\"></div>\n"
            ]
          },
          "metadata": {
            "tags": []
          }
        },
        {
          "output_type": "display_data",
          "data": {
            "application/javascript": [
              "(function(root) {\n",
              "  function embed_document(root) {\n",
              "    \n",
              "  var docs_json = {\"d5291646-b377-4818-9edb-8ebc1cd1d482\":{\"roots\":{\"references\":[{\"attributes\":{\"below\":[{\"id\":\"1011\"}],\"center\":[{\"id\":\"1014\"},{\"id\":\"1018\"}],\"left\":[{\"id\":\"1015\"}],\"plot_height\":400,\"renderers\":[{\"id\":\"1036\"}],\"title\":{\"id\":\"1040\"},\"toolbar\":{\"id\":\"1026\"},\"x_range\":{\"id\":\"1003\"},\"x_scale\":{\"id\":\"1007\"},\"y_range\":{\"id\":\"1005\"},\"y_scale\":{\"id\":\"1009\"}},\"id\":\"1002\",\"subtype\":\"Figure\",\"type\":\"Plot\"},{\"attributes\":{},\"id\":\"1046\",\"type\":\"Selection\"},{\"attributes\":{\"data\":{\"color\":[\"blue\",\"blue\",\"blue\",\"blue\",\"blue\",\"blue\",\"blue\",\"blue\",\"blue\",\"blue\",\"blue\",\"blue\",\"blue\",\"blue\",\"blue\",\"blue\",\"blue\",\"blue\",\"blue\",\"blue\",\"blue\",\"blue\",\"blue\",\"blue\",\"blue\",\"blue\",\"blue\",\"blue\",\"blue\",\"blue\",\"blue\",\"blue\",\"blue\",\"blue\",\"blue\",\"blue\",\"blue\",\"blue\",\"blue\",\"blue\",\"blue\",\"blue\",\"blue\",\"blue\",\"blue\",\"blue\",\"blue\",\"blue\",\"blue\",\"blue\",\"blue\",\"blue\",\"blue\",\"blue\",\"blue\",\"blue\",\"blue\",\"blue\",\"blue\",\"blue\",\"blue\",\"blue\",\"blue\",\"blue\",\"blue\",\"blue\",\"blue\",\"blue\",\"blue\",\"blue\",\"blue\",\"blue\",\"blue\",\"blue\",\"blue\",\"blue\",\"blue\",\"blue\",\"blue\",\"blue\",\"blue\",\"blue\",\"blue\",\"blue\",\"blue\",\"blue\",\"blue\",\"blue\",\"blue\",\"blue\",\"blue\",\"blue\",\"blue\",\"blue\",\"blue\",\"blue\",\"blue\",\"blue\",\"blue\",\"blue\",\"blue\",\"blue\",\"blue\",\"blue\",\"blue\",\"blue\",\"blue\",\"blue\",\"blue\",\"blue\",\"blue\",\"blue\",\"blue\",\"blue\",\"blue\",\"blue\",\"blue\",\"blue\",\"blue\",\"blue\",\"blue\",\"blue\",\"blue\",\"blue\",\"blue\",\"blue\",\"blue\",\"blue\",\"blue\",\"blue\",\"blue\",\"blue\",\"blue\",\"blue\",\"blue\",\"blue\",\"blue\",\"blue\",\"blue\",\"blue\",\"blue\",\"blue\",\"blue\",\"blue\",\"blue\",\"blue\",\"blue\",\"blue\",\"blue\",\"blue\",\"blue\",\"blue\",\"blue\",\"blue\",\"blue\",\"blue\",\"blue\",\"blue\",\"blue\",\"blue\",\"blue\",\"blue\",\"blue\",\"blue\",\"blue\",\"blue\",\"blue\",\"blue\",\"blue\",\"blue\",\"blue\",\"blue\",\"blue\",\"blue\",\"blue\",\"blue\",\"blue\",\"blue\",\"blue\",\"blue\",\"blue\",\"blue\",\"blue\",\"blue\",\"blue\",\"blue\",\"blue\",\"blue\",\"blue\",\"blue\",\"blue\",\"blue\",\"blue\",\"blue\",\"blue\",\"blue\",\"blue\",\"blue\",\"blue\",\"blue\",\"blue\",\"blue\",\"blue\",\"blue\",\"blue\",\"blue\",\"blue\",\"blue\",\"blue\",\"blue\",\"blue\",\"blue\",\"blue\",\"blue\",\"blue\",\"blue\",\"blue\",\"blue\",\"blue\",\"blue\",\"blue\",\"blue\",\"blue\",\"blue\",\"blue\",\"blue\",\"blue\",\"blue\",\"blue\",\"blue\",\"blue\",\"blue\",\"blue\",\"blue\",\"blue\",\"blue\",\"blue\",\"blue\",\"blue\",\"blue\",\"blue\",\"blue\",\"blue\",\"blue\",\"blue\",\"blue\",\"blue\",\"blue\",\"blue\",\"blue\",\"blue\",\"blue\",\"blue\",\"blue\",\"blue\",\"blue\",\"blue\",\"blue\",\"blue\",\"blue\",\"blue\",\"blue\",\"blue\",\"blue\",\"blue\",\"blue\",\"blue\",\"blue\",\"blue\",\"blue\",\"blue\",\"blue\",\"blue\",\"blue\",\"blue\",\"blue\",\"blue\",\"blue\",\"blue\",\"blue\",\"blue\",\"blue\",\"blue\",\"blue\",\"blue\",\"blue\",\"blue\",\"blue\",\"blue\",\"blue\",\"blue\",\"blue\",\"blue\",\"blue\",\"blue\",\"blue\",\"blue\",\"blue\",\"blue\",\"blue\",\"blue\",\"blue\",\"blue\",\"blue\",\"blue\",\"blue\",\"blue\",\"blue\",\"blue\",\"blue\",\"blue\",\"blue\",\"blue\",\"blue\",\"blue\",\"blue\",\"blue\",\"blue\",\"blue\",\"blue\",\"blue\",\"blue\",\"blue\",\"blue\",\"blue\",\"blue\",\"blue\",\"blue\",\"blue\",\"blue\",\"blue\",\"blue\",\"blue\",\"blue\",\"blue\",\"blue\",\"blue\",\"blue\",\"blue\",\"blue\",\"blue\",\"blue\",\"blue\",\"blue\",\"blue\",\"blue\",\"blue\",\"blue\",\"blue\",\"blue\",\"blue\",\"blue\",\"blue\",\"blue\",\"blue\",\"blue\",\"blue\",\"blue\",\"blue\",\"blue\",\"blue\",\"blue\",\"blue\",\"blue\",\"blue\",\"blue\",\"blue\",\"blue\",\"blue\",\"blue\",\"blue\",\"blue\",\"blue\",\"blue\",\"blue\",\"blue\",\"blue\",\"blue\",\"blue\",\"blue\",\"blue\",\"blue\",\"blue\",\"blue\",\"blue\",\"blue\",\"blue\",\"blue\",\"blue\",\"blue\",\"blue\",\"blue\",\"blue\",\"blue\",\"blue\",\"blue\",\"blue\",\"blue\",\"blue\",\"blue\",\"blue\",\"blue\",\"blue\",\"blue\",\"blue\",\"blue\",\"blue\",\"blue\",\"blue\",\"blue\",\"blue\",\"blue\",\"blue\",\"blue\",\"blue\",\"blue\",\"blue\",\"blue\",\"blue\",\"blue\",\"blue\",\"blue\",\"blue\",\"blue\",\"blue\",\"blue\",\"blue\",\"blue\",\"blue\",\"blue\",\"blue\",\"blue\",\"blue\",\"blue\",\"blue\",\"blue\",\"blue\",\"blue\",\"blue\",\"blue\",\"blue\",\"blue\",\"blue\",\"blue\",\"blue\",\"blue\",\"blue\",\"blue\",\"blue\",\"blue\",\"blue\",\"blue\",\"blue\",\"blue\",\"blue\",\"blue\",\"blue\",\"blue\",\"blue\",\"blue\",\"blue\",\"blue\",\"blue\",\"blue\",\"blue\",\"blue\",\"blue\",\"blue\",\"blue\",\"blue\",\"blue\",\"blue\",\"blue\",\"blue\",\"blue\",\"blue\",\"blue\",\"blue\",\"blue\",\"blue\",\"blue\",\"blue\",\"blue\",\"blue\",\"blue\",\"blue\",\"blue\",\"blue\",\"blue\",\"blue\",\"blue\",\"blue\",\"blue\",\"blue\",\"blue\",\"blue\",\"blue\",\"blue\",\"blue\",\"blue\",\"blue\",\"blue\",\"blue\",\"blue\",\"blue\",\"blue\",\"blue\",\"blue\",\"blue\",\"blue\",\"blue\",\"blue\",\"blue\",\"blue\",\"blue\",\"blue\",\"blue\",\"blue\",\"blue\",\"blue\",\"blue\",\"blue\",\"blue\",\"blue\",\"blue\",\"blue\",\"blue\",\"blue\",\"blue\",\"blue\",\"blue\",\"blue\",\"blue\",\"blue\",\"blue\",\"blue\",\"blue\",\"blue\",\"blue\",\"blue\",\"blue\",\"blue\",\"blue\",\"blue\",\"blue\",\"blue\",\"blue\",\"blue\",\"blue\",\"blue\",\"blue\",\"blue\",\"blue\",\"blue\",\"blue\",\"blue\",\"blue\",\"blue\",\"blue\",\"blue\",\"blue\",\"blue\",\"blue\",\"blue\",\"blue\",\"blue\",\"blue\",\"blue\",\"blue\",\"blue\",\"blue\",\"blue\",\"blue\",\"blue\",\"blue\",\"blue\",\"blue\",\"blue\",\"blue\",\"blue\",\"blue\",\"blue\",\"blue\",\"blue\",\"blue\",\"blue\",\"blue\",\"blue\",\"blue\",\"blue\",\"blue\",\"blue\",\"blue\",\"blue\",\"blue\",\"blue\",\"blue\",\"blue\",\"blue\",\"blue\",\"blue\",\"blue\",\"blue\",\"blue\",\"blue\",\"blue\",\"blue\",\"blue\",\"blue\",\"blue\",\"blue\",\"blue\",\"blue\",\"blue\",\"blue\",\"blue\",\"blue\",\"blue\",\"blue\",\"blue\",\"blue\",\"blue\",\"blue\",\"blue\",\"blue\",\"blue\",\"blue\",\"blue\",\"blue\",\"blue\",\"blue\",\"blue\",\"blue\",\"blue\",\"blue\",\"blue\",\"blue\",\"blue\",\"blue\",\"blue\",\"blue\",\"blue\",\"blue\",\"blue\",\"blue\",\"blue\",\"blue\",\"blue\",\"blue\",\"blue\",\"blue\",\"blue\",\"blue\",\"blue\",\"blue\",\"blue\",\"blue\",\"blue\",\"blue\",\"blue\",\"blue\",\"blue\",\"blue\",\"blue\",\"blue\",\"blue\",\"blue\",\"blue\",\"blue\",\"blue\",\"blue\",\"blue\",\"blue\",\"blue\",\"blue\",\"blue\",\"blue\",\"blue\",\"blue\",\"blue\",\"blue\",\"blue\",\"blue\",\"blue\",\"blue\",\"blue\",\"blue\",\"blue\",\"blue\",\"blue\",\"blue\",\"blue\",\"blue\",\"blue\",\"blue\",\"blue\",\"blue\",\"blue\",\"blue\",\"blue\",\"blue\",\"blue\",\"blue\",\"blue\",\"blue\",\"blue\",\"blue\",\"blue\",\"blue\",\"blue\",\"blue\",\"blue\",\"blue\",\"blue\",\"blue\",\"blue\",\"blue\",\"blue\",\"blue\",\"blue\",\"blue\",\"blue\",\"blue\",\"blue\",\"blue\",\"blue\",\"blue\",\"blue\",\"blue\",\"blue\",\"blue\",\"blue\",\"blue\",\"blue\",\"blue\",\"blue\",\"blue\",\"blue\",\"blue\",\"blue\",\"blue\",\"blue\",\"blue\",\"blue\",\"blue\",\"blue\",\"blue\",\"blue\",\"blue\",\"blue\",\"blue\",\"blue\",\"blue\",\"blue\",\"blue\",\"blue\",\"blue\",\"blue\",\"blue\",\"blue\",\"blue\",\"blue\",\"blue\",\"blue\",\"blue\",\"blue\",\"blue\",\"blue\",\"blue\",\"blue\",\"blue\",\"blue\",\"blue\",\"blue\",\"blue\",\"blue\",\"blue\",\"blue\",\"blue\",\"blue\",\"blue\",\"blue\",\"blue\",\"blue\",\"blue\",\"blue\",\"blue\",\"blue\",\"blue\",\"blue\",\"blue\",\"blue\",\"blue\",\"blue\",\"blue\",\"blue\",\"blue\",\"blue\",\"blue\",\"blue\",\"blue\",\"blue\",\"blue\",\"blue\",\"blue\",\"blue\",\"blue\",\"blue\",\"blue\",\"blue\",\"blue\",\"blue\",\"blue\",\"blue\",\"blue\",\"blue\",\"blue\",\"blue\",\"blue\",\"blue\",\"blue\",\"blue\",\"blue\",\"blue\",\"blue\",\"blue\",\"blue\",\"blue\",\"blue\",\"blue\",\"blue\",\"blue\",\"blue\",\"blue\",\"blue\",\"blue\",\"blue\",\"blue\",\"blue\",\"blue\",\"blue\",\"blue\",\"blue\",\"blue\",\"blue\",\"blue\",\"blue\",\"blue\",\"blue\",\"blue\",\"blue\",\"blue\",\"blue\",\"blue\",\"blue\",\"blue\",\"blue\",\"blue\",\"blue\",\"blue\",\"blue\",\"blue\",\"blue\",\"blue\",\"blue\",\"blue\",\"blue\",\"blue\",\"blue\",\"blue\",\"blue\",\"blue\",\"blue\",\"blue\",\"blue\",\"blue\",\"blue\",\"blue\",\"blue\",\"blue\",\"blue\",\"blue\",\"blue\",\"blue\",\"blue\",\"blue\",\"blue\",\"blue\",\"blue\",\"blue\",\"blue\",\"blue\",\"blue\",\"blue\",\"blue\",\"blue\",\"blue\",\"blue\",\"blue\",\"blue\",\"blue\",\"blue\",\"blue\",\"blue\",\"blue\",\"blue\",\"blue\",\"blue\",\"blue\",\"blue\",\"blue\",\"blue\",\"blue\",\"blue\",\"blue\",\"blue\",\"blue\",\"blue\",\"blue\",\"blue\",\"blue\",\"blue\",\"blue\",\"blue\",\"blue\",\"blue\",\"blue\",\"blue\",\"blue\",\"blue\",\"blue\",\"blue\",\"blue\",\"blue\",\"blue\",\"blue\",\"blue\",\"blue\",\"blue\",\"blue\",\"blue\",\"blue\",\"blue\",\"blue\",\"blue\",\"blue\",\"blue\",\"blue\",\"blue\",\"blue\",\"blue\",\"blue\",\"blue\",\"blue\",\"blue\",\"blue\",\"blue\",\"blue\",\"blue\",\"blue\",\"blue\",\"blue\",\"blue\",\"blue\",\"blue\",\"blue\",\"blue\",\"blue\",\"blue\",\"blue\",\"blue\",\"blue\",\"blue\",\"blue\",\"blue\",\"blue\",\"blue\",\"blue\",\"blue\",\"blue\",\"blue\",\"blue\",\"blue\",\"blue\",\"blue\",\"blue\",\"blue\",\"blue\",\"blue\",\"blue\",\"blue\",\"blue\",\"blue\",\"blue\",\"blue\",\"blue\",\"blue\",\"blue\",\"blue\",\"blue\"],\"token\":[\"<user>\",\".\",\":\",\"rt\",\",\",\"<repeat>\",\"<hashtag>\",\"<number>\",\"<url>\",\"!\",\"i\",\"a\",\"\\\"\",\"the\",\"?\",\"you\",\"to\",\"(\",\"<allcaps>\",\"<elong>\",\")\",\"me\",\"de\",\"<smile>\",\"\\uff01\",\"que\",\"and\",\"\\u3002\",\"-\",\"my\",\"no\",\"\\u3001\",\"is\",\"it\",\"\\u2026\",\"in\",\"n\",\"for\",\"/\",\"of\",\"la\",\"'s\",\"*\",\"do\",\"n't\",\"that\",\"on\",\"y\",\"'\",\"e\",\"o\",\"u\",\"en\",\"this\",\"el\",\"so\",\"be\",\"'m\",\"with\",\"just\",\">\",\"your\",\"^\",\"like\",\"have\",\"te\",\"at\",\"\\uff1f\",\"love\",\"se\",\"are\",\"<\",\"m\",\"r\",\"if\",\"all\",\"b\",\"\\u30fb\",\"not\",\"but\",\"we\",\"es\",\"ya\",\"&\",\"follow\",\"up\",\"what\",\"get\",\"lol\",\"un\",\"\\u2665\",\"lo\",\"when\",\"was\",\"\\u201c\",\"\\u201d\",\"one\",\"por\",\"si\",\"out\",\"_\",\"mi\",\"can\",\"<sadface>\",\"\\u0645\\u0646\",\"\\u2661\",\"\\u00b4\",\"he\",\"con\",\"they\",\"now\",\"go\",\"\\u060c\",\"para\",\"los\",\"know\",\"haha\",\"good\",\"tu\",\"back\",\"~\",\"about\",\"new\",\";\",\"as\",\"day\",\"how\",\"who\",\"will\",\"want\",\"people\",\"yo\",\"eu\",\"from\",\"di\",\"time\",\"<heart>\",\"s\",\"aku\",\"da\",\"'re\",\"<lolface>\",\"una\",\"got\",\"las\",\"more\",\"x\",\"she\",\"today\",\"\\uff08\",\">>\",\"k\",\"by\",\"or\",\"\\u0641\\u064a\",\"\\uff65\",\"too\",\"le\",\"\\u00e9\",\"|\",\"[\",\"\\uff09\",\"]\",\"see\",\"why\",\"yg\",\"ca\",\"como\",\"her\",\"\\u2014\",\"q\",\"need\",\"an\",\"na\",\"\\u7b11\",\"there\",\"\\u03c9\",\"happy\",\"im\",\"mas\",\"je\",\"life\",\"really\",\"make\",\"yang\",\"shit\",\"think\",\"t\",\"\\u2764\",\"n\\u00e3o\",\"never\",\"some\",\"\\uff5e\",\"oh\",\"\\u2605\",\"did\",\"would\",\"del\",\"`\",\"d\",\"please\",\"via\",\"much\",\"fuck\",\"al\",\"dia\",\"$\",\"\\u0648\",\"right\",\"best\",\"c\",\"going\",\"\\u0627\\u0644\\u0644\\u0647\",\"pero\",\"only\",\"has\",\"\\u266a\",\"'ll\",\"twitter\",\"=\",\"hahaha\",\"its\",\"nn\",\"\\uff40\",\"\\u00bf\",\"am\",\"say\",\"<neutralface>\",\"them\",\"here\",\"\\u0644\\u0627\",\"off\",\"still\",\"dan\",\"+\",\"night\",\"w\",\"ada\",\"someone\",\"even\",\"then\",\"\\u2606\",\"ni\",\"come\",\"com\",\"always\",\"man\",\"'ve\",\"been\",\"his\",\"itu\",\"\\u0639\\u0644\\u0649\",\"-_-\",\"\\u263a\",\"over\",\"um\",\"\\u0645\\u0627\",\"hate\",\"girl\",\"ai\",\"had\",\"pra\",\"todo\",\"mais\",\"feel\",\"let\",\"ini\",\"because\",\"\\uff9f\",\"thanks\",\"ah\",\"way\",\"ever\",\"look\",\"tweet\",\"followers\",\"should\",\"our\",\"xd\",\"aja\",\"esta\",\"school\",\"him\",\"ser\",\"take\",\"than\",\"video\",\"em\",\"last\",\"wanna\",\"does\",\"us\",\"miss\",\"l\",\"ga\",\"better\",\"well\",\"could\",\"\\u25bd\",\"%\",\"apa\",\"cuando\",\"team\",\"\\u2714\",\"@\",\"ok\",\"\\u061f\",\"\\u2022\",\"vida\",\"quiero\",\"les\",\"being\",\"real\",\"down\",\"kamu\",\"everyone\",\"gonna\",\"live\",\"tonight\",\"yes\",\"work\",\"ass\",\"retweet\",\"nada\",\"sama\",\"first\",\"<<\",\"photo\",\"tomorrow\",\"where\",\"god\",\"son\",\"ke\",\"ta\",\"f\",\"home\",\"lagi\",\"thank\",\"birthday\",\"\\u2588\",\"ha\",\"great\",\"lmao\",\"omg\",\"morning\",\"m\\u00e1s\",\"mau\",\"baby\",\"dont\",\"\\uff61\",\"their\",\"p\",\"things\",\"game\",\"pas\",\"bad\",\"year\",\"yeah\",\"su\",\"bitch\",\"\\u0432\",\"stop\",\"hoy\",\"something\",\"meu\",\"tak\",\"gak\",\"world\",\"amor\",\"h\",\"\\\\\",\"ver\",\"\\uff1b\",\"porque\",\"give\",\"these\",\"\\u0627\\u0644\\u0644\\u0647\\u0645\",\"were\",\"hay\",\"sleep\",\"gue\",\"every\",\"friends\",\"uma\",\"tell\",\"amo\",\"vou\",\"bien\",\"\\u00a1\",\"again\",\"\\uff3e\",\"\\uff0f\",\"done\",\"after\",\"todos\",\"girls\",\"guys\",\"getting\",\"big\",\"wait\",\"justin\",\"eh\",\"\\u2192\",\"kan\",\"kita\",\"jajaja\",\"wish\",\"said\",\"fucking\",\"show\",\"thing\",\"next\",\"voc\\u00ea\",\"nos\",\"little\",\"tengo\",\"keep\",\"person\",\"''\",\"\\u2200\",\"hope\",\"\\u0643\\u0644\",\"hey\",\"bisa\",\"free\",\"made\",\"foto\",\"va\",\"everything\",\"iya\",\"nigga\",\"eso\",\"et\",\"watch\",\"music\",\"week\",\"talk\",\"ne\",\"solo\",\"gente\",\"udah\",\"\\uff1a\",\"--\",\"\\uff3c\",\"mejor\",\"facebook\",\"ma\",\"v\",\"phone\",\"most\",\"same\",\"okay\",\"ik\",\"before\",\"minha\",\"days\",\"g\",\"ti\",\"damn\",\"nice\",\"voy\",\"vai\",\"call\",\"long\",\"tapi\",\"http\",\"sin\",\"nunca\",\"doing\",\"other\",\"find\",\"il\",\"sa\",\"sorry\",\"nya\",\"orang\",\"\\u00b0\",\"hard\",\"mean\",\"die\",\"\\u0627\\u0644\\u0644\\u064a\",\"tem\",\"soy\",\"este\",\"kalo\",\"s\\u00f3\",\"th\",\"win\",\"nothing\",\"into\",\"face\",\"cute\",\"'d\",\"gracias\",\"lah\",\"\\u0438\",\"any\",\"play\",\"\\u2190\",\"ko\",\"text\",\"\\u2323\",\"estoy\",\"tau\",\"ur\",\"buat\",\"#\",\"cause\",\"\\u044f\",\"put\",\"kau\",\"siempre\",\"juga\",\"casa\",\"\\u0623\\u0646\",\"help\",\"start\",\"feliz\",\"old\",\"ir\",\"very\",\"care\",\"bir\",\"makes\",\"song\",\"check\",\"watching\",\"ahora\",\"jadi\",\"os\",\"may\",\"friend\",\"beautiful\",\"heart\",\"ka\",\"vc\",\"mundo\",\"\\u043d\\u0430\",\"sure\",\"tan\",\"pretty\",\"aqui\",\"\\u043d\\u0435\",\"house\",\"\\u0631\\u062a\\u0648\\u064a\\u062a\",\"\\u064a\\u0627\",\"ja\",\"true\",\"muy\",\"away\",\"already\",\"actually\",\"believe\",\"try\",\"many\",\"ma\\u00f1ana\",\"mis\",\"lu\",\"those\",\"hot\",\"qu\\u00e9\",\"mal\",\"\\u0639\\u0646\",\"though\",\"ask\",\"amazing\",\"bed\",\"}\",\"two\",\"mom\",\"d\\u00eda\",\"ve\",\"dari\",\"gameinsight\",\"stay\",\"fun\",\"around\",\"van\",\"cont\",\"ready\",\"money\",\"bu\",\"funny\",\"cool\",\"hair\",\"\\u00e0\",\"tho\",\"{\",\"wo\",\"hi\",\"name\",\"tiene\",\"hahahaha\",\"pa\",\"algo\",\"gotta\",\"\\u0648\\u0644\\u0627\",\"boy\",\"another\",\"c'est\",\"hari\",\"jajajaja\",\"having\",\"cara\",\"jaja\",\"dm\",\"looking\",\"top\",\"android\",\"dah\",\"wow\",\"\\u2591\",\"eres\",\"ben\",\"must\",\"news\",\"met\",\"est\\u00e1\",\"nih\",\"family\",\"black\",\"thought\",\"nak\",\"super\",\"end\",\"hace\",\"remember\",\"ama\",\"party\",\"cant\",\"vamos\",\"anything\",\"anyone\",\"\\u0641\\u0648\\u0644\\u0648\",\"perfect\",\"guy\",\"vez\",\"christmas\",\"dos\",\"bueno\",\"nao\",\"years\",\"vote\",\"dormir\",\"bro\",\"else\",\"quien\",\"untuk\",\"jangan\",\"myself\",\"head\",\"mind\",\"gua\",\"talking\",\"while\",\"dat\",\"food\",\"\\u0434\",\"coming\",\"wkwk\",\"trying\",\"saya\",\"mucho\",\"without\",\"wrong\",\"\\u2019s\",\"baru\",\"__\",\"hehe\",\"hacer\",\"lot\",\"followed\",\"crazy\",\"hell\",\"feeling\",\"des\",\"kok\",\"j\",\"stats\",\"j'\",\"\\u0627\\u0646\",\"tweets\",\"non\",\"cosas\",\"era\",\"high\",\"niggas\",\"change\",\"movie\",\"xx\",\"mad\",\"sih\",\"sometimes\",\"deh\",\"allah\",\"through\",\"pour\",\"ela\",\"soon\",\"gone\",\"playing\",\"smile\",\"bukan\",\"tv\",\"fans\",\"hasta\",\"akan\",\"y'\",\"looks\",\"isso\",\"\\u270c\",\"tired\",\"boys\",\"might\",\"dong\",\"lg\",\"use\",\"maybe\",\"until\",\"menos\",\"own\",\"dengan\",\"eat\",\"ou\",\"weekend\",\"\\u02d8\",\"class\",\"ele\",\"harry\",\"iphone\",\"friday\",\"single\",\"ff\",\"awesome\",\"bout\",\"muito\",\"hoje\",\"\\u00ac\",\"dios\",\"such\",\"estar\",\"j\\u00e1\",\"quando\",\"esa\",\"making\",\"\\u2501\",\"times\",\"lmfao\",\"gw\",\"moment\",\"yet\",\"aw\",\"smh\",\"banget\",\"masih\",\"qui\",\"quem\",\"\\u2013\",\"leave\",\"du\",\"une\",\"guess\",\"hit\",\"\\u0441\",\"pm\",\"since\",\"pues\",\"est\",\"job\",\"\\uff89\",\"mana\",\"bom\",\"siapa\",\"suka\",\"bieber\",\"mention\",\"lebih\",\"favorite\",\"bitches\",\"forever\",\"\\u0644\\u064a\",\"final\",\"read\",\"alguien\",\"open\",\"yourself\",\"ese\",\"che\",\"sex\",\"yaa\",\"car\",\"direction\",\"tidak\",\"seu\",\"gets\",\"left\",\"re\",\"jam\",\"enough\",\"\\u0625\\u0644\\u0627\",\"once\",\"\\u2019\",\"part\",\"cada\",\"\\u5b9a\\u671f\",\"\\u0644\\u0643\",\"een\",\"seen\",\"kak\",\"as\\u00ed\",\"nem\",\"\\u0639\\u0645\\u0644\",\"white\",\"told\",\"says\",\"esto\",\"sad\",\"mo\",\"fue\",\"yah\",\"summer\",\"\\u0647\",\"\\u2b55\",\"\\u00bb\",\"thats\",\"\\u0645\\u0639\",\"posted\",\"wants\",\"agora\",\"together\",\"fan\",\"men\",\"hear\",\"full\",\"\\u2600\",\"sigo\",\"pq\",\"dulu\",\"plus\",\"foi\",\"tudo\",\"\\u0647\\u0648\",\"ill\",\"\\u3042\",\"thinking\",\"wtf\",\"pagi\",\"mama\",\"kalau\",\"hati\",\"sexy\",\"sayang\",\"baik\",\"semua\",\"hola\",\"went\",\"vos\",\"tanto\",\"finally\",\"fb\",\"sea\",\"stupid\",\"tus\",\"seriously\",\"hora\",\"min\",\"pic\",\"estas\",\"turn\",\"hours\",\"excited\",\"nah\",\"buy\",\"saying\",\"mah\",\"break\",\"needs\",\"ce\",\"room\",\"choice\",\"far\",\"dead\",\"quero\",\"saw\",\"kids\",\"lil\",\"whole\",\"puede\",\"fall\",\"sus\",\"lost\",\"asi\",\"word\",\"\\u2639\",\"also\",\"\\u0631\\u064a\\u062a\\u0648\\u064a\\u062a\",\"probably\",\"everybody\",\"tarde\",\"run\",\"sei\",\"follback\",\"forget\",\"sweet\",\"welcome\",\"selamat\",\"\\uff3f\",\"sur\",\"place\",\"gusta\",\"sabe\",\"androidgames\",\"tp\",\"tiempo\",\"\\u0628\\u0633\",\"sou\",\"tuh\",\"vs\",\"eyes\",\"\\u0627\\u0646\\u0627\",\"picture\",\"das\",\"meet\",\"anak\",\"persona\",\"essa\",\"bored\",\"following\",\"nadie\",\"nobody\",\"dice\",\"alone\",\"sick\",\"red\",\"city\",\"cinta\",\"\\u6708\",\"linda\",\"dream\",\"story\",\"km\",\"het\",\"waiting\",\"^_^\",\"mine\",\"\\u0447\\u0442\\u043e\",\"reason\",\"kk\",\"\\u0644\\u0648\",\"online\",\"fast\",\"udh\",\"wanted\",\"op\",\"others\",\"gay\",\"n\\u2019t\",\"used\",\"sem\",\"understand\",\"moi\",\"sm\",\"aint\",\"donde\",\"bem\",\"which\",\"ng\",\"followback\",\"punya\",\"late\",\"anda\",\"tidur\",\"puedo\",\"early\",\"nd\",\"personas\",\"banyak\",\"\\u2705\",\"\\u278a\",\"trust\",\"noche\",\"tl\",\"\\uff1e\",\"\\u00ab\",\"af\",\"move\",\"pro\",\"bring\",\"ku\",\"called\",\"relationship\",\"idk\",\"hurt\",\"st\",\"pernah\",\"pessoas\",\"hello\",\"uno\",\"unfollowers\",\"cry\"],\"x\":{\"__ndarray__\":\"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\",\"dtype\":\"float32\",\"order\":\"little\",\"shape\":[1000]},\"y\":{\"__ndarray__\":\"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\",\"dtype\":\"float32\",\"order\":\"little\",\"shape\":[1000]}},\"selected\":{\"id\":\"1046\"},\"selection_policy\":{\"id\":\"1047\"}},\"id\":\"1001\",\"type\":\"ColumnDataSource\"},{\"attributes\":{},\"id\":\"1047\",\"type\":\"UnionRenderers\"},{\"attributes\":{\"fill_alpha\":{\"value\":0.1},\"fill_color\":{\"field\":\"color\"},\"line_alpha\":{\"value\":0.1},\"line_color\":{\"field\":\"color\"},\"size\":{\"units\":\"screen\",\"value\":10},\"x\":{\"field\":\"x\"},\"y\":{\"field\":\"y\"}},\"id\":\"1035\",\"type\":\"Scatter\"},{\"attributes\":{},\"id\":\"1024\",\"type\":\"HelpTool\"},{\"attributes\":{},\"id\":\"1007\",\"type\":\"LinearScale\"},{\"attributes\":{\"active_drag\":\"auto\",\"active_inspect\":\"auto\",\"active_multi\":null,\"active_scroll\":{\"id\":\"1020\"},\"active_tap\":\"auto\",\"tools\":[{\"id\":\"1019\"},{\"id\":\"1020\"},{\"id\":\"1021\"},{\"id\":\"1022\"},{\"id\":\"1023\"},{\"id\":\"1024\"},{\"id\":\"1038\"}]},\"id\":\"1026\",\"type\":\"Toolbar\"},{\"attributes\":{},\"id\":\"1044\",\"type\":\"BasicTickFormatter\"},{\"attributes\":{\"axis\":{\"id\":\"1011\"},\"ticker\":null},\"id\":\"1014\",\"type\":\"Grid\"},{\"attributes\":{},\"id\":\"1016\",\"type\":\"BasicTicker\"},{\"attributes\":{\"source\":{\"id\":\"1001\"}},\"id\":\"1037\",\"type\":\"CDSView\"},{\"attributes\":{},\"id\":\"1012\",\"type\":\"BasicTicker\"},{\"attributes\":{\"data_source\":{\"id\":\"1001\"},\"glyph\":{\"id\":\"1034\"},\"hover_glyph\":null,\"muted_glyph\":null,\"nonselection_glyph\":{\"id\":\"1035\"},\"selection_glyph\":null,\"view\":{\"id\":\"1037\"}},\"id\":\"1036\",\"type\":\"GlyphRenderer\"},{\"attributes\":{},\"id\":\"1003\",\"type\":\"DataRange1d\"},{\"attributes\":{\"bottom_units\":\"screen\",\"fill_alpha\":0.5,\"fill_color\":\"lightgrey\",\"left_units\":\"screen\",\"level\":\"overlay\",\"line_alpha\":1.0,\"line_color\":\"black\",\"line_dash\":[4,4],\"line_width\":2,\"right_units\":\"screen\",\"top_units\":\"screen\"},\"id\":\"1025\",\"type\":\"BoxAnnotation\"},{\"attributes\":{\"text\":\"\"},\"id\":\"1040\",\"type\":\"Title\"},{\"attributes\":{},\"id\":\"1005\",\"type\":\"DataRange1d\"},{\"attributes\":{},\"id\":\"1019\",\"type\":\"PanTool\"},{\"attributes\":{},\"id\":\"1009\",\"type\":\"LinearScale\"},{\"attributes\":{\"fill_alpha\":{\"value\":0.25},\"fill_color\":{\"field\":\"color\"},\"line_alpha\":{\"value\":0.25},\"line_color\":{\"field\":\"color\"},\"size\":{\"units\":\"screen\",\"value\":10},\"x\":{\"field\":\"x\"},\"y\":{\"field\":\"y\"}},\"id\":\"1034\",\"type\":\"Scatter\"},{\"attributes\":{\"callback\":null,\"tooltips\":[[\"token\",\"@token\"]]},\"id\":\"1038\",\"type\":\"HoverTool\"},{\"attributes\":{},\"id\":\"1042\",\"type\":\"BasicTickFormatter\"},{\"attributes\":{\"axis\":{\"id\":\"1015\"},\"dimension\":1,\"ticker\":null},\"id\":\"1018\",\"type\":\"Grid\"},{\"attributes\":{\"formatter\":{\"id\":\"1042\"},\"ticker\":{\"id\":\"1012\"}},\"id\":\"1011\",\"type\":\"LinearAxis\"},{\"attributes\":{},\"id\":\"1023\",\"type\":\"ResetTool\"},{\"attributes\":{},\"id\":\"1022\",\"type\":\"SaveTool\"},{\"attributes\":{\"overlay\":{\"id\":\"1025\"}},\"id\":\"1021\",\"type\":\"BoxZoomTool\"},{\"attributes\":{\"formatter\":{\"id\":\"1044\"},\"ticker\":{\"id\":\"1016\"}},\"id\":\"1015\",\"type\":\"LinearAxis\"},{\"attributes\":{},\"id\":\"1020\",\"type\":\"WheelZoomTool\"}],\"root_ids\":[\"1002\"]},\"title\":\"Bokeh Application\",\"version\":\"2.1.1\"}};\n",
              "  var render_items = [{\"docid\":\"d5291646-b377-4818-9edb-8ebc1cd1d482\",\"root_ids\":[\"1002\"],\"roots\":{\"1002\":\"6129b5b2-c2a5-4209-b5bd-ca53cca2892f\"}}];\n",
              "  root.Bokeh.embed.embed_items_notebook(docs_json, render_items);\n",
              "\n",
              "  }\n",
              "  if (root.Bokeh !== undefined) {\n",
              "    embed_document(root);\n",
              "  } else {\n",
              "    var attempts = 0;\n",
              "    var timer = setInterval(function(root) {\n",
              "      if (root.Bokeh !== undefined) {\n",
              "        clearInterval(timer);\n",
              "        embed_document(root);\n",
              "      } else {\n",
              "        attempts++;\n",
              "        if (attempts > 100) {\n",
              "          clearInterval(timer);\n",
              "          console.log(\"Bokeh: ERROR: Unable to run BokehJS code because BokehJS library is missing\");\n",
              "        }\n",
              "      }\n",
              "    }, 10, root)\n",
              "  }\n",
              "})(window);"
            ],
            "application/vnd.bokehjs_exec.v0+json": ""
          },
          "metadata": {
            "tags": [],
            "application/vnd.bokehjs_exec.v0+json": {
              "id": "1002"
            }
          }
        },
        {
          "output_type": "execute_result",
          "data": {
            "text/html": [
              "<div style=\"display: table;\"><div style=\"display: table-row;\"><div style=\"display: table-cell;\"><b title=\"bokeh.plotting.figure.Figure\">Figure</b>(</div><div style=\"display: table-cell;\">id&nbsp;=&nbsp;'1002', <span id=\"1104\" style=\"cursor: pointer;\">&hellip;)</span></div></div><div class=\"1103\" style=\"display: none;\"><div style=\"display: table-cell;\"></div><div style=\"display: table-cell;\">above&nbsp;=&nbsp;[],</div></div><div class=\"1103\" style=\"display: none;\"><div style=\"display: table-cell;\"></div><div style=\"display: table-cell;\">align&nbsp;=&nbsp;'start',</div></div><div class=\"1103\" style=\"display: none;\"><div style=\"display: table-cell;\"></div><div style=\"display: table-cell;\">aspect_ratio&nbsp;=&nbsp;None,</div></div><div class=\"1103\" style=\"display: none;\"><div style=\"display: table-cell;\"></div><div style=\"display: table-cell;\">aspect_scale&nbsp;=&nbsp;1,</div></div><div class=\"1103\" style=\"display: none;\"><div style=\"display: table-cell;\"></div><div style=\"display: table-cell;\">background&nbsp;=&nbsp;None,</div></div><div class=\"1103\" style=\"display: none;\"><div style=\"display: table-cell;\"></div><div style=\"display: table-cell;\">background_fill_alpha&nbsp;=&nbsp;1.0,</div></div><div class=\"1103\" style=\"display: none;\"><div style=\"display: table-cell;\"></div><div style=\"display: table-cell;\">background_fill_color&nbsp;=&nbsp;'#ffffff',</div></div><div class=\"1103\" style=\"display: none;\"><div style=\"display: table-cell;\"></div><div style=\"display: table-cell;\">below&nbsp;=&nbsp;[LinearAxis(id='1011', ...)],</div></div><div class=\"1103\" style=\"display: none;\"><div style=\"display: table-cell;\"></div><div style=\"display: table-cell;\">border_fill_alpha&nbsp;=&nbsp;1.0,</div></div><div class=\"1103\" style=\"display: none;\"><div style=\"display: table-cell;\"></div><div style=\"display: table-cell;\">border_fill_color&nbsp;=&nbsp;'#ffffff',</div></div><div class=\"1103\" style=\"display: none;\"><div style=\"display: table-cell;\"></div><div style=\"display: table-cell;\">center&nbsp;=&nbsp;[Grid(id='1014', ...), Grid(id='1018', ...)],</div></div><div class=\"1103\" style=\"display: none;\"><div style=\"display: table-cell;\"></div><div style=\"display: table-cell;\">css_classes&nbsp;=&nbsp;[],</div></div><div class=\"1103\" style=\"display: none;\"><div style=\"display: table-cell;\"></div><div style=\"display: table-cell;\">disabled&nbsp;=&nbsp;False,</div></div><div class=\"1103\" style=\"display: none;\"><div style=\"display: table-cell;\"></div><div style=\"display: table-cell;\">extra_x_ranges&nbsp;=&nbsp;{},</div></div><div class=\"1103\" style=\"display: none;\"><div style=\"display: table-cell;\"></div><div style=\"display: table-cell;\">extra_y_ranges&nbsp;=&nbsp;{},</div></div><div class=\"1103\" style=\"display: none;\"><div style=\"display: table-cell;\"></div><div style=\"display: table-cell;\">frame_height&nbsp;=&nbsp;None,</div></div><div class=\"1103\" style=\"display: none;\"><div style=\"display: table-cell;\"></div><div style=\"display: table-cell;\">frame_width&nbsp;=&nbsp;None,</div></div><div class=\"1103\" style=\"display: none;\"><div style=\"display: table-cell;\"></div><div style=\"display: table-cell;\">height&nbsp;=&nbsp;None,</div></div><div class=\"1103\" style=\"display: none;\"><div style=\"display: table-cell;\"></div><div style=\"display: table-cell;\">height_policy&nbsp;=&nbsp;'auto',</div></div><div class=\"1103\" style=\"display: none;\"><div style=\"display: table-cell;\"></div><div style=\"display: table-cell;\">hidpi&nbsp;=&nbsp;True,</div></div><div class=\"1103\" style=\"display: none;\"><div style=\"display: table-cell;\"></div><div style=\"display: table-cell;\">js_event_callbacks&nbsp;=&nbsp;{},</div></div><div class=\"1103\" style=\"display: none;\"><div style=\"display: table-cell;\"></div><div style=\"display: table-cell;\">js_property_callbacks&nbsp;=&nbsp;{},</div></div><div class=\"1103\" style=\"display: none;\"><div style=\"display: table-cell;\"></div><div style=\"display: table-cell;\">left&nbsp;=&nbsp;[LinearAxis(id='1015', ...)],</div></div><div class=\"1103\" style=\"display: none;\"><div style=\"display: table-cell;\"></div><div style=\"display: table-cell;\">lod_factor&nbsp;=&nbsp;10,</div></div><div class=\"1103\" style=\"display: none;\"><div style=\"display: table-cell;\"></div><div style=\"display: table-cell;\">lod_interval&nbsp;=&nbsp;300,</div></div><div class=\"1103\" style=\"display: none;\"><div style=\"display: table-cell;\"></div><div style=\"display: table-cell;\">lod_threshold&nbsp;=&nbsp;2000,</div></div><div class=\"1103\" style=\"display: none;\"><div style=\"display: table-cell;\"></div><div style=\"display: table-cell;\">lod_timeout&nbsp;=&nbsp;500,</div></div><div class=\"1103\" style=\"display: none;\"><div style=\"display: table-cell;\"></div><div style=\"display: table-cell;\">margin&nbsp;=&nbsp;(0, 0, 0, 0),</div></div><div class=\"1103\" style=\"display: none;\"><div style=\"display: table-cell;\"></div><div style=\"display: table-cell;\">match_aspect&nbsp;=&nbsp;False,</div></div><div class=\"1103\" style=\"display: none;\"><div style=\"display: table-cell;\"></div><div style=\"display: table-cell;\">max_height&nbsp;=&nbsp;None,</div></div><div class=\"1103\" style=\"display: none;\"><div style=\"display: table-cell;\"></div><div style=\"display: table-cell;\">max_width&nbsp;=&nbsp;None,</div></div><div class=\"1103\" style=\"display: none;\"><div style=\"display: table-cell;\"></div><div style=\"display: table-cell;\">min_border&nbsp;=&nbsp;5,</div></div><div class=\"1103\" style=\"display: none;\"><div style=\"display: table-cell;\"></div><div style=\"display: table-cell;\">min_border_bottom&nbsp;=&nbsp;None,</div></div><div class=\"1103\" style=\"display: none;\"><div style=\"display: table-cell;\"></div><div style=\"display: table-cell;\">min_border_left&nbsp;=&nbsp;None,</div></div><div class=\"1103\" style=\"display: none;\"><div style=\"display: table-cell;\"></div><div style=\"display: table-cell;\">min_border_right&nbsp;=&nbsp;None,</div></div><div class=\"1103\" style=\"display: none;\"><div style=\"display: table-cell;\"></div><div style=\"display: table-cell;\">min_border_top&nbsp;=&nbsp;None,</div></div><div class=\"1103\" style=\"display: none;\"><div style=\"display: table-cell;\"></div><div style=\"display: table-cell;\">min_height&nbsp;=&nbsp;None,</div></div><div class=\"1103\" style=\"display: none;\"><div style=\"display: table-cell;\"></div><div style=\"display: table-cell;\">min_width&nbsp;=&nbsp;None,</div></div><div class=\"1103\" style=\"display: none;\"><div style=\"display: table-cell;\"></div><div style=\"display: table-cell;\">name&nbsp;=&nbsp;None,</div></div><div class=\"1103\" style=\"display: none;\"><div style=\"display: table-cell;\"></div><div style=\"display: table-cell;\">outline_line_alpha&nbsp;=&nbsp;1.0,</div></div><div class=\"1103\" style=\"display: none;\"><div style=\"display: table-cell;\"></div><div style=\"display: table-cell;\">outline_line_cap&nbsp;=&nbsp;'butt',</div></div><div class=\"1103\" style=\"display: none;\"><div style=\"display: table-cell;\"></div><div style=\"display: table-cell;\">outline_line_color&nbsp;=&nbsp;'#e5e5e5',</div></div><div class=\"1103\" style=\"display: none;\"><div style=\"display: table-cell;\"></div><div style=\"display: table-cell;\">outline_line_dash&nbsp;=&nbsp;[],</div></div><div class=\"1103\" style=\"display: none;\"><div style=\"display: table-cell;\"></div><div style=\"display: table-cell;\">outline_line_dash_offset&nbsp;=&nbsp;0,</div></div><div class=\"1103\" style=\"display: none;\"><div style=\"display: table-cell;\"></div><div style=\"display: table-cell;\">outline_line_join&nbsp;=&nbsp;'bevel',</div></div><div class=\"1103\" style=\"display: none;\"><div style=\"display: table-cell;\"></div><div style=\"display: table-cell;\">outline_line_width&nbsp;=&nbsp;1,</div></div><div class=\"1103\" style=\"display: none;\"><div style=\"display: table-cell;\"></div><div style=\"display: table-cell;\">output_backend&nbsp;=&nbsp;'canvas',</div></div><div class=\"1103\" style=\"display: none;\"><div style=\"display: table-cell;\"></div><div style=\"display: table-cell;\">plot_height&nbsp;=&nbsp;400,</div></div><div class=\"1103\" style=\"display: none;\"><div style=\"display: table-cell;\"></div><div style=\"display: table-cell;\">plot_width&nbsp;=&nbsp;600,</div></div><div class=\"1103\" style=\"display: none;\"><div style=\"display: table-cell;\"></div><div style=\"display: table-cell;\">renderers&nbsp;=&nbsp;[GlyphRenderer(id='1036', ...)],</div></div><div class=\"1103\" style=\"display: none;\"><div style=\"display: table-cell;\"></div><div style=\"display: table-cell;\">reset_policy&nbsp;=&nbsp;'standard',</div></div><div class=\"1103\" style=\"display: none;\"><div style=\"display: table-cell;\"></div><div style=\"display: table-cell;\">right&nbsp;=&nbsp;[],</div></div><div class=\"1103\" style=\"display: none;\"><div style=\"display: table-cell;\"></div><div style=\"display: table-cell;\">sizing_mode&nbsp;=&nbsp;None,</div></div><div class=\"1103\" style=\"display: none;\"><div style=\"display: table-cell;\"></div><div style=\"display: table-cell;\">subscribed_events&nbsp;=&nbsp;[],</div></div><div class=\"1103\" style=\"display: none;\"><div style=\"display: table-cell;\"></div><div style=\"display: table-cell;\">tags&nbsp;=&nbsp;[],</div></div><div class=\"1103\" style=\"display: none;\"><div style=\"display: table-cell;\"></div><div style=\"display: table-cell;\">title&nbsp;=&nbsp;Title(id='1040', ...),</div></div><div class=\"1103\" style=\"display: none;\"><div style=\"display: table-cell;\"></div><div style=\"display: table-cell;\">title_location&nbsp;=&nbsp;'above',</div></div><div class=\"1103\" style=\"display: none;\"><div style=\"display: table-cell;\"></div><div style=\"display: table-cell;\">toolbar&nbsp;=&nbsp;Toolbar(id='1026', ...),</div></div><div class=\"1103\" style=\"display: none;\"><div style=\"display: table-cell;\"></div><div style=\"display: table-cell;\">toolbar_location&nbsp;=&nbsp;'right',</div></div><div class=\"1103\" style=\"display: none;\"><div style=\"display: table-cell;\"></div><div style=\"display: table-cell;\">toolbar_sticky&nbsp;=&nbsp;True,</div></div><div class=\"1103\" style=\"display: none;\"><div style=\"display: table-cell;\"></div><div style=\"display: table-cell;\">visible&nbsp;=&nbsp;True,</div></div><div class=\"1103\" style=\"display: none;\"><div style=\"display: table-cell;\"></div><div style=\"display: table-cell;\">width&nbsp;=&nbsp;None,</div></div><div class=\"1103\" style=\"display: none;\"><div style=\"display: table-cell;\"></div><div style=\"display: table-cell;\">width_policy&nbsp;=&nbsp;'auto',</div></div><div class=\"1103\" style=\"display: none;\"><div style=\"display: table-cell;\"></div><div style=\"display: table-cell;\">x_range&nbsp;=&nbsp;DataRange1d(id='1003', ...),</div></div><div class=\"1103\" style=\"display: none;\"><div style=\"display: table-cell;\"></div><div style=\"display: table-cell;\">x_scale&nbsp;=&nbsp;LinearScale(id='1007', ...),</div></div><div class=\"1103\" style=\"display: none;\"><div style=\"display: table-cell;\"></div><div style=\"display: table-cell;\">y_range&nbsp;=&nbsp;DataRange1d(id='1005', ...),</div></div><div class=\"1103\" style=\"display: none;\"><div style=\"display: table-cell;\"></div><div style=\"display: table-cell;\">y_scale&nbsp;=&nbsp;LinearScale(id='1009', ...))</div></div></div>\n",
              "<script>\n",
              "(function() {\n",
              "  var expanded = false;\n",
              "  var ellipsis = document.getElementById(\"1104\");\n",
              "  ellipsis.addEventListener(\"click\", function() {\n",
              "    var rows = document.getElementsByClassName(\"1103\");\n",
              "    for (var i = 0; i < rows.length; i++) {\n",
              "      var el = rows[i];\n",
              "      el.style.display = expanded ? \"none\" : \"table-row\";\n",
              "    }\n",
              "    ellipsis.innerHTML = expanded ? \"&hellip;)\" : \"&lsaquo;&lsaquo;&lsaquo;\";\n",
              "    expanded = !expanded;\n",
              "  });\n",
              "})();\n",
              "</script>\n"
            ],
            "text/plain": [
              "Figure(id='1002', ...)"
            ]
          },
          "metadata": {
            "tags": []
          },
          "execution_count": 22
        }
      ]
    },
    {
      "cell_type": "markdown",
      "metadata": {
        "colab_type": "text",
        "id": "Z3NMIpjDplnm"
      },
      "source": [
        "### Visualizing neighbors with UMAP\n",
        "PCA is nice but it's strictly linear and thus only able to capture coarse high-level structure of the data.\n",
        "\n",
        "If we instead want to focus on keeping neighboring points near, we could use UMAP, which is itself an embedding method. Here you can read __[more on UMAP (ru)](https://habr.com/ru/company/newprolab/blog/350584/)__ and on __[t-SNE](https://distill.pub/2016/misread-tsne/)__, which is also an embedding."
      ]
    },
    {
      "cell_type": "code",
      "metadata": {
        "colab_type": "code",
        "id": "CJTYA02Jplnn",
        "colab": {}
      },
      "source": [
        "embedding = umap.UMAP(n_neighbors=5).fit_transform(word_vectors) # преобразовываем"
      ],
      "execution_count": 23,
      "outputs": []
    },
    {
      "cell_type": "code",
      "metadata": {
        "colab_type": "code",
        "id": "sAKJy3s_plns",
        "colab": {
          "base_uri": "https://localhost:8080/",
          "height": 434
        },
        "outputId": "5e97a0d1-0fcb-4d7c-971a-f5db86cb6f53"
      },
      "source": [
        "draw_vectors(embedding[:, 0], embedding[:, 1], token=words)\n",
        "\n",
        "# hover a mouse over there and see if you can identify the clusters"
      ],
      "execution_count": 24,
      "outputs": [
        {
          "output_type": "display_data",
          "data": {
            "application/javascript": [
              "\n",
              "(function(root) {\n",
              "  function now() {\n",
              "    return new Date();\n",
              "  }\n",
              "\n",
              "  var force = true;\n",
              "\n",
              "  if (typeof root._bokeh_onload_callbacks === \"undefined\" || force === true) {\n",
              "    root._bokeh_onload_callbacks = [];\n",
              "    root._bokeh_is_loading = undefined;\n",
              "  }\n",
              "\n",
              "  var JS_MIME_TYPE = 'application/javascript';\n",
              "  var HTML_MIME_TYPE = 'text/html';\n",
              "  var EXEC_MIME_TYPE = 'application/vnd.bokehjs_exec.v0+json';\n",
              "  var CLASS_NAME = 'output_bokeh rendered_html';\n",
              "\n",
              "  /**\n",
              "   * Render data to the DOM node\n",
              "   */\n",
              "  function render(props, node) {\n",
              "    var script = document.createElement(\"script\");\n",
              "    node.appendChild(script);\n",
              "  }\n",
              "\n",
              "  /**\n",
              "   * Handle when an output is cleared or removed\n",
              "   */\n",
              "  function handleClearOutput(event, handle) {\n",
              "    var cell = handle.cell;\n",
              "\n",
              "    var id = cell.output_area._bokeh_element_id;\n",
              "    var server_id = cell.output_area._bokeh_server_id;\n",
              "    // Clean up Bokeh references\n",
              "    if (id != null && id in Bokeh.index) {\n",
              "      Bokeh.index[id].model.document.clear();\n",
              "      delete Bokeh.index[id];\n",
              "    }\n",
              "\n",
              "    if (server_id !== undefined) {\n",
              "      // Clean up Bokeh references\n",
              "      var cmd = \"from bokeh.io.state import curstate; print(curstate().uuid_to_server['\" + server_id + \"'].get_sessions()[0].document.roots[0]._id)\";\n",
              "      cell.notebook.kernel.execute(cmd, {\n",
              "        iopub: {\n",
              "          output: function(msg) {\n",
              "            var id = msg.content.text.trim();\n",
              "            if (id in Bokeh.index) {\n",
              "              Bokeh.index[id].model.document.clear();\n",
              "              delete Bokeh.index[id];\n",
              "            }\n",
              "          }\n",
              "        }\n",
              "      });\n",
              "      // Destroy server and session\n",
              "      var cmd = \"import bokeh.io.notebook as ion; ion.destroy_server('\" + server_id + \"')\";\n",
              "      cell.notebook.kernel.execute(cmd);\n",
              "    }\n",
              "  }\n",
              "\n",
              "  /**\n",
              "   * Handle when a new output is added\n",
              "   */\n",
              "  function handleAddOutput(event, handle) {\n",
              "    var output_area = handle.output_area;\n",
              "    var output = handle.output;\n",
              "\n",
              "    // limit handleAddOutput to display_data with EXEC_MIME_TYPE content only\n",
              "    if ((output.output_type != \"display_data\") || (!output.data.hasOwnProperty(EXEC_MIME_TYPE))) {\n",
              "      return\n",
              "    }\n",
              "\n",
              "    var toinsert = output_area.element.find(\".\" + CLASS_NAME.split(' ')[0]);\n",
              "\n",
              "    if (output.metadata[EXEC_MIME_TYPE][\"id\"] !== undefined) {\n",
              "      toinsert[toinsert.length - 1].firstChild.textContent = output.data[JS_MIME_TYPE];\n",
              "      // store reference to embed id on output_area\n",
              "      output_area._bokeh_element_id = output.metadata[EXEC_MIME_TYPE][\"id\"];\n",
              "    }\n",
              "    if (output.metadata[EXEC_MIME_TYPE][\"server_id\"] !== undefined) {\n",
              "      var bk_div = document.createElement(\"div\");\n",
              "      bk_div.innerHTML = output.data[HTML_MIME_TYPE];\n",
              "      var script_attrs = bk_div.children[0].attributes;\n",
              "      for (var i = 0; i < script_attrs.length; i++) {\n",
              "        toinsert[toinsert.length - 1].firstChild.setAttribute(script_attrs[i].name, script_attrs[i].value);\n",
              "        toinsert[toinsert.length - 1].firstChild.textContent = bk_div.children[0].textContent\n",
              "      }\n",
              "      // store reference to server id on output_area\n",
              "      output_area._bokeh_server_id = output.metadata[EXEC_MIME_TYPE][\"server_id\"];\n",
              "    }\n",
              "  }\n",
              "\n",
              "  function register_renderer(events, OutputArea) {\n",
              "\n",
              "    function append_mime(data, metadata, element) {\n",
              "      // create a DOM node to render to\n",
              "      var toinsert = this.create_output_subarea(\n",
              "        metadata,\n",
              "        CLASS_NAME,\n",
              "        EXEC_MIME_TYPE\n",
              "      );\n",
              "      this.keyboard_manager.register_events(toinsert);\n",
              "      // Render to node\n",
              "      var props = {data: data, metadata: metadata[EXEC_MIME_TYPE]};\n",
              "      render(props, toinsert[toinsert.length - 1]);\n",
              "      element.append(toinsert);\n",
              "      return toinsert\n",
              "    }\n",
              "\n",
              "    /* Handle when an output is cleared or removed */\n",
              "    events.on('clear_output.CodeCell', handleClearOutput);\n",
              "    events.on('delete.Cell', handleClearOutput);\n",
              "\n",
              "    /* Handle when a new output is added */\n",
              "    events.on('output_added.OutputArea', handleAddOutput);\n",
              "\n",
              "    /**\n",
              "     * Register the mime type and append_mime function with output_area\n",
              "     */\n",
              "    OutputArea.prototype.register_mime_type(EXEC_MIME_TYPE, append_mime, {\n",
              "      /* Is output safe? */\n",
              "      safe: true,\n",
              "      /* Index of renderer in `output_area.display_order` */\n",
              "      index: 0\n",
              "    });\n",
              "  }\n",
              "\n",
              "  // register the mime type if in Jupyter Notebook environment and previously unregistered\n",
              "  if (root.Jupyter !== undefined) {\n",
              "    var events = require('base/js/events');\n",
              "    var OutputArea = require('notebook/js/outputarea').OutputArea;\n",
              "\n",
              "    if (OutputArea.prototype.mime_types().indexOf(EXEC_MIME_TYPE) == -1) {\n",
              "      register_renderer(events, OutputArea);\n",
              "    }\n",
              "  }\n",
              "\n",
              "  \n",
              "  if (typeof (root._bokeh_timeout) === \"undefined\" || force === true) {\n",
              "    root._bokeh_timeout = Date.now() + 5000;\n",
              "    root._bokeh_failed_load = false;\n",
              "  }\n",
              "\n",
              "  var NB_LOAD_WARNING = {'data': {'text/html':\n",
              "     \"<div style='background-color: #fdd'>\\n\"+\n",
              "     \"<p>\\n\"+\n",
              "     \"BokehJS does not appear to have successfully loaded. If loading BokehJS from CDN, this \\n\"+\n",
              "     \"may be due to a slow or bad network connection. Possible fixes:\\n\"+\n",
              "     \"</p>\\n\"+\n",
              "     \"<ul>\\n\"+\n",
              "     \"<li>re-rerun `output_notebook()` to attempt to load from CDN again, or</li>\\n\"+\n",
              "     \"<li>use INLINE resources instead, as so:</li>\\n\"+\n",
              "     \"</ul>\\n\"+\n",
              "     \"<code>\\n\"+\n",
              "     \"from bokeh.resources import INLINE\\n\"+\n",
              "     \"output_notebook(resources=INLINE)\\n\"+\n",
              "     \"</code>\\n\"+\n",
              "     \"</div>\"}};\n",
              "\n",
              "  function display_loaded() {\n",
              "    var el = document.getElementById(null);\n",
              "    if (el != null) {\n",
              "      el.textContent = \"BokehJS is loading...\";\n",
              "    }\n",
              "    if (root.Bokeh !== undefined) {\n",
              "      if (el != null) {\n",
              "        el.textContent = \"BokehJS \" + root.Bokeh.version + \" successfully loaded.\";\n",
              "      }\n",
              "    } else if (Date.now() < root._bokeh_timeout) {\n",
              "      setTimeout(display_loaded, 100)\n",
              "    }\n",
              "  }\n",
              "\n",
              "\n",
              "  function run_callbacks() {\n",
              "    try {\n",
              "      root._bokeh_onload_callbacks.forEach(function(callback) {\n",
              "        if (callback != null)\n",
              "          callback();\n",
              "      });\n",
              "    } finally {\n",
              "      delete root._bokeh_onload_callbacks\n",
              "    }\n",
              "    console.debug(\"Bokeh: all callbacks have finished\");\n",
              "  }\n",
              "\n",
              "  function load_libs(css_urls, js_urls, callback) {\n",
              "    if (css_urls == null) css_urls = [];\n",
              "    if (js_urls == null) js_urls = [];\n",
              "\n",
              "    root._bokeh_onload_callbacks.push(callback);\n",
              "    if (root._bokeh_is_loading > 0) {\n",
              "      console.debug(\"Bokeh: BokehJS is being loaded, scheduling callback at\", now());\n",
              "      return null;\n",
              "    }\n",
              "    if (js_urls == null || js_urls.length === 0) {\n",
              "      run_callbacks();\n",
              "      return null;\n",
              "    }\n",
              "    console.debug(\"Bokeh: BokehJS not loaded, scheduling load and callback at\", now());\n",
              "    root._bokeh_is_loading = css_urls.length + js_urls.length;\n",
              "\n",
              "    function on_load() {\n",
              "      root._bokeh_is_loading--;\n",
              "      if (root._bokeh_is_loading === 0) {\n",
              "        console.debug(\"Bokeh: all BokehJS libraries/stylesheets loaded\");\n",
              "        run_callbacks()\n",
              "      }\n",
              "    }\n",
              "\n",
              "    function on_error() {\n",
              "      console.error(\"failed to load \" + url);\n",
              "    }\n",
              "\n",
              "    for (var i = 0; i < css_urls.length; i++) {\n",
              "      var url = css_urls[i];\n",
              "      const element = document.createElement(\"link\");\n",
              "      element.onload = on_load;\n",
              "      element.onerror = on_error;\n",
              "      element.rel = \"stylesheet\";\n",
              "      element.type = \"text/css\";\n",
              "      element.href = url;\n",
              "      console.debug(\"Bokeh: injecting link tag for BokehJS stylesheet: \", url);\n",
              "      document.body.appendChild(element);\n",
              "    }\n",
              "\n",
              "    const hashes = {\"https://cdn.bokeh.org/bokeh/release/bokeh-2.1.1.min.js\": \"kLr4fYcqcSpbuI95brIH3vnnYCquzzSxHPU6XGQCIkQRGJwhg0StNbj1eegrHs12\", \"https://cdn.bokeh.org/bokeh/release/bokeh-widgets-2.1.1.min.js\": \"xIGPmVtaOm+z0BqfSOMn4lOR6ciex448GIKG4eE61LsAvmGj48XcMQZtKcE/UXZe\", \"https://cdn.bokeh.org/bokeh/release/bokeh-tables-2.1.1.min.js\": \"Dc9u1wF/0zApGIWoBbH77iWEHtdmkuYWG839Uzmv8y8yBLXebjO9ZnERsde5Ln/P\", \"https://cdn.bokeh.org/bokeh/release/bokeh-gl-2.1.1.min.js\": \"cT9JaBz7GiRXdENrJLZNSC6eMNF3nh3fa5fTF51Svp+ukxPdwcU5kGXGPBgDCa2j\"};\n",
              "\n",
              "    for (var i = 0; i < js_urls.length; i++) {\n",
              "      var url = js_urls[i];\n",
              "      var element = document.createElement('script');\n",
              "      element.onload = on_load;\n",
              "      element.onerror = on_error;\n",
              "      element.async = false;\n",
              "      element.src = url;\n",
              "      if (url in hashes) {\n",
              "        element.crossOrigin = \"anonymous\";\n",
              "        element.integrity = \"sha384-\" + hashes[url];\n",
              "      }\n",
              "      console.debug(\"Bokeh: injecting script tag for BokehJS library: \", url);\n",
              "      document.head.appendChild(element);\n",
              "    }\n",
              "  };\n",
              "\n",
              "  function inject_raw_css(css) {\n",
              "    const element = document.createElement(\"style\");\n",
              "    element.appendChild(document.createTextNode(css));\n",
              "    document.body.appendChild(element);\n",
              "  }\n",
              "\n",
              "  \n",
              "  var js_urls = [\"https://cdn.bokeh.org/bokeh/release/bokeh-2.1.1.min.js\", \"https://cdn.bokeh.org/bokeh/release/bokeh-widgets-2.1.1.min.js\", \"https://cdn.bokeh.org/bokeh/release/bokeh-tables-2.1.1.min.js\", \"https://cdn.bokeh.org/bokeh/release/bokeh-gl-2.1.1.min.js\"];\n",
              "  var css_urls = [];\n",
              "  \n",
              "\n",
              "  var inline_js = [\n",
              "    function(Bokeh) {\n",
              "      Bokeh.set_log_level(\"info\");\n",
              "    },\n",
              "    function(Bokeh) {\n",
              "    \n",
              "    \n",
              "    }\n",
              "  ];\n",
              "\n",
              "  function run_inline_js() {\n",
              "    \n",
              "    if (root.Bokeh !== undefined || force === true) {\n",
              "      \n",
              "    for (var i = 0; i < inline_js.length; i++) {\n",
              "      inline_js[i].call(root, root.Bokeh);\n",
              "    }\n",
              "    } else if (Date.now() < root._bokeh_timeout) {\n",
              "      setTimeout(run_inline_js, 100);\n",
              "    } else if (!root._bokeh_failed_load) {\n",
              "      console.log(\"Bokeh: BokehJS failed to load within specified timeout.\");\n",
              "      root._bokeh_failed_load = true;\n",
              "    } else if (force !== true) {\n",
              "      var cell = $(document.getElementById(null)).parents('.cell').data().cell;\n",
              "      cell.output_area.append_execute_result(NB_LOAD_WARNING)\n",
              "    }\n",
              "\n",
              "  }\n",
              "\n",
              "  if (root._bokeh_is_loading === 0) {\n",
              "    console.debug(\"Bokeh: BokehJS loaded, going straight to plotting\");\n",
              "    run_inline_js();\n",
              "  } else {\n",
              "    load_libs(css_urls, js_urls, function() {\n",
              "      console.debug(\"Bokeh: BokehJS plotting callback run at\", now());\n",
              "      run_inline_js();\n",
              "    });\n",
              "  }\n",
              "}(window));"
            ],
            "application/vnd.bokehjs_load.v0+json": "\n(function(root) {\n  function now() {\n    return new Date();\n  }\n\n  var force = true;\n\n  if (typeof root._bokeh_onload_callbacks === \"undefined\" || force === true) {\n    root._bokeh_onload_callbacks = [];\n    root._bokeh_is_loading = undefined;\n  }\n\n  \n\n  \n  if (typeof (root._bokeh_timeout) === \"undefined\" || force === true) {\n    root._bokeh_timeout = Date.now() + 5000;\n    root._bokeh_failed_load = false;\n  }\n\n  var NB_LOAD_WARNING = {'data': {'text/html':\n     \"<div style='background-color: #fdd'>\\n\"+\n     \"<p>\\n\"+\n     \"BokehJS does not appear to have successfully loaded. If loading BokehJS from CDN, this \\n\"+\n     \"may be due to a slow or bad network connection. Possible fixes:\\n\"+\n     \"</p>\\n\"+\n     \"<ul>\\n\"+\n     \"<li>re-rerun `output_notebook()` to attempt to load from CDN again, or</li>\\n\"+\n     \"<li>use INLINE resources instead, as so:</li>\\n\"+\n     \"</ul>\\n\"+\n     \"<code>\\n\"+\n     \"from bokeh.resources import INLINE\\n\"+\n     \"output_notebook(resources=INLINE)\\n\"+\n     \"</code>\\n\"+\n     \"</div>\"}};\n\n  function display_loaded() {\n    var el = document.getElementById(null);\n    if (el != null) {\n      el.textContent = \"BokehJS is loading...\";\n    }\n    if (root.Bokeh !== undefined) {\n      if (el != null) {\n        el.textContent = \"BokehJS \" + root.Bokeh.version + \" successfully loaded.\";\n      }\n    } else if (Date.now() < root._bokeh_timeout) {\n      setTimeout(display_loaded, 100)\n    }\n  }\n\n\n  function run_callbacks() {\n    try {\n      root._bokeh_onload_callbacks.forEach(function(callback) {\n        if (callback != null)\n          callback();\n      });\n    } finally {\n      delete root._bokeh_onload_callbacks\n    }\n    console.debug(\"Bokeh: all callbacks have finished\");\n  }\n\n  function load_libs(css_urls, js_urls, callback) {\n    if (css_urls == null) css_urls = [];\n    if (js_urls == null) js_urls = [];\n\n    root._bokeh_onload_callbacks.push(callback);\n    if (root._bokeh_is_loading > 0) {\n      console.debug(\"Bokeh: BokehJS is being loaded, scheduling callback at\", now());\n      return null;\n    }\n    if (js_urls == null || js_urls.length === 0) {\n      run_callbacks();\n      return null;\n    }\n    console.debug(\"Bokeh: BokehJS not loaded, scheduling load and callback at\", now());\n    root._bokeh_is_loading = css_urls.length + js_urls.length;\n\n    function on_load() {\n      root._bokeh_is_loading--;\n      if (root._bokeh_is_loading === 0) {\n        console.debug(\"Bokeh: all BokehJS libraries/stylesheets loaded\");\n        run_callbacks()\n      }\n    }\n\n    function on_error() {\n      console.error(\"failed to load \" + url);\n    }\n\n    for (var i = 0; i < css_urls.length; i++) {\n      var url = css_urls[i];\n      const element = document.createElement(\"link\");\n      element.onload = on_load;\n      element.onerror = on_error;\n      element.rel = \"stylesheet\";\n      element.type = \"text/css\";\n      element.href = url;\n      console.debug(\"Bokeh: injecting link tag for BokehJS stylesheet: \", url);\n      document.body.appendChild(element);\n    }\n\n    const hashes = {\"https://cdn.bokeh.org/bokeh/release/bokeh-2.1.1.min.js\": \"kLr4fYcqcSpbuI95brIH3vnnYCquzzSxHPU6XGQCIkQRGJwhg0StNbj1eegrHs12\", \"https://cdn.bokeh.org/bokeh/release/bokeh-widgets-2.1.1.min.js\": \"xIGPmVtaOm+z0BqfSOMn4lOR6ciex448GIKG4eE61LsAvmGj48XcMQZtKcE/UXZe\", \"https://cdn.bokeh.org/bokeh/release/bokeh-tables-2.1.1.min.js\": \"Dc9u1wF/0zApGIWoBbH77iWEHtdmkuYWG839Uzmv8y8yBLXebjO9ZnERsde5Ln/P\", \"https://cdn.bokeh.org/bokeh/release/bokeh-gl-2.1.1.min.js\": \"cT9JaBz7GiRXdENrJLZNSC6eMNF3nh3fa5fTF51Svp+ukxPdwcU5kGXGPBgDCa2j\"};\n\n    for (var i = 0; i < js_urls.length; i++) {\n      var url = js_urls[i];\n      var element = document.createElement('script');\n      element.onload = on_load;\n      element.onerror = on_error;\n      element.async = false;\n      element.src = url;\n      if (url in hashes) {\n        element.crossOrigin = \"anonymous\";\n        element.integrity = \"sha384-\" + hashes[url];\n      }\n      console.debug(\"Bokeh: injecting script tag for BokehJS library: \", url);\n      document.head.appendChild(element);\n    }\n  };\n\n  function inject_raw_css(css) {\n    const element = document.createElement(\"style\");\n    element.appendChild(document.createTextNode(css));\n    document.body.appendChild(element);\n  }\n\n  \n  var js_urls = [\"https://cdn.bokeh.org/bokeh/release/bokeh-2.1.1.min.js\", \"https://cdn.bokeh.org/bokeh/release/bokeh-widgets-2.1.1.min.js\", \"https://cdn.bokeh.org/bokeh/release/bokeh-tables-2.1.1.min.js\", \"https://cdn.bokeh.org/bokeh/release/bokeh-gl-2.1.1.min.js\"];\n  var css_urls = [];\n  \n\n  var inline_js = [\n    function(Bokeh) {\n      Bokeh.set_log_level(\"info\");\n    },\n    function(Bokeh) {\n    \n    \n    }\n  ];\n\n  function run_inline_js() {\n    \n    if (root.Bokeh !== undefined || force === true) {\n      \n    for (var i = 0; i < inline_js.length; i++) {\n      inline_js[i].call(root, root.Bokeh);\n    }\n    } else if (Date.now() < root._bokeh_timeout) {\n      setTimeout(run_inline_js, 100);\n    } else if (!root._bokeh_failed_load) {\n      console.log(\"Bokeh: BokehJS failed to load within specified timeout.\");\n      root._bokeh_failed_load = true;\n    } else if (force !== true) {\n      var cell = $(document.getElementById(null)).parents('.cell').data().cell;\n      cell.output_area.append_execute_result(NB_LOAD_WARNING)\n    }\n\n  }\n\n  if (root._bokeh_is_loading === 0) {\n    console.debug(\"Bokeh: BokehJS loaded, going straight to plotting\");\n    run_inline_js();\n  } else {\n    load_libs(css_urls, js_urls, function() {\n      console.debug(\"Bokeh: BokehJS plotting callback run at\", now());\n      run_inline_js();\n    });\n  }\n}(window));"
          },
          "metadata": {
            "tags": []
          }
        },
        {
          "output_type": "display_data",
          "data": {
            "text/html": [
              "\n",
              "\n",
              "\n",
              "\n",
              "\n",
              "\n",
              "  <div class=\"bk-root\" id=\"5397ac05-6685-42e3-b198-c9209fe09175\" data-root-id=\"1108\"></div>\n"
            ]
          },
          "metadata": {
            "tags": []
          }
        },
        {
          "output_type": "display_data",
          "data": {
            "application/javascript": [
              "(function(root) {\n",
              "  function embed_document(root) {\n",
              "    \n",
              "  var docs_json = {\"8df188dd-c3bb-4e85-b245-b2c976c38ff9\":{\"roots\":{\"references\":[{\"attributes\":{\"below\":[{\"id\":\"1117\"}],\"center\":[{\"id\":\"1120\"},{\"id\":\"1124\"}],\"left\":[{\"id\":\"1121\"}],\"plot_height\":400,\"renderers\":[{\"id\":\"1142\"}],\"title\":{\"id\":\"1155\"},\"toolbar\":{\"id\":\"1132\"},\"x_range\":{\"id\":\"1109\"},\"x_scale\":{\"id\":\"1113\"},\"y_range\":{\"id\":\"1111\"},\"y_scale\":{\"id\":\"1115\"}},\"id\":\"1108\",\"subtype\":\"Figure\",\"type\":\"Plot\"},{\"attributes\":{},\"id\":\"1126\",\"type\":\"WheelZoomTool\"},{\"attributes\":{\"overlay\":{\"id\":\"1131\"}},\"id\":\"1127\",\"type\":\"BoxZoomTool\"},{\"attributes\":{},\"id\":\"1162\",\"type\":\"UnionRenderers\"},{\"attributes\":{},\"id\":\"1161\",\"type\":\"Selection\"},{\"attributes\":{},\"id\":\"1125\",\"type\":\"PanTool\"},{\"attributes\":{\"source\":{\"id\":\"1107\"}},\"id\":\"1143\",\"type\":\"CDSView\"},{\"attributes\":{\"fill_alpha\":{\"value\":0.1},\"fill_color\":{\"field\":\"color\"},\"line_alpha\":{\"value\":0.1},\"line_color\":{\"field\":\"color\"},\"size\":{\"units\":\"screen\",\"value\":10},\"x\":{\"field\":\"x\"},\"y\":{\"field\":\"y\"}},\"id\":\"1141\",\"type\":\"Scatter\"},{\"attributes\":{\"formatter\":{\"id\":\"1159\"},\"ticker\":{\"id\":\"1122\"}},\"id\":\"1121\",\"type\":\"LinearAxis\"},{\"attributes\":{},\"id\":\"1157\",\"type\":\"BasicTickFormatter\"},{\"attributes\":{},\"id\":\"1159\",\"type\":\"BasicTickFormatter\"},{\"attributes\":{\"data_source\":{\"id\":\"1107\"},\"glyph\":{\"id\":\"1140\"},\"hover_glyph\":null,\"muted_glyph\":null,\"nonselection_glyph\":{\"id\":\"1141\"},\"selection_glyph\":null,\"view\":{\"id\":\"1143\"}},\"id\":\"1142\",\"type\":\"GlyphRenderer\"},{\"attributes\":{},\"id\":\"1122\",\"type\":\"BasicTicker\"},{\"attributes\":{\"axis\":{\"id\":\"1121\"},\"dimension\":1,\"ticker\":null},\"id\":\"1124\",\"type\":\"Grid\"},{\"attributes\":{\"data\":{\"color\":[\"blue\",\"blue\",\"blue\",\"blue\",\"blue\",\"blue\",\"blue\",\"blue\",\"blue\",\"blue\",\"blue\",\"blue\",\"blue\",\"blue\",\"blue\",\"blue\",\"blue\",\"blue\",\"blue\",\"blue\",\"blue\",\"blue\",\"blue\",\"blue\",\"blue\",\"blue\",\"blue\",\"blue\",\"blue\",\"blue\",\"blue\",\"blue\",\"blue\",\"blue\",\"blue\",\"blue\",\"blue\",\"blue\",\"blue\",\"blue\",\"blue\",\"blue\",\"blue\",\"blue\",\"blue\",\"blue\",\"blue\",\"blue\",\"blue\",\"blue\",\"blue\",\"blue\",\"blue\",\"blue\",\"blue\",\"blue\",\"blue\",\"blue\",\"blue\",\"blue\",\"blue\",\"blue\",\"blue\",\"blue\",\"blue\",\"blue\",\"blue\",\"blue\",\"blue\",\"blue\",\"blue\",\"blue\",\"blue\",\"blue\",\"blue\",\"blue\",\"blue\",\"blue\",\"blue\",\"blue\",\"blue\",\"blue\",\"blue\",\"blue\",\"blue\",\"blue\",\"blue\",\"blue\",\"blue\",\"blue\",\"blue\",\"blue\",\"blue\",\"blue\",\"blue\",\"blue\",\"blue\",\"blue\",\"blue\",\"blue\",\"blue\",\"blue\",\"blue\",\"blue\",\"blue\",\"blue\",\"blue\",\"blue\",\"blue\",\"blue\",\"blue\",\"blue\",\"blue\",\"blue\",\"blue\",\"blue\",\"blue\",\"blue\",\"blue\",\"blue\",\"blue\",\"blue\",\"blue\",\"blue\",\"blue\",\"blue\",\"blue\",\"blue\",\"blue\",\"blue\",\"blue\",\"blue\",\"blue\",\"blue\",\"blue\",\"blue\",\"blue\",\"blue\",\"blue\",\"blue\",\"blue\",\"blue\",\"blue\",\"blue\",\"blue\",\"blue\",\"blue\",\"blue\",\"blue\",\"blue\",\"blue\",\"blue\",\"blue\",\"blue\",\"blue\",\"blue\",\"blue\",\"blue\",\"blue\",\"blue\",\"blue\",\"blue\",\"blue\",\"blue\",\"blue\",\"blue\",\"blue\",\"blue\",\"blue\",\"blue\",\"blue\",\"blue\",\"blue\",\"blue\",\"blue\",\"blue\",\"blue\",\"blue\",\"blue\",\"blue\",\"blue\",\"blue\",\"blue\",\"blue\",\"blue\",\"blue\",\"blue\",\"blue\",\"blue\",\"blue\",\"blue\",\"blue\",\"blue\",\"blue\",\"blue\",\"blue\",\"blue\",\"blue\",\"blue\",\"blue\",\"blue\",\"blue\",\"blue\",\"blue\",\"blue\",\"blue\",\"blue\",\"blue\",\"blue\",\"blue\",\"blue\",\"blue\",\"blue\",\"blue\",\"blue\",\"blue\",\"blue\",\"blue\",\"blue\",\"blue\",\"blue\",\"blue\",\"blue\",\"blue\",\"blue\",\"blue\",\"blue\",\"blue\",\"blue\",\"blue\",\"blue\",\"blue\",\"blue\",\"blue\",\"blue\",\"blue\",\"blue\",\"blue\",\"blue\",\"blue\",\"blue\",\"blue\",\"blue\",\"blue\",\"blue\",\"blue\",\"blue\",\"blue\",\"blue\",\"blue\",\"blue\",\"blue\",\"blue\",\"blue\",\"blue\",\"blue\",\"blue\",\"blue\",\"blue\",\"blue\",\"blue\",\"blue\",\"blue\",\"blue\",\"blue\",\"blue\",\"blue\",\"blue\",\"blue\",\"blue\",\"blue\",\"blue\",\"blue\",\"blue\",\"blue\",\"blue\",\"blue\",\"blue\",\"blue\",\"blue\",\"blue\",\"blue\",\"blue\",\"blue\",\"blue\",\"blue\",\"blue\",\"blue\",\"blue\",\"blue\",\"blue\",\"blue\",\"blue\",\"blue\",\"blue\",\"blue\",\"blue\",\"blue\",\"blue\",\"blue\",\"blue\",\"blue\",\"blue\",\"blue\",\"blue\",\"blue\",\"blue\",\"blue\",\"blue\",\"blue\",\"blue\",\"blue\",\"blue\",\"blue\",\"blue\",\"blue\",\"blue\",\"blue\",\"blue\",\"blue\",\"blue\",\"blue\",\"blue\",\"blue\",\"blue\",\"blue\",\"blue\",\"blue\",\"blue\",\"blue\",\"blue\",\"blue\",\"blue\",\"blue\",\"blue\",\"blue\",\"blue\",\"blue\",\"blue\",\"blue\",\"blue\",\"blue\",\"blue\",\"blue\",\"blue\",\"blue\",\"blue\",\"blue\",\"blue\",\"blue\",\"blue\",\"blue\",\"blue\",\"blue\",\"blue\",\"blue\",\"blue\",\"blue\",\"blue\",\"blue\",\"blue\",\"blue\",\"blue\",\"blue\",\"blue\",\"blue\",\"blue\",\"blue\",\"blue\",\"blue\",\"blue\",\"blue\",\"blue\",\"blue\",\"blue\",\"blue\",\"blue\",\"blue\",\"blue\",\"blue\",\"blue\",\"blue\",\"blue\",\"blue\",\"blue\",\"blue\",\"blue\",\"blue\",\"blue\",\"blue\",\"blue\",\"blue\",\"blue\",\"blue\",\"blue\",\"blue\",\"blue\",\"blue\",\"blue\",\"blue\",\"blue\",\"blue\",\"blue\",\"blue\",\"blue\",\"blue\",\"blue\",\"blue\",\"blue\",\"blue\",\"blue\",\"blue\",\"blue\",\"blue\",\"blue\",\"blue\",\"blue\",\"blue\",\"blue\",\"blue\",\"blue\",\"blue\",\"blue\",\"blue\",\"blue\",\"blue\",\"blue\",\"blue\",\"blue\",\"blue\",\"blue\",\"blue\",\"blue\",\"blue\",\"blue\",\"blue\",\"blue\",\"blue\",\"blue\",\"blue\",\"blue\",\"blue\",\"blue\",\"blue\",\"blue\",\"blue\",\"blue\",\"blue\",\"blue\",\"blue\",\"blue\",\"blue\",\"blue\",\"blue\",\"blue\",\"blue\",\"blue\",\"blue\",\"blue\",\"blue\",\"blue\",\"blue\",\"blue\",\"blue\",\"blue\",\"blue\",\"blue\",\"blue\",\"blue\",\"blue\",\"blue\",\"blue\",\"blue\",\"blue\",\"blue\",\"blue\",\"blue\",\"blue\",\"blue\",\"blue\",\"blue\",\"blue\",\"blue\",\"blue\",\"blue\",\"blue\",\"blue\",\"blue\",\"blue\",\"blue\",\"blue\",\"blue\",\"blue\",\"blue\",\"blue\",\"blue\",\"blue\",\"blue\",\"blue\",\"blue\",\"blue\",\"blue\",\"blue\",\"blue\",\"blue\",\"blue\",\"blue\",\"blue\",\"blue\",\"blue\",\"blue\",\"blue\",\"blue\",\"blue\",\"blue\",\"blue\",\"blue\",\"blue\",\"blue\",\"blue\",\"blue\",\"blue\",\"blue\",\"blue\",\"blue\",\"blue\",\"blue\",\"blue\",\"blue\",\"blue\",\"blue\",\"blue\",\"blue\",\"blue\",\"blue\",\"blue\",\"blue\",\"blue\",\"blue\",\"blue\",\"blue\",\"blue\",\"blue\",\"blue\",\"blue\",\"blue\",\"blue\",\"blue\",\"blue\",\"blue\",\"blue\",\"blue\",\"blue\",\"blue\",\"blue\",\"blue\",\"blue\",\"blue\",\"blue\",\"blue\",\"blue\",\"blue\",\"blue\",\"blue\",\"blue\",\"blue\",\"blue\",\"blue\",\"blue\",\"blue\",\"blue\",\"blue\",\"blue\",\"blue\",\"blue\",\"blue\",\"blue\",\"blue\",\"blue\",\"blue\",\"blue\",\"blue\",\"blue\",\"blue\",\"blue\",\"blue\",\"blue\",\"blue\",\"blue\",\"blue\",\"blue\",\"blue\",\"blue\",\"blue\",\"blue\",\"blue\",\"blue\",\"blue\",\"blue\",\"blue\",\"blue\",\"blue\",\"blue\",\"blue\",\"blue\",\"blue\",\"blue\",\"blue\",\"blue\",\"blue\",\"blue\",\"blue\",\"blue\",\"blue\",\"blue\",\"blue\",\"blue\",\"blue\",\"blue\",\"blue\",\"blue\",\"blue\",\"blue\",\"blue\",\"blue\",\"blue\",\"blue\",\"blue\",\"blue\",\"blue\",\"blue\",\"blue\",\"blue\",\"blue\",\"blue\",\"blue\",\"blue\",\"blue\",\"blue\",\"blue\",\"blue\",\"blue\",\"blue\",\"blue\",\"blue\",\"blue\",\"blue\",\"blue\",\"blue\",\"blue\",\"blue\",\"blue\",\"blue\",\"blue\",\"blue\",\"blue\",\"blue\",\"blue\",\"blue\",\"blue\",\"blue\",\"blue\",\"blue\",\"blue\",\"blue\",\"blue\",\"blue\",\"blue\",\"blue\",\"blue\",\"blue\",\"blue\",\"blue\",\"blue\",\"blue\",\"blue\",\"blue\",\"blue\",\"blue\",\"blue\",\"blue\",\"blue\",\"blue\",\"blue\",\"blue\",\"blue\",\"blue\",\"blue\",\"blue\",\"blue\",\"blue\",\"blue\",\"blue\",\"blue\",\"blue\",\"blue\",\"blue\",\"blue\",\"blue\",\"blue\",\"blue\",\"blue\",\"blue\",\"blue\",\"blue\",\"blue\",\"blue\",\"blue\",\"blue\",\"blue\",\"blue\",\"blue\",\"blue\",\"blue\",\"blue\",\"blue\",\"blue\",\"blue\",\"blue\",\"blue\",\"blue\",\"blue\",\"blue\",\"blue\",\"blue\",\"blue\",\"blue\",\"blue\",\"blue\",\"blue\",\"blue\",\"blue\",\"blue\",\"blue\",\"blue\",\"blue\",\"blue\",\"blue\",\"blue\",\"blue\",\"blue\",\"blue\",\"blue\",\"blue\",\"blue\",\"blue\",\"blue\",\"blue\",\"blue\",\"blue\",\"blue\",\"blue\",\"blue\",\"blue\",\"blue\",\"blue\",\"blue\",\"blue\",\"blue\",\"blue\",\"blue\",\"blue\",\"blue\",\"blue\",\"blue\",\"blue\",\"blue\",\"blue\",\"blue\",\"blue\",\"blue\",\"blue\",\"blue\",\"blue\",\"blue\",\"blue\",\"blue\",\"blue\",\"blue\",\"blue\",\"blue\",\"blue\",\"blue\",\"blue\",\"blue\",\"blue\",\"blue\",\"blue\",\"blue\",\"blue\",\"blue\",\"blue\",\"blue\",\"blue\",\"blue\",\"blue\",\"blue\",\"blue\",\"blue\",\"blue\",\"blue\",\"blue\",\"blue\",\"blue\",\"blue\",\"blue\",\"blue\",\"blue\",\"blue\",\"blue\",\"blue\",\"blue\",\"blue\",\"blue\",\"blue\",\"blue\",\"blue\",\"blue\",\"blue\",\"blue\",\"blue\",\"blue\",\"blue\",\"blue\",\"blue\",\"blue\",\"blue\",\"blue\",\"blue\",\"blue\",\"blue\",\"blue\",\"blue\",\"blue\",\"blue\",\"blue\",\"blue\",\"blue\",\"blue\",\"blue\",\"blue\",\"blue\",\"blue\",\"blue\",\"blue\",\"blue\",\"blue\",\"blue\",\"blue\",\"blue\",\"blue\",\"blue\",\"blue\",\"blue\",\"blue\",\"blue\",\"blue\",\"blue\",\"blue\",\"blue\",\"blue\",\"blue\",\"blue\",\"blue\",\"blue\",\"blue\",\"blue\",\"blue\",\"blue\",\"blue\",\"blue\",\"blue\",\"blue\",\"blue\",\"blue\",\"blue\",\"blue\",\"blue\",\"blue\",\"blue\",\"blue\",\"blue\",\"blue\",\"blue\",\"blue\",\"blue\",\"blue\",\"blue\",\"blue\",\"blue\",\"blue\",\"blue\",\"blue\",\"blue\",\"blue\",\"blue\",\"blue\",\"blue\",\"blue\",\"blue\",\"blue\",\"blue\",\"blue\",\"blue\",\"blue\",\"blue\",\"blue\",\"blue\",\"blue\",\"blue\",\"blue\",\"blue\",\"blue\",\"blue\",\"blue\",\"blue\",\"blue\",\"blue\",\"blue\",\"blue\",\"blue\",\"blue\",\"blue\",\"blue\",\"blue\",\"blue\",\"blue\",\"blue\",\"blue\",\"blue\",\"blue\",\"blue\",\"blue\",\"blue\",\"blue\",\"blue\",\"blue\",\"blue\",\"blue\",\"blue\",\"blue\",\"blue\",\"blue\",\"blue\",\"blue\",\"blue\",\"blue\",\"blue\",\"blue\",\"blue\",\"blue\",\"blue\",\"blue\",\"blue\",\"blue\",\"blue\",\"blue\",\"blue\",\"blue\",\"blue\",\"blue\",\"blue\",\"blue\",\"blue\",\"blue\",\"blue\",\"blue\",\"blue\",\"blue\",\"blue\",\"blue\",\"blue\",\"blue\",\"blue\",\"blue\",\"blue\",\"blue\",\"blue\",\"blue\",\"blue\",\"blue\",\"blue\",\"blue\",\"blue\",\"blue\",\"blue\",\"blue\",\"blue\",\"blue\",\"blue\",\"blue\",\"blue\",\"blue\",\"blue\",\"blue\",\"blue\",\"blue\",\"blue\",\"blue\",\"blue\"],\"token\":[\"<user>\",\".\",\":\",\"rt\",\",\",\"<repeat>\",\"<hashtag>\",\"<number>\",\"<url>\",\"!\",\"i\",\"a\",\"\\\"\",\"the\",\"?\",\"you\",\"to\",\"(\",\"<allcaps>\",\"<elong>\",\")\",\"me\",\"de\",\"<smile>\",\"\\uff01\",\"que\",\"and\",\"\\u3002\",\"-\",\"my\",\"no\",\"\\u3001\",\"is\",\"it\",\"\\u2026\",\"in\",\"n\",\"for\",\"/\",\"of\",\"la\",\"'s\",\"*\",\"do\",\"n't\",\"that\",\"on\",\"y\",\"'\",\"e\",\"o\",\"u\",\"en\",\"this\",\"el\",\"so\",\"be\",\"'m\",\"with\",\"just\",\">\",\"your\",\"^\",\"like\",\"have\",\"te\",\"at\",\"\\uff1f\",\"love\",\"se\",\"are\",\"<\",\"m\",\"r\",\"if\",\"all\",\"b\",\"\\u30fb\",\"not\",\"but\",\"we\",\"es\",\"ya\",\"&\",\"follow\",\"up\",\"what\",\"get\",\"lol\",\"un\",\"\\u2665\",\"lo\",\"when\",\"was\",\"\\u201c\",\"\\u201d\",\"one\",\"por\",\"si\",\"out\",\"_\",\"mi\",\"can\",\"<sadface>\",\"\\u0645\\u0646\",\"\\u2661\",\"\\u00b4\",\"he\",\"con\",\"they\",\"now\",\"go\",\"\\u060c\",\"para\",\"los\",\"know\",\"haha\",\"good\",\"tu\",\"back\",\"~\",\"about\",\"new\",\";\",\"as\",\"day\",\"how\",\"who\",\"will\",\"want\",\"people\",\"yo\",\"eu\",\"from\",\"di\",\"time\",\"<heart>\",\"s\",\"aku\",\"da\",\"'re\",\"<lolface>\",\"una\",\"got\",\"las\",\"more\",\"x\",\"she\",\"today\",\"\\uff08\",\">>\",\"k\",\"by\",\"or\",\"\\u0641\\u064a\",\"\\uff65\",\"too\",\"le\",\"\\u00e9\",\"|\",\"[\",\"\\uff09\",\"]\",\"see\",\"why\",\"yg\",\"ca\",\"como\",\"her\",\"\\u2014\",\"q\",\"need\",\"an\",\"na\",\"\\u7b11\",\"there\",\"\\u03c9\",\"happy\",\"im\",\"mas\",\"je\",\"life\",\"really\",\"make\",\"yang\",\"shit\",\"think\",\"t\",\"\\u2764\",\"n\\u00e3o\",\"never\",\"some\",\"\\uff5e\",\"oh\",\"\\u2605\",\"did\",\"would\",\"del\",\"`\",\"d\",\"please\",\"via\",\"much\",\"fuck\",\"al\",\"dia\",\"$\",\"\\u0648\",\"right\",\"best\",\"c\",\"going\",\"\\u0627\\u0644\\u0644\\u0647\",\"pero\",\"only\",\"has\",\"\\u266a\",\"'ll\",\"twitter\",\"=\",\"hahaha\",\"its\",\"nn\",\"\\uff40\",\"\\u00bf\",\"am\",\"say\",\"<neutralface>\",\"them\",\"here\",\"\\u0644\\u0627\",\"off\",\"still\",\"dan\",\"+\",\"night\",\"w\",\"ada\",\"someone\",\"even\",\"then\",\"\\u2606\",\"ni\",\"come\",\"com\",\"always\",\"man\",\"'ve\",\"been\",\"his\",\"itu\",\"\\u0639\\u0644\\u0649\",\"-_-\",\"\\u263a\",\"over\",\"um\",\"\\u0645\\u0627\",\"hate\",\"girl\",\"ai\",\"had\",\"pra\",\"todo\",\"mais\",\"feel\",\"let\",\"ini\",\"because\",\"\\uff9f\",\"thanks\",\"ah\",\"way\",\"ever\",\"look\",\"tweet\",\"followers\",\"should\",\"our\",\"xd\",\"aja\",\"esta\",\"school\",\"him\",\"ser\",\"take\",\"than\",\"video\",\"em\",\"last\",\"wanna\",\"does\",\"us\",\"miss\",\"l\",\"ga\",\"better\",\"well\",\"could\",\"\\u25bd\",\"%\",\"apa\",\"cuando\",\"team\",\"\\u2714\",\"@\",\"ok\",\"\\u061f\",\"\\u2022\",\"vida\",\"quiero\",\"les\",\"being\",\"real\",\"down\",\"kamu\",\"everyone\",\"gonna\",\"live\",\"tonight\",\"yes\",\"work\",\"ass\",\"retweet\",\"nada\",\"sama\",\"first\",\"<<\",\"photo\",\"tomorrow\",\"where\",\"god\",\"son\",\"ke\",\"ta\",\"f\",\"home\",\"lagi\",\"thank\",\"birthday\",\"\\u2588\",\"ha\",\"great\",\"lmao\",\"omg\",\"morning\",\"m\\u00e1s\",\"mau\",\"baby\",\"dont\",\"\\uff61\",\"their\",\"p\",\"things\",\"game\",\"pas\",\"bad\",\"year\",\"yeah\",\"su\",\"bitch\",\"\\u0432\",\"stop\",\"hoy\",\"something\",\"meu\",\"tak\",\"gak\",\"world\",\"amor\",\"h\",\"\\\\\",\"ver\",\"\\uff1b\",\"porque\",\"give\",\"these\",\"\\u0627\\u0644\\u0644\\u0647\\u0645\",\"were\",\"hay\",\"sleep\",\"gue\",\"every\",\"friends\",\"uma\",\"tell\",\"amo\",\"vou\",\"bien\",\"\\u00a1\",\"again\",\"\\uff3e\",\"\\uff0f\",\"done\",\"after\",\"todos\",\"girls\",\"guys\",\"getting\",\"big\",\"wait\",\"justin\",\"eh\",\"\\u2192\",\"kan\",\"kita\",\"jajaja\",\"wish\",\"said\",\"fucking\",\"show\",\"thing\",\"next\",\"voc\\u00ea\",\"nos\",\"little\",\"tengo\",\"keep\",\"person\",\"''\",\"\\u2200\",\"hope\",\"\\u0643\\u0644\",\"hey\",\"bisa\",\"free\",\"made\",\"foto\",\"va\",\"everything\",\"iya\",\"nigga\",\"eso\",\"et\",\"watch\",\"music\",\"week\",\"talk\",\"ne\",\"solo\",\"gente\",\"udah\",\"\\uff1a\",\"--\",\"\\uff3c\",\"mejor\",\"facebook\",\"ma\",\"v\",\"phone\",\"most\",\"same\",\"okay\",\"ik\",\"before\",\"minha\",\"days\",\"g\",\"ti\",\"damn\",\"nice\",\"voy\",\"vai\",\"call\",\"long\",\"tapi\",\"http\",\"sin\",\"nunca\",\"doing\",\"other\",\"find\",\"il\",\"sa\",\"sorry\",\"nya\",\"orang\",\"\\u00b0\",\"hard\",\"mean\",\"die\",\"\\u0627\\u0644\\u0644\\u064a\",\"tem\",\"soy\",\"este\",\"kalo\",\"s\\u00f3\",\"th\",\"win\",\"nothing\",\"into\",\"face\",\"cute\",\"'d\",\"gracias\",\"lah\",\"\\u0438\",\"any\",\"play\",\"\\u2190\",\"ko\",\"text\",\"\\u2323\",\"estoy\",\"tau\",\"ur\",\"buat\",\"#\",\"cause\",\"\\u044f\",\"put\",\"kau\",\"siempre\",\"juga\",\"casa\",\"\\u0623\\u0646\",\"help\",\"start\",\"feliz\",\"old\",\"ir\",\"very\",\"care\",\"bir\",\"makes\",\"song\",\"check\",\"watching\",\"ahora\",\"jadi\",\"os\",\"may\",\"friend\",\"beautiful\",\"heart\",\"ka\",\"vc\",\"mundo\",\"\\u043d\\u0430\",\"sure\",\"tan\",\"pretty\",\"aqui\",\"\\u043d\\u0435\",\"house\",\"\\u0631\\u062a\\u0648\\u064a\\u062a\",\"\\u064a\\u0627\",\"ja\",\"true\",\"muy\",\"away\",\"already\",\"actually\",\"believe\",\"try\",\"many\",\"ma\\u00f1ana\",\"mis\",\"lu\",\"those\",\"hot\",\"qu\\u00e9\",\"mal\",\"\\u0639\\u0646\",\"though\",\"ask\",\"amazing\",\"bed\",\"}\",\"two\",\"mom\",\"d\\u00eda\",\"ve\",\"dari\",\"gameinsight\",\"stay\",\"fun\",\"around\",\"van\",\"cont\",\"ready\",\"money\",\"bu\",\"funny\",\"cool\",\"hair\",\"\\u00e0\",\"tho\",\"{\",\"wo\",\"hi\",\"name\",\"tiene\",\"hahahaha\",\"pa\",\"algo\",\"gotta\",\"\\u0648\\u0644\\u0627\",\"boy\",\"another\",\"c'est\",\"hari\",\"jajajaja\",\"having\",\"cara\",\"jaja\",\"dm\",\"looking\",\"top\",\"android\",\"dah\",\"wow\",\"\\u2591\",\"eres\",\"ben\",\"must\",\"news\",\"met\",\"est\\u00e1\",\"nih\",\"family\",\"black\",\"thought\",\"nak\",\"super\",\"end\",\"hace\",\"remember\",\"ama\",\"party\",\"cant\",\"vamos\",\"anything\",\"anyone\",\"\\u0641\\u0648\\u0644\\u0648\",\"perfect\",\"guy\",\"vez\",\"christmas\",\"dos\",\"bueno\",\"nao\",\"years\",\"vote\",\"dormir\",\"bro\",\"else\",\"quien\",\"untuk\",\"jangan\",\"myself\",\"head\",\"mind\",\"gua\",\"talking\",\"while\",\"dat\",\"food\",\"\\u0434\",\"coming\",\"wkwk\",\"trying\",\"saya\",\"mucho\",\"without\",\"wrong\",\"\\u2019s\",\"baru\",\"__\",\"hehe\",\"hacer\",\"lot\",\"followed\",\"crazy\",\"hell\",\"feeling\",\"des\",\"kok\",\"j\",\"stats\",\"j'\",\"\\u0627\\u0646\",\"tweets\",\"non\",\"cosas\",\"era\",\"high\",\"niggas\",\"change\",\"movie\",\"xx\",\"mad\",\"sih\",\"sometimes\",\"deh\",\"allah\",\"through\",\"pour\",\"ela\",\"soon\",\"gone\",\"playing\",\"smile\",\"bukan\",\"tv\",\"fans\",\"hasta\",\"akan\",\"y'\",\"looks\",\"isso\",\"\\u270c\",\"tired\",\"boys\",\"might\",\"dong\",\"lg\",\"use\",\"maybe\",\"until\",\"menos\",\"own\",\"dengan\",\"eat\",\"ou\",\"weekend\",\"\\u02d8\",\"class\",\"ele\",\"harry\",\"iphone\",\"friday\",\"single\",\"ff\",\"awesome\",\"bout\",\"muito\",\"hoje\",\"\\u00ac\",\"dios\",\"such\",\"estar\",\"j\\u00e1\",\"quando\",\"esa\",\"making\",\"\\u2501\",\"times\",\"lmfao\",\"gw\",\"moment\",\"yet\",\"aw\",\"smh\",\"banget\",\"masih\",\"qui\",\"quem\",\"\\u2013\",\"leave\",\"du\",\"une\",\"guess\",\"hit\",\"\\u0441\",\"pm\",\"since\",\"pues\",\"est\",\"job\",\"\\uff89\",\"mana\",\"bom\",\"siapa\",\"suka\",\"bieber\",\"mention\",\"lebih\",\"favorite\",\"bitches\",\"forever\",\"\\u0644\\u064a\",\"final\",\"read\",\"alguien\",\"open\",\"yourself\",\"ese\",\"che\",\"sex\",\"yaa\",\"car\",\"direction\",\"tidak\",\"seu\",\"gets\",\"left\",\"re\",\"jam\",\"enough\",\"\\u0625\\u0644\\u0627\",\"once\",\"\\u2019\",\"part\",\"cada\",\"\\u5b9a\\u671f\",\"\\u0644\\u0643\",\"een\",\"seen\",\"kak\",\"as\\u00ed\",\"nem\",\"\\u0639\\u0645\\u0644\",\"white\",\"told\",\"says\",\"esto\",\"sad\",\"mo\",\"fue\",\"yah\",\"summer\",\"\\u0647\",\"\\u2b55\",\"\\u00bb\",\"thats\",\"\\u0645\\u0639\",\"posted\",\"wants\",\"agora\",\"together\",\"fan\",\"men\",\"hear\",\"full\",\"\\u2600\",\"sigo\",\"pq\",\"dulu\",\"plus\",\"foi\",\"tudo\",\"\\u0647\\u0648\",\"ill\",\"\\u3042\",\"thinking\",\"wtf\",\"pagi\",\"mama\",\"kalau\",\"hati\",\"sexy\",\"sayang\",\"baik\",\"semua\",\"hola\",\"went\",\"vos\",\"tanto\",\"finally\",\"fb\",\"sea\",\"stupid\",\"tus\",\"seriously\",\"hora\",\"min\",\"pic\",\"estas\",\"turn\",\"hours\",\"excited\",\"nah\",\"buy\",\"saying\",\"mah\",\"break\",\"needs\",\"ce\",\"room\",\"choice\",\"far\",\"dead\",\"quero\",\"saw\",\"kids\",\"lil\",\"whole\",\"puede\",\"fall\",\"sus\",\"lost\",\"asi\",\"word\",\"\\u2639\",\"also\",\"\\u0631\\u064a\\u062a\\u0648\\u064a\\u062a\",\"probably\",\"everybody\",\"tarde\",\"run\",\"sei\",\"follback\",\"forget\",\"sweet\",\"welcome\",\"selamat\",\"\\uff3f\",\"sur\",\"place\",\"gusta\",\"sabe\",\"androidgames\",\"tp\",\"tiempo\",\"\\u0628\\u0633\",\"sou\",\"tuh\",\"vs\",\"eyes\",\"\\u0627\\u0646\\u0627\",\"picture\",\"das\",\"meet\",\"anak\",\"persona\",\"essa\",\"bored\",\"following\",\"nadie\",\"nobody\",\"dice\",\"alone\",\"sick\",\"red\",\"city\",\"cinta\",\"\\u6708\",\"linda\",\"dream\",\"story\",\"km\",\"het\",\"waiting\",\"^_^\",\"mine\",\"\\u0447\\u0442\\u043e\",\"reason\",\"kk\",\"\\u0644\\u0648\",\"online\",\"fast\",\"udh\",\"wanted\",\"op\",\"others\",\"gay\",\"n\\u2019t\",\"used\",\"sem\",\"understand\",\"moi\",\"sm\",\"aint\",\"donde\",\"bem\",\"which\",\"ng\",\"followback\",\"punya\",\"late\",\"anda\",\"tidur\",\"puedo\",\"early\",\"nd\",\"personas\",\"banyak\",\"\\u2705\",\"\\u278a\",\"trust\",\"noche\",\"tl\",\"\\uff1e\",\"\\u00ab\",\"af\",\"move\",\"pro\",\"bring\",\"ku\",\"called\",\"relationship\",\"idk\",\"hurt\",\"st\",\"pernah\",\"pessoas\",\"hello\",\"uno\",\"unfollowers\",\"cry\"],\"x\":{\"__ndarray__\":\"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\",\"dtype\":\"float32\",\"order\":\"little\",\"shape\":[1000]},\"y\":{\"__ndarray__\":\"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\",\"dtype\":\"float32\",\"order\":\"little\",\"shape\":[1000]}},\"selected\":{\"id\":\"1161\"},\"selection_policy\":{\"id\":\"1162\"}},\"id\":\"1107\",\"type\":\"ColumnDataSource\"},{\"attributes\":{},\"id\":\"1128\",\"type\":\"SaveTool\"},{\"attributes\":{\"fill_alpha\":{\"value\":0.25},\"fill_color\":{\"field\":\"color\"},\"line_alpha\":{\"value\":0.25},\"line_color\":{\"field\":\"color\"},\"size\":{\"units\":\"screen\",\"value\":10},\"x\":{\"field\":\"x\"},\"y\":{\"field\":\"y\"}},\"id\":\"1140\",\"type\":\"Scatter\"},{\"attributes\":{\"axis\":{\"id\":\"1117\"},\"ticker\":null},\"id\":\"1120\",\"type\":\"Grid\"},{\"attributes\":{},\"id\":\"1115\",\"type\":\"LinearScale\"},{\"attributes\":{\"bottom_units\":\"screen\",\"fill_alpha\":0.5,\"fill_color\":\"lightgrey\",\"left_units\":\"screen\",\"level\":\"overlay\",\"line_alpha\":1.0,\"line_color\":\"black\",\"line_dash\":[4,4],\"line_width\":2,\"right_units\":\"screen\",\"top_units\":\"screen\"},\"id\":\"1131\",\"type\":\"BoxAnnotation\"},{\"attributes\":{\"formatter\":{\"id\":\"1157\"},\"ticker\":{\"id\":\"1118\"}},\"id\":\"1117\",\"type\":\"LinearAxis\"},{\"attributes\":{\"callback\":null,\"tooltips\":[[\"token\",\"@token\"]]},\"id\":\"1144\",\"type\":\"HoverTool\"},{\"attributes\":{},\"id\":\"1118\",\"type\":\"BasicTicker\"},{\"attributes\":{\"active_drag\":\"auto\",\"active_inspect\":\"auto\",\"active_multi\":null,\"active_scroll\":{\"id\":\"1126\"},\"active_tap\":\"auto\",\"tools\":[{\"id\":\"1125\"},{\"id\":\"1126\"},{\"id\":\"1127\"},{\"id\":\"1128\"},{\"id\":\"1129\"},{\"id\":\"1130\"},{\"id\":\"1144\"}]},\"id\":\"1132\",\"type\":\"Toolbar\"},{\"attributes\":{},\"id\":\"1113\",\"type\":\"LinearScale\"},{\"attributes\":{\"text\":\"\"},\"id\":\"1155\",\"type\":\"Title\"},{\"attributes\":{},\"id\":\"1111\",\"type\":\"DataRange1d\"},{\"attributes\":{},\"id\":\"1129\",\"type\":\"ResetTool\"},{\"attributes\":{},\"id\":\"1109\",\"type\":\"DataRange1d\"},{\"attributes\":{},\"id\":\"1130\",\"type\":\"HelpTool\"}],\"root_ids\":[\"1108\"]},\"title\":\"Bokeh Application\",\"version\":\"2.1.1\"}};\n",
              "  var render_items = [{\"docid\":\"8df188dd-c3bb-4e85-b245-b2c976c38ff9\",\"root_ids\":[\"1108\"],\"roots\":{\"1108\":\"5397ac05-6685-42e3-b198-c9209fe09175\"}}];\n",
              "  root.Bokeh.embed.embed_items_notebook(docs_json, render_items);\n",
              "\n",
              "  }\n",
              "  if (root.Bokeh !== undefined) {\n",
              "    embed_document(root);\n",
              "  } else {\n",
              "    var attempts = 0;\n",
              "    var timer = setInterval(function(root) {\n",
              "      if (root.Bokeh !== undefined) {\n",
              "        clearInterval(timer);\n",
              "        embed_document(root);\n",
              "      } else {\n",
              "        attempts++;\n",
              "        if (attempts > 100) {\n",
              "          clearInterval(timer);\n",
              "          console.log(\"Bokeh: ERROR: Unable to run BokehJS code because BokehJS library is missing\");\n",
              "        }\n",
              "      }\n",
              "    }, 10, root)\n",
              "  }\n",
              "})(window);"
            ],
            "application/vnd.bokehjs_exec.v0+json": ""
          },
          "metadata": {
            "tags": [],
            "application/vnd.bokehjs_exec.v0+json": {
              "id": "1108"
            }
          }
        },
        {
          "output_type": "execute_result",
          "data": {
            "text/html": [
              "<div style=\"display: table;\"><div style=\"display: table-row;\"><div style=\"display: table-cell;\"><b title=\"bokeh.plotting.figure.Figure\">Figure</b>(</div><div style=\"display: table-cell;\">id&nbsp;=&nbsp;'1108', <span id=\"1219\" style=\"cursor: pointer;\">&hellip;)</span></div></div><div class=\"1218\" style=\"display: none;\"><div style=\"display: table-cell;\"></div><div style=\"display: table-cell;\">above&nbsp;=&nbsp;[],</div></div><div class=\"1218\" style=\"display: none;\"><div style=\"display: table-cell;\"></div><div style=\"display: table-cell;\">align&nbsp;=&nbsp;'start',</div></div><div class=\"1218\" style=\"display: none;\"><div style=\"display: table-cell;\"></div><div style=\"display: table-cell;\">aspect_ratio&nbsp;=&nbsp;None,</div></div><div class=\"1218\" style=\"display: none;\"><div style=\"display: table-cell;\"></div><div style=\"display: table-cell;\">aspect_scale&nbsp;=&nbsp;1,</div></div><div class=\"1218\" style=\"display: none;\"><div style=\"display: table-cell;\"></div><div style=\"display: table-cell;\">background&nbsp;=&nbsp;None,</div></div><div class=\"1218\" style=\"display: none;\"><div style=\"display: table-cell;\"></div><div style=\"display: table-cell;\">background_fill_alpha&nbsp;=&nbsp;1.0,</div></div><div class=\"1218\" style=\"display: none;\"><div style=\"display: table-cell;\"></div><div style=\"display: table-cell;\">background_fill_color&nbsp;=&nbsp;'#ffffff',</div></div><div class=\"1218\" style=\"display: none;\"><div style=\"display: table-cell;\"></div><div style=\"display: table-cell;\">below&nbsp;=&nbsp;[LinearAxis(id='1117', ...)],</div></div><div class=\"1218\" style=\"display: none;\"><div style=\"display: table-cell;\"></div><div style=\"display: table-cell;\">border_fill_alpha&nbsp;=&nbsp;1.0,</div></div><div class=\"1218\" style=\"display: none;\"><div style=\"display: table-cell;\"></div><div style=\"display: table-cell;\">border_fill_color&nbsp;=&nbsp;'#ffffff',</div></div><div class=\"1218\" style=\"display: none;\"><div style=\"display: table-cell;\"></div><div style=\"display: table-cell;\">center&nbsp;=&nbsp;[Grid(id='1120', ...), Grid(id='1124', ...)],</div></div><div class=\"1218\" style=\"display: none;\"><div style=\"display: table-cell;\"></div><div style=\"display: table-cell;\">css_classes&nbsp;=&nbsp;[],</div></div><div class=\"1218\" style=\"display: none;\"><div style=\"display: table-cell;\"></div><div style=\"display: table-cell;\">disabled&nbsp;=&nbsp;False,</div></div><div class=\"1218\" style=\"display: none;\"><div style=\"display: table-cell;\"></div><div style=\"display: table-cell;\">extra_x_ranges&nbsp;=&nbsp;{},</div></div><div class=\"1218\" style=\"display: none;\"><div style=\"display: table-cell;\"></div><div style=\"display: table-cell;\">extra_y_ranges&nbsp;=&nbsp;{},</div></div><div class=\"1218\" style=\"display: none;\"><div style=\"display: table-cell;\"></div><div style=\"display: table-cell;\">frame_height&nbsp;=&nbsp;None,</div></div><div class=\"1218\" style=\"display: none;\"><div style=\"display: table-cell;\"></div><div style=\"display: table-cell;\">frame_width&nbsp;=&nbsp;None,</div></div><div class=\"1218\" style=\"display: none;\"><div style=\"display: table-cell;\"></div><div style=\"display: table-cell;\">height&nbsp;=&nbsp;None,</div></div><div class=\"1218\" style=\"display: none;\"><div style=\"display: table-cell;\"></div><div style=\"display: table-cell;\">height_policy&nbsp;=&nbsp;'auto',</div></div><div class=\"1218\" style=\"display: none;\"><div style=\"display: table-cell;\"></div><div style=\"display: table-cell;\">hidpi&nbsp;=&nbsp;True,</div></div><div class=\"1218\" style=\"display: none;\"><div style=\"display: table-cell;\"></div><div style=\"display: table-cell;\">js_event_callbacks&nbsp;=&nbsp;{},</div></div><div class=\"1218\" style=\"display: none;\"><div style=\"display: table-cell;\"></div><div style=\"display: table-cell;\">js_property_callbacks&nbsp;=&nbsp;{},</div></div><div class=\"1218\" style=\"display: none;\"><div style=\"display: table-cell;\"></div><div style=\"display: table-cell;\">left&nbsp;=&nbsp;[LinearAxis(id='1121', ...)],</div></div><div class=\"1218\" style=\"display: none;\"><div style=\"display: table-cell;\"></div><div style=\"display: table-cell;\">lod_factor&nbsp;=&nbsp;10,</div></div><div class=\"1218\" style=\"display: none;\"><div style=\"display: table-cell;\"></div><div style=\"display: table-cell;\">lod_interval&nbsp;=&nbsp;300,</div></div><div class=\"1218\" style=\"display: none;\"><div style=\"display: table-cell;\"></div><div style=\"display: table-cell;\">lod_threshold&nbsp;=&nbsp;2000,</div></div><div class=\"1218\" style=\"display: none;\"><div style=\"display: table-cell;\"></div><div style=\"display: table-cell;\">lod_timeout&nbsp;=&nbsp;500,</div></div><div class=\"1218\" style=\"display: none;\"><div style=\"display: table-cell;\"></div><div style=\"display: table-cell;\">margin&nbsp;=&nbsp;(0, 0, 0, 0),</div></div><div class=\"1218\" style=\"display: none;\"><div style=\"display: table-cell;\"></div><div style=\"display: table-cell;\">match_aspect&nbsp;=&nbsp;False,</div></div><div class=\"1218\" style=\"display: none;\"><div style=\"display: table-cell;\"></div><div style=\"display: table-cell;\">max_height&nbsp;=&nbsp;None,</div></div><div class=\"1218\" style=\"display: none;\"><div style=\"display: table-cell;\"></div><div style=\"display: table-cell;\">max_width&nbsp;=&nbsp;None,</div></div><div class=\"1218\" style=\"display: none;\"><div style=\"display: table-cell;\"></div><div style=\"display: table-cell;\">min_border&nbsp;=&nbsp;5,</div></div><div class=\"1218\" style=\"display: none;\"><div style=\"display: table-cell;\"></div><div style=\"display: table-cell;\">min_border_bottom&nbsp;=&nbsp;None,</div></div><div class=\"1218\" style=\"display: none;\"><div style=\"display: table-cell;\"></div><div style=\"display: table-cell;\">min_border_left&nbsp;=&nbsp;None,</div></div><div class=\"1218\" style=\"display: none;\"><div style=\"display: table-cell;\"></div><div style=\"display: table-cell;\">min_border_right&nbsp;=&nbsp;None,</div></div><div class=\"1218\" style=\"display: none;\"><div style=\"display: table-cell;\"></div><div style=\"display: table-cell;\">min_border_top&nbsp;=&nbsp;None,</div></div><div class=\"1218\" style=\"display: none;\"><div style=\"display: table-cell;\"></div><div style=\"display: table-cell;\">min_height&nbsp;=&nbsp;None,</div></div><div class=\"1218\" style=\"display: none;\"><div style=\"display: table-cell;\"></div><div style=\"display: table-cell;\">min_width&nbsp;=&nbsp;None,</div></div><div class=\"1218\" style=\"display: none;\"><div style=\"display: table-cell;\"></div><div style=\"display: table-cell;\">name&nbsp;=&nbsp;None,</div></div><div class=\"1218\" style=\"display: none;\"><div style=\"display: table-cell;\"></div><div style=\"display: table-cell;\">outline_line_alpha&nbsp;=&nbsp;1.0,</div></div><div class=\"1218\" style=\"display: none;\"><div style=\"display: table-cell;\"></div><div style=\"display: table-cell;\">outline_line_cap&nbsp;=&nbsp;'butt',</div></div><div class=\"1218\" style=\"display: none;\"><div style=\"display: table-cell;\"></div><div style=\"display: table-cell;\">outline_line_color&nbsp;=&nbsp;'#e5e5e5',</div></div><div class=\"1218\" style=\"display: none;\"><div style=\"display: table-cell;\"></div><div style=\"display: table-cell;\">outline_line_dash&nbsp;=&nbsp;[],</div></div><div class=\"1218\" style=\"display: none;\"><div style=\"display: table-cell;\"></div><div style=\"display: table-cell;\">outline_line_dash_offset&nbsp;=&nbsp;0,</div></div><div class=\"1218\" style=\"display: none;\"><div style=\"display: table-cell;\"></div><div style=\"display: table-cell;\">outline_line_join&nbsp;=&nbsp;'bevel',</div></div><div class=\"1218\" style=\"display: none;\"><div style=\"display: table-cell;\"></div><div style=\"display: table-cell;\">outline_line_width&nbsp;=&nbsp;1,</div></div><div class=\"1218\" style=\"display: none;\"><div style=\"display: table-cell;\"></div><div style=\"display: table-cell;\">output_backend&nbsp;=&nbsp;'canvas',</div></div><div class=\"1218\" style=\"display: none;\"><div style=\"display: table-cell;\"></div><div style=\"display: table-cell;\">plot_height&nbsp;=&nbsp;400,</div></div><div class=\"1218\" style=\"display: none;\"><div style=\"display: table-cell;\"></div><div style=\"display: table-cell;\">plot_width&nbsp;=&nbsp;600,</div></div><div class=\"1218\" style=\"display: none;\"><div style=\"display: table-cell;\"></div><div style=\"display: table-cell;\">renderers&nbsp;=&nbsp;[GlyphRenderer(id='1142', ...)],</div></div><div class=\"1218\" style=\"display: none;\"><div style=\"display: table-cell;\"></div><div style=\"display: table-cell;\">reset_policy&nbsp;=&nbsp;'standard',</div></div><div class=\"1218\" style=\"display: none;\"><div style=\"display: table-cell;\"></div><div style=\"display: table-cell;\">right&nbsp;=&nbsp;[],</div></div><div class=\"1218\" style=\"display: none;\"><div style=\"display: table-cell;\"></div><div style=\"display: table-cell;\">sizing_mode&nbsp;=&nbsp;None,</div></div><div class=\"1218\" style=\"display: none;\"><div style=\"display: table-cell;\"></div><div style=\"display: table-cell;\">subscribed_events&nbsp;=&nbsp;[],</div></div><div class=\"1218\" style=\"display: none;\"><div style=\"display: table-cell;\"></div><div style=\"display: table-cell;\">tags&nbsp;=&nbsp;[],</div></div><div class=\"1218\" style=\"display: none;\"><div style=\"display: table-cell;\"></div><div style=\"display: table-cell;\">title&nbsp;=&nbsp;Title(id='1155', ...),</div></div><div class=\"1218\" style=\"display: none;\"><div style=\"display: table-cell;\"></div><div style=\"display: table-cell;\">title_location&nbsp;=&nbsp;'above',</div></div><div class=\"1218\" style=\"display: none;\"><div style=\"display: table-cell;\"></div><div style=\"display: table-cell;\">toolbar&nbsp;=&nbsp;Toolbar(id='1132', ...),</div></div><div class=\"1218\" style=\"display: none;\"><div style=\"display: table-cell;\"></div><div style=\"display: table-cell;\">toolbar_location&nbsp;=&nbsp;'right',</div></div><div class=\"1218\" style=\"display: none;\"><div style=\"display: table-cell;\"></div><div style=\"display: table-cell;\">toolbar_sticky&nbsp;=&nbsp;True,</div></div><div class=\"1218\" style=\"display: none;\"><div style=\"display: table-cell;\"></div><div style=\"display: table-cell;\">visible&nbsp;=&nbsp;True,</div></div><div class=\"1218\" style=\"display: none;\"><div style=\"display: table-cell;\"></div><div style=\"display: table-cell;\">width&nbsp;=&nbsp;None,</div></div><div class=\"1218\" style=\"display: none;\"><div style=\"display: table-cell;\"></div><div style=\"display: table-cell;\">width_policy&nbsp;=&nbsp;'auto',</div></div><div class=\"1218\" style=\"display: none;\"><div style=\"display: table-cell;\"></div><div style=\"display: table-cell;\">x_range&nbsp;=&nbsp;DataRange1d(id='1109', ...),</div></div><div class=\"1218\" style=\"display: none;\"><div style=\"display: table-cell;\"></div><div style=\"display: table-cell;\">x_scale&nbsp;=&nbsp;LinearScale(id='1113', ...),</div></div><div class=\"1218\" style=\"display: none;\"><div style=\"display: table-cell;\"></div><div style=\"display: table-cell;\">y_range&nbsp;=&nbsp;DataRange1d(id='1111', ...),</div></div><div class=\"1218\" style=\"display: none;\"><div style=\"display: table-cell;\"></div><div style=\"display: table-cell;\">y_scale&nbsp;=&nbsp;LinearScale(id='1115', ...))</div></div></div>\n",
              "<script>\n",
              "(function() {\n",
              "  var expanded = false;\n",
              "  var ellipsis = document.getElementById(\"1219\");\n",
              "  ellipsis.addEventListener(\"click\", function() {\n",
              "    var rows = document.getElementsByClassName(\"1218\");\n",
              "    for (var i = 0; i < rows.length; i++) {\n",
              "      var el = rows[i];\n",
              "      el.style.display = expanded ? \"none\" : \"table-row\";\n",
              "    }\n",
              "    ellipsis.innerHTML = expanded ? \"&hellip;)\" : \"&lsaquo;&lsaquo;&lsaquo;\";\n",
              "    expanded = !expanded;\n",
              "  });\n",
              "})();\n",
              "</script>\n"
            ],
            "text/plain": [
              "Figure(id='1108', ...)"
            ]
          },
          "metadata": {
            "tags": []
          },
          "execution_count": 24
        }
      ]
    },
    {
      "cell_type": "markdown",
      "metadata": {
        "id": "PoR0310HZip1",
        "colab_type": "text"
      },
      "source": [
        "### Visualizing neighbors with TSNE"
      ]
    },
    {
      "cell_type": "code",
      "metadata": {
        "id": "QichW4iLXxDU",
        "colab_type": "code",
        "colab": {
          "base_uri": "https://localhost:8080/",
          "height": 241
        },
        "outputId": "5d35d76f-7c88-4da4-d40a-95d32766d0d5"
      },
      "source": [
        "!pip install MulticoreTSNE"
      ],
      "execution_count": 25,
      "outputs": [
        {
          "output_type": "stream",
          "text": [
            "Collecting MulticoreTSNE\n",
            "  Downloading https://files.pythonhosted.org/packages/2d/e8/2afa896fa4eebfa1d0d0ba2673fddac45582ec0f06b2bdda88108ced5425/MulticoreTSNE-0.1.tar.gz\n",
            "Requirement already satisfied: numpy in /usr/local/lib/python3.6/dist-packages (from MulticoreTSNE) (1.18.5)\n",
            "Requirement already satisfied: cffi in /usr/local/lib/python3.6/dist-packages (from MulticoreTSNE) (1.14.2)\n",
            "Requirement already satisfied: pycparser in /usr/local/lib/python3.6/dist-packages (from cffi->MulticoreTSNE) (2.20)\n",
            "Building wheels for collected packages: MulticoreTSNE\n",
            "  Building wheel for MulticoreTSNE (setup.py) ... \u001b[?25l\u001b[?25hdone\n",
            "  Created wheel for MulticoreTSNE: filename=MulticoreTSNE-0.1-cp36-cp36m-linux_x86_64.whl size=68503 sha256=68a9409e2e9eac6cc2832350205fac52f42da3bc23f0e679cd0b6e364ad6c8d4\n",
            "  Stored in directory: /root/.cache/pip/wheels/27/59/53/3b52ee63add3692254c30d687fa4dff4d128d0557861fb028e\n",
            "Successfully built MulticoreTSNE\n",
            "Installing collected packages: MulticoreTSNE\n",
            "Successfully installed MulticoreTSNE-0.1\n"
          ],
          "name": "stdout"
        }
      ]
    },
    {
      "cell_type": "code",
      "metadata": {
        "id": "Fo7fhAmDXzDr",
        "colab_type": "code",
        "colab": {}
      },
      "source": [
        "from MulticoreTSNE import MulticoreTSNE as TSNE\n",
        "\n",
        "tsne = TSNE(n_jobs=-1)"
      ],
      "execution_count": 26,
      "outputs": []
    },
    {
      "cell_type": "code",
      "metadata": {
        "id": "ralZyfPSYEJS",
        "colab_type": "code",
        "colab": {}
      },
      "source": [
        "embedding_tsne = tsne.fit_transform(word_vectors)"
      ],
      "execution_count": 27,
      "outputs": []
    },
    {
      "cell_type": "code",
      "metadata": {
        "id": "MHrV8ffIYW_6",
        "colab_type": "code",
        "colab": {
          "base_uri": "https://localhost:8080/",
          "height": 434
        },
        "outputId": "b6bd9506-357b-4e6d-9a10-7601949b18a8"
      },
      "source": [
        "draw_vectors(embedding_tsne[:, 0], embedding_tsne[:, 1], token=words)"
      ],
      "execution_count": 28,
      "outputs": [
        {
          "output_type": "display_data",
          "data": {
            "application/javascript": [
              "\n",
              "(function(root) {\n",
              "  function now() {\n",
              "    return new Date();\n",
              "  }\n",
              "\n",
              "  var force = true;\n",
              "\n",
              "  if (typeof root._bokeh_onload_callbacks === \"undefined\" || force === true) {\n",
              "    root._bokeh_onload_callbacks = [];\n",
              "    root._bokeh_is_loading = undefined;\n",
              "  }\n",
              "\n",
              "  var JS_MIME_TYPE = 'application/javascript';\n",
              "  var HTML_MIME_TYPE = 'text/html';\n",
              "  var EXEC_MIME_TYPE = 'application/vnd.bokehjs_exec.v0+json';\n",
              "  var CLASS_NAME = 'output_bokeh rendered_html';\n",
              "\n",
              "  /**\n",
              "   * Render data to the DOM node\n",
              "   */\n",
              "  function render(props, node) {\n",
              "    var script = document.createElement(\"script\");\n",
              "    node.appendChild(script);\n",
              "  }\n",
              "\n",
              "  /**\n",
              "   * Handle when an output is cleared or removed\n",
              "   */\n",
              "  function handleClearOutput(event, handle) {\n",
              "    var cell = handle.cell;\n",
              "\n",
              "    var id = cell.output_area._bokeh_element_id;\n",
              "    var server_id = cell.output_area._bokeh_server_id;\n",
              "    // Clean up Bokeh references\n",
              "    if (id != null && id in Bokeh.index) {\n",
              "      Bokeh.index[id].model.document.clear();\n",
              "      delete Bokeh.index[id];\n",
              "    }\n",
              "\n",
              "    if (server_id !== undefined) {\n",
              "      // Clean up Bokeh references\n",
              "      var cmd = \"from bokeh.io.state import curstate; print(curstate().uuid_to_server['\" + server_id + \"'].get_sessions()[0].document.roots[0]._id)\";\n",
              "      cell.notebook.kernel.execute(cmd, {\n",
              "        iopub: {\n",
              "          output: function(msg) {\n",
              "            var id = msg.content.text.trim();\n",
              "            if (id in Bokeh.index) {\n",
              "              Bokeh.index[id].model.document.clear();\n",
              "              delete Bokeh.index[id];\n",
              "            }\n",
              "          }\n",
              "        }\n",
              "      });\n",
              "      // Destroy server and session\n",
              "      var cmd = \"import bokeh.io.notebook as ion; ion.destroy_server('\" + server_id + \"')\";\n",
              "      cell.notebook.kernel.execute(cmd);\n",
              "    }\n",
              "  }\n",
              "\n",
              "  /**\n",
              "   * Handle when a new output is added\n",
              "   */\n",
              "  function handleAddOutput(event, handle) {\n",
              "    var output_area = handle.output_area;\n",
              "    var output = handle.output;\n",
              "\n",
              "    // limit handleAddOutput to display_data with EXEC_MIME_TYPE content only\n",
              "    if ((output.output_type != \"display_data\") || (!output.data.hasOwnProperty(EXEC_MIME_TYPE))) {\n",
              "      return\n",
              "    }\n",
              "\n",
              "    var toinsert = output_area.element.find(\".\" + CLASS_NAME.split(' ')[0]);\n",
              "\n",
              "    if (output.metadata[EXEC_MIME_TYPE][\"id\"] !== undefined) {\n",
              "      toinsert[toinsert.length - 1].firstChild.textContent = output.data[JS_MIME_TYPE];\n",
              "      // store reference to embed id on output_area\n",
              "      output_area._bokeh_element_id = output.metadata[EXEC_MIME_TYPE][\"id\"];\n",
              "    }\n",
              "    if (output.metadata[EXEC_MIME_TYPE][\"server_id\"] !== undefined) {\n",
              "      var bk_div = document.createElement(\"div\");\n",
              "      bk_div.innerHTML = output.data[HTML_MIME_TYPE];\n",
              "      var script_attrs = bk_div.children[0].attributes;\n",
              "      for (var i = 0; i < script_attrs.length; i++) {\n",
              "        toinsert[toinsert.length - 1].firstChild.setAttribute(script_attrs[i].name, script_attrs[i].value);\n",
              "        toinsert[toinsert.length - 1].firstChild.textContent = bk_div.children[0].textContent\n",
              "      }\n",
              "      // store reference to server id on output_area\n",
              "      output_area._bokeh_server_id = output.metadata[EXEC_MIME_TYPE][\"server_id\"];\n",
              "    }\n",
              "  }\n",
              "\n",
              "  function register_renderer(events, OutputArea) {\n",
              "\n",
              "    function append_mime(data, metadata, element) {\n",
              "      // create a DOM node to render to\n",
              "      var toinsert = this.create_output_subarea(\n",
              "        metadata,\n",
              "        CLASS_NAME,\n",
              "        EXEC_MIME_TYPE\n",
              "      );\n",
              "      this.keyboard_manager.register_events(toinsert);\n",
              "      // Render to node\n",
              "      var props = {data: data, metadata: metadata[EXEC_MIME_TYPE]};\n",
              "      render(props, toinsert[toinsert.length - 1]);\n",
              "      element.append(toinsert);\n",
              "      return toinsert\n",
              "    }\n",
              "\n",
              "    /* Handle when an output is cleared or removed */\n",
              "    events.on('clear_output.CodeCell', handleClearOutput);\n",
              "    events.on('delete.Cell', handleClearOutput);\n",
              "\n",
              "    /* Handle when a new output is added */\n",
              "    events.on('output_added.OutputArea', handleAddOutput);\n",
              "\n",
              "    /**\n",
              "     * Register the mime type and append_mime function with output_area\n",
              "     */\n",
              "    OutputArea.prototype.register_mime_type(EXEC_MIME_TYPE, append_mime, {\n",
              "      /* Is output safe? */\n",
              "      safe: true,\n",
              "      /* Index of renderer in `output_area.display_order` */\n",
              "      index: 0\n",
              "    });\n",
              "  }\n",
              "\n",
              "  // register the mime type if in Jupyter Notebook environment and previously unregistered\n",
              "  if (root.Jupyter !== undefined) {\n",
              "    var events = require('base/js/events');\n",
              "    var OutputArea = require('notebook/js/outputarea').OutputArea;\n",
              "\n",
              "    if (OutputArea.prototype.mime_types().indexOf(EXEC_MIME_TYPE) == -1) {\n",
              "      register_renderer(events, OutputArea);\n",
              "    }\n",
              "  }\n",
              "\n",
              "  \n",
              "  if (typeof (root._bokeh_timeout) === \"undefined\" || force === true) {\n",
              "    root._bokeh_timeout = Date.now() + 5000;\n",
              "    root._bokeh_failed_load = false;\n",
              "  }\n",
              "\n",
              "  var NB_LOAD_WARNING = {'data': {'text/html':\n",
              "     \"<div style='background-color: #fdd'>\\n\"+\n",
              "     \"<p>\\n\"+\n",
              "     \"BokehJS does not appear to have successfully loaded. If loading BokehJS from CDN, this \\n\"+\n",
              "     \"may be due to a slow or bad network connection. Possible fixes:\\n\"+\n",
              "     \"</p>\\n\"+\n",
              "     \"<ul>\\n\"+\n",
              "     \"<li>re-rerun `output_notebook()` to attempt to load from CDN again, or</li>\\n\"+\n",
              "     \"<li>use INLINE resources instead, as so:</li>\\n\"+\n",
              "     \"</ul>\\n\"+\n",
              "     \"<code>\\n\"+\n",
              "     \"from bokeh.resources import INLINE\\n\"+\n",
              "     \"output_notebook(resources=INLINE)\\n\"+\n",
              "     \"</code>\\n\"+\n",
              "     \"</div>\"}};\n",
              "\n",
              "  function display_loaded() {\n",
              "    var el = document.getElementById(null);\n",
              "    if (el != null) {\n",
              "      el.textContent = \"BokehJS is loading...\";\n",
              "    }\n",
              "    if (root.Bokeh !== undefined) {\n",
              "      if (el != null) {\n",
              "        el.textContent = \"BokehJS \" + root.Bokeh.version + \" successfully loaded.\";\n",
              "      }\n",
              "    } else if (Date.now() < root._bokeh_timeout) {\n",
              "      setTimeout(display_loaded, 100)\n",
              "    }\n",
              "  }\n",
              "\n",
              "\n",
              "  function run_callbacks() {\n",
              "    try {\n",
              "      root._bokeh_onload_callbacks.forEach(function(callback) {\n",
              "        if (callback != null)\n",
              "          callback();\n",
              "      });\n",
              "    } finally {\n",
              "      delete root._bokeh_onload_callbacks\n",
              "    }\n",
              "    console.debug(\"Bokeh: all callbacks have finished\");\n",
              "  }\n",
              "\n",
              "  function load_libs(css_urls, js_urls, callback) {\n",
              "    if (css_urls == null) css_urls = [];\n",
              "    if (js_urls == null) js_urls = [];\n",
              "\n",
              "    root._bokeh_onload_callbacks.push(callback);\n",
              "    if (root._bokeh_is_loading > 0) {\n",
              "      console.debug(\"Bokeh: BokehJS is being loaded, scheduling callback at\", now());\n",
              "      return null;\n",
              "    }\n",
              "    if (js_urls == null || js_urls.length === 0) {\n",
              "      run_callbacks();\n",
              "      return null;\n",
              "    }\n",
              "    console.debug(\"Bokeh: BokehJS not loaded, scheduling load and callback at\", now());\n",
              "    root._bokeh_is_loading = css_urls.length + js_urls.length;\n",
              "\n",
              "    function on_load() {\n",
              "      root._bokeh_is_loading--;\n",
              "      if (root._bokeh_is_loading === 0) {\n",
              "        console.debug(\"Bokeh: all BokehJS libraries/stylesheets loaded\");\n",
              "        run_callbacks()\n",
              "      }\n",
              "    }\n",
              "\n",
              "    function on_error() {\n",
              "      console.error(\"failed to load \" + url);\n",
              "    }\n",
              "\n",
              "    for (var i = 0; i < css_urls.length; i++) {\n",
              "      var url = css_urls[i];\n",
              "      const element = document.createElement(\"link\");\n",
              "      element.onload = on_load;\n",
              "      element.onerror = on_error;\n",
              "      element.rel = \"stylesheet\";\n",
              "      element.type = \"text/css\";\n",
              "      element.href = url;\n",
              "      console.debug(\"Bokeh: injecting link tag for BokehJS stylesheet: \", url);\n",
              "      document.body.appendChild(element);\n",
              "    }\n",
              "\n",
              "    const hashes = {\"https://cdn.bokeh.org/bokeh/release/bokeh-2.1.1.min.js\": \"kLr4fYcqcSpbuI95brIH3vnnYCquzzSxHPU6XGQCIkQRGJwhg0StNbj1eegrHs12\", \"https://cdn.bokeh.org/bokeh/release/bokeh-widgets-2.1.1.min.js\": \"xIGPmVtaOm+z0BqfSOMn4lOR6ciex448GIKG4eE61LsAvmGj48XcMQZtKcE/UXZe\", \"https://cdn.bokeh.org/bokeh/release/bokeh-tables-2.1.1.min.js\": \"Dc9u1wF/0zApGIWoBbH77iWEHtdmkuYWG839Uzmv8y8yBLXebjO9ZnERsde5Ln/P\", \"https://cdn.bokeh.org/bokeh/release/bokeh-gl-2.1.1.min.js\": \"cT9JaBz7GiRXdENrJLZNSC6eMNF3nh3fa5fTF51Svp+ukxPdwcU5kGXGPBgDCa2j\"};\n",
              "\n",
              "    for (var i = 0; i < js_urls.length; i++) {\n",
              "      var url = js_urls[i];\n",
              "      var element = document.createElement('script');\n",
              "      element.onload = on_load;\n",
              "      element.onerror = on_error;\n",
              "      element.async = false;\n",
              "      element.src = url;\n",
              "      if (url in hashes) {\n",
              "        element.crossOrigin = \"anonymous\";\n",
              "        element.integrity = \"sha384-\" + hashes[url];\n",
              "      }\n",
              "      console.debug(\"Bokeh: injecting script tag for BokehJS library: \", url);\n",
              "      document.head.appendChild(element);\n",
              "    }\n",
              "  };\n",
              "\n",
              "  function inject_raw_css(css) {\n",
              "    const element = document.createElement(\"style\");\n",
              "    element.appendChild(document.createTextNode(css));\n",
              "    document.body.appendChild(element);\n",
              "  }\n",
              "\n",
              "  \n",
              "  var js_urls = [\"https://cdn.bokeh.org/bokeh/release/bokeh-2.1.1.min.js\", \"https://cdn.bokeh.org/bokeh/release/bokeh-widgets-2.1.1.min.js\", \"https://cdn.bokeh.org/bokeh/release/bokeh-tables-2.1.1.min.js\", \"https://cdn.bokeh.org/bokeh/release/bokeh-gl-2.1.1.min.js\"];\n",
              "  var css_urls = [];\n",
              "  \n",
              "\n",
              "  var inline_js = [\n",
              "    function(Bokeh) {\n",
              "      Bokeh.set_log_level(\"info\");\n",
              "    },\n",
              "    function(Bokeh) {\n",
              "    \n",
              "    \n",
              "    }\n",
              "  ];\n",
              "\n",
              "  function run_inline_js() {\n",
              "    \n",
              "    if (root.Bokeh !== undefined || force === true) {\n",
              "      \n",
              "    for (var i = 0; i < inline_js.length; i++) {\n",
              "      inline_js[i].call(root, root.Bokeh);\n",
              "    }\n",
              "    } else if (Date.now() < root._bokeh_timeout) {\n",
              "      setTimeout(run_inline_js, 100);\n",
              "    } else if (!root._bokeh_failed_load) {\n",
              "      console.log(\"Bokeh: BokehJS failed to load within specified timeout.\");\n",
              "      root._bokeh_failed_load = true;\n",
              "    } else if (force !== true) {\n",
              "      var cell = $(document.getElementById(null)).parents('.cell').data().cell;\n",
              "      cell.output_area.append_execute_result(NB_LOAD_WARNING)\n",
              "    }\n",
              "\n",
              "  }\n",
              "\n",
              "  if (root._bokeh_is_loading === 0) {\n",
              "    console.debug(\"Bokeh: BokehJS loaded, going straight to plotting\");\n",
              "    run_inline_js();\n",
              "  } else {\n",
              "    load_libs(css_urls, js_urls, function() {\n",
              "      console.debug(\"Bokeh: BokehJS plotting callback run at\", now());\n",
              "      run_inline_js();\n",
              "    });\n",
              "  }\n",
              "}(window));"
            ],
            "application/vnd.bokehjs_load.v0+json": "\n(function(root) {\n  function now() {\n    return new Date();\n  }\n\n  var force = true;\n\n  if (typeof root._bokeh_onload_callbacks === \"undefined\" || force === true) {\n    root._bokeh_onload_callbacks = [];\n    root._bokeh_is_loading = undefined;\n  }\n\n  \n\n  \n  if (typeof (root._bokeh_timeout) === \"undefined\" || force === true) {\n    root._bokeh_timeout = Date.now() + 5000;\n    root._bokeh_failed_load = false;\n  }\n\n  var NB_LOAD_WARNING = {'data': {'text/html':\n     \"<div style='background-color: #fdd'>\\n\"+\n     \"<p>\\n\"+\n     \"BokehJS does not appear to have successfully loaded. If loading BokehJS from CDN, this \\n\"+\n     \"may be due to a slow or bad network connection. Possible fixes:\\n\"+\n     \"</p>\\n\"+\n     \"<ul>\\n\"+\n     \"<li>re-rerun `output_notebook()` to attempt to load from CDN again, or</li>\\n\"+\n     \"<li>use INLINE resources instead, as so:</li>\\n\"+\n     \"</ul>\\n\"+\n     \"<code>\\n\"+\n     \"from bokeh.resources import INLINE\\n\"+\n     \"output_notebook(resources=INLINE)\\n\"+\n     \"</code>\\n\"+\n     \"</div>\"}};\n\n  function display_loaded() {\n    var el = document.getElementById(null);\n    if (el != null) {\n      el.textContent = \"BokehJS is loading...\";\n    }\n    if (root.Bokeh !== undefined) {\n      if (el != null) {\n        el.textContent = \"BokehJS \" + root.Bokeh.version + \" successfully loaded.\";\n      }\n    } else if (Date.now() < root._bokeh_timeout) {\n      setTimeout(display_loaded, 100)\n    }\n  }\n\n\n  function run_callbacks() {\n    try {\n      root._bokeh_onload_callbacks.forEach(function(callback) {\n        if (callback != null)\n          callback();\n      });\n    } finally {\n      delete root._bokeh_onload_callbacks\n    }\n    console.debug(\"Bokeh: all callbacks have finished\");\n  }\n\n  function load_libs(css_urls, js_urls, callback) {\n    if (css_urls == null) css_urls = [];\n    if (js_urls == null) js_urls = [];\n\n    root._bokeh_onload_callbacks.push(callback);\n    if (root._bokeh_is_loading > 0) {\n      console.debug(\"Bokeh: BokehJS is being loaded, scheduling callback at\", now());\n      return null;\n    }\n    if (js_urls == null || js_urls.length === 0) {\n      run_callbacks();\n      return null;\n    }\n    console.debug(\"Bokeh: BokehJS not loaded, scheduling load and callback at\", now());\n    root._bokeh_is_loading = css_urls.length + js_urls.length;\n\n    function on_load() {\n      root._bokeh_is_loading--;\n      if (root._bokeh_is_loading === 0) {\n        console.debug(\"Bokeh: all BokehJS libraries/stylesheets loaded\");\n        run_callbacks()\n      }\n    }\n\n    function on_error() {\n      console.error(\"failed to load \" + url);\n    }\n\n    for (var i = 0; i < css_urls.length; i++) {\n      var url = css_urls[i];\n      const element = document.createElement(\"link\");\n      element.onload = on_load;\n      element.onerror = on_error;\n      element.rel = \"stylesheet\";\n      element.type = \"text/css\";\n      element.href = url;\n      console.debug(\"Bokeh: injecting link tag for BokehJS stylesheet: \", url);\n      document.body.appendChild(element);\n    }\n\n    const hashes = {\"https://cdn.bokeh.org/bokeh/release/bokeh-2.1.1.min.js\": \"kLr4fYcqcSpbuI95brIH3vnnYCquzzSxHPU6XGQCIkQRGJwhg0StNbj1eegrHs12\", \"https://cdn.bokeh.org/bokeh/release/bokeh-widgets-2.1.1.min.js\": \"xIGPmVtaOm+z0BqfSOMn4lOR6ciex448GIKG4eE61LsAvmGj48XcMQZtKcE/UXZe\", \"https://cdn.bokeh.org/bokeh/release/bokeh-tables-2.1.1.min.js\": \"Dc9u1wF/0zApGIWoBbH77iWEHtdmkuYWG839Uzmv8y8yBLXebjO9ZnERsde5Ln/P\", \"https://cdn.bokeh.org/bokeh/release/bokeh-gl-2.1.1.min.js\": \"cT9JaBz7GiRXdENrJLZNSC6eMNF3nh3fa5fTF51Svp+ukxPdwcU5kGXGPBgDCa2j\"};\n\n    for (var i = 0; i < js_urls.length; i++) {\n      var url = js_urls[i];\n      var element = document.createElement('script');\n      element.onload = on_load;\n      element.onerror = on_error;\n      element.async = false;\n      element.src = url;\n      if (url in hashes) {\n        element.crossOrigin = \"anonymous\";\n        element.integrity = \"sha384-\" + hashes[url];\n      }\n      console.debug(\"Bokeh: injecting script tag for BokehJS library: \", url);\n      document.head.appendChild(element);\n    }\n  };\n\n  function inject_raw_css(css) {\n    const element = document.createElement(\"style\");\n    element.appendChild(document.createTextNode(css));\n    document.body.appendChild(element);\n  }\n\n  \n  var js_urls = [\"https://cdn.bokeh.org/bokeh/release/bokeh-2.1.1.min.js\", \"https://cdn.bokeh.org/bokeh/release/bokeh-widgets-2.1.1.min.js\", \"https://cdn.bokeh.org/bokeh/release/bokeh-tables-2.1.1.min.js\", \"https://cdn.bokeh.org/bokeh/release/bokeh-gl-2.1.1.min.js\"];\n  var css_urls = [];\n  \n\n  var inline_js = [\n    function(Bokeh) {\n      Bokeh.set_log_level(\"info\");\n    },\n    function(Bokeh) {\n    \n    \n    }\n  ];\n\n  function run_inline_js() {\n    \n    if (root.Bokeh !== undefined || force === true) {\n      \n    for (var i = 0; i < inline_js.length; i++) {\n      inline_js[i].call(root, root.Bokeh);\n    }\n    } else if (Date.now() < root._bokeh_timeout) {\n      setTimeout(run_inline_js, 100);\n    } else if (!root._bokeh_failed_load) {\n      console.log(\"Bokeh: BokehJS failed to load within specified timeout.\");\n      root._bokeh_failed_load = true;\n    } else if (force !== true) {\n      var cell = $(document.getElementById(null)).parents('.cell').data().cell;\n      cell.output_area.append_execute_result(NB_LOAD_WARNING)\n    }\n\n  }\n\n  if (root._bokeh_is_loading === 0) {\n    console.debug(\"Bokeh: BokehJS loaded, going straight to plotting\");\n    run_inline_js();\n  } else {\n    load_libs(css_urls, js_urls, function() {\n      console.debug(\"Bokeh: BokehJS plotting callback run at\", now());\n      run_inline_js();\n    });\n  }\n}(window));"
          },
          "metadata": {
            "tags": []
          }
        },
        {
          "output_type": "display_data",
          "data": {
            "text/html": [
              "\n",
              "\n",
              "\n",
              "\n",
              "\n",
              "\n",
              "  <div class=\"bk-root\" id=\"1b8991a3-0c39-4f21-a111-651fa193c4df\" data-root-id=\"1223\"></div>\n"
            ]
          },
          "metadata": {
            "tags": []
          }
        },
        {
          "output_type": "display_data",
          "data": {
            "application/javascript": [
              "(function(root) {\n",
              "  function embed_document(root) {\n",
              "    \n",
              "  var docs_json = {\"3e19b2c9-8398-45ce-ac6f-2194e2cfb213\":{\"roots\":{\"references\":[{\"attributes\":{\"below\":[{\"id\":\"1232\"}],\"center\":[{\"id\":\"1235\"},{\"id\":\"1239\"}],\"left\":[{\"id\":\"1236\"}],\"plot_height\":400,\"renderers\":[{\"id\":\"1257\"}],\"title\":{\"id\":\"1279\"},\"toolbar\":{\"id\":\"1247\"},\"x_range\":{\"id\":\"1224\"},\"x_scale\":{\"id\":\"1228\"},\"y_range\":{\"id\":\"1226\"},\"y_scale\":{\"id\":\"1230\"}},\"id\":\"1223\",\"subtype\":\"Figure\",\"type\":\"Plot\"},{\"attributes\":{},\"id\":\"1243\",\"type\":\"SaveTool\"},{\"attributes\":{\"overlay\":{\"id\":\"1246\"}},\"id\":\"1242\",\"type\":\"BoxZoomTool\"},{\"attributes\":{\"fill_alpha\":{\"value\":0.25},\"fill_color\":{\"field\":\"color\"},\"line_alpha\":{\"value\":0.25},\"line_color\":{\"field\":\"color\"},\"size\":{\"units\":\"screen\",\"value\":10},\"x\":{\"field\":\"x\"},\"y\":{\"field\":\"y\"}},\"id\":\"1255\",\"type\":\"Scatter\"},{\"attributes\":{\"bottom_units\":\"screen\",\"fill_alpha\":0.5,\"fill_color\":\"lightgrey\",\"left_units\":\"screen\",\"level\":\"overlay\",\"line_alpha\":1.0,\"line_color\":\"black\",\"line_dash\":[4,4],\"line_width\":2,\"right_units\":\"screen\",\"top_units\":\"screen\"},\"id\":\"1246\",\"type\":\"BoxAnnotation\"},{\"attributes\":{},\"id\":\"1224\",\"type\":\"DataRange1d\"},{\"attributes\":{},\"id\":\"1233\",\"type\":\"BasicTicker\"},{\"attributes\":{\"source\":{\"id\":\"1222\"}},\"id\":\"1258\",\"type\":\"CDSView\"},{\"attributes\":{\"data_source\":{\"id\":\"1222\"},\"glyph\":{\"id\":\"1255\"},\"hover_glyph\":null,\"muted_glyph\":null,\"nonselection_glyph\":{\"id\":\"1256\"},\"selection_glyph\":null,\"view\":{\"id\":\"1258\"}},\"id\":\"1257\",\"type\":\"GlyphRenderer\"},{\"attributes\":{\"callback\":null,\"tooltips\":[[\"token\",\"@token\"]]},\"id\":\"1259\",\"type\":\"HoverTool\"},{\"attributes\":{\"formatter\":{\"id\":\"1281\"},\"ticker\":{\"id\":\"1233\"}},\"id\":\"1232\",\"type\":\"LinearAxis\"},{\"attributes\":{},\"id\":\"1226\",\"type\":\"DataRange1d\"},{\"attributes\":{},\"id\":\"1286\",\"type\":\"UnionRenderers\"},{\"attributes\":{\"formatter\":{\"id\":\"1283\"},\"ticker\":{\"id\":\"1237\"}},\"id\":\"1236\",\"type\":\"LinearAxis\"},{\"attributes\":{},\"id\":\"1244\",\"type\":\"ResetTool\"},{\"attributes\":{\"fill_alpha\":{\"value\":0.1},\"fill_color\":{\"field\":\"color\"},\"line_alpha\":{\"value\":0.1},\"line_color\":{\"field\":\"color\"},\"size\":{\"units\":\"screen\",\"value\":10},\"x\":{\"field\":\"x\"},\"y\":{\"field\":\"y\"}},\"id\":\"1256\",\"type\":\"Scatter\"},{\"attributes\":{},\"id\":\"1281\",\"type\":\"BasicTickFormatter\"},{\"attributes\":{},\"id\":\"1237\",\"type\":\"BasicTicker\"},{\"attributes\":{},\"id\":\"1285\",\"type\":\"Selection\"},{\"attributes\":{\"active_drag\":\"auto\",\"active_inspect\":\"auto\",\"active_multi\":null,\"active_scroll\":{\"id\":\"1241\"},\"active_tap\":\"auto\",\"tools\":[{\"id\":\"1240\"},{\"id\":\"1241\"},{\"id\":\"1242\"},{\"id\":\"1243\"},{\"id\":\"1244\"},{\"id\":\"1245\"},{\"id\":\"1259\"}]},\"id\":\"1247\",\"type\":\"Toolbar\"},{\"attributes\":{},\"id\":\"1283\",\"type\":\"BasicTickFormatter\"},{\"attributes\":{},\"id\":\"1228\",\"type\":\"LinearScale\"},{\"attributes\":{},\"id\":\"1245\",\"type\":\"HelpTool\"},{\"attributes\":{},\"id\":\"1230\",\"type\":\"LinearScale\"},{\"attributes\":{\"text\":\"\"},\"id\":\"1279\",\"type\":\"Title\"},{\"attributes\":{\"data\":{\"color\":[\"blue\",\"blue\",\"blue\",\"blue\",\"blue\",\"blue\",\"blue\",\"blue\",\"blue\",\"blue\",\"blue\",\"blue\",\"blue\",\"blue\",\"blue\",\"blue\",\"blue\",\"blue\",\"blue\",\"blue\",\"blue\",\"blue\",\"blue\",\"blue\",\"blue\",\"blue\",\"blue\",\"blue\",\"blue\",\"blue\",\"blue\",\"blue\",\"blue\",\"blue\",\"blue\",\"blue\",\"blue\",\"blue\",\"blue\",\"blue\",\"blue\",\"blue\",\"blue\",\"blue\",\"blue\",\"blue\",\"blue\",\"blue\",\"blue\",\"blue\",\"blue\",\"blue\",\"blue\",\"blue\",\"blue\",\"blue\",\"blue\",\"blue\",\"blue\",\"blue\",\"blue\",\"blue\",\"blue\",\"blue\",\"blue\",\"blue\",\"blue\",\"blue\",\"blue\",\"blue\",\"blue\",\"blue\",\"blue\",\"blue\",\"blue\",\"blue\",\"blue\",\"blue\",\"blue\",\"blue\",\"blue\",\"blue\",\"blue\",\"blue\",\"blue\",\"blue\",\"blue\",\"blue\",\"blue\",\"blue\",\"blue\",\"blue\",\"blue\",\"blue\",\"blue\",\"blue\",\"blue\",\"blue\",\"blue\",\"blue\",\"blue\",\"blue\",\"blue\",\"blue\",\"blue\",\"blue\",\"blue\",\"blue\",\"blue\",\"blue\",\"blue\",\"blue\",\"blue\",\"blue\",\"blue\",\"blue\",\"blue\",\"blue\",\"blue\",\"blue\",\"blue\",\"blue\",\"blue\",\"blue\",\"blue\",\"blue\",\"blue\",\"blue\",\"blue\",\"blue\",\"blue\",\"blue\",\"blue\",\"blue\",\"blue\",\"blue\",\"blue\",\"blue\",\"blue\",\"blue\",\"blue\",\"blue\",\"blue\",\"blue\",\"blue\",\"blue\",\"blue\",\"blue\",\"blue\",\"blue\",\"blue\",\"blue\",\"blue\",\"blue\",\"blue\",\"blue\",\"blue\",\"blue\",\"blue\",\"blue\",\"blue\",\"blue\",\"blue\",\"blue\",\"blue\",\"blue\",\"blue\",\"blue\",\"blue\",\"blue\",\"blue\",\"blue\",\"blue\",\"blue\",\"blue\",\"blue\",\"blue\",\"blue\",\"blue\",\"blue\",\"blue\",\"blue\",\"blue\",\"blue\",\"blue\",\"blue\",\"blue\",\"blue\",\"blue\",\"blue\",\"blue\",\"blue\",\"blue\",\"blue\",\"blue\",\"blue\",\"blue\",\"blue\",\"blue\",\"blue\",\"blue\",\"blue\",\"blue\",\"blue\",\"blue\",\"blue\",\"blue\",\"blue\",\"blue\",\"blue\",\"blue\",\"blue\",\"blue\",\"blue\",\"blue\",\"blue\",\"blue\",\"blue\",\"blue\",\"blue\",\"blue\",\"blue\",\"blue\",\"blue\",\"blue\",\"blue\",\"blue\",\"blue\",\"blue\",\"blue\",\"blue\",\"blue\",\"blue\",\"blue\",\"blue\",\"blue\",\"blue\",\"blue\",\"blue\",\"blue\",\"blue\",\"blue\",\"blue\",\"blue\",\"blue\",\"blue\",\"blue\",\"blue\",\"blue\",\"blue\",\"blue\",\"blue\",\"blue\",\"blue\",\"blue\",\"blue\",\"blue\",\"blue\",\"blue\",\"blue\",\"blue\",\"blue\",\"blue\",\"blue\",\"blue\",\"blue\",\"blue\",\"blue\",\"blue\",\"blue\",\"blue\",\"blue\",\"blue\",\"blue\",\"blue\",\"blue\",\"blue\",\"blue\",\"blue\",\"blue\",\"blue\",\"blue\",\"blue\",\"blue\",\"blue\",\"blue\",\"blue\",\"blue\",\"blue\",\"blue\",\"blue\",\"blue\",\"blue\",\"blue\",\"blue\",\"blue\",\"blue\",\"blue\",\"blue\",\"blue\",\"blue\",\"blue\",\"blue\",\"blue\",\"blue\",\"blue\",\"blue\",\"blue\",\"blue\",\"blue\",\"blue\",\"blue\",\"blue\",\"blue\",\"blue\",\"blue\",\"blue\",\"blue\",\"blue\",\"blue\",\"blue\",\"blue\",\"blue\",\"blue\",\"blue\",\"blue\",\"blue\",\"blue\",\"blue\",\"blue\",\"blue\",\"blue\",\"blue\",\"blue\",\"blue\",\"blue\",\"blue\",\"blue\",\"blue\",\"blue\",\"blue\",\"blue\",\"blue\",\"blue\",\"blue\",\"blue\",\"blue\",\"blue\",\"blue\",\"blue\",\"blue\",\"blue\",\"blue\",\"blue\",\"blue\",\"blue\",\"blue\",\"blue\",\"blue\",\"blue\",\"blue\",\"blue\",\"blue\",\"blue\",\"blue\",\"blue\",\"blue\",\"blue\",\"blue\",\"blue\",\"blue\",\"blue\",\"blue\",\"blue\",\"blue\",\"blue\",\"blue\",\"blue\",\"blue\",\"blue\",\"blue\",\"blue\",\"blue\",\"blue\",\"blue\",\"blue\",\"blue\",\"blue\",\"blue\",\"blue\",\"blue\",\"blue\",\"blue\",\"blue\",\"blue\",\"blue\",\"blue\",\"blue\",\"blue\",\"blue\",\"blue\",\"blue\",\"blue\",\"blue\",\"blue\",\"blue\",\"blue\",\"blue\",\"blue\",\"blue\",\"blue\",\"blue\",\"blue\",\"blue\",\"blue\",\"blue\",\"blue\",\"blue\",\"blue\",\"blue\",\"blue\",\"blue\",\"blue\",\"blue\",\"blue\",\"blue\",\"blue\",\"blue\",\"blue\",\"blue\",\"blue\",\"blue\",\"blue\",\"blue\",\"blue\",\"blue\",\"blue\",\"blue\",\"blue\",\"blue\",\"blue\",\"blue\",\"blue\",\"blue\",\"blue\",\"blue\",\"blue\",\"blue\",\"blue\",\"blue\",\"blue\",\"blue\",\"blue\",\"blue\",\"blue\",\"blue\",\"blue\",\"blue\",\"blue\",\"blue\",\"blue\",\"blue\",\"blue\",\"blue\",\"blue\",\"blue\",\"blue\",\"blue\",\"blue\",\"blue\",\"blue\",\"blue\",\"blue\",\"blue\",\"blue\",\"blue\",\"blue\",\"blue\",\"blue\",\"blue\",\"blue\",\"blue\",\"blue\",\"blue\",\"blue\",\"blue\",\"blue\",\"blue\",\"blue\",\"blue\",\"blue\",\"blue\",\"blue\",\"blue\",\"blue\",\"blue\",\"blue\",\"blue\",\"blue\",\"blue\",\"blue\",\"blue\",\"blue\",\"blue\",\"blue\",\"blue\",\"blue\",\"blue\",\"blue\",\"blue\",\"blue\",\"blue\",\"blue\",\"blue\",\"blue\",\"blue\",\"blue\",\"blue\",\"blue\",\"blue\",\"blue\",\"blue\",\"blue\",\"blue\",\"blue\",\"blue\",\"blue\",\"blue\",\"blue\",\"blue\",\"blue\",\"blue\",\"blue\",\"blue\",\"blue\",\"blue\",\"blue\",\"blue\",\"blue\",\"blue\",\"blue\",\"blue\",\"blue\",\"blue\",\"blue\",\"blue\",\"blue\",\"blue\",\"blue\",\"blue\",\"blue\",\"blue\",\"blue\",\"blue\",\"blue\",\"blue\",\"blue\",\"blue\",\"blue\",\"blue\",\"blue\",\"blue\",\"blue\",\"blue\",\"blue\",\"blue\",\"blue\",\"blue\",\"blue\",\"blue\",\"blue\",\"blue\",\"blue\",\"blue\",\"blue\",\"blue\",\"blue\",\"blue\",\"blue\",\"blue\",\"blue\",\"blue\",\"blue\",\"blue\",\"blue\",\"blue\",\"blue\",\"blue\",\"blue\",\"blue\",\"blue\",\"blue\",\"blue\",\"blue\",\"blue\",\"blue\",\"blue\",\"blue\",\"blue\",\"blue\",\"blue\",\"blue\",\"blue\",\"blue\",\"blue\",\"blue\",\"blue\",\"blue\",\"blue\",\"blue\",\"blue\",\"blue\",\"blue\",\"blue\",\"blue\",\"blue\",\"blue\",\"blue\",\"blue\",\"blue\",\"blue\",\"blue\",\"blue\",\"blue\",\"blue\",\"blue\",\"blue\",\"blue\",\"blue\",\"blue\",\"blue\",\"blue\",\"blue\",\"blue\",\"blue\",\"blue\",\"blue\",\"blue\",\"blue\",\"blue\",\"blue\",\"blue\",\"blue\",\"blue\",\"blue\",\"blue\",\"blue\",\"blue\",\"blue\",\"blue\",\"blue\",\"blue\",\"blue\",\"blue\",\"blue\",\"blue\",\"blue\",\"blue\",\"blue\",\"blue\",\"blue\",\"blue\",\"blue\",\"blue\",\"blue\",\"blue\",\"blue\",\"blue\",\"blue\",\"blue\",\"blue\",\"blue\",\"blue\",\"blue\",\"blue\",\"blue\",\"blue\",\"blue\",\"blue\",\"blue\",\"blue\",\"blue\",\"blue\",\"blue\",\"blue\",\"blue\",\"blue\",\"blue\",\"blue\",\"blue\",\"blue\",\"blue\",\"blue\",\"blue\",\"blue\",\"blue\",\"blue\",\"blue\",\"blue\",\"blue\",\"blue\",\"blue\",\"blue\",\"blue\",\"blue\",\"blue\",\"blue\",\"blue\",\"blue\",\"blue\",\"blue\",\"blue\",\"blue\",\"blue\",\"blue\",\"blue\",\"blue\",\"blue\",\"blue\",\"blue\",\"blue\",\"blue\",\"blue\",\"blue\",\"blue\",\"blue\",\"blue\",\"blue\",\"blue\",\"blue\",\"blue\",\"blue\",\"blue\",\"blue\",\"blue\",\"blue\",\"blue\",\"blue\",\"blue\",\"blue\",\"blue\",\"blue\",\"blue\",\"blue\",\"blue\",\"blue\",\"blue\",\"blue\",\"blue\",\"blue\",\"blue\",\"blue\",\"blue\",\"blue\",\"blue\",\"blue\",\"blue\",\"blue\",\"blue\",\"blue\",\"blue\",\"blue\",\"blue\",\"blue\",\"blue\",\"blue\",\"blue\",\"blue\",\"blue\",\"blue\",\"blue\",\"blue\",\"blue\",\"blue\",\"blue\",\"blue\",\"blue\",\"blue\",\"blue\",\"blue\",\"blue\",\"blue\",\"blue\",\"blue\",\"blue\",\"blue\",\"blue\",\"blue\",\"blue\",\"blue\",\"blue\",\"blue\",\"blue\",\"blue\",\"blue\",\"blue\",\"blue\",\"blue\",\"blue\",\"blue\",\"blue\",\"blue\",\"blue\",\"blue\",\"blue\",\"blue\",\"blue\",\"blue\",\"blue\",\"blue\",\"blue\",\"blue\",\"blue\",\"blue\",\"blue\",\"blue\",\"blue\",\"blue\",\"blue\",\"blue\",\"blue\",\"blue\",\"blue\",\"blue\",\"blue\",\"blue\",\"blue\",\"blue\",\"blue\",\"blue\",\"blue\",\"blue\",\"blue\",\"blue\",\"blue\",\"blue\",\"blue\",\"blue\",\"blue\",\"blue\",\"blue\",\"blue\",\"blue\",\"blue\",\"blue\",\"blue\",\"blue\",\"blue\",\"blue\",\"blue\",\"blue\",\"blue\",\"blue\",\"blue\",\"blue\",\"blue\",\"blue\",\"blue\",\"blue\",\"blue\",\"blue\",\"blue\",\"blue\",\"blue\",\"blue\",\"blue\",\"blue\",\"blue\",\"blue\",\"blue\",\"blue\",\"blue\",\"blue\",\"blue\",\"blue\",\"blue\",\"blue\",\"blue\",\"blue\",\"blue\",\"blue\",\"blue\",\"blue\",\"blue\",\"blue\",\"blue\",\"blue\",\"blue\",\"blue\",\"blue\",\"blue\",\"blue\",\"blue\",\"blue\",\"blue\",\"blue\",\"blue\",\"blue\",\"blue\",\"blue\",\"blue\",\"blue\",\"blue\",\"blue\",\"blue\",\"blue\",\"blue\",\"blue\",\"blue\",\"blue\",\"blue\",\"blue\",\"blue\",\"blue\",\"blue\",\"blue\",\"blue\",\"blue\",\"blue\",\"blue\",\"blue\",\"blue\",\"blue\",\"blue\",\"blue\",\"blue\",\"blue\",\"blue\",\"blue\",\"blue\",\"blue\",\"blue\",\"blue\",\"blue\",\"blue\",\"blue\",\"blue\",\"blue\",\"blue\",\"blue\",\"blue\",\"blue\",\"blue\",\"blue\",\"blue\",\"blue\",\"blue\",\"blue\",\"blue\",\"blue\",\"blue\",\"blue\",\"blue\",\"blue\",\"blue\",\"blue\",\"blue\",\"blue\",\"blue\",\"blue\",\"blue\",\"blue\",\"blue\",\"blue\",\"blue\",\"blue\",\"blue\",\"blue\",\"blue\",\"blue\",\"blue\",\"blue\",\"blue\",\"blue\",\"blue\",\"blue\",\"blue\",\"blue\",\"blue\",\"blue\",\"blue\",\"blue\",\"blue\",\"blue\",\"blue\",\"blue\",\"blue\",\"blue\",\"blue\",\"blue\",\"blue\",\"blue\",\"blue\",\"blue\",\"blue\",\"blue\",\"blue\",\"blue\",\"blue\",\"blue\"],\"token\":[\"<user>\",\".\",\":\",\"rt\",\",\",\"<repeat>\",\"<hashtag>\",\"<number>\",\"<url>\",\"!\",\"i\",\"a\",\"\\\"\",\"the\",\"?\",\"you\",\"to\",\"(\",\"<allcaps>\",\"<elong>\",\")\",\"me\",\"de\",\"<smile>\",\"\\uff01\",\"que\",\"and\",\"\\u3002\",\"-\",\"my\",\"no\",\"\\u3001\",\"is\",\"it\",\"\\u2026\",\"in\",\"n\",\"for\",\"/\",\"of\",\"la\",\"'s\",\"*\",\"do\",\"n't\",\"that\",\"on\",\"y\",\"'\",\"e\",\"o\",\"u\",\"en\",\"this\",\"el\",\"so\",\"be\",\"'m\",\"with\",\"just\",\">\",\"your\",\"^\",\"like\",\"have\",\"te\",\"at\",\"\\uff1f\",\"love\",\"se\",\"are\",\"<\",\"m\",\"r\",\"if\",\"all\",\"b\",\"\\u30fb\",\"not\",\"but\",\"we\",\"es\",\"ya\",\"&\",\"follow\",\"up\",\"what\",\"get\",\"lol\",\"un\",\"\\u2665\",\"lo\",\"when\",\"was\",\"\\u201c\",\"\\u201d\",\"one\",\"por\",\"si\",\"out\",\"_\",\"mi\",\"can\",\"<sadface>\",\"\\u0645\\u0646\",\"\\u2661\",\"\\u00b4\",\"he\",\"con\",\"they\",\"now\",\"go\",\"\\u060c\",\"para\",\"los\",\"know\",\"haha\",\"good\",\"tu\",\"back\",\"~\",\"about\",\"new\",\";\",\"as\",\"day\",\"how\",\"who\",\"will\",\"want\",\"people\",\"yo\",\"eu\",\"from\",\"di\",\"time\",\"<heart>\",\"s\",\"aku\",\"da\",\"'re\",\"<lolface>\",\"una\",\"got\",\"las\",\"more\",\"x\",\"she\",\"today\",\"\\uff08\",\">>\",\"k\",\"by\",\"or\",\"\\u0641\\u064a\",\"\\uff65\",\"too\",\"le\",\"\\u00e9\",\"|\",\"[\",\"\\uff09\",\"]\",\"see\",\"why\",\"yg\",\"ca\",\"como\",\"her\",\"\\u2014\",\"q\",\"need\",\"an\",\"na\",\"\\u7b11\",\"there\",\"\\u03c9\",\"happy\",\"im\",\"mas\",\"je\",\"life\",\"really\",\"make\",\"yang\",\"shit\",\"think\",\"t\",\"\\u2764\",\"n\\u00e3o\",\"never\",\"some\",\"\\uff5e\",\"oh\",\"\\u2605\",\"did\",\"would\",\"del\",\"`\",\"d\",\"please\",\"via\",\"much\",\"fuck\",\"al\",\"dia\",\"$\",\"\\u0648\",\"right\",\"best\",\"c\",\"going\",\"\\u0627\\u0644\\u0644\\u0647\",\"pero\",\"only\",\"has\",\"\\u266a\",\"'ll\",\"twitter\",\"=\",\"hahaha\",\"its\",\"nn\",\"\\uff40\",\"\\u00bf\",\"am\",\"say\",\"<neutralface>\",\"them\",\"here\",\"\\u0644\\u0627\",\"off\",\"still\",\"dan\",\"+\",\"night\",\"w\",\"ada\",\"someone\",\"even\",\"then\",\"\\u2606\",\"ni\",\"come\",\"com\",\"always\",\"man\",\"'ve\",\"been\",\"his\",\"itu\",\"\\u0639\\u0644\\u0649\",\"-_-\",\"\\u263a\",\"over\",\"um\",\"\\u0645\\u0627\",\"hate\",\"girl\",\"ai\",\"had\",\"pra\",\"todo\",\"mais\",\"feel\",\"let\",\"ini\",\"because\",\"\\uff9f\",\"thanks\",\"ah\",\"way\",\"ever\",\"look\",\"tweet\",\"followers\",\"should\",\"our\",\"xd\",\"aja\",\"esta\",\"school\",\"him\",\"ser\",\"take\",\"than\",\"video\",\"em\",\"last\",\"wanna\",\"does\",\"us\",\"miss\",\"l\",\"ga\",\"better\",\"well\",\"could\",\"\\u25bd\",\"%\",\"apa\",\"cuando\",\"team\",\"\\u2714\",\"@\",\"ok\",\"\\u061f\",\"\\u2022\",\"vida\",\"quiero\",\"les\",\"being\",\"real\",\"down\",\"kamu\",\"everyone\",\"gonna\",\"live\",\"tonight\",\"yes\",\"work\",\"ass\",\"retweet\",\"nada\",\"sama\",\"first\",\"<<\",\"photo\",\"tomorrow\",\"where\",\"god\",\"son\",\"ke\",\"ta\",\"f\",\"home\",\"lagi\",\"thank\",\"birthday\",\"\\u2588\",\"ha\",\"great\",\"lmao\",\"omg\",\"morning\",\"m\\u00e1s\",\"mau\",\"baby\",\"dont\",\"\\uff61\",\"their\",\"p\",\"things\",\"game\",\"pas\",\"bad\",\"year\",\"yeah\",\"su\",\"bitch\",\"\\u0432\",\"stop\",\"hoy\",\"something\",\"meu\",\"tak\",\"gak\",\"world\",\"amor\",\"h\",\"\\\\\",\"ver\",\"\\uff1b\",\"porque\",\"give\",\"these\",\"\\u0627\\u0644\\u0644\\u0647\\u0645\",\"were\",\"hay\",\"sleep\",\"gue\",\"every\",\"friends\",\"uma\",\"tell\",\"amo\",\"vou\",\"bien\",\"\\u00a1\",\"again\",\"\\uff3e\",\"\\uff0f\",\"done\",\"after\",\"todos\",\"girls\",\"guys\",\"getting\",\"big\",\"wait\",\"justin\",\"eh\",\"\\u2192\",\"kan\",\"kita\",\"jajaja\",\"wish\",\"said\",\"fucking\",\"show\",\"thing\",\"next\",\"voc\\u00ea\",\"nos\",\"little\",\"tengo\",\"keep\",\"person\",\"''\",\"\\u2200\",\"hope\",\"\\u0643\\u0644\",\"hey\",\"bisa\",\"free\",\"made\",\"foto\",\"va\",\"everything\",\"iya\",\"nigga\",\"eso\",\"et\",\"watch\",\"music\",\"week\",\"talk\",\"ne\",\"solo\",\"gente\",\"udah\",\"\\uff1a\",\"--\",\"\\uff3c\",\"mejor\",\"facebook\",\"ma\",\"v\",\"phone\",\"most\",\"same\",\"okay\",\"ik\",\"before\",\"minha\",\"days\",\"g\",\"ti\",\"damn\",\"nice\",\"voy\",\"vai\",\"call\",\"long\",\"tapi\",\"http\",\"sin\",\"nunca\",\"doing\",\"other\",\"find\",\"il\",\"sa\",\"sorry\",\"nya\",\"orang\",\"\\u00b0\",\"hard\",\"mean\",\"die\",\"\\u0627\\u0644\\u0644\\u064a\",\"tem\",\"soy\",\"este\",\"kalo\",\"s\\u00f3\",\"th\",\"win\",\"nothing\",\"into\",\"face\",\"cute\",\"'d\",\"gracias\",\"lah\",\"\\u0438\",\"any\",\"play\",\"\\u2190\",\"ko\",\"text\",\"\\u2323\",\"estoy\",\"tau\",\"ur\",\"buat\",\"#\",\"cause\",\"\\u044f\",\"put\",\"kau\",\"siempre\",\"juga\",\"casa\",\"\\u0623\\u0646\",\"help\",\"start\",\"feliz\",\"old\",\"ir\",\"very\",\"care\",\"bir\",\"makes\",\"song\",\"check\",\"watching\",\"ahora\",\"jadi\",\"os\",\"may\",\"friend\",\"beautiful\",\"heart\",\"ka\",\"vc\",\"mundo\",\"\\u043d\\u0430\",\"sure\",\"tan\",\"pretty\",\"aqui\",\"\\u043d\\u0435\",\"house\",\"\\u0631\\u062a\\u0648\\u064a\\u062a\",\"\\u064a\\u0627\",\"ja\",\"true\",\"muy\",\"away\",\"already\",\"actually\",\"believe\",\"try\",\"many\",\"ma\\u00f1ana\",\"mis\",\"lu\",\"those\",\"hot\",\"qu\\u00e9\",\"mal\",\"\\u0639\\u0646\",\"though\",\"ask\",\"amazing\",\"bed\",\"}\",\"two\",\"mom\",\"d\\u00eda\",\"ve\",\"dari\",\"gameinsight\",\"stay\",\"fun\",\"around\",\"van\",\"cont\",\"ready\",\"money\",\"bu\",\"funny\",\"cool\",\"hair\",\"\\u00e0\",\"tho\",\"{\",\"wo\",\"hi\",\"name\",\"tiene\",\"hahahaha\",\"pa\",\"algo\",\"gotta\",\"\\u0648\\u0644\\u0627\",\"boy\",\"another\",\"c'est\",\"hari\",\"jajajaja\",\"having\",\"cara\",\"jaja\",\"dm\",\"looking\",\"top\",\"android\",\"dah\",\"wow\",\"\\u2591\",\"eres\",\"ben\",\"must\",\"news\",\"met\",\"est\\u00e1\",\"nih\",\"family\",\"black\",\"thought\",\"nak\",\"super\",\"end\",\"hace\",\"remember\",\"ama\",\"party\",\"cant\",\"vamos\",\"anything\",\"anyone\",\"\\u0641\\u0648\\u0644\\u0648\",\"perfect\",\"guy\",\"vez\",\"christmas\",\"dos\",\"bueno\",\"nao\",\"years\",\"vote\",\"dormir\",\"bro\",\"else\",\"quien\",\"untuk\",\"jangan\",\"myself\",\"head\",\"mind\",\"gua\",\"talking\",\"while\",\"dat\",\"food\",\"\\u0434\",\"coming\",\"wkwk\",\"trying\",\"saya\",\"mucho\",\"without\",\"wrong\",\"\\u2019s\",\"baru\",\"__\",\"hehe\",\"hacer\",\"lot\",\"followed\",\"crazy\",\"hell\",\"feeling\",\"des\",\"kok\",\"j\",\"stats\",\"j'\",\"\\u0627\\u0646\",\"tweets\",\"non\",\"cosas\",\"era\",\"high\",\"niggas\",\"change\",\"movie\",\"xx\",\"mad\",\"sih\",\"sometimes\",\"deh\",\"allah\",\"through\",\"pour\",\"ela\",\"soon\",\"gone\",\"playing\",\"smile\",\"bukan\",\"tv\",\"fans\",\"hasta\",\"akan\",\"y'\",\"looks\",\"isso\",\"\\u270c\",\"tired\",\"boys\",\"might\",\"dong\",\"lg\",\"use\",\"maybe\",\"until\",\"menos\",\"own\",\"dengan\",\"eat\",\"ou\",\"weekend\",\"\\u02d8\",\"class\",\"ele\",\"harry\",\"iphone\",\"friday\",\"single\",\"ff\",\"awesome\",\"bout\",\"muito\",\"hoje\",\"\\u00ac\",\"dios\",\"such\",\"estar\",\"j\\u00e1\",\"quando\",\"esa\",\"making\",\"\\u2501\",\"times\",\"lmfao\",\"gw\",\"moment\",\"yet\",\"aw\",\"smh\",\"banget\",\"masih\",\"qui\",\"quem\",\"\\u2013\",\"leave\",\"du\",\"une\",\"guess\",\"hit\",\"\\u0441\",\"pm\",\"since\",\"pues\",\"est\",\"job\",\"\\uff89\",\"mana\",\"bom\",\"siapa\",\"suka\",\"bieber\",\"mention\",\"lebih\",\"favorite\",\"bitches\",\"forever\",\"\\u0644\\u064a\",\"final\",\"read\",\"alguien\",\"open\",\"yourself\",\"ese\",\"che\",\"sex\",\"yaa\",\"car\",\"direction\",\"tidak\",\"seu\",\"gets\",\"left\",\"re\",\"jam\",\"enough\",\"\\u0625\\u0644\\u0627\",\"once\",\"\\u2019\",\"part\",\"cada\",\"\\u5b9a\\u671f\",\"\\u0644\\u0643\",\"een\",\"seen\",\"kak\",\"as\\u00ed\",\"nem\",\"\\u0639\\u0645\\u0644\",\"white\",\"told\",\"says\",\"esto\",\"sad\",\"mo\",\"fue\",\"yah\",\"summer\",\"\\u0647\",\"\\u2b55\",\"\\u00bb\",\"thats\",\"\\u0645\\u0639\",\"posted\",\"wants\",\"agora\",\"together\",\"fan\",\"men\",\"hear\",\"full\",\"\\u2600\",\"sigo\",\"pq\",\"dulu\",\"plus\",\"foi\",\"tudo\",\"\\u0647\\u0648\",\"ill\",\"\\u3042\",\"thinking\",\"wtf\",\"pagi\",\"mama\",\"kalau\",\"hati\",\"sexy\",\"sayang\",\"baik\",\"semua\",\"hola\",\"went\",\"vos\",\"tanto\",\"finally\",\"fb\",\"sea\",\"stupid\",\"tus\",\"seriously\",\"hora\",\"min\",\"pic\",\"estas\",\"turn\",\"hours\",\"excited\",\"nah\",\"buy\",\"saying\",\"mah\",\"break\",\"needs\",\"ce\",\"room\",\"choice\",\"far\",\"dead\",\"quero\",\"saw\",\"kids\",\"lil\",\"whole\",\"puede\",\"fall\",\"sus\",\"lost\",\"asi\",\"word\",\"\\u2639\",\"also\",\"\\u0631\\u064a\\u062a\\u0648\\u064a\\u062a\",\"probably\",\"everybody\",\"tarde\",\"run\",\"sei\",\"follback\",\"forget\",\"sweet\",\"welcome\",\"selamat\",\"\\uff3f\",\"sur\",\"place\",\"gusta\",\"sabe\",\"androidgames\",\"tp\",\"tiempo\",\"\\u0628\\u0633\",\"sou\",\"tuh\",\"vs\",\"eyes\",\"\\u0627\\u0646\\u0627\",\"picture\",\"das\",\"meet\",\"anak\",\"persona\",\"essa\",\"bored\",\"following\",\"nadie\",\"nobody\",\"dice\",\"alone\",\"sick\",\"red\",\"city\",\"cinta\",\"\\u6708\",\"linda\",\"dream\",\"story\",\"km\",\"het\",\"waiting\",\"^_^\",\"mine\",\"\\u0447\\u0442\\u043e\",\"reason\",\"kk\",\"\\u0644\\u0648\",\"online\",\"fast\",\"udh\",\"wanted\",\"op\",\"others\",\"gay\",\"n\\u2019t\",\"used\",\"sem\",\"understand\",\"moi\",\"sm\",\"aint\",\"donde\",\"bem\",\"which\",\"ng\",\"followback\",\"punya\",\"late\",\"anda\",\"tidur\",\"puedo\",\"early\",\"nd\",\"personas\",\"banyak\",\"\\u2705\",\"\\u278a\",\"trust\",\"noche\",\"tl\",\"\\uff1e\",\"\\u00ab\",\"af\",\"move\",\"pro\",\"bring\",\"ku\",\"called\",\"relationship\",\"idk\",\"hurt\",\"st\",\"pernah\",\"pessoas\",\"hello\",\"uno\",\"unfollowers\",\"cry\"],\"x\":{\"__ndarray__\":\"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\",\"dtype\":\"float64\",\"order\":\"little\",\"shape\":[1000]},\"y\":{\"__ndarray__\":\"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\",\"dtype\":\"float64\",\"order\":\"little\",\"shape\":[1000]}},\"selected\":{\"id\":\"1285\"},\"selection_policy\":{\"id\":\"1286\"}},\"id\":\"1222\",\"type\":\"ColumnDataSource\"},{\"attributes\":{\"axis\":{\"id\":\"1236\"},\"dimension\":1,\"ticker\":null},\"id\":\"1239\",\"type\":\"Grid\"},{\"attributes\":{\"axis\":{\"id\":\"1232\"},\"ticker\":null},\"id\":\"1235\",\"type\":\"Grid\"},{\"attributes\":{},\"id\":\"1241\",\"type\":\"WheelZoomTool\"},{\"attributes\":{},\"id\":\"1240\",\"type\":\"PanTool\"}],\"root_ids\":[\"1223\"]},\"title\":\"Bokeh Application\",\"version\":\"2.1.1\"}};\n",
              "  var render_items = [{\"docid\":\"3e19b2c9-8398-45ce-ac6f-2194e2cfb213\",\"root_ids\":[\"1223\"],\"roots\":{\"1223\":\"1b8991a3-0c39-4f21-a111-651fa193c4df\"}}];\n",
              "  root.Bokeh.embed.embed_items_notebook(docs_json, render_items);\n",
              "\n",
              "  }\n",
              "  if (root.Bokeh !== undefined) {\n",
              "    embed_document(root);\n",
              "  } else {\n",
              "    var attempts = 0;\n",
              "    var timer = setInterval(function(root) {\n",
              "      if (root.Bokeh !== undefined) {\n",
              "        clearInterval(timer);\n",
              "        embed_document(root);\n",
              "      } else {\n",
              "        attempts++;\n",
              "        if (attempts > 100) {\n",
              "          clearInterval(timer);\n",
              "          console.log(\"Bokeh: ERROR: Unable to run BokehJS code because BokehJS library is missing\");\n",
              "        }\n",
              "      }\n",
              "    }, 10, root)\n",
              "  }\n",
              "})(window);"
            ],
            "application/vnd.bokehjs_exec.v0+json": ""
          },
          "metadata": {
            "tags": [],
            "application/vnd.bokehjs_exec.v0+json": {
              "id": "1223"
            }
          }
        },
        {
          "output_type": "execute_result",
          "data": {
            "text/html": [
              "<div style=\"display: table;\"><div style=\"display: table-row;\"><div style=\"display: table-cell;\"><b title=\"bokeh.plotting.figure.Figure\">Figure</b>(</div><div style=\"display: table-cell;\">id&nbsp;=&nbsp;'1223', <span id=\"1343\" style=\"cursor: pointer;\">&hellip;)</span></div></div><div class=\"1342\" style=\"display: none;\"><div style=\"display: table-cell;\"></div><div style=\"display: table-cell;\">above&nbsp;=&nbsp;[],</div></div><div class=\"1342\" style=\"display: none;\"><div style=\"display: table-cell;\"></div><div style=\"display: table-cell;\">align&nbsp;=&nbsp;'start',</div></div><div class=\"1342\" style=\"display: none;\"><div style=\"display: table-cell;\"></div><div style=\"display: table-cell;\">aspect_ratio&nbsp;=&nbsp;None,</div></div><div class=\"1342\" style=\"display: none;\"><div style=\"display: table-cell;\"></div><div style=\"display: table-cell;\">aspect_scale&nbsp;=&nbsp;1,</div></div><div class=\"1342\" style=\"display: none;\"><div style=\"display: table-cell;\"></div><div style=\"display: table-cell;\">background&nbsp;=&nbsp;None,</div></div><div class=\"1342\" style=\"display: none;\"><div style=\"display: table-cell;\"></div><div style=\"display: table-cell;\">background_fill_alpha&nbsp;=&nbsp;1.0,</div></div><div class=\"1342\" style=\"display: none;\"><div style=\"display: table-cell;\"></div><div style=\"display: table-cell;\">background_fill_color&nbsp;=&nbsp;'#ffffff',</div></div><div class=\"1342\" style=\"display: none;\"><div style=\"display: table-cell;\"></div><div style=\"display: table-cell;\">below&nbsp;=&nbsp;[LinearAxis(id='1232', ...)],</div></div><div class=\"1342\" style=\"display: none;\"><div style=\"display: table-cell;\"></div><div style=\"display: table-cell;\">border_fill_alpha&nbsp;=&nbsp;1.0,</div></div><div class=\"1342\" style=\"display: none;\"><div style=\"display: table-cell;\"></div><div style=\"display: table-cell;\">border_fill_color&nbsp;=&nbsp;'#ffffff',</div></div><div class=\"1342\" style=\"display: none;\"><div style=\"display: table-cell;\"></div><div style=\"display: table-cell;\">center&nbsp;=&nbsp;[Grid(id='1235', ...), Grid(id='1239', ...)],</div></div><div class=\"1342\" style=\"display: none;\"><div style=\"display: table-cell;\"></div><div style=\"display: table-cell;\">css_classes&nbsp;=&nbsp;[],</div></div><div class=\"1342\" style=\"display: none;\"><div style=\"display: table-cell;\"></div><div style=\"display: table-cell;\">disabled&nbsp;=&nbsp;False,</div></div><div class=\"1342\" style=\"display: none;\"><div style=\"display: table-cell;\"></div><div style=\"display: table-cell;\">extra_x_ranges&nbsp;=&nbsp;{},</div></div><div class=\"1342\" style=\"display: none;\"><div style=\"display: table-cell;\"></div><div style=\"display: table-cell;\">extra_y_ranges&nbsp;=&nbsp;{},</div></div><div class=\"1342\" style=\"display: none;\"><div style=\"display: table-cell;\"></div><div style=\"display: table-cell;\">frame_height&nbsp;=&nbsp;None,</div></div><div class=\"1342\" style=\"display: none;\"><div style=\"display: table-cell;\"></div><div style=\"display: table-cell;\">frame_width&nbsp;=&nbsp;None,</div></div><div class=\"1342\" style=\"display: none;\"><div style=\"display: table-cell;\"></div><div style=\"display: table-cell;\">height&nbsp;=&nbsp;None,</div></div><div class=\"1342\" style=\"display: none;\"><div style=\"display: table-cell;\"></div><div style=\"display: table-cell;\">height_policy&nbsp;=&nbsp;'auto',</div></div><div class=\"1342\" style=\"display: none;\"><div style=\"display: table-cell;\"></div><div style=\"display: table-cell;\">hidpi&nbsp;=&nbsp;True,</div></div><div class=\"1342\" style=\"display: none;\"><div style=\"display: table-cell;\"></div><div style=\"display: table-cell;\">js_event_callbacks&nbsp;=&nbsp;{},</div></div><div class=\"1342\" style=\"display: none;\"><div style=\"display: table-cell;\"></div><div style=\"display: table-cell;\">js_property_callbacks&nbsp;=&nbsp;{},</div></div><div class=\"1342\" style=\"display: none;\"><div style=\"display: table-cell;\"></div><div style=\"display: table-cell;\">left&nbsp;=&nbsp;[LinearAxis(id='1236', ...)],</div></div><div class=\"1342\" style=\"display: none;\"><div style=\"display: table-cell;\"></div><div style=\"display: table-cell;\">lod_factor&nbsp;=&nbsp;10,</div></div><div class=\"1342\" style=\"display: none;\"><div style=\"display: table-cell;\"></div><div style=\"display: table-cell;\">lod_interval&nbsp;=&nbsp;300,</div></div><div class=\"1342\" style=\"display: none;\"><div style=\"display: table-cell;\"></div><div style=\"display: table-cell;\">lod_threshold&nbsp;=&nbsp;2000,</div></div><div class=\"1342\" style=\"display: none;\"><div style=\"display: table-cell;\"></div><div style=\"display: table-cell;\">lod_timeout&nbsp;=&nbsp;500,</div></div><div class=\"1342\" style=\"display: none;\"><div style=\"display: table-cell;\"></div><div style=\"display: table-cell;\">margin&nbsp;=&nbsp;(0, 0, 0, 0),</div></div><div class=\"1342\" style=\"display: none;\"><div style=\"display: table-cell;\"></div><div style=\"display: table-cell;\">match_aspect&nbsp;=&nbsp;False,</div></div><div class=\"1342\" style=\"display: none;\"><div style=\"display: table-cell;\"></div><div style=\"display: table-cell;\">max_height&nbsp;=&nbsp;None,</div></div><div class=\"1342\" style=\"display: none;\"><div style=\"display: table-cell;\"></div><div style=\"display: table-cell;\">max_width&nbsp;=&nbsp;None,</div></div><div class=\"1342\" style=\"display: none;\"><div style=\"display: table-cell;\"></div><div style=\"display: table-cell;\">min_border&nbsp;=&nbsp;5,</div></div><div class=\"1342\" style=\"display: none;\"><div style=\"display: table-cell;\"></div><div style=\"display: table-cell;\">min_border_bottom&nbsp;=&nbsp;None,</div></div><div class=\"1342\" style=\"display: none;\"><div style=\"display: table-cell;\"></div><div style=\"display: table-cell;\">min_border_left&nbsp;=&nbsp;None,</div></div><div class=\"1342\" style=\"display: none;\"><div style=\"display: table-cell;\"></div><div style=\"display: table-cell;\">min_border_right&nbsp;=&nbsp;None,</div></div><div class=\"1342\" style=\"display: none;\"><div style=\"display: table-cell;\"></div><div style=\"display: table-cell;\">min_border_top&nbsp;=&nbsp;None,</div></div><div class=\"1342\" style=\"display: none;\"><div style=\"display: table-cell;\"></div><div style=\"display: table-cell;\">min_height&nbsp;=&nbsp;None,</div></div><div class=\"1342\" style=\"display: none;\"><div style=\"display: table-cell;\"></div><div style=\"display: table-cell;\">min_width&nbsp;=&nbsp;None,</div></div><div class=\"1342\" style=\"display: none;\"><div style=\"display: table-cell;\"></div><div style=\"display: table-cell;\">name&nbsp;=&nbsp;None,</div></div><div class=\"1342\" style=\"display: none;\"><div style=\"display: table-cell;\"></div><div style=\"display: table-cell;\">outline_line_alpha&nbsp;=&nbsp;1.0,</div></div><div class=\"1342\" style=\"display: none;\"><div style=\"display: table-cell;\"></div><div style=\"display: table-cell;\">outline_line_cap&nbsp;=&nbsp;'butt',</div></div><div class=\"1342\" style=\"display: none;\"><div style=\"display: table-cell;\"></div><div style=\"display: table-cell;\">outline_line_color&nbsp;=&nbsp;'#e5e5e5',</div></div><div class=\"1342\" style=\"display: none;\"><div style=\"display: table-cell;\"></div><div style=\"display: table-cell;\">outline_line_dash&nbsp;=&nbsp;[],</div></div><div class=\"1342\" style=\"display: none;\"><div style=\"display: table-cell;\"></div><div style=\"display: table-cell;\">outline_line_dash_offset&nbsp;=&nbsp;0,</div></div><div class=\"1342\" style=\"display: none;\"><div style=\"display: table-cell;\"></div><div style=\"display: table-cell;\">outline_line_join&nbsp;=&nbsp;'bevel',</div></div><div class=\"1342\" style=\"display: none;\"><div style=\"display: table-cell;\"></div><div style=\"display: table-cell;\">outline_line_width&nbsp;=&nbsp;1,</div></div><div class=\"1342\" style=\"display: none;\"><div style=\"display: table-cell;\"></div><div style=\"display: table-cell;\">output_backend&nbsp;=&nbsp;'canvas',</div></div><div class=\"1342\" style=\"display: none;\"><div style=\"display: table-cell;\"></div><div style=\"display: table-cell;\">plot_height&nbsp;=&nbsp;400,</div></div><div class=\"1342\" style=\"display: none;\"><div style=\"display: table-cell;\"></div><div style=\"display: table-cell;\">plot_width&nbsp;=&nbsp;600,</div></div><div class=\"1342\" style=\"display: none;\"><div style=\"display: table-cell;\"></div><div style=\"display: table-cell;\">renderers&nbsp;=&nbsp;[GlyphRenderer(id='1257', ...)],</div></div><div class=\"1342\" style=\"display: none;\"><div style=\"display: table-cell;\"></div><div style=\"display: table-cell;\">reset_policy&nbsp;=&nbsp;'standard',</div></div><div class=\"1342\" style=\"display: none;\"><div style=\"display: table-cell;\"></div><div style=\"display: table-cell;\">right&nbsp;=&nbsp;[],</div></div><div class=\"1342\" style=\"display: none;\"><div style=\"display: table-cell;\"></div><div style=\"display: table-cell;\">sizing_mode&nbsp;=&nbsp;None,</div></div><div class=\"1342\" style=\"display: none;\"><div style=\"display: table-cell;\"></div><div style=\"display: table-cell;\">subscribed_events&nbsp;=&nbsp;[],</div></div><div class=\"1342\" style=\"display: none;\"><div style=\"display: table-cell;\"></div><div style=\"display: table-cell;\">tags&nbsp;=&nbsp;[],</div></div><div class=\"1342\" style=\"display: none;\"><div style=\"display: table-cell;\"></div><div style=\"display: table-cell;\">title&nbsp;=&nbsp;Title(id='1279', ...),</div></div><div class=\"1342\" style=\"display: none;\"><div style=\"display: table-cell;\"></div><div style=\"display: table-cell;\">title_location&nbsp;=&nbsp;'above',</div></div><div class=\"1342\" style=\"display: none;\"><div style=\"display: table-cell;\"></div><div style=\"display: table-cell;\">toolbar&nbsp;=&nbsp;Toolbar(id='1247', ...),</div></div><div class=\"1342\" style=\"display: none;\"><div style=\"display: table-cell;\"></div><div style=\"display: table-cell;\">toolbar_location&nbsp;=&nbsp;'right',</div></div><div class=\"1342\" style=\"display: none;\"><div style=\"display: table-cell;\"></div><div style=\"display: table-cell;\">toolbar_sticky&nbsp;=&nbsp;True,</div></div><div class=\"1342\" style=\"display: none;\"><div style=\"display: table-cell;\"></div><div style=\"display: table-cell;\">visible&nbsp;=&nbsp;True,</div></div><div class=\"1342\" style=\"display: none;\"><div style=\"display: table-cell;\"></div><div style=\"display: table-cell;\">width&nbsp;=&nbsp;None,</div></div><div class=\"1342\" style=\"display: none;\"><div style=\"display: table-cell;\"></div><div style=\"display: table-cell;\">width_policy&nbsp;=&nbsp;'auto',</div></div><div class=\"1342\" style=\"display: none;\"><div style=\"display: table-cell;\"></div><div style=\"display: table-cell;\">x_range&nbsp;=&nbsp;DataRange1d(id='1224', ...),</div></div><div class=\"1342\" style=\"display: none;\"><div style=\"display: table-cell;\"></div><div style=\"display: table-cell;\">x_scale&nbsp;=&nbsp;LinearScale(id='1228', ...),</div></div><div class=\"1342\" style=\"display: none;\"><div style=\"display: table-cell;\"></div><div style=\"display: table-cell;\">y_range&nbsp;=&nbsp;DataRange1d(id='1226', ...),</div></div><div class=\"1342\" style=\"display: none;\"><div style=\"display: table-cell;\"></div><div style=\"display: table-cell;\">y_scale&nbsp;=&nbsp;LinearScale(id='1230', ...))</div></div></div>\n",
              "<script>\n",
              "(function() {\n",
              "  var expanded = false;\n",
              "  var ellipsis = document.getElementById(\"1343\");\n",
              "  ellipsis.addEventListener(\"click\", function() {\n",
              "    var rows = document.getElementsByClassName(\"1342\");\n",
              "    for (var i = 0; i < rows.length; i++) {\n",
              "      var el = rows[i];\n",
              "      el.style.display = expanded ? \"none\" : \"table-row\";\n",
              "    }\n",
              "    ellipsis.innerHTML = expanded ? \"&hellip;)\" : \"&lsaquo;&lsaquo;&lsaquo;\";\n",
              "    expanded = !expanded;\n",
              "  });\n",
              "})();\n",
              "</script>\n"
            ],
            "text/plain": [
              "Figure(id='1223', ...)"
            ]
          },
          "metadata": {
            "tags": []
          },
          "execution_count": 28
        }
      ]
    },
    {
      "cell_type": "markdown",
      "metadata": {
        "colab_type": "text",
        "id": "1OqXsYYnplnz"
      },
      "source": [
        "### Visualizing phrases\n",
        "\n",
        "Word embeddings can also be used to represent short phrases. The simplest way is to take __an average__ of vectors for all tokens in the phrase with some weights.\n",
        "\n",
        "This trick is useful to identify what data are you working with: find if there are any outliers, clusters or other artefacts.\n",
        "\n",
        "Let's try this new hammer on our data!\n"
      ]
    },
    {
      "cell_type": "code",
      "metadata": {
        "colab_type": "code",
        "id": "WhersBWmpln0",
        "colab": {}
      },
      "source": [
        "def get_phrase_embedding(phrase):\n",
        "    \"\"\"\n",
        "    Convert phrase to a vector by aggregating it's word embeddings. See description above.\n",
        "    \"\"\"\n",
        "    # 1. lowercase phrase\n",
        "    # 2. tokenize phrase\n",
        "    # 3. average word vectors for all words in tokenized phrase\n",
        "    # skip words that are not in model's vocabulary\n",
        "    # if all words are missing from vocabulary, return zeros\n",
        "    \n",
        "    vector = np.zeros([model.vector_size], dtype='float32')\n",
        "    phrase_tokenized = tokenizer.tokenize(phrase.lower())\n",
        "    phrase_vectors = [model[x] for x in phrase_tokenized if x in model.vocab.keys()]\n",
        "\n",
        "    if len(phrase_vectors) != 0:\n",
        "        vector = np.mean(phrase_vectors, axis=0)\n",
        "    \n",
        "    return vector\n",
        "        \n",
        "    "
      ],
      "execution_count": 29,
      "outputs": []
    },
    {
      "cell_type": "code",
      "metadata": {
        "colab_type": "code",
        "id": "DMXbHdyRpln8",
        "colab": {
          "base_uri": "https://localhost:8080/",
          "height": 119
        },
        "outputId": "d1179b7e-ac81-4aeb-bfb7-a115bc45888d"
      },
      "source": [
        "get_phrase_embedding(data[402687])"
      ],
      "execution_count": 30,
      "outputs": [
        {
          "output_type": "execute_result",
          "data": {
            "text/plain": [
              "array([-0.18204999,  0.30953574,  0.20861094,  0.07982156, -0.22565515,\n",
              "       -0.33001748,  1.2495784 ,  0.13134292, -0.33788875,  0.06196944,\n",
              "       -0.231793  ,  0.09389219, -4.9685497 , -0.23611419, -0.32609668,\n",
              "       -0.092073  ,  0.4407505 , -0.75413746, -0.5389092 , -0.184752  ,\n",
              "        0.07867809,  0.20018655, -0.16202375,  0.30375698, -0.41255665],\n",
              "      dtype=float32)"
            ]
          },
          "metadata": {
            "tags": []
          },
          "execution_count": 30
        }
      ]
    },
    {
      "cell_type": "code",
      "metadata": {
        "colab_type": "code",
        "id": "aasH4Z_gploB",
        "colab": {}
      },
      "source": [
        "vector = get_phrase_embedding(\"I'm very sure. This never happened to me before...\")"
      ],
      "execution_count": 31,
      "outputs": []
    },
    {
      "cell_type": "code",
      "metadata": {
        "colab_type": "code",
        "id": "4nQUtXeKploF",
        "colab": {}
      },
      "source": [
        "# let's only consider ~5k phrases for a first run.\n",
        "chosen_phrases = data[::len(data) // 1000]\n",
        "\n",
        "# compute vectors for chosen phrases and turn them to numpy array\n",
        "phrase_vectors = np.asarray([get_phrase_embedding(x) for x in chosen_phrases]) # YOUR CODE"
      ],
      "execution_count": 32,
      "outputs": []
    },
    {
      "cell_type": "code",
      "metadata": {
        "colab_type": "code",
        "id": "o3ajcvpPploI",
        "colab": {}
      },
      "source": [
        "assert isinstance(phrase_vectors, np.ndarray) and np.isfinite(phrase_vectors).all()\n",
        "assert phrase_vectors.shape == (len(chosen_phrases), model.vector_size)"
      ],
      "execution_count": 33,
      "outputs": []
    },
    {
      "cell_type": "code",
      "metadata": {
        "colab_type": "code",
        "id": "keAMy5fJploL",
        "colab": {}
      },
      "source": [
        "# map vectors into 2d space with pca, tsne or your other method of choice\n",
        "# don't forget to normalize\n",
        "\n",
        "phrase_vectors_2d = umap.UMAP(n_neighbors=3).fit_transform(phrase_vectors) # преобразовываем\n",
        "\n",
        "# phrase_vectors_2d = (phrase_vectors_2d - phrase_vectors_2d.mean(axis=0)) / phrase_vectors_2d.std(axis=0)"
      ],
      "execution_count": 34,
      "outputs": []
    },
    {
      "cell_type": "code",
      "metadata": {
        "colab_type": "code",
        "id": "QOEdkepsploS",
        "colab": {
          "base_uri": "https://localhost:8080/",
          "height": 434
        },
        "outputId": "b39d4bd8-0376-418a-e8cf-1f34416a303a"
      },
      "source": [
        "draw_vectors(phrase_vectors_2d[:, 0], phrase_vectors_2d[:, 1],\n",
        "             phrase=[phrase[:50] for phrase in chosen_phrases],\n",
        "             radius=20,)"
      ],
      "execution_count": 35,
      "outputs": [
        {
          "output_type": "display_data",
          "data": {
            "application/javascript": [
              "\n",
              "(function(root) {\n",
              "  function now() {\n",
              "    return new Date();\n",
              "  }\n",
              "\n",
              "  var force = true;\n",
              "\n",
              "  if (typeof root._bokeh_onload_callbacks === \"undefined\" || force === true) {\n",
              "    root._bokeh_onload_callbacks = [];\n",
              "    root._bokeh_is_loading = undefined;\n",
              "  }\n",
              "\n",
              "  var JS_MIME_TYPE = 'application/javascript';\n",
              "  var HTML_MIME_TYPE = 'text/html';\n",
              "  var EXEC_MIME_TYPE = 'application/vnd.bokehjs_exec.v0+json';\n",
              "  var CLASS_NAME = 'output_bokeh rendered_html';\n",
              "\n",
              "  /**\n",
              "   * Render data to the DOM node\n",
              "   */\n",
              "  function render(props, node) {\n",
              "    var script = document.createElement(\"script\");\n",
              "    node.appendChild(script);\n",
              "  }\n",
              "\n",
              "  /**\n",
              "   * Handle when an output is cleared or removed\n",
              "   */\n",
              "  function handleClearOutput(event, handle) {\n",
              "    var cell = handle.cell;\n",
              "\n",
              "    var id = cell.output_area._bokeh_element_id;\n",
              "    var server_id = cell.output_area._bokeh_server_id;\n",
              "    // Clean up Bokeh references\n",
              "    if (id != null && id in Bokeh.index) {\n",
              "      Bokeh.index[id].model.document.clear();\n",
              "      delete Bokeh.index[id];\n",
              "    }\n",
              "\n",
              "    if (server_id !== undefined) {\n",
              "      // Clean up Bokeh references\n",
              "      var cmd = \"from bokeh.io.state import curstate; print(curstate().uuid_to_server['\" + server_id + \"'].get_sessions()[0].document.roots[0]._id)\";\n",
              "      cell.notebook.kernel.execute(cmd, {\n",
              "        iopub: {\n",
              "          output: function(msg) {\n",
              "            var id = msg.content.text.trim();\n",
              "            if (id in Bokeh.index) {\n",
              "              Bokeh.index[id].model.document.clear();\n",
              "              delete Bokeh.index[id];\n",
              "            }\n",
              "          }\n",
              "        }\n",
              "      });\n",
              "      // Destroy server and session\n",
              "      var cmd = \"import bokeh.io.notebook as ion; ion.destroy_server('\" + server_id + \"')\";\n",
              "      cell.notebook.kernel.execute(cmd);\n",
              "    }\n",
              "  }\n",
              "\n",
              "  /**\n",
              "   * Handle when a new output is added\n",
              "   */\n",
              "  function handleAddOutput(event, handle) {\n",
              "    var output_area = handle.output_area;\n",
              "    var output = handle.output;\n",
              "\n",
              "    // limit handleAddOutput to display_data with EXEC_MIME_TYPE content only\n",
              "    if ((output.output_type != \"display_data\") || (!output.data.hasOwnProperty(EXEC_MIME_TYPE))) {\n",
              "      return\n",
              "    }\n",
              "\n",
              "    var toinsert = output_area.element.find(\".\" + CLASS_NAME.split(' ')[0]);\n",
              "\n",
              "    if (output.metadata[EXEC_MIME_TYPE][\"id\"] !== undefined) {\n",
              "      toinsert[toinsert.length - 1].firstChild.textContent = output.data[JS_MIME_TYPE];\n",
              "      // store reference to embed id on output_area\n",
              "      output_area._bokeh_element_id = output.metadata[EXEC_MIME_TYPE][\"id\"];\n",
              "    }\n",
              "    if (output.metadata[EXEC_MIME_TYPE][\"server_id\"] !== undefined) {\n",
              "      var bk_div = document.createElement(\"div\");\n",
              "      bk_div.innerHTML = output.data[HTML_MIME_TYPE];\n",
              "      var script_attrs = bk_div.children[0].attributes;\n",
              "      for (var i = 0; i < script_attrs.length; i++) {\n",
              "        toinsert[toinsert.length - 1].firstChild.setAttribute(script_attrs[i].name, script_attrs[i].value);\n",
              "        toinsert[toinsert.length - 1].firstChild.textContent = bk_div.children[0].textContent\n",
              "      }\n",
              "      // store reference to server id on output_area\n",
              "      output_area._bokeh_server_id = output.metadata[EXEC_MIME_TYPE][\"server_id\"];\n",
              "    }\n",
              "  }\n",
              "\n",
              "  function register_renderer(events, OutputArea) {\n",
              "\n",
              "    function append_mime(data, metadata, element) {\n",
              "      // create a DOM node to render to\n",
              "      var toinsert = this.create_output_subarea(\n",
              "        metadata,\n",
              "        CLASS_NAME,\n",
              "        EXEC_MIME_TYPE\n",
              "      );\n",
              "      this.keyboard_manager.register_events(toinsert);\n",
              "      // Render to node\n",
              "      var props = {data: data, metadata: metadata[EXEC_MIME_TYPE]};\n",
              "      render(props, toinsert[toinsert.length - 1]);\n",
              "      element.append(toinsert);\n",
              "      return toinsert\n",
              "    }\n",
              "\n",
              "    /* Handle when an output is cleared or removed */\n",
              "    events.on('clear_output.CodeCell', handleClearOutput);\n",
              "    events.on('delete.Cell', handleClearOutput);\n",
              "\n",
              "    /* Handle when a new output is added */\n",
              "    events.on('output_added.OutputArea', handleAddOutput);\n",
              "\n",
              "    /**\n",
              "     * Register the mime type and append_mime function with output_area\n",
              "     */\n",
              "    OutputArea.prototype.register_mime_type(EXEC_MIME_TYPE, append_mime, {\n",
              "      /* Is output safe? */\n",
              "      safe: true,\n",
              "      /* Index of renderer in `output_area.display_order` */\n",
              "      index: 0\n",
              "    });\n",
              "  }\n",
              "\n",
              "  // register the mime type if in Jupyter Notebook environment and previously unregistered\n",
              "  if (root.Jupyter !== undefined) {\n",
              "    var events = require('base/js/events');\n",
              "    var OutputArea = require('notebook/js/outputarea').OutputArea;\n",
              "\n",
              "    if (OutputArea.prototype.mime_types().indexOf(EXEC_MIME_TYPE) == -1) {\n",
              "      register_renderer(events, OutputArea);\n",
              "    }\n",
              "  }\n",
              "\n",
              "  \n",
              "  if (typeof (root._bokeh_timeout) === \"undefined\" || force === true) {\n",
              "    root._bokeh_timeout = Date.now() + 5000;\n",
              "    root._bokeh_failed_load = false;\n",
              "  }\n",
              "\n",
              "  var NB_LOAD_WARNING = {'data': {'text/html':\n",
              "     \"<div style='background-color: #fdd'>\\n\"+\n",
              "     \"<p>\\n\"+\n",
              "     \"BokehJS does not appear to have successfully loaded. If loading BokehJS from CDN, this \\n\"+\n",
              "     \"may be due to a slow or bad network connection. Possible fixes:\\n\"+\n",
              "     \"</p>\\n\"+\n",
              "     \"<ul>\\n\"+\n",
              "     \"<li>re-rerun `output_notebook()` to attempt to load from CDN again, or</li>\\n\"+\n",
              "     \"<li>use INLINE resources instead, as so:</li>\\n\"+\n",
              "     \"</ul>\\n\"+\n",
              "     \"<code>\\n\"+\n",
              "     \"from bokeh.resources import INLINE\\n\"+\n",
              "     \"output_notebook(resources=INLINE)\\n\"+\n",
              "     \"</code>\\n\"+\n",
              "     \"</div>\"}};\n",
              "\n",
              "  function display_loaded() {\n",
              "    var el = document.getElementById(null);\n",
              "    if (el != null) {\n",
              "      el.textContent = \"BokehJS is loading...\";\n",
              "    }\n",
              "    if (root.Bokeh !== undefined) {\n",
              "      if (el != null) {\n",
              "        el.textContent = \"BokehJS \" + root.Bokeh.version + \" successfully loaded.\";\n",
              "      }\n",
              "    } else if (Date.now() < root._bokeh_timeout) {\n",
              "      setTimeout(display_loaded, 100)\n",
              "    }\n",
              "  }\n",
              "\n",
              "\n",
              "  function run_callbacks() {\n",
              "    try {\n",
              "      root._bokeh_onload_callbacks.forEach(function(callback) {\n",
              "        if (callback != null)\n",
              "          callback();\n",
              "      });\n",
              "    } finally {\n",
              "      delete root._bokeh_onload_callbacks\n",
              "    }\n",
              "    console.debug(\"Bokeh: all callbacks have finished\");\n",
              "  }\n",
              "\n",
              "  function load_libs(css_urls, js_urls, callback) {\n",
              "    if (css_urls == null) css_urls = [];\n",
              "    if (js_urls == null) js_urls = [];\n",
              "\n",
              "    root._bokeh_onload_callbacks.push(callback);\n",
              "    if (root._bokeh_is_loading > 0) {\n",
              "      console.debug(\"Bokeh: BokehJS is being loaded, scheduling callback at\", now());\n",
              "      return null;\n",
              "    }\n",
              "    if (js_urls == null || js_urls.length === 0) {\n",
              "      run_callbacks();\n",
              "      return null;\n",
              "    }\n",
              "    console.debug(\"Bokeh: BokehJS not loaded, scheduling load and callback at\", now());\n",
              "    root._bokeh_is_loading = css_urls.length + js_urls.length;\n",
              "\n",
              "    function on_load() {\n",
              "      root._bokeh_is_loading--;\n",
              "      if (root._bokeh_is_loading === 0) {\n",
              "        console.debug(\"Bokeh: all BokehJS libraries/stylesheets loaded\");\n",
              "        run_callbacks()\n",
              "      }\n",
              "    }\n",
              "\n",
              "    function on_error() {\n",
              "      console.error(\"failed to load \" + url);\n",
              "    }\n",
              "\n",
              "    for (var i = 0; i < css_urls.length; i++) {\n",
              "      var url = css_urls[i];\n",
              "      const element = document.createElement(\"link\");\n",
              "      element.onload = on_load;\n",
              "      element.onerror = on_error;\n",
              "      element.rel = \"stylesheet\";\n",
              "      element.type = \"text/css\";\n",
              "      element.href = url;\n",
              "      console.debug(\"Bokeh: injecting link tag for BokehJS stylesheet: \", url);\n",
              "      document.body.appendChild(element);\n",
              "    }\n",
              "\n",
              "    const hashes = {\"https://cdn.bokeh.org/bokeh/release/bokeh-2.1.1.min.js\": \"kLr4fYcqcSpbuI95brIH3vnnYCquzzSxHPU6XGQCIkQRGJwhg0StNbj1eegrHs12\", \"https://cdn.bokeh.org/bokeh/release/bokeh-widgets-2.1.1.min.js\": \"xIGPmVtaOm+z0BqfSOMn4lOR6ciex448GIKG4eE61LsAvmGj48XcMQZtKcE/UXZe\", \"https://cdn.bokeh.org/bokeh/release/bokeh-tables-2.1.1.min.js\": \"Dc9u1wF/0zApGIWoBbH77iWEHtdmkuYWG839Uzmv8y8yBLXebjO9ZnERsde5Ln/P\", \"https://cdn.bokeh.org/bokeh/release/bokeh-gl-2.1.1.min.js\": \"cT9JaBz7GiRXdENrJLZNSC6eMNF3nh3fa5fTF51Svp+ukxPdwcU5kGXGPBgDCa2j\"};\n",
              "\n",
              "    for (var i = 0; i < js_urls.length; i++) {\n",
              "      var url = js_urls[i];\n",
              "      var element = document.createElement('script');\n",
              "      element.onload = on_load;\n",
              "      element.onerror = on_error;\n",
              "      element.async = false;\n",
              "      element.src = url;\n",
              "      if (url in hashes) {\n",
              "        element.crossOrigin = \"anonymous\";\n",
              "        element.integrity = \"sha384-\" + hashes[url];\n",
              "      }\n",
              "      console.debug(\"Bokeh: injecting script tag for BokehJS library: \", url);\n",
              "      document.head.appendChild(element);\n",
              "    }\n",
              "  };\n",
              "\n",
              "  function inject_raw_css(css) {\n",
              "    const element = document.createElement(\"style\");\n",
              "    element.appendChild(document.createTextNode(css));\n",
              "    document.body.appendChild(element);\n",
              "  }\n",
              "\n",
              "  \n",
              "  var js_urls = [\"https://cdn.bokeh.org/bokeh/release/bokeh-2.1.1.min.js\", \"https://cdn.bokeh.org/bokeh/release/bokeh-widgets-2.1.1.min.js\", \"https://cdn.bokeh.org/bokeh/release/bokeh-tables-2.1.1.min.js\", \"https://cdn.bokeh.org/bokeh/release/bokeh-gl-2.1.1.min.js\"];\n",
              "  var css_urls = [];\n",
              "  \n",
              "\n",
              "  var inline_js = [\n",
              "    function(Bokeh) {\n",
              "      Bokeh.set_log_level(\"info\");\n",
              "    },\n",
              "    function(Bokeh) {\n",
              "    \n",
              "    \n",
              "    }\n",
              "  ];\n",
              "\n",
              "  function run_inline_js() {\n",
              "    \n",
              "    if (root.Bokeh !== undefined || force === true) {\n",
              "      \n",
              "    for (var i = 0; i < inline_js.length; i++) {\n",
              "      inline_js[i].call(root, root.Bokeh);\n",
              "    }\n",
              "    } else if (Date.now() < root._bokeh_timeout) {\n",
              "      setTimeout(run_inline_js, 100);\n",
              "    } else if (!root._bokeh_failed_load) {\n",
              "      console.log(\"Bokeh: BokehJS failed to load within specified timeout.\");\n",
              "      root._bokeh_failed_load = true;\n",
              "    } else if (force !== true) {\n",
              "      var cell = $(document.getElementById(null)).parents('.cell').data().cell;\n",
              "      cell.output_area.append_execute_result(NB_LOAD_WARNING)\n",
              "    }\n",
              "\n",
              "  }\n",
              "\n",
              "  if (root._bokeh_is_loading === 0) {\n",
              "    console.debug(\"Bokeh: BokehJS loaded, going straight to plotting\");\n",
              "    run_inline_js();\n",
              "  } else {\n",
              "    load_libs(css_urls, js_urls, function() {\n",
              "      console.debug(\"Bokeh: BokehJS plotting callback run at\", now());\n",
              "      run_inline_js();\n",
              "    });\n",
              "  }\n",
              "}(window));"
            ],
            "application/vnd.bokehjs_load.v0+json": "\n(function(root) {\n  function now() {\n    return new Date();\n  }\n\n  var force = true;\n\n  if (typeof root._bokeh_onload_callbacks === \"undefined\" || force === true) {\n    root._bokeh_onload_callbacks = [];\n    root._bokeh_is_loading = undefined;\n  }\n\n  \n\n  \n  if (typeof (root._bokeh_timeout) === \"undefined\" || force === true) {\n    root._bokeh_timeout = Date.now() + 5000;\n    root._bokeh_failed_load = false;\n  }\n\n  var NB_LOAD_WARNING = {'data': {'text/html':\n     \"<div style='background-color: #fdd'>\\n\"+\n     \"<p>\\n\"+\n     \"BokehJS does not appear to have successfully loaded. If loading BokehJS from CDN, this \\n\"+\n     \"may be due to a slow or bad network connection. Possible fixes:\\n\"+\n     \"</p>\\n\"+\n     \"<ul>\\n\"+\n     \"<li>re-rerun `output_notebook()` to attempt to load from CDN again, or</li>\\n\"+\n     \"<li>use INLINE resources instead, as so:</li>\\n\"+\n     \"</ul>\\n\"+\n     \"<code>\\n\"+\n     \"from bokeh.resources import INLINE\\n\"+\n     \"output_notebook(resources=INLINE)\\n\"+\n     \"</code>\\n\"+\n     \"</div>\"}};\n\n  function display_loaded() {\n    var el = document.getElementById(null);\n    if (el != null) {\n      el.textContent = \"BokehJS is loading...\";\n    }\n    if (root.Bokeh !== undefined) {\n      if (el != null) {\n        el.textContent = \"BokehJS \" + root.Bokeh.version + \" successfully loaded.\";\n      }\n    } else if (Date.now() < root._bokeh_timeout) {\n      setTimeout(display_loaded, 100)\n    }\n  }\n\n\n  function run_callbacks() {\n    try {\n      root._bokeh_onload_callbacks.forEach(function(callback) {\n        if (callback != null)\n          callback();\n      });\n    } finally {\n      delete root._bokeh_onload_callbacks\n    }\n    console.debug(\"Bokeh: all callbacks have finished\");\n  }\n\n  function load_libs(css_urls, js_urls, callback) {\n    if (css_urls == null) css_urls = [];\n    if (js_urls == null) js_urls = [];\n\n    root._bokeh_onload_callbacks.push(callback);\n    if (root._bokeh_is_loading > 0) {\n      console.debug(\"Bokeh: BokehJS is being loaded, scheduling callback at\", now());\n      return null;\n    }\n    if (js_urls == null || js_urls.length === 0) {\n      run_callbacks();\n      return null;\n    }\n    console.debug(\"Bokeh: BokehJS not loaded, scheduling load and callback at\", now());\n    root._bokeh_is_loading = css_urls.length + js_urls.length;\n\n    function on_load() {\n      root._bokeh_is_loading--;\n      if (root._bokeh_is_loading === 0) {\n        console.debug(\"Bokeh: all BokehJS libraries/stylesheets loaded\");\n        run_callbacks()\n      }\n    }\n\n    function on_error() {\n      console.error(\"failed to load \" + url);\n    }\n\n    for (var i = 0; i < css_urls.length; i++) {\n      var url = css_urls[i];\n      const element = document.createElement(\"link\");\n      element.onload = on_load;\n      element.onerror = on_error;\n      element.rel = \"stylesheet\";\n      element.type = \"text/css\";\n      element.href = url;\n      console.debug(\"Bokeh: injecting link tag for BokehJS stylesheet: \", url);\n      document.body.appendChild(element);\n    }\n\n    const hashes = {\"https://cdn.bokeh.org/bokeh/release/bokeh-2.1.1.min.js\": \"kLr4fYcqcSpbuI95brIH3vnnYCquzzSxHPU6XGQCIkQRGJwhg0StNbj1eegrHs12\", \"https://cdn.bokeh.org/bokeh/release/bokeh-widgets-2.1.1.min.js\": \"xIGPmVtaOm+z0BqfSOMn4lOR6ciex448GIKG4eE61LsAvmGj48XcMQZtKcE/UXZe\", \"https://cdn.bokeh.org/bokeh/release/bokeh-tables-2.1.1.min.js\": \"Dc9u1wF/0zApGIWoBbH77iWEHtdmkuYWG839Uzmv8y8yBLXebjO9ZnERsde5Ln/P\", \"https://cdn.bokeh.org/bokeh/release/bokeh-gl-2.1.1.min.js\": \"cT9JaBz7GiRXdENrJLZNSC6eMNF3nh3fa5fTF51Svp+ukxPdwcU5kGXGPBgDCa2j\"};\n\n    for (var i = 0; i < js_urls.length; i++) {\n      var url = js_urls[i];\n      var element = document.createElement('script');\n      element.onload = on_load;\n      element.onerror = on_error;\n      element.async = false;\n      element.src = url;\n      if (url in hashes) {\n        element.crossOrigin = \"anonymous\";\n        element.integrity = \"sha384-\" + hashes[url];\n      }\n      console.debug(\"Bokeh: injecting script tag for BokehJS library: \", url);\n      document.head.appendChild(element);\n    }\n  };\n\n  function inject_raw_css(css) {\n    const element = document.createElement(\"style\");\n    element.appendChild(document.createTextNode(css));\n    document.body.appendChild(element);\n  }\n\n  \n  var js_urls = [\"https://cdn.bokeh.org/bokeh/release/bokeh-2.1.1.min.js\", \"https://cdn.bokeh.org/bokeh/release/bokeh-widgets-2.1.1.min.js\", \"https://cdn.bokeh.org/bokeh/release/bokeh-tables-2.1.1.min.js\", \"https://cdn.bokeh.org/bokeh/release/bokeh-gl-2.1.1.min.js\"];\n  var css_urls = [];\n  \n\n  var inline_js = [\n    function(Bokeh) {\n      Bokeh.set_log_level(\"info\");\n    },\n    function(Bokeh) {\n    \n    \n    }\n  ];\n\n  function run_inline_js() {\n    \n    if (root.Bokeh !== undefined || force === true) {\n      \n    for (var i = 0; i < inline_js.length; i++) {\n      inline_js[i].call(root, root.Bokeh);\n    }\n    } else if (Date.now() < root._bokeh_timeout) {\n      setTimeout(run_inline_js, 100);\n    } else if (!root._bokeh_failed_load) {\n      console.log(\"Bokeh: BokehJS failed to load within specified timeout.\");\n      root._bokeh_failed_load = true;\n    } else if (force !== true) {\n      var cell = $(document.getElementById(null)).parents('.cell').data().cell;\n      cell.output_area.append_execute_result(NB_LOAD_WARNING)\n    }\n\n  }\n\n  if (root._bokeh_is_loading === 0) {\n    console.debug(\"Bokeh: BokehJS loaded, going straight to plotting\");\n    run_inline_js();\n  } else {\n    load_libs(css_urls, js_urls, function() {\n      console.debug(\"Bokeh: BokehJS plotting callback run at\", now());\n      run_inline_js();\n    });\n  }\n}(window));"
          },
          "metadata": {
            "tags": []
          }
        },
        {
          "output_type": "display_data",
          "data": {
            "text/html": [
              "\n",
              "\n",
              "\n",
              "\n",
              "\n",
              "\n",
              "  <div class=\"bk-root\" id=\"ae1f14e0-5292-4615-bcc3-16ffcc669046\" data-root-id=\"1347\"></div>\n"
            ]
          },
          "metadata": {
            "tags": []
          }
        },
        {
          "output_type": "display_data",
          "data": {
            "application/javascript": [
              "(function(root) {\n",
              "  function embed_document(root) {\n",
              "    \n",
              "  var docs_json = {\"981817fa-21ba-493b-9318-c19a80ddde2e\":{\"roots\":{\"references\":[{\"attributes\":{\"below\":[{\"id\":\"1356\"}],\"center\":[{\"id\":\"1359\"},{\"id\":\"1363\"}],\"left\":[{\"id\":\"1360\"}],\"plot_height\":400,\"renderers\":[{\"id\":\"1381\"}],\"title\":{\"id\":\"1412\"},\"toolbar\":{\"id\":\"1371\"},\"x_range\":{\"id\":\"1348\"},\"x_scale\":{\"id\":\"1352\"},\"y_range\":{\"id\":\"1350\"},\"y_scale\":{\"id\":\"1354\"}},\"id\":\"1347\",\"subtype\":\"Figure\",\"type\":\"Plot\"},{\"attributes\":{\"formatter\":{\"id\":\"1416\"},\"ticker\":{\"id\":\"1361\"}},\"id\":\"1360\",\"type\":\"LinearAxis\"},{\"attributes\":{\"source\":{\"id\":\"1346\"}},\"id\":\"1382\",\"type\":\"CDSView\"},{\"attributes\":{\"data_source\":{\"id\":\"1346\"},\"glyph\":{\"id\":\"1379\"},\"hover_glyph\":null,\"muted_glyph\":null,\"nonselection_glyph\":{\"id\":\"1380\"},\"selection_glyph\":null,\"view\":{\"id\":\"1382\"}},\"id\":\"1381\",\"type\":\"GlyphRenderer\"},{\"attributes\":{\"overlay\":{\"id\":\"1370\"}},\"id\":\"1366\",\"type\":\"BoxZoomTool\"},{\"attributes\":{\"active_drag\":\"auto\",\"active_inspect\":\"auto\",\"active_multi\":null,\"active_scroll\":{\"id\":\"1365\"},\"active_tap\":\"auto\",\"tools\":[{\"id\":\"1364\"},{\"id\":\"1365\"},{\"id\":\"1366\"},{\"id\":\"1367\"},{\"id\":\"1368\"},{\"id\":\"1369\"},{\"id\":\"1383\"}]},\"id\":\"1371\",\"type\":\"Toolbar\"},{\"attributes\":{},\"id\":\"1367\",\"type\":\"SaveTool\"},{\"attributes\":{},\"id\":\"1419\",\"type\":\"UnionRenderers\"},{\"attributes\":{\"bottom_units\":\"screen\",\"fill_alpha\":0.5,\"fill_color\":\"lightgrey\",\"left_units\":\"screen\",\"level\":\"overlay\",\"line_alpha\":1.0,\"line_color\":\"black\",\"line_dash\":[4,4],\"line_width\":2,\"right_units\":\"screen\",\"top_units\":\"screen\"},\"id\":\"1370\",\"type\":\"BoxAnnotation\"},{\"attributes\":{\"axis\":{\"id\":\"1356\"},\"ticker\":null},\"id\":\"1359\",\"type\":\"Grid\"},{\"attributes\":{},\"id\":\"1348\",\"type\":\"DataRange1d\"},{\"attributes\":{\"data\":{\"color\":[\"blue\",\"blue\",\"blue\",\"blue\",\"blue\",\"blue\",\"blue\",\"blue\",\"blue\",\"blue\",\"blue\",\"blue\",\"blue\",\"blue\",\"blue\",\"blue\",\"blue\",\"blue\",\"blue\",\"blue\",\"blue\",\"blue\",\"blue\",\"blue\",\"blue\",\"blue\",\"blue\",\"blue\",\"blue\",\"blue\",\"blue\",\"blue\",\"blue\",\"blue\",\"blue\",\"blue\",\"blue\",\"blue\",\"blue\",\"blue\",\"blue\",\"blue\",\"blue\",\"blue\",\"blue\",\"blue\",\"blue\",\"blue\",\"blue\",\"blue\",\"blue\",\"blue\",\"blue\",\"blue\",\"blue\",\"blue\",\"blue\",\"blue\",\"blue\",\"blue\",\"blue\",\"blue\",\"blue\",\"blue\",\"blue\",\"blue\",\"blue\",\"blue\",\"blue\",\"blue\",\"blue\",\"blue\",\"blue\",\"blue\",\"blue\",\"blue\",\"blue\",\"blue\",\"blue\",\"blue\",\"blue\",\"blue\",\"blue\",\"blue\",\"blue\",\"blue\",\"blue\",\"blue\",\"blue\",\"blue\",\"blue\",\"blue\",\"blue\",\"blue\",\"blue\",\"blue\",\"blue\",\"blue\",\"blue\",\"blue\",\"blue\",\"blue\",\"blue\",\"blue\",\"blue\",\"blue\",\"blue\",\"blue\",\"blue\",\"blue\",\"blue\",\"blue\",\"blue\",\"blue\",\"blue\",\"blue\",\"blue\",\"blue\",\"blue\",\"blue\",\"blue\",\"blue\",\"blue\",\"blue\",\"blue\",\"blue\",\"blue\",\"blue\",\"blue\",\"blue\",\"blue\",\"blue\",\"blue\",\"blue\",\"blue\",\"blue\",\"blue\",\"blue\",\"blue\",\"blue\",\"blue\",\"blue\",\"blue\",\"blue\",\"blue\",\"blue\",\"blue\",\"blue\",\"blue\",\"blue\",\"blue\",\"blue\",\"blue\",\"blue\",\"blue\",\"blue\",\"blue\",\"blue\",\"blue\",\"blue\",\"blue\",\"blue\",\"blue\",\"blue\",\"blue\",\"blue\",\"blue\",\"blue\",\"blue\",\"blue\",\"blue\",\"blue\",\"blue\",\"blue\",\"blue\",\"blue\",\"blue\",\"blue\",\"blue\",\"blue\",\"blue\",\"blue\",\"blue\",\"blue\",\"blue\",\"blue\",\"blue\",\"blue\",\"blue\",\"blue\",\"blue\",\"blue\",\"blue\",\"blue\",\"blue\",\"blue\",\"blue\",\"blue\",\"blue\",\"blue\",\"blue\",\"blue\",\"blue\",\"blue\",\"blue\",\"blue\",\"blue\",\"blue\",\"blue\",\"blue\",\"blue\",\"blue\",\"blue\",\"blue\",\"blue\",\"blue\",\"blue\",\"blue\",\"blue\",\"blue\",\"blue\",\"blue\",\"blue\",\"blue\",\"blue\",\"blue\",\"blue\",\"blue\",\"blue\",\"blue\",\"blue\",\"blue\",\"blue\",\"blue\",\"blue\",\"blue\",\"blue\",\"blue\",\"blue\",\"blue\",\"blue\",\"blue\",\"blue\",\"blue\",\"blue\",\"blue\",\"blue\",\"blue\",\"blue\",\"blue\",\"blue\",\"blue\",\"blue\",\"blue\",\"blue\",\"blue\",\"blue\",\"blue\",\"blue\",\"blue\",\"blue\",\"blue\",\"blue\",\"blue\",\"blue\",\"blue\",\"blue\",\"blue\",\"blue\",\"blue\",\"blue\",\"blue\",\"blue\",\"blue\",\"blue\",\"blue\",\"blue\",\"blue\",\"blue\",\"blue\",\"blue\",\"blue\",\"blue\",\"blue\",\"blue\",\"blue\",\"blue\",\"blue\",\"blue\",\"blue\",\"blue\",\"blue\",\"blue\",\"blue\",\"blue\",\"blue\",\"blue\",\"blue\",\"blue\",\"blue\",\"blue\",\"blue\",\"blue\",\"blue\",\"blue\",\"blue\",\"blue\",\"blue\",\"blue\",\"blue\",\"blue\",\"blue\",\"blue\",\"blue\",\"blue\",\"blue\",\"blue\",\"blue\",\"blue\",\"blue\",\"blue\",\"blue\",\"blue\",\"blue\",\"blue\",\"blue\",\"blue\",\"blue\",\"blue\",\"blue\",\"blue\",\"blue\",\"blue\",\"blue\",\"blue\",\"blue\",\"blue\",\"blue\",\"blue\",\"blue\",\"blue\",\"blue\",\"blue\",\"blue\",\"blue\",\"blue\",\"blue\",\"blue\",\"blue\",\"blue\",\"blue\",\"blue\",\"blue\",\"blue\",\"blue\",\"blue\",\"blue\",\"blue\",\"blue\",\"blue\",\"blue\",\"blue\",\"blue\",\"blue\",\"blue\",\"blue\",\"blue\",\"blue\",\"blue\",\"blue\",\"blue\",\"blue\",\"blue\",\"blue\",\"blue\",\"blue\",\"blue\",\"blue\",\"blue\",\"blue\",\"blue\",\"blue\",\"blue\",\"blue\",\"blue\",\"blue\",\"blue\",\"blue\",\"blue\",\"blue\",\"blue\",\"blue\",\"blue\",\"blue\",\"blue\",\"blue\",\"blue\",\"blue\",\"blue\",\"blue\",\"blue\",\"blue\",\"blue\",\"blue\",\"blue\",\"blue\",\"blue\",\"blue\",\"blue\",\"blue\",\"blue\",\"blue\",\"blue\",\"blue\",\"blue\",\"blue\",\"blue\",\"blue\",\"blue\",\"blue\",\"blue\",\"blue\",\"blue\",\"blue\",\"blue\",\"blue\",\"blue\",\"blue\",\"blue\",\"blue\",\"blue\",\"blue\",\"blue\",\"blue\",\"blue\",\"blue\",\"blue\",\"blue\",\"blue\",\"blue\",\"blue\",\"blue\",\"blue\",\"blue\",\"blue\",\"blue\",\"blue\",\"blue\",\"blue\",\"blue\",\"blue\",\"blue\",\"blue\",\"blue\",\"blue\",\"blue\",\"blue\",\"blue\",\"blue\",\"blue\",\"blue\",\"blue\",\"blue\",\"blue\",\"blue\",\"blue\",\"blue\",\"blue\",\"blue\",\"blue\",\"blue\",\"blue\",\"blue\",\"blue\",\"blue\",\"blue\",\"blue\",\"blue\",\"blue\",\"blue\",\"blue\",\"blue\",\"blue\",\"blue\",\"blue\",\"blue\",\"blue\",\"blue\",\"blue\",\"blue\",\"blue\",\"blue\",\"blue\",\"blue\",\"blue\",\"blue\",\"blue\",\"blue\",\"blue\",\"blue\",\"blue\",\"blue\",\"blue\",\"blue\",\"blue\",\"blue\",\"blue\",\"blue\",\"blue\",\"blue\",\"blue\",\"blue\",\"blue\",\"blue\",\"blue\",\"blue\",\"blue\",\"blue\",\"blue\",\"blue\",\"blue\",\"blue\",\"blue\",\"blue\",\"blue\",\"blue\",\"blue\",\"blue\",\"blue\",\"blue\",\"blue\",\"blue\",\"blue\",\"blue\",\"blue\",\"blue\",\"blue\",\"blue\",\"blue\",\"blue\",\"blue\",\"blue\",\"blue\",\"blue\",\"blue\",\"blue\",\"blue\",\"blue\",\"blue\",\"blue\",\"blue\",\"blue\",\"blue\",\"blue\",\"blue\",\"blue\",\"blue\",\"blue\",\"blue\",\"blue\",\"blue\",\"blue\",\"blue\",\"blue\",\"blue\",\"blue\",\"blue\",\"blue\",\"blue\",\"blue\",\"blue\",\"blue\",\"blue\",\"blue\",\"blue\",\"blue\",\"blue\",\"blue\",\"blue\",\"blue\",\"blue\",\"blue\",\"blue\",\"blue\",\"blue\",\"blue\",\"blue\",\"blue\",\"blue\",\"blue\",\"blue\",\"blue\",\"blue\",\"blue\",\"blue\",\"blue\",\"blue\",\"blue\",\"blue\",\"blue\",\"blue\",\"blue\",\"blue\",\"blue\",\"blue\",\"blue\",\"blue\",\"blue\",\"blue\",\"blue\",\"blue\",\"blue\",\"blue\",\"blue\",\"blue\",\"blue\",\"blue\",\"blue\",\"blue\",\"blue\",\"blue\",\"blue\",\"blue\",\"blue\",\"blue\",\"blue\",\"blue\",\"blue\",\"blue\",\"blue\",\"blue\",\"blue\",\"blue\",\"blue\",\"blue\",\"blue\",\"blue\",\"blue\",\"blue\",\"blue\",\"blue\",\"blue\",\"blue\",\"blue\",\"blue\",\"blue\",\"blue\",\"blue\",\"blue\",\"blue\",\"blue\",\"blue\",\"blue\",\"blue\",\"blue\",\"blue\",\"blue\",\"blue\",\"blue\",\"blue\",\"blue\",\"blue\",\"blue\",\"blue\",\"blue\",\"blue\",\"blue\",\"blue\",\"blue\",\"blue\",\"blue\",\"blue\",\"blue\",\"blue\",\"blue\",\"blue\",\"blue\",\"blue\",\"blue\",\"blue\",\"blue\",\"blue\",\"blue\",\"blue\",\"blue\",\"blue\",\"blue\",\"blue\",\"blue\",\"blue\",\"blue\",\"blue\",\"blue\",\"blue\",\"blue\",\"blue\",\"blue\",\"blue\",\"blue\",\"blue\",\"blue\",\"blue\",\"blue\",\"blue\",\"blue\",\"blue\",\"blue\",\"blue\",\"blue\",\"blue\",\"blue\",\"blue\",\"blue\",\"blue\",\"blue\",\"blue\",\"blue\",\"blue\",\"blue\",\"blue\",\"blue\",\"blue\",\"blue\",\"blue\",\"blue\",\"blue\",\"blue\",\"blue\",\"blue\",\"blue\",\"blue\",\"blue\",\"blue\",\"blue\",\"blue\",\"blue\",\"blue\",\"blue\",\"blue\",\"blue\",\"blue\",\"blue\",\"blue\",\"blue\",\"blue\",\"blue\",\"blue\",\"blue\",\"blue\",\"blue\",\"blue\",\"blue\",\"blue\",\"blue\",\"blue\",\"blue\",\"blue\",\"blue\",\"blue\",\"blue\",\"blue\",\"blue\",\"blue\",\"blue\",\"blue\",\"blue\",\"blue\",\"blue\",\"blue\",\"blue\",\"blue\",\"blue\",\"blue\",\"blue\",\"blue\",\"blue\",\"blue\",\"blue\",\"blue\",\"blue\",\"blue\",\"blue\",\"blue\",\"blue\",\"blue\",\"blue\",\"blue\",\"blue\",\"blue\",\"blue\",\"blue\",\"blue\",\"blue\",\"blue\",\"blue\",\"blue\",\"blue\",\"blue\",\"blue\",\"blue\",\"blue\",\"blue\",\"blue\",\"blue\",\"blue\",\"blue\",\"blue\",\"blue\",\"blue\",\"blue\",\"blue\",\"blue\",\"blue\",\"blue\",\"blue\",\"blue\",\"blue\",\"blue\",\"blue\",\"blue\",\"blue\",\"blue\",\"blue\",\"blue\",\"blue\",\"blue\",\"blue\",\"blue\",\"blue\",\"blue\",\"blue\",\"blue\",\"blue\",\"blue\",\"blue\",\"blue\",\"blue\",\"blue\",\"blue\",\"blue\",\"blue\",\"blue\",\"blue\",\"blue\",\"blue\",\"blue\",\"blue\",\"blue\",\"blue\",\"blue\",\"blue\",\"blue\",\"blue\",\"blue\",\"blue\",\"blue\",\"blue\",\"blue\",\"blue\",\"blue\",\"blue\",\"blue\",\"blue\",\"blue\",\"blue\",\"blue\",\"blue\",\"blue\",\"blue\",\"blue\",\"blue\",\"blue\",\"blue\",\"blue\",\"blue\",\"blue\",\"blue\",\"blue\",\"blue\",\"blue\",\"blue\",\"blue\",\"blue\",\"blue\",\"blue\",\"blue\",\"blue\",\"blue\",\"blue\",\"blue\",\"blue\",\"blue\",\"blue\",\"blue\",\"blue\",\"blue\",\"blue\",\"blue\",\"blue\",\"blue\",\"blue\",\"blue\",\"blue\",\"blue\",\"blue\",\"blue\",\"blue\",\"blue\",\"blue\",\"blue\",\"blue\",\"blue\",\"blue\",\"blue\",\"blue\",\"blue\",\"blue\",\"blue\",\"blue\",\"blue\",\"blue\",\"blue\",\"blue\",\"blue\",\"blue\",\"blue\",\"blue\",\"blue\",\"blue\",\"blue\",\"blue\",\"blue\",\"blue\",\"blue\",\"blue\",\"blue\",\"blue\",\"blue\",\"blue\",\"blue\",\"blue\",\"blue\",\"blue\",\"blue\",\"blue\",\"blue\",\"blue\",\"blue\",\"blue\",\"blue\",\"blue\",\"blue\",\"blue\",\"blue\",\"blue\",\"blue\",\"blue\",\"blue\",\"blue\",\"blue\",\"blue\",\"blue\",\"blue\",\"blue\",\"blue\",\"blue\",\"blue\",\"blue\",\"blue\",\"blue\",\"blue\",\"blue\",\"blue\",\"blue\",\"blue\",\"blue\",\"blue\",\"blue\",\"blue\",\"blue\",\"blue\",\"blue\",\"blue\",\"blue\",\"blue\",\"blue\",\"blue\",\"blue\",\"blue\",\"blue\",\"blue\",\"blue\",\"blue\",\"blue\",\"blue\",\"blue\",\"blue\",\"blue\",\"blue\",\"blue\",\"blue\"],\"phrase\":[\"Can I get back with my ex even though she is pregn\",\"What is the best way to become an arms dealer in t\",\"Why doesn't Japan contribute to peace and prosperi\",\"Which is the best Panasonic air conditioner servic\",\"What did ancient Egyptians believe about the after\",\"How does one prepare for the RBI grade B officers \",\"Which institutions in Kolkata give coaching for en\",\"Will omar bravo be in fifa 17?\\n\",\"What are the pros and cons of arranged marriages?\\n\",\"What will happen if all the vegetable dies?\\n\",\"Why do people hate hypocrites?\\n\",\"What do you consider poor, middle class, wealthy a\",\"How do I concentrate on my studies?\\n\",\"What is new age psychobabble?\\n\",\"How can you tell if your man is cheating even if h\",\"Can you see yourself during lucid dreaming?\\n\",\"Which browser is most safe in terms of privacy and\",\"Can Google Assistant run on OnePlus 3T?\\n\",\"Apart from the VW Vento / Polo and Skoda Rapid, ar\",\"What is Panera Bread?\\n\",\"Do athletes live longer and healthier? If not, why\",\"Could a pitbull take on a wolf in a fight?\\n\",\"What has Obama done for Latinos/Hispanics?\\n\",\"How much is |x|^2?\\n\",\"How does operator.com work?\\n\",\"Why do people not make movies/talk about the Romas\",\"What were the major contributions of the political\",\"Company Secretaries (CS): How do I prepare for CS \",\"What are the job prospects of chemical engineers a\",\"I have never gone to a bank. How do I put money in\",\"What is the best strategy to prepare for the GATE \",\"Who is this porn star?\\n\",\"Why are specs & sunglasses so expensive?\\n\",\"I installed the movie torrent with Ultra XVid Code\",\"Can we ride scootry with learning lisence age of 1\",\"Two cards were drawn, without replacement, from a \",\"How much money is needed per month to live in indi\",\"Why do companies issue bonus shares?\\n\",\"Why are Iranians and Afghans considered white Amer\",\"Could mumps cause deafness?\\n\",\"What is meaning of sadaka?\\n\",\"What should I know before starting a YouTube caree\",\"Is the ITI College Principal is gazetted officer?\\n\",\"How do you feel now that Donald Trump is now the P\",\"What is the difference between imperial units and \",\"What is the easiest way to do effective self hypno\",\"Why has China increased its involvement in the Syr\",\"From which year CBSE class 10th exam be reintroduc\",\"Is 1080p a Blu-ray?\\n\",\"Does using mirrors to concentrate thermal energy d\",\"How do I avoid attractions by phones?\\n\",\"What are some of the effects of education can you \",\"What are the characteristics of a Pisces Sun/Libra\",\"What is the most cost-effective option to ship pac\",\"Are red and blue complementary colors?\\n\",\"Is it possible to make a material that is a superc\",\"What is the best Shonen Jump manga?\\n\",\"Are Oracle and Cisco good companies for a new grad\",\"If lighting a match is considered a chemical chang\",\"Why is Hillary so afraid of Putin?\\n\",\"Which is the best book to study electronics basics\",\"What are the basics I should know before learning \",\"Can I use Cph4 on a day to day basis?\\n\",\"Is it safe when I buy things from China?\\n\",\"Why did some ethnic minorities support Brexit?\\n\",\"How much money has tinder made?\\n\",\"What is the limit?\\n\",\"Will browsing Facebook while connected to Tor reve\",\"If I get 68.4 percent in ftre 2016 class 10 then w\",\"No product market fit: change product or market fi\",\"What makes you sad about India?\\n\",\"How do I know if someone has read my messages on w\",\"Why there is a sound when we crack our knuckles?\\n\",\"Why do I only make friends with guys?\\n\",\"What is 'open-mindedness'?\\n\",\"What is the cause of carpal tunnel syndrome?\\n\",\"What is the difference between a \\\"slow cooker\\\" and\",\"What is Hillary Clinton's stance on nuclear energy\",\"Do IIT colleges require a caste validity for an ST\",\"How do I listen a song from you?\\n\",\"Why do so many Iranians immigrate to Canada?\\n\",\"What will happen to India-U.S. relations after Tru\",\"A program that stored five words in the memory the\",\"What are ways of joining to ISRO as engineer other\",\"Can Magneto defeat Hulk?\\n\",\"What time of year is it best to visit Singapore?\\n\",\"How do I study for ib?\\n\",\"What should I do if someone doesn't reply to my em\",\"How much does Manveer Singh Phogat gets for Dangal\",\"What is it like to be cannibal?\\n\",\"How can the Android app development companies help\",\"Who would you say is the most fun person in Israel\",\"How can one improve her figure and butt size witho\",\"As a company that provides travel agencies and tou\",\"What is the most beautiful thing you saw today?\\n\",\"Is gay flirting good?\\n\",\"Can I use Stripe in Europe?\\n\",\"Will Britain leaving the European Union lead to th\",\"Why are so many East Asian immigrants so averse to\",\"Why do we need computer networking?\\n\",\"What is retina detachment?\\n\",\"Why don't more bars have mechanical bulls?\\n\",\"How do I get better understanding of C++?\\n\",\"Which is the most profitable Porsche US dealer?\\n\",\"What are the best over the ear headphones for abou\",\"Is it true that the first kill is the hardest?\\n\",\"Which is best 32 inch led tv to buy below 20,000 I\",\"I am scoring 130/506 in FiitJEE aits part test adv\",\"What kind of websites are missing from the Interne\",\"What is the best way to use free time at IITB?\\n\",\"Is it possible for me to buy my first company usin\",\"What should I do to have sex with as many women as\",\"What is the scope of Executive MBA in India?\\n\",\"Which BMW models do not have a Hofmeister Kink?\\n\",\"What is yellow journalism?\\n\",\"Why do doctors charge uninsured patients 10 times \",\"Which one is the best public sector job or private\",\"Will social media ever help to spur on the US youn\",\"How should I know a video is 360 degree?\\n\",\"Is a practice manual sufficient for the CA Final I\",\"Career Advice: Being an Indian college student, ho\",\"What are the advantages and disadvantages of Li-Fi\",\"On Snapchat, I deleted someone. Can they re-add me\",\"Are there any cereals that taste good with water?\\n\",\"Why does a woman's vagina push a mans penis out?\\n\",\"What is the British word for bullpen?\\n\",\"How hard is it for international students to get a\",\"How did Revan build his foundation of his army in \",\"What is the best way to read a fictional book? Do \",\"How do you replace a ignition lock cylinder?\\n\",\"How can I prevent business failure?\\n\",\"How often do tides occur? What causes it?\\n\",\"How do I learn Calculus on my own?\\n\",\"What is the reason for Priyanka Gandhi not changin\",\"What should I eat when I'm sick with a cold or flu\",\"What is a Business Intelligence Analyst?\\n\",\"Which sports should I start to play to paticipate \",\"How should I prepare for Java fresher interview?\\n\",\"How different are cuisines of Arab countries?\\n\",\"What is the meaning of the phrase, all is fair in \",\"Why does Quora send me a notification that my ques\",\"What are the hardest obstacles to breaking into a \",\"What makes a falling snowflake large (or not)?\\n\",\"What is the compensation for Partners/Principals a\",\"What is the difference between an array and a vect\",\"If you kiss the NC State wolf do you become an NC \",\"Is it boring (from a social perspective) to live i\",\"What would have happened if in 1971 war all 93000 \",\"What are the easiest things to do while being abro\",\"Does getting root canal cause problem in speaking \",\"What is the definition of a truncated sentence and\",\"Would I look good with a nose ring? if yes which n\",\"What are the perks of working in Amazon?\\n\",\"How can we say that climate change does not bring \",\"What it is like to meet \\\"Shahid Kapoor\\\"?\\n\",\"How does it feel when you are dead?\\n\",\"Which is the best juicer, grinder or mixer in Indi\",\"How do I learn to think more logically?\\n\",\"Which movie has the best beginning ever?\\n\",\"Which laws been enacted to prevent family members \",\"What is iPhone 6s plus cost present?\\n\",\"What is Ohm's law and amperage I?\\n\",\"What is the nicest thing a stranger has done for y\",\"Why do some heroic people who do good things choos\",\"How will Hindus react if Babri Masjid is reconstru\",\"R2I - How did you plan R2I from US if you own the \",\"How can I master C programming in 7 days?\\n\",\"What is the right way to clean ear wax?\\n\",\"What are some good games to play during class?\\n\",\"Is it possible to hack WhatsApp messenger?\\n\",\"Why do airplanes carry more weight than helicopter\",\"Shaving: Do electric shavers work better than manu\",\"Has anyone benefited, health-wise, from essential \",\"Can Students at Hogwarts have sex while there? Doe\",\"How can we enhance our efficiency with Yoga?\\n\",\"What are the best app review sites and blogs?\\n\",\"Can two companies be registered on the same addres\",\"Is it true that as per Indian law, one can't be ha\",\"Who would win in a war between Bangladesh and Myan\",\"How do you reply when someone thanks you for forgi\",\"Who would win a fight between wolverine and Batman\",\"What is one thing you wish for yourself in the fut\",\"Can you cry underwater?\\n\",\"What's the difference between SSL, TLS, and HTTPS?\",\"Why are antigravity muscles more affected in Upper\",\"In order to buy a house, does one have to rent fir\",\"What is the probability of choosing a pink ball fr\",\"Which is the best car to get under 8 lakhs?\\n\",\"Why isn't China's role in the Korean and Vietnam w\",\"What is the Laplace transform of t^(1/2) * e^ (-1/\",\"To those who told a big lie to their parents and t\",\"What is runtime polymorphism or dynamic method dis\",\"I had sex 5 days after my period, what are the cha\",\"How would you describe yourself in one tweet?\\n\",\"How do fairy tales influence creativity in humans?\",\"How do I add delay() and sound() in Dev-C++?\\n\",\"What is the pathophysiology of ADHD?\\n\",\"What are the top benefits of life insurance polici\",\"Can I get a TV from Bang & Olufsen for under $2500\",\"How is the life of an ece student at dayananda sag\",\"What is meditation?\\n\",\"Were the Ancient Greeks scientists, or just philos\",\"How does Google authenticator work?\\n\",\"Wouldn't it be better if kids were allowed to focu\",\"Can you apply for a certificate on Coursera/edX af\",\"Why do Quora engineers use large monitors?\\n\",\"How do I start an online clothing business?\\n\",\"How will the government meet the challenges of acc\",\"I saw a charge on my credit card under from a comp\",\"What is the difference between socialization and r\",\"How would the world be different if everyone spoke\",\"Who receives the fares in a cab service?\\n\",\"As a non-resident alien doing a summer internship \",\"Which is the best camera smartphone under 20k?\\n\",\"What does it mean to dream about someone before th\",\"What are the subjects in which I can apply for my \",\"What are the basics of Jainism?\\n\",\"What is the Difference between existential nihilis\",\"How can I see my girlfriend's WhatsApp chat messag\",\"What are some ways to enjoy sex with my newly marr\",\"How can I study the Bible?\\n\",\"How can someone be a friend, girlfriend, wife and \",\"What are the Snapchat usernames of punjabi celebri\",\"What is 1/2 times 1/2?\\n\",\"Where does the word restaurant come from and what \",\"What can I do with a computational linguistics deg\",\"Will trump win as president?\\n\",\"What impact will AI eventually have on how we plan\",\"Why is eating too unhealthy?\\n\",\"What if the Syrian civil war never happened?\\n\",\"How do the teachings, learning, followership and/o\",\"Did you ever been in a group of stupid people?\\n\",\"What are the multiple types of social issues?\\n\",\"Where can I find beginner NodeJS tutorials that us\",\"If I got a 7.4 CGPA in the SA1 10 class, then can \",\"Which the best time table for 10th class exams pre\",\"Elite Escorts in DHA Lahore?\\n\",\"My ex bf says he doesn't have feelings for me righ\",\"What are the questions in the interview for a fres\",\"What do you think are some of benefits to humans f\",\"Which one is the best medical college hostel in in\",\"Have you lived in a tiny house?\\n\",\"What are some things new employees should know goi\",\"Where can I hire high pressure cleaning service in\",\"How many Bollywood Actresses consume alcohol in re\",\"How does PayU earn money?\\n\",\"Is it possible to change your personality as a chi\",\"How do I apply to London School of Economics as an\",\"How do I build a profile to get accepted into a st\",\"How can I get real ghost stories?\\n\",\"Is it possible to hack NASA's New Horizons satelli\",\"What is the best way of getting good at answering \",\"How would you deal with jerks?\\n\",\"How can I do internship in Accenture India?\\n\",\"Why would an Indian girl not want to get married?\\n\",\"My WhatsApp chat backup got deleted from Google, I\",\"Is going to college really worth it or just a wast\",\"How many prophets did God send to the Jews?\\n\",\"What is the relation and difference between Artifi\",\"If you don\\u2019t have a good network, what would be th\",\"What are the best place to visit in Rio de Janeiro\",\"Which is the best college for PG in Cyber Security\",\"Which are the best English serials?\\n\",\"How do you say \\u201cWhat\\u2019s up?\\u201d in Chinese?\\n\",\"Is it bad to take expired fish oil pills because t\",\"Will there ever be a genuine Authoritarian candida\",\"Is World War III on its way right now?\\n\",\"How can you use time formats in Excel?\\n\",\"What is the best antivirus for Windows 8?\\n\",\"Why do people like Metal/Hard rock so much?\\n\",\"What are the worst smelling things in the world?\\n\",\"Could someone explain the following electives at N\",\"What's a funny thing?\\n\",\"What are the main reason of cracks?\\n\",\"How do I hitchhike in Europe?\\n\",\"What is the physical significance of quantum mecha\",\"How do we get dead people off business junk mail l\",\"Who among the four in the picture given in descrip\",\"How do I know if I authentically, genuinely, hones\",\"On average, how long does it take a letter mail fr\",\"When will One Piece have episode 517 dubbed?\\n\",\"What should I do if I fell in love with my best fr\",\"How do criminal lawyers sleep at night even when t\",\"Can I get refund for Tatkal e-ticket because train\",\"How can I buy the new Macbook 12\\\" M7 512GB model i\",\"What are the different e-governance methods used b\",\"How do I run smoother GTA V? I have intel core i3 \",\"What is the use of tanpura?\\n\",\"What are the Snapchat usernames of celebrities?\\n\",\"Which is better- cracking gate and going for IIT/i\",\"Can you lose weight without exercising?\\n\",\"What is the best way to make life more interesting\",\"Is Delhi a must for UPSC coaching?\\n\",\"Which are the best colleges for electronics and in\",\"I have been a .Net developer for over 2 years and \",\"Has a smartphone ever been taken to space? If yes \",\"What questions should I ask my boyfriend, we are b\",\"How do I delete a contact blocked in WhatsApp?\\n\",\"Is it a good time to buy real estate in Cyprus?\\n\",\"South India: Why is South India much more develope\",\"What is the formula for a hydrocarbon?\\n\",\"What if an alien comes and tells us that the physi\",\"What are the pros & cons of democracy?\\n\",\"I'm 16 years old and wanted to lose weight and bod\",\"Can I add more peers to the torrent for max speed \",\"What are the best neighborhoods to Airbnb in Chica\",\"What we will get in mahabalipuram beach sunrise or\",\"How fast can you accelerate to the speed of light?\",\"What is the difference between R-squared and Adjus\",\"How many times can women reach orgasm in a hour an\",\"Why didn't Johor, Batam & Singapore integrate more\",\"Which products are more profitable in online sell?\",\"How do I get rid of muscle?\\n\",\"What is the process of directing and casting child\",\"Is the 7th pay commission needed?\\n\",\"What are the best games that are compatible on a C\",\"What was the significance of the battle of Somme, \",\"How do you see Pakistan PM Nawaz Sharif's speech a\",\"Where can I publish my apps?\\n\",\"What was your darkest moment?\\n\",\"Why does the UK have an unwritten Constitution?\\n\",\"What are the necessary steps in documenting a mobi\",\"Why was life created? Why was life so painful?\\n\",\"How can I use explainer video to review products o\",\"What is difference between residue and error?\\n\",\"If 6.5 to 8.5 will be the safe level of pH value i\",\"I am 23 and don't know what I want. My life is ver\",\"What are your three favorite websites for reading?\",\"Why do people choose to be a GAY?\\n\",\"What is the process of death?\\n\",\"Why does light red deserve the special name \\\"pink\\\"\",\"Who are millennials?\\n\",\"What it's like doing CA articleship from Big 4s?\\n\",\"What is the most important right or freedom guaran\",\"Why do some porn stars have unprotected sex?\\n\",\"What are my reasons to live?\\n\",\"How small would a planet need to be to plainly see\",\"Some religion speaks of burning in hell after deat\",\"What does it feel like to be an IITian?\\n\",\"How does cognitive behavioural therapy work?\\n\",\"Why should you visit India?\\n\",\"I lost my Google account information. How can I re\",\"What if I port a number from Airtel to Vodafone in\",\"What are the reasons why time travel is impossible\",\"Will my iPhone alarm still go off if \\\"Do Not Distu\",\"Did South Korea cheat during the 2014 Asian Games?\",\"Take the minimum lethal volume of a gaz, put it in\",\"\\\"How to improve Project Management skills?\\\"\\n\",\"When you were small, did you ever think that your \",\"Where did the pointy \\\"S\\\" symbol come from?\\n\",\"How does it feels like to have a rich boyfriend?\\n\",\"What have you used your intelligence for?\\n\",\"What is a freewheeling diode?\\n\",\"How do we derive pi?\\n\",\"What is the importance of communication skills in \",\"How can I put icons on YouTube video titles? Also \",\"What does the phrase \\\"resonate with me\\\" mean?\\n\",\"How many types do we have of Manual testing?\\n\",\"What are IBAN numbers?\\n\",\"What is regret?\\n\",\"As a student specializing in English language, lit\",\"What is the corporate culture like at Corning? How\",\"How can I convert jazz standards to jazz guitar so\",\"How good was the surgical strike by Indian Army on\",\"What recipes are most conducive to romance?\\n\",\"What are the unknown facts about Tamil people whic\",\"Where do I find the most beautiful woman in the wo\",\"What does the grey phone icon mean on the messenge\",\"How do I share 360\\u00b0 photos on WhatsApp?\\n\",\"What is the difference between working stress meth\",\"What are the opportunities for an MBA in finance?\\n\",\"Can you patent clothing or fashion designs?\\n\",\"My in laws are apologists for Nazi war criminals a\",\"Which is the safest city in India for women?\\n\",\"What horse breed were commonly used during the \\\"Wi\",\"Is it weird to sometimes feel almost overwhelmed b\",\"Can anyone please list all the SAP SD topics a per\",\"In the filling of ibps application I put martial s\",\"In a restaurant, what are the different types of t\",\"Why does amir khan never go to any filmy awards fu\",\"What is a good inpatient drug and alcohol rehab ce\",\"Why does UV light cause contamination on optics, b\",\"How do I invest in mutual funds in India?\\n\",\"How comfortable are you with failure?\\n\",\"What skills are required to become a quant?\\n\",\"Why do startups announce fundraising?\\n\",\"What is your review of Amazon Video?\\n\",\"Why there is no team from Tamil nadu in pro kabbad\",\"How do I auto forward texts from my Verizon phone \",\"How do the Chinese people view Americans?\\n\",\"What is virgin or virginity?\\n\",\"What are the different ways of submitting a Reques\",\"Can a high school teacher legally force students t\",\"Why does water droplets form on the outer surface \",\"Which mammals have dark circles around eyes beside\",\"How do each components of a printer work?\\n\",\"What are some foods beginning with the letter W?\\n\",\"What are symptoms of a bad transmission control mo\",\"How do astronauts in ISS vote for Presidential ele\",\"What is the difference between Aim and Goal?\\n\",\"What is AT & C?\\n\",\"Who was Jackson Pollock? Was he mentally ill?\\n\",\"How do I make good vine edits?\\n\",\"How can I cut my penis?\\n\",\"How can I change my Quora profile photo?\\n\",\"My husband was here seeking asylum before we got m\",\"Is it good to use Laravel to develop a web app wit\",\"I have a mild sore throat an headache. What is tha\",\"When will a working nintendo 3DS emulator release \",\"What do we know about the health effects of vaping\",\"INSEAD: Worth the investment?\\n\",\"How is long rides in royal Enfield classic 350?\\n\",\"What famous boxers have participated on Dancing wi\",\"Will season 10 of Big Bang Theory be the final sea\",\"Can I crack KVPY (SX) with only three months left \",\"What are some little-known facts from World War II\",\"What is the most unique way of exam cheating you'v\",\"When was the last time a slam dunk broke a basketb\",\"What should I do for my excessive hair loss?\\n\",\"How do I find people's psychological weakness?\\n\",\"What is the difference between Awareness and Consc\",\"I hate everything that people around me like. Is i\",\"I think I am pretty good at thinking of a business\",\"How do you determine the thickness of a footing ba\",\"Why does vapours are formed when we pressurize alc\",\"Is it easy to adjust in German Universities withou\",\"What is UNIX and UNIX-like?\\n\",\"What is the best way to promote www.dorkyard.com?\\n\",\"What's up in Addis Abeba tonight?\\n\",\"Is there any point to going to college if you have\",\"How much would it cost to construct 800 sqft area \",\"What is an ideal wife? What is an ideal husband? W\",\"What information does port scanning provide?\\n\",\"What are the application of quasicrystals?\\n\",\"What is the determinant of the inverse of a matrix\",\"How is Brad Pitt in \\\"real Life\\\"?\\n\",\"I have a 3 yr bachelor's degree in Computer Scienc\",\"Demonetisation is good for county like India or no\",\"My parents think I am rude for being so introverte\",\"How many people have jumped off the Golden Gate br\",\"What are Osho's views on Islam?\\n\",\"Why does the government regulate health care?\\n\",\"Which phone has the best sound recording quality?\\n\",\"What is the best part of your life, and why is it \",\"Which is better hair wax or hair clay?\\n\",\"How do I charge my motorcycle battery?\\n\",\"What are the updates we get after miui 8.0.6.0?\\n\",\"Why does Robinhood need to bypass the App Store?\\n\",\"Which is a better route, Alipiri or Sri Vaari?\\n\",\"How much extra would it cost if Apple manufactured\",\"When will the next recession be?\\n\",\"What are some arguments in support of electing Don\",\"What does Russia want with Ukraine?\\n\",\"What is the difference between a recorder (block f\",\"What is the meaning of random number?\\n\",\"Which one is good for health: tea or coffee?\\n\",\"Is Texas good state for non-resident to register a\",\"What is kirchoff's law?\\n\",\"Is it wrong for a family member to keep making com\",\"My parents are forcing to marry a girl of their ch\",\"Which is better, Windows+Linux or OSX?\\n\",\"Why aren\\u2019t Christians that pray to/have a relation\",\"How much TDS will I have to pay for an RD account \",\"What is the meaning of thematic connection?\\n\",\"How should you prepare to take your maneuverabilit\",\"What are the best materials/videos/resources to ge\",\"Can a \\\"dirty\\\" finish be added back to jeans?\\n\",\"Why does my dog keep whining at night?\\n\",\"Is it bad to turn off my PC using the power button\",\"What is image processing?\\n\",\"I went to school with mostly black kids, they bull\",\"Does Donald Trump actually think he can become Pre\",\"Which are the 5 best movies you have ever seen?\\n\",\"How do I get traffic to excursions travel website?\",\"Where can I download the Android game Leo's Fortun\",\"How do I get more followers and upvotes on Quora?\\n\",\"What is a factory reset on a phone?\\n\",\"Which phone should I buy if my budget is 12000?\\n\",\"I have GPU implementation as a graduation project.\",\"What are the libertarian views on the Antarctic Tr\",\"What would the world be like if it were ruled by a\",\"How do you choose your first bank?\\n\",\"Who runs berkuliah.com?\\n\",\"What does Godel's incompleteness theorem mean for \",\"How do I delete a Gmail account?\\n\",\"If my ultimate goal is to become a vegan, should I\",\"Did the US win the war in Afghanistan?\\n\",\"How can I become a good engineering student?\\n\",\"What are some ways to increase intuition?\\n\",\"What causes depression in humans?\\n\",\"How can I control my anxiety and worries?\\n\",\"How can we jump in between the working regions of \",\"How do I stop loving someone who loves me?\\n\",\"Can personality and insecurity create a liar?\\n\",\"What is the best country and university to do a Ph\",\"How do I edit a video offline?\\n\",\"What is the rent of kiosk in an upscale mall?\\n\",\"What should I start reading if I want to attempt t\",\"Which is the best anti-virus for computers?\\n\",\"Does food unite people?\\n\",\"What do you like most about Internet?\\n\",\"What is a good model of federalism in the Philippi\",\"How do you know if a girl secretly loves you?\\n\",\"Who is the most annoying fictional character you h\",\"How do you feel when your question is unanswered o\",\"Did early humans know how babies were made?\\n\",\"If I cancel xfinity, how can I sign up as a new cu\",\"Are there any TV series similar to House MD?\\n\",\"What you need to know before buying furniture for \",\"Have you ever had a dream happen in reality?\\n\",\"Is dark matter just a scientific theory or has its\",\"How can you increase your tolerance for pain?\\n\",\"How many logical fallacies are there?\\n\",\"How do buttercream icing frosting separate?\\n\",\"Which is the cheapest cinema hall of India?\\n\",\"What do you think would be a good gre score?\\n\",\"What is the best way to update Xiaomi redmi 3 to M\",\"What does toe jam cheese taste like?\\n\",\"How do I know if a YouTube video is copyrighted?\\n\",\"How should I start a business reselling shoes?\\n\",\"How do I hire a mobile app development company?\\n\",\"What is paras pathar?\\n\",\"How is the word \\\"colony\\\" used in a sentence?\\n\",\"What is Rebecca Fugate known for?\\n\",\"What should I consider before starting my consulta\",\"Do you feel that many attractive women get away wi\",\"Why do I feel so much guilt for kissing a girl?\\n\",\"What are some good tutorials for learning Blender?\",\"Is it deceitful to befriend someone in the hopes t\",\"Who do you think BJP will put as a candidate for t\",\"Which protein supplement is best for gym to gain w\",\"What is your review of KVPY SX/SB 2016?\\n\",\"How do I get people's attention for my work?\\n\",\"What are some of your own personal stories and exp\",\"If salt concentration of the sea(3%) were differen\",\"What is the chemical name for mothballs? How was i\",\"Vitamin D receptors in the Testes?\\n\",\"How do I lose weight without working out?\\n\",\"Where can I watch anime?\\n\",\"What is BusyBox used for?\\n\",\"What would be a good desktop computer for software\",\"What are your top five favorite books and why?\\n\",\"What are some good Harry/Ginny fanfiction?\\n\",\"What are the pros and cons of having sex during pe\",\"Which device will you enjoy watching movies in: a \",\"Will there be \\\"faithless\\\" electors this election?\\n\",\"Is Donald Trump an undercover democrat?\\n\",\"Why am I the way I am?\\n\",\"Why do some women get their nipples pierced?\\n\",\"What do Delhi University girls (especially North C\",\"What is the name of this TV series?\\n\",\"My salary is below the Basic Exemption Limit, yet \",\"What is a foliated rock?\\n\",\"What are some of the best books to start learning \",\"How should I prepare for IIT-JEE 2018?\\n\",\"How do unions work?\\n\",\"Can we give neet coaching in class 11?\\n\",\"Which is the best dish TV connection in Hyderabad?\",\"How can you train a Doberman/Lab mix?\\n\",\"How do you reduce stress at work?\\n\",\"What is the best algorithm for finding the number \",\"How can I earn $250 in 2 months?\\n\",\"Why did GE buy NBC?\\n\",\"What is the highest level of c?\\n\",\"How do you mash potatoes without a masher? What el\",\"How difficult is it to learn Python?\\n\",\"How do you convert years into seconds?\\n\",\"How do you view bisexuality?\\n\",\"What is information technology? What are some exam\",\"Why are Altoids so strong?\\n\",\"How effective is email marketing?\\n\",\"Why does my tutor keep winding me up. He says he i\",\"How can I start my Tok essay which is about accura\",\"How do I repair my corrupt memory card?\\n\",\"I have 3 years to prepare for IIT JAM Physics. How\",\"What are the best Instagram hack tools that have n\",\"I am studing interior design. What are some good i\",\"What are some stupid jokes that make you laugh?\\n\",\"What are the factors affecting Real estate investm\",\"How can I get rid of white dry spot on my face? It\",\"What is it like to have an ugly wife/partner?\\n\",\"What do you love most about your life and why?\\n\",\"In the unlikely event that the Electoral College t\",\"How is life as an Engineer?\\n\",\"Where and why are the imaginary numbers used?\\n\",\"What are some good hypo-allergenic lipsticks?\\n\",\"Did the United Nations play a part in the divide o\",\"When and Why did America become a world power?\\n\",\"What are some recipes using Hormel Black Label Ham\",\"Which is the best company to invest shares on Nove\",\"The man I'm about 2 marry says when I have my peri\",\"What can be the best answer for why finance?\\n\",\"What are the best facts about the universe?\\n\",\"What's the sweetest thing you did for a bestfriend\",\"What is the difference between techno and trance m\",\"TV Sitcoms: Why do English comedy shows have peopl\",\"Does percentile system would affect neet 1 student\",\"Is there Uber in Valencia, Madrid and Barcelona?\\n\",\"Have real-life siblings ever shot intimate scenes \",\"How should I improve my writing skill for blogging\",\"Can cold weather affect a menstrual cycle?\\n\",\"How can we earn money online while studying?\\n\",\"Can a tablet keyboard be used on any kind of table\",\"What are the Upcoming development projects in Chha\",\"Where can I buy cheap Twitter followers?\\n\",\"Why do passengers from aircraft are not given a bu\",\"When should I tell my crush I like her?\\n\",\"Why does Pakistan have a better image and reputati\",\"What are Andrea Pirlo's strengths as a midfielder?\",\"From a point in space billions of light years away\",\"Will Medicaid pay for electrologist to do the shav\",\"Why do technical employees despise sales people so\",\"What are the best freelance websites for C#?\\n\",\"Will I be successful without educations?\\n\",\"How can I learn about cars?\\n\",\"What is the best question asked in an interview?\\n\",\"Why there is so much hatred against Brahmins in In\",\"How do I learn to enter journal entries online in \",\"Will CS be issuing a PR message for Boston?\\n\",\"Why do some people 'hate' drugs or people who ever\",\"How do I know my passion? What is my talent and wh\",\"How do pessimists and optimists differ?\\n\",\"How many pulleys did it take for Archimedes to lif\",\"What is the best course after 12th for a medical s\",\"What are the steps that I should follow to get in \",\"Where was the boston marathon?\\n\",\"What is it like to be in or around a bomb blast?\\n\",\"Will Trump destroy international US-companies thro\",\"Should celebrities have the right to voice their o\",\"Can I say that: \\\"A battery can be seem as a capaci\",\"What is it like to be an ENTP?\\n\",\"How do I start designing on glass?\\n\",\"What is the market risk premium formula?\\n\",\"How can I pay the parking meter if I have no coins\",\"Is it true that Obama has a secret son named \\\"Luth\",\"Which is the best coaching for IAS in up?\\n\",\"How big is the equity funding market in North Amer\",\"Which are the good government medical colleges in \",\"How do I control my hair fall?\\n\",\"Is it really worth creating Shopify themes?\\n\",\"What can cause knee pain? It only hurts when I sta\",\"Where can you find a list of common 9 letter words\",\"NSFW: Is this penis color normal or should I see a\",\"Why do most women remove the hair from their arm p\",\"Which processor is better (faster/more efficient),\",\"Which two statements are true regarding views in s\",\"What is the easiest and quickest Indian food recip\",\"What are the best local SEO companies in India?\\n\",\"How do I get rid of adult content on my Quora feed\",\"Can the zombie fungi attack humans as well?\\n\",\"If I wanted to learn about the Roman Empire,what w\",\"What are the key differences between LXDE and XFCE\",\"Can people see the sellers real name, e-mail addre\",\"Should I still watch The Matrix movie?\\n\",\"Is there any truth to the rumor that the youngest \",\"Is it ok that I don't want to hang out with my fam\",\"I am in class 9. If i want to crack IIT JEE, then \",\"Will Obama's gang stalking/surveillance program be\",\"What are some good songs to lyric text prank a fri\",\"Where can I get best quality video DJ for party in\",\"How long does it take for your hair to grow?\\n\",\"Should I update my Redmi 3s from MIUI 7 to MIUI 8?\",\"How do muscles work?\\n\",\"WHAT IS THE BEST ROUT FOR NEPAL PASUPATI NATH TEMP\",\"How to make a website similar to feedwiser.com in \",\"Why does India so scared of CPEC?\\n\",\"What did your first sex feel like as a girl?\\n\",\"In International ODI/T20 cricket matches, if a bat\",\"Why can humans feel acceleration, but not constant\",\"Can the Microsoft Surface Pro 4 run AutoCAD?\\n\",\"What are the differences between stock Crown Victo\",\"What are the good ways to download Lynda.com's tut\",\"How much is the average salary package for a 1.5 y\",\"How can you reduce the barriers of communication?\\n\",\"Why would someone use Instagram Stories over Snapc\",\"Whiskey: How many 'shots' are in a fifth of Jack D\",\"What might happen now that President-elect Donald \",\"How do I write a waiver letter for school?\\n\",\"I am interested in persuing ma industrial psycholo\",\"Does modafinil shows up on a drug test? Because my\",\"Is it possible to get high off Vyvanse?\\n\",\"Is an agnostic necessarily a skeptic, and how?\\n\",\"Where can I get best support in Sydney for buying \",\"What are the duties of a lieutenant in Indian army\",\"Why is smileys not used on Quora?\\n\",\"What does it feel like for a man when someone who \",\"How does post graduation permit impact .lets say I\",\"Online Payment Gateways and Processing: What is th\",\"What are the best books to learn c programing lang\",\"Solid State Physics: What is The Theory of Alloys?\",\"How do I fill in my first name in a PAN card dupli\",\"Why is egg yolk not good for you?\\n\",\"Anatomy of Female Pelvis: Do women really have an \",\"How much does it cost to develop mobile applicatio\",\"Who is the most honest Game of Thrones character?\\n\",\"What is a high quality Apple MacBook Air charger?\\n\",\"Where and how is the WWE championship belt made?\\n\",\"What is green communication?\\n\",\"I have been a good student since chiild hood but j\",\"I'm solving exercises of artificial neural network\",\"Compared to your own compensation, and in consider\",\"How can I keep browsing Quora forever?\\n\",\"Having built web stuff the old way (PHP/MySQL) bac\",\"Is our new currency note of Rs.2000 equipped with \",\"What's the best way to join a startup in DC?\\n\",\"What would happen if we added a second Earth of eq\",\"When will piracy on Android stop?\\n\",\"What do you mean by executive consultant and suppo\",\"Why do I always feel like I am missing something?\\n\",\"What does a user see when he/she gets a new messag\",\"How can I become a web developer?\\n\",\"Is there any good alternative softwares to Tally?\\n\",\"Would you have sex during period?\\n\",\"Are there prominent Bangladeshi Hindus?\\n\",\"I have registered for PhD (no NET) (phy) in 2013, \",\"I changed my name, but the person did a mistake. M\",\"At what age do your breasts stop growing?\\n\",\"How do I get a girl's phone number in a library?\\n\",\"I am into a habit of over thinking things. How do \",\"What is the average salary of a civil engineer?\\n\",\"What is the difference between rote learning vs me\",\"What are the ways to compete in the Olympics in 20\",\"What trivia (and/or little-known facts) do you fin\",\"Xiaomi Redmi note 3: Which is the best colour to b\",\"What does \\\" the Hadamard Perron theorem\\\" means?\\n\",\"Is there a way to see the viewing history and chat\",\"What is the best place for trekking in Goa?\\n\",\"How does an instant messenger work?\\n\",\"What are the disadvantages of the World Trade Orga\",\"Why does the US military not use AK series rifles?\",\"Does Moto m have gorilla glass?\\n\",\"What is the hierarchy of an associate consultant a\",\"What are some major landforms in Texas, and how do\",\"What other jobs can a medical degree holder do mea\",\"MY HP DEXTOP DOESNOT CONNECT WIFI WHY?\\n\",\"How can I get motivated to workout?\\n\",\"What should I gift it to my mom on her birthday?\\n\",\"Which is the best video you have ever seen?\\n\",\"I was selected in campus and was issued a joining \",\"What makes a poem a good way to express emotions? \",\"What would happen if I cut down a tree outside my \",\"Can you make money in Amway?\\n\",\"Body Weight: How many pounds can I gain every week\",\"What are the impacts (both positive & negative) of\",\"I forgot the password which I used to login n n lo\",\"What are the best websites for career?\\n\",\"What is your favourite episode of the office (USA)\",\"Why is time slower down near heavy objects?\\n\",\"How do l update any version after rooting the mobi\",\"Why is 3 am called the witching hour?\\n\",\"How do I run a shell script from Java code?\\n\",\"What are the advertising campaigns of 2011?\\n\",\"Should I opt for computer science if I don't take \",\"What are the polymers of protein?\\n\",\"How much better will the JWST be than Hubble?\\n\",\"What are the greatest examples of absence of mind?\",\"How can I understand the STOCK market from the bas\",\"How do I make Gazpacho?\\n\",\"What is the typical role of a brand manager?\\n\",\"Who are the top 5 hottest women ever?\\n\",\"What is the name of the game that Aamir Khan was r\",\"How long does it take to learn dance?\\n\",\"What's the funniest thing that's happened to you a\",\"Why are metals malleable and ductile?\\n\",\"List of national daily in India?\\n\",\"Are Volvos actually safer than comparable cars?\\n\",\"Can you tell who has been looking at your Instagra\",\"A ball dropped from the roof of a building takes 4\",\"What percentage of Hillary Clinton's supporters ha\",\"Do you think you are beautiful?\\n\",\"Which are the free email marketing tools?\\n\",\"What topic of discussion do people hate the most? \",\"What is the point in having hyper-politicised stud\",\"Why Steve Jobs is considered as innovator?\\n\",\"How long would it take an average programmer to wr\",\"Why are conservatives defending Holly Fisher? (see\",\"What is so important about Adam Smith's pin factor\",\"What is the Arizona bark scorpion, and how do anim\",\"How do I stop smoking cigarettes?\\n\",\"What are the functions of a computer's motherboard\",\"How can tea bags help for styes?\\n\",\"How can I get a patent for my really effective inn\",\"Can India ever become 'Sone Ki Chidiya' again?\\n\",\"Is there any way to play Android games LAN multipl\",\"Why should I ask my first question?\\n\",\"Who are the top writers on Hinduism on Quora? Who \",\"How do I wake up at 4:00 A.M.?\\n\",\"Why is Quora moderation collapsing all my answers?\",\"In an honest assessment, what do you think of Trum\",\"What type of bonding is present in a coordinate bo\",\"Is it possible to delete your Wikipedia account hi\",\"I'm a +2 CBSE non-medical student. Is there any pr\",\"Are there any limitations as to setting up a forei\",\"How will the drought in California affect its econ\",\"What is Informatica online training?\\n\",\"Is it compulsory for a Web designer and developer \",\"How could the US realistically pay off its debt?\\n\",\"Who is Barry Soetoro?\\n\",\"How do I solve [math]2x^3-x^2+11x+3=0[/math]?\\n\",\"What are some hobbies couples can do at home?\\n\",\"How have meerkats adapted to the desert?\\n\",\"What causes dizziness when you lay down?\\n\",\"What should one do after a civil engineering degre\",\"What are the advantages of hiring skip bins servic\",\"Why is it necessary that singers lip-sync?\\n\",\"How can I turn off the screen overlay detected on \",\"How do you clean or polish a pair of Woodland shoe\",\"What are some classes you wish you took in high sc\",\"What is the formula of [math](a+b)^3[/math]?\\n\",\"What is it like to commit yourself to a psychiatri\",\"Is there any way to slow or reverse the late effec\",\"What would the implications be if we discovered th\",\"Any other program to help on code contribution for\",\"What is the bond order of [math]H_2[/math]?\\n\",\"What is the best way to create a website without c\",\"What were some causes and effects of the French Re\",\"What are some catchy headlines for a dating site?\\n\",\"Should I get Company of Heroes, World in Conflict \",\"How do I remove a person from a group in Skype?\\n\",\"Why was Manmohan Singh briefed by PM Modi after su\",\"Does anybody want to learn Chinese?\\n\",\"Is Xiaomi going the Nokia way to oblivion?\\n\",\"Should I buy hp 17.3 AMD laptop or lenovo 17.3 i5 \",\"Which is better a government job or a software job\",\"How can the word \\\"credulity\\\" be used in a sentence\",\"Does uber track time on app?\\n\",\"How do I get over direct rejection?\\n\",\"How can any institute get an ISO certificate?\\n\",\"What are the best pranks?\\n\",\"Are non-solicit agreements enforceable if the pers\",\"Which phone is best in 2016 for a 18 years boy my \",\"What is the definition of an archetypal hero?\\n\",\"Why are some \\\"ugly\\\" people still very attractive?\\n\",\"What are the chances of Donald Trump's impeachment\",\"What would a society based on laws enforcing only \",\"What is the full form of \\\"veto\\\" power?\\n\",\"How much do people get paid to do a TED talk?\\n\",\"What does it mean to say \\\"enriching herself off of\",\"How can I be more persuasive at work?\\n\",\"What is the corporate culture like at National Bev\",\"What is the fastest way to get a PAN card?\\n\",\"Who will win in America presidential elections in \",\"How do I solve this differential problem?\\n\",\"How is Banjara's Saffron Facial Kit used?\\n\",\"How do you understand life?\\n\",\"Will an MS from NUS in electrical engineering prov\",\"How does one create a strong password? Any tips?\\n\",\"Who was the best dressed at the 2016 Emmy's?\\n\",\"What is the cost of manufacturing a SIM card?\\n\",\"Are you tolerant?\\n\",\"Is [math]\\\\{1,2,3\\\\}[/math] a compact subset of a me\",\"What kind of energy is involved in hearing and vis\",\"What happened with Lehman Brothers?\\n\",\"What is a good web page publisher?\\n\",\"Why does eating radishes cause diarrhea?\\n\",\"How do I encrypt the data on my Android phone?\\n\",\"If there were an Oscar for \\\"Best Line in a Movie\\\",\",\"Why are tyres black?\\n\",\"What is the best way to unlock a Motorola Droid Bi\",\"Is a $45 a month job worth the experience?\\n\",\"Should I settle in Canada or Japan?\\n\",\"How is the appraisal process in Accenture? How wil\",\"How does sand turn into glass?\\n\",\"What effect will increased automation of jobs and \",\"I am 25 years old Indian guy, want to settle in Ne\",\"What are some Raksha Bandhan gift suggestions for \",\"How do I write a multi-dimensional villain that is\",\"Why is there no nucleus in a red blood cell?\\n\",\"Why do Quora allow anonymous fake questions from A\",\"Is it possible to merge a foursquare venue into a \",\"How do I find out if I have Siri on my phone?\\n\",\"Why do I feel like I'm not living my life?\\n\",\"What will happen to global stock market if Donald \",\"What makes weeds grow so much faster and easier th\",\"Do people with extremely high IQ need higher sugar\",\"What should teaching assistants do?\\n\",\"Why is Perth one of the most liveable cities in th\",\"How do you get to the entrance for Resolution Cave\",\"How do I get involved in research as an undergradu\",\"If you have one option to remove anything, what wi\",\"What are the risk after angioplasty?\\n\",\"Why can't men read the signals women give off when\",\"How can a non-EU medical graduate get into residen\",\"How do I stay active?\\n\",\"I'm going to Paris. What is the equivalent \\\"neighb\",\"How do I get rid of dandruff, or at least prevent \",\"Is Medicaid going to pay for the electrologist for\",\"When Australia became a nation in 1901, Did aborig\",\"What is the difference between SSL and Sitelock?\\n\",\"What are some unsolved problems in deep machine le\",\"What's the difference between computer engineering\",\"Is it possible to get a decent job after completin\",\"What is the difference between MG & BG in railway \",\"How do I control an Arduino with a Raspberry Pi?\\n\",\"What is the best field to pursue MS after doing el\",\"What is the difference between Directx and graphic\",\"How do I wirelessly charge the electrical devices \",\"Can you upload Numbers sheets from iPad to Google \",\"What's the best movie franchise you have ever watc\",\"If light does not have mass, then how can it be ab\",\"Why is the book of Esther in the Bible?\\n\",\"What makes comic books worth reading?\\n\",\"What are the advantages of outsourcing property ma\",\"What is a Quora credit competition?\\n\",\"Are data analyst/data science jobs boring?\\n\",\"Why don't satellites crash into each other?\\n\",\"How do dermatologists remove blackheads?\\n\",\"How can I choose between my dad and my mom?\\n\",\"Can you really not change people?\\n\",\"Being a non believer of a spiritual entity, I have\",\"Is black coffee fattening? If so, what makes it fa\",\"The education system is outdated. What would you d\",\"Who are the founders of Quora?\\n\",\"What is it like to be a landlord?\\n\",\"How many stamps do I need to send a letter to germ\",\"My father just recently got married. His wife goes\",\"Which countries are best to migrate from the US?\\n\",\"Can any one tell me a basketball club in Bangalore\",\"How can Spotify download songs offline?\\n\",\"How do I make money online for free in Spain?\\n\",\"Why is Tornado Alley prone to tornadoes?\\n\",\"How does helium change the inhaler's voice?\\n\",\"What is a bedding ceremony in Game of Thrones?\\n\",\"What is it like living in former East Germany as a\",\"Did the USA or NATO commit any war crimes in Iraq?\",\"Why don't we capture terrorist and behead them?\\n\",\"What is your favorite quote (books, movies, people\",\"What mixes well with peach vodka?\\n\",\"Which Patanjali products contain cow urine?\\n\",\"Why are three phases denoted by RYB?\\n\",\"Where could I learn JavaScript online?\\n\",\"Is it appropriate to wear a sports bra simply to t\",\"What are the differences between Jenkins CI and Dr\",\"T right do you think we should be entitled to?\\n\",\"What was the public's reaction to Crystal Pepsi?\\n\",\"How can I crack MH-CET 2017 engineering by self-st\",\"What is the way to become a dental hygienist in th\",\"Why do solving math/statistics problems causes my \",\"Does your name sound as awkward to others as it so\",\"What is the proper format of writing formal-inform\",\"How does doc2vec represent feature vector of a doc\",\"Why are software development task estimations regu\",\"How can I set up molecular pathology lab?\\n\",\"How do I score a rank in CA - IPCC?\\n\",\"What are some examples of strong organic acids?\\n\",\"What can be a good hindi (indian) name for a tea b\",\"Is the Google host matching process different for \",\"Is Cuba considered part of Latin America?\\n\",\"Does the following script (\\u0256\\u2200\\u0f61\\u0632\\u2202 \\u0250\\u0167 \\u01ab\\u04bf\\u03de\\u026e\\u2609 \\u027d\\u03c6\\u0289\\u029b\\u0195), \",\"How can I increase my website's DA?\\n\",\"Is it normal to imagine having sex with other guy \",\"What is the percent purity (approx) of consumable \",\"Do soulmates just come walking into your life when\",\"If I use marijuana with my boyfriend, is there a p\",\"Can you analyze everything in soil?\\n\",\"What difference it would make if India Nuked and K\",\"What are the advantages of a dominant party system\",\"What were some things India did not do but takes c\",\"How many total women have accused Bill Clinton of \",\"Why do I wish some fictional characters existed?\\n\",\"Where can I find best hotel at Ranikhet?\\n\",\"How do I make good memes?\\n\",\"What are some of the common sayings or proverbs in\",\"What kind of writing style makes someone a \\\"dark w\",\"Are Trump and Hillary really the best America has \",\"How can I make my career in embedded system and ro\",\"Will adding a USB to VGA adapter always give an ex\",\"We will never be able to see our own faces with ou\",\"What are the ways you can stop a friend from pitch\",\"What is the average time for preparation of IAS?\\n\",\"How can I learn new things quickly?\\n\",\"What is the definition of political courage?\\n\",\"What makes death scary?\\n\",\"I'm really pretty but I don't want to be I hate th\",\"Is Assam Down Town University good?\\n\",\"How do the brain structures of bonobos change as t\",\"What's the biggest scam?\\n\",\"Does the US government have an alien flying saucer\",\"I need to gain weight, but I don't have abs. It's \",\"Why should I study Calculus?\\n\",\"Do you think your childhood contributed to your fi\",\"How does the Goods and Services Tax (GST) works?\\n\",\"Where can I download Cisco 500-285 exam dumps?\\n\",\"How do I can make a second nation in Cybernations \",\"Did Neil Armstrong really land on the moon?\\n\",\"Why is Devil any other than God head of state?\\n\",\"How do I stop being possessive over my girlfriend?\",\"How does Kongregate compute the statistics of adve\",\"Who is the best nuero physician at NIMHANS, Bangal\",\"What are nonprofit organizations?\\n\",\"I want to know the process of starting outbound ca\",\"Which are some of the best hotels to stay in Helsi\",\"What is good about Deloitte Chicago?\\n\",\"How do I recover data from a formatted hard drive?\",\"Could India and Pakistan unite again?\\n\",\"How often should I massage my face with Argan oil?\",\"How is psychodynamic therapy different from psycho\",\"What are some of Barack Obama's character traits?\\n\",\"Would it make sense to replace the B-52's 8 1960s \",\"Is it possible to bring forward my flight date of \",\"How can I learn marathons?\\n\"],\"x\":{\"__ndarray__\":\"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\",\"dtype\":\"float32\",\"order\":\"little\",\"shape\":[1001]},\"y\":{\"__ndarray__\":\"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\",\"dtype\":\"float32\",\"order\":\"little\",\"shape\":[1001]}},\"selected\":{\"id\":\"1418\"},\"selection_policy\":{\"id\":\"1419\"}},\"id\":\"1346\",\"type\":\"ColumnDataSource\"},{\"attributes\":{\"fill_alpha\":{\"value\":0.1},\"fill_color\":{\"field\":\"color\"},\"line_alpha\":{\"value\":0.1},\"line_color\":{\"field\":\"color\"},\"size\":{\"units\":\"screen\",\"value\":20},\"x\":{\"field\":\"x\"},\"y\":{\"field\":\"y\"}},\"id\":\"1380\",\"type\":\"Scatter\"},{\"attributes\":{},\"id\":\"1368\",\"type\":\"ResetTool\"},{\"attributes\":{},\"id\":\"1365\",\"type\":\"WheelZoomTool\"},{\"attributes\":{},\"id\":\"1361\",\"type\":\"BasicTicker\"},{\"attributes\":{},\"id\":\"1418\",\"type\":\"Selection\"},{\"attributes\":{},\"id\":\"1352\",\"type\":\"LinearScale\"},{\"attributes\":{\"fill_alpha\":{\"value\":0.25},\"fill_color\":{\"field\":\"color\"},\"line_alpha\":{\"value\":0.25},\"line_color\":{\"field\":\"color\"},\"size\":{\"units\":\"screen\",\"value\":20},\"x\":{\"field\":\"x\"},\"y\":{\"field\":\"y\"}},\"id\":\"1379\",\"type\":\"Scatter\"},{\"attributes\":{},\"id\":\"1357\",\"type\":\"BasicTicker\"},{\"attributes\":{},\"id\":\"1414\",\"type\":\"BasicTickFormatter\"},{\"attributes\":{\"text\":\"\"},\"id\":\"1412\",\"type\":\"Title\"},{\"attributes\":{\"formatter\":{\"id\":\"1414\"},\"ticker\":{\"id\":\"1357\"}},\"id\":\"1356\",\"type\":\"LinearAxis\"},{\"attributes\":{},\"id\":\"1416\",\"type\":\"BasicTickFormatter\"},{\"attributes\":{},\"id\":\"1369\",\"type\":\"HelpTool\"},{\"attributes\":{},\"id\":\"1354\",\"type\":\"LinearScale\"},{\"attributes\":{},\"id\":\"1350\",\"type\":\"DataRange1d\"},{\"attributes\":{\"axis\":{\"id\":\"1360\"},\"dimension\":1,\"ticker\":null},\"id\":\"1363\",\"type\":\"Grid\"},{\"attributes\":{},\"id\":\"1364\",\"type\":\"PanTool\"},{\"attributes\":{\"callback\":null,\"tooltips\":[[\"phrase\",\"@phrase\"]]},\"id\":\"1383\",\"type\":\"HoverTool\"}],\"root_ids\":[\"1347\"]},\"title\":\"Bokeh Application\",\"version\":\"2.1.1\"}};\n",
              "  var render_items = [{\"docid\":\"981817fa-21ba-493b-9318-c19a80ddde2e\",\"root_ids\":[\"1347\"],\"roots\":{\"1347\":\"ae1f14e0-5292-4615-bcc3-16ffcc669046\"}}];\n",
              "  root.Bokeh.embed.embed_items_notebook(docs_json, render_items);\n",
              "\n",
              "  }\n",
              "  if (root.Bokeh !== undefined) {\n",
              "    embed_document(root);\n",
              "  } else {\n",
              "    var attempts = 0;\n",
              "    var timer = setInterval(function(root) {\n",
              "      if (root.Bokeh !== undefined) {\n",
              "        clearInterval(timer);\n",
              "        embed_document(root);\n",
              "      } else {\n",
              "        attempts++;\n",
              "        if (attempts > 100) {\n",
              "          clearInterval(timer);\n",
              "          console.log(\"Bokeh: ERROR: Unable to run BokehJS code because BokehJS library is missing\");\n",
              "        }\n",
              "      }\n",
              "    }, 10, root)\n",
              "  }\n",
              "})(window);"
            ],
            "application/vnd.bokehjs_exec.v0+json": ""
          },
          "metadata": {
            "tags": [],
            "application/vnd.bokehjs_exec.v0+json": {
              "id": "1347"
            }
          }
        },
        {
          "output_type": "execute_result",
          "data": {
            "text/html": [
              "<div style=\"display: table;\"><div style=\"display: table-row;\"><div style=\"display: table-cell;\"><b title=\"bokeh.plotting.figure.Figure\">Figure</b>(</div><div style=\"display: table-cell;\">id&nbsp;=&nbsp;'1347', <span id=\"1476\" style=\"cursor: pointer;\">&hellip;)</span></div></div><div class=\"1475\" style=\"display: none;\"><div style=\"display: table-cell;\"></div><div style=\"display: table-cell;\">above&nbsp;=&nbsp;[],</div></div><div class=\"1475\" style=\"display: none;\"><div style=\"display: table-cell;\"></div><div style=\"display: table-cell;\">align&nbsp;=&nbsp;'start',</div></div><div class=\"1475\" style=\"display: none;\"><div style=\"display: table-cell;\"></div><div style=\"display: table-cell;\">aspect_ratio&nbsp;=&nbsp;None,</div></div><div class=\"1475\" style=\"display: none;\"><div style=\"display: table-cell;\"></div><div style=\"display: table-cell;\">aspect_scale&nbsp;=&nbsp;1,</div></div><div class=\"1475\" style=\"display: none;\"><div style=\"display: table-cell;\"></div><div style=\"display: table-cell;\">background&nbsp;=&nbsp;None,</div></div><div class=\"1475\" style=\"display: none;\"><div style=\"display: table-cell;\"></div><div style=\"display: table-cell;\">background_fill_alpha&nbsp;=&nbsp;1.0,</div></div><div class=\"1475\" style=\"display: none;\"><div style=\"display: table-cell;\"></div><div style=\"display: table-cell;\">background_fill_color&nbsp;=&nbsp;'#ffffff',</div></div><div class=\"1475\" style=\"display: none;\"><div style=\"display: table-cell;\"></div><div style=\"display: table-cell;\">below&nbsp;=&nbsp;[LinearAxis(id='1356', ...)],</div></div><div class=\"1475\" style=\"display: none;\"><div style=\"display: table-cell;\"></div><div style=\"display: table-cell;\">border_fill_alpha&nbsp;=&nbsp;1.0,</div></div><div class=\"1475\" style=\"display: none;\"><div style=\"display: table-cell;\"></div><div style=\"display: table-cell;\">border_fill_color&nbsp;=&nbsp;'#ffffff',</div></div><div class=\"1475\" style=\"display: none;\"><div style=\"display: table-cell;\"></div><div style=\"display: table-cell;\">center&nbsp;=&nbsp;[Grid(id='1359', ...), Grid(id='1363', ...)],</div></div><div class=\"1475\" style=\"display: none;\"><div style=\"display: table-cell;\"></div><div style=\"display: table-cell;\">css_classes&nbsp;=&nbsp;[],</div></div><div class=\"1475\" style=\"display: none;\"><div style=\"display: table-cell;\"></div><div style=\"display: table-cell;\">disabled&nbsp;=&nbsp;False,</div></div><div class=\"1475\" style=\"display: none;\"><div style=\"display: table-cell;\"></div><div style=\"display: table-cell;\">extra_x_ranges&nbsp;=&nbsp;{},</div></div><div class=\"1475\" style=\"display: none;\"><div style=\"display: table-cell;\"></div><div style=\"display: table-cell;\">extra_y_ranges&nbsp;=&nbsp;{},</div></div><div class=\"1475\" style=\"display: none;\"><div style=\"display: table-cell;\"></div><div style=\"display: table-cell;\">frame_height&nbsp;=&nbsp;None,</div></div><div class=\"1475\" style=\"display: none;\"><div style=\"display: table-cell;\"></div><div style=\"display: table-cell;\">frame_width&nbsp;=&nbsp;None,</div></div><div class=\"1475\" style=\"display: none;\"><div style=\"display: table-cell;\"></div><div style=\"display: table-cell;\">height&nbsp;=&nbsp;None,</div></div><div class=\"1475\" style=\"display: none;\"><div style=\"display: table-cell;\"></div><div style=\"display: table-cell;\">height_policy&nbsp;=&nbsp;'auto',</div></div><div class=\"1475\" style=\"display: none;\"><div style=\"display: table-cell;\"></div><div style=\"display: table-cell;\">hidpi&nbsp;=&nbsp;True,</div></div><div class=\"1475\" style=\"display: none;\"><div style=\"display: table-cell;\"></div><div style=\"display: table-cell;\">js_event_callbacks&nbsp;=&nbsp;{},</div></div><div class=\"1475\" style=\"display: none;\"><div style=\"display: table-cell;\"></div><div style=\"display: table-cell;\">js_property_callbacks&nbsp;=&nbsp;{},</div></div><div class=\"1475\" style=\"display: none;\"><div style=\"display: table-cell;\"></div><div style=\"display: table-cell;\">left&nbsp;=&nbsp;[LinearAxis(id='1360', ...)],</div></div><div class=\"1475\" style=\"display: none;\"><div style=\"display: table-cell;\"></div><div style=\"display: table-cell;\">lod_factor&nbsp;=&nbsp;10,</div></div><div class=\"1475\" style=\"display: none;\"><div style=\"display: table-cell;\"></div><div style=\"display: table-cell;\">lod_interval&nbsp;=&nbsp;300,</div></div><div class=\"1475\" style=\"display: none;\"><div style=\"display: table-cell;\"></div><div style=\"display: table-cell;\">lod_threshold&nbsp;=&nbsp;2000,</div></div><div class=\"1475\" style=\"display: none;\"><div style=\"display: table-cell;\"></div><div style=\"display: table-cell;\">lod_timeout&nbsp;=&nbsp;500,</div></div><div class=\"1475\" style=\"display: none;\"><div style=\"display: table-cell;\"></div><div style=\"display: table-cell;\">margin&nbsp;=&nbsp;(0, 0, 0, 0),</div></div><div class=\"1475\" style=\"display: none;\"><div style=\"display: table-cell;\"></div><div style=\"display: table-cell;\">match_aspect&nbsp;=&nbsp;False,</div></div><div class=\"1475\" style=\"display: none;\"><div style=\"display: table-cell;\"></div><div style=\"display: table-cell;\">max_height&nbsp;=&nbsp;None,</div></div><div class=\"1475\" style=\"display: none;\"><div style=\"display: table-cell;\"></div><div style=\"display: table-cell;\">max_width&nbsp;=&nbsp;None,</div></div><div class=\"1475\" style=\"display: none;\"><div style=\"display: table-cell;\"></div><div style=\"display: table-cell;\">min_border&nbsp;=&nbsp;5,</div></div><div class=\"1475\" style=\"display: none;\"><div style=\"display: table-cell;\"></div><div style=\"display: table-cell;\">min_border_bottom&nbsp;=&nbsp;None,</div></div><div class=\"1475\" style=\"display: none;\"><div style=\"display: table-cell;\"></div><div style=\"display: table-cell;\">min_border_left&nbsp;=&nbsp;None,</div></div><div class=\"1475\" style=\"display: none;\"><div style=\"display: table-cell;\"></div><div style=\"display: table-cell;\">min_border_right&nbsp;=&nbsp;None,</div></div><div class=\"1475\" style=\"display: none;\"><div style=\"display: table-cell;\"></div><div style=\"display: table-cell;\">min_border_top&nbsp;=&nbsp;None,</div></div><div class=\"1475\" style=\"display: none;\"><div style=\"display: table-cell;\"></div><div style=\"display: table-cell;\">min_height&nbsp;=&nbsp;None,</div></div><div class=\"1475\" style=\"display: none;\"><div style=\"display: table-cell;\"></div><div style=\"display: table-cell;\">min_width&nbsp;=&nbsp;None,</div></div><div class=\"1475\" style=\"display: none;\"><div style=\"display: table-cell;\"></div><div style=\"display: table-cell;\">name&nbsp;=&nbsp;None,</div></div><div class=\"1475\" style=\"display: none;\"><div style=\"display: table-cell;\"></div><div style=\"display: table-cell;\">outline_line_alpha&nbsp;=&nbsp;1.0,</div></div><div class=\"1475\" style=\"display: none;\"><div style=\"display: table-cell;\"></div><div style=\"display: table-cell;\">outline_line_cap&nbsp;=&nbsp;'butt',</div></div><div class=\"1475\" style=\"display: none;\"><div style=\"display: table-cell;\"></div><div style=\"display: table-cell;\">outline_line_color&nbsp;=&nbsp;'#e5e5e5',</div></div><div class=\"1475\" style=\"display: none;\"><div style=\"display: table-cell;\"></div><div style=\"display: table-cell;\">outline_line_dash&nbsp;=&nbsp;[],</div></div><div class=\"1475\" style=\"display: none;\"><div style=\"display: table-cell;\"></div><div style=\"display: table-cell;\">outline_line_dash_offset&nbsp;=&nbsp;0,</div></div><div class=\"1475\" style=\"display: none;\"><div style=\"display: table-cell;\"></div><div style=\"display: table-cell;\">outline_line_join&nbsp;=&nbsp;'bevel',</div></div><div class=\"1475\" style=\"display: none;\"><div style=\"display: table-cell;\"></div><div style=\"display: table-cell;\">outline_line_width&nbsp;=&nbsp;1,</div></div><div class=\"1475\" style=\"display: none;\"><div style=\"display: table-cell;\"></div><div style=\"display: table-cell;\">output_backend&nbsp;=&nbsp;'canvas',</div></div><div class=\"1475\" style=\"display: none;\"><div style=\"display: table-cell;\"></div><div style=\"display: table-cell;\">plot_height&nbsp;=&nbsp;400,</div></div><div class=\"1475\" style=\"display: none;\"><div style=\"display: table-cell;\"></div><div style=\"display: table-cell;\">plot_width&nbsp;=&nbsp;600,</div></div><div class=\"1475\" style=\"display: none;\"><div style=\"display: table-cell;\"></div><div style=\"display: table-cell;\">renderers&nbsp;=&nbsp;[GlyphRenderer(id='1381', ...)],</div></div><div class=\"1475\" style=\"display: none;\"><div style=\"display: table-cell;\"></div><div style=\"display: table-cell;\">reset_policy&nbsp;=&nbsp;'standard',</div></div><div class=\"1475\" style=\"display: none;\"><div style=\"display: table-cell;\"></div><div style=\"display: table-cell;\">right&nbsp;=&nbsp;[],</div></div><div class=\"1475\" style=\"display: none;\"><div style=\"display: table-cell;\"></div><div style=\"display: table-cell;\">sizing_mode&nbsp;=&nbsp;None,</div></div><div class=\"1475\" style=\"display: none;\"><div style=\"display: table-cell;\"></div><div style=\"display: table-cell;\">subscribed_events&nbsp;=&nbsp;[],</div></div><div class=\"1475\" style=\"display: none;\"><div style=\"display: table-cell;\"></div><div style=\"display: table-cell;\">tags&nbsp;=&nbsp;[],</div></div><div class=\"1475\" style=\"display: none;\"><div style=\"display: table-cell;\"></div><div style=\"display: table-cell;\">title&nbsp;=&nbsp;Title(id='1412', ...),</div></div><div class=\"1475\" style=\"display: none;\"><div style=\"display: table-cell;\"></div><div style=\"display: table-cell;\">title_location&nbsp;=&nbsp;'above',</div></div><div class=\"1475\" style=\"display: none;\"><div style=\"display: table-cell;\"></div><div style=\"display: table-cell;\">toolbar&nbsp;=&nbsp;Toolbar(id='1371', ...),</div></div><div class=\"1475\" style=\"display: none;\"><div style=\"display: table-cell;\"></div><div style=\"display: table-cell;\">toolbar_location&nbsp;=&nbsp;'right',</div></div><div class=\"1475\" style=\"display: none;\"><div style=\"display: table-cell;\"></div><div style=\"display: table-cell;\">toolbar_sticky&nbsp;=&nbsp;True,</div></div><div class=\"1475\" style=\"display: none;\"><div style=\"display: table-cell;\"></div><div style=\"display: table-cell;\">visible&nbsp;=&nbsp;True,</div></div><div class=\"1475\" style=\"display: none;\"><div style=\"display: table-cell;\"></div><div style=\"display: table-cell;\">width&nbsp;=&nbsp;None,</div></div><div class=\"1475\" style=\"display: none;\"><div style=\"display: table-cell;\"></div><div style=\"display: table-cell;\">width_policy&nbsp;=&nbsp;'auto',</div></div><div class=\"1475\" style=\"display: none;\"><div style=\"display: table-cell;\"></div><div style=\"display: table-cell;\">x_range&nbsp;=&nbsp;DataRange1d(id='1348', ...),</div></div><div class=\"1475\" style=\"display: none;\"><div style=\"display: table-cell;\"></div><div style=\"display: table-cell;\">x_scale&nbsp;=&nbsp;LinearScale(id='1352', ...),</div></div><div class=\"1475\" style=\"display: none;\"><div style=\"display: table-cell;\"></div><div style=\"display: table-cell;\">y_range&nbsp;=&nbsp;DataRange1d(id='1350', ...),</div></div><div class=\"1475\" style=\"display: none;\"><div style=\"display: table-cell;\"></div><div style=\"display: table-cell;\">y_scale&nbsp;=&nbsp;LinearScale(id='1354', ...))</div></div></div>\n",
              "<script>\n",
              "(function() {\n",
              "  var expanded = false;\n",
              "  var ellipsis = document.getElementById(\"1476\");\n",
              "  ellipsis.addEventListener(\"click\", function() {\n",
              "    var rows = document.getElementsByClassName(\"1475\");\n",
              "    for (var i = 0; i < rows.length; i++) {\n",
              "      var el = rows[i];\n",
              "      el.style.display = expanded ? \"none\" : \"table-row\";\n",
              "    }\n",
              "    ellipsis.innerHTML = expanded ? \"&hellip;)\" : \"&lsaquo;&lsaquo;&lsaquo;\";\n",
              "    expanded = !expanded;\n",
              "  });\n",
              "})();\n",
              "</script>\n"
            ],
            "text/plain": [
              "Figure(id='1347', ...)"
            ]
          },
          "metadata": {
            "tags": []
          },
          "execution_count": 35
        }
      ]
    },
    {
      "cell_type": "code",
      "metadata": {
        "id": "-g8baIfTYunf",
        "colab_type": "code",
        "colab": {}
      },
      "source": [
        "phrase_vectors_tsne = tsne.fit_transform(phrase_vectors)"
      ],
      "execution_count": 36,
      "outputs": []
    },
    {
      "cell_type": "code",
      "metadata": {
        "id": "bw7JsfvQY2f_",
        "colab_type": "code",
        "colab": {
          "base_uri": "https://localhost:8080/",
          "height": 434
        },
        "outputId": "88f9b8a6-843d-45a9-a27b-0510195adcbe"
      },
      "source": [
        "draw_vectors(phrase_vectors_tsne[:, 0], phrase_vectors_tsne[:, 1],\n",
        "             phrase=[phrase[:50] for phrase in chosen_phrases],\n",
        "             radius=20,)"
      ],
      "execution_count": 37,
      "outputs": [
        {
          "output_type": "display_data",
          "data": {
            "application/javascript": [
              "\n",
              "(function(root) {\n",
              "  function now() {\n",
              "    return new Date();\n",
              "  }\n",
              "\n",
              "  var force = true;\n",
              "\n",
              "  if (typeof root._bokeh_onload_callbacks === \"undefined\" || force === true) {\n",
              "    root._bokeh_onload_callbacks = [];\n",
              "    root._bokeh_is_loading = undefined;\n",
              "  }\n",
              "\n",
              "  var JS_MIME_TYPE = 'application/javascript';\n",
              "  var HTML_MIME_TYPE = 'text/html';\n",
              "  var EXEC_MIME_TYPE = 'application/vnd.bokehjs_exec.v0+json';\n",
              "  var CLASS_NAME = 'output_bokeh rendered_html';\n",
              "\n",
              "  /**\n",
              "   * Render data to the DOM node\n",
              "   */\n",
              "  function render(props, node) {\n",
              "    var script = document.createElement(\"script\");\n",
              "    node.appendChild(script);\n",
              "  }\n",
              "\n",
              "  /**\n",
              "   * Handle when an output is cleared or removed\n",
              "   */\n",
              "  function handleClearOutput(event, handle) {\n",
              "    var cell = handle.cell;\n",
              "\n",
              "    var id = cell.output_area._bokeh_element_id;\n",
              "    var server_id = cell.output_area._bokeh_server_id;\n",
              "    // Clean up Bokeh references\n",
              "    if (id != null && id in Bokeh.index) {\n",
              "      Bokeh.index[id].model.document.clear();\n",
              "      delete Bokeh.index[id];\n",
              "    }\n",
              "\n",
              "    if (server_id !== undefined) {\n",
              "      // Clean up Bokeh references\n",
              "      var cmd = \"from bokeh.io.state import curstate; print(curstate().uuid_to_server['\" + server_id + \"'].get_sessions()[0].document.roots[0]._id)\";\n",
              "      cell.notebook.kernel.execute(cmd, {\n",
              "        iopub: {\n",
              "          output: function(msg) {\n",
              "            var id = msg.content.text.trim();\n",
              "            if (id in Bokeh.index) {\n",
              "              Bokeh.index[id].model.document.clear();\n",
              "              delete Bokeh.index[id];\n",
              "            }\n",
              "          }\n",
              "        }\n",
              "      });\n",
              "      // Destroy server and session\n",
              "      var cmd = \"import bokeh.io.notebook as ion; ion.destroy_server('\" + server_id + \"')\";\n",
              "      cell.notebook.kernel.execute(cmd);\n",
              "    }\n",
              "  }\n",
              "\n",
              "  /**\n",
              "   * Handle when a new output is added\n",
              "   */\n",
              "  function handleAddOutput(event, handle) {\n",
              "    var output_area = handle.output_area;\n",
              "    var output = handle.output;\n",
              "\n",
              "    // limit handleAddOutput to display_data with EXEC_MIME_TYPE content only\n",
              "    if ((output.output_type != \"display_data\") || (!output.data.hasOwnProperty(EXEC_MIME_TYPE))) {\n",
              "      return\n",
              "    }\n",
              "\n",
              "    var toinsert = output_area.element.find(\".\" + CLASS_NAME.split(' ')[0]);\n",
              "\n",
              "    if (output.metadata[EXEC_MIME_TYPE][\"id\"] !== undefined) {\n",
              "      toinsert[toinsert.length - 1].firstChild.textContent = output.data[JS_MIME_TYPE];\n",
              "      // store reference to embed id on output_area\n",
              "      output_area._bokeh_element_id = output.metadata[EXEC_MIME_TYPE][\"id\"];\n",
              "    }\n",
              "    if (output.metadata[EXEC_MIME_TYPE][\"server_id\"] !== undefined) {\n",
              "      var bk_div = document.createElement(\"div\");\n",
              "      bk_div.innerHTML = output.data[HTML_MIME_TYPE];\n",
              "      var script_attrs = bk_div.children[0].attributes;\n",
              "      for (var i = 0; i < script_attrs.length; i++) {\n",
              "        toinsert[toinsert.length - 1].firstChild.setAttribute(script_attrs[i].name, script_attrs[i].value);\n",
              "        toinsert[toinsert.length - 1].firstChild.textContent = bk_div.children[0].textContent\n",
              "      }\n",
              "      // store reference to server id on output_area\n",
              "      output_area._bokeh_server_id = output.metadata[EXEC_MIME_TYPE][\"server_id\"];\n",
              "    }\n",
              "  }\n",
              "\n",
              "  function register_renderer(events, OutputArea) {\n",
              "\n",
              "    function append_mime(data, metadata, element) {\n",
              "      // create a DOM node to render to\n",
              "      var toinsert = this.create_output_subarea(\n",
              "        metadata,\n",
              "        CLASS_NAME,\n",
              "        EXEC_MIME_TYPE\n",
              "      );\n",
              "      this.keyboard_manager.register_events(toinsert);\n",
              "      // Render to node\n",
              "      var props = {data: data, metadata: metadata[EXEC_MIME_TYPE]};\n",
              "      render(props, toinsert[toinsert.length - 1]);\n",
              "      element.append(toinsert);\n",
              "      return toinsert\n",
              "    }\n",
              "\n",
              "    /* Handle when an output is cleared or removed */\n",
              "    events.on('clear_output.CodeCell', handleClearOutput);\n",
              "    events.on('delete.Cell', handleClearOutput);\n",
              "\n",
              "    /* Handle when a new output is added */\n",
              "    events.on('output_added.OutputArea', handleAddOutput);\n",
              "\n",
              "    /**\n",
              "     * Register the mime type and append_mime function with output_area\n",
              "     */\n",
              "    OutputArea.prototype.register_mime_type(EXEC_MIME_TYPE, append_mime, {\n",
              "      /* Is output safe? */\n",
              "      safe: true,\n",
              "      /* Index of renderer in `output_area.display_order` */\n",
              "      index: 0\n",
              "    });\n",
              "  }\n",
              "\n",
              "  // register the mime type if in Jupyter Notebook environment and previously unregistered\n",
              "  if (root.Jupyter !== undefined) {\n",
              "    var events = require('base/js/events');\n",
              "    var OutputArea = require('notebook/js/outputarea').OutputArea;\n",
              "\n",
              "    if (OutputArea.prototype.mime_types().indexOf(EXEC_MIME_TYPE) == -1) {\n",
              "      register_renderer(events, OutputArea);\n",
              "    }\n",
              "  }\n",
              "\n",
              "  \n",
              "  if (typeof (root._bokeh_timeout) === \"undefined\" || force === true) {\n",
              "    root._bokeh_timeout = Date.now() + 5000;\n",
              "    root._bokeh_failed_load = false;\n",
              "  }\n",
              "\n",
              "  var NB_LOAD_WARNING = {'data': {'text/html':\n",
              "     \"<div style='background-color: #fdd'>\\n\"+\n",
              "     \"<p>\\n\"+\n",
              "     \"BokehJS does not appear to have successfully loaded. If loading BokehJS from CDN, this \\n\"+\n",
              "     \"may be due to a slow or bad network connection. Possible fixes:\\n\"+\n",
              "     \"</p>\\n\"+\n",
              "     \"<ul>\\n\"+\n",
              "     \"<li>re-rerun `output_notebook()` to attempt to load from CDN again, or</li>\\n\"+\n",
              "     \"<li>use INLINE resources instead, as so:</li>\\n\"+\n",
              "     \"</ul>\\n\"+\n",
              "     \"<code>\\n\"+\n",
              "     \"from bokeh.resources import INLINE\\n\"+\n",
              "     \"output_notebook(resources=INLINE)\\n\"+\n",
              "     \"</code>\\n\"+\n",
              "     \"</div>\"}};\n",
              "\n",
              "  function display_loaded() {\n",
              "    var el = document.getElementById(null);\n",
              "    if (el != null) {\n",
              "      el.textContent = \"BokehJS is loading...\";\n",
              "    }\n",
              "    if (root.Bokeh !== undefined) {\n",
              "      if (el != null) {\n",
              "        el.textContent = \"BokehJS \" + root.Bokeh.version + \" successfully loaded.\";\n",
              "      }\n",
              "    } else if (Date.now() < root._bokeh_timeout) {\n",
              "      setTimeout(display_loaded, 100)\n",
              "    }\n",
              "  }\n",
              "\n",
              "\n",
              "  function run_callbacks() {\n",
              "    try {\n",
              "      root._bokeh_onload_callbacks.forEach(function(callback) {\n",
              "        if (callback != null)\n",
              "          callback();\n",
              "      });\n",
              "    } finally {\n",
              "      delete root._bokeh_onload_callbacks\n",
              "    }\n",
              "    console.debug(\"Bokeh: all callbacks have finished\");\n",
              "  }\n",
              "\n",
              "  function load_libs(css_urls, js_urls, callback) {\n",
              "    if (css_urls == null) css_urls = [];\n",
              "    if (js_urls == null) js_urls = [];\n",
              "\n",
              "    root._bokeh_onload_callbacks.push(callback);\n",
              "    if (root._bokeh_is_loading > 0) {\n",
              "      console.debug(\"Bokeh: BokehJS is being loaded, scheduling callback at\", now());\n",
              "      return null;\n",
              "    }\n",
              "    if (js_urls == null || js_urls.length === 0) {\n",
              "      run_callbacks();\n",
              "      return null;\n",
              "    }\n",
              "    console.debug(\"Bokeh: BokehJS not loaded, scheduling load and callback at\", now());\n",
              "    root._bokeh_is_loading = css_urls.length + js_urls.length;\n",
              "\n",
              "    function on_load() {\n",
              "      root._bokeh_is_loading--;\n",
              "      if (root._bokeh_is_loading === 0) {\n",
              "        console.debug(\"Bokeh: all BokehJS libraries/stylesheets loaded\");\n",
              "        run_callbacks()\n",
              "      }\n",
              "    }\n",
              "\n",
              "    function on_error() {\n",
              "      console.error(\"failed to load \" + url);\n",
              "    }\n",
              "\n",
              "    for (var i = 0; i < css_urls.length; i++) {\n",
              "      var url = css_urls[i];\n",
              "      const element = document.createElement(\"link\");\n",
              "      element.onload = on_load;\n",
              "      element.onerror = on_error;\n",
              "      element.rel = \"stylesheet\";\n",
              "      element.type = \"text/css\";\n",
              "      element.href = url;\n",
              "      console.debug(\"Bokeh: injecting link tag for BokehJS stylesheet: \", url);\n",
              "      document.body.appendChild(element);\n",
              "    }\n",
              "\n",
              "    const hashes = {\"https://cdn.bokeh.org/bokeh/release/bokeh-2.1.1.min.js\": \"kLr4fYcqcSpbuI95brIH3vnnYCquzzSxHPU6XGQCIkQRGJwhg0StNbj1eegrHs12\", \"https://cdn.bokeh.org/bokeh/release/bokeh-widgets-2.1.1.min.js\": \"xIGPmVtaOm+z0BqfSOMn4lOR6ciex448GIKG4eE61LsAvmGj48XcMQZtKcE/UXZe\", \"https://cdn.bokeh.org/bokeh/release/bokeh-tables-2.1.1.min.js\": \"Dc9u1wF/0zApGIWoBbH77iWEHtdmkuYWG839Uzmv8y8yBLXebjO9ZnERsde5Ln/P\", \"https://cdn.bokeh.org/bokeh/release/bokeh-gl-2.1.1.min.js\": \"cT9JaBz7GiRXdENrJLZNSC6eMNF3nh3fa5fTF51Svp+ukxPdwcU5kGXGPBgDCa2j\"};\n",
              "\n",
              "    for (var i = 0; i < js_urls.length; i++) {\n",
              "      var url = js_urls[i];\n",
              "      var element = document.createElement('script');\n",
              "      element.onload = on_load;\n",
              "      element.onerror = on_error;\n",
              "      element.async = false;\n",
              "      element.src = url;\n",
              "      if (url in hashes) {\n",
              "        element.crossOrigin = \"anonymous\";\n",
              "        element.integrity = \"sha384-\" + hashes[url];\n",
              "      }\n",
              "      console.debug(\"Bokeh: injecting script tag for BokehJS library: \", url);\n",
              "      document.head.appendChild(element);\n",
              "    }\n",
              "  };\n",
              "\n",
              "  function inject_raw_css(css) {\n",
              "    const element = document.createElement(\"style\");\n",
              "    element.appendChild(document.createTextNode(css));\n",
              "    document.body.appendChild(element);\n",
              "  }\n",
              "\n",
              "  \n",
              "  var js_urls = [\"https://cdn.bokeh.org/bokeh/release/bokeh-2.1.1.min.js\", \"https://cdn.bokeh.org/bokeh/release/bokeh-widgets-2.1.1.min.js\", \"https://cdn.bokeh.org/bokeh/release/bokeh-tables-2.1.1.min.js\", \"https://cdn.bokeh.org/bokeh/release/bokeh-gl-2.1.1.min.js\"];\n",
              "  var css_urls = [];\n",
              "  \n",
              "\n",
              "  var inline_js = [\n",
              "    function(Bokeh) {\n",
              "      Bokeh.set_log_level(\"info\");\n",
              "    },\n",
              "    function(Bokeh) {\n",
              "    \n",
              "    \n",
              "    }\n",
              "  ];\n",
              "\n",
              "  function run_inline_js() {\n",
              "    \n",
              "    if (root.Bokeh !== undefined || force === true) {\n",
              "      \n",
              "    for (var i = 0; i < inline_js.length; i++) {\n",
              "      inline_js[i].call(root, root.Bokeh);\n",
              "    }\n",
              "    } else if (Date.now() < root._bokeh_timeout) {\n",
              "      setTimeout(run_inline_js, 100);\n",
              "    } else if (!root._bokeh_failed_load) {\n",
              "      console.log(\"Bokeh: BokehJS failed to load within specified timeout.\");\n",
              "      root._bokeh_failed_load = true;\n",
              "    } else if (force !== true) {\n",
              "      var cell = $(document.getElementById(null)).parents('.cell').data().cell;\n",
              "      cell.output_area.append_execute_result(NB_LOAD_WARNING)\n",
              "    }\n",
              "\n",
              "  }\n",
              "\n",
              "  if (root._bokeh_is_loading === 0) {\n",
              "    console.debug(\"Bokeh: BokehJS loaded, going straight to plotting\");\n",
              "    run_inline_js();\n",
              "  } else {\n",
              "    load_libs(css_urls, js_urls, function() {\n",
              "      console.debug(\"Bokeh: BokehJS plotting callback run at\", now());\n",
              "      run_inline_js();\n",
              "    });\n",
              "  }\n",
              "}(window));"
            ],
            "application/vnd.bokehjs_load.v0+json": "\n(function(root) {\n  function now() {\n    return new Date();\n  }\n\n  var force = true;\n\n  if (typeof root._bokeh_onload_callbacks === \"undefined\" || force === true) {\n    root._bokeh_onload_callbacks = [];\n    root._bokeh_is_loading = undefined;\n  }\n\n  \n\n  \n  if (typeof (root._bokeh_timeout) === \"undefined\" || force === true) {\n    root._bokeh_timeout = Date.now() + 5000;\n    root._bokeh_failed_load = false;\n  }\n\n  var NB_LOAD_WARNING = {'data': {'text/html':\n     \"<div style='background-color: #fdd'>\\n\"+\n     \"<p>\\n\"+\n     \"BokehJS does not appear to have successfully loaded. If loading BokehJS from CDN, this \\n\"+\n     \"may be due to a slow or bad network connection. Possible fixes:\\n\"+\n     \"</p>\\n\"+\n     \"<ul>\\n\"+\n     \"<li>re-rerun `output_notebook()` to attempt to load from CDN again, or</li>\\n\"+\n     \"<li>use INLINE resources instead, as so:</li>\\n\"+\n     \"</ul>\\n\"+\n     \"<code>\\n\"+\n     \"from bokeh.resources import INLINE\\n\"+\n     \"output_notebook(resources=INLINE)\\n\"+\n     \"</code>\\n\"+\n     \"</div>\"}};\n\n  function display_loaded() {\n    var el = document.getElementById(null);\n    if (el != null) {\n      el.textContent = \"BokehJS is loading...\";\n    }\n    if (root.Bokeh !== undefined) {\n      if (el != null) {\n        el.textContent = \"BokehJS \" + root.Bokeh.version + \" successfully loaded.\";\n      }\n    } else if (Date.now() < root._bokeh_timeout) {\n      setTimeout(display_loaded, 100)\n    }\n  }\n\n\n  function run_callbacks() {\n    try {\n      root._bokeh_onload_callbacks.forEach(function(callback) {\n        if (callback != null)\n          callback();\n      });\n    } finally {\n      delete root._bokeh_onload_callbacks\n    }\n    console.debug(\"Bokeh: all callbacks have finished\");\n  }\n\n  function load_libs(css_urls, js_urls, callback) {\n    if (css_urls == null) css_urls = [];\n    if (js_urls == null) js_urls = [];\n\n    root._bokeh_onload_callbacks.push(callback);\n    if (root._bokeh_is_loading > 0) {\n      console.debug(\"Bokeh: BokehJS is being loaded, scheduling callback at\", now());\n      return null;\n    }\n    if (js_urls == null || js_urls.length === 0) {\n      run_callbacks();\n      return null;\n    }\n    console.debug(\"Bokeh: BokehJS not loaded, scheduling load and callback at\", now());\n    root._bokeh_is_loading = css_urls.length + js_urls.length;\n\n    function on_load() {\n      root._bokeh_is_loading--;\n      if (root._bokeh_is_loading === 0) {\n        console.debug(\"Bokeh: all BokehJS libraries/stylesheets loaded\");\n        run_callbacks()\n      }\n    }\n\n    function on_error() {\n      console.error(\"failed to load \" + url);\n    }\n\n    for (var i = 0; i < css_urls.length; i++) {\n      var url = css_urls[i];\n      const element = document.createElement(\"link\");\n      element.onload = on_load;\n      element.onerror = on_error;\n      element.rel = \"stylesheet\";\n      element.type = \"text/css\";\n      element.href = url;\n      console.debug(\"Bokeh: injecting link tag for BokehJS stylesheet: \", url);\n      document.body.appendChild(element);\n    }\n\n    const hashes = {\"https://cdn.bokeh.org/bokeh/release/bokeh-2.1.1.min.js\": \"kLr4fYcqcSpbuI95brIH3vnnYCquzzSxHPU6XGQCIkQRGJwhg0StNbj1eegrHs12\", \"https://cdn.bokeh.org/bokeh/release/bokeh-widgets-2.1.1.min.js\": \"xIGPmVtaOm+z0BqfSOMn4lOR6ciex448GIKG4eE61LsAvmGj48XcMQZtKcE/UXZe\", \"https://cdn.bokeh.org/bokeh/release/bokeh-tables-2.1.1.min.js\": \"Dc9u1wF/0zApGIWoBbH77iWEHtdmkuYWG839Uzmv8y8yBLXebjO9ZnERsde5Ln/P\", \"https://cdn.bokeh.org/bokeh/release/bokeh-gl-2.1.1.min.js\": \"cT9JaBz7GiRXdENrJLZNSC6eMNF3nh3fa5fTF51Svp+ukxPdwcU5kGXGPBgDCa2j\"};\n\n    for (var i = 0; i < js_urls.length; i++) {\n      var url = js_urls[i];\n      var element = document.createElement('script');\n      element.onload = on_load;\n      element.onerror = on_error;\n      element.async = false;\n      element.src = url;\n      if (url in hashes) {\n        element.crossOrigin = \"anonymous\";\n        element.integrity = \"sha384-\" + hashes[url];\n      }\n      console.debug(\"Bokeh: injecting script tag for BokehJS library: \", url);\n      document.head.appendChild(element);\n    }\n  };\n\n  function inject_raw_css(css) {\n    const element = document.createElement(\"style\");\n    element.appendChild(document.createTextNode(css));\n    document.body.appendChild(element);\n  }\n\n  \n  var js_urls = [\"https://cdn.bokeh.org/bokeh/release/bokeh-2.1.1.min.js\", \"https://cdn.bokeh.org/bokeh/release/bokeh-widgets-2.1.1.min.js\", \"https://cdn.bokeh.org/bokeh/release/bokeh-tables-2.1.1.min.js\", \"https://cdn.bokeh.org/bokeh/release/bokeh-gl-2.1.1.min.js\"];\n  var css_urls = [];\n  \n\n  var inline_js = [\n    function(Bokeh) {\n      Bokeh.set_log_level(\"info\");\n    },\n    function(Bokeh) {\n    \n    \n    }\n  ];\n\n  function run_inline_js() {\n    \n    if (root.Bokeh !== undefined || force === true) {\n      \n    for (var i = 0; i < inline_js.length; i++) {\n      inline_js[i].call(root, root.Bokeh);\n    }\n    } else if (Date.now() < root._bokeh_timeout) {\n      setTimeout(run_inline_js, 100);\n    } else if (!root._bokeh_failed_load) {\n      console.log(\"Bokeh: BokehJS failed to load within specified timeout.\");\n      root._bokeh_failed_load = true;\n    } else if (force !== true) {\n      var cell = $(document.getElementById(null)).parents('.cell').data().cell;\n      cell.output_area.append_execute_result(NB_LOAD_WARNING)\n    }\n\n  }\n\n  if (root._bokeh_is_loading === 0) {\n    console.debug(\"Bokeh: BokehJS loaded, going straight to plotting\");\n    run_inline_js();\n  } else {\n    load_libs(css_urls, js_urls, function() {\n      console.debug(\"Bokeh: BokehJS plotting callback run at\", now());\n      run_inline_js();\n    });\n  }\n}(window));"
          },
          "metadata": {
            "tags": []
          }
        },
        {
          "output_type": "display_data",
          "data": {
            "text/html": [
              "\n",
              "\n",
              "\n",
              "\n",
              "\n",
              "\n",
              "  <div class=\"bk-root\" id=\"81b2a043-ef85-4e19-accd-a2110496a3dc\" data-root-id=\"1480\"></div>\n"
            ]
          },
          "metadata": {
            "tags": []
          }
        },
        {
          "output_type": "display_data",
          "data": {
            "application/javascript": [
              "(function(root) {\n",
              "  function embed_document(root) {\n",
              "    \n",
              "  var docs_json = {\"c5d8a5a6-2b3d-4180-be15-a82cfc1b4070\":{\"roots\":{\"references\":[{\"attributes\":{\"below\":[{\"id\":\"1489\"}],\"center\":[{\"id\":\"1492\"},{\"id\":\"1496\"}],\"left\":[{\"id\":\"1493\"}],\"plot_height\":400,\"renderers\":[{\"id\":\"1514\"}],\"title\":{\"id\":\"1554\"},\"toolbar\":{\"id\":\"1504\"},\"x_range\":{\"id\":\"1481\"},\"x_scale\":{\"id\":\"1485\"},\"y_range\":{\"id\":\"1483\"},\"y_scale\":{\"id\":\"1487\"}},\"id\":\"1480\",\"subtype\":\"Figure\",\"type\":\"Plot\"},{\"attributes\":{\"overlay\":{\"id\":\"1503\"}},\"id\":\"1499\",\"type\":\"BoxZoomTool\"},{\"attributes\":{},\"id\":\"1556\",\"type\":\"BasicTickFormatter\"},{\"attributes\":{\"text\":\"\"},\"id\":\"1554\",\"type\":\"Title\"},{\"attributes\":{\"source\":{\"id\":\"1479\"}},\"id\":\"1515\",\"type\":\"CDSView\"},{\"attributes\":{},\"id\":\"1497\",\"type\":\"PanTool\"},{\"attributes\":{},\"id\":\"1502\",\"type\":\"HelpTool\"},{\"attributes\":{\"data_source\":{\"id\":\"1479\"},\"glyph\":{\"id\":\"1512\"},\"hover_glyph\":null,\"muted_glyph\":null,\"nonselection_glyph\":{\"id\":\"1513\"},\"selection_glyph\":null,\"view\":{\"id\":\"1515\"}},\"id\":\"1514\",\"type\":\"GlyphRenderer\"},{\"attributes\":{\"axis\":{\"id\":\"1493\"},\"dimension\":1,\"ticker\":null},\"id\":\"1496\",\"type\":\"Grid\"},{\"attributes\":{},\"id\":\"1498\",\"type\":\"WheelZoomTool\"},{\"attributes\":{},\"id\":\"1483\",\"type\":\"DataRange1d\"},{\"attributes\":{},\"id\":\"1561\",\"type\":\"UnionRenderers\"},{\"attributes\":{},\"id\":\"1490\",\"type\":\"BasicTicker\"},{\"attributes\":{\"callback\":null,\"tooltips\":[[\"phrase\",\"@phrase\"]]},\"id\":\"1516\",\"type\":\"HoverTool\"},{\"attributes\":{},\"id\":\"1501\",\"type\":\"ResetTool\"},{\"attributes\":{\"fill_alpha\":{\"value\":0.25},\"fill_color\":{\"field\":\"color\"},\"line_alpha\":{\"value\":0.25},\"line_color\":{\"field\":\"color\"},\"size\":{\"units\":\"screen\",\"value\":20},\"x\":{\"field\":\"x\"},\"y\":{\"field\":\"y\"}},\"id\":\"1512\",\"type\":\"Scatter\"},{\"attributes\":{},\"id\":\"1558\",\"type\":\"BasicTickFormatter\"},{\"attributes\":{\"fill_alpha\":{\"value\":0.1},\"fill_color\":{\"field\":\"color\"},\"line_alpha\":{\"value\":0.1},\"line_color\":{\"field\":\"color\"},\"size\":{\"units\":\"screen\",\"value\":20},\"x\":{\"field\":\"x\"},\"y\":{\"field\":\"y\"}},\"id\":\"1513\",\"type\":\"Scatter\"},{\"attributes\":{},\"id\":\"1494\",\"type\":\"BasicTicker\"},{\"attributes\":{\"formatter\":{\"id\":\"1556\"},\"ticker\":{\"id\":\"1490\"}},\"id\":\"1489\",\"type\":\"LinearAxis\"},{\"attributes\":{},\"id\":\"1485\",\"type\":\"LinearScale\"},{\"attributes\":{},\"id\":\"1560\",\"type\":\"Selection\"},{\"attributes\":{},\"id\":\"1487\",\"type\":\"LinearScale\"},{\"attributes\":{\"formatter\":{\"id\":\"1558\"},\"ticker\":{\"id\":\"1494\"}},\"id\":\"1493\",\"type\":\"LinearAxis\"},{\"attributes\":{\"active_drag\":\"auto\",\"active_inspect\":\"auto\",\"active_multi\":null,\"active_scroll\":{\"id\":\"1498\"},\"active_tap\":\"auto\",\"tools\":[{\"id\":\"1497\"},{\"id\":\"1498\"},{\"id\":\"1499\"},{\"id\":\"1500\"},{\"id\":\"1501\"},{\"id\":\"1502\"},{\"id\":\"1516\"}]},\"id\":\"1504\",\"type\":\"Toolbar\"},{\"attributes\":{\"axis\":{\"id\":\"1489\"},\"ticker\":null},\"id\":\"1492\",\"type\":\"Grid\"},{\"attributes\":{},\"id\":\"1481\",\"type\":\"DataRange1d\"},{\"attributes\":{\"data\":{\"color\":[\"blue\",\"blue\",\"blue\",\"blue\",\"blue\",\"blue\",\"blue\",\"blue\",\"blue\",\"blue\",\"blue\",\"blue\",\"blue\",\"blue\",\"blue\",\"blue\",\"blue\",\"blue\",\"blue\",\"blue\",\"blue\",\"blue\",\"blue\",\"blue\",\"blue\",\"blue\",\"blue\",\"blue\",\"blue\",\"blue\",\"blue\",\"blue\",\"blue\",\"blue\",\"blue\",\"blue\",\"blue\",\"blue\",\"blue\",\"blue\",\"blue\",\"blue\",\"blue\",\"blue\",\"blue\",\"blue\",\"blue\",\"blue\",\"blue\",\"blue\",\"blue\",\"blue\",\"blue\",\"blue\",\"blue\",\"blue\",\"blue\",\"blue\",\"blue\",\"blue\",\"blue\",\"blue\",\"blue\",\"blue\",\"blue\",\"blue\",\"blue\",\"blue\",\"blue\",\"blue\",\"blue\",\"blue\",\"blue\",\"blue\",\"blue\",\"blue\",\"blue\",\"blue\",\"blue\",\"blue\",\"blue\",\"blue\",\"blue\",\"blue\",\"blue\",\"blue\",\"blue\",\"blue\",\"blue\",\"blue\",\"blue\",\"blue\",\"blue\",\"blue\",\"blue\",\"blue\",\"blue\",\"blue\",\"blue\",\"blue\",\"blue\",\"blue\",\"blue\",\"blue\",\"blue\",\"blue\",\"blue\",\"blue\",\"blue\",\"blue\",\"blue\",\"blue\",\"blue\",\"blue\",\"blue\",\"blue\",\"blue\",\"blue\",\"blue\",\"blue\",\"blue\",\"blue\",\"blue\",\"blue\",\"blue\",\"blue\",\"blue\",\"blue\",\"blue\",\"blue\",\"blue\",\"blue\",\"blue\",\"blue\",\"blue\",\"blue\",\"blue\",\"blue\",\"blue\",\"blue\",\"blue\",\"blue\",\"blue\",\"blue\",\"blue\",\"blue\",\"blue\",\"blue\",\"blue\",\"blue\",\"blue\",\"blue\",\"blue\",\"blue\",\"blue\",\"blue\",\"blue\",\"blue\",\"blue\",\"blue\",\"blue\",\"blue\",\"blue\",\"blue\",\"blue\",\"blue\",\"blue\",\"blue\",\"blue\",\"blue\",\"blue\",\"blue\",\"blue\",\"blue\",\"blue\",\"blue\",\"blue\",\"blue\",\"blue\",\"blue\",\"blue\",\"blue\",\"blue\",\"blue\",\"blue\",\"blue\",\"blue\",\"blue\",\"blue\",\"blue\",\"blue\",\"blue\",\"blue\",\"blue\",\"blue\",\"blue\",\"blue\",\"blue\",\"blue\",\"blue\",\"blue\",\"blue\",\"blue\",\"blue\",\"blue\",\"blue\",\"blue\",\"blue\",\"blue\",\"blue\",\"blue\",\"blue\",\"blue\",\"blue\",\"blue\",\"blue\",\"blue\",\"blue\",\"blue\",\"blue\",\"blue\",\"blue\",\"blue\",\"blue\",\"blue\",\"blue\",\"blue\",\"blue\",\"blue\",\"blue\",\"blue\",\"blue\",\"blue\",\"blue\",\"blue\",\"blue\",\"blue\",\"blue\",\"blue\",\"blue\",\"blue\",\"blue\",\"blue\",\"blue\",\"blue\",\"blue\",\"blue\",\"blue\",\"blue\",\"blue\",\"blue\",\"blue\",\"blue\",\"blue\",\"blue\",\"blue\",\"blue\",\"blue\",\"blue\",\"blue\",\"blue\",\"blue\",\"blue\",\"blue\",\"blue\",\"blue\",\"blue\",\"blue\",\"blue\",\"blue\",\"blue\",\"blue\",\"blue\",\"blue\",\"blue\",\"blue\",\"blue\",\"blue\",\"blue\",\"blue\",\"blue\",\"blue\",\"blue\",\"blue\",\"blue\",\"blue\",\"blue\",\"blue\",\"blue\",\"blue\",\"blue\",\"blue\",\"blue\",\"blue\",\"blue\",\"blue\",\"blue\",\"blue\",\"blue\",\"blue\",\"blue\",\"blue\",\"blue\",\"blue\",\"blue\",\"blue\",\"blue\",\"blue\",\"blue\",\"blue\",\"blue\",\"blue\",\"blue\",\"blue\",\"blue\",\"blue\",\"blue\",\"blue\",\"blue\",\"blue\",\"blue\",\"blue\",\"blue\",\"blue\",\"blue\",\"blue\",\"blue\",\"blue\",\"blue\",\"blue\",\"blue\",\"blue\",\"blue\",\"blue\",\"blue\",\"blue\",\"blue\",\"blue\",\"blue\",\"blue\",\"blue\",\"blue\",\"blue\",\"blue\",\"blue\",\"blue\",\"blue\",\"blue\",\"blue\",\"blue\",\"blue\",\"blue\",\"blue\",\"blue\",\"blue\",\"blue\",\"blue\",\"blue\",\"blue\",\"blue\",\"blue\",\"blue\",\"blue\",\"blue\",\"blue\",\"blue\",\"blue\",\"blue\",\"blue\",\"blue\",\"blue\",\"blue\",\"blue\",\"blue\",\"blue\",\"blue\",\"blue\",\"blue\",\"blue\",\"blue\",\"blue\",\"blue\",\"blue\",\"blue\",\"blue\",\"blue\",\"blue\",\"blue\",\"blue\",\"blue\",\"blue\",\"blue\",\"blue\",\"blue\",\"blue\",\"blue\",\"blue\",\"blue\",\"blue\",\"blue\",\"blue\",\"blue\",\"blue\",\"blue\",\"blue\",\"blue\",\"blue\",\"blue\",\"blue\",\"blue\",\"blue\",\"blue\",\"blue\",\"blue\",\"blue\",\"blue\",\"blue\",\"blue\",\"blue\",\"blue\",\"blue\",\"blue\",\"blue\",\"blue\",\"blue\",\"blue\",\"blue\",\"blue\",\"blue\",\"blue\",\"blue\",\"blue\",\"blue\",\"blue\",\"blue\",\"blue\",\"blue\",\"blue\",\"blue\",\"blue\",\"blue\",\"blue\",\"blue\",\"blue\",\"blue\",\"blue\",\"blue\",\"blue\",\"blue\",\"blue\",\"blue\",\"blue\",\"blue\",\"blue\",\"blue\",\"blue\",\"blue\",\"blue\",\"blue\",\"blue\",\"blue\",\"blue\",\"blue\",\"blue\",\"blue\",\"blue\",\"blue\",\"blue\",\"blue\",\"blue\",\"blue\",\"blue\",\"blue\",\"blue\",\"blue\",\"blue\",\"blue\",\"blue\",\"blue\",\"blue\",\"blue\",\"blue\",\"blue\",\"blue\",\"blue\",\"blue\",\"blue\",\"blue\",\"blue\",\"blue\",\"blue\",\"blue\",\"blue\",\"blue\",\"blue\",\"blue\",\"blue\",\"blue\",\"blue\",\"blue\",\"blue\",\"blue\",\"blue\",\"blue\",\"blue\",\"blue\",\"blue\",\"blue\",\"blue\",\"blue\",\"blue\",\"blue\",\"blue\",\"blue\",\"blue\",\"blue\",\"blue\",\"blue\",\"blue\",\"blue\",\"blue\",\"blue\",\"blue\",\"blue\",\"blue\",\"blue\",\"blue\",\"blue\",\"blue\",\"blue\",\"blue\",\"blue\",\"blue\",\"blue\",\"blue\",\"blue\",\"blue\",\"blue\",\"blue\",\"blue\",\"blue\",\"blue\",\"blue\",\"blue\",\"blue\",\"blue\",\"blue\",\"blue\",\"blue\",\"blue\",\"blue\",\"blue\",\"blue\",\"blue\",\"blue\",\"blue\",\"blue\",\"blue\",\"blue\",\"blue\",\"blue\",\"blue\",\"blue\",\"blue\",\"blue\",\"blue\",\"blue\",\"blue\",\"blue\",\"blue\",\"blue\",\"blue\",\"blue\",\"blue\",\"blue\",\"blue\",\"blue\",\"blue\",\"blue\",\"blue\",\"blue\",\"blue\",\"blue\",\"blue\",\"blue\",\"blue\",\"blue\",\"blue\",\"blue\",\"blue\",\"blue\",\"blue\",\"blue\",\"blue\",\"blue\",\"blue\",\"blue\",\"blue\",\"blue\",\"blue\",\"blue\",\"blue\",\"blue\",\"blue\",\"blue\",\"blue\",\"blue\",\"blue\",\"blue\",\"blue\",\"blue\",\"blue\",\"blue\",\"blue\",\"blue\",\"blue\",\"blue\",\"blue\",\"blue\",\"blue\",\"blue\",\"blue\",\"blue\",\"blue\",\"blue\",\"blue\",\"blue\",\"blue\",\"blue\",\"blue\",\"blue\",\"blue\",\"blue\",\"blue\",\"blue\",\"blue\",\"blue\",\"blue\",\"blue\",\"blue\",\"blue\",\"blue\",\"blue\",\"blue\",\"blue\",\"blue\",\"blue\",\"blue\",\"blue\",\"blue\",\"blue\",\"blue\",\"blue\",\"blue\",\"blue\",\"blue\",\"blue\",\"blue\",\"blue\",\"blue\",\"blue\",\"blue\",\"blue\",\"blue\",\"blue\",\"blue\",\"blue\",\"blue\",\"blue\",\"blue\",\"blue\",\"blue\",\"blue\",\"blue\",\"blue\",\"blue\",\"blue\",\"blue\",\"blue\",\"blue\",\"blue\",\"blue\",\"blue\",\"blue\",\"blue\",\"blue\",\"blue\",\"blue\",\"blue\",\"blue\",\"blue\",\"blue\",\"blue\",\"blue\",\"blue\",\"blue\",\"blue\",\"blue\",\"blue\",\"blue\",\"blue\",\"blue\",\"blue\",\"blue\",\"blue\",\"blue\",\"blue\",\"blue\",\"blue\",\"blue\",\"blue\",\"blue\",\"blue\",\"blue\",\"blue\",\"blue\",\"blue\",\"blue\",\"blue\",\"blue\",\"blue\",\"blue\",\"blue\",\"blue\",\"blue\",\"blue\",\"blue\",\"blue\",\"blue\",\"blue\",\"blue\",\"blue\",\"blue\",\"blue\",\"blue\",\"blue\",\"blue\",\"blue\",\"blue\",\"blue\",\"blue\",\"blue\",\"blue\",\"blue\",\"blue\",\"blue\",\"blue\",\"blue\",\"blue\",\"blue\",\"blue\",\"blue\",\"blue\",\"blue\",\"blue\",\"blue\",\"blue\",\"blue\",\"blue\",\"blue\",\"blue\",\"blue\",\"blue\",\"blue\",\"blue\",\"blue\",\"blue\",\"blue\",\"blue\",\"blue\",\"blue\",\"blue\",\"blue\",\"blue\",\"blue\",\"blue\",\"blue\",\"blue\",\"blue\",\"blue\",\"blue\",\"blue\",\"blue\",\"blue\",\"blue\",\"blue\",\"blue\",\"blue\",\"blue\",\"blue\",\"blue\",\"blue\",\"blue\",\"blue\",\"blue\",\"blue\",\"blue\",\"blue\",\"blue\",\"blue\",\"blue\",\"blue\",\"blue\",\"blue\",\"blue\",\"blue\",\"blue\",\"blue\",\"blue\",\"blue\",\"blue\",\"blue\",\"blue\",\"blue\",\"blue\",\"blue\",\"blue\",\"blue\",\"blue\",\"blue\",\"blue\",\"blue\",\"blue\",\"blue\",\"blue\",\"blue\",\"blue\",\"blue\",\"blue\",\"blue\",\"blue\",\"blue\",\"blue\",\"blue\",\"blue\",\"blue\",\"blue\",\"blue\",\"blue\",\"blue\",\"blue\",\"blue\",\"blue\",\"blue\",\"blue\",\"blue\",\"blue\",\"blue\",\"blue\",\"blue\",\"blue\",\"blue\",\"blue\",\"blue\",\"blue\",\"blue\",\"blue\",\"blue\",\"blue\",\"blue\",\"blue\",\"blue\",\"blue\",\"blue\",\"blue\",\"blue\",\"blue\",\"blue\",\"blue\",\"blue\",\"blue\",\"blue\",\"blue\",\"blue\",\"blue\",\"blue\",\"blue\",\"blue\",\"blue\",\"blue\",\"blue\",\"blue\",\"blue\",\"blue\",\"blue\",\"blue\",\"blue\",\"blue\",\"blue\",\"blue\",\"blue\",\"blue\",\"blue\",\"blue\",\"blue\",\"blue\",\"blue\",\"blue\",\"blue\",\"blue\",\"blue\",\"blue\",\"blue\",\"blue\",\"blue\",\"blue\",\"blue\",\"blue\",\"blue\",\"blue\",\"blue\",\"blue\",\"blue\",\"blue\",\"blue\",\"blue\",\"blue\",\"blue\",\"blue\",\"blue\",\"blue\",\"blue\",\"blue\",\"blue\",\"blue\",\"blue\",\"blue\",\"blue\",\"blue\",\"blue\",\"blue\",\"blue\",\"blue\",\"blue\",\"blue\",\"blue\",\"blue\",\"blue\",\"blue\",\"blue\",\"blue\",\"blue\",\"blue\",\"blue\",\"blue\",\"blue\",\"blue\",\"blue\",\"blue\",\"blue\",\"blue\",\"blue\",\"blue\",\"blue\",\"blue\",\"blue\",\"blue\",\"blue\",\"blue\",\"blue\",\"blue\",\"blue\",\"blue\",\"blue\",\"blue\",\"blue\",\"blue\",\"blue\",\"blue\",\"blue\",\"blue\",\"blue\",\"blue\",\"blue\",\"blue\",\"blue\",\"blue\",\"blue\",\"blue\",\"blue\",\"blue\",\"blue\",\"blue\",\"blue\",\"blue\",\"blue\",\"blue\",\"blue\",\"blue\",\"blue\",\"blue\",\"blue\",\"blue\",\"blue\",\"blue\",\"blue\",\"blue\",\"blue\",\"blue\",\"blue\",\"blue\"],\"phrase\":[\"Can I get back with my ex even though she is pregn\",\"What is the best way to become an arms dealer in t\",\"Why doesn't Japan contribute to peace and prosperi\",\"Which is the best Panasonic air conditioner servic\",\"What did ancient Egyptians believe about the after\",\"How does one prepare for the RBI grade B officers \",\"Which institutions in Kolkata give coaching for en\",\"Will omar bravo be in fifa 17?\\n\",\"What are the pros and cons of arranged marriages?\\n\",\"What will happen if all the vegetable dies?\\n\",\"Why do people hate hypocrites?\\n\",\"What do you consider poor, middle class, wealthy a\",\"How do I concentrate on my studies?\\n\",\"What is new age psychobabble?\\n\",\"How can you tell if your man is cheating even if h\",\"Can you see yourself during lucid dreaming?\\n\",\"Which browser is most safe in terms of privacy and\",\"Can Google Assistant run on OnePlus 3T?\\n\",\"Apart from the VW Vento / Polo and Skoda Rapid, ar\",\"What is Panera Bread?\\n\",\"Do athletes live longer and healthier? If not, why\",\"Could a pitbull take on a wolf in a fight?\\n\",\"What has Obama done for Latinos/Hispanics?\\n\",\"How much is |x|^2?\\n\",\"How does operator.com work?\\n\",\"Why do people not make movies/talk about the Romas\",\"What were the major contributions of the political\",\"Company Secretaries (CS): How do I prepare for CS \",\"What are the job prospects of chemical engineers a\",\"I have never gone to a bank. How do I put money in\",\"What is the best strategy to prepare for the GATE \",\"Who is this porn star?\\n\",\"Why are specs & sunglasses so expensive?\\n\",\"I installed the movie torrent with Ultra XVid Code\",\"Can we ride scootry with learning lisence age of 1\",\"Two cards were drawn, without replacement, from a \",\"How much money is needed per month to live in indi\",\"Why do companies issue bonus shares?\\n\",\"Why are Iranians and Afghans considered white Amer\",\"Could mumps cause deafness?\\n\",\"What is meaning of sadaka?\\n\",\"What should I know before starting a YouTube caree\",\"Is the ITI College Principal is gazetted officer?\\n\",\"How do you feel now that Donald Trump is now the P\",\"What is the difference between imperial units and \",\"What is the easiest way to do effective self hypno\",\"Why has China increased its involvement in the Syr\",\"From which year CBSE class 10th exam be reintroduc\",\"Is 1080p a Blu-ray?\\n\",\"Does using mirrors to concentrate thermal energy d\",\"How do I avoid attractions by phones?\\n\",\"What are some of the effects of education can you \",\"What are the characteristics of a Pisces Sun/Libra\",\"What is the most cost-effective option to ship pac\",\"Are red and blue complementary colors?\\n\",\"Is it possible to make a material that is a superc\",\"What is the best Shonen Jump manga?\\n\",\"Are Oracle and Cisco good companies for a new grad\",\"If lighting a match is considered a chemical chang\",\"Why is Hillary so afraid of Putin?\\n\",\"Which is the best book to study electronics basics\",\"What are the basics I should know before learning \",\"Can I use Cph4 on a day to day basis?\\n\",\"Is it safe when I buy things from China?\\n\",\"Why did some ethnic minorities support Brexit?\\n\",\"How much money has tinder made?\\n\",\"What is the limit?\\n\",\"Will browsing Facebook while connected to Tor reve\",\"If I get 68.4 percent in ftre 2016 class 10 then w\",\"No product market fit: change product or market fi\",\"What makes you sad about India?\\n\",\"How do I know if someone has read my messages on w\",\"Why there is a sound when we crack our knuckles?\\n\",\"Why do I only make friends with guys?\\n\",\"What is 'open-mindedness'?\\n\",\"What is the cause of carpal tunnel syndrome?\\n\",\"What is the difference between a \\\"slow cooker\\\" and\",\"What is Hillary Clinton's stance on nuclear energy\",\"Do IIT colleges require a caste validity for an ST\",\"How do I listen a song from you?\\n\",\"Why do so many Iranians immigrate to Canada?\\n\",\"What will happen to India-U.S. relations after Tru\",\"A program that stored five words in the memory the\",\"What are ways of joining to ISRO as engineer other\",\"Can Magneto defeat Hulk?\\n\",\"What time of year is it best to visit Singapore?\\n\",\"How do I study for ib?\\n\",\"What should I do if someone doesn't reply to my em\",\"How much does Manveer Singh Phogat gets for Dangal\",\"What is it like to be cannibal?\\n\",\"How can the Android app development companies help\",\"Who would you say is the most fun person in Israel\",\"How can one improve her figure and butt size witho\",\"As a company that provides travel agencies and tou\",\"What is the most beautiful thing you saw today?\\n\",\"Is gay flirting good?\\n\",\"Can I use Stripe in Europe?\\n\",\"Will Britain leaving the European Union lead to th\",\"Why are so many East Asian immigrants so averse to\",\"Why do we need computer networking?\\n\",\"What is retina detachment?\\n\",\"Why don't more bars have mechanical bulls?\\n\",\"How do I get better understanding of C++?\\n\",\"Which is the most profitable Porsche US dealer?\\n\",\"What are the best over the ear headphones for abou\",\"Is it true that the first kill is the hardest?\\n\",\"Which is best 32 inch led tv to buy below 20,000 I\",\"I am scoring 130/506 in FiitJEE aits part test adv\",\"What kind of websites are missing from the Interne\",\"What is the best way to use free time at IITB?\\n\",\"Is it possible for me to buy my first company usin\",\"What should I do to have sex with as many women as\",\"What is the scope of Executive MBA in India?\\n\",\"Which BMW models do not have a Hofmeister Kink?\\n\",\"What is yellow journalism?\\n\",\"Why do doctors charge uninsured patients 10 times \",\"Which one is the best public sector job or private\",\"Will social media ever help to spur on the US youn\",\"How should I know a video is 360 degree?\\n\",\"Is a practice manual sufficient for the CA Final I\",\"Career Advice: Being an Indian college student, ho\",\"What are the advantages and disadvantages of Li-Fi\",\"On Snapchat, I deleted someone. Can they re-add me\",\"Are there any cereals that taste good with water?\\n\",\"Why does a woman's vagina push a mans penis out?\\n\",\"What is the British word for bullpen?\\n\",\"How hard is it for international students to get a\",\"How did Revan build his foundation of his army in \",\"What is the best way to read a fictional book? Do \",\"How do you replace a ignition lock cylinder?\\n\",\"How can I prevent business failure?\\n\",\"How often do tides occur? What causes it?\\n\",\"How do I learn Calculus on my own?\\n\",\"What is the reason for Priyanka Gandhi not changin\",\"What should I eat when I'm sick with a cold or flu\",\"What is a Business Intelligence Analyst?\\n\",\"Which sports should I start to play to paticipate \",\"How should I prepare for Java fresher interview?\\n\",\"How different are cuisines of Arab countries?\\n\",\"What is the meaning of the phrase, all is fair in \",\"Why does Quora send me a notification that my ques\",\"What are the hardest obstacles to breaking into a \",\"What makes a falling snowflake large (or not)?\\n\",\"What is the compensation for Partners/Principals a\",\"What is the difference between an array and a vect\",\"If you kiss the NC State wolf do you become an NC \",\"Is it boring (from a social perspective) to live i\",\"What would have happened if in 1971 war all 93000 \",\"What are the easiest things to do while being abro\",\"Does getting root canal cause problem in speaking \",\"What is the definition of a truncated sentence and\",\"Would I look good with a nose ring? if yes which n\",\"What are the perks of working in Amazon?\\n\",\"How can we say that climate change does not bring \",\"What it is like to meet \\\"Shahid Kapoor\\\"?\\n\",\"How does it feel when you are dead?\\n\",\"Which is the best juicer, grinder or mixer in Indi\",\"How do I learn to think more logically?\\n\",\"Which movie has the best beginning ever?\\n\",\"Which laws been enacted to prevent family members \",\"What is iPhone 6s plus cost present?\\n\",\"What is Ohm's law and amperage I?\\n\",\"What is the nicest thing a stranger has done for y\",\"Why do some heroic people who do good things choos\",\"How will Hindus react if Babri Masjid is reconstru\",\"R2I - How did you plan R2I from US if you own the \",\"How can I master C programming in 7 days?\\n\",\"What is the right way to clean ear wax?\\n\",\"What are some good games to play during class?\\n\",\"Is it possible to hack WhatsApp messenger?\\n\",\"Why do airplanes carry more weight than helicopter\",\"Shaving: Do electric shavers work better than manu\",\"Has anyone benefited, health-wise, from essential \",\"Can Students at Hogwarts have sex while there? Doe\",\"How can we enhance our efficiency with Yoga?\\n\",\"What are the best app review sites and blogs?\\n\",\"Can two companies be registered on the same addres\",\"Is it true that as per Indian law, one can't be ha\",\"Who would win in a war between Bangladesh and Myan\",\"How do you reply when someone thanks you for forgi\",\"Who would win a fight between wolverine and Batman\",\"What is one thing you wish for yourself in the fut\",\"Can you cry underwater?\\n\",\"What's the difference between SSL, TLS, and HTTPS?\",\"Why are antigravity muscles more affected in Upper\",\"In order to buy a house, does one have to rent fir\",\"What is the probability of choosing a pink ball fr\",\"Which is the best car to get under 8 lakhs?\\n\",\"Why isn't China's role in the Korean and Vietnam w\",\"What is the Laplace transform of t^(1/2) * e^ (-1/\",\"To those who told a big lie to their parents and t\",\"What is runtime polymorphism or dynamic method dis\",\"I had sex 5 days after my period, what are the cha\",\"How would you describe yourself in one tweet?\\n\",\"How do fairy tales influence creativity in humans?\",\"How do I add delay() and sound() in Dev-C++?\\n\",\"What is the pathophysiology of ADHD?\\n\",\"What are the top benefits of life insurance polici\",\"Can I get a TV from Bang & Olufsen for under $2500\",\"How is the life of an ece student at dayananda sag\",\"What is meditation?\\n\",\"Were the Ancient Greeks scientists, or just philos\",\"How does Google authenticator work?\\n\",\"Wouldn't it be better if kids were allowed to focu\",\"Can you apply for a certificate on Coursera/edX af\",\"Why do Quora engineers use large monitors?\\n\",\"How do I start an online clothing business?\\n\",\"How will the government meet the challenges of acc\",\"I saw a charge on my credit card under from a comp\",\"What is the difference between socialization and r\",\"How would the world be different if everyone spoke\",\"Who receives the fares in a cab service?\\n\",\"As a non-resident alien doing a summer internship \",\"Which is the best camera smartphone under 20k?\\n\",\"What does it mean to dream about someone before th\",\"What are the subjects in which I can apply for my \",\"What are the basics of Jainism?\\n\",\"What is the Difference between existential nihilis\",\"How can I see my girlfriend's WhatsApp chat messag\",\"What are some ways to enjoy sex with my newly marr\",\"How can I study the Bible?\\n\",\"How can someone be a friend, girlfriend, wife and \",\"What are the Snapchat usernames of punjabi celebri\",\"What is 1/2 times 1/2?\\n\",\"Where does the word restaurant come from and what \",\"What can I do with a computational linguistics deg\",\"Will trump win as president?\\n\",\"What impact will AI eventually have on how we plan\",\"Why is eating too unhealthy?\\n\",\"What if the Syrian civil war never happened?\\n\",\"How do the teachings, learning, followership and/o\",\"Did you ever been in a group of stupid people?\\n\",\"What are the multiple types of social issues?\\n\",\"Where can I find beginner NodeJS tutorials that us\",\"If I got a 7.4 CGPA in the SA1 10 class, then can \",\"Which the best time table for 10th class exams pre\",\"Elite Escorts in DHA Lahore?\\n\",\"My ex bf says he doesn't have feelings for me righ\",\"What are the questions in the interview for a fres\",\"What do you think are some of benefits to humans f\",\"Which one is the best medical college hostel in in\",\"Have you lived in a tiny house?\\n\",\"What are some things new employees should know goi\",\"Where can I hire high pressure cleaning service in\",\"How many Bollywood Actresses consume alcohol in re\",\"How does PayU earn money?\\n\",\"Is it possible to change your personality as a chi\",\"How do I apply to London School of Economics as an\",\"How do I build a profile to get accepted into a st\",\"How can I get real ghost stories?\\n\",\"Is it possible to hack NASA's New Horizons satelli\",\"What is the best way of getting good at answering \",\"How would you deal with jerks?\\n\",\"How can I do internship in Accenture India?\\n\",\"Why would an Indian girl not want to get married?\\n\",\"My WhatsApp chat backup got deleted from Google, I\",\"Is going to college really worth it or just a wast\",\"How many prophets did God send to the Jews?\\n\",\"What is the relation and difference between Artifi\",\"If you don\\u2019t have a good network, what would be th\",\"What are the best place to visit in Rio de Janeiro\",\"Which is the best college for PG in Cyber Security\",\"Which are the best English serials?\\n\",\"How do you say \\u201cWhat\\u2019s up?\\u201d in Chinese?\\n\",\"Is it bad to take expired fish oil pills because t\",\"Will there ever be a genuine Authoritarian candida\",\"Is World War III on its way right now?\\n\",\"How can you use time formats in Excel?\\n\",\"What is the best antivirus for Windows 8?\\n\",\"Why do people like Metal/Hard rock so much?\\n\",\"What are the worst smelling things in the world?\\n\",\"Could someone explain the following electives at N\",\"What's a funny thing?\\n\",\"What are the main reason of cracks?\\n\",\"How do I hitchhike in Europe?\\n\",\"What is the physical significance of quantum mecha\",\"How do we get dead people off business junk mail l\",\"Who among the four in the picture given in descrip\",\"How do I know if I authentically, genuinely, hones\",\"On average, how long does it take a letter mail fr\",\"When will One Piece have episode 517 dubbed?\\n\",\"What should I do if I fell in love with my best fr\",\"How do criminal lawyers sleep at night even when t\",\"Can I get refund for Tatkal e-ticket because train\",\"How can I buy the new Macbook 12\\\" M7 512GB model i\",\"What are the different e-governance methods used b\",\"How do I run smoother GTA V? I have intel core i3 \",\"What is the use of tanpura?\\n\",\"What are the Snapchat usernames of celebrities?\\n\",\"Which is better- cracking gate and going for IIT/i\",\"Can you lose weight without exercising?\\n\",\"What is the best way to make life more interesting\",\"Is Delhi a must for UPSC coaching?\\n\",\"Which are the best colleges for electronics and in\",\"I have been a .Net developer for over 2 years and \",\"Has a smartphone ever been taken to space? If yes \",\"What questions should I ask my boyfriend, we are b\",\"How do I delete a contact blocked in WhatsApp?\\n\",\"Is it a good time to buy real estate in Cyprus?\\n\",\"South India: Why is South India much more develope\",\"What is the formula for a hydrocarbon?\\n\",\"What if an alien comes and tells us that the physi\",\"What are the pros & cons of democracy?\\n\",\"I'm 16 years old and wanted to lose weight and bod\",\"Can I add more peers to the torrent for max speed \",\"What are the best neighborhoods to Airbnb in Chica\",\"What we will get in mahabalipuram beach sunrise or\",\"How fast can you accelerate to the speed of light?\",\"What is the difference between R-squared and Adjus\",\"How many times can women reach orgasm in a hour an\",\"Why didn't Johor, Batam & Singapore integrate more\",\"Which products are more profitable in online sell?\",\"How do I get rid of muscle?\\n\",\"What is the process of directing and casting child\",\"Is the 7th pay commission needed?\\n\",\"What are the best games that are compatible on a C\",\"What was the significance of the battle of Somme, \",\"How do you see Pakistan PM Nawaz Sharif's speech a\",\"Where can I publish my apps?\\n\",\"What was your darkest moment?\\n\",\"Why does the UK have an unwritten Constitution?\\n\",\"What are the necessary steps in documenting a mobi\",\"Why was life created? Why was life so painful?\\n\",\"How can I use explainer video to review products o\",\"What is difference between residue and error?\\n\",\"If 6.5 to 8.5 will be the safe level of pH value i\",\"I am 23 and don't know what I want. My life is ver\",\"What are your three favorite websites for reading?\",\"Why do people choose to be a GAY?\\n\",\"What is the process of death?\\n\",\"Why does light red deserve the special name \\\"pink\\\"\",\"Who are millennials?\\n\",\"What it's like doing CA articleship from Big 4s?\\n\",\"What is the most important right or freedom guaran\",\"Why do some porn stars have unprotected sex?\\n\",\"What are my reasons to live?\\n\",\"How small would a planet need to be to plainly see\",\"Some religion speaks of burning in hell after deat\",\"What does it feel like to be an IITian?\\n\",\"How does cognitive behavioural therapy work?\\n\",\"Why should you visit India?\\n\",\"I lost my Google account information. How can I re\",\"What if I port a number from Airtel to Vodafone in\",\"What are the reasons why time travel is impossible\",\"Will my iPhone alarm still go off if \\\"Do Not Distu\",\"Did South Korea cheat during the 2014 Asian Games?\",\"Take the minimum lethal volume of a gaz, put it in\",\"\\\"How to improve Project Management skills?\\\"\\n\",\"When you were small, did you ever think that your \",\"Where did the pointy \\\"S\\\" symbol come from?\\n\",\"How does it feels like to have a rich boyfriend?\\n\",\"What have you used your intelligence for?\\n\",\"What is a freewheeling diode?\\n\",\"How do we derive pi?\\n\",\"What is the importance of communication skills in \",\"How can I put icons on YouTube video titles? Also \",\"What does the phrase \\\"resonate with me\\\" mean?\\n\",\"How many types do we have of Manual testing?\\n\",\"What are IBAN numbers?\\n\",\"What is regret?\\n\",\"As a student specializing in English language, lit\",\"What is the corporate culture like at Corning? How\",\"How can I convert jazz standards to jazz guitar so\",\"How good was the surgical strike by Indian Army on\",\"What recipes are most conducive to romance?\\n\",\"What are the unknown facts about Tamil people whic\",\"Where do I find the most beautiful woman in the wo\",\"What does the grey phone icon mean on the messenge\",\"How do I share 360\\u00b0 photos on WhatsApp?\\n\",\"What is the difference between working stress meth\",\"What are the opportunities for an MBA in finance?\\n\",\"Can you patent clothing or fashion designs?\\n\",\"My in laws are apologists for Nazi war criminals a\",\"Which is the safest city in India for women?\\n\",\"What horse breed were commonly used during the \\\"Wi\",\"Is it weird to sometimes feel almost overwhelmed b\",\"Can anyone please list all the SAP SD topics a per\",\"In the filling of ibps application I put martial s\",\"In a restaurant, what are the different types of t\",\"Why does amir khan never go to any filmy awards fu\",\"What is a good inpatient drug and alcohol rehab ce\",\"Why does UV light cause contamination on optics, b\",\"How do I invest in mutual funds in India?\\n\",\"How comfortable are you with failure?\\n\",\"What skills are required to become a quant?\\n\",\"Why do startups announce fundraising?\\n\",\"What is your review of Amazon Video?\\n\",\"Why there is no team from Tamil nadu in pro kabbad\",\"How do I auto forward texts from my Verizon phone \",\"How do the Chinese people view Americans?\\n\",\"What is virgin or virginity?\\n\",\"What are the different ways of submitting a Reques\",\"Can a high school teacher legally force students t\",\"Why does water droplets form on the outer surface \",\"Which mammals have dark circles around eyes beside\",\"How do each components of a printer work?\\n\",\"What are some foods beginning with the letter W?\\n\",\"What are symptoms of a bad transmission control mo\",\"How do astronauts in ISS vote for Presidential ele\",\"What is the difference between Aim and Goal?\\n\",\"What is AT & C?\\n\",\"Who was Jackson Pollock? Was he mentally ill?\\n\",\"How do I make good vine edits?\\n\",\"How can I cut my penis?\\n\",\"How can I change my Quora profile photo?\\n\",\"My husband was here seeking asylum before we got m\",\"Is it good to use Laravel to develop a web app wit\",\"I have a mild sore throat an headache. What is tha\",\"When will a working nintendo 3DS emulator release \",\"What do we know about the health effects of vaping\",\"INSEAD: Worth the investment?\\n\",\"How is long rides in royal Enfield classic 350?\\n\",\"What famous boxers have participated on Dancing wi\",\"Will season 10 of Big Bang Theory be the final sea\",\"Can I crack KVPY (SX) with only three months left \",\"What are some little-known facts from World War II\",\"What is the most unique way of exam cheating you'v\",\"When was the last time a slam dunk broke a basketb\",\"What should I do for my excessive hair loss?\\n\",\"How do I find people's psychological weakness?\\n\",\"What is the difference between Awareness and Consc\",\"I hate everything that people around me like. Is i\",\"I think I am pretty good at thinking of a business\",\"How do you determine the thickness of a footing ba\",\"Why does vapours are formed when we pressurize alc\",\"Is it easy to adjust in German Universities withou\",\"What is UNIX and UNIX-like?\\n\",\"What is the best way to promote www.dorkyard.com?\\n\",\"What's up in Addis Abeba tonight?\\n\",\"Is there any point to going to college if you have\",\"How much would it cost to construct 800 sqft area \",\"What is an ideal wife? What is an ideal husband? W\",\"What information does port scanning provide?\\n\",\"What are the application of quasicrystals?\\n\",\"What is the determinant of the inverse of a matrix\",\"How is Brad Pitt in \\\"real Life\\\"?\\n\",\"I have a 3 yr bachelor's degree in Computer Scienc\",\"Demonetisation is good for county like India or no\",\"My parents think I am rude for being so introverte\",\"How many people have jumped off the Golden Gate br\",\"What are Osho's views on Islam?\\n\",\"Why does the government regulate health care?\\n\",\"Which phone has the best sound recording quality?\\n\",\"What is the best part of your life, and why is it \",\"Which is better hair wax or hair clay?\\n\",\"How do I charge my motorcycle battery?\\n\",\"What are the updates we get after miui 8.0.6.0?\\n\",\"Why does Robinhood need to bypass the App Store?\\n\",\"Which is a better route, Alipiri or Sri Vaari?\\n\",\"How much extra would it cost if Apple manufactured\",\"When will the next recession be?\\n\",\"What are some arguments in support of electing Don\",\"What does Russia want with Ukraine?\\n\",\"What is the difference between a recorder (block f\",\"What is the meaning of random number?\\n\",\"Which one is good for health: tea or coffee?\\n\",\"Is Texas good state for non-resident to register a\",\"What is kirchoff's law?\\n\",\"Is it wrong for a family member to keep making com\",\"My parents are forcing to marry a girl of their ch\",\"Which is better, Windows+Linux or OSX?\\n\",\"Why aren\\u2019t Christians that pray to/have a relation\",\"How much TDS will I have to pay for an RD account \",\"What is the meaning of thematic connection?\\n\",\"How should you prepare to take your maneuverabilit\",\"What are the best materials/videos/resources to ge\",\"Can a \\\"dirty\\\" finish be added back to jeans?\\n\",\"Why does my dog keep whining at night?\\n\",\"Is it bad to turn off my PC using the power button\",\"What is image processing?\\n\",\"I went to school with mostly black kids, they bull\",\"Does Donald Trump actually think he can become Pre\",\"Which are the 5 best movies you have ever seen?\\n\",\"How do I get traffic to excursions travel website?\",\"Where can I download the Android game Leo's Fortun\",\"How do I get more followers and upvotes on Quora?\\n\",\"What is a factory reset on a phone?\\n\",\"Which phone should I buy if my budget is 12000?\\n\",\"I have GPU implementation as a graduation project.\",\"What are the libertarian views on the Antarctic Tr\",\"What would the world be like if it were ruled by a\",\"How do you choose your first bank?\\n\",\"Who runs berkuliah.com?\\n\",\"What does Godel's incompleteness theorem mean for \",\"How do I delete a Gmail account?\\n\",\"If my ultimate goal is to become a vegan, should I\",\"Did the US win the war in Afghanistan?\\n\",\"How can I become a good engineering student?\\n\",\"What are some ways to increase intuition?\\n\",\"What causes depression in humans?\\n\",\"How can I control my anxiety and worries?\\n\",\"How can we jump in between the working regions of \",\"How do I stop loving someone who loves me?\\n\",\"Can personality and insecurity create a liar?\\n\",\"What is the best country and university to do a Ph\",\"How do I edit a video offline?\\n\",\"What is the rent of kiosk in an upscale mall?\\n\",\"What should I start reading if I want to attempt t\",\"Which is the best anti-virus for computers?\\n\",\"Does food unite people?\\n\",\"What do you like most about Internet?\\n\",\"What is a good model of federalism in the Philippi\",\"How do you know if a girl secretly loves you?\\n\",\"Who is the most annoying fictional character you h\",\"How do you feel when your question is unanswered o\",\"Did early humans know how babies were made?\\n\",\"If I cancel xfinity, how can I sign up as a new cu\",\"Are there any TV series similar to House MD?\\n\",\"What you need to know before buying furniture for \",\"Have you ever had a dream happen in reality?\\n\",\"Is dark matter just a scientific theory or has its\",\"How can you increase your tolerance for pain?\\n\",\"How many logical fallacies are there?\\n\",\"How do buttercream icing frosting separate?\\n\",\"Which is the cheapest cinema hall of India?\\n\",\"What do you think would be a good gre score?\\n\",\"What is the best way to update Xiaomi redmi 3 to M\",\"What does toe jam cheese taste like?\\n\",\"How do I know if a YouTube video is copyrighted?\\n\",\"How should I start a business reselling shoes?\\n\",\"How do I hire a mobile app development company?\\n\",\"What is paras pathar?\\n\",\"How is the word \\\"colony\\\" used in a sentence?\\n\",\"What is Rebecca Fugate known for?\\n\",\"What should I consider before starting my consulta\",\"Do you feel that many attractive women get away wi\",\"Why do I feel so much guilt for kissing a girl?\\n\",\"What are some good tutorials for learning Blender?\",\"Is it deceitful to befriend someone in the hopes t\",\"Who do you think BJP will put as a candidate for t\",\"Which protein supplement is best for gym to gain w\",\"What is your review of KVPY SX/SB 2016?\\n\",\"How do I get people's attention for my work?\\n\",\"What are some of your own personal stories and exp\",\"If salt concentration of the sea(3%) were differen\",\"What is the chemical name for mothballs? How was i\",\"Vitamin D receptors in the Testes?\\n\",\"How do I lose weight without working out?\\n\",\"Where can I watch anime?\\n\",\"What is BusyBox used for?\\n\",\"What would be a good desktop computer for software\",\"What are your top five favorite books and why?\\n\",\"What are some good Harry/Ginny fanfiction?\\n\",\"What are the pros and cons of having sex during pe\",\"Which device will you enjoy watching movies in: a \",\"Will there be \\\"faithless\\\" electors this election?\\n\",\"Is Donald Trump an undercover democrat?\\n\",\"Why am I the way I am?\\n\",\"Why do some women get their nipples pierced?\\n\",\"What do Delhi University girls (especially North C\",\"What is the name of this TV series?\\n\",\"My salary is below the Basic Exemption Limit, yet \",\"What is a foliated rock?\\n\",\"What are some of the best books to start learning \",\"How should I prepare for IIT-JEE 2018?\\n\",\"How do unions work?\\n\",\"Can we give neet coaching in class 11?\\n\",\"Which is the best dish TV connection in Hyderabad?\",\"How can you train a Doberman/Lab mix?\\n\",\"How do you reduce stress at work?\\n\",\"What is the best algorithm for finding the number \",\"How can I earn $250 in 2 months?\\n\",\"Why did GE buy NBC?\\n\",\"What is the highest level of c?\\n\",\"How do you mash potatoes without a masher? What el\",\"How difficult is it to learn Python?\\n\",\"How do you convert years into seconds?\\n\",\"How do you view bisexuality?\\n\",\"What is information technology? What are some exam\",\"Why are Altoids so strong?\\n\",\"How effective is email marketing?\\n\",\"Why does my tutor keep winding me up. He says he i\",\"How can I start my Tok essay which is about accura\",\"How do I repair my corrupt memory card?\\n\",\"I have 3 years to prepare for IIT JAM Physics. How\",\"What are the best Instagram hack tools that have n\",\"I am studing interior design. What are some good i\",\"What are some stupid jokes that make you laugh?\\n\",\"What are the factors affecting Real estate investm\",\"How can I get rid of white dry spot on my face? It\",\"What is it like to have an ugly wife/partner?\\n\",\"What do you love most about your life and why?\\n\",\"In the unlikely event that the Electoral College t\",\"How is life as an Engineer?\\n\",\"Where and why are the imaginary numbers used?\\n\",\"What are some good hypo-allergenic lipsticks?\\n\",\"Did the United Nations play a part in the divide o\",\"When and Why did America become a world power?\\n\",\"What are some recipes using Hormel Black Label Ham\",\"Which is the best company to invest shares on Nove\",\"The man I'm about 2 marry says when I have my peri\",\"What can be the best answer for why finance?\\n\",\"What are the best facts about the universe?\\n\",\"What's the sweetest thing you did for a bestfriend\",\"What is the difference between techno and trance m\",\"TV Sitcoms: Why do English comedy shows have peopl\",\"Does percentile system would affect neet 1 student\",\"Is there Uber in Valencia, Madrid and Barcelona?\\n\",\"Have real-life siblings ever shot intimate scenes \",\"How should I improve my writing skill for blogging\",\"Can cold weather affect a menstrual cycle?\\n\",\"How can we earn money online while studying?\\n\",\"Can a tablet keyboard be used on any kind of table\",\"What are the Upcoming development projects in Chha\",\"Where can I buy cheap Twitter followers?\\n\",\"Why do passengers from aircraft are not given a bu\",\"When should I tell my crush I like her?\\n\",\"Why does Pakistan have a better image and reputati\",\"What are Andrea Pirlo's strengths as a midfielder?\",\"From a point in space billions of light years away\",\"Will Medicaid pay for electrologist to do the shav\",\"Why do technical employees despise sales people so\",\"What are the best freelance websites for C#?\\n\",\"Will I be successful without educations?\\n\",\"How can I learn about cars?\\n\",\"What is the best question asked in an interview?\\n\",\"Why there is so much hatred against Brahmins in In\",\"How do I learn to enter journal entries online in \",\"Will CS be issuing a PR message for Boston?\\n\",\"Why do some people 'hate' drugs or people who ever\",\"How do I know my passion? What is my talent and wh\",\"How do pessimists and optimists differ?\\n\",\"How many pulleys did it take for Archimedes to lif\",\"What is the best course after 12th for a medical s\",\"What are the steps that I should follow to get in \",\"Where was the boston marathon?\\n\",\"What is it like to be in or around a bomb blast?\\n\",\"Will Trump destroy international US-companies thro\",\"Should celebrities have the right to voice their o\",\"Can I say that: \\\"A battery can be seem as a capaci\",\"What is it like to be an ENTP?\\n\",\"How do I start designing on glass?\\n\",\"What is the market risk premium formula?\\n\",\"How can I pay the parking meter if I have no coins\",\"Is it true that Obama has a secret son named \\\"Luth\",\"Which is the best coaching for IAS in up?\\n\",\"How big is the equity funding market in North Amer\",\"Which are the good government medical colleges in \",\"How do I control my hair fall?\\n\",\"Is it really worth creating Shopify themes?\\n\",\"What can cause knee pain? It only hurts when I sta\",\"Where can you find a list of common 9 letter words\",\"NSFW: Is this penis color normal or should I see a\",\"Why do most women remove the hair from their arm p\",\"Which processor is better (faster/more efficient),\",\"Which two statements are true regarding views in s\",\"What is the easiest and quickest Indian food recip\",\"What are the best local SEO companies in India?\\n\",\"How do I get rid of adult content on my Quora feed\",\"Can the zombie fungi attack humans as well?\\n\",\"If I wanted to learn about the Roman Empire,what w\",\"What are the key differences between LXDE and XFCE\",\"Can people see the sellers real name, e-mail addre\",\"Should I still watch The Matrix movie?\\n\",\"Is there any truth to the rumor that the youngest \",\"Is it ok that I don't want to hang out with my fam\",\"I am in class 9. If i want to crack IIT JEE, then \",\"Will Obama's gang stalking/surveillance program be\",\"What are some good songs to lyric text prank a fri\",\"Where can I get best quality video DJ for party in\",\"How long does it take for your hair to grow?\\n\",\"Should I update my Redmi 3s from MIUI 7 to MIUI 8?\",\"How do muscles work?\\n\",\"WHAT IS THE BEST ROUT FOR NEPAL PASUPATI NATH TEMP\",\"How to make a website similar to feedwiser.com in \",\"Why does India so scared of CPEC?\\n\",\"What did your first sex feel like as a girl?\\n\",\"In International ODI/T20 cricket matches, if a bat\",\"Why can humans feel acceleration, but not constant\",\"Can the Microsoft Surface Pro 4 run AutoCAD?\\n\",\"What are the differences between stock Crown Victo\",\"What are the good ways to download Lynda.com's tut\",\"How much is the average salary package for a 1.5 y\",\"How can you reduce the barriers of communication?\\n\",\"Why would someone use Instagram Stories over Snapc\",\"Whiskey: How many 'shots' are in a fifth of Jack D\",\"What might happen now that President-elect Donald \",\"How do I write a waiver letter for school?\\n\",\"I am interested in persuing ma industrial psycholo\",\"Does modafinil shows up on a drug test? Because my\",\"Is it possible to get high off Vyvanse?\\n\",\"Is an agnostic necessarily a skeptic, and how?\\n\",\"Where can I get best support in Sydney for buying \",\"What are the duties of a lieutenant in Indian army\",\"Why is smileys not used on Quora?\\n\",\"What does it feel like for a man when someone who \",\"How does post graduation permit impact .lets say I\",\"Online Payment Gateways and Processing: What is th\",\"What are the best books to learn c programing lang\",\"Solid State Physics: What is The Theory of Alloys?\",\"How do I fill in my first name in a PAN card dupli\",\"Why is egg yolk not good for you?\\n\",\"Anatomy of Female Pelvis: Do women really have an \",\"How much does it cost to develop mobile applicatio\",\"Who is the most honest Game of Thrones character?\\n\",\"What is a high quality Apple MacBook Air charger?\\n\",\"Where and how is the WWE championship belt made?\\n\",\"What is green communication?\\n\",\"I have been a good student since chiild hood but j\",\"I'm solving exercises of artificial neural network\",\"Compared to your own compensation, and in consider\",\"How can I keep browsing Quora forever?\\n\",\"Having built web stuff the old way (PHP/MySQL) bac\",\"Is our new currency note of Rs.2000 equipped with \",\"What's the best way to join a startup in DC?\\n\",\"What would happen if we added a second Earth of eq\",\"When will piracy on Android stop?\\n\",\"What do you mean by executive consultant and suppo\",\"Why do I always feel like I am missing something?\\n\",\"What does a user see when he/she gets a new messag\",\"How can I become a web developer?\\n\",\"Is there any good alternative softwares to Tally?\\n\",\"Would you have sex during period?\\n\",\"Are there prominent Bangladeshi Hindus?\\n\",\"I have registered for PhD (no NET) (phy) in 2013, \",\"I changed my name, but the person did a mistake. M\",\"At what age do your breasts stop growing?\\n\",\"How do I get a girl's phone number in a library?\\n\",\"I am into a habit of over thinking things. How do \",\"What is the average salary of a civil engineer?\\n\",\"What is the difference between rote learning vs me\",\"What are the ways to compete in the Olympics in 20\",\"What trivia (and/or little-known facts) do you fin\",\"Xiaomi Redmi note 3: Which is the best colour to b\",\"What does \\\" the Hadamard Perron theorem\\\" means?\\n\",\"Is there a way to see the viewing history and chat\",\"What is the best place for trekking in Goa?\\n\",\"How does an instant messenger work?\\n\",\"What are the disadvantages of the World Trade Orga\",\"Why does the US military not use AK series rifles?\",\"Does Moto m have gorilla glass?\\n\",\"What is the hierarchy of an associate consultant a\",\"What are some major landforms in Texas, and how do\",\"What other jobs can a medical degree holder do mea\",\"MY HP DEXTOP DOESNOT CONNECT WIFI WHY?\\n\",\"How can I get motivated to workout?\\n\",\"What should I gift it to my mom on her birthday?\\n\",\"Which is the best video you have ever seen?\\n\",\"I was selected in campus and was issued a joining \",\"What makes a poem a good way to express emotions? \",\"What would happen if I cut down a tree outside my \",\"Can you make money in Amway?\\n\",\"Body Weight: How many pounds can I gain every week\",\"What are the impacts (both positive & negative) of\",\"I forgot the password which I used to login n n lo\",\"What are the best websites for career?\\n\",\"What is your favourite episode of the office (USA)\",\"Why is time slower down near heavy objects?\\n\",\"How do l update any version after rooting the mobi\",\"Why is 3 am called the witching hour?\\n\",\"How do I run a shell script from Java code?\\n\",\"What are the advertising campaigns of 2011?\\n\",\"Should I opt for computer science if I don't take \",\"What are the polymers of protein?\\n\",\"How much better will the JWST be than Hubble?\\n\",\"What are the greatest examples of absence of mind?\",\"How can I understand the STOCK market from the bas\",\"How do I make Gazpacho?\\n\",\"What is the typical role of a brand manager?\\n\",\"Who are the top 5 hottest women ever?\\n\",\"What is the name of the game that Aamir Khan was r\",\"How long does it take to learn dance?\\n\",\"What's the funniest thing that's happened to you a\",\"Why are metals malleable and ductile?\\n\",\"List of national daily in India?\\n\",\"Are Volvos actually safer than comparable cars?\\n\",\"Can you tell who has been looking at your Instagra\",\"A ball dropped from the roof of a building takes 4\",\"What percentage of Hillary Clinton's supporters ha\",\"Do you think you are beautiful?\\n\",\"Which are the free email marketing tools?\\n\",\"What topic of discussion do people hate the most? \",\"What is the point in having hyper-politicised stud\",\"Why Steve Jobs is considered as innovator?\\n\",\"How long would it take an average programmer to wr\",\"Why are conservatives defending Holly Fisher? (see\",\"What is so important about Adam Smith's pin factor\",\"What is the Arizona bark scorpion, and how do anim\",\"How do I stop smoking cigarettes?\\n\",\"What are the functions of a computer's motherboard\",\"How can tea bags help for styes?\\n\",\"How can I get a patent for my really effective inn\",\"Can India ever become 'Sone Ki Chidiya' again?\\n\",\"Is there any way to play Android games LAN multipl\",\"Why should I ask my first question?\\n\",\"Who are the top writers on Hinduism on Quora? Who \",\"How do I wake up at 4:00 A.M.?\\n\",\"Why is Quora moderation collapsing all my answers?\",\"In an honest assessment, what do you think of Trum\",\"What type of bonding is present in a coordinate bo\",\"Is it possible to delete your Wikipedia account hi\",\"I'm a +2 CBSE non-medical student. Is there any pr\",\"Are there any limitations as to setting up a forei\",\"How will the drought in California affect its econ\",\"What is Informatica online training?\\n\",\"Is it compulsory for a Web designer and developer \",\"How could the US realistically pay off its debt?\\n\",\"Who is Barry Soetoro?\\n\",\"How do I solve [math]2x^3-x^2+11x+3=0[/math]?\\n\",\"What are some hobbies couples can do at home?\\n\",\"How have meerkats adapted to the desert?\\n\",\"What causes dizziness when you lay down?\\n\",\"What should one do after a civil engineering degre\",\"What are the advantages of hiring skip bins servic\",\"Why is it necessary that singers lip-sync?\\n\",\"How can I turn off the screen overlay detected on \",\"How do you clean or polish a pair of Woodland shoe\",\"What are some classes you wish you took in high sc\",\"What is the formula of [math](a+b)^3[/math]?\\n\",\"What is it like to commit yourself to a psychiatri\",\"Is there any way to slow or reverse the late effec\",\"What would the implications be if we discovered th\",\"Any other program to help on code contribution for\",\"What is the bond order of [math]H_2[/math]?\\n\",\"What is the best way to create a website without c\",\"What were some causes and effects of the French Re\",\"What are some catchy headlines for a dating site?\\n\",\"Should I get Company of Heroes, World in Conflict \",\"How do I remove a person from a group in Skype?\\n\",\"Why was Manmohan Singh briefed by PM Modi after su\",\"Does anybody want to learn Chinese?\\n\",\"Is Xiaomi going the Nokia way to oblivion?\\n\",\"Should I buy hp 17.3 AMD laptop or lenovo 17.3 i5 \",\"Which is better a government job or a software job\",\"How can the word \\\"credulity\\\" be used in a sentence\",\"Does uber track time on app?\\n\",\"How do I get over direct rejection?\\n\",\"How can any institute get an ISO certificate?\\n\",\"What are the best pranks?\\n\",\"Are non-solicit agreements enforceable if the pers\",\"Which phone is best in 2016 for a 18 years boy my \",\"What is the definition of an archetypal hero?\\n\",\"Why are some \\\"ugly\\\" people still very attractive?\\n\",\"What are the chances of Donald Trump's impeachment\",\"What would a society based on laws enforcing only \",\"What is the full form of \\\"veto\\\" power?\\n\",\"How much do people get paid to do a TED talk?\\n\",\"What does it mean to say \\\"enriching herself off of\",\"How can I be more persuasive at work?\\n\",\"What is the corporate culture like at National Bev\",\"What is the fastest way to get a PAN card?\\n\",\"Who will win in America presidential elections in \",\"How do I solve this differential problem?\\n\",\"How is Banjara's Saffron Facial Kit used?\\n\",\"How do you understand life?\\n\",\"Will an MS from NUS in electrical engineering prov\",\"How does one create a strong password? Any tips?\\n\",\"Who was the best dressed at the 2016 Emmy's?\\n\",\"What is the cost of manufacturing a SIM card?\\n\",\"Are you tolerant?\\n\",\"Is [math]\\\\{1,2,3\\\\}[/math] a compact subset of a me\",\"What kind of energy is involved in hearing and vis\",\"What happened with Lehman Brothers?\\n\",\"What is a good web page publisher?\\n\",\"Why does eating radishes cause diarrhea?\\n\",\"How do I encrypt the data on my Android phone?\\n\",\"If there were an Oscar for \\\"Best Line in a Movie\\\",\",\"Why are tyres black?\\n\",\"What is the best way to unlock a Motorola Droid Bi\",\"Is a $45 a month job worth the experience?\\n\",\"Should I settle in Canada or Japan?\\n\",\"How is the appraisal process in Accenture? How wil\",\"How does sand turn into glass?\\n\",\"What effect will increased automation of jobs and \",\"I am 25 years old Indian guy, want to settle in Ne\",\"What are some Raksha Bandhan gift suggestions for \",\"How do I write a multi-dimensional villain that is\",\"Why is there no nucleus in a red blood cell?\\n\",\"Why do Quora allow anonymous fake questions from A\",\"Is it possible to merge a foursquare venue into a \",\"How do I find out if I have Siri on my phone?\\n\",\"Why do I feel like I'm not living my life?\\n\",\"What will happen to global stock market if Donald \",\"What makes weeds grow so much faster and easier th\",\"Do people with extremely high IQ need higher sugar\",\"What should teaching assistants do?\\n\",\"Why is Perth one of the most liveable cities in th\",\"How do you get to the entrance for Resolution Cave\",\"How do I get involved in research as an undergradu\",\"If you have one option to remove anything, what wi\",\"What are the risk after angioplasty?\\n\",\"Why can't men read the signals women give off when\",\"How can a non-EU medical graduate get into residen\",\"How do I stay active?\\n\",\"I'm going to Paris. What is the equivalent \\\"neighb\",\"How do I get rid of dandruff, or at least prevent \",\"Is Medicaid going to pay for the electrologist for\",\"When Australia became a nation in 1901, Did aborig\",\"What is the difference between SSL and Sitelock?\\n\",\"What are some unsolved problems in deep machine le\",\"What's the difference between computer engineering\",\"Is it possible to get a decent job after completin\",\"What is the difference between MG & BG in railway \",\"How do I control an Arduino with a Raspberry Pi?\\n\",\"What is the best field to pursue MS after doing el\",\"What is the difference between Directx and graphic\",\"How do I wirelessly charge the electrical devices \",\"Can you upload Numbers sheets from iPad to Google \",\"What's the best movie franchise you have ever watc\",\"If light does not have mass, then how can it be ab\",\"Why is the book of Esther in the Bible?\\n\",\"What makes comic books worth reading?\\n\",\"What are the advantages of outsourcing property ma\",\"What is a Quora credit competition?\\n\",\"Are data analyst/data science jobs boring?\\n\",\"Why don't satellites crash into each other?\\n\",\"How do dermatologists remove blackheads?\\n\",\"How can I choose between my dad and my mom?\\n\",\"Can you really not change people?\\n\",\"Being a non believer of a spiritual entity, I have\",\"Is black coffee fattening? If so, what makes it fa\",\"The education system is outdated. What would you d\",\"Who are the founders of Quora?\\n\",\"What is it like to be a landlord?\\n\",\"How many stamps do I need to send a letter to germ\",\"My father just recently got married. His wife goes\",\"Which countries are best to migrate from the US?\\n\",\"Can any one tell me a basketball club in Bangalore\",\"How can Spotify download songs offline?\\n\",\"How do I make money online for free in Spain?\\n\",\"Why is Tornado Alley prone to tornadoes?\\n\",\"How does helium change the inhaler's voice?\\n\",\"What is a bedding ceremony in Game of Thrones?\\n\",\"What is it like living in former East Germany as a\",\"Did the USA or NATO commit any war crimes in Iraq?\",\"Why don't we capture terrorist and behead them?\\n\",\"What is your favorite quote (books, movies, people\",\"What mixes well with peach vodka?\\n\",\"Which Patanjali products contain cow urine?\\n\",\"Why are three phases denoted by RYB?\\n\",\"Where could I learn JavaScript online?\\n\",\"Is it appropriate to wear a sports bra simply to t\",\"What are the differences between Jenkins CI and Dr\",\"T right do you think we should be entitled to?\\n\",\"What was the public's reaction to Crystal Pepsi?\\n\",\"How can I crack MH-CET 2017 engineering by self-st\",\"What is the way to become a dental hygienist in th\",\"Why do solving math/statistics problems causes my \",\"Does your name sound as awkward to others as it so\",\"What is the proper format of writing formal-inform\",\"How does doc2vec represent feature vector of a doc\",\"Why are software development task estimations regu\",\"How can I set up molecular pathology lab?\\n\",\"How do I score a rank in CA - IPCC?\\n\",\"What are some examples of strong organic acids?\\n\",\"What can be a good hindi (indian) name for a tea b\",\"Is the Google host matching process different for \",\"Is Cuba considered part of Latin America?\\n\",\"Does the following script (\\u0256\\u2200\\u0f61\\u0632\\u2202 \\u0250\\u0167 \\u01ab\\u04bf\\u03de\\u026e\\u2609 \\u027d\\u03c6\\u0289\\u029b\\u0195), \",\"How can I increase my website's DA?\\n\",\"Is it normal to imagine having sex with other guy \",\"What is the percent purity (approx) of consumable \",\"Do soulmates just come walking into your life when\",\"If I use marijuana with my boyfriend, is there a p\",\"Can you analyze everything in soil?\\n\",\"What difference it would make if India Nuked and K\",\"What are the advantages of a dominant party system\",\"What were some things India did not do but takes c\",\"How many total women have accused Bill Clinton of \",\"Why do I wish some fictional characters existed?\\n\",\"Where can I find best hotel at Ranikhet?\\n\",\"How do I make good memes?\\n\",\"What are some of the common sayings or proverbs in\",\"What kind of writing style makes someone a \\\"dark w\",\"Are Trump and Hillary really the best America has \",\"How can I make my career in embedded system and ro\",\"Will adding a USB to VGA adapter always give an ex\",\"We will never be able to see our own faces with ou\",\"What are the ways you can stop a friend from pitch\",\"What is the average time for preparation of IAS?\\n\",\"How can I learn new things quickly?\\n\",\"What is the definition of political courage?\\n\",\"What makes death scary?\\n\",\"I'm really pretty but I don't want to be I hate th\",\"Is Assam Down Town University good?\\n\",\"How do the brain structures of bonobos change as t\",\"What's the biggest scam?\\n\",\"Does the US government have an alien flying saucer\",\"I need to gain weight, but I don't have abs. It's \",\"Why should I study Calculus?\\n\",\"Do you think your childhood contributed to your fi\",\"How does the Goods and Services Tax (GST) works?\\n\",\"Where can I download Cisco 500-285 exam dumps?\\n\",\"How do I can make a second nation in Cybernations \",\"Did Neil Armstrong really land on the moon?\\n\",\"Why is Devil any other than God head of state?\\n\",\"How do I stop being possessive over my girlfriend?\",\"How does Kongregate compute the statistics of adve\",\"Who is the best nuero physician at NIMHANS, Bangal\",\"What are nonprofit organizations?\\n\",\"I want to know the process of starting outbound ca\",\"Which are some of the best hotels to stay in Helsi\",\"What is good about Deloitte Chicago?\\n\",\"How do I recover data from a formatted hard drive?\",\"Could India and Pakistan unite again?\\n\",\"How often should I massage my face with Argan oil?\",\"How is psychodynamic therapy different from psycho\",\"What are some of Barack Obama's character traits?\\n\",\"Would it make sense to replace the B-52's 8 1960s \",\"Is it possible to bring forward my flight date of \",\"How can I learn marathons?\\n\"],\"x\":{\"__ndarray__\":\"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\",\"dtype\":\"float64\",\"order\":\"little\",\"shape\":[1001]},\"y\":{\"__ndarray__\":\"RYmT8oAdMMBa/WiTVKAkwJZ4/vsd4jJA6kxty+o2JUCjB+VkA6QOwDDn0kN2giBAq7IftB6KLUBwBG5acG40QHan1xxpjyJAf5a7GNZqIcA5nwy/KYMywM/CYy6LmiTAlMmgzHWTNMDm0waTEFMgwFzKxKkynTLAPD+GUgQoIcCbsv8tdJIbQCJtaHoE4i5ApSUEK3gVMUBYAKwaPagNQDFSd+pHFDDAKko/t6dkFsASuugV1yIyQK+kyIRElzlAXORzBnx7N0DbegF3yQEhQGFesIBaywRAmvJ+UR1dIUAS2exPHv0dQKk0MNKI3zHAIENvOiv+6b8aY3xXI1IhwBeBeQuEDhdAMac2awxoMUD9n2gtaCYVwG1XCEHgafC/i8CIUSIYEsDtrLmaGrMqQIl8PX1ozyRAeZkhMPNfIEBwBS/HK9nsP3trH/IXxSDAKjj2YGsnHUBdCQDEamohwKz51/McpyFAbrNQmkjvF8Dv12GXb1waQJzLVhwEoQbARGzpyoP6NkBOmZhEqbQjQK15s34KsiPAWAvWkiX8CsAxFn+PgtUxQEA2z+sJmBNAJ8JguPTUDkB98SiRUR4iwC+52SErBjJAbSHBIu6VJkBebQHfI8YRQAlbM6NA3/6/Mi6sT6M6JkBZyhCzbkMYwAnerf03rSzAma4iT7KiH8DVCQP0e80jQFNpwVdAZibAEQRgul3HIMB2Qa18fREowA92CUVF5hjAr06QO120KEA37WCUYxotwMhM/XBntjLApggxFY/+J8ARWfVxW000wA6ugU3u1zNASs4sZHMoDEC/63E2VvA0QMpNTlV5dzFAHXRfDdVALEAseoVJdJszwFLtNFJt3fu/VZKeLxTHMkBjMR1K0moPQAzfTRR3EChAGz/iUE8pMEBKni7aqk0nwAE80JCdkDXANmx6En28M8C2/5ie5MECQJ6nNoKObS7ALrB6d5Z/JUCtJgTiu9cowKPt9pb7VSnA9tU3cWUsJEBcXDv0ttwkwP6je/JIPDDAYAgsD878/r8GXZuVmigYQN2Gb1dUhSFAHKut5R+XNcC3gGWW+KEqQO41Aj60PjRAwf6YhvvoMcD6ziUlFcAcQHVS4oVO5gfA4jYYxE4bJcD42CvbR78vQEKQWhfapgbAEuSCzDqMAcDDFHWl9o0nwDnh1rk9KBvAqdcfh4QiKMADud2i5S4YQPDQuzNi8y5Ai1AZChzHLkCVVH8je+UhQDzzM6FqHCBAUhWH6V8a8T9gP+KQVUEwwP1dpMwGzC1AxahCkBbhFMBCTPriMEQXQCc/W6THnDDAxhShYpOTDsC9hO75Iw31vxaw6KdNRMW/QXp3LwZ1FMCDgDdb/LERQIdKl76XtS/A4/mqgJv5LkAy3MGJwKMfwNbpkfP6mhpAY1PikPyfNMBI8JCGAuwGwDG7xC60cjDAh4AUNqTQIECTuAj4vwsiwK53lK46cglA04CoZBRiJUCxgm36NgQZwOwmycddmCvA7iKjvjfIF8C5piZCm7UEQNrwbyst3CdAAHfExCQMEUDU7DdMulnzv9QEYHyGERZAaUxK6WIDA8DWnu/QR00owPMyoykWMyTASfY0oPKJ5D//rGTkcysowEOJh9aDCwLAeRRap/iSH8D23VTgKNYEwI8gzvJW7DLAZzNSAWrnJECQynuysbg1wCJkFQeOESHAJVeBX8UzGEC4Gd7I74ktQALwgPA7zDVAW0oy7ABFK8DbsInyc6AkwCnES90YLC5ASrXiykXqLcCgloeZL5YLwGLYHKkJ+SbAqZRUWaSaKMBOLVeZGTsrQFB/2aV0OyFAW4MMSsIcJ0DfiqlKlPkpQKriGd0GOyPAcxgccKuuCUCWrcHPxfUfQG1uEI+vbhTA4QeFDuV36b+95WSTjUkUQPm8OX4grjTA0YZgJ/Zz5b+t1EU3xE0mwMgy2vzaqSHAauAUUrssM0CLDTA94nYmQMtNqkoASiLA7oBfjnHaC0AsK0t4Gw/+v8vODasnrjJAqTUfD60VOECZSk9dNlAvwK5CYKi8wCdAkYHAB1T2JsAfGUR+nAwzwGGGCTDXoSBAB5nL0ltzNkCdg3Bhm/oQQJQKvBPkHQdAzTZspXp+NUA2xS5SnykYQOKRhEM5cS5AU2UGGknlI0DE4pxGRN8pQDS6gSVWvx3ABxXkE2+wIkA3fbZ8mT4oQCjK3L+zHx/A0QO9IPw8B0D7fWbPYckwQBZEMGRmvwJA4mgvs9jYH8B7BLlS3CEmQLtn3yztqi9AwC5/L1yZM0CkFfGO/4wuwFCgEy0QAATA8l+4KFAAB8Dut46fTacVQLfgmgHYGTLAHf1LtpFyLMAa7BpqpScpwODFb+OkVDDAUl6wSaQSKsBQT2IEcIc5QOEgzF1GEh7A8MEzu78T+T9/5hYVGCQyQNO+M9dsPBnAFp8wqpKhA0DVKsZAGPUBwHvGiOXSPSlA87VeQa4MKsDU6IZ/MZALQFy9345xgihAPwOjexZFJMAgfythywsKwAt/MbTehi9ANmErCdF6MsCSAmVuSakQQEtW5itiOSPAndFiHhHyFUDI5I/oQo4uwAKHDoOOBCbA+AjZaYVK8L9JPcUzfDUhQJY+xWIT3w3A+oH9IjH4H8DfU09AKTrePybmKWFF0gVALPuK/alcL8CkVxXCqCIyQKvzn+SNthvATFqI6m1gJsDLicmhpcDFP24lt8Y/mS7AL+4fFS1AK8CoanNhHssrwKPlM0frWRDASqq6ZVPlIkCBIQ1RhwItwCCj0B/A2hVAdOGNFF0zFkAbWQZMna0mQJU1CzW7pjLADSSr1e33IcAk/rCdOM4XQK+1CFPSxwfAhwWqN+nRJcBKbeT7lnwzQClPH8jq/TPAVQ2xed2BI8DXQ8ZA7DQmQI430oQnazTAikHE6IpnFsCSxCEfOP35v1cLbgqPEC5AmKQiGd+DJMAr+BjL6sPzP9ZoBxCnIzDAzDTshfMR+b9Xt8BElQIgwPG6JKwxJzHA1MQeiw4dJMDt7hO/n7sRwCdHEGdB1zRATZxF8E26J0BPduGA01YwQOxHEmH2iiPAW36mUl8TKsCeWF8RG67yvxLUK2ovKiTAOv5D0u0lJsBC14xWhbYsQHJUjwnr5SVAaWxHkQa2IsDlyiDSVgsjwG4cBRqv6DLAy5nwasdiMcCGIuqOCRsUwABLJfUcJxdAigwIU3a7E0D6S7DMXxwWwBRotOZMCyRAc9aRMwU3J8BWio7R7UYuQHlOenokzPI/647r0mbdtT8cMv1bZrMTwDWkw7MI8jNAhQS1DAS0J8CpKWjsVbgzQPsQ/+Yo7iZAY/5HlFr0McBhRnISXy0LQOc/BuzPIRhAYv9H+DpCMEDindbPNTUHQGOg/L6mozNANg7eVtkMKcAwLqj4CCEcwJv+t9BNtu8/Hjvb0RzhLEB63LzuLKUrwA3tcIA4jSxA1JM5aX6tF0A5nMWDwH4YQKqwSc4bCjLAWaRqDoveFsCkOMdtSZk1wClXbPRcvP8/lMPU8By/CUAiHmWC6Cnev/Xy9W78sTPAKwjwbEzkBEBELZz5n5MwwDNvAgJrkC/A8QcwYXH5EcASZQ9wBXskwF/ZSYQz4S/AfLExohUMJ0B8mSHPiIwtwP3OBm3N6inANGwGWLsLCsBLtaQBk1wbwHmFRfFO/zDAmdZEsVbAGkDfKHmalS3pP3prtYSGCSdAjm/35uuNMsAuZHOfD2Q1QE74a4yxPzHANHjDOZgiKsDD+GImQ+4qQMEFcbTXmzdADA5+/or1A0AgUKsrnFYnwFaWq5ARaQbA2RdgTve9JMAxS5QsRHLhv6MX33JRsivAea06+T/NH0CYmuuCJqgDQIIXTkmSQzBAKFyiYDxeHEAc6bdSMrQRQBhygmffmxLATT3Trr48KMCmkPH3EacyQK3ncgjUOTLAeZ0OFivRF0AKCAXqdDQYQPJLl0nqvi9AaWNVgqA0IUC6yzJ40ecQQAqn20BaYh9AxzZV4f7VKcDqaGEskdEWwDmibkFq4wTA8TE+9sNEFEAf+LHD4dgEQD9pFZcXjB1AGY9j5s39HkAvuHGi8Jvcv0mvyKNzUybAbXlvE2bnIEC53RMQWd4qQI4ZOgAq6DNAO9wgM+isEED8hTkPRLwrwBpc63G/+yLAwqO6uak0EcCy1DjeieMRQNhZTQHbRwLA8FPvLUOsIUAUfuVFmpwiQKSvZdd69SxAOoNix9+GDsBBz6JTGf4aQDOQxylozi1A3omefoib+z9rMhpc0hI1wFi57R6pTgLAH+F0mKHLM8D8mqX9nokvwB9eL3AHRCrAj/5RZqW7LcBvTnRDMNorQPNEFsW43yTAMHS1rEgAMUAmyw3h+EkYwHsV6mktsipA0BeN3qC4EEBzNVfbspICwDbilRx3kbe/CXkQZcz+978hLDQ1CLQTwIxzoCzt4+i/GN2mbFGaJ8CcS8GFmMkxwPEg3Xgd4jHA2CWVl8x2A0Dkvg3suO4qwFAX4B54IivANN6rHYApGUB130ULouTaPyP2Stv4ttg/s7K04awjMEC721PgxGY3QPOy91FtDDVAFWw+10/PH8BJAMANB8ImQJY0UaWLcOC/BYuLXRqPKECiH5krdygFwIfMHrWasw9A+l+VOOHJ67+OSPIiOysHwHs63oyDIyTA16zQM904McD7bz3aYK7OPwDbHX5yMzRAyPMidhS/HsC2T4wXjdQzQA40mw5AUSXA+1srRK3TA0ANQqVjuzUsQE6JupuXcPe/R2/YexgcK0DcES5eMJMVQBzF4TqldfO/W5cb+IW6H8AO7JQINmQgQLIwWeaUUr6/79LNCIa+MUA7bBL8H8IcwNKTS+Jtxw/Amr1RxUg6MECmDGCEVIM1QNwF3b1LtyTA5o6+hLr+MMBCgClzg40vQL6WJlnHLhlA0Xor5wX4FsCK/WbpAi8QQORvk0VhRR/AJWxKyHZ6JUDWQ90kCcMxwAFDrK6q8izA5xphWLsxK8DJtJRSqC8uQKfc1L37kjDAuD1ykTXTAcD7WTOjA/oiwEc5wktvVyHACwiHwbZENUDc6gLIiT4mwBQqcwRDkTJAoLCbV8L8KMDd9aPCrRglQPk19DJrzCBA81jIsbz2IsBoCa7PRSwtwPoz5DTneDRAkzYfLEx+LkCnvOfUP2cxwCvhIIlXdCDAh226pAYoD0Cmfy9f9J4VwGoEre4vqBVAxLbUEUpSHEAW8RfuERckwE9FxySDoPc/5A+W6cRJNcAxlQERxJcaQECHeOUHcvc/flcy+Ky2McB5LHIGfKETQBIVNkPZeBDAbcRDhKLaM0BPfzz6iGHsv0Jzh5MFNzXALTU1wd7dxb/ZZULvszw1wHMYVFDTdyDAyrRVLfThK8A+KovuYPclwLT6X+YXGCHA7c3I37ZnC0AaFdyPgwYmwGEHmGEJ9yrAdC3QvBRBFkDe4NoPYNkiwJHMOjADxxdAhRdBH5gcJEBCi16B/2gWQH+0HpTe5jHADyhqBHMHMkCbBEtlNtYNQPjju0I2QTDA+z96lWYYIcAxBcFbkCEjQHlVCKT04TVA7VF9QPllzL+ljgia5Y8CQBxTPBgvZhDArVlKrwKTKMCeaPu21KIzwFQKK1A0XARATAg0/i2ZJ8Ddc7GtE3X2P6CZhP0ghAhA0cAvMb8aM0CQZhro0HYywGwCbuu+aBTAF1e4tNy0FsBz0CuUFrQNwPqGG11C4C5AINn2pU7wMcB4goNGeSMpwFpezrWEfCPAhhcM1QP8I0B1X+o0JAcYwMaY1Ic++ThAwHctjQN+IkAgesVWqUsxQHv4TnLSjDJAtnnLG6bkL0BqM4arJPgywN9A8oEVFjHAyceOdnuZGEAi46ielZIbwHVsU5JfbCVAoHMA68+nNMCA7nLXoX8MwNhdRzeA/DZAFKfnumdjN8Amksxo38EGwOW6Mxq/0xVA+MxCJDsRNkCJQJHYNfcywBBR4aWzpxBANe7wseMPGsA5IsBPsw02QLr6vweTmOk/WGxHaDQbM8BSdLv/gmcbwN6++StqeC3ALav+kKghLsDMjBxXECP3vwdKhQBdqfo/r2rnQ8eMJ0B2BRhIfxAqwI2H1Xuc/RDAe4G1fPKuLEDqxO70fkoUwEiB4G+RJyXAHf+orzlCDEARezox4iEzwFKxpW5NjSZAVWHUMwNLJ8DFvoMxpaouwKRZNXVYtDTA7KC6L6J17r8lIGBJvl3wv8nNeSigiB7AHlsMSovwDUAXZdjR6ycUQEPZ34y8XyLAR/kXPPEpIkDcdWMcldURQM/IRcC53S7AcMRJ8tmmKMBZz01zVWkawAxkAhWonzPAgfTMfXYgB0CwlL2d8aH7v+x8KYvPZCZAI2pWvv16NEBK23XFRUsyQMVy6tu6UBXAg7/iTV4mG0CZdinOLvojwOIkc+JdHDNAeV2pAIMlJECdzigi3ykswPWoAS7hPwVA40Bf6r2VMcBRZyqE9yrgPzL63a9v+jJA+hOPYLBk/T9hEBGn2CYbwNeWKhjhUSPAhKFv7oNHIECnfnDaCsQPwI3hChM3HCzApOITGF01HsBmaqhF1+8UQIUj/8v7ayDAywf2FFq8L0Cgix0KwuIxwAnzKjD3Xi7AIqeR/h2wJEBmqQQ69OIPwMUZM4umQhBAEte2M7K/EsD2JyHfyd78P8idNWNilC3Az4wU4VBnKEB443zjLbQZwMsFqyvjoTHA68nFvyOfL8CVwY7SpoUfwLeEDhnHTChAt3gvogM8IsDTK19gZUriv59GHD8Zla0/gJUFr1YpIkBfspvcBsAiQFIgPswrpTPA/g+yGb32H0CNdOzOByIqwH6KF8BCKRzAN0RwDItC+b8pa/VH3TwRQAyewDGWBC5AmYtAO9dJIEDlrbih2ywPQHjSJ1ZGWB9AdYP4n+j9JcCGj/tYp6sgQK9bt82H6ibAlgD0hP29IkDV7ml6TucqQBmTZomeTijAfk8Fnl8U8z9nIlbc1/IxwBSficSOyRPAu9mCl6EXMUAj0Ib3PWUwwP936MZv0ybAMPdVHelCLMBhZZ33HhYyQOU//q7AFjPA5JvpsaY8HUCDf4vDiLQhQBVMeGR3/izArs5Gb/VKMcBTLwX1g5E1QENhx/6qwxpA0/6z3TEfMEAe1ntTTt0gQL6/372dKzdAprfR1KiSI0BS0xi+w4YWQHLwBppDeCnAjLID0Q1oNkBRLZCxdgnhP2qQqWvVVC/A9B2CMBvFFMBviHs9G4/hP1JTYomcIxbAhX76fehrGEAHFro5fiEVwGgtTxKB4RJAEkmCL7YnKcDUi/IdN10rwErgZauxCxDAIKECuhhvKUDCdvstk2v8v87+UWSw9x1Ar8vh94SCMEAzR1rn6FcRwHACiV6caBJAC/h/An9UJUCXWNWy06MewHWUqj2BODBAhJoAtw8U4b90uvZwmr0uQCJJq8edkCzAM2ypmDcwGUAbnEgImowiQDYFEifcFSjADLI5Wco7MkDYJwU0wm4vQMiGzKhU8RVArpVTGKsn8j950fuO6E4tQDII0rj/PyRAhVFQVn44M8Cu2I8G7q8vwOWeczPTqCJAONVnykgXH0BY1S1aiuImwAu5Op08NCVAchRrzR60MECaLMEYYrcswLAKnRjKHDDAPFXUl4xBMcAfzytbyZUrwP3XN6LzsSBAILRzYyw7F0Bz+4XIiP0hwNyg7ImhUDhAGVqV39bAMkDWfQVIllE0QIIG4bPyXQTA0nO1tZx3BUCmwgCxPrUqQGAou2afFgRA6b40V0vi/T/e8EuD7P0wQAJ/QJIZkxtAizWYOafHI8Bu5V2CVXYCQHOvNnPxwTRAbkcryoU+McDhwZihORgxwBHlSuqD6yLAU2n0sVlABMAplMIibuYfwFokCUxZOy3Aj+p2hWOcHsB68RLFEZwbwIv/NDcrzSlANatm72ALKsAdn0TE7wUEwPfslYM6DxjAs8QJT1I4GUBLzU8aIV8wQAN+QVCeUgfA/wnpuP4jMEDi/v3idD8GQLD9GCp8CQjANKUlsgsAEEDtFpVx4igiwHu8uedkEf4/FQR8zQh/EsAmeV26334zwLGSku7OhhBA0uqD9WQnGsD5vZvwGivhv3XX/8g3VS3AnZJgxiuqM8C3PvV54g4jQIFwdPce9xpA7OvNdnmCJEDZPLXqMTAqwBavxZj3h+U/q/BUabcrI0CHTrYnUPQ0wLUeeQjgnCZABAIXR8KmHMBMy0wsd64uQPczRENQliJAO0XETldoFMA6lGoRT+s0QOC4lZTDaTVA6CErXogVEEDaKE5rE3oywBjE3i4EpzJAq4jnYqpFH8D91yaEYusZwP4aOUkodzRAn642E11aMEDklJZVsq8ywLDUWaCnNes/zJeRbGDXMcDUHbmwlbkeQEykt7KwVidARSWZEJakFUCwuEbO4aopwDRJwgTp6DJAB11hS+u7IUAoBvQMJs0iQOF4tJk/WStAKWavZWlPJUDf9+vLWZ0ZwMy4bj1gQwdAQg6QonA/OEDLTPBQZbMvwCQAGUa9ugvAgg3IGFP/IcBDTbrgmBAAQGVxGf6YliZAUE73wUgxEMAUkfjivecwQFmhoRmc+x7ArdTiro0LLMCLEK9UjD4zQD91H2F8nyTAt16I4z7nF0DFvoBXX3YhwLDE8iixUyJAWoTJmhmbM0CSmxXQ3fMGwDXaVwmhFBFAZrqBkiqF+7/ZYAL24Kbvv7uXjfOf9DDA+CTtZA/5LkDJqPbTc7UswGR2hJGW6DFADl5Etxq3NEDNxP79f0ghQB73VLeIldO/HkpyDoFxMED9NMxEPu8zwFvjd+ekcg3A8nbsPW2QGcAa0hVDp6IXQBYEdidhUyTAt5ySa+umDkD0vdWZpZUwwMRMPcIcijJAi3C25zllHkAY81mVLR00QLA+YQ8ckzXARgfwBEANC8BE4HkE6OoqwG1X1aUxFARAHoMsvtdnIsCDcSE8KfwTQKTKkX4ulTTAQp+utFOZLkCCF3mJ5WY1wGxNlGetSCdAxLelYefrJMBTRrLn/YwmwOrVkszhGyRAcAGKLdLE9D+a/XPbt38xQD76awrc4ARA2QOzYs3oAUCEhumIVdQqQIBA9NfTpiBA56vnWHmvK8A+rYwMhEomwHc6s35wARdAsXCOF9mdMUAOjcLvAOQRwOm2UrwdAP+/QBrzNCaxHEDRlNOEZKIFQNvH26dc8SNAfDk7LxMd9b9nPhSMkE4GwPvz6wAKzhVAjDCrGLjqwz9rmTSiSI0kQOUU5dJcgTBACgsXWSxEMsAYxPOPZLkywIpGFBimSx5Ah1ss2zMkIcCHYGBZWjAHQMUPccbFgjfAafYvCmoABUD1D75LxXkRwOFM5xt4Pdg/yw7BAcaZK8BXejiNYqYfwCTAffMaoDHAlVQbmxMlMECSPkNJNt80wBzizlhNNxZACoS/FEK9BkBQv8aCUuAcwIl+e/+4zxZALUtkWn6YAkCmStIzlqoVQGMIr09uoDJAg/hLrUQT27+li9VniIIxQMPAjhaI9C9Auqkv7oQe2z+V8OoNNsEhQOpzBz8CIitAR1VpWvJDL0C08B512r8mwCojoZDD2iXAuFzHaJJpF8AQO0qiFdUBQJ1PGVlPhCZACm6Y8o3oKkCYVO0pM8koQBiVvUhf+TJAlgZzvja1JEArte8fexsxwHBKNGD7tTPALCHL8N30GMCrY+3UVr4DQMmK0nEfsibAtaoK0xeL9j9DqftJyg8wwI5yAdIrRi/ASIlHtMiJLsANFE4gxATwP8yHGs0cpRXAqzQzug0GMUB2R+zL9PYewKck7HDDxxxAp8sGMxEHNEDzxV86pgUEQEY8TIkt5ANA3gJNFaysGkDXR5GML+syQP/RvOJXwzhArfJTGcvEDkAiTWvtdRwlQD9+uAFRFyNA04hISBTnJcAdVTunm/4fwE68I3uJ6DJAMQlgRwMVMsD3hJDzJH41QCkPZcD12DJAd5xb6NMEAkCM0cPjA2UZwEoBhUGeHy7Ad4NNNn1oJkD6IpkhaogcQMC05JFZUydAdpaQ4L9+JkDD36xgXaA2QJwF1ZJLURFAG1bn8ePnNkAOz1KPOhkmQLcb3yFRujBAyTYXpnFkLEAKXk6ZQX4ywIUgI8lnnjDAPC5HJnDzK0AGAlBee0ErwIn6Gc7WfxrAb7cC8UJ7HsDm2U3SGWEQwOKWZFdkeRNAs9eH3OkUKMAzzl9VRyAiQA9Z0bzYBS7AUg6l0gHlKsBXyKOd7AI0wAiVF86+DAJApTGNxKtu+793IbICq7TJP1m1R7ySdxPAO1nkhiHrL0DFwIWBRxgqwE3pjUmewC/AR03Mv+rVgD8fSBOxaH0rwIYpfbjqOP4/kU2A8JykKsA71rmUqBkywHLhPAbISBhAIvhFpMkLGEBHos1w41Y1QPThPc4b+A1AlE3Sa48gMsDRxc8obOU1wNGqLucLPCbATKmO5lTiKUB9GSID/uA1QDb/hVPuAxXAayU2Ml3y4L+40GO9l8whwPayWWCkQzHA4+Sws6dYIkCmwe9CBPwcQGn7gItY0ilAFi/MJb1KGcDeXWGMV53tP6pH2BJMFhFAqSDss9QTLUBJ3rAcDAYWQDWDCXPcSgVA/HP2ZKN7HUC0Jcuth9wjQFTjHBVNhDFAO4Y4hU/dDcADtq2lemotwA==\",\"dtype\":\"float64\",\"order\":\"little\",\"shape\":[1001]}},\"selected\":{\"id\":\"1560\"},\"selection_policy\":{\"id\":\"1561\"}},\"id\":\"1479\",\"type\":\"ColumnDataSource\"},{\"attributes\":{\"bottom_units\":\"screen\",\"fill_alpha\":0.5,\"fill_color\":\"lightgrey\",\"left_units\":\"screen\",\"level\":\"overlay\",\"line_alpha\":1.0,\"line_color\":\"black\",\"line_dash\":[4,4],\"line_width\":2,\"right_units\":\"screen\",\"top_units\":\"screen\"},\"id\":\"1503\",\"type\":\"BoxAnnotation\"},{\"attributes\":{},\"id\":\"1500\",\"type\":\"SaveTool\"}],\"root_ids\":[\"1480\"]},\"title\":\"Bokeh Application\",\"version\":\"2.1.1\"}};\n",
              "  var render_items = [{\"docid\":\"c5d8a5a6-2b3d-4180-be15-a82cfc1b4070\",\"root_ids\":[\"1480\"],\"roots\":{\"1480\":\"81b2a043-ef85-4e19-accd-a2110496a3dc\"}}];\n",
              "  root.Bokeh.embed.embed_items_notebook(docs_json, render_items);\n",
              "\n",
              "  }\n",
              "  if (root.Bokeh !== undefined) {\n",
              "    embed_document(root);\n",
              "  } else {\n",
              "    var attempts = 0;\n",
              "    var timer = setInterval(function(root) {\n",
              "      if (root.Bokeh !== undefined) {\n",
              "        clearInterval(timer);\n",
              "        embed_document(root);\n",
              "      } else {\n",
              "        attempts++;\n",
              "        if (attempts > 100) {\n",
              "          clearInterval(timer);\n",
              "          console.log(\"Bokeh: ERROR: Unable to run BokehJS code because BokehJS library is missing\");\n",
              "        }\n",
              "      }\n",
              "    }, 10, root)\n",
              "  }\n",
              "})(window);"
            ],
            "application/vnd.bokehjs_exec.v0+json": ""
          },
          "metadata": {
            "tags": [],
            "application/vnd.bokehjs_exec.v0+json": {
              "id": "1480"
            }
          }
        },
        {
          "output_type": "execute_result",
          "data": {
            "text/html": [
              "<div style=\"display: table;\"><div style=\"display: table-row;\"><div style=\"display: table-cell;\"><b title=\"bokeh.plotting.figure.Figure\">Figure</b>(</div><div style=\"display: table-cell;\">id&nbsp;=&nbsp;'1480', <span id=\"1618\" style=\"cursor: pointer;\">&hellip;)</span></div></div><div class=\"1617\" style=\"display: none;\"><div style=\"display: table-cell;\"></div><div style=\"display: table-cell;\">above&nbsp;=&nbsp;[],</div></div><div class=\"1617\" style=\"display: none;\"><div style=\"display: table-cell;\"></div><div style=\"display: table-cell;\">align&nbsp;=&nbsp;'start',</div></div><div class=\"1617\" style=\"display: none;\"><div style=\"display: table-cell;\"></div><div style=\"display: table-cell;\">aspect_ratio&nbsp;=&nbsp;None,</div></div><div class=\"1617\" style=\"display: none;\"><div style=\"display: table-cell;\"></div><div style=\"display: table-cell;\">aspect_scale&nbsp;=&nbsp;1,</div></div><div class=\"1617\" style=\"display: none;\"><div style=\"display: table-cell;\"></div><div style=\"display: table-cell;\">background&nbsp;=&nbsp;None,</div></div><div class=\"1617\" style=\"display: none;\"><div style=\"display: table-cell;\"></div><div style=\"display: table-cell;\">background_fill_alpha&nbsp;=&nbsp;1.0,</div></div><div class=\"1617\" style=\"display: none;\"><div style=\"display: table-cell;\"></div><div style=\"display: table-cell;\">background_fill_color&nbsp;=&nbsp;'#ffffff',</div></div><div class=\"1617\" style=\"display: none;\"><div style=\"display: table-cell;\"></div><div style=\"display: table-cell;\">below&nbsp;=&nbsp;[LinearAxis(id='1489', ...)],</div></div><div class=\"1617\" style=\"display: none;\"><div style=\"display: table-cell;\"></div><div style=\"display: table-cell;\">border_fill_alpha&nbsp;=&nbsp;1.0,</div></div><div class=\"1617\" style=\"display: none;\"><div style=\"display: table-cell;\"></div><div style=\"display: table-cell;\">border_fill_color&nbsp;=&nbsp;'#ffffff',</div></div><div class=\"1617\" style=\"display: none;\"><div style=\"display: table-cell;\"></div><div style=\"display: table-cell;\">center&nbsp;=&nbsp;[Grid(id='1492', ...), Grid(id='1496', ...)],</div></div><div class=\"1617\" style=\"display: none;\"><div style=\"display: table-cell;\"></div><div style=\"display: table-cell;\">css_classes&nbsp;=&nbsp;[],</div></div><div class=\"1617\" style=\"display: none;\"><div style=\"display: table-cell;\"></div><div style=\"display: table-cell;\">disabled&nbsp;=&nbsp;False,</div></div><div class=\"1617\" style=\"display: none;\"><div style=\"display: table-cell;\"></div><div style=\"display: table-cell;\">extra_x_ranges&nbsp;=&nbsp;{},</div></div><div class=\"1617\" style=\"display: none;\"><div style=\"display: table-cell;\"></div><div style=\"display: table-cell;\">extra_y_ranges&nbsp;=&nbsp;{},</div></div><div class=\"1617\" style=\"display: none;\"><div style=\"display: table-cell;\"></div><div style=\"display: table-cell;\">frame_height&nbsp;=&nbsp;None,</div></div><div class=\"1617\" style=\"display: none;\"><div style=\"display: table-cell;\"></div><div style=\"display: table-cell;\">frame_width&nbsp;=&nbsp;None,</div></div><div class=\"1617\" style=\"display: none;\"><div style=\"display: table-cell;\"></div><div style=\"display: table-cell;\">height&nbsp;=&nbsp;None,</div></div><div class=\"1617\" style=\"display: none;\"><div style=\"display: table-cell;\"></div><div style=\"display: table-cell;\">height_policy&nbsp;=&nbsp;'auto',</div></div><div class=\"1617\" style=\"display: none;\"><div style=\"display: table-cell;\"></div><div style=\"display: table-cell;\">hidpi&nbsp;=&nbsp;True,</div></div><div class=\"1617\" style=\"display: none;\"><div style=\"display: table-cell;\"></div><div style=\"display: table-cell;\">js_event_callbacks&nbsp;=&nbsp;{},</div></div><div class=\"1617\" style=\"display: none;\"><div style=\"display: table-cell;\"></div><div style=\"display: table-cell;\">js_property_callbacks&nbsp;=&nbsp;{},</div></div><div class=\"1617\" style=\"display: none;\"><div style=\"display: table-cell;\"></div><div style=\"display: table-cell;\">left&nbsp;=&nbsp;[LinearAxis(id='1493', ...)],</div></div><div class=\"1617\" style=\"display: none;\"><div style=\"display: table-cell;\"></div><div style=\"display: table-cell;\">lod_factor&nbsp;=&nbsp;10,</div></div><div class=\"1617\" style=\"display: none;\"><div style=\"display: table-cell;\"></div><div style=\"display: table-cell;\">lod_interval&nbsp;=&nbsp;300,</div></div><div class=\"1617\" style=\"display: none;\"><div style=\"display: table-cell;\"></div><div style=\"display: table-cell;\">lod_threshold&nbsp;=&nbsp;2000,</div></div><div class=\"1617\" style=\"display: none;\"><div style=\"display: table-cell;\"></div><div style=\"display: table-cell;\">lod_timeout&nbsp;=&nbsp;500,</div></div><div class=\"1617\" style=\"display: none;\"><div style=\"display: table-cell;\"></div><div style=\"display: table-cell;\">margin&nbsp;=&nbsp;(0, 0, 0, 0),</div></div><div class=\"1617\" style=\"display: none;\"><div style=\"display: table-cell;\"></div><div style=\"display: table-cell;\">match_aspect&nbsp;=&nbsp;False,</div></div><div class=\"1617\" style=\"display: none;\"><div style=\"display: table-cell;\"></div><div style=\"display: table-cell;\">max_height&nbsp;=&nbsp;None,</div></div><div class=\"1617\" style=\"display: none;\"><div style=\"display: table-cell;\"></div><div style=\"display: table-cell;\">max_width&nbsp;=&nbsp;None,</div></div><div class=\"1617\" style=\"display: none;\"><div style=\"display: table-cell;\"></div><div style=\"display: table-cell;\">min_border&nbsp;=&nbsp;5,</div></div><div class=\"1617\" style=\"display: none;\"><div style=\"display: table-cell;\"></div><div style=\"display: table-cell;\">min_border_bottom&nbsp;=&nbsp;None,</div></div><div class=\"1617\" style=\"display: none;\"><div style=\"display: table-cell;\"></div><div style=\"display: table-cell;\">min_border_left&nbsp;=&nbsp;None,</div></div><div class=\"1617\" style=\"display: none;\"><div style=\"display: table-cell;\"></div><div style=\"display: table-cell;\">min_border_right&nbsp;=&nbsp;None,</div></div><div class=\"1617\" style=\"display: none;\"><div style=\"display: table-cell;\"></div><div style=\"display: table-cell;\">min_border_top&nbsp;=&nbsp;None,</div></div><div class=\"1617\" style=\"display: none;\"><div style=\"display: table-cell;\"></div><div style=\"display: table-cell;\">min_height&nbsp;=&nbsp;None,</div></div><div class=\"1617\" style=\"display: none;\"><div style=\"display: table-cell;\"></div><div style=\"display: table-cell;\">min_width&nbsp;=&nbsp;None,</div></div><div class=\"1617\" style=\"display: none;\"><div style=\"display: table-cell;\"></div><div style=\"display: table-cell;\">name&nbsp;=&nbsp;None,</div></div><div class=\"1617\" style=\"display: none;\"><div style=\"display: table-cell;\"></div><div style=\"display: table-cell;\">outline_line_alpha&nbsp;=&nbsp;1.0,</div></div><div class=\"1617\" style=\"display: none;\"><div style=\"display: table-cell;\"></div><div style=\"display: table-cell;\">outline_line_cap&nbsp;=&nbsp;'butt',</div></div><div class=\"1617\" style=\"display: none;\"><div style=\"display: table-cell;\"></div><div style=\"display: table-cell;\">outline_line_color&nbsp;=&nbsp;'#e5e5e5',</div></div><div class=\"1617\" style=\"display: none;\"><div style=\"display: table-cell;\"></div><div style=\"display: table-cell;\">outline_line_dash&nbsp;=&nbsp;[],</div></div><div class=\"1617\" style=\"display: none;\"><div style=\"display: table-cell;\"></div><div style=\"display: table-cell;\">outline_line_dash_offset&nbsp;=&nbsp;0,</div></div><div class=\"1617\" style=\"display: none;\"><div style=\"display: table-cell;\"></div><div style=\"display: table-cell;\">outline_line_join&nbsp;=&nbsp;'bevel',</div></div><div class=\"1617\" style=\"display: none;\"><div style=\"display: table-cell;\"></div><div style=\"display: table-cell;\">outline_line_width&nbsp;=&nbsp;1,</div></div><div class=\"1617\" style=\"display: none;\"><div style=\"display: table-cell;\"></div><div style=\"display: table-cell;\">output_backend&nbsp;=&nbsp;'canvas',</div></div><div class=\"1617\" style=\"display: none;\"><div style=\"display: table-cell;\"></div><div style=\"display: table-cell;\">plot_height&nbsp;=&nbsp;400,</div></div><div class=\"1617\" style=\"display: none;\"><div style=\"display: table-cell;\"></div><div style=\"display: table-cell;\">plot_width&nbsp;=&nbsp;600,</div></div><div class=\"1617\" style=\"display: none;\"><div style=\"display: table-cell;\"></div><div style=\"display: table-cell;\">renderers&nbsp;=&nbsp;[GlyphRenderer(id='1514', ...)],</div></div><div class=\"1617\" style=\"display: none;\"><div style=\"display: table-cell;\"></div><div style=\"display: table-cell;\">reset_policy&nbsp;=&nbsp;'standard',</div></div><div class=\"1617\" style=\"display: none;\"><div style=\"display: table-cell;\"></div><div style=\"display: table-cell;\">right&nbsp;=&nbsp;[],</div></div><div class=\"1617\" style=\"display: none;\"><div style=\"display: table-cell;\"></div><div style=\"display: table-cell;\">sizing_mode&nbsp;=&nbsp;None,</div></div><div class=\"1617\" style=\"display: none;\"><div style=\"display: table-cell;\"></div><div style=\"display: table-cell;\">subscribed_events&nbsp;=&nbsp;[],</div></div><div class=\"1617\" style=\"display: none;\"><div style=\"display: table-cell;\"></div><div style=\"display: table-cell;\">tags&nbsp;=&nbsp;[],</div></div><div class=\"1617\" style=\"display: none;\"><div style=\"display: table-cell;\"></div><div style=\"display: table-cell;\">title&nbsp;=&nbsp;Title(id='1554', ...),</div></div><div class=\"1617\" style=\"display: none;\"><div style=\"display: table-cell;\"></div><div style=\"display: table-cell;\">title_location&nbsp;=&nbsp;'above',</div></div><div class=\"1617\" style=\"display: none;\"><div style=\"display: table-cell;\"></div><div style=\"display: table-cell;\">toolbar&nbsp;=&nbsp;Toolbar(id='1504', ...),</div></div><div class=\"1617\" style=\"display: none;\"><div style=\"display: table-cell;\"></div><div style=\"display: table-cell;\">toolbar_location&nbsp;=&nbsp;'right',</div></div><div class=\"1617\" style=\"display: none;\"><div style=\"display: table-cell;\"></div><div style=\"display: table-cell;\">toolbar_sticky&nbsp;=&nbsp;True,</div></div><div class=\"1617\" style=\"display: none;\"><div style=\"display: table-cell;\"></div><div style=\"display: table-cell;\">visible&nbsp;=&nbsp;True,</div></div><div class=\"1617\" style=\"display: none;\"><div style=\"display: table-cell;\"></div><div style=\"display: table-cell;\">width&nbsp;=&nbsp;None,</div></div><div class=\"1617\" style=\"display: none;\"><div style=\"display: table-cell;\"></div><div style=\"display: table-cell;\">width_policy&nbsp;=&nbsp;'auto',</div></div><div class=\"1617\" style=\"display: none;\"><div style=\"display: table-cell;\"></div><div style=\"display: table-cell;\">x_range&nbsp;=&nbsp;DataRange1d(id='1481', ...),</div></div><div class=\"1617\" style=\"display: none;\"><div style=\"display: table-cell;\"></div><div style=\"display: table-cell;\">x_scale&nbsp;=&nbsp;LinearScale(id='1485', ...),</div></div><div class=\"1617\" style=\"display: none;\"><div style=\"display: table-cell;\"></div><div style=\"display: table-cell;\">y_range&nbsp;=&nbsp;DataRange1d(id='1483', ...),</div></div><div class=\"1617\" style=\"display: none;\"><div style=\"display: table-cell;\"></div><div style=\"display: table-cell;\">y_scale&nbsp;=&nbsp;LinearScale(id='1487', ...))</div></div></div>\n",
              "<script>\n",
              "(function() {\n",
              "  var expanded = false;\n",
              "  var ellipsis = document.getElementById(\"1618\");\n",
              "  ellipsis.addEventListener(\"click\", function() {\n",
              "    var rows = document.getElementsByClassName(\"1617\");\n",
              "    for (var i = 0; i < rows.length; i++) {\n",
              "      var el = rows[i];\n",
              "      el.style.display = expanded ? \"none\" : \"table-row\";\n",
              "    }\n",
              "    ellipsis.innerHTML = expanded ? \"&hellip;)\" : \"&lsaquo;&lsaquo;&lsaquo;\";\n",
              "    expanded = !expanded;\n",
              "  });\n",
              "})();\n",
              "</script>\n"
            ],
            "text/plain": [
              "Figure(id='1480', ...)"
            ]
          },
          "metadata": {
            "tags": []
          },
          "execution_count": 37
        }
      ]
    },
    {
      "cell_type": "markdown",
      "metadata": {
        "colab_type": "text",
        "id": "yPPahO-MploV"
      },
      "source": [
        "Finally, let's build a simple \"similar question\" engine with phrase embeddings we've built."
      ]
    },
    {
      "cell_type": "code",
      "metadata": {
        "colab_type": "code",
        "id": "YwpVgD-UploW",
        "colab": {}
      },
      "source": [
        "# compute vector embedding for all lines in data\n",
        "data_vectors = np.vstack([get_phrase_embedding(l) for l in data])"
      ],
      "execution_count": 38,
      "outputs": []
    },
    {
      "cell_type": "code",
      "metadata": {
        "colab_type": "code",
        "id": "LX1LOZnvploZ",
        "colab": {}
      },
      "source": [
        "norms = np.linalg.norm(data_vectors, axis=1)"
      ],
      "execution_count": 39,
      "outputs": []
    },
    {
      "cell_type": "code",
      "metadata": {
        "colab_type": "code",
        "id": "opNUvoRMplod",
        "colab": {}
      },
      "source": [
        "printable_set = set(string.printable)"
      ],
      "execution_count": 40,
      "outputs": []
    },
    {
      "cell_type": "code",
      "metadata": {
        "colab_type": "code",
        "id": "BdgIl7VEplog",
        "colab": {}
      },
      "source": [
        "data_subset = [x for x in data if set(x).issubset(printable_set)]"
      ],
      "execution_count": 41,
      "outputs": []
    },
    {
      "cell_type": "code",
      "metadata": {
        "colab_type": "code",
        "id": "IpgoaWTvploj",
        "colab": {}
      },
      "source": [
        "def find_nearest(query, k=10):\n",
        "    \"\"\"\n",
        "    given text line (query), return k most similar lines from data, sorted from most to least similar\n",
        "    similarity should be measured as cosine between query and line embedding vectors\n",
        "    hint: it's okay to use global variables: data and data_vectors. see also: np.argpartition, np.argsort\n",
        "    \"\"\"\n",
        "    # YOUR CODE\n",
        "    query_vector = get_phrase_embedding(query)\n",
        "    dists = data_vectors.dot(query_vector[:, None])[:, 0] / ((norms+1e-16)*np.linalg.norm(query_vector))\n",
        "    nearest_elements = dists.argsort(axis=0)[-k:][::-1]\n",
        "    out = [data[i] for i in nearest_elements]\n",
        "    return out# <YOUR CODE: top-k lines starting from most similar>"
      ],
      "execution_count": 42,
      "outputs": []
    },
    {
      "cell_type": "code",
      "metadata": {
        "colab_type": "code",
        "id": "egXkWGZTplon",
        "colab": {
          "base_uri": "https://localhost:8080/",
          "height": 204
        },
        "outputId": "abb7a508-fc43-469d-f36c-a6f86c0989b0"
      },
      "source": [
        "results = find_nearest(query=\"How do i enter the matrix?\", k=10)\n",
        "\n",
        "print(''.join(results))\n",
        "\n",
        "assert len(results) == 10 and isinstance(results[0], str)\n",
        "# assert results[0] == 'How do I get to the dark web?\\n'\n",
        "# assert results[3] == 'What can I do to save the world?\\n'"
      ],
      "execution_count": 43,
      "outputs": [
        {
          "output_type": "stream",
          "text": [
            "How do I get to the dark web?\n",
            "What universal remote do I need and how do I set it up to a Blaupunkt TV?\n",
            "How do I connect the ASUS_T00Q to my PC?\n",
            "How do you print the gridlines in Excel 2010?\n",
            "How do you print the gridlines in Excel 2007?\n",
            "How do you print the gridlines in Excel 2003?\n",
            "I would like to create a new website. What do I have to do?\n",
            "How do I get the new Neko Atsume wallpapers? How do they work?\n",
            "I want to experience the 4G network. Do I need to change my SIM card from 3G to 4G?\n",
            "What do I have to do to sell my photography?\n",
            "\n"
          ],
          "name": "stdout"
        }
      ]
    },
    {
      "cell_type": "code",
      "metadata": {
        "colab_type": "code",
        "id": "dajdyru8plor",
        "colab": {
          "base_uri": "https://localhost:8080/",
          "height": 187
        },
        "outputId": "f8beb26c-8a93-4d11-ac99-246f42ec4b24"
      },
      "source": [
        "find_nearest(query=\"How does Trump?\", k=10)"
      ],
      "execution_count": 44,
      "outputs": [
        {
          "output_type": "execute_result",
          "data": {
            "text/plain": [
              "['What does Donald Trump think about Israel?\\n',\n",
              " 'Who or what is Donald Trump, really?\\n',\n",
              " 'Donald Trump: Why are there are so many questions about Donald Trump on Quora?\\n',\n",
              " 'Does anyone like Trump and Clinton?\\n',\n",
              " 'What does Cortana mean?\\n',\n",
              " 'Did Bill Gates outcompete and outsmart IBM? Why? How?\\n',\n",
              " 'Why and how is Bill Gates so rich?\\n',\n",
              " 'What does Donald Trump think about Pakistan?\\n',\n",
              " 'What do you think about Trump and Obama?\\n',\n",
              " 'Who and what is Quora?\\n']"
            ]
          },
          "metadata": {
            "tags": []
          },
          "execution_count": 44
        }
      ]
    },
    {
      "cell_type": "code",
      "metadata": {
        "colab_type": "code",
        "id": "Gx6INrosplov",
        "colab": {
          "base_uri": "https://localhost:8080/",
          "height": 187
        },
        "outputId": "b93d2fd2-9650-4dc3-976c-456b90421ff1"
      },
      "source": [
        "find_nearest(query=\"Why don't i ask a question myself?\", k=10)"
      ],
      "execution_count": 45,
      "outputs": [
        {
          "output_type": "execute_result",
          "data": {
            "text/plain": [
              "[\"Why don't my parents listen to me?\\n\",\n",
              " \"Why don't people appreciate me?\\n\",\n",
              " \"Why she don't interact with me?\\n\",\n",
              " \"Why don't I get a date?\\n\",\n",
              " \"Why don't I get a girlfriend?\\n\",\n",
              " \"Why don't I have a girlfriend?\\n\",\n",
              " \"Why don't I have a boyfriend?\\n\",\n",
              " \"Why don't I like people touching me?\\n\",\n",
              " \"Why can't I ask a question anonymously?\\n\",\n",
              " \"Why don't you use Facebook much?\\n\"]"
            ]
          },
          "metadata": {
            "tags": []
          },
          "execution_count": 45
        }
      ]
    },
    {
      "cell_type": "markdown",
      "metadata": {
        "id": "hawsuNdeF8Eu",
        "colab_type": "text"
      },
      "source": [
        "### KMeans"
      ]
    },
    {
      "cell_type": "code",
      "metadata": {
        "colab_type": "code",
        "id": "DtQhdqCnploy",
        "colab": {}
      },
      "source": [
        "from sklearn.cluster import DBSCAN, KMeans"
      ],
      "execution_count": 46,
      "outputs": []
    },
    {
      "cell_type": "code",
      "metadata": {
        "colab_type": "code",
        "id": "bB7iVUF_plo2",
        "colab": {}
      },
      "source": [
        "kmeans = KMeans(5)"
      ],
      "execution_count": 47,
      "outputs": []
    },
    {
      "cell_type": "code",
      "metadata": {
        "colab_type": "code",
        "id": "4MK7PMLZplo7",
        "colab": {}
      },
      "source": [
        "labels = kmeans.fit_predict(np.asarray(phrase_vectors))"
      ],
      "execution_count": 48,
      "outputs": []
    },
    {
      "cell_type": "code",
      "metadata": {
        "colab_type": "code",
        "id": "opXvRj2Kplo_",
        "colab": {}
      },
      "source": [
        "_colors = ['red', 'green', 'blue', 'yellow', 'pink']"
      ],
      "execution_count": 49,
      "outputs": []
    },
    {
      "cell_type": "code",
      "metadata": {
        "colab_type": "code",
        "id": "mVogVXv_plpD",
        "colab": {
          "base_uri": "https://localhost:8080/",
          "height": 434
        },
        "outputId": "0b57b703-6edf-49cc-a29e-7660813e7ad7"
      },
      "source": [
        "draw_vectors(phrase_vectors_2d[:, 0], phrase_vectors_2d[:, 1], color=[_colors[l] for l in labels],\n",
        "             phrase=[phrase[:50] for phrase in chosen_phrases],\n",
        "             radius=20,)"
      ],
      "execution_count": 50,
      "outputs": [
        {
          "output_type": "display_data",
          "data": {
            "application/javascript": [
              "\n",
              "(function(root) {\n",
              "  function now() {\n",
              "    return new Date();\n",
              "  }\n",
              "\n",
              "  var force = true;\n",
              "\n",
              "  if (typeof root._bokeh_onload_callbacks === \"undefined\" || force === true) {\n",
              "    root._bokeh_onload_callbacks = [];\n",
              "    root._bokeh_is_loading = undefined;\n",
              "  }\n",
              "\n",
              "  var JS_MIME_TYPE = 'application/javascript';\n",
              "  var HTML_MIME_TYPE = 'text/html';\n",
              "  var EXEC_MIME_TYPE = 'application/vnd.bokehjs_exec.v0+json';\n",
              "  var CLASS_NAME = 'output_bokeh rendered_html';\n",
              "\n",
              "  /**\n",
              "   * Render data to the DOM node\n",
              "   */\n",
              "  function render(props, node) {\n",
              "    var script = document.createElement(\"script\");\n",
              "    node.appendChild(script);\n",
              "  }\n",
              "\n",
              "  /**\n",
              "   * Handle when an output is cleared or removed\n",
              "   */\n",
              "  function handleClearOutput(event, handle) {\n",
              "    var cell = handle.cell;\n",
              "\n",
              "    var id = cell.output_area._bokeh_element_id;\n",
              "    var server_id = cell.output_area._bokeh_server_id;\n",
              "    // Clean up Bokeh references\n",
              "    if (id != null && id in Bokeh.index) {\n",
              "      Bokeh.index[id].model.document.clear();\n",
              "      delete Bokeh.index[id];\n",
              "    }\n",
              "\n",
              "    if (server_id !== undefined) {\n",
              "      // Clean up Bokeh references\n",
              "      var cmd = \"from bokeh.io.state import curstate; print(curstate().uuid_to_server['\" + server_id + \"'].get_sessions()[0].document.roots[0]._id)\";\n",
              "      cell.notebook.kernel.execute(cmd, {\n",
              "        iopub: {\n",
              "          output: function(msg) {\n",
              "            var id = msg.content.text.trim();\n",
              "            if (id in Bokeh.index) {\n",
              "              Bokeh.index[id].model.document.clear();\n",
              "              delete Bokeh.index[id];\n",
              "            }\n",
              "          }\n",
              "        }\n",
              "      });\n",
              "      // Destroy server and session\n",
              "      var cmd = \"import bokeh.io.notebook as ion; ion.destroy_server('\" + server_id + \"')\";\n",
              "      cell.notebook.kernel.execute(cmd);\n",
              "    }\n",
              "  }\n",
              "\n",
              "  /**\n",
              "   * Handle when a new output is added\n",
              "   */\n",
              "  function handleAddOutput(event, handle) {\n",
              "    var output_area = handle.output_area;\n",
              "    var output = handle.output;\n",
              "\n",
              "    // limit handleAddOutput to display_data with EXEC_MIME_TYPE content only\n",
              "    if ((output.output_type != \"display_data\") || (!output.data.hasOwnProperty(EXEC_MIME_TYPE))) {\n",
              "      return\n",
              "    }\n",
              "\n",
              "    var toinsert = output_area.element.find(\".\" + CLASS_NAME.split(' ')[0]);\n",
              "\n",
              "    if (output.metadata[EXEC_MIME_TYPE][\"id\"] !== undefined) {\n",
              "      toinsert[toinsert.length - 1].firstChild.textContent = output.data[JS_MIME_TYPE];\n",
              "      // store reference to embed id on output_area\n",
              "      output_area._bokeh_element_id = output.metadata[EXEC_MIME_TYPE][\"id\"];\n",
              "    }\n",
              "    if (output.metadata[EXEC_MIME_TYPE][\"server_id\"] !== undefined) {\n",
              "      var bk_div = document.createElement(\"div\");\n",
              "      bk_div.innerHTML = output.data[HTML_MIME_TYPE];\n",
              "      var script_attrs = bk_div.children[0].attributes;\n",
              "      for (var i = 0; i < script_attrs.length; i++) {\n",
              "        toinsert[toinsert.length - 1].firstChild.setAttribute(script_attrs[i].name, script_attrs[i].value);\n",
              "        toinsert[toinsert.length - 1].firstChild.textContent = bk_div.children[0].textContent\n",
              "      }\n",
              "      // store reference to server id on output_area\n",
              "      output_area._bokeh_server_id = output.metadata[EXEC_MIME_TYPE][\"server_id\"];\n",
              "    }\n",
              "  }\n",
              "\n",
              "  function register_renderer(events, OutputArea) {\n",
              "\n",
              "    function append_mime(data, metadata, element) {\n",
              "      // create a DOM node to render to\n",
              "      var toinsert = this.create_output_subarea(\n",
              "        metadata,\n",
              "        CLASS_NAME,\n",
              "        EXEC_MIME_TYPE\n",
              "      );\n",
              "      this.keyboard_manager.register_events(toinsert);\n",
              "      // Render to node\n",
              "      var props = {data: data, metadata: metadata[EXEC_MIME_TYPE]};\n",
              "      render(props, toinsert[toinsert.length - 1]);\n",
              "      element.append(toinsert);\n",
              "      return toinsert\n",
              "    }\n",
              "\n",
              "    /* Handle when an output is cleared or removed */\n",
              "    events.on('clear_output.CodeCell', handleClearOutput);\n",
              "    events.on('delete.Cell', handleClearOutput);\n",
              "\n",
              "    /* Handle when a new output is added */\n",
              "    events.on('output_added.OutputArea', handleAddOutput);\n",
              "\n",
              "    /**\n",
              "     * Register the mime type and append_mime function with output_area\n",
              "     */\n",
              "    OutputArea.prototype.register_mime_type(EXEC_MIME_TYPE, append_mime, {\n",
              "      /* Is output safe? */\n",
              "      safe: true,\n",
              "      /* Index of renderer in `output_area.display_order` */\n",
              "      index: 0\n",
              "    });\n",
              "  }\n",
              "\n",
              "  // register the mime type if in Jupyter Notebook environment and previously unregistered\n",
              "  if (root.Jupyter !== undefined) {\n",
              "    var events = require('base/js/events');\n",
              "    var OutputArea = require('notebook/js/outputarea').OutputArea;\n",
              "\n",
              "    if (OutputArea.prototype.mime_types().indexOf(EXEC_MIME_TYPE) == -1) {\n",
              "      register_renderer(events, OutputArea);\n",
              "    }\n",
              "  }\n",
              "\n",
              "  \n",
              "  if (typeof (root._bokeh_timeout) === \"undefined\" || force === true) {\n",
              "    root._bokeh_timeout = Date.now() + 5000;\n",
              "    root._bokeh_failed_load = false;\n",
              "  }\n",
              "\n",
              "  var NB_LOAD_WARNING = {'data': {'text/html':\n",
              "     \"<div style='background-color: #fdd'>\\n\"+\n",
              "     \"<p>\\n\"+\n",
              "     \"BokehJS does not appear to have successfully loaded. If loading BokehJS from CDN, this \\n\"+\n",
              "     \"may be due to a slow or bad network connection. Possible fixes:\\n\"+\n",
              "     \"</p>\\n\"+\n",
              "     \"<ul>\\n\"+\n",
              "     \"<li>re-rerun `output_notebook()` to attempt to load from CDN again, or</li>\\n\"+\n",
              "     \"<li>use INLINE resources instead, as so:</li>\\n\"+\n",
              "     \"</ul>\\n\"+\n",
              "     \"<code>\\n\"+\n",
              "     \"from bokeh.resources import INLINE\\n\"+\n",
              "     \"output_notebook(resources=INLINE)\\n\"+\n",
              "     \"</code>\\n\"+\n",
              "     \"</div>\"}};\n",
              "\n",
              "  function display_loaded() {\n",
              "    var el = document.getElementById(null);\n",
              "    if (el != null) {\n",
              "      el.textContent = \"BokehJS is loading...\";\n",
              "    }\n",
              "    if (root.Bokeh !== undefined) {\n",
              "      if (el != null) {\n",
              "        el.textContent = \"BokehJS \" + root.Bokeh.version + \" successfully loaded.\";\n",
              "      }\n",
              "    } else if (Date.now() < root._bokeh_timeout) {\n",
              "      setTimeout(display_loaded, 100)\n",
              "    }\n",
              "  }\n",
              "\n",
              "\n",
              "  function run_callbacks() {\n",
              "    try {\n",
              "      root._bokeh_onload_callbacks.forEach(function(callback) {\n",
              "        if (callback != null)\n",
              "          callback();\n",
              "      });\n",
              "    } finally {\n",
              "      delete root._bokeh_onload_callbacks\n",
              "    }\n",
              "    console.debug(\"Bokeh: all callbacks have finished\");\n",
              "  }\n",
              "\n",
              "  function load_libs(css_urls, js_urls, callback) {\n",
              "    if (css_urls == null) css_urls = [];\n",
              "    if (js_urls == null) js_urls = [];\n",
              "\n",
              "    root._bokeh_onload_callbacks.push(callback);\n",
              "    if (root._bokeh_is_loading > 0) {\n",
              "      console.debug(\"Bokeh: BokehJS is being loaded, scheduling callback at\", now());\n",
              "      return null;\n",
              "    }\n",
              "    if (js_urls == null || js_urls.length === 0) {\n",
              "      run_callbacks();\n",
              "      return null;\n",
              "    }\n",
              "    console.debug(\"Bokeh: BokehJS not loaded, scheduling load and callback at\", now());\n",
              "    root._bokeh_is_loading = css_urls.length + js_urls.length;\n",
              "\n",
              "    function on_load() {\n",
              "      root._bokeh_is_loading--;\n",
              "      if (root._bokeh_is_loading === 0) {\n",
              "        console.debug(\"Bokeh: all BokehJS libraries/stylesheets loaded\");\n",
              "        run_callbacks()\n",
              "      }\n",
              "    }\n",
              "\n",
              "    function on_error() {\n",
              "      console.error(\"failed to load \" + url);\n",
              "    }\n",
              "\n",
              "    for (var i = 0; i < css_urls.length; i++) {\n",
              "      var url = css_urls[i];\n",
              "      const element = document.createElement(\"link\");\n",
              "      element.onload = on_load;\n",
              "      element.onerror = on_error;\n",
              "      element.rel = \"stylesheet\";\n",
              "      element.type = \"text/css\";\n",
              "      element.href = url;\n",
              "      console.debug(\"Bokeh: injecting link tag for BokehJS stylesheet: \", url);\n",
              "      document.body.appendChild(element);\n",
              "    }\n",
              "\n",
              "    const hashes = {\"https://cdn.bokeh.org/bokeh/release/bokeh-2.1.1.min.js\": \"kLr4fYcqcSpbuI95brIH3vnnYCquzzSxHPU6XGQCIkQRGJwhg0StNbj1eegrHs12\", \"https://cdn.bokeh.org/bokeh/release/bokeh-widgets-2.1.1.min.js\": \"xIGPmVtaOm+z0BqfSOMn4lOR6ciex448GIKG4eE61LsAvmGj48XcMQZtKcE/UXZe\", \"https://cdn.bokeh.org/bokeh/release/bokeh-tables-2.1.1.min.js\": \"Dc9u1wF/0zApGIWoBbH77iWEHtdmkuYWG839Uzmv8y8yBLXebjO9ZnERsde5Ln/P\", \"https://cdn.bokeh.org/bokeh/release/bokeh-gl-2.1.1.min.js\": \"cT9JaBz7GiRXdENrJLZNSC6eMNF3nh3fa5fTF51Svp+ukxPdwcU5kGXGPBgDCa2j\"};\n",
              "\n",
              "    for (var i = 0; i < js_urls.length; i++) {\n",
              "      var url = js_urls[i];\n",
              "      var element = document.createElement('script');\n",
              "      element.onload = on_load;\n",
              "      element.onerror = on_error;\n",
              "      element.async = false;\n",
              "      element.src = url;\n",
              "      if (url in hashes) {\n",
              "        element.crossOrigin = \"anonymous\";\n",
              "        element.integrity = \"sha384-\" + hashes[url];\n",
              "      }\n",
              "      console.debug(\"Bokeh: injecting script tag for BokehJS library: \", url);\n",
              "      document.head.appendChild(element);\n",
              "    }\n",
              "  };\n",
              "\n",
              "  function inject_raw_css(css) {\n",
              "    const element = document.createElement(\"style\");\n",
              "    element.appendChild(document.createTextNode(css));\n",
              "    document.body.appendChild(element);\n",
              "  }\n",
              "\n",
              "  \n",
              "  var js_urls = [\"https://cdn.bokeh.org/bokeh/release/bokeh-2.1.1.min.js\", \"https://cdn.bokeh.org/bokeh/release/bokeh-widgets-2.1.1.min.js\", \"https://cdn.bokeh.org/bokeh/release/bokeh-tables-2.1.1.min.js\", \"https://cdn.bokeh.org/bokeh/release/bokeh-gl-2.1.1.min.js\"];\n",
              "  var css_urls = [];\n",
              "  \n",
              "\n",
              "  var inline_js = [\n",
              "    function(Bokeh) {\n",
              "      Bokeh.set_log_level(\"info\");\n",
              "    },\n",
              "    function(Bokeh) {\n",
              "    \n",
              "    \n",
              "    }\n",
              "  ];\n",
              "\n",
              "  function run_inline_js() {\n",
              "    \n",
              "    if (root.Bokeh !== undefined || force === true) {\n",
              "      \n",
              "    for (var i = 0; i < inline_js.length; i++) {\n",
              "      inline_js[i].call(root, root.Bokeh);\n",
              "    }\n",
              "    } else if (Date.now() < root._bokeh_timeout) {\n",
              "      setTimeout(run_inline_js, 100);\n",
              "    } else if (!root._bokeh_failed_load) {\n",
              "      console.log(\"Bokeh: BokehJS failed to load within specified timeout.\");\n",
              "      root._bokeh_failed_load = true;\n",
              "    } else if (force !== true) {\n",
              "      var cell = $(document.getElementById(null)).parents('.cell').data().cell;\n",
              "      cell.output_area.append_execute_result(NB_LOAD_WARNING)\n",
              "    }\n",
              "\n",
              "  }\n",
              "\n",
              "  if (root._bokeh_is_loading === 0) {\n",
              "    console.debug(\"Bokeh: BokehJS loaded, going straight to plotting\");\n",
              "    run_inline_js();\n",
              "  } else {\n",
              "    load_libs(css_urls, js_urls, function() {\n",
              "      console.debug(\"Bokeh: BokehJS plotting callback run at\", now());\n",
              "      run_inline_js();\n",
              "    });\n",
              "  }\n",
              "}(window));"
            ],
            "application/vnd.bokehjs_load.v0+json": "\n(function(root) {\n  function now() {\n    return new Date();\n  }\n\n  var force = true;\n\n  if (typeof root._bokeh_onload_callbacks === \"undefined\" || force === true) {\n    root._bokeh_onload_callbacks = [];\n    root._bokeh_is_loading = undefined;\n  }\n\n  \n\n  \n  if (typeof (root._bokeh_timeout) === \"undefined\" || force === true) {\n    root._bokeh_timeout = Date.now() + 5000;\n    root._bokeh_failed_load = false;\n  }\n\n  var NB_LOAD_WARNING = {'data': {'text/html':\n     \"<div style='background-color: #fdd'>\\n\"+\n     \"<p>\\n\"+\n     \"BokehJS does not appear to have successfully loaded. If loading BokehJS from CDN, this \\n\"+\n     \"may be due to a slow or bad network connection. Possible fixes:\\n\"+\n     \"</p>\\n\"+\n     \"<ul>\\n\"+\n     \"<li>re-rerun `output_notebook()` to attempt to load from CDN again, or</li>\\n\"+\n     \"<li>use INLINE resources instead, as so:</li>\\n\"+\n     \"</ul>\\n\"+\n     \"<code>\\n\"+\n     \"from bokeh.resources import INLINE\\n\"+\n     \"output_notebook(resources=INLINE)\\n\"+\n     \"</code>\\n\"+\n     \"</div>\"}};\n\n  function display_loaded() {\n    var el = document.getElementById(null);\n    if (el != null) {\n      el.textContent = \"BokehJS is loading...\";\n    }\n    if (root.Bokeh !== undefined) {\n      if (el != null) {\n        el.textContent = \"BokehJS \" + root.Bokeh.version + \" successfully loaded.\";\n      }\n    } else if (Date.now() < root._bokeh_timeout) {\n      setTimeout(display_loaded, 100)\n    }\n  }\n\n\n  function run_callbacks() {\n    try {\n      root._bokeh_onload_callbacks.forEach(function(callback) {\n        if (callback != null)\n          callback();\n      });\n    } finally {\n      delete root._bokeh_onload_callbacks\n    }\n    console.debug(\"Bokeh: all callbacks have finished\");\n  }\n\n  function load_libs(css_urls, js_urls, callback) {\n    if (css_urls == null) css_urls = [];\n    if (js_urls == null) js_urls = [];\n\n    root._bokeh_onload_callbacks.push(callback);\n    if (root._bokeh_is_loading > 0) {\n      console.debug(\"Bokeh: BokehJS is being loaded, scheduling callback at\", now());\n      return null;\n    }\n    if (js_urls == null || js_urls.length === 0) {\n      run_callbacks();\n      return null;\n    }\n    console.debug(\"Bokeh: BokehJS not loaded, scheduling load and callback at\", now());\n    root._bokeh_is_loading = css_urls.length + js_urls.length;\n\n    function on_load() {\n      root._bokeh_is_loading--;\n      if (root._bokeh_is_loading === 0) {\n        console.debug(\"Bokeh: all BokehJS libraries/stylesheets loaded\");\n        run_callbacks()\n      }\n    }\n\n    function on_error() {\n      console.error(\"failed to load \" + url);\n    }\n\n    for (var i = 0; i < css_urls.length; i++) {\n      var url = css_urls[i];\n      const element = document.createElement(\"link\");\n      element.onload = on_load;\n      element.onerror = on_error;\n      element.rel = \"stylesheet\";\n      element.type = \"text/css\";\n      element.href = url;\n      console.debug(\"Bokeh: injecting link tag for BokehJS stylesheet: \", url);\n      document.body.appendChild(element);\n    }\n\n    const hashes = {\"https://cdn.bokeh.org/bokeh/release/bokeh-2.1.1.min.js\": \"kLr4fYcqcSpbuI95brIH3vnnYCquzzSxHPU6XGQCIkQRGJwhg0StNbj1eegrHs12\", \"https://cdn.bokeh.org/bokeh/release/bokeh-widgets-2.1.1.min.js\": \"xIGPmVtaOm+z0BqfSOMn4lOR6ciex448GIKG4eE61LsAvmGj48XcMQZtKcE/UXZe\", \"https://cdn.bokeh.org/bokeh/release/bokeh-tables-2.1.1.min.js\": \"Dc9u1wF/0zApGIWoBbH77iWEHtdmkuYWG839Uzmv8y8yBLXebjO9ZnERsde5Ln/P\", \"https://cdn.bokeh.org/bokeh/release/bokeh-gl-2.1.1.min.js\": \"cT9JaBz7GiRXdENrJLZNSC6eMNF3nh3fa5fTF51Svp+ukxPdwcU5kGXGPBgDCa2j\"};\n\n    for (var i = 0; i < js_urls.length; i++) {\n      var url = js_urls[i];\n      var element = document.createElement('script');\n      element.onload = on_load;\n      element.onerror = on_error;\n      element.async = false;\n      element.src = url;\n      if (url in hashes) {\n        element.crossOrigin = \"anonymous\";\n        element.integrity = \"sha384-\" + hashes[url];\n      }\n      console.debug(\"Bokeh: injecting script tag for BokehJS library: \", url);\n      document.head.appendChild(element);\n    }\n  };\n\n  function inject_raw_css(css) {\n    const element = document.createElement(\"style\");\n    element.appendChild(document.createTextNode(css));\n    document.body.appendChild(element);\n  }\n\n  \n  var js_urls = [\"https://cdn.bokeh.org/bokeh/release/bokeh-2.1.1.min.js\", \"https://cdn.bokeh.org/bokeh/release/bokeh-widgets-2.1.1.min.js\", \"https://cdn.bokeh.org/bokeh/release/bokeh-tables-2.1.1.min.js\", \"https://cdn.bokeh.org/bokeh/release/bokeh-gl-2.1.1.min.js\"];\n  var css_urls = [];\n  \n\n  var inline_js = [\n    function(Bokeh) {\n      Bokeh.set_log_level(\"info\");\n    },\n    function(Bokeh) {\n    \n    \n    }\n  ];\n\n  function run_inline_js() {\n    \n    if (root.Bokeh !== undefined || force === true) {\n      \n    for (var i = 0; i < inline_js.length; i++) {\n      inline_js[i].call(root, root.Bokeh);\n    }\n    } else if (Date.now() < root._bokeh_timeout) {\n      setTimeout(run_inline_js, 100);\n    } else if (!root._bokeh_failed_load) {\n      console.log(\"Bokeh: BokehJS failed to load within specified timeout.\");\n      root._bokeh_failed_load = true;\n    } else if (force !== true) {\n      var cell = $(document.getElementById(null)).parents('.cell').data().cell;\n      cell.output_area.append_execute_result(NB_LOAD_WARNING)\n    }\n\n  }\n\n  if (root._bokeh_is_loading === 0) {\n    console.debug(\"Bokeh: BokehJS loaded, going straight to plotting\");\n    run_inline_js();\n  } else {\n    load_libs(css_urls, js_urls, function() {\n      console.debug(\"Bokeh: BokehJS plotting callback run at\", now());\n      run_inline_js();\n    });\n  }\n}(window));"
          },
          "metadata": {
            "tags": []
          }
        },
        {
          "output_type": "display_data",
          "data": {
            "text/html": [
              "\n",
              "\n",
              "\n",
              "\n",
              "\n",
              "\n",
              "  <div class=\"bk-root\" id=\"48c8601b-94ae-4f97-bf31-2381232e52af\" data-root-id=\"1622\"></div>\n"
            ]
          },
          "metadata": {
            "tags": []
          }
        },
        {
          "output_type": "display_data",
          "data": {
            "application/javascript": [
              "(function(root) {\n",
              "  function embed_document(root) {\n",
              "    \n",
              "  var docs_json = {\"18261718-50f3-49a7-a53c-5215e9ac39ef\":{\"roots\":{\"references\":[{\"attributes\":{\"below\":[{\"id\":\"1631\"}],\"center\":[{\"id\":\"1634\"},{\"id\":\"1638\"}],\"left\":[{\"id\":\"1635\"}],\"plot_height\":400,\"renderers\":[{\"id\":\"1656\"}],\"title\":{\"id\":\"1705\"},\"toolbar\":{\"id\":\"1646\"},\"x_range\":{\"id\":\"1623\"},\"x_scale\":{\"id\":\"1627\"},\"y_range\":{\"id\":\"1625\"},\"y_scale\":{\"id\":\"1629\"}},\"id\":\"1622\",\"subtype\":\"Figure\",\"type\":\"Plot\"},{\"attributes\":{},\"id\":\"1636\",\"type\":\"BasicTicker\"},{\"attributes\":{},\"id\":\"1707\",\"type\":\"BasicTickFormatter\"},{\"attributes\":{\"axis\":{\"id\":\"1635\"},\"dimension\":1,\"ticker\":null},\"id\":\"1638\",\"type\":\"Grid\"},{\"attributes\":{\"fill_alpha\":{\"value\":0.25},\"fill_color\":{\"field\":\"color\"},\"line_alpha\":{\"value\":0.25},\"line_color\":{\"field\":\"color\"},\"size\":{\"units\":\"screen\",\"value\":20},\"x\":{\"field\":\"x\"},\"y\":{\"field\":\"y\"}},\"id\":\"1654\",\"type\":\"Scatter\"},{\"attributes\":{},\"id\":\"1639\",\"type\":\"PanTool\"},{\"attributes\":{},\"id\":\"1640\",\"type\":\"WheelZoomTool\"},{\"attributes\":{},\"id\":\"1709\",\"type\":\"BasicTickFormatter\"},{\"attributes\":{\"overlay\":{\"id\":\"1645\"}},\"id\":\"1641\",\"type\":\"BoxZoomTool\"},{\"attributes\":{},\"id\":\"1642\",\"type\":\"SaveTool\"},{\"attributes\":{},\"id\":\"1711\",\"type\":\"Selection\"},{\"attributes\":{\"data\":{\"color\":[\"blue\",\"blue\",\"pink\",\"yellow\",\"green\",\"green\",\"yellow\",\"pink\",\"yellow\",\"blue\",\"red\",\"red\",\"red\",\"blue\",\"blue\",\"red\",\"green\",\"pink\",\"pink\",\"red\",\"red\",\"pink\",\"pink\",\"pink\",\"pink\",\"green\",\"green\",\"pink\",\"green\",\"blue\",\"green\",\"blue\",\"red\",\"pink\",\"red\",\"green\",\"green\",\"yellow\",\"yellow\",\"yellow\",\"green\",\"red\",\"green\",\"green\",\"yellow\",\"red\",\"green\",\"green\",\"pink\",\"yellow\",\"red\",\"green\",\"pink\",\"green\",\"yellow\",\"blue\",\"pink\",\"yellow\",\"green\",\"green\",\"yellow\",\"red\",\"blue\",\"blue\",\"yellow\",\"red\",\"blue\",\"red\",\"red\",\"yellow\",\"blue\",\"blue\",\"blue\",\"blue\",\"pink\",\"green\",\"pink\",\"pink\",\"yellow\",\"blue\",\"red\",\"pink\",\"green\",\"yellow\",\"yellow\",\"blue\",\"red\",\"blue\",\"green\",\"blue\",\"red\",\"blue\",\"blue\",\"yellow\",\"blue\",\"blue\",\"green\",\"green\",\"yellow\",\"red\",\"yellow\",\"pink\",\"blue\",\"yellow\",\"green\",\"blue\",\"pink\",\"green\",\"green\",\"blue\",\"red\",\"blue\",\"green\",\"pink\",\"green\",\"yellow\",\"green\",\"green\",\"blue\",\"pink\",\"red\",\"green\",\"blue\",\"red\",\"pink\",\"green\",\"green\",\"green\",\"blue\",\"pink\",\"red\",\"red\",\"red\",\"green\",\"blue\",\"green\",\"blue\",\"red\",\"yellow\",\"green\",\"blue\",\"red\",\"red\",\"yellow\",\"green\",\"green\",\"pink\",\"green\",\"red\",\"blue\",\"green\",\"blue\",\"green\",\"red\",\"blue\",\"blue\",\"yellow\",\"red\",\"green\",\"green\",\"pink\",\"pink\",\"blue\",\"red\",\"yellow\",\"blue\",\"pink\",\"blue\",\"blue\",\"pink\",\"red\",\"yellow\",\"yellow\",\"red\",\"yellow\",\"green\",\"red\",\"green\",\"green\",\"blue\",\"green\",\"blue\",\"blue\",\"pink\",\"yellow\",\"blue\",\"pink\",\"green\",\"pink\",\"pink\",\"blue\",\"yellow\",\"blue\",\"blue\",\"yellow\",\"pink\",\"green\",\"green\",\"pink\",\"green\",\"green\",\"yellow\",\"yellow\",\"red\",\"yellow\",\"yellow\",\"red\",\"green\",\"pink\",\"green\",\"blue\",\"yellow\",\"pink\",\"green\",\"blue\",\"green\",\"green\",\"yellow\",\"pink\",\"blue\",\"blue\",\"blue\",\"red\",\"pink\",\"blue\",\"red\",\"green\",\"green\",\"red\",\"green\",\"yellow\",\"blue\",\"green\",\"yellow\",\"blue\",\"green\",\"yellow\",\"blue\",\"green\",\"red\",\"green\",\"blue\",\"blue\",\"green\",\"yellow\",\"red\",\"blue\",\"red\",\"pink\",\"blue\",\"pink\",\"blue\",\"blue\",\"green\",\"blue\",\"blue\",\"blue\",\"red\",\"yellow\",\"blue\",\"pink\",\"green\",\"green\",\"blue\",\"red\",\"green\",\"green\",\"red\",\"green\",\"blue\",\"blue\",\"yellow\",\"pink\",\"blue\",\"red\",\"yellow\",\"red\",\"green\",\"blue\",\"green\",\"green\",\"blue\",\"red\",\"red\",\"pink\",\"yellow\",\"pink\",\"blue\",\"red\",\"green\",\"red\",\"blue\",\"yellow\",\"yellow\",\"blue\",\"blue\",\"blue\",\"pink\",\"green\",\"green\",\"green\",\"red\",\"green\",\"red\",\"red\",\"green\",\"green\",\"red\",\"pink\",\"blue\",\"pink\",\"yellow\",\"red\",\"green\",\"green\",\"pink\",\"green\",\"pink\",\"red\",\"blue\",\"green\",\"yellow\",\"blue\",\"pink\",\"yellow\",\"green\",\"blue\",\"red\",\"blue\",\"green\",\"blue\",\"red\",\"blue\",\"green\",\"red\",\"blue\",\"red\",\"blue\",\"blue\",\"yellow\",\"blue\",\"blue\",\"red\",\"blue\",\"blue\",\"green\",\"red\",\"yellow\",\"blue\",\"pink\",\"blue\",\"blue\",\"yellow\",\"red\",\"green\",\"red\",\"blue\",\"red\",\"pink\",\"blue\",\"green\",\"green\",\"pink\",\"yellow\",\"yellow\",\"green\",\"blue\",\"pink\",\"pink\",\"yellow\",\"green\",\"yellow\",\"red\",\"green\",\"green\",\"blue\",\"red\",\"green\",\"green\",\"red\",\"yellow\",\"yellow\",\"red\",\"blue\",\"red\",\"yellow\",\"green\",\"pink\",\"red\",\"red\",\"red\",\"green\",\"green\",\"yellow\",\"yellow\",\"red\",\"green\",\"yellow\",\"pink\",\"green\",\"pink\",\"blue\",\"red\",\"blue\",\"red\",\"blue\",\"yellow\",\"blue\",\"pink\",\"red\",\"yellow\",\"green\",\"green\",\"green\",\"pink\",\"red\",\"blue\",\"blue\",\"red\",\"red\",\"green\",\"blue\",\"blue\",\"red\",\"red\",\"green\",\"pink\",\"pink\",\"pink\",\"blue\",\"yellow\",\"pink\",\"yellow\",\"green\",\"green\",\"green\",\"green\",\"green\",\"blue\",\"green\",\"pink\",\"yellow\",\"green\",\"blue\",\"red\",\"red\",\"pink\",\"yellow\",\"pink\",\"green\",\"green\",\"yellow\",\"green\",\"pink\",\"blue\",\"green\",\"pink\",\"pink\",\"red\",\"blue\",\"pink\",\"pink\",\"red\",\"green\",\"green\",\"yellow\",\"pink\",\"blue\",\"blue\",\"yellow\",\"blue\",\"red\",\"blue\",\"red\",\"pink\",\"red\",\"pink\",\"blue\",\"yellow\",\"yellow\",\"blue\",\"blue\",\"pink\",\"yellow\",\"red\",\"red\",\"green\",\"red\",\"red\",\"yellow\",\"blue\",\"green\",\"blue\",\"yellow\",\"green\",\"pink\",\"green\",\"red\",\"pink\",\"red\",\"blue\",\"green\",\"blue\",\"blue\",\"blue\",\"blue\",\"red\",\"pink\",\"blue\",\"blue\",\"yellow\",\"red\",\"yellow\",\"yellow\",\"green\",\"blue\",\"green\",\"red\",\"blue\",\"red\",\"pink\",\"pink\",\"pink\",\"yellow\",\"red\",\"blue\",\"blue\",\"red\",\"blue\",\"green\",\"yellow\",\"pink\",\"blue\",\"red\",\"green\",\"green\",\"yellow\",\"red\",\"blue\",\"blue\",\"green\",\"blue\",\"pink\",\"red\",\"pink\",\"pink\",\"yellow\",\"blue\",\"red\",\"pink\",\"green\",\"yellow\",\"pink\",\"red\",\"pink\",\"red\",\"red\",\"green\",\"pink\",\"red\",\"green\",\"red\",\"pink\",\"green\",\"red\",\"red\",\"red\",\"red\",\"red\",\"red\",\"yellow\",\"blue\",\"red\",\"red\",\"red\",\"red\",\"red\",\"blue\",\"yellow\",\"blue\",\"blue\",\"blue\",\"green\",\"green\",\"blue\",\"yellow\",\"green\",\"blue\",\"yellow\",\"green\",\"blue\",\"blue\",\"blue\",\"pink\",\"green\",\"red\",\"yellow\",\"pink\",\"pink\",\"red\",\"yellow\",\"red\",\"pink\",\"green\",\"red\",\"green\",\"blue\",\"green\",\"pink\",\"green\",\"red\",\"red\",\"green\",\"red\",\"blue\",\"green\",\"green\",\"red\",\"pink\",\"red\",\"blue\",\"yellow\",\"red\",\"green\",\"green\",\"green\",\"blue\",\"yellow\",\"red\",\"red\",\"blue\",\"red\",\"yellow\",\"red\",\"green\",\"green\",\"green\",\"green\",\"blue\",\"yellow\",\"blue\",\"blue\",\"pink\",\"red\",\"yellow\",\"yellow\",\"yellow\",\"green\",\"red\",\"yellow\",\"blue\",\"yellow\",\"pink\",\"blue\",\"green\",\"blue\",\"blue\",\"pink\",\"blue\",\"green\",\"blue\",\"pink\",\"red\",\"yellow\",\"pink\",\"blue\",\"blue\",\"pink\",\"red\",\"yellow\",\"yellow\",\"pink\",\"green\",\"red\",\"red\",\"pink\",\"green\",\"red\",\"red\",\"red\",\"red\",\"yellow\",\"green\",\"green\",\"red\",\"blue\",\"green\",\"yellow\",\"red\",\"green\",\"pink\",\"blue\",\"green\",\"red\",\"green\",\"pink\",\"green\",\"green\",\"blue\",\"yellow\",\"yellow\",\"red\",\"pink\",\"yellow\",\"pink\",\"green\",\"pink\",\"green\",\"blue\",\"blue\",\"red\",\"yellow\",\"blue\",\"yellow\",\"pink\",\"blue\",\"red\",\"blue\",\"blue\",\"green\",\"yellow\",\"green\",\"pink\",\"pink\",\"pink\",\"green\",\"green\",\"red\",\"green\",\"green\",\"pink\",\"green\",\"green\",\"green\",\"pink\",\"red\",\"blue\",\"blue\",\"green\",\"red\",\"blue\",\"red\",\"red\",\"yellow\",\"blue\",\"green\",\"green\",\"yellow\",\"pink\",\"green\",\"pink\",\"green\",\"green\",\"yellow\",\"blue\",\"green\",\"green\",\"red\",\"green\",\"green\",\"green\",\"blue\",\"blue\",\"yellow\",\"green\",\"yellow\",\"blue\",\"green\",\"green\",\"blue\",\"yellow\",\"blue\",\"yellow\",\"yellow\",\"red\",\"pink\",\"pink\",\"green\",\"red\",\"pink\",\"red\",\"red\",\"pink\",\"pink\",\"blue\",\"green\",\"blue\",\"yellow\",\"pink\",\"green\",\"red\",\"pink\",\"green\",\"green\",\"pink\",\"pink\",\"red\",\"yellow\",\"pink\",\"red\",\"yellow\",\"red\",\"red\",\"yellow\",\"red\",\"pink\",\"red\",\"blue\",\"pink\",\"red\",\"yellow\",\"blue\",\"green\",\"green\",\"red\",\"green\",\"red\",\"green\",\"red\",\"yellow\",\"red\",\"pink\",\"pink\",\"green\",\"green\",\"pink\",\"red\",\"yellow\",\"blue\",\"green\",\"blue\",\"green\",\"blue\",\"pink\",\"yellow\",\"pink\",\"blue\",\"green\",\"red\",\"green\",\"blue\",\"green\",\"red\",\"yellow\",\"blue\",\"yellow\",\"red\",\"green\",\"pink\",\"red\",\"pink\",\"green\",\"green\",\"pink\",\"yellow\",\"red\",\"green\",\"pink\",\"pink\",\"pink\",\"green\",\"yellow\",\"red\",\"yellow\",\"green\",\"red\",\"pink\",\"pink\",\"yellow\",\"pink\",\"blue\",\"blue\",\"green\",\"red\",\"red\",\"red\",\"green\",\"green\",\"red\",\"blue\",\"green\",\"red\",\"pink\",\"red\",\"pink\",\"red\",\"green\",\"green\",\"green\",\"yellow\",\"pink\",\"green\",\"pink\",\"pink\",\"green\",\"green\",\"yellow\",\"red\",\"blue\",\"blue\",\"green\",\"red\",\"yellow\",\"pink\",\"yellow\",\"pink\",\"yellow\",\"blue\",\"blue\",\"green\",\"red\",\"blue\",\"green\",\"blue\",\"red\",\"blue\",\"green\",\"pink\",\"pink\",\"red\",\"yellow\",\"pink\",\"green\",\"green\",\"green\",\"pink\",\"pink\",\"yellow\",\"yellow\",\"yellow\",\"red\",\"red\",\"pink\",\"blue\",\"pink\",\"pink\",\"green\",\"red\",\"blue\",\"yellow\",\"green\",\"yellow\",\"yellow\",\"pink\",\"yellow\",\"pink\",\"yellow\",\"pink\",\"yellow\",\"pink\",\"blue\",\"yellow\",\"blue\",\"blue\",\"red\",\"red\",\"green\",\"blue\",\"green\",\"red\",\"blue\",\"blue\",\"green\",\"blue\",\"green\",\"green\",\"yellow\",\"blue\",\"blue\",\"green\",\"blue\",\"green\",\"blue\",\"blue\",\"green\",\"yellow\",\"pink\",\"green\",\"pink\",\"red\",\"red\",\"yellow\",\"pink\",\"red\",\"green\",\"blue\",\"blue\",\"yellow\",\"yellow\",\"yellow\",\"red\",\"green\",\"green\",\"red\",\"green\",\"yellow\",\"yellow\",\"green\",\"pink\",\"green\",\"red\"],\"phrase\":[\"Can I get back with my ex even though she is pregn\",\"What is the best way to become an arms dealer in t\",\"Why doesn't Japan contribute to peace and prosperi\",\"Which is the best Panasonic air conditioner servic\",\"What did ancient Egyptians believe about the after\",\"How does one prepare for the RBI grade B officers \",\"Which institutions in Kolkata give coaching for en\",\"Will omar bravo be in fifa 17?\\n\",\"What are the pros and cons of arranged marriages?\\n\",\"What will happen if all the vegetable dies?\\n\",\"Why do people hate hypocrites?\\n\",\"What do you consider poor, middle class, wealthy a\",\"How do I concentrate on my studies?\\n\",\"What is new age psychobabble?\\n\",\"How can you tell if your man is cheating even if h\",\"Can you see yourself during lucid dreaming?\\n\",\"Which browser is most safe in terms of privacy and\",\"Can Google Assistant run on OnePlus 3T?\\n\",\"Apart from the VW Vento / Polo and Skoda Rapid, ar\",\"What is Panera Bread?\\n\",\"Do athletes live longer and healthier? If not, why\",\"Could a pitbull take on a wolf in a fight?\\n\",\"What has Obama done for Latinos/Hispanics?\\n\",\"How much is |x|^2?\\n\",\"How does operator.com work?\\n\",\"Why do people not make movies/talk about the Romas\",\"What were the major contributions of the political\",\"Company Secretaries (CS): How do I prepare for CS \",\"What are the job prospects of chemical engineers a\",\"I have never gone to a bank. How do I put money in\",\"What is the best strategy to prepare for the GATE \",\"Who is this porn star?\\n\",\"Why are specs & sunglasses so expensive?\\n\",\"I installed the movie torrent with Ultra XVid Code\",\"Can we ride scootry with learning lisence age of 1\",\"Two cards were drawn, without replacement, from a \",\"How much money is needed per month to live in indi\",\"Why do companies issue bonus shares?\\n\",\"Why are Iranians and Afghans considered white Amer\",\"Could mumps cause deafness?\\n\",\"What is meaning of sadaka?\\n\",\"What should I know before starting a YouTube caree\",\"Is the ITI College Principal is gazetted officer?\\n\",\"How do you feel now that Donald Trump is now the P\",\"What is the difference between imperial units and \",\"What is the easiest way to do effective self hypno\",\"Why has China increased its involvement in the Syr\",\"From which year CBSE class 10th exam be reintroduc\",\"Is 1080p a Blu-ray?\\n\",\"Does using mirrors to concentrate thermal energy d\",\"How do I avoid attractions by phones?\\n\",\"What are some of the effects of education can you \",\"What are the characteristics of a Pisces Sun/Libra\",\"What is the most cost-effective option to ship pac\",\"Are red and blue complementary colors?\\n\",\"Is it possible to make a material that is a superc\",\"What is the best Shonen Jump manga?\\n\",\"Are Oracle and Cisco good companies for a new grad\",\"If lighting a match is considered a chemical chang\",\"Why is Hillary so afraid of Putin?\\n\",\"Which is the best book to study electronics basics\",\"What are the basics I should know before learning \",\"Can I use Cph4 on a day to day basis?\\n\",\"Is it safe when I buy things from China?\\n\",\"Why did some ethnic minorities support Brexit?\\n\",\"How much money has tinder made?\\n\",\"What is the limit?\\n\",\"Will browsing Facebook while connected to Tor reve\",\"If I get 68.4 percent in ftre 2016 class 10 then w\",\"No product market fit: change product or market fi\",\"What makes you sad about India?\\n\",\"How do I know if someone has read my messages on w\",\"Why there is a sound when we crack our knuckles?\\n\",\"Why do I only make friends with guys?\\n\",\"What is 'open-mindedness'?\\n\",\"What is the cause of carpal tunnel syndrome?\\n\",\"What is the difference between a \\\"slow cooker\\\" and\",\"What is Hillary Clinton's stance on nuclear energy\",\"Do IIT colleges require a caste validity for an ST\",\"How do I listen a song from you?\\n\",\"Why do so many Iranians immigrate to Canada?\\n\",\"What will happen to India-U.S. relations after Tru\",\"A program that stored five words in the memory the\",\"What are ways of joining to ISRO as engineer other\",\"Can Magneto defeat Hulk?\\n\",\"What time of year is it best to visit Singapore?\\n\",\"How do I study for ib?\\n\",\"What should I do if someone doesn't reply to my em\",\"How much does Manveer Singh Phogat gets for Dangal\",\"What is it like to be cannibal?\\n\",\"How can the Android app development companies help\",\"Who would you say is the most fun person in Israel\",\"How can one improve her figure and butt size witho\",\"As a company that provides travel agencies and tou\",\"What is the most beautiful thing you saw today?\\n\",\"Is gay flirting good?\\n\",\"Can I use Stripe in Europe?\\n\",\"Will Britain leaving the European Union lead to th\",\"Why are so many East Asian immigrants so averse to\",\"Why do we need computer networking?\\n\",\"What is retina detachment?\\n\",\"Why don't more bars have mechanical bulls?\\n\",\"How do I get better understanding of C++?\\n\",\"Which is the most profitable Porsche US dealer?\\n\",\"What are the best over the ear headphones for abou\",\"Is it true that the first kill is the hardest?\\n\",\"Which is best 32 inch led tv to buy below 20,000 I\",\"I am scoring 130/506 in FiitJEE aits part test adv\",\"What kind of websites are missing from the Interne\",\"What is the best way to use free time at IITB?\\n\",\"Is it possible for me to buy my first company usin\",\"What should I do to have sex with as many women as\",\"What is the scope of Executive MBA in India?\\n\",\"Which BMW models do not have a Hofmeister Kink?\\n\",\"What is yellow journalism?\\n\",\"Why do doctors charge uninsured patients 10 times \",\"Which one is the best public sector job or private\",\"Will social media ever help to spur on the US youn\",\"How should I know a video is 360 degree?\\n\",\"Is a practice manual sufficient for the CA Final I\",\"Career Advice: Being an Indian college student, ho\",\"What are the advantages and disadvantages of Li-Fi\",\"On Snapchat, I deleted someone. Can they re-add me\",\"Are there any cereals that taste good with water?\\n\",\"Why does a woman's vagina push a mans penis out?\\n\",\"What is the British word for bullpen?\\n\",\"How hard is it for international students to get a\",\"How did Revan build his foundation of his army in \",\"What is the best way to read a fictional book? Do \",\"How do you replace a ignition lock cylinder?\\n\",\"How can I prevent business failure?\\n\",\"How often do tides occur? What causes it?\\n\",\"How do I learn Calculus on my own?\\n\",\"What is the reason for Priyanka Gandhi not changin\",\"What should I eat when I'm sick with a cold or flu\",\"What is a Business Intelligence Analyst?\\n\",\"Which sports should I start to play to paticipate \",\"How should I prepare for Java fresher interview?\\n\",\"How different are cuisines of Arab countries?\\n\",\"What is the meaning of the phrase, all is fair in \",\"Why does Quora send me a notification that my ques\",\"What are the hardest obstacles to breaking into a \",\"What makes a falling snowflake large (or not)?\\n\",\"What is the compensation for Partners/Principals a\",\"What is the difference between an array and a vect\",\"If you kiss the NC State wolf do you become an NC \",\"Is it boring (from a social perspective) to live i\",\"What would have happened if in 1971 war all 93000 \",\"What are the easiest things to do while being abro\",\"Does getting root canal cause problem in speaking \",\"What is the definition of a truncated sentence and\",\"Would I look good with a nose ring? if yes which n\",\"What are the perks of working in Amazon?\\n\",\"How can we say that climate change does not bring \",\"What it is like to meet \\\"Shahid Kapoor\\\"?\\n\",\"How does it feel when you are dead?\\n\",\"Which is the best juicer, grinder or mixer in Indi\",\"How do I learn to think more logically?\\n\",\"Which movie has the best beginning ever?\\n\",\"Which laws been enacted to prevent family members \",\"What is iPhone 6s plus cost present?\\n\",\"What is Ohm's law and amperage I?\\n\",\"What is the nicest thing a stranger has done for y\",\"Why do some heroic people who do good things choos\",\"How will Hindus react if Babri Masjid is reconstru\",\"R2I - How did you plan R2I from US if you own the \",\"How can I master C programming in 7 days?\\n\",\"What is the right way to clean ear wax?\\n\",\"What are some good games to play during class?\\n\",\"Is it possible to hack WhatsApp messenger?\\n\",\"Why do airplanes carry more weight than helicopter\",\"Shaving: Do electric shavers work better than manu\",\"Has anyone benefited, health-wise, from essential \",\"Can Students at Hogwarts have sex while there? Doe\",\"How can we enhance our efficiency with Yoga?\\n\",\"What are the best app review sites and blogs?\\n\",\"Can two companies be registered on the same addres\",\"Is it true that as per Indian law, one can't be ha\",\"Who would win in a war between Bangladesh and Myan\",\"How do you reply when someone thanks you for forgi\",\"Who would win a fight between wolverine and Batman\",\"What is one thing you wish for yourself in the fut\",\"Can you cry underwater?\\n\",\"What's the difference between SSL, TLS, and HTTPS?\",\"Why are antigravity muscles more affected in Upper\",\"In order to buy a house, does one have to rent fir\",\"What is the probability of choosing a pink ball fr\",\"Which is the best car to get under 8 lakhs?\\n\",\"Why isn't China's role in the Korean and Vietnam w\",\"What is the Laplace transform of t^(1/2) * e^ (-1/\",\"To those who told a big lie to their parents and t\",\"What is runtime polymorphism or dynamic method dis\",\"I had sex 5 days after my period, what are the cha\",\"How would you describe yourself in one tweet?\\n\",\"How do fairy tales influence creativity in humans?\",\"How do I add delay() and sound() in Dev-C++?\\n\",\"What is the pathophysiology of ADHD?\\n\",\"What are the top benefits of life insurance polici\",\"Can I get a TV from Bang & Olufsen for under $2500\",\"How is the life of an ece student at dayananda sag\",\"What is meditation?\\n\",\"Were the Ancient Greeks scientists, or just philos\",\"How does Google authenticator work?\\n\",\"Wouldn't it be better if kids were allowed to focu\",\"Can you apply for a certificate on Coursera/edX af\",\"Why do Quora engineers use large monitors?\\n\",\"How do I start an online clothing business?\\n\",\"How will the government meet the challenges of acc\",\"I saw a charge on my credit card under from a comp\",\"What is the difference between socialization and r\",\"How would the world be different if everyone spoke\",\"Who receives the fares in a cab service?\\n\",\"As a non-resident alien doing a summer internship \",\"Which is the best camera smartphone under 20k?\\n\",\"What does it mean to dream about someone before th\",\"What are the subjects in which I can apply for my \",\"What are the basics of Jainism?\\n\",\"What is the Difference between existential nihilis\",\"How can I see my girlfriend's WhatsApp chat messag\",\"What are some ways to enjoy sex with my newly marr\",\"How can I study the Bible?\\n\",\"How can someone be a friend, girlfriend, wife and \",\"What are the Snapchat usernames of punjabi celebri\",\"What is 1/2 times 1/2?\\n\",\"Where does the word restaurant come from and what \",\"What can I do with a computational linguistics deg\",\"Will trump win as president?\\n\",\"What impact will AI eventually have on how we plan\",\"Why is eating too unhealthy?\\n\",\"What if the Syrian civil war never happened?\\n\",\"How do the teachings, learning, followership and/o\",\"Did you ever been in a group of stupid people?\\n\",\"What are the multiple types of social issues?\\n\",\"Where can I find beginner NodeJS tutorials that us\",\"If I got a 7.4 CGPA in the SA1 10 class, then can \",\"Which the best time table for 10th class exams pre\",\"Elite Escorts in DHA Lahore?\\n\",\"My ex bf says he doesn't have feelings for me righ\",\"What are the questions in the interview for a fres\",\"What do you think are some of benefits to humans f\",\"Which one is the best medical college hostel in in\",\"Have you lived in a tiny house?\\n\",\"What are some things new employees should know goi\",\"Where can I hire high pressure cleaning service in\",\"How many Bollywood Actresses consume alcohol in re\",\"How does PayU earn money?\\n\",\"Is it possible to change your personality as a chi\",\"How do I apply to London School of Economics as an\",\"How do I build a profile to get accepted into a st\",\"How can I get real ghost stories?\\n\",\"Is it possible to hack NASA's New Horizons satelli\",\"What is the best way of getting good at answering \",\"How would you deal with jerks?\\n\",\"How can I do internship in Accenture India?\\n\",\"Why would an Indian girl not want to get married?\\n\",\"My WhatsApp chat backup got deleted from Google, I\",\"Is going to college really worth it or just a wast\",\"How many prophets did God send to the Jews?\\n\",\"What is the relation and difference between Artifi\",\"If you don\\u2019t have a good network, what would be th\",\"What are the best place to visit in Rio de Janeiro\",\"Which is the best college for PG in Cyber Security\",\"Which are the best English serials?\\n\",\"How do you say \\u201cWhat\\u2019s up?\\u201d in Chinese?\\n\",\"Is it bad to take expired fish oil pills because t\",\"Will there ever be a genuine Authoritarian candida\",\"Is World War III on its way right now?\\n\",\"How can you use time formats in Excel?\\n\",\"What is the best antivirus for Windows 8?\\n\",\"Why do people like Metal/Hard rock so much?\\n\",\"What are the worst smelling things in the world?\\n\",\"Could someone explain the following electives at N\",\"What's a funny thing?\\n\",\"What are the main reason of cracks?\\n\",\"How do I hitchhike in Europe?\\n\",\"What is the physical significance of quantum mecha\",\"How do we get dead people off business junk mail l\",\"Who among the four in the picture given in descrip\",\"How do I know if I authentically, genuinely, hones\",\"On average, how long does it take a letter mail fr\",\"When will One Piece have episode 517 dubbed?\\n\",\"What should I do if I fell in love with my best fr\",\"How do criminal lawyers sleep at night even when t\",\"Can I get refund for Tatkal e-ticket because train\",\"How can I buy the new Macbook 12\\\" M7 512GB model i\",\"What are the different e-governance methods used b\",\"How do I run smoother GTA V? I have intel core i3 \",\"What is the use of tanpura?\\n\",\"What are the Snapchat usernames of celebrities?\\n\",\"Which is better- cracking gate and going for IIT/i\",\"Can you lose weight without exercising?\\n\",\"What is the best way to make life more interesting\",\"Is Delhi a must for UPSC coaching?\\n\",\"Which are the best colleges for electronics and in\",\"I have been a .Net developer for over 2 years and \",\"Has a smartphone ever been taken to space? If yes \",\"What questions should I ask my boyfriend, we are b\",\"How do I delete a contact blocked in WhatsApp?\\n\",\"Is it a good time to buy real estate in Cyprus?\\n\",\"South India: Why is South India much more develope\",\"What is the formula for a hydrocarbon?\\n\",\"What if an alien comes and tells us that the physi\",\"What are the pros & cons of democracy?\\n\",\"I'm 16 years old and wanted to lose weight and bod\",\"Can I add more peers to the torrent for max speed \",\"What are the best neighborhoods to Airbnb in Chica\",\"What we will get in mahabalipuram beach sunrise or\",\"How fast can you accelerate to the speed of light?\",\"What is the difference between R-squared and Adjus\",\"How many times can women reach orgasm in a hour an\",\"Why didn't Johor, Batam & Singapore integrate more\",\"Which products are more profitable in online sell?\",\"How do I get rid of muscle?\\n\",\"What is the process of directing and casting child\",\"Is the 7th pay commission needed?\\n\",\"What are the best games that are compatible on a C\",\"What was the significance of the battle of Somme, \",\"How do you see Pakistan PM Nawaz Sharif's speech a\",\"Where can I publish my apps?\\n\",\"What was your darkest moment?\\n\",\"Why does the UK have an unwritten Constitution?\\n\",\"What are the necessary steps in documenting a mobi\",\"Why was life created? Why was life so painful?\\n\",\"How can I use explainer video to review products o\",\"What is difference between residue and error?\\n\",\"If 6.5 to 8.5 will be the safe level of pH value i\",\"I am 23 and don't know what I want. My life is ver\",\"What are your three favorite websites for reading?\",\"Why do people choose to be a GAY?\\n\",\"What is the process of death?\\n\",\"Why does light red deserve the special name \\\"pink\\\"\",\"Who are millennials?\\n\",\"What it's like doing CA articleship from Big 4s?\\n\",\"What is the most important right or freedom guaran\",\"Why do some porn stars have unprotected sex?\\n\",\"What are my reasons to live?\\n\",\"How small would a planet need to be to plainly see\",\"Some religion speaks of burning in hell after deat\",\"What does it feel like to be an IITian?\\n\",\"How does cognitive behavioural therapy work?\\n\",\"Why should you visit India?\\n\",\"I lost my Google account information. How can I re\",\"What if I port a number from Airtel to Vodafone in\",\"What are the reasons why time travel is impossible\",\"Will my iPhone alarm still go off if \\\"Do Not Distu\",\"Did South Korea cheat during the 2014 Asian Games?\",\"Take the minimum lethal volume of a gaz, put it in\",\"\\\"How to improve Project Management skills?\\\"\\n\",\"When you were small, did you ever think that your \",\"Where did the pointy \\\"S\\\" symbol come from?\\n\",\"How does it feels like to have a rich boyfriend?\\n\",\"What have you used your intelligence for?\\n\",\"What is a freewheeling diode?\\n\",\"How do we derive pi?\\n\",\"What is the importance of communication skills in \",\"How can I put icons on YouTube video titles? Also \",\"What does the phrase \\\"resonate with me\\\" mean?\\n\",\"How many types do we have of Manual testing?\\n\",\"What are IBAN numbers?\\n\",\"What is regret?\\n\",\"As a student specializing in English language, lit\",\"What is the corporate culture like at Corning? How\",\"How can I convert jazz standards to jazz guitar so\",\"How good was the surgical strike by Indian Army on\",\"What recipes are most conducive to romance?\\n\",\"What are the unknown facts about Tamil people whic\",\"Where do I find the most beautiful woman in the wo\",\"What does the grey phone icon mean on the messenge\",\"How do I share 360\\u00b0 photos on WhatsApp?\\n\",\"What is the difference between working stress meth\",\"What are the opportunities for an MBA in finance?\\n\",\"Can you patent clothing or fashion designs?\\n\",\"My in laws are apologists for Nazi war criminals a\",\"Which is the safest city in India for women?\\n\",\"What horse breed were commonly used during the \\\"Wi\",\"Is it weird to sometimes feel almost overwhelmed b\",\"Can anyone please list all the SAP SD topics a per\",\"In the filling of ibps application I put martial s\",\"In a restaurant, what are the different types of t\",\"Why does amir khan never go to any filmy awards fu\",\"What is a good inpatient drug and alcohol rehab ce\",\"Why does UV light cause contamination on optics, b\",\"How do I invest in mutual funds in India?\\n\",\"How comfortable are you with failure?\\n\",\"What skills are required to become a quant?\\n\",\"Why do startups announce fundraising?\\n\",\"What is your review of Amazon Video?\\n\",\"Why there is no team from Tamil nadu in pro kabbad\",\"How do I auto forward texts from my Verizon phone \",\"How do the Chinese people view Americans?\\n\",\"What is virgin or virginity?\\n\",\"What are the different ways of submitting a Reques\",\"Can a high school teacher legally force students t\",\"Why does water droplets form on the outer surface \",\"Which mammals have dark circles around eyes beside\",\"How do each components of a printer work?\\n\",\"What are some foods beginning with the letter W?\\n\",\"What are symptoms of a bad transmission control mo\",\"How do astronauts in ISS vote for Presidential ele\",\"What is the difference between Aim and Goal?\\n\",\"What is AT & C?\\n\",\"Who was Jackson Pollock? Was he mentally ill?\\n\",\"How do I make good vine edits?\\n\",\"How can I cut my penis?\\n\",\"How can I change my Quora profile photo?\\n\",\"My husband was here seeking asylum before we got m\",\"Is it good to use Laravel to develop a web app wit\",\"I have a mild sore throat an headache. What is tha\",\"When will a working nintendo 3DS emulator release \",\"What do we know about the health effects of vaping\",\"INSEAD: Worth the investment?\\n\",\"How is long rides in royal Enfield classic 350?\\n\",\"What famous boxers have participated on Dancing wi\",\"Will season 10 of Big Bang Theory be the final sea\",\"Can I crack KVPY (SX) with only three months left \",\"What are some little-known facts from World War II\",\"What is the most unique way of exam cheating you'v\",\"When was the last time a slam dunk broke a basketb\",\"What should I do for my excessive hair loss?\\n\",\"How do I find people's psychological weakness?\\n\",\"What is the difference between Awareness and Consc\",\"I hate everything that people around me like. Is i\",\"I think I am pretty good at thinking of a business\",\"How do you determine the thickness of a footing ba\",\"Why does vapours are formed when we pressurize alc\",\"Is it easy to adjust in German Universities withou\",\"What is UNIX and UNIX-like?\\n\",\"What is the best way to promote www.dorkyard.com?\\n\",\"What's up in Addis Abeba tonight?\\n\",\"Is there any point to going to college if you have\",\"How much would it cost to construct 800 sqft area \",\"What is an ideal wife? What is an ideal husband? W\",\"What information does port scanning provide?\\n\",\"What are the application of quasicrystals?\\n\",\"What is the determinant of the inverse of a matrix\",\"How is Brad Pitt in \\\"real Life\\\"?\\n\",\"I have a 3 yr bachelor's degree in Computer Scienc\",\"Demonetisation is good for county like India or no\",\"My parents think I am rude for being so introverte\",\"How many people have jumped off the Golden Gate br\",\"What are Osho's views on Islam?\\n\",\"Why does the government regulate health care?\\n\",\"Which phone has the best sound recording quality?\\n\",\"What is the best part of your life, and why is it \",\"Which is better hair wax or hair clay?\\n\",\"How do I charge my motorcycle battery?\\n\",\"What are the updates we get after miui 8.0.6.0?\\n\",\"Why does Robinhood need to bypass the App Store?\\n\",\"Which is a better route, Alipiri or Sri Vaari?\\n\",\"How much extra would it cost if Apple manufactured\",\"When will the next recession be?\\n\",\"What are some arguments in support of electing Don\",\"What does Russia want with Ukraine?\\n\",\"What is the difference between a recorder (block f\",\"What is the meaning of random number?\\n\",\"Which one is good for health: tea or coffee?\\n\",\"Is Texas good state for non-resident to register a\",\"What is kirchoff's law?\\n\",\"Is it wrong for a family member to keep making com\",\"My parents are forcing to marry a girl of their ch\",\"Which is better, Windows+Linux or OSX?\\n\",\"Why aren\\u2019t Christians that pray to/have a relation\",\"How much TDS will I have to pay for an RD account \",\"What is the meaning of thematic connection?\\n\",\"How should you prepare to take your maneuverabilit\",\"What are the best materials/videos/resources to ge\",\"Can a \\\"dirty\\\" finish be added back to jeans?\\n\",\"Why does my dog keep whining at night?\\n\",\"Is it bad to turn off my PC using the power button\",\"What is image processing?\\n\",\"I went to school with mostly black kids, they bull\",\"Does Donald Trump actually think he can become Pre\",\"Which are the 5 best movies you have ever seen?\\n\",\"How do I get traffic to excursions travel website?\",\"Where can I download the Android game Leo's Fortun\",\"How do I get more followers and upvotes on Quora?\\n\",\"What is a factory reset on a phone?\\n\",\"Which phone should I buy if my budget is 12000?\\n\",\"I have GPU implementation as a graduation project.\",\"What are the libertarian views on the Antarctic Tr\",\"What would the world be like if it were ruled by a\",\"How do you choose your first bank?\\n\",\"Who runs berkuliah.com?\\n\",\"What does Godel's incompleteness theorem mean for \",\"How do I delete a Gmail account?\\n\",\"If my ultimate goal is to become a vegan, should I\",\"Did the US win the war in Afghanistan?\\n\",\"How can I become a good engineering student?\\n\",\"What are some ways to increase intuition?\\n\",\"What causes depression in humans?\\n\",\"How can I control my anxiety and worries?\\n\",\"How can we jump in between the working regions of \",\"How do I stop loving someone who loves me?\\n\",\"Can personality and insecurity create a liar?\\n\",\"What is the best country and university to do a Ph\",\"How do I edit a video offline?\\n\",\"What is the rent of kiosk in an upscale mall?\\n\",\"What should I start reading if I want to attempt t\",\"Which is the best anti-virus for computers?\\n\",\"Does food unite people?\\n\",\"What do you like most about Internet?\\n\",\"What is a good model of federalism in the Philippi\",\"How do you know if a girl secretly loves you?\\n\",\"Who is the most annoying fictional character you h\",\"How do you feel when your question is unanswered o\",\"Did early humans know how babies were made?\\n\",\"If I cancel xfinity, how can I sign up as a new cu\",\"Are there any TV series similar to House MD?\\n\",\"What you need to know before buying furniture for \",\"Have you ever had a dream happen in reality?\\n\",\"Is dark matter just a scientific theory or has its\",\"How can you increase your tolerance for pain?\\n\",\"How many logical fallacies are there?\\n\",\"How do buttercream icing frosting separate?\\n\",\"Which is the cheapest cinema hall of India?\\n\",\"What do you think would be a good gre score?\\n\",\"What is the best way to update Xiaomi redmi 3 to M\",\"What does toe jam cheese taste like?\\n\",\"How do I know if a YouTube video is copyrighted?\\n\",\"How should I start a business reselling shoes?\\n\",\"How do I hire a mobile app development company?\\n\",\"What is paras pathar?\\n\",\"How is the word \\\"colony\\\" used in a sentence?\\n\",\"What is Rebecca Fugate known for?\\n\",\"What should I consider before starting my consulta\",\"Do you feel that many attractive women get away wi\",\"Why do I feel so much guilt for kissing a girl?\\n\",\"What are some good tutorials for learning Blender?\",\"Is it deceitful to befriend someone in the hopes t\",\"Who do you think BJP will put as a candidate for t\",\"Which protein supplement is best for gym to gain w\",\"What is your review of KVPY SX/SB 2016?\\n\",\"How do I get people's attention for my work?\\n\",\"What are some of your own personal stories and exp\",\"If salt concentration of the sea(3%) were differen\",\"What is the chemical name for mothballs? How was i\",\"Vitamin D receptors in the Testes?\\n\",\"How do I lose weight without working out?\\n\",\"Where can I watch anime?\\n\",\"What is BusyBox used for?\\n\",\"What would be a good desktop computer for software\",\"What are your top five favorite books and why?\\n\",\"What are some good Harry/Ginny fanfiction?\\n\",\"What are the pros and cons of having sex during pe\",\"Which device will you enjoy watching movies in: a \",\"Will there be \\\"faithless\\\" electors this election?\\n\",\"Is Donald Trump an undercover democrat?\\n\",\"Why am I the way I am?\\n\",\"Why do some women get their nipples pierced?\\n\",\"What do Delhi University girls (especially North C\",\"What is the name of this TV series?\\n\",\"My salary is below the Basic Exemption Limit, yet \",\"What is a foliated rock?\\n\",\"What are some of the best books to start learning \",\"How should I prepare for IIT-JEE 2018?\\n\",\"How do unions work?\\n\",\"Can we give neet coaching in class 11?\\n\",\"Which is the best dish TV connection in Hyderabad?\",\"How can you train a Doberman/Lab mix?\\n\",\"How do you reduce stress at work?\\n\",\"What is the best algorithm for finding the number \",\"How can I earn $250 in 2 months?\\n\",\"Why did GE buy NBC?\\n\",\"What is the highest level of c?\\n\",\"How do you mash potatoes without a masher? What el\",\"How difficult is it to learn Python?\\n\",\"How do you convert years into seconds?\\n\",\"How do you view bisexuality?\\n\",\"What is information technology? What are some exam\",\"Why are Altoids so strong?\\n\",\"How effective is email marketing?\\n\",\"Why does my tutor keep winding me up. He says he i\",\"How can I start my Tok essay which is about accura\",\"How do I repair my corrupt memory card?\\n\",\"I have 3 years to prepare for IIT JAM Physics. How\",\"What are the best Instagram hack tools that have n\",\"I am studing interior design. What are some good i\",\"What are some stupid jokes that make you laugh?\\n\",\"What are the factors affecting Real estate investm\",\"How can I get rid of white dry spot on my face? It\",\"What is it like to have an ugly wife/partner?\\n\",\"What do you love most about your life and why?\\n\",\"In the unlikely event that the Electoral College t\",\"How is life as an Engineer?\\n\",\"Where and why are the imaginary numbers used?\\n\",\"What are some good hypo-allergenic lipsticks?\\n\",\"Did the United Nations play a part in the divide o\",\"When and Why did America become a world power?\\n\",\"What are some recipes using Hormel Black Label Ham\",\"Which is the best company to invest shares on Nove\",\"The man I'm about 2 marry says when I have my peri\",\"What can be the best answer for why finance?\\n\",\"What are the best facts about the universe?\\n\",\"What's the sweetest thing you did for a bestfriend\",\"What is the difference between techno and trance m\",\"TV Sitcoms: Why do English comedy shows have peopl\",\"Does percentile system would affect neet 1 student\",\"Is there Uber in Valencia, Madrid and Barcelona?\\n\",\"Have real-life siblings ever shot intimate scenes \",\"How should I improve my writing skill for blogging\",\"Can cold weather affect a menstrual cycle?\\n\",\"How can we earn money online while studying?\\n\",\"Can a tablet keyboard be used on any kind of table\",\"What are the Upcoming development projects in Chha\",\"Where can I buy cheap Twitter followers?\\n\",\"Why do passengers from aircraft are not given a bu\",\"When should I tell my crush I like her?\\n\",\"Why does Pakistan have a better image and reputati\",\"What are Andrea Pirlo's strengths as a midfielder?\",\"From a point in space billions of light years away\",\"Will Medicaid pay for electrologist to do the shav\",\"Why do technical employees despise sales people so\",\"What are the best freelance websites for C#?\\n\",\"Will I be successful without educations?\\n\",\"How can I learn about cars?\\n\",\"What is the best question asked in an interview?\\n\",\"Why there is so much hatred against Brahmins in In\",\"How do I learn to enter journal entries online in \",\"Will CS be issuing a PR message for Boston?\\n\",\"Why do some people 'hate' drugs or people who ever\",\"How do I know my passion? What is my talent and wh\",\"How do pessimists and optimists differ?\\n\",\"How many pulleys did it take for Archimedes to lif\",\"What is the best course after 12th for a medical s\",\"What are the steps that I should follow to get in \",\"Where was the boston marathon?\\n\",\"What is it like to be in or around a bomb blast?\\n\",\"Will Trump destroy international US-companies thro\",\"Should celebrities have the right to voice their o\",\"Can I say that: \\\"A battery can be seem as a capaci\",\"What is it like to be an ENTP?\\n\",\"How do I start designing on glass?\\n\",\"What is the market risk premium formula?\\n\",\"How can I pay the parking meter if I have no coins\",\"Is it true that Obama has a secret son named \\\"Luth\",\"Which is the best coaching for IAS in up?\\n\",\"How big is the equity funding market in North Amer\",\"Which are the good government medical colleges in \",\"How do I control my hair fall?\\n\",\"Is it really worth creating Shopify themes?\\n\",\"What can cause knee pain? It only hurts when I sta\",\"Where can you find a list of common 9 letter words\",\"NSFW: Is this penis color normal or should I see a\",\"Why do most women remove the hair from their arm p\",\"Which processor is better (faster/more efficient),\",\"Which two statements are true regarding views in s\",\"What is the easiest and quickest Indian food recip\",\"What are the best local SEO companies in India?\\n\",\"How do I get rid of adult content on my Quora feed\",\"Can the zombie fungi attack humans as well?\\n\",\"If I wanted to learn about the Roman Empire,what w\",\"What are the key differences between LXDE and XFCE\",\"Can people see the sellers real name, e-mail addre\",\"Should I still watch The Matrix movie?\\n\",\"Is there any truth to the rumor that the youngest \",\"Is it ok that I don't want to hang out with my fam\",\"I am in class 9. If i want to crack IIT JEE, then \",\"Will Obama's gang stalking/surveillance program be\",\"What are some good songs to lyric text prank a fri\",\"Where can I get best quality video DJ for party in\",\"How long does it take for your hair to grow?\\n\",\"Should I update my Redmi 3s from MIUI 7 to MIUI 8?\",\"How do muscles work?\\n\",\"WHAT IS THE BEST ROUT FOR NEPAL PASUPATI NATH TEMP\",\"How to make a website similar to feedwiser.com in \",\"Why does India so scared of CPEC?\\n\",\"What did your first sex feel like as a girl?\\n\",\"In International ODI/T20 cricket matches, if a bat\",\"Why can humans feel acceleration, but not constant\",\"Can the Microsoft Surface Pro 4 run AutoCAD?\\n\",\"What are the differences between stock Crown Victo\",\"What are the good ways to download Lynda.com's tut\",\"How much is the average salary package for a 1.5 y\",\"How can you reduce the barriers of communication?\\n\",\"Why would someone use Instagram Stories over Snapc\",\"Whiskey: How many 'shots' are in a fifth of Jack D\",\"What might happen now that President-elect Donald \",\"How do I write a waiver letter for school?\\n\",\"I am interested in persuing ma industrial psycholo\",\"Does modafinil shows up on a drug test? Because my\",\"Is it possible to get high off Vyvanse?\\n\",\"Is an agnostic necessarily a skeptic, and how?\\n\",\"Where can I get best support in Sydney for buying \",\"What are the duties of a lieutenant in Indian army\",\"Why is smileys not used on Quora?\\n\",\"What does it feel like for a man when someone who \",\"How does post graduation permit impact .lets say I\",\"Online Payment Gateways and Processing: What is th\",\"What are the best books to learn c programing lang\",\"Solid State Physics: What is The Theory of Alloys?\",\"How do I fill in my first name in a PAN card dupli\",\"Why is egg yolk not good for you?\\n\",\"Anatomy of Female Pelvis: Do women really have an \",\"How much does it cost to develop mobile applicatio\",\"Who is the most honest Game of Thrones character?\\n\",\"What is a high quality Apple MacBook Air charger?\\n\",\"Where and how is the WWE championship belt made?\\n\",\"What is green communication?\\n\",\"I have been a good student since chiild hood but j\",\"I'm solving exercises of artificial neural network\",\"Compared to your own compensation, and in consider\",\"How can I keep browsing Quora forever?\\n\",\"Having built web stuff the old way (PHP/MySQL) bac\",\"Is our new currency note of Rs.2000 equipped with \",\"What's the best way to join a startup in DC?\\n\",\"What would happen if we added a second Earth of eq\",\"When will piracy on Android stop?\\n\",\"What do you mean by executive consultant and suppo\",\"Why do I always feel like I am missing something?\\n\",\"What does a user see when he/she gets a new messag\",\"How can I become a web developer?\\n\",\"Is there any good alternative softwares to Tally?\\n\",\"Would you have sex during period?\\n\",\"Are there prominent Bangladeshi Hindus?\\n\",\"I have registered for PhD (no NET) (phy) in 2013, \",\"I changed my name, but the person did a mistake. M\",\"At what age do your breasts stop growing?\\n\",\"How do I get a girl's phone number in a library?\\n\",\"I am into a habit of over thinking things. How do \",\"What is the average salary of a civil engineer?\\n\",\"What is the difference between rote learning vs me\",\"What are the ways to compete in the Olympics in 20\",\"What trivia (and/or little-known facts) do you fin\",\"Xiaomi Redmi note 3: Which is the best colour to b\",\"What does \\\" the Hadamard Perron theorem\\\" means?\\n\",\"Is there a way to see the viewing history and chat\",\"What is the best place for trekking in Goa?\\n\",\"How does an instant messenger work?\\n\",\"What are the disadvantages of the World Trade Orga\",\"Why does the US military not use AK series rifles?\",\"Does Moto m have gorilla glass?\\n\",\"What is the hierarchy of an associate consultant a\",\"What are some major landforms in Texas, and how do\",\"What other jobs can a medical degree holder do mea\",\"MY HP DEXTOP DOESNOT CONNECT WIFI WHY?\\n\",\"How can I get motivated to workout?\\n\",\"What should I gift it to my mom on her birthday?\\n\",\"Which is the best video you have ever seen?\\n\",\"I was selected in campus and was issued a joining \",\"What makes a poem a good way to express emotions? \",\"What would happen if I cut down a tree outside my \",\"Can you make money in Amway?\\n\",\"Body Weight: How many pounds can I gain every week\",\"What are the impacts (both positive & negative) of\",\"I forgot the password which I used to login n n lo\",\"What are the best websites for career?\\n\",\"What is your favourite episode of the office (USA)\",\"Why is time slower down near heavy objects?\\n\",\"How do l update any version after rooting the mobi\",\"Why is 3 am called the witching hour?\\n\",\"How do I run a shell script from Java code?\\n\",\"What are the advertising campaigns of 2011?\\n\",\"Should I opt for computer science if I don't take \",\"What are the polymers of protein?\\n\",\"How much better will the JWST be than Hubble?\\n\",\"What are the greatest examples of absence of mind?\",\"How can I understand the STOCK market from the bas\",\"How do I make Gazpacho?\\n\",\"What is the typical role of a brand manager?\\n\",\"Who are the top 5 hottest women ever?\\n\",\"What is the name of the game that Aamir Khan was r\",\"How long does it take to learn dance?\\n\",\"What's the funniest thing that's happened to you a\",\"Why are metals malleable and ductile?\\n\",\"List of national daily in India?\\n\",\"Are Volvos actually safer than comparable cars?\\n\",\"Can you tell who has been looking at your Instagra\",\"A ball dropped from the roof of a building takes 4\",\"What percentage of Hillary Clinton's supporters ha\",\"Do you think you are beautiful?\\n\",\"Which are the free email marketing tools?\\n\",\"What topic of discussion do people hate the most? \",\"What is the point in having hyper-politicised stud\",\"Why Steve Jobs is considered as innovator?\\n\",\"How long would it take an average programmer to wr\",\"Why are conservatives defending Holly Fisher? (see\",\"What is so important about Adam Smith's pin factor\",\"What is the Arizona bark scorpion, and how do anim\",\"How do I stop smoking cigarettes?\\n\",\"What are the functions of a computer's motherboard\",\"How can tea bags help for styes?\\n\",\"How can I get a patent for my really effective inn\",\"Can India ever become 'Sone Ki Chidiya' again?\\n\",\"Is there any way to play Android games LAN multipl\",\"Why should I ask my first question?\\n\",\"Who are the top writers on Hinduism on Quora? Who \",\"How do I wake up at 4:00 A.M.?\\n\",\"Why is Quora moderation collapsing all my answers?\",\"In an honest assessment, what do you think of Trum\",\"What type of bonding is present in a coordinate bo\",\"Is it possible to delete your Wikipedia account hi\",\"I'm a +2 CBSE non-medical student. Is there any pr\",\"Are there any limitations as to setting up a forei\",\"How will the drought in California affect its econ\",\"What is Informatica online training?\\n\",\"Is it compulsory for a Web designer and developer \",\"How could the US realistically pay off its debt?\\n\",\"Who is Barry Soetoro?\\n\",\"How do I solve [math]2x^3-x^2+11x+3=0[/math]?\\n\",\"What are some hobbies couples can do at home?\\n\",\"How have meerkats adapted to the desert?\\n\",\"What causes dizziness when you lay down?\\n\",\"What should one do after a civil engineering degre\",\"What are the advantages of hiring skip bins servic\",\"Why is it necessary that singers lip-sync?\\n\",\"How can I turn off the screen overlay detected on \",\"How do you clean or polish a pair of Woodland shoe\",\"What are some classes you wish you took in high sc\",\"What is the formula of [math](a+b)^3[/math]?\\n\",\"What is it like to commit yourself to a psychiatri\",\"Is there any way to slow or reverse the late effec\",\"What would the implications be if we discovered th\",\"Any other program to help on code contribution for\",\"What is the bond order of [math]H_2[/math]?\\n\",\"What is the best way to create a website without c\",\"What were some causes and effects of the French Re\",\"What are some catchy headlines for a dating site?\\n\",\"Should I get Company of Heroes, World in Conflict \",\"How do I remove a person from a group in Skype?\\n\",\"Why was Manmohan Singh briefed by PM Modi after su\",\"Does anybody want to learn Chinese?\\n\",\"Is Xiaomi going the Nokia way to oblivion?\\n\",\"Should I buy hp 17.3 AMD laptop or lenovo 17.3 i5 \",\"Which is better a government job or a software job\",\"How can the word \\\"credulity\\\" be used in a sentence\",\"Does uber track time on app?\\n\",\"How do I get over direct rejection?\\n\",\"How can any institute get an ISO certificate?\\n\",\"What are the best pranks?\\n\",\"Are non-solicit agreements enforceable if the pers\",\"Which phone is best in 2016 for a 18 years boy my \",\"What is the definition of an archetypal hero?\\n\",\"Why are some \\\"ugly\\\" people still very attractive?\\n\",\"What are the chances of Donald Trump's impeachment\",\"What would a society based on laws enforcing only \",\"What is the full form of \\\"veto\\\" power?\\n\",\"How much do people get paid to do a TED talk?\\n\",\"What does it mean to say \\\"enriching herself off of\",\"How can I be more persuasive at work?\\n\",\"What is the corporate culture like at National Bev\",\"What is the fastest way to get a PAN card?\\n\",\"Who will win in America presidential elections in \",\"How do I solve this differential problem?\\n\",\"How is Banjara's Saffron Facial Kit used?\\n\",\"How do you understand life?\\n\",\"Will an MS from NUS in electrical engineering prov\",\"How does one create a strong password? Any tips?\\n\",\"Who was the best dressed at the 2016 Emmy's?\\n\",\"What is the cost of manufacturing a SIM card?\\n\",\"Are you tolerant?\\n\",\"Is [math]\\\\{1,2,3\\\\}[/math] a compact subset of a me\",\"What kind of energy is involved in hearing and vis\",\"What happened with Lehman Brothers?\\n\",\"What is a good web page publisher?\\n\",\"Why does eating radishes cause diarrhea?\\n\",\"How do I encrypt the data on my Android phone?\\n\",\"If there were an Oscar for \\\"Best Line in a Movie\\\",\",\"Why are tyres black?\\n\",\"What is the best way to unlock a Motorola Droid Bi\",\"Is a $45 a month job worth the experience?\\n\",\"Should I settle in Canada or Japan?\\n\",\"How is the appraisal process in Accenture? How wil\",\"How does sand turn into glass?\\n\",\"What effect will increased automation of jobs and \",\"I am 25 years old Indian guy, want to settle in Ne\",\"What are some Raksha Bandhan gift suggestions for \",\"How do I write a multi-dimensional villain that is\",\"Why is there no nucleus in a red blood cell?\\n\",\"Why do Quora allow anonymous fake questions from A\",\"Is it possible to merge a foursquare venue into a \",\"How do I find out if I have Siri on my phone?\\n\",\"Why do I feel like I'm not living my life?\\n\",\"What will happen to global stock market if Donald \",\"What makes weeds grow so much faster and easier th\",\"Do people with extremely high IQ need higher sugar\",\"What should teaching assistants do?\\n\",\"Why is Perth one of the most liveable cities in th\",\"How do you get to the entrance for Resolution Cave\",\"How do I get involved in research as an undergradu\",\"If you have one option to remove anything, what wi\",\"What are the risk after angioplasty?\\n\",\"Why can't men read the signals women give off when\",\"How can a non-EU medical graduate get into residen\",\"How do I stay active?\\n\",\"I'm going to Paris. What is the equivalent \\\"neighb\",\"How do I get rid of dandruff, or at least prevent \",\"Is Medicaid going to pay for the electrologist for\",\"When Australia became a nation in 1901, Did aborig\",\"What is the difference between SSL and Sitelock?\\n\",\"What are some unsolved problems in deep machine le\",\"What's the difference between computer engineering\",\"Is it possible to get a decent job after completin\",\"What is the difference between MG & BG in railway \",\"How do I control an Arduino with a Raspberry Pi?\\n\",\"What is the best field to pursue MS after doing el\",\"What is the difference between Directx and graphic\",\"How do I wirelessly charge the electrical devices \",\"Can you upload Numbers sheets from iPad to Google \",\"What's the best movie franchise you have ever watc\",\"If light does not have mass, then how can it be ab\",\"Why is the book of Esther in the Bible?\\n\",\"What makes comic books worth reading?\\n\",\"What are the advantages of outsourcing property ma\",\"What is a Quora credit competition?\\n\",\"Are data analyst/data science jobs boring?\\n\",\"Why don't satellites crash into each other?\\n\",\"How do dermatologists remove blackheads?\\n\",\"How can I choose between my dad and my mom?\\n\",\"Can you really not change people?\\n\",\"Being a non believer of a spiritual entity, I have\",\"Is black coffee fattening? If so, what makes it fa\",\"The education system is outdated. What would you d\",\"Who are the founders of Quora?\\n\",\"What is it like to be a landlord?\\n\",\"How many stamps do I need to send a letter to germ\",\"My father just recently got married. His wife goes\",\"Which countries are best to migrate from the US?\\n\",\"Can any one tell me a basketball club in Bangalore\",\"How can Spotify download songs offline?\\n\",\"How do I make money online for free in Spain?\\n\",\"Why is Tornado Alley prone to tornadoes?\\n\",\"How does helium change the inhaler's voice?\\n\",\"What is a bedding ceremony in Game of Thrones?\\n\",\"What is it like living in former East Germany as a\",\"Did the USA or NATO commit any war crimes in Iraq?\",\"Why don't we capture terrorist and behead them?\\n\",\"What is your favorite quote (books, movies, people\",\"What mixes well with peach vodka?\\n\",\"Which Patanjali products contain cow urine?\\n\",\"Why are three phases denoted by RYB?\\n\",\"Where could I learn JavaScript online?\\n\",\"Is it appropriate to wear a sports bra simply to t\",\"What are the differences between Jenkins CI and Dr\",\"T right do you think we should be entitled to?\\n\",\"What was the public's reaction to Crystal Pepsi?\\n\",\"How can I crack MH-CET 2017 engineering by self-st\",\"What is the way to become a dental hygienist in th\",\"Why do solving math/statistics problems causes my \",\"Does your name sound as awkward to others as it so\",\"What is the proper format of writing formal-inform\",\"How does doc2vec represent feature vector of a doc\",\"Why are software development task estimations regu\",\"How can I set up molecular pathology lab?\\n\",\"How do I score a rank in CA - IPCC?\\n\",\"What are some examples of strong organic acids?\\n\",\"What can be a good hindi (indian) name for a tea b\",\"Is the Google host matching process different for \",\"Is Cuba considered part of Latin America?\\n\",\"Does the following script (\\u0256\\u2200\\u0f61\\u0632\\u2202 \\u0250\\u0167 \\u01ab\\u04bf\\u03de\\u026e\\u2609 \\u027d\\u03c6\\u0289\\u029b\\u0195), \",\"How can I increase my website's DA?\\n\",\"Is it normal to imagine having sex with other guy \",\"What is the percent purity (approx) of consumable \",\"Do soulmates just come walking into your life when\",\"If I use marijuana with my boyfriend, is there a p\",\"Can you analyze everything in soil?\\n\",\"What difference it would make if India Nuked and K\",\"What are the advantages of a dominant party system\",\"What were some things India did not do but takes c\",\"How many total women have accused Bill Clinton of \",\"Why do I wish some fictional characters existed?\\n\",\"Where can I find best hotel at Ranikhet?\\n\",\"How do I make good memes?\\n\",\"What are some of the common sayings or proverbs in\",\"What kind of writing style makes someone a \\\"dark w\",\"Are Trump and Hillary really the best America has \",\"How can I make my career in embedded system and ro\",\"Will adding a USB to VGA adapter always give an ex\",\"We will never be able to see our own faces with ou\",\"What are the ways you can stop a friend from pitch\",\"What is the average time for preparation of IAS?\\n\",\"How can I learn new things quickly?\\n\",\"What is the definition of political courage?\\n\",\"What makes death scary?\\n\",\"I'm really pretty but I don't want to be I hate th\",\"Is Assam Down Town University good?\\n\",\"How do the brain structures of bonobos change as t\",\"What's the biggest scam?\\n\",\"Does the US government have an alien flying saucer\",\"I need to gain weight, but I don't have abs. It's \",\"Why should I study Calculus?\\n\",\"Do you think your childhood contributed to your fi\",\"How does the Goods and Services Tax (GST) works?\\n\",\"Where can I download Cisco 500-285 exam dumps?\\n\",\"How do I can make a second nation in Cybernations \",\"Did Neil Armstrong really land on the moon?\\n\",\"Why is Devil any other than God head of state?\\n\",\"How do I stop being possessive over my girlfriend?\",\"How does Kongregate compute the statistics of adve\",\"Who is the best nuero physician at NIMHANS, Bangal\",\"What are nonprofit organizations?\\n\",\"I want to know the process of starting outbound ca\",\"Which are some of the best hotels to stay in Helsi\",\"What is good about Deloitte Chicago?\\n\",\"How do I recover data from a formatted hard drive?\",\"Could India and Pakistan unite again?\\n\",\"How often should I massage my face with Argan oil?\",\"How is psychodynamic therapy different from psycho\",\"What are some of Barack Obama's character traits?\\n\",\"Would it make sense to replace the B-52's 8 1960s \",\"Is it possible to bring forward my flight date of \",\"How can I learn marathons?\\n\"],\"x\":{\"__ndarray__\":\"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\",\"dtype\":\"float32\",\"order\":\"little\",\"shape\":[1001]},\"y\":{\"__ndarray__\":\"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\",\"dtype\":\"float32\",\"order\":\"little\",\"shape\":[1001]}},\"selected\":{\"id\":\"1711\"},\"selection_policy\":{\"id\":\"1712\"}},\"id\":\"1621\",\"type\":\"ColumnDataSource\"},{\"attributes\":{},\"id\":\"1643\",\"type\":\"ResetTool\"},{\"attributes\":{},\"id\":\"1712\",\"type\":\"UnionRenderers\"},{\"attributes\":{\"text\":\"\"},\"id\":\"1705\",\"type\":\"Title\"},{\"attributes\":{},\"id\":\"1644\",\"type\":\"HelpTool\"},{\"attributes\":{},\"id\":\"1623\",\"type\":\"DataRange1d\"},{\"attributes\":{\"active_drag\":\"auto\",\"active_inspect\":\"auto\",\"active_multi\":null,\"active_scroll\":{\"id\":\"1640\"},\"active_tap\":\"auto\",\"tools\":[{\"id\":\"1639\"},{\"id\":\"1640\"},{\"id\":\"1641\"},{\"id\":\"1642\"},{\"id\":\"1643\"},{\"id\":\"1644\"},{\"id\":\"1658\"}]},\"id\":\"1646\",\"type\":\"Toolbar\"},{\"attributes\":{},\"id\":\"1625\",\"type\":\"DataRange1d\"},{\"attributes\":{},\"id\":\"1627\",\"type\":\"LinearScale\"},{\"attributes\":{},\"id\":\"1629\",\"type\":\"LinearScale\"},{\"attributes\":{\"formatter\":{\"id\":\"1707\"},\"ticker\":{\"id\":\"1632\"}},\"id\":\"1631\",\"type\":\"LinearAxis\"},{\"attributes\":{\"bottom_units\":\"screen\",\"fill_alpha\":0.5,\"fill_color\":\"lightgrey\",\"left_units\":\"screen\",\"level\":\"overlay\",\"line_alpha\":1.0,\"line_color\":\"black\",\"line_dash\":[4,4],\"line_width\":2,\"right_units\":\"screen\",\"top_units\":\"screen\"},\"id\":\"1645\",\"type\":\"BoxAnnotation\"},{\"attributes\":{},\"id\":\"1632\",\"type\":\"BasicTicker\"},{\"attributes\":{\"fill_alpha\":{\"value\":0.1},\"fill_color\":{\"field\":\"color\"},\"line_alpha\":{\"value\":0.1},\"line_color\":{\"field\":\"color\"},\"size\":{\"units\":\"screen\",\"value\":20},\"x\":{\"field\":\"x\"},\"y\":{\"field\":\"y\"}},\"id\":\"1655\",\"type\":\"Scatter\"},{\"attributes\":{\"callback\":null,\"tooltips\":[[\"phrase\",\"@phrase\"]]},\"id\":\"1658\",\"type\":\"HoverTool\"},{\"attributes\":{\"axis\":{\"id\":\"1631\"},\"ticker\":null},\"id\":\"1634\",\"type\":\"Grid\"},{\"attributes\":{\"data_source\":{\"id\":\"1621\"},\"glyph\":{\"id\":\"1654\"},\"hover_glyph\":null,\"muted_glyph\":null,\"nonselection_glyph\":{\"id\":\"1655\"},\"selection_glyph\":null,\"view\":{\"id\":\"1657\"}},\"id\":\"1656\",\"type\":\"GlyphRenderer\"},{\"attributes\":{\"source\":{\"id\":\"1621\"}},\"id\":\"1657\",\"type\":\"CDSView\"},{\"attributes\":{\"formatter\":{\"id\":\"1709\"},\"ticker\":{\"id\":\"1636\"}},\"id\":\"1635\",\"type\":\"LinearAxis\"}],\"root_ids\":[\"1622\"]},\"title\":\"Bokeh Application\",\"version\":\"2.1.1\"}};\n",
              "  var render_items = [{\"docid\":\"18261718-50f3-49a7-a53c-5215e9ac39ef\",\"root_ids\":[\"1622\"],\"roots\":{\"1622\":\"48c8601b-94ae-4f97-bf31-2381232e52af\"}}];\n",
              "  root.Bokeh.embed.embed_items_notebook(docs_json, render_items);\n",
              "\n",
              "  }\n",
              "  if (root.Bokeh !== undefined) {\n",
              "    embed_document(root);\n",
              "  } else {\n",
              "    var attempts = 0;\n",
              "    var timer = setInterval(function(root) {\n",
              "      if (root.Bokeh !== undefined) {\n",
              "        clearInterval(timer);\n",
              "        embed_document(root);\n",
              "      } else {\n",
              "        attempts++;\n",
              "        if (attempts > 100) {\n",
              "          clearInterval(timer);\n",
              "          console.log(\"Bokeh: ERROR: Unable to run BokehJS code because BokehJS library is missing\");\n",
              "        }\n",
              "      }\n",
              "    }, 10, root)\n",
              "  }\n",
              "})(window);"
            ],
            "application/vnd.bokehjs_exec.v0+json": ""
          },
          "metadata": {
            "tags": [],
            "application/vnd.bokehjs_exec.v0+json": {
              "id": "1622"
            }
          }
        },
        {
          "output_type": "execute_result",
          "data": {
            "text/html": [
              "<div style=\"display: table;\"><div style=\"display: table-row;\"><div style=\"display: table-cell;\"><b title=\"bokeh.plotting.figure.Figure\">Figure</b>(</div><div style=\"display: table-cell;\">id&nbsp;=&nbsp;'1622', <span id=\"1769\" style=\"cursor: pointer;\">&hellip;)</span></div></div><div class=\"1768\" style=\"display: none;\"><div style=\"display: table-cell;\"></div><div style=\"display: table-cell;\">above&nbsp;=&nbsp;[],</div></div><div class=\"1768\" style=\"display: none;\"><div style=\"display: table-cell;\"></div><div style=\"display: table-cell;\">align&nbsp;=&nbsp;'start',</div></div><div class=\"1768\" style=\"display: none;\"><div style=\"display: table-cell;\"></div><div style=\"display: table-cell;\">aspect_ratio&nbsp;=&nbsp;None,</div></div><div class=\"1768\" style=\"display: none;\"><div style=\"display: table-cell;\"></div><div style=\"display: table-cell;\">aspect_scale&nbsp;=&nbsp;1,</div></div><div class=\"1768\" style=\"display: none;\"><div style=\"display: table-cell;\"></div><div style=\"display: table-cell;\">background&nbsp;=&nbsp;None,</div></div><div class=\"1768\" style=\"display: none;\"><div style=\"display: table-cell;\"></div><div style=\"display: table-cell;\">background_fill_alpha&nbsp;=&nbsp;1.0,</div></div><div class=\"1768\" style=\"display: none;\"><div style=\"display: table-cell;\"></div><div style=\"display: table-cell;\">background_fill_color&nbsp;=&nbsp;'#ffffff',</div></div><div class=\"1768\" style=\"display: none;\"><div style=\"display: table-cell;\"></div><div style=\"display: table-cell;\">below&nbsp;=&nbsp;[LinearAxis(id='1631', ...)],</div></div><div class=\"1768\" style=\"display: none;\"><div style=\"display: table-cell;\"></div><div style=\"display: table-cell;\">border_fill_alpha&nbsp;=&nbsp;1.0,</div></div><div class=\"1768\" style=\"display: none;\"><div style=\"display: table-cell;\"></div><div style=\"display: table-cell;\">border_fill_color&nbsp;=&nbsp;'#ffffff',</div></div><div class=\"1768\" style=\"display: none;\"><div style=\"display: table-cell;\"></div><div style=\"display: table-cell;\">center&nbsp;=&nbsp;[Grid(id='1634', ...), Grid(id='1638', ...)],</div></div><div class=\"1768\" style=\"display: none;\"><div style=\"display: table-cell;\"></div><div style=\"display: table-cell;\">css_classes&nbsp;=&nbsp;[],</div></div><div class=\"1768\" style=\"display: none;\"><div style=\"display: table-cell;\"></div><div style=\"display: table-cell;\">disabled&nbsp;=&nbsp;False,</div></div><div class=\"1768\" style=\"display: none;\"><div style=\"display: table-cell;\"></div><div style=\"display: table-cell;\">extra_x_ranges&nbsp;=&nbsp;{},</div></div><div class=\"1768\" style=\"display: none;\"><div style=\"display: table-cell;\"></div><div style=\"display: table-cell;\">extra_y_ranges&nbsp;=&nbsp;{},</div></div><div class=\"1768\" style=\"display: none;\"><div style=\"display: table-cell;\"></div><div style=\"display: table-cell;\">frame_height&nbsp;=&nbsp;None,</div></div><div class=\"1768\" style=\"display: none;\"><div style=\"display: table-cell;\"></div><div style=\"display: table-cell;\">frame_width&nbsp;=&nbsp;None,</div></div><div class=\"1768\" style=\"display: none;\"><div style=\"display: table-cell;\"></div><div style=\"display: table-cell;\">height&nbsp;=&nbsp;None,</div></div><div class=\"1768\" style=\"display: none;\"><div style=\"display: table-cell;\"></div><div style=\"display: table-cell;\">height_policy&nbsp;=&nbsp;'auto',</div></div><div class=\"1768\" style=\"display: none;\"><div style=\"display: table-cell;\"></div><div style=\"display: table-cell;\">hidpi&nbsp;=&nbsp;True,</div></div><div class=\"1768\" style=\"display: none;\"><div style=\"display: table-cell;\"></div><div style=\"display: table-cell;\">js_event_callbacks&nbsp;=&nbsp;{},</div></div><div class=\"1768\" style=\"display: none;\"><div style=\"display: table-cell;\"></div><div style=\"display: table-cell;\">js_property_callbacks&nbsp;=&nbsp;{},</div></div><div class=\"1768\" style=\"display: none;\"><div style=\"display: table-cell;\"></div><div style=\"display: table-cell;\">left&nbsp;=&nbsp;[LinearAxis(id='1635', ...)],</div></div><div class=\"1768\" style=\"display: none;\"><div style=\"display: table-cell;\"></div><div style=\"display: table-cell;\">lod_factor&nbsp;=&nbsp;10,</div></div><div class=\"1768\" style=\"display: none;\"><div style=\"display: table-cell;\"></div><div style=\"display: table-cell;\">lod_interval&nbsp;=&nbsp;300,</div></div><div class=\"1768\" style=\"display: none;\"><div style=\"display: table-cell;\"></div><div style=\"display: table-cell;\">lod_threshold&nbsp;=&nbsp;2000,</div></div><div class=\"1768\" style=\"display: none;\"><div style=\"display: table-cell;\"></div><div style=\"display: table-cell;\">lod_timeout&nbsp;=&nbsp;500,</div></div><div class=\"1768\" style=\"display: none;\"><div style=\"display: table-cell;\"></div><div style=\"display: table-cell;\">margin&nbsp;=&nbsp;(0, 0, 0, 0),</div></div><div class=\"1768\" style=\"display: none;\"><div style=\"display: table-cell;\"></div><div style=\"display: table-cell;\">match_aspect&nbsp;=&nbsp;False,</div></div><div class=\"1768\" style=\"display: none;\"><div style=\"display: table-cell;\"></div><div style=\"display: table-cell;\">max_height&nbsp;=&nbsp;None,</div></div><div class=\"1768\" style=\"display: none;\"><div style=\"display: table-cell;\"></div><div style=\"display: table-cell;\">max_width&nbsp;=&nbsp;None,</div></div><div class=\"1768\" style=\"display: none;\"><div style=\"display: table-cell;\"></div><div style=\"display: table-cell;\">min_border&nbsp;=&nbsp;5,</div></div><div class=\"1768\" style=\"display: none;\"><div style=\"display: table-cell;\"></div><div style=\"display: table-cell;\">min_border_bottom&nbsp;=&nbsp;None,</div></div><div class=\"1768\" style=\"display: none;\"><div style=\"display: table-cell;\"></div><div style=\"display: table-cell;\">min_border_left&nbsp;=&nbsp;None,</div></div><div class=\"1768\" style=\"display: none;\"><div style=\"display: table-cell;\"></div><div style=\"display: table-cell;\">min_border_right&nbsp;=&nbsp;None,</div></div><div class=\"1768\" style=\"display: none;\"><div style=\"display: table-cell;\"></div><div style=\"display: table-cell;\">min_border_top&nbsp;=&nbsp;None,</div></div><div class=\"1768\" style=\"display: none;\"><div style=\"display: table-cell;\"></div><div style=\"display: table-cell;\">min_height&nbsp;=&nbsp;None,</div></div><div class=\"1768\" style=\"display: none;\"><div style=\"display: table-cell;\"></div><div style=\"display: table-cell;\">min_width&nbsp;=&nbsp;None,</div></div><div class=\"1768\" style=\"display: none;\"><div style=\"display: table-cell;\"></div><div style=\"display: table-cell;\">name&nbsp;=&nbsp;None,</div></div><div class=\"1768\" style=\"display: none;\"><div style=\"display: table-cell;\"></div><div style=\"display: table-cell;\">outline_line_alpha&nbsp;=&nbsp;1.0,</div></div><div class=\"1768\" style=\"display: none;\"><div style=\"display: table-cell;\"></div><div style=\"display: table-cell;\">outline_line_cap&nbsp;=&nbsp;'butt',</div></div><div class=\"1768\" style=\"display: none;\"><div style=\"display: table-cell;\"></div><div style=\"display: table-cell;\">outline_line_color&nbsp;=&nbsp;'#e5e5e5',</div></div><div class=\"1768\" style=\"display: none;\"><div style=\"display: table-cell;\"></div><div style=\"display: table-cell;\">outline_line_dash&nbsp;=&nbsp;[],</div></div><div class=\"1768\" style=\"display: none;\"><div style=\"display: table-cell;\"></div><div style=\"display: table-cell;\">outline_line_dash_offset&nbsp;=&nbsp;0,</div></div><div class=\"1768\" style=\"display: none;\"><div style=\"display: table-cell;\"></div><div style=\"display: table-cell;\">outline_line_join&nbsp;=&nbsp;'bevel',</div></div><div class=\"1768\" style=\"display: none;\"><div style=\"display: table-cell;\"></div><div style=\"display: table-cell;\">outline_line_width&nbsp;=&nbsp;1,</div></div><div class=\"1768\" style=\"display: none;\"><div style=\"display: table-cell;\"></div><div style=\"display: table-cell;\">output_backend&nbsp;=&nbsp;'canvas',</div></div><div class=\"1768\" style=\"display: none;\"><div style=\"display: table-cell;\"></div><div style=\"display: table-cell;\">plot_height&nbsp;=&nbsp;400,</div></div><div class=\"1768\" style=\"display: none;\"><div style=\"display: table-cell;\"></div><div style=\"display: table-cell;\">plot_width&nbsp;=&nbsp;600,</div></div><div class=\"1768\" style=\"display: none;\"><div style=\"display: table-cell;\"></div><div style=\"display: table-cell;\">renderers&nbsp;=&nbsp;[GlyphRenderer(id='1656', ...)],</div></div><div class=\"1768\" style=\"display: none;\"><div style=\"display: table-cell;\"></div><div style=\"display: table-cell;\">reset_policy&nbsp;=&nbsp;'standard',</div></div><div class=\"1768\" style=\"display: none;\"><div style=\"display: table-cell;\"></div><div style=\"display: table-cell;\">right&nbsp;=&nbsp;[],</div></div><div class=\"1768\" style=\"display: none;\"><div style=\"display: table-cell;\"></div><div style=\"display: table-cell;\">sizing_mode&nbsp;=&nbsp;None,</div></div><div class=\"1768\" style=\"display: none;\"><div style=\"display: table-cell;\"></div><div style=\"display: table-cell;\">subscribed_events&nbsp;=&nbsp;[],</div></div><div class=\"1768\" style=\"display: none;\"><div style=\"display: table-cell;\"></div><div style=\"display: table-cell;\">tags&nbsp;=&nbsp;[],</div></div><div class=\"1768\" style=\"display: none;\"><div style=\"display: table-cell;\"></div><div style=\"display: table-cell;\">title&nbsp;=&nbsp;Title(id='1705', ...),</div></div><div class=\"1768\" style=\"display: none;\"><div style=\"display: table-cell;\"></div><div style=\"display: table-cell;\">title_location&nbsp;=&nbsp;'above',</div></div><div class=\"1768\" style=\"display: none;\"><div style=\"display: table-cell;\"></div><div style=\"display: table-cell;\">toolbar&nbsp;=&nbsp;Toolbar(id='1646', ...),</div></div><div class=\"1768\" style=\"display: none;\"><div style=\"display: table-cell;\"></div><div style=\"display: table-cell;\">toolbar_location&nbsp;=&nbsp;'right',</div></div><div class=\"1768\" style=\"display: none;\"><div style=\"display: table-cell;\"></div><div style=\"display: table-cell;\">toolbar_sticky&nbsp;=&nbsp;True,</div></div><div class=\"1768\" style=\"display: none;\"><div style=\"display: table-cell;\"></div><div style=\"display: table-cell;\">visible&nbsp;=&nbsp;True,</div></div><div class=\"1768\" style=\"display: none;\"><div style=\"display: table-cell;\"></div><div style=\"display: table-cell;\">width&nbsp;=&nbsp;None,</div></div><div class=\"1768\" style=\"display: none;\"><div style=\"display: table-cell;\"></div><div style=\"display: table-cell;\">width_policy&nbsp;=&nbsp;'auto',</div></div><div class=\"1768\" style=\"display: none;\"><div style=\"display: table-cell;\"></div><div style=\"display: table-cell;\">x_range&nbsp;=&nbsp;DataRange1d(id='1623', ...),</div></div><div class=\"1768\" style=\"display: none;\"><div style=\"display: table-cell;\"></div><div style=\"display: table-cell;\">x_scale&nbsp;=&nbsp;LinearScale(id='1627', ...),</div></div><div class=\"1768\" style=\"display: none;\"><div style=\"display: table-cell;\"></div><div style=\"display: table-cell;\">y_range&nbsp;=&nbsp;DataRange1d(id='1625', ...),</div></div><div class=\"1768\" style=\"display: none;\"><div style=\"display: table-cell;\"></div><div style=\"display: table-cell;\">y_scale&nbsp;=&nbsp;LinearScale(id='1629', ...))</div></div></div>\n",
              "<script>\n",
              "(function() {\n",
              "  var expanded = false;\n",
              "  var ellipsis = document.getElementById(\"1769\");\n",
              "  ellipsis.addEventListener(\"click\", function() {\n",
              "    var rows = document.getElementsByClassName(\"1768\");\n",
              "    for (var i = 0; i < rows.length; i++) {\n",
              "      var el = rows[i];\n",
              "      el.style.display = expanded ? \"none\" : \"table-row\";\n",
              "    }\n",
              "    ellipsis.innerHTML = expanded ? \"&hellip;)\" : \"&lsaquo;&lsaquo;&lsaquo;\";\n",
              "    expanded = !expanded;\n",
              "  });\n",
              "})();\n",
              "</script>\n"
            ],
            "text/plain": [
              "Figure(id='1622', ...)"
            ]
          },
          "metadata": {
            "tags": []
          },
          "execution_count": 50
        }
      ]
    },
    {
      "cell_type": "code",
      "metadata": {
        "colab_type": "code",
        "id": "gtBN0IQkplpJ",
        "colab": {
          "base_uri": "https://localhost:8080/",
          "height": 609
        },
        "outputId": "cff05edc-a625-43f1-d7c8-d22619cedad0"
      },
      "source": [
        "plt.figure(figsize=(12, 10))\n",
        "plt.scatter(phrase_vectors_2d[:,0], phrase_vectors_2d[:, 1], c=labels.astype(float))"
      ],
      "execution_count": 51,
      "outputs": [
        {
          "output_type": "execute_result",
          "data": {
            "text/plain": [
              "<matplotlib.collections.PathCollection at 0x7fc787a51160>"
            ]
          },
          "metadata": {
            "tags": []
          },
          "execution_count": 51
        },
        {
          "output_type": "display_data",
          "data": {
            "image/png": "[encoded data removed]",
            "text/plain": [
              "<Figure size 864x720 with 1 Axes>"
            ]
          },
          "metadata": {
            "tags": [],
            "needs_background": "light"
          }
        }
      ]
    },
    {
      "cell_type": "markdown",
      "metadata": {
        "id": "zYMhyCL-F-qX",
        "colab_type": "text"
      },
      "source": [
        "### DBSCAN"
      ]
    },
    {
      "cell_type": "code",
      "metadata": {
        "id": "6LSYTwp9F-Y4",
        "colab_type": "code",
        "colab": {}
      },
      "source": [
        "dbscan = DBSCAN(eps=5)"
      ],
      "execution_count": 52,
      "outputs": []
    },
    {
      "cell_type": "code",
      "metadata": {
        "id": "MCFv1mBWGG4L",
        "colab_type": "code",
        "colab": {}
      },
      "source": [
        "labels = dbscan.fit_predict(np.asarray(phrase_vectors))"
      ],
      "execution_count": 53,
      "outputs": []
    },
    {
      "cell_type": "code",
      "metadata": {
        "id": "cy3egUUcGLGB",
        "colab_type": "code",
        "colab": {
          "base_uri": "https://localhost:8080/",
          "height": 34
        },
        "outputId": "1169bd27-c878-429b-a245-5d69ba643b7d"
      },
      "source": [
        "len(np.unique(labels))"
      ],
      "execution_count": 54,
      "outputs": [
        {
          "output_type": "execute_result",
          "data": {
            "text/plain": [
              "1"
            ]
          },
          "metadata": {
            "tags": []
          },
          "execution_count": 54
        }
      ]
    },
    {
      "cell_type": "code",
      "metadata": {
        "id": "7kjDyuGfGYes",
        "colab_type": "code",
        "colab": {
          "base_uri": "https://localhost:8080/",
          "height": 434
        },
        "outputId": "f4e10d6c-16ae-4fbf-cb91-58d4150bcea5"
      },
      "source": [
        "draw_vectors(phrase_vectors_2d[:, 0], phrase_vectors_2d[:, 1], color=[_colors[l] for l in labels],\n",
        "             phrase=[phrase[:50] for phrase in chosen_phrases],\n",
        "             radius=20,)"
      ],
      "execution_count": 55,
      "outputs": [
        {
          "output_type": "display_data",
          "data": {
            "application/javascript": [
              "\n",
              "(function(root) {\n",
              "  function now() {\n",
              "    return new Date();\n",
              "  }\n",
              "\n",
              "  var force = true;\n",
              "\n",
              "  if (typeof root._bokeh_onload_callbacks === \"undefined\" || force === true) {\n",
              "    root._bokeh_onload_callbacks = [];\n",
              "    root._bokeh_is_loading = undefined;\n",
              "  }\n",
              "\n",
              "  var JS_MIME_TYPE = 'application/javascript';\n",
              "  var HTML_MIME_TYPE = 'text/html';\n",
              "  var EXEC_MIME_TYPE = 'application/vnd.bokehjs_exec.v0+json';\n",
              "  var CLASS_NAME = 'output_bokeh rendered_html';\n",
              "\n",
              "  /**\n",
              "   * Render data to the DOM node\n",
              "   */\n",
              "  function render(props, node) {\n",
              "    var script = document.createElement(\"script\");\n",
              "    node.appendChild(script);\n",
              "  }\n",
              "\n",
              "  /**\n",
              "   * Handle when an output is cleared or removed\n",
              "   */\n",
              "  function handleClearOutput(event, handle) {\n",
              "    var cell = handle.cell;\n",
              "\n",
              "    var id = cell.output_area._bokeh_element_id;\n",
              "    var server_id = cell.output_area._bokeh_server_id;\n",
              "    // Clean up Bokeh references\n",
              "    if (id != null && id in Bokeh.index) {\n",
              "      Bokeh.index[id].model.document.clear();\n",
              "      delete Bokeh.index[id];\n",
              "    }\n",
              "\n",
              "    if (server_id !== undefined) {\n",
              "      // Clean up Bokeh references\n",
              "      var cmd = \"from bokeh.io.state import curstate; print(curstate().uuid_to_server['\" + server_id + \"'].get_sessions()[0].document.roots[0]._id)\";\n",
              "      cell.notebook.kernel.execute(cmd, {\n",
              "        iopub: {\n",
              "          output: function(msg) {\n",
              "            var id = msg.content.text.trim();\n",
              "            if (id in Bokeh.index) {\n",
              "              Bokeh.index[id].model.document.clear();\n",
              "              delete Bokeh.index[id];\n",
              "            }\n",
              "          }\n",
              "        }\n",
              "      });\n",
              "      // Destroy server and session\n",
              "      var cmd = \"import bokeh.io.notebook as ion; ion.destroy_server('\" + server_id + \"')\";\n",
              "      cell.notebook.kernel.execute(cmd);\n",
              "    }\n",
              "  }\n",
              "\n",
              "  /**\n",
              "   * Handle when a new output is added\n",
              "   */\n",
              "  function handleAddOutput(event, handle) {\n",
              "    var output_area = handle.output_area;\n",
              "    var output = handle.output;\n",
              "\n",
              "    // limit handleAddOutput to display_data with EXEC_MIME_TYPE content only\n",
              "    if ((output.output_type != \"display_data\") || (!output.data.hasOwnProperty(EXEC_MIME_TYPE))) {\n",
              "      return\n",
              "    }\n",
              "\n",
              "    var toinsert = output_area.element.find(\".\" + CLASS_NAME.split(' ')[0]);\n",
              "\n",
              "    if (output.metadata[EXEC_MIME_TYPE][\"id\"] !== undefined) {\n",
              "      toinsert[toinsert.length - 1].firstChild.textContent = output.data[JS_MIME_TYPE];\n",
              "      // store reference to embed id on output_area\n",
              "      output_area._bokeh_element_id = output.metadata[EXEC_MIME_TYPE][\"id\"];\n",
              "    }\n",
              "    if (output.metadata[EXEC_MIME_TYPE][\"server_id\"] !== undefined) {\n",
              "      var bk_div = document.createElement(\"div\");\n",
              "      bk_div.innerHTML = output.data[HTML_MIME_TYPE];\n",
              "      var script_attrs = bk_div.children[0].attributes;\n",
              "      for (var i = 0; i < script_attrs.length; i++) {\n",
              "        toinsert[toinsert.length - 1].firstChild.setAttribute(script_attrs[i].name, script_attrs[i].value);\n",
              "        toinsert[toinsert.length - 1].firstChild.textContent = bk_div.children[0].textContent\n",
              "      }\n",
              "      // store reference to server id on output_area\n",
              "      output_area._bokeh_server_id = output.metadata[EXEC_MIME_TYPE][\"server_id\"];\n",
              "    }\n",
              "  }\n",
              "\n",
              "  function register_renderer(events, OutputArea) {\n",
              "\n",
              "    function append_mime(data, metadata, element) {\n",
              "      // create a DOM node to render to\n",
              "      var toinsert = this.create_output_subarea(\n",
              "        metadata,\n",
              "        CLASS_NAME,\n",
              "        EXEC_MIME_TYPE\n",
              "      );\n",
              "      this.keyboard_manager.register_events(toinsert);\n",
              "      // Render to node\n",
              "      var props = {data: data, metadata: metadata[EXEC_MIME_TYPE]};\n",
              "      render(props, toinsert[toinsert.length - 1]);\n",
              "      element.append(toinsert);\n",
              "      return toinsert\n",
              "    }\n",
              "\n",
              "    /* Handle when an output is cleared or removed */\n",
              "    events.on('clear_output.CodeCell', handleClearOutput);\n",
              "    events.on('delete.Cell', handleClearOutput);\n",
              "\n",
              "    /* Handle when a new output is added */\n",
              "    events.on('output_added.OutputArea', handleAddOutput);\n",
              "\n",
              "    /**\n",
              "     * Register the mime type and append_mime function with output_area\n",
              "     */\n",
              "    OutputArea.prototype.register_mime_type(EXEC_MIME_TYPE, append_mime, {\n",
              "      /* Is output safe? */\n",
              "      safe: true,\n",
              "      /* Index of renderer in `output_area.display_order` */\n",
              "      index: 0\n",
              "    });\n",
              "  }\n",
              "\n",
              "  // register the mime type if in Jupyter Notebook environment and previously unregistered\n",
              "  if (root.Jupyter !== undefined) {\n",
              "    var events = require('base/js/events');\n",
              "    var OutputArea = require('notebook/js/outputarea').OutputArea;\n",
              "\n",
              "    if (OutputArea.prototype.mime_types().indexOf(EXEC_MIME_TYPE) == -1) {\n",
              "      register_renderer(events, OutputArea);\n",
              "    }\n",
              "  }\n",
              "\n",
              "  \n",
              "  if (typeof (root._bokeh_timeout) === \"undefined\" || force === true) {\n",
              "    root._bokeh_timeout = Date.now() + 5000;\n",
              "    root._bokeh_failed_load = false;\n",
              "  }\n",
              "\n",
              "  var NB_LOAD_WARNING = {'data': {'text/html':\n",
              "     \"<div style='background-color: #fdd'>\\n\"+\n",
              "     \"<p>\\n\"+\n",
              "     \"BokehJS does not appear to have successfully loaded. If loading BokehJS from CDN, this \\n\"+\n",
              "     \"may be due to a slow or bad network connection. Possible fixes:\\n\"+\n",
              "     \"</p>\\n\"+\n",
              "     \"<ul>\\n\"+\n",
              "     \"<li>re-rerun `output_notebook()` to attempt to load from CDN again, or</li>\\n\"+\n",
              "     \"<li>use INLINE resources instead, as so:</li>\\n\"+\n",
              "     \"</ul>\\n\"+\n",
              "     \"<code>\\n\"+\n",
              "     \"from bokeh.resources import INLINE\\n\"+\n",
              "     \"output_notebook(resources=INLINE)\\n\"+\n",
              "     \"</code>\\n\"+\n",
              "     \"</div>\"}};\n",
              "\n",
              "  function display_loaded() {\n",
              "    var el = document.getElementById(null);\n",
              "    if (el != null) {\n",
              "      el.textContent = \"BokehJS is loading...\";\n",
              "    }\n",
              "    if (root.Bokeh !== undefined) {\n",
              "      if (el != null) {\n",
              "        el.textContent = \"BokehJS \" + root.Bokeh.version + \" successfully loaded.\";\n",
              "      }\n",
              "    } else if (Date.now() < root._bokeh_timeout) {\n",
              "      setTimeout(display_loaded, 100)\n",
              "    }\n",
              "  }\n",
              "\n",
              "\n",
              "  function run_callbacks() {\n",
              "    try {\n",
              "      root._bokeh_onload_callbacks.forEach(function(callback) {\n",
              "        if (callback != null)\n",
              "          callback();\n",
              "      });\n",
              "    } finally {\n",
              "      delete root._bokeh_onload_callbacks\n",
              "    }\n",
              "    console.debug(\"Bokeh: all callbacks have finished\");\n",
              "  }\n",
              "\n",
              "  function load_libs(css_urls, js_urls, callback) {\n",
              "    if (css_urls == null) css_urls = [];\n",
              "    if (js_urls == null) js_urls = [];\n",
              "\n",
              "    root._bokeh_onload_callbacks.push(callback);\n",
              "    if (root._bokeh_is_loading > 0) {\n",
              "      console.debug(\"Bokeh: BokehJS is being loaded, scheduling callback at\", now());\n",
              "      return null;\n",
              "    }\n",
              "    if (js_urls == null || js_urls.length === 0) {\n",
              "      run_callbacks();\n",
              "      return null;\n",
              "    }\n",
              "    console.debug(\"Bokeh: BokehJS not loaded, scheduling load and callback at\", now());\n",
              "    root._bokeh_is_loading = css_urls.length + js_urls.length;\n",
              "\n",
              "    function on_load() {\n",
              "      root._bokeh_is_loading--;\n",
              "      if (root._bokeh_is_loading === 0) {\n",
              "        console.debug(\"Bokeh: all BokehJS libraries/stylesheets loaded\");\n",
              "        run_callbacks()\n",
              "      }\n",
              "    }\n",
              "\n",
              "    function on_error() {\n",
              "      console.error(\"failed to load \" + url);\n",
              "    }\n",
              "\n",
              "    for (var i = 0; i < css_urls.length; i++) {\n",
              "      var url = css_urls[i];\n",
              "      const element = document.createElement(\"link\");\n",
              "      element.onload = on_load;\n",
              "      element.onerror = on_error;\n",
              "      element.rel = \"stylesheet\";\n",
              "      element.type = \"text/css\";\n",
              "      element.href = url;\n",
              "      console.debug(\"Bokeh: injecting link tag for BokehJS stylesheet: \", url);\n",
              "      document.body.appendChild(element);\n",
              "    }\n",
              "\n",
              "    const hashes = {\"https://cdn.bokeh.org/bokeh/release/bokeh-2.1.1.min.js\": \"kLr4fYcqcSpbuI95brIH3vnnYCquzzSxHPU6XGQCIkQRGJwhg0StNbj1eegrHs12\", \"https://cdn.bokeh.org/bokeh/release/bokeh-widgets-2.1.1.min.js\": \"xIGPmVtaOm+z0BqfSOMn4lOR6ciex448GIKG4eE61LsAvmGj48XcMQZtKcE/UXZe\", \"https://cdn.bokeh.org/bokeh/release/bokeh-tables-2.1.1.min.js\": \"Dc9u1wF/0zApGIWoBbH77iWEHtdmkuYWG839Uzmv8y8yBLXebjO9ZnERsde5Ln/P\", \"https://cdn.bokeh.org/bokeh/release/bokeh-gl-2.1.1.min.js\": \"cT9JaBz7GiRXdENrJLZNSC6eMNF3nh3fa5fTF51Svp+ukxPdwcU5kGXGPBgDCa2j\"};\n",
              "\n",
              "    for (var i = 0; i < js_urls.length; i++) {\n",
              "      var url = js_urls[i];\n",
              "      var element = document.createElement('script');\n",
              "      element.onload = on_load;\n",
              "      element.onerror = on_error;\n",
              "      element.async = false;\n",
              "      element.src = url;\n",
              "      if (url in hashes) {\n",
              "        element.crossOrigin = \"anonymous\";\n",
              "        element.integrity = \"sha384-\" + hashes[url];\n",
              "      }\n",
              "      console.debug(\"Bokeh: injecting script tag for BokehJS library: \", url);\n",
              "      document.head.appendChild(element);\n",
              "    }\n",
              "  };\n",
              "\n",
              "  function inject_raw_css(css) {\n",
              "    const element = document.createElement(\"style\");\n",
              "    element.appendChild(document.createTextNode(css));\n",
              "    document.body.appendChild(element);\n",
              "  }\n",
              "\n",
              "  \n",
              "  var js_urls = [\"https://cdn.bokeh.org/bokeh/release/bokeh-2.1.1.min.js\", \"https://cdn.bokeh.org/bokeh/release/bokeh-widgets-2.1.1.min.js\", \"https://cdn.bokeh.org/bokeh/release/bokeh-tables-2.1.1.min.js\", \"https://cdn.bokeh.org/bokeh/release/bokeh-gl-2.1.1.min.js\"];\n",
              "  var css_urls = [];\n",
              "  \n",
              "\n",
              "  var inline_js = [\n",
              "    function(Bokeh) {\n",
              "      Bokeh.set_log_level(\"info\");\n",
              "    },\n",
              "    function(Bokeh) {\n",
              "    \n",
              "    \n",
              "    }\n",
              "  ];\n",
              "\n",
              "  function run_inline_js() {\n",
              "    \n",
              "    if (root.Bokeh !== undefined || force === true) {\n",
              "      \n",
              "    for (var i = 0; i < inline_js.length; i++) {\n",
              "      inline_js[i].call(root, root.Bokeh);\n",
              "    }\n",
              "    } else if (Date.now() < root._bokeh_timeout) {\n",
              "      setTimeout(run_inline_js, 100);\n",
              "    } else if (!root._bokeh_failed_load) {\n",
              "      console.log(\"Bokeh: BokehJS failed to load within specified timeout.\");\n",
              "      root._bokeh_failed_load = true;\n",
              "    } else if (force !== true) {\n",
              "      var cell = $(document.getElementById(null)).parents('.cell').data().cell;\n",
              "      cell.output_area.append_execute_result(NB_LOAD_WARNING)\n",
              "    }\n",
              "\n",
              "  }\n",
              "\n",
              "  if (root._bokeh_is_loading === 0) {\n",
              "    console.debug(\"Bokeh: BokehJS loaded, going straight to plotting\");\n",
              "    run_inline_js();\n",
              "  } else {\n",
              "    load_libs(css_urls, js_urls, function() {\n",
              "      console.debug(\"Bokeh: BokehJS plotting callback run at\", now());\n",
              "      run_inline_js();\n",
              "    });\n",
              "  }\n",
              "}(window));"
            ],
            "application/vnd.bokehjs_load.v0+json": "\n(function(root) {\n  function now() {\n    return new Date();\n  }\n\n  var force = true;\n\n  if (typeof root._bokeh_onload_callbacks === \"undefined\" || force === true) {\n    root._bokeh_onload_callbacks = [];\n    root._bokeh_is_loading = undefined;\n  }\n\n  \n\n  \n  if (typeof (root._bokeh_timeout) === \"undefined\" || force === true) {\n    root._bokeh_timeout = Date.now() + 5000;\n    root._bokeh_failed_load = false;\n  }\n\n  var NB_LOAD_WARNING = {'data': {'text/html':\n     \"<div style='background-color: #fdd'>\\n\"+\n     \"<p>\\n\"+\n     \"BokehJS does not appear to have successfully loaded. If loading BokehJS from CDN, this \\n\"+\n     \"may be due to a slow or bad network connection. Possible fixes:\\n\"+\n     \"</p>\\n\"+\n     \"<ul>\\n\"+\n     \"<li>re-rerun `output_notebook()` to attempt to load from CDN again, or</li>\\n\"+\n     \"<li>use INLINE resources instead, as so:</li>\\n\"+\n     \"</ul>\\n\"+\n     \"<code>\\n\"+\n     \"from bokeh.resources import INLINE\\n\"+\n     \"output_notebook(resources=INLINE)\\n\"+\n     \"</code>\\n\"+\n     \"</div>\"}};\n\n  function display_loaded() {\n    var el = document.getElementById(null);\n    if (el != null) {\n      el.textContent = \"BokehJS is loading...\";\n    }\n    if (root.Bokeh !== undefined) {\n      if (el != null) {\n        el.textContent = \"BokehJS \" + root.Bokeh.version + \" successfully loaded.\";\n      }\n    } else if (Date.now() < root._bokeh_timeout) {\n      setTimeout(display_loaded, 100)\n    }\n  }\n\n\n  function run_callbacks() {\n    try {\n      root._bokeh_onload_callbacks.forEach(function(callback) {\n        if (callback != null)\n          callback();\n      });\n    } finally {\n      delete root._bokeh_onload_callbacks\n    }\n    console.debug(\"Bokeh: all callbacks have finished\");\n  }\n\n  function load_libs(css_urls, js_urls, callback) {\n    if (css_urls == null) css_urls = [];\n    if (js_urls == null) js_urls = [];\n\n    root._bokeh_onload_callbacks.push(callback);\n    if (root._bokeh_is_loading > 0) {\n      console.debug(\"Bokeh: BokehJS is being loaded, scheduling callback at\", now());\n      return null;\n    }\n    if (js_urls == null || js_urls.length === 0) {\n      run_callbacks();\n      return null;\n    }\n    console.debug(\"Bokeh: BokehJS not loaded, scheduling load and callback at\", now());\n    root._bokeh_is_loading = css_urls.length + js_urls.length;\n\n    function on_load() {\n      root._bokeh_is_loading--;\n      if (root._bokeh_is_loading === 0) {\n        console.debug(\"Bokeh: all BokehJS libraries/stylesheets loaded\");\n        run_callbacks()\n      }\n    }\n\n    function on_error() {\n      console.error(\"failed to load \" + url);\n    }\n\n    for (var i = 0; i < css_urls.length; i++) {\n      var url = css_urls[i];\n      const element = document.createElement(\"link\");\n      element.onload = on_load;\n      element.onerror = on_error;\n      element.rel = \"stylesheet\";\n      element.type = \"text/css\";\n      element.href = url;\n      console.debug(\"Bokeh: injecting link tag for BokehJS stylesheet: \", url);\n      document.body.appendChild(element);\n    }\n\n    const hashes = {\"https://cdn.bokeh.org/bokeh/release/bokeh-2.1.1.min.js\": \"kLr4fYcqcSpbuI95brIH3vnnYCquzzSxHPU6XGQCIkQRGJwhg0StNbj1eegrHs12\", \"https://cdn.bokeh.org/bokeh/release/bokeh-widgets-2.1.1.min.js\": \"xIGPmVtaOm+z0BqfSOMn4lOR6ciex448GIKG4eE61LsAvmGj48XcMQZtKcE/UXZe\", \"https://cdn.bokeh.org/bokeh/release/bokeh-tables-2.1.1.min.js\": \"Dc9u1wF/0zApGIWoBbH77iWEHtdmkuYWG839Uzmv8y8yBLXebjO9ZnERsde5Ln/P\", \"https://cdn.bokeh.org/bokeh/release/bokeh-gl-2.1.1.min.js\": \"cT9JaBz7GiRXdENrJLZNSC6eMNF3nh3fa5fTF51Svp+ukxPdwcU5kGXGPBgDCa2j\"};\n\n    for (var i = 0; i < js_urls.length; i++) {\n      var url = js_urls[i];\n      var element = document.createElement('script');\n      element.onload = on_load;\n      element.onerror = on_error;\n      element.async = false;\n      element.src = url;\n      if (url in hashes) {\n        element.crossOrigin = \"anonymous\";\n        element.integrity = \"sha384-\" + hashes[url];\n      }\n      console.debug(\"Bokeh: injecting script tag for BokehJS library: \", url);\n      document.head.appendChild(element);\n    }\n  };\n\n  function inject_raw_css(css) {\n    const element = document.createElement(\"style\");\n    element.appendChild(document.createTextNode(css));\n    document.body.appendChild(element);\n  }\n\n  \n  var js_urls = [\"https://cdn.bokeh.org/bokeh/release/bokeh-2.1.1.min.js\", \"https://cdn.bokeh.org/bokeh/release/bokeh-widgets-2.1.1.min.js\", \"https://cdn.bokeh.org/bokeh/release/bokeh-tables-2.1.1.min.js\", \"https://cdn.bokeh.org/bokeh/release/bokeh-gl-2.1.1.min.js\"];\n  var css_urls = [];\n  \n\n  var inline_js = [\n    function(Bokeh) {\n      Bokeh.set_log_level(\"info\");\n    },\n    function(Bokeh) {\n    \n    \n    }\n  ];\n\n  function run_inline_js() {\n    \n    if (root.Bokeh !== undefined || force === true) {\n      \n    for (var i = 0; i < inline_js.length; i++) {\n      inline_js[i].call(root, root.Bokeh);\n    }\n    } else if (Date.now() < root._bokeh_timeout) {\n      setTimeout(run_inline_js, 100);\n    } else if (!root._bokeh_failed_load) {\n      console.log(\"Bokeh: BokehJS failed to load within specified timeout.\");\n      root._bokeh_failed_load = true;\n    } else if (force !== true) {\n      var cell = $(document.getElementById(null)).parents('.cell').data().cell;\n      cell.output_area.append_execute_result(NB_LOAD_WARNING)\n    }\n\n  }\n\n  if (root._bokeh_is_loading === 0) {\n    console.debug(\"Bokeh: BokehJS loaded, going straight to plotting\");\n    run_inline_js();\n  } else {\n    load_libs(css_urls, js_urls, function() {\n      console.debug(\"Bokeh: BokehJS plotting callback run at\", now());\n      run_inline_js();\n    });\n  }\n}(window));"
          },
          "metadata": {
            "tags": []
          }
        },
        {
          "output_type": "display_data",
          "data": {
            "text/html": [
              "\n",
              "\n",
              "\n",
              "\n",
              "\n",
              "\n",
              "  <div class=\"bk-root\" id=\"c5a2620e-ef37-4b9d-8657-7d8bb7191af7\" data-root-id=\"1773\"></div>\n"
            ]
          },
          "metadata": {
            "tags": []
          }
        },
        {
          "output_type": "display_data",
          "data": {
            "application/javascript": [
              "(function(root) {\n",
              "  function embed_document(root) {\n",
              "    \n",
              "  var docs_json = {\"34100ed2-4755-47db-b0f7-17125d78cbd0\":{\"roots\":{\"references\":[{\"attributes\":{\"below\":[{\"id\":\"1782\"}],\"center\":[{\"id\":\"1785\"},{\"id\":\"1789\"}],\"left\":[{\"id\":\"1786\"}],\"plot_height\":400,\"renderers\":[{\"id\":\"1807\"}],\"title\":{\"id\":\"1865\"},\"toolbar\":{\"id\":\"1797\"},\"x_range\":{\"id\":\"1774\"},\"x_scale\":{\"id\":\"1778\"},\"y_range\":{\"id\":\"1776\"},\"y_scale\":{\"id\":\"1780\"}},\"id\":\"1773\",\"subtype\":\"Figure\",\"type\":\"Plot\"},{\"attributes\":{\"callback\":null,\"tooltips\":[[\"phrase\",\"@phrase\"]]},\"id\":\"1809\",\"type\":\"HoverTool\"},{\"attributes\":{\"axis\":{\"id\":\"1782\"},\"ticker\":null},\"id\":\"1785\",\"type\":\"Grid\"},{\"attributes\":{},\"id\":\"1871\",\"type\":\"Selection\"},{\"attributes\":{\"bottom_units\":\"screen\",\"fill_alpha\":0.5,\"fill_color\":\"lightgrey\",\"left_units\":\"screen\",\"level\":\"overlay\",\"line_alpha\":1.0,\"line_color\":\"black\",\"line_dash\":[4,4],\"line_width\":2,\"right_units\":\"screen\",\"top_units\":\"screen\"},\"id\":\"1796\",\"type\":\"BoxAnnotation\"},{\"attributes\":{\"source\":{\"id\":\"1772\"}},\"id\":\"1808\",\"type\":\"CDSView\"},{\"attributes\":{},\"id\":\"1780\",\"type\":\"LinearScale\"},{\"attributes\":{\"formatter\":{\"id\":\"1867\"},\"ticker\":{\"id\":\"1783\"}},\"id\":\"1782\",\"type\":\"LinearAxis\"},{\"attributes\":{},\"id\":\"1778\",\"type\":\"LinearScale\"},{\"attributes\":{\"data\":{\"color\":[\"red\",\"red\",\"red\",\"red\",\"red\",\"red\",\"red\",\"red\",\"red\",\"red\",\"red\",\"red\",\"red\",\"red\",\"red\",\"red\",\"red\",\"red\",\"red\",\"red\",\"red\",\"red\",\"red\",\"red\",\"red\",\"red\",\"red\",\"red\",\"red\",\"red\",\"red\",\"red\",\"red\",\"red\",\"red\",\"red\",\"red\",\"red\",\"red\",\"red\",\"red\",\"red\",\"red\",\"red\",\"red\",\"red\",\"red\",\"red\",\"red\",\"red\",\"red\",\"red\",\"red\",\"red\",\"red\",\"red\",\"red\",\"red\",\"red\",\"red\",\"red\",\"red\",\"red\",\"red\",\"red\",\"red\",\"red\",\"red\",\"red\",\"red\",\"red\",\"red\",\"red\",\"red\",\"red\",\"red\",\"red\",\"red\",\"red\",\"red\",\"red\",\"red\",\"red\",\"red\",\"red\",\"red\",\"red\",\"red\",\"red\",\"red\",\"red\",\"red\",\"red\",\"red\",\"red\",\"red\",\"red\",\"red\",\"red\",\"red\",\"red\",\"red\",\"red\",\"red\",\"red\",\"red\",\"red\",\"red\",\"red\",\"red\",\"red\",\"red\",\"red\",\"red\",\"red\",\"red\",\"red\",\"red\",\"red\",\"red\",\"red\",\"red\",\"red\",\"red\",\"red\",\"red\",\"red\",\"red\",\"red\",\"red\",\"red\",\"red\",\"red\",\"red\",\"red\",\"red\",\"red\",\"red\",\"red\",\"red\",\"red\",\"red\",\"red\",\"red\",\"red\",\"red\",\"red\",\"red\",\"red\",\"red\",\"red\",\"red\",\"red\",\"red\",\"red\",\"red\",\"red\",\"red\",\"red\",\"red\",\"red\",\"red\",\"red\",\"red\",\"red\",\"red\",\"red\",\"red\",\"red\",\"red\",\"red\",\"red\",\"red\",\"red\",\"red\",\"red\",\"red\",\"red\",\"red\",\"red\",\"red\",\"red\",\"red\",\"red\",\"red\",\"red\",\"red\",\"red\",\"red\",\"red\",\"red\",\"red\",\"red\",\"red\",\"red\",\"red\",\"red\",\"red\",\"red\",\"red\",\"red\",\"red\",\"red\",\"red\",\"red\",\"red\",\"red\",\"red\",\"red\",\"red\",\"red\",\"red\",\"red\",\"red\",\"red\",\"red\",\"red\",\"red\",\"red\",\"red\",\"red\",\"red\",\"red\",\"red\",\"red\",\"red\",\"red\",\"red\",\"red\",\"red\",\"red\",\"red\",\"red\",\"red\",\"red\",\"red\",\"red\",\"red\",\"red\",\"red\",\"red\",\"red\",\"red\",\"red\",\"red\",\"red\",\"red\",\"red\",\"red\",\"red\",\"red\",\"red\",\"red\",\"red\",\"red\",\"red\",\"red\",\"red\",\"red\",\"red\",\"red\",\"red\",\"red\",\"red\",\"red\",\"red\",\"red\",\"red\",\"red\",\"red\",\"red\",\"red\",\"red\",\"red\",\"red\",\"red\",\"red\",\"red\",\"red\",\"red\",\"red\",\"red\",\"red\",\"red\",\"red\",\"red\",\"red\",\"red\",\"red\",\"red\",\"red\",\"red\",\"red\",\"red\",\"red\",\"red\",\"red\",\"red\",\"red\",\"red\",\"red\",\"red\",\"red\",\"red\",\"red\",\"red\",\"red\",\"red\",\"red\",\"red\",\"red\",\"red\",\"red\",\"red\",\"red\",\"red\",\"red\",\"red\",\"red\",\"red\",\"red\",\"red\",\"red\",\"red\",\"red\",\"red\",\"red\",\"red\",\"red\",\"red\",\"red\",\"red\",\"red\",\"red\",\"red\",\"red\",\"red\",\"red\",\"red\",\"red\",\"red\",\"red\",\"red\",\"red\",\"red\",\"red\",\"red\",\"red\",\"red\",\"red\",\"red\",\"red\",\"red\",\"red\",\"red\",\"red\",\"red\",\"red\",\"red\",\"red\",\"red\",\"red\",\"red\",\"red\",\"red\",\"red\",\"red\",\"red\",\"red\",\"red\",\"red\",\"red\",\"red\",\"red\",\"red\",\"red\",\"red\",\"red\",\"red\",\"red\",\"red\",\"red\",\"red\",\"red\",\"red\",\"red\",\"red\",\"red\",\"red\",\"red\",\"red\",\"red\",\"red\",\"red\",\"red\",\"red\",\"red\",\"red\",\"red\",\"red\",\"red\",\"red\",\"red\",\"red\",\"red\",\"red\",\"red\",\"red\",\"red\",\"red\",\"red\",\"red\",\"red\",\"red\",\"red\",\"red\",\"red\",\"red\",\"red\",\"red\",\"red\",\"red\",\"red\",\"red\",\"red\",\"red\",\"red\",\"red\",\"red\",\"red\",\"red\",\"red\",\"red\",\"red\",\"red\",\"red\",\"red\",\"red\",\"red\",\"red\",\"red\",\"red\",\"red\",\"red\",\"red\",\"red\",\"red\",\"red\",\"red\",\"red\",\"red\",\"red\",\"red\",\"red\",\"red\",\"red\",\"red\",\"red\",\"red\",\"red\",\"red\",\"red\",\"red\",\"red\",\"red\",\"red\",\"red\",\"red\",\"red\",\"red\",\"red\",\"red\",\"red\",\"red\",\"red\",\"red\",\"red\",\"red\",\"red\",\"red\",\"red\",\"red\",\"red\",\"red\",\"red\",\"red\",\"red\",\"red\",\"red\",\"red\",\"red\",\"red\",\"red\",\"red\",\"red\",\"red\",\"red\",\"red\",\"red\",\"red\",\"red\",\"red\",\"red\",\"red\",\"red\",\"red\",\"red\",\"red\",\"red\",\"red\",\"red\",\"red\",\"red\",\"red\",\"red\",\"red\",\"red\",\"red\",\"red\",\"red\",\"red\",\"red\",\"red\",\"red\",\"red\",\"red\",\"red\",\"red\",\"red\",\"red\",\"red\",\"red\",\"red\",\"red\",\"red\",\"red\",\"red\",\"red\",\"red\",\"red\",\"red\",\"red\",\"red\",\"red\",\"red\",\"red\",\"red\",\"red\",\"red\",\"red\",\"red\",\"red\",\"red\",\"red\",\"red\",\"red\",\"red\",\"red\",\"red\",\"red\",\"red\",\"red\",\"red\",\"red\",\"red\",\"red\",\"red\",\"red\",\"red\",\"red\",\"red\",\"red\",\"red\",\"red\",\"red\",\"red\",\"red\",\"red\",\"red\",\"red\",\"red\",\"red\",\"red\",\"red\",\"red\",\"red\",\"red\",\"red\",\"red\",\"red\",\"red\",\"red\",\"red\",\"red\",\"red\",\"red\",\"red\",\"red\",\"red\",\"red\",\"red\",\"red\",\"red\",\"red\",\"red\",\"red\",\"red\",\"red\",\"red\",\"red\",\"red\",\"red\",\"red\",\"red\",\"red\",\"red\",\"red\",\"red\",\"red\",\"red\",\"red\",\"red\",\"red\",\"red\",\"red\",\"red\",\"red\",\"red\",\"red\",\"red\",\"red\",\"red\",\"red\",\"red\",\"red\",\"red\",\"red\",\"red\",\"red\",\"red\",\"red\",\"red\",\"red\",\"red\",\"red\",\"red\",\"red\",\"red\",\"red\",\"red\",\"red\",\"red\",\"red\",\"red\",\"red\",\"red\",\"red\",\"red\",\"red\",\"red\",\"red\",\"red\",\"red\",\"red\",\"red\",\"red\",\"red\",\"red\",\"red\",\"red\",\"red\",\"red\",\"red\",\"red\",\"red\",\"red\",\"red\",\"red\",\"red\",\"red\",\"red\",\"red\",\"red\",\"red\",\"red\",\"red\",\"red\",\"red\",\"red\",\"red\",\"red\",\"red\",\"red\",\"red\",\"red\",\"red\",\"red\",\"red\",\"red\",\"red\",\"red\",\"red\",\"red\",\"red\",\"red\",\"red\",\"red\",\"red\",\"red\",\"red\",\"red\",\"red\",\"red\",\"red\",\"red\",\"red\",\"red\",\"red\",\"red\",\"red\",\"red\",\"red\",\"red\",\"red\",\"red\",\"red\",\"red\",\"red\",\"red\",\"red\",\"red\",\"red\",\"red\",\"red\",\"red\",\"red\",\"red\",\"red\",\"red\",\"red\",\"red\",\"red\",\"red\",\"red\",\"red\",\"red\",\"red\",\"red\",\"red\",\"red\",\"red\",\"red\",\"red\",\"red\",\"red\",\"red\",\"red\",\"red\",\"red\",\"red\",\"red\",\"red\",\"red\",\"red\",\"red\",\"red\",\"red\",\"red\",\"red\",\"red\",\"red\",\"red\",\"red\",\"red\",\"red\",\"red\",\"red\",\"red\",\"red\",\"red\",\"red\",\"red\",\"red\",\"red\",\"red\",\"red\",\"red\",\"red\",\"red\",\"red\",\"red\",\"red\",\"red\",\"red\",\"red\",\"red\",\"red\",\"red\",\"red\",\"red\",\"red\",\"red\",\"red\",\"red\",\"red\",\"red\",\"red\",\"red\",\"red\",\"red\",\"red\",\"red\",\"red\",\"red\",\"red\",\"red\",\"red\",\"red\",\"red\",\"red\",\"red\",\"red\",\"red\",\"red\",\"red\",\"red\",\"red\",\"red\",\"red\",\"red\",\"red\",\"red\",\"red\",\"red\",\"red\",\"red\",\"red\",\"red\",\"red\",\"red\",\"red\",\"red\",\"red\",\"red\",\"red\",\"red\",\"red\",\"red\",\"red\",\"red\",\"red\",\"red\",\"red\",\"red\",\"red\",\"red\",\"red\",\"red\",\"red\",\"red\",\"red\",\"red\",\"red\",\"red\",\"red\",\"red\",\"red\",\"red\",\"red\",\"red\",\"red\",\"red\",\"red\",\"red\",\"red\",\"red\",\"red\",\"red\",\"red\",\"red\",\"red\",\"red\",\"red\",\"red\",\"red\",\"red\",\"red\",\"red\",\"red\",\"red\",\"red\",\"red\",\"red\",\"red\",\"red\",\"red\",\"red\",\"red\",\"red\",\"red\",\"red\",\"red\",\"red\",\"red\",\"red\",\"red\",\"red\",\"red\",\"red\",\"red\",\"red\",\"red\",\"red\",\"red\",\"red\",\"red\",\"red\",\"red\",\"red\",\"red\",\"red\",\"red\",\"red\",\"red\",\"red\",\"red\",\"red\",\"red\",\"red\",\"red\",\"red\",\"red\",\"red\",\"red\",\"red\",\"red\",\"red\",\"red\",\"red\",\"red\",\"red\",\"red\",\"red\",\"red\",\"red\",\"red\",\"red\",\"red\",\"red\",\"red\",\"red\",\"red\",\"red\",\"red\",\"red\",\"red\",\"red\",\"red\",\"red\",\"red\",\"red\",\"red\",\"red\",\"red\",\"red\",\"red\",\"red\",\"red\",\"red\",\"red\",\"red\",\"red\",\"red\",\"red\",\"red\",\"red\",\"red\",\"red\",\"red\",\"red\",\"red\",\"red\",\"red\",\"red\",\"red\",\"red\",\"red\",\"red\",\"red\",\"red\",\"red\",\"red\",\"red\",\"red\",\"red\",\"red\",\"red\",\"red\",\"red\",\"red\",\"red\"],\"phrase\":[\"Can I get back with my ex even though she is pregn\",\"What is the best way to become an arms dealer in t\",\"Why doesn't Japan contribute to peace and prosperi\",\"Which is the best Panasonic air conditioner servic\",\"What did ancient Egyptians believe about the after\",\"How does one prepare for the RBI grade B officers \",\"Which institutions in Kolkata give coaching for en\",\"Will omar bravo be in fifa 17?\\n\",\"What are the pros and cons of arranged marriages?\\n\",\"What will happen if all the vegetable dies?\\n\",\"Why do people hate hypocrites?\\n\",\"What do you consider poor, middle class, wealthy a\",\"How do I concentrate on my studies?\\n\",\"What is new age psychobabble?\\n\",\"How can you tell if your man is cheating even if h\",\"Can you see yourself during lucid dreaming?\\n\",\"Which browser is most safe in terms of privacy and\",\"Can Google Assistant run on OnePlus 3T?\\n\",\"Apart from the VW Vento / Polo and Skoda Rapid, ar\",\"What is Panera Bread?\\n\",\"Do athletes live longer and healthier? If not, why\",\"Could a pitbull take on a wolf in a fight?\\n\",\"What has Obama done for Latinos/Hispanics?\\n\",\"How much is |x|^2?\\n\",\"How does operator.com work?\\n\",\"Why do people not make movies/talk about the Romas\",\"What were the major contributions of the political\",\"Company Secretaries (CS): How do I prepare for CS \",\"What are the job prospects of chemical engineers a\",\"I have never gone to a bank. How do I put money in\",\"What is the best strategy to prepare for the GATE \",\"Who is this porn star?\\n\",\"Why are specs & sunglasses so expensive?\\n\",\"I installed the movie torrent with Ultra XVid Code\",\"Can we ride scootry with learning lisence age of 1\",\"Two cards were drawn, without replacement, from a \",\"How much money is needed per month to live in indi\",\"Why do companies issue bonus shares?\\n\",\"Why are Iranians and Afghans considered white Amer\",\"Could mumps cause deafness?\\n\",\"What is meaning of sadaka?\\n\",\"What should I know before starting a YouTube caree\",\"Is the ITI College Principal is gazetted officer?\\n\",\"How do you feel now that Donald Trump is now the P\",\"What is the difference between imperial units and \",\"What is the easiest way to do effective self hypno\",\"Why has China increased its involvement in the Syr\",\"From which year CBSE class 10th exam be reintroduc\",\"Is 1080p a Blu-ray?\\n\",\"Does using mirrors to concentrate thermal energy d\",\"How do I avoid attractions by phones?\\n\",\"What are some of the effects of education can you \",\"What are the characteristics of a Pisces Sun/Libra\",\"What is the most cost-effective option to ship pac\",\"Are red and blue complementary colors?\\n\",\"Is it possible to make a material that is a superc\",\"What is the best Shonen Jump manga?\\n\",\"Are Oracle and Cisco good companies for a new grad\",\"If lighting a match is considered a chemical chang\",\"Why is Hillary so afraid of Putin?\\n\",\"Which is the best book to study electronics basics\",\"What are the basics I should know before learning \",\"Can I use Cph4 on a day to day basis?\\n\",\"Is it safe when I buy things from China?\\n\",\"Why did some ethnic minorities support Brexit?\\n\",\"How much money has tinder made?\\n\",\"What is the limit?\\n\",\"Will browsing Facebook while connected to Tor reve\",\"If I get 68.4 percent in ftre 2016 class 10 then w\",\"No product market fit: change product or market fi\",\"What makes you sad about India?\\n\",\"How do I know if someone has read my messages on w\",\"Why there is a sound when we crack our knuckles?\\n\",\"Why do I only make friends with guys?\\n\",\"What is 'open-mindedness'?\\n\",\"What is the cause of carpal tunnel syndrome?\\n\",\"What is the difference between a \\\"slow cooker\\\" and\",\"What is Hillary Clinton's stance on nuclear energy\",\"Do IIT colleges require a caste validity for an ST\",\"How do I listen a song from you?\\n\",\"Why do so many Iranians immigrate to Canada?\\n\",\"What will happen to India-U.S. relations after Tru\",\"A program that stored five words in the memory the\",\"What are ways of joining to ISRO as engineer other\",\"Can Magneto defeat Hulk?\\n\",\"What time of year is it best to visit Singapore?\\n\",\"How do I study for ib?\\n\",\"What should I do if someone doesn't reply to my em\",\"How much does Manveer Singh Phogat gets for Dangal\",\"What is it like to be cannibal?\\n\",\"How can the Android app development companies help\",\"Who would you say is the most fun person in Israel\",\"How can one improve her figure and butt size witho\",\"As a company that provides travel agencies and tou\",\"What is the most beautiful thing you saw today?\\n\",\"Is gay flirting good?\\n\",\"Can I use Stripe in Europe?\\n\",\"Will Britain leaving the European Union lead to th\",\"Why are so many East Asian immigrants so averse to\",\"Why do we need computer networking?\\n\",\"What is retina detachment?\\n\",\"Why don't more bars have mechanical bulls?\\n\",\"How do I get better understanding of C++?\\n\",\"Which is the most profitable Porsche US dealer?\\n\",\"What are the best over the ear headphones for abou\",\"Is it true that the first kill is the hardest?\\n\",\"Which is best 32 inch led tv to buy below 20,000 I\",\"I am scoring 130/506 in FiitJEE aits part test adv\",\"What kind of websites are missing from the Interne\",\"What is the best way to use free time at IITB?\\n\",\"Is it possible for me to buy my first company usin\",\"What should I do to have sex with as many women as\",\"What is the scope of Executive MBA in India?\\n\",\"Which BMW models do not have a Hofmeister Kink?\\n\",\"What is yellow journalism?\\n\",\"Why do doctors charge uninsured patients 10 times \",\"Which one is the best public sector job or private\",\"Will social media ever help to spur on the US youn\",\"How should I know a video is 360 degree?\\n\",\"Is a practice manual sufficient for the CA Final I\",\"Career Advice: Being an Indian college student, ho\",\"What are the advantages and disadvantages of Li-Fi\",\"On Snapchat, I deleted someone. Can they re-add me\",\"Are there any cereals that taste good with water?\\n\",\"Why does a woman's vagina push a mans penis out?\\n\",\"What is the British word for bullpen?\\n\",\"How hard is it for international students to get a\",\"How did Revan build his foundation of his army in \",\"What is the best way to read a fictional book? Do \",\"How do you replace a ignition lock cylinder?\\n\",\"How can I prevent business failure?\\n\",\"How often do tides occur? What causes it?\\n\",\"How do I learn Calculus on my own?\\n\",\"What is the reason for Priyanka Gandhi not changin\",\"What should I eat when I'm sick with a cold or flu\",\"What is a Business Intelligence Analyst?\\n\",\"Which sports should I start to play to paticipate \",\"How should I prepare for Java fresher interview?\\n\",\"How different are cuisines of Arab countries?\\n\",\"What is the meaning of the phrase, all is fair in \",\"Why does Quora send me a notification that my ques\",\"What are the hardest obstacles to breaking into a \",\"What makes a falling snowflake large (or not)?\\n\",\"What is the compensation for Partners/Principals a\",\"What is the difference between an array and a vect\",\"If you kiss the NC State wolf do you become an NC \",\"Is it boring (from a social perspective) to live i\",\"What would have happened if in 1971 war all 93000 \",\"What are the easiest things to do while being abro\",\"Does getting root canal cause problem in speaking \",\"What is the definition of a truncated sentence and\",\"Would I look good with a nose ring? if yes which n\",\"What are the perks of working in Amazon?\\n\",\"How can we say that climate change does not bring \",\"What it is like to meet \\\"Shahid Kapoor\\\"?\\n\",\"How does it feel when you are dead?\\n\",\"Which is the best juicer, grinder or mixer in Indi\",\"How do I learn to think more logically?\\n\",\"Which movie has the best beginning ever?\\n\",\"Which laws been enacted to prevent family members \",\"What is iPhone 6s plus cost present?\\n\",\"What is Ohm's law and amperage I?\\n\",\"What is the nicest thing a stranger has done for y\",\"Why do some heroic people who do good things choos\",\"How will Hindus react if Babri Masjid is reconstru\",\"R2I - How did you plan R2I from US if you own the \",\"How can I master C programming in 7 days?\\n\",\"What is the right way to clean ear wax?\\n\",\"What are some good games to play during class?\\n\",\"Is it possible to hack WhatsApp messenger?\\n\",\"Why do airplanes carry more weight than helicopter\",\"Shaving: Do electric shavers work better than manu\",\"Has anyone benefited, health-wise, from essential \",\"Can Students at Hogwarts have sex while there? Doe\",\"How can we enhance our efficiency with Yoga?\\n\",\"What are the best app review sites and blogs?\\n\",\"Can two companies be registered on the same addres\",\"Is it true that as per Indian law, one can't be ha\",\"Who would win in a war between Bangladesh and Myan\",\"How do you reply when someone thanks you for forgi\",\"Who would win a fight between wolverine and Batman\",\"What is one thing you wish for yourself in the fut\",\"Can you cry underwater?\\n\",\"What's the difference between SSL, TLS, and HTTPS?\",\"Why are antigravity muscles more affected in Upper\",\"In order to buy a house, does one have to rent fir\",\"What is the probability of choosing a pink ball fr\",\"Which is the best car to get under 8 lakhs?\\n\",\"Why isn't China's role in the Korean and Vietnam w\",\"What is the Laplace transform of t^(1/2) * e^ (-1/\",\"To those who told a big lie to their parents and t\",\"What is runtime polymorphism or dynamic method dis\",\"I had sex 5 days after my period, what are the cha\",\"How would you describe yourself in one tweet?\\n\",\"How do fairy tales influence creativity in humans?\",\"How do I add delay() and sound() in Dev-C++?\\n\",\"What is the pathophysiology of ADHD?\\n\",\"What are the top benefits of life insurance polici\",\"Can I get a TV from Bang & Olufsen for under $2500\",\"How is the life of an ece student at dayananda sag\",\"What is meditation?\\n\",\"Were the Ancient Greeks scientists, or just philos\",\"How does Google authenticator work?\\n\",\"Wouldn't it be better if kids were allowed to focu\",\"Can you apply for a certificate on Coursera/edX af\",\"Why do Quora engineers use large monitors?\\n\",\"How do I start an online clothing business?\\n\",\"How will the government meet the challenges of acc\",\"I saw a charge on my credit card under from a comp\",\"What is the difference between socialization and r\",\"How would the world be different if everyone spoke\",\"Who receives the fares in a cab service?\\n\",\"As a non-resident alien doing a summer internship \",\"Which is the best camera smartphone under 20k?\\n\",\"What does it mean to dream about someone before th\",\"What are the subjects in which I can apply for my \",\"What are the basics of Jainism?\\n\",\"What is the Difference between existential nihilis\",\"How can I see my girlfriend's WhatsApp chat messag\",\"What are some ways to enjoy sex with my newly marr\",\"How can I study the Bible?\\n\",\"How can someone be a friend, girlfriend, wife and \",\"What are the Snapchat usernames of punjabi celebri\",\"What is 1/2 times 1/2?\\n\",\"Where does the word restaurant come from and what \",\"What can I do with a computational linguistics deg\",\"Will trump win as president?\\n\",\"What impact will AI eventually have on how we plan\",\"Why is eating too unhealthy?\\n\",\"What if the Syrian civil war never happened?\\n\",\"How do the teachings, learning, followership and/o\",\"Did you ever been in a group of stupid people?\\n\",\"What are the multiple types of social issues?\\n\",\"Where can I find beginner NodeJS tutorials that us\",\"If I got a 7.4 CGPA in the SA1 10 class, then can \",\"Which the best time table for 10th class exams pre\",\"Elite Escorts in DHA Lahore?\\n\",\"My ex bf says he doesn't have feelings for me righ\",\"What are the questions in the interview for a fres\",\"What do you think are some of benefits to humans f\",\"Which one is the best medical college hostel in in\",\"Have you lived in a tiny house?\\n\",\"What are some things new employees should know goi\",\"Where can I hire high pressure cleaning service in\",\"How many Bollywood Actresses consume alcohol in re\",\"How does PayU earn money?\\n\",\"Is it possible to change your personality as a chi\",\"How do I apply to London School of Economics as an\",\"How do I build a profile to get accepted into a st\",\"How can I get real ghost stories?\\n\",\"Is it possible to hack NASA's New Horizons satelli\",\"What is the best way of getting good at answering \",\"How would you deal with jerks?\\n\",\"How can I do internship in Accenture India?\\n\",\"Why would an Indian girl not want to get married?\\n\",\"My WhatsApp chat backup got deleted from Google, I\",\"Is going to college really worth it or just a wast\",\"How many prophets did God send to the Jews?\\n\",\"What is the relation and difference between Artifi\",\"If you don\\u2019t have a good network, what would be th\",\"What are the best place to visit in Rio de Janeiro\",\"Which is the best college for PG in Cyber Security\",\"Which are the best English serials?\\n\",\"How do you say \\u201cWhat\\u2019s up?\\u201d in Chinese?\\n\",\"Is it bad to take expired fish oil pills because t\",\"Will there ever be a genuine Authoritarian candida\",\"Is World War III on its way right now?\\n\",\"How can you use time formats in Excel?\\n\",\"What is the best antivirus for Windows 8?\\n\",\"Why do people like Metal/Hard rock so much?\\n\",\"What are the worst smelling things in the world?\\n\",\"Could someone explain the following electives at N\",\"What's a funny thing?\\n\",\"What are the main reason of cracks?\\n\",\"How do I hitchhike in Europe?\\n\",\"What is the physical significance of quantum mecha\",\"How do we get dead people off business junk mail l\",\"Who among the four in the picture given in descrip\",\"How do I know if I authentically, genuinely, hones\",\"On average, how long does it take a letter mail fr\",\"When will One Piece have episode 517 dubbed?\\n\",\"What should I do if I fell in love with my best fr\",\"How do criminal lawyers sleep at night even when t\",\"Can I get refund for Tatkal e-ticket because train\",\"How can I buy the new Macbook 12\\\" M7 512GB model i\",\"What are the different e-governance methods used b\",\"How do I run smoother GTA V? I have intel core i3 \",\"What is the use of tanpura?\\n\",\"What are the Snapchat usernames of celebrities?\\n\",\"Which is better- cracking gate and going for IIT/i\",\"Can you lose weight without exercising?\\n\",\"What is the best way to make life more interesting\",\"Is Delhi a must for UPSC coaching?\\n\",\"Which are the best colleges for electronics and in\",\"I have been a .Net developer for over 2 years and \",\"Has a smartphone ever been taken to space? If yes \",\"What questions should I ask my boyfriend, we are b\",\"How do I delete a contact blocked in WhatsApp?\\n\",\"Is it a good time to buy real estate in Cyprus?\\n\",\"South India: Why is South India much more develope\",\"What is the formula for a hydrocarbon?\\n\",\"What if an alien comes and tells us that the physi\",\"What are the pros & cons of democracy?\\n\",\"I'm 16 years old and wanted to lose weight and bod\",\"Can I add more peers to the torrent for max speed \",\"What are the best neighborhoods to Airbnb in Chica\",\"What we will get in mahabalipuram beach sunrise or\",\"How fast can you accelerate to the speed of light?\",\"What is the difference between R-squared and Adjus\",\"How many times can women reach orgasm in a hour an\",\"Why didn't Johor, Batam & Singapore integrate more\",\"Which products are more profitable in online sell?\",\"How do I get rid of muscle?\\n\",\"What is the process of directing and casting child\",\"Is the 7th pay commission needed?\\n\",\"What are the best games that are compatible on a C\",\"What was the significance of the battle of Somme, \",\"How do you see Pakistan PM Nawaz Sharif's speech a\",\"Where can I publish my apps?\\n\",\"What was your darkest moment?\\n\",\"Why does the UK have an unwritten Constitution?\\n\",\"What are the necessary steps in documenting a mobi\",\"Why was life created? Why was life so painful?\\n\",\"How can I use explainer video to review products o\",\"What is difference between residue and error?\\n\",\"If 6.5 to 8.5 will be the safe level of pH value i\",\"I am 23 and don't know what I want. My life is ver\",\"What are your three favorite websites for reading?\",\"Why do people choose to be a GAY?\\n\",\"What is the process of death?\\n\",\"Why does light red deserve the special name \\\"pink\\\"\",\"Who are millennials?\\n\",\"What it's like doing CA articleship from Big 4s?\\n\",\"What is the most important right or freedom guaran\",\"Why do some porn stars have unprotected sex?\\n\",\"What are my reasons to live?\\n\",\"How small would a planet need to be to plainly see\",\"Some religion speaks of burning in hell after deat\",\"What does it feel like to be an IITian?\\n\",\"How does cognitive behavioural therapy work?\\n\",\"Why should you visit India?\\n\",\"I lost my Google account information. How can I re\",\"What if I port a number from Airtel to Vodafone in\",\"What are the reasons why time travel is impossible\",\"Will my iPhone alarm still go off if \\\"Do Not Distu\",\"Did South Korea cheat during the 2014 Asian Games?\",\"Take the minimum lethal volume of a gaz, put it in\",\"\\\"How to improve Project Management skills?\\\"\\n\",\"When you were small, did you ever think that your \",\"Where did the pointy \\\"S\\\" symbol come from?\\n\",\"How does it feels like to have a rich boyfriend?\\n\",\"What have you used your intelligence for?\\n\",\"What is a freewheeling diode?\\n\",\"How do we derive pi?\\n\",\"What is the importance of communication skills in \",\"How can I put icons on YouTube video titles? Also \",\"What does the phrase \\\"resonate with me\\\" mean?\\n\",\"How many types do we have of Manual testing?\\n\",\"What are IBAN numbers?\\n\",\"What is regret?\\n\",\"As a student specializing in English language, lit\",\"What is the corporate culture like at Corning? How\",\"How can I convert jazz standards to jazz guitar so\",\"How good was the surgical strike by Indian Army on\",\"What recipes are most conducive to romance?\\n\",\"What are the unknown facts about Tamil people whic\",\"Where do I find the most beautiful woman in the wo\",\"What does the grey phone icon mean on the messenge\",\"How do I share 360\\u00b0 photos on WhatsApp?\\n\",\"What is the difference between working stress meth\",\"What are the opportunities for an MBA in finance?\\n\",\"Can you patent clothing or fashion designs?\\n\",\"My in laws are apologists for Nazi war criminals a\",\"Which is the safest city in India for women?\\n\",\"What horse breed were commonly used during the \\\"Wi\",\"Is it weird to sometimes feel almost overwhelmed b\",\"Can anyone please list all the SAP SD topics a per\",\"In the filling of ibps application I put martial s\",\"In a restaurant, what are the different types of t\",\"Why does amir khan never go to any filmy awards fu\",\"What is a good inpatient drug and alcohol rehab ce\",\"Why does UV light cause contamination on optics, b\",\"How do I invest in mutual funds in India?\\n\",\"How comfortable are you with failure?\\n\",\"What skills are required to become a quant?\\n\",\"Why do startups announce fundraising?\\n\",\"What is your review of Amazon Video?\\n\",\"Why there is no team from Tamil nadu in pro kabbad\",\"How do I auto forward texts from my Verizon phone \",\"How do the Chinese people view Americans?\\n\",\"What is virgin or virginity?\\n\",\"What are the different ways of submitting a Reques\",\"Can a high school teacher legally force students t\",\"Why does water droplets form on the outer surface \",\"Which mammals have dark circles around eyes beside\",\"How do each components of a printer work?\\n\",\"What are some foods beginning with the letter W?\\n\",\"What are symptoms of a bad transmission control mo\",\"How do astronauts in ISS vote for Presidential ele\",\"What is the difference between Aim and Goal?\\n\",\"What is AT & C?\\n\",\"Who was Jackson Pollock? Was he mentally ill?\\n\",\"How do I make good vine edits?\\n\",\"How can I cut my penis?\\n\",\"How can I change my Quora profile photo?\\n\",\"My husband was here seeking asylum before we got m\",\"Is it good to use Laravel to develop a web app wit\",\"I have a mild sore throat an headache. What is tha\",\"When will a working nintendo 3DS emulator release \",\"What do we know about the health effects of vaping\",\"INSEAD: Worth the investment?\\n\",\"How is long rides in royal Enfield classic 350?\\n\",\"What famous boxers have participated on Dancing wi\",\"Will season 10 of Big Bang Theory be the final sea\",\"Can I crack KVPY (SX) with only three months left \",\"What are some little-known facts from World War II\",\"What is the most unique way of exam cheating you'v\",\"When was the last time a slam dunk broke a basketb\",\"What should I do for my excessive hair loss?\\n\",\"How do I find people's psychological weakness?\\n\",\"What is the difference between Awareness and Consc\",\"I hate everything that people around me like. Is i\",\"I think I am pretty good at thinking of a business\",\"How do you determine the thickness of a footing ba\",\"Why does vapours are formed when we pressurize alc\",\"Is it easy to adjust in German Universities withou\",\"What is UNIX and UNIX-like?\\n\",\"What is the best way to promote www.dorkyard.com?\\n\",\"What's up in Addis Abeba tonight?\\n\",\"Is there any point to going to college if you have\",\"How much would it cost to construct 800 sqft area \",\"What is an ideal wife? What is an ideal husband? W\",\"What information does port scanning provide?\\n\",\"What are the application of quasicrystals?\\n\",\"What is the determinant of the inverse of a matrix\",\"How is Brad Pitt in \\\"real Life\\\"?\\n\",\"I have a 3 yr bachelor's degree in Computer Scienc\",\"Demonetisation is good for county like India or no\",\"My parents think I am rude for being so introverte\",\"How many people have jumped off the Golden Gate br\",\"What are Osho's views on Islam?\\n\",\"Why does the government regulate health care?\\n\",\"Which phone has the best sound recording quality?\\n\",\"What is the best part of your life, and why is it \",\"Which is better hair wax or hair clay?\\n\",\"How do I charge my motorcycle battery?\\n\",\"What are the updates we get after miui 8.0.6.0?\\n\",\"Why does Robinhood need to bypass the App Store?\\n\",\"Which is a better route, Alipiri or Sri Vaari?\\n\",\"How much extra would it cost if Apple manufactured\",\"When will the next recession be?\\n\",\"What are some arguments in support of electing Don\",\"What does Russia want with Ukraine?\\n\",\"What is the difference between a recorder (block f\",\"What is the meaning of random number?\\n\",\"Which one is good for health: tea or coffee?\\n\",\"Is Texas good state for non-resident to register a\",\"What is kirchoff's law?\\n\",\"Is it wrong for a family member to keep making com\",\"My parents are forcing to marry a girl of their ch\",\"Which is better, Windows+Linux or OSX?\\n\",\"Why aren\\u2019t Christians that pray to/have a relation\",\"How much TDS will I have to pay for an RD account \",\"What is the meaning of thematic connection?\\n\",\"How should you prepare to take your maneuverabilit\",\"What are the best materials/videos/resources to ge\",\"Can a \\\"dirty\\\" finish be added back to jeans?\\n\",\"Why does my dog keep whining at night?\\n\",\"Is it bad to turn off my PC using the power button\",\"What is image processing?\\n\",\"I went to school with mostly black kids, they bull\",\"Does Donald Trump actually think he can become Pre\",\"Which are the 5 best movies you have ever seen?\\n\",\"How do I get traffic to excursions travel website?\",\"Where can I download the Android game Leo's Fortun\",\"How do I get more followers and upvotes on Quora?\\n\",\"What is a factory reset on a phone?\\n\",\"Which phone should I buy if my budget is 12000?\\n\",\"I have GPU implementation as a graduation project.\",\"What are the libertarian views on the Antarctic Tr\",\"What would the world be like if it were ruled by a\",\"How do you choose your first bank?\\n\",\"Who runs berkuliah.com?\\n\",\"What does Godel's incompleteness theorem mean for \",\"How do I delete a Gmail account?\\n\",\"If my ultimate goal is to become a vegan, should I\",\"Did the US win the war in Afghanistan?\\n\",\"How can I become a good engineering student?\\n\",\"What are some ways to increase intuition?\\n\",\"What causes depression in humans?\\n\",\"How can I control my anxiety and worries?\\n\",\"How can we jump in between the working regions of \",\"How do I stop loving someone who loves me?\\n\",\"Can personality and insecurity create a liar?\\n\",\"What is the best country and university to do a Ph\",\"How do I edit a video offline?\\n\",\"What is the rent of kiosk in an upscale mall?\\n\",\"What should I start reading if I want to attempt t\",\"Which is the best anti-virus for computers?\\n\",\"Does food unite people?\\n\",\"What do you like most about Internet?\\n\",\"What is a good model of federalism in the Philippi\",\"How do you know if a girl secretly loves you?\\n\",\"Who is the most annoying fictional character you h\",\"How do you feel when your question is unanswered o\",\"Did early humans know how babies were made?\\n\",\"If I cancel xfinity, how can I sign up as a new cu\",\"Are there any TV series similar to House MD?\\n\",\"What you need to know before buying furniture for \",\"Have you ever had a dream happen in reality?\\n\",\"Is dark matter just a scientific theory or has its\",\"How can you increase your tolerance for pain?\\n\",\"How many logical fallacies are there?\\n\",\"How do buttercream icing frosting separate?\\n\",\"Which is the cheapest cinema hall of India?\\n\",\"What do you think would be a good gre score?\\n\",\"What is the best way to update Xiaomi redmi 3 to M\",\"What does toe jam cheese taste like?\\n\",\"How do I know if a YouTube video is copyrighted?\\n\",\"How should I start a business reselling shoes?\\n\",\"How do I hire a mobile app development company?\\n\",\"What is paras pathar?\\n\",\"How is the word \\\"colony\\\" used in a sentence?\\n\",\"What is Rebecca Fugate known for?\\n\",\"What should I consider before starting my consulta\",\"Do you feel that many attractive women get away wi\",\"Why do I feel so much guilt for kissing a girl?\\n\",\"What are some good tutorials for learning Blender?\",\"Is it deceitful to befriend someone in the hopes t\",\"Who do you think BJP will put as a candidate for t\",\"Which protein supplement is best for gym to gain w\",\"What is your review of KVPY SX/SB 2016?\\n\",\"How do I get people's attention for my work?\\n\",\"What are some of your own personal stories and exp\",\"If salt concentration of the sea(3%) were differen\",\"What is the chemical name for mothballs? How was i\",\"Vitamin D receptors in the Testes?\\n\",\"How do I lose weight without working out?\\n\",\"Where can I watch anime?\\n\",\"What is BusyBox used for?\\n\",\"What would be a good desktop computer for software\",\"What are your top five favorite books and why?\\n\",\"What are some good Harry/Ginny fanfiction?\\n\",\"What are the pros and cons of having sex during pe\",\"Which device will you enjoy watching movies in: a \",\"Will there be \\\"faithless\\\" electors this election?\\n\",\"Is Donald Trump an undercover democrat?\\n\",\"Why am I the way I am?\\n\",\"Why do some women get their nipples pierced?\\n\",\"What do Delhi University girls (especially North C\",\"What is the name of this TV series?\\n\",\"My salary is below the Basic Exemption Limit, yet \",\"What is a foliated rock?\\n\",\"What are some of the best books to start learning \",\"How should I prepare for IIT-JEE 2018?\\n\",\"How do unions work?\\n\",\"Can we give neet coaching in class 11?\\n\",\"Which is the best dish TV connection in Hyderabad?\",\"How can you train a Doberman/Lab mix?\\n\",\"How do you reduce stress at work?\\n\",\"What is the best algorithm for finding the number \",\"How can I earn $250 in 2 months?\\n\",\"Why did GE buy NBC?\\n\",\"What is the highest level of c?\\n\",\"How do you mash potatoes without a masher? What el\",\"How difficult is it to learn Python?\\n\",\"How do you convert years into seconds?\\n\",\"How do you view bisexuality?\\n\",\"What is information technology? What are some exam\",\"Why are Altoids so strong?\\n\",\"How effective is email marketing?\\n\",\"Why does my tutor keep winding me up. He says he i\",\"How can I start my Tok essay which is about accura\",\"How do I repair my corrupt memory card?\\n\",\"I have 3 years to prepare for IIT JAM Physics. How\",\"What are the best Instagram hack tools that have n\",\"I am studing interior design. What are some good i\",\"What are some stupid jokes that make you laugh?\\n\",\"What are the factors affecting Real estate investm\",\"How can I get rid of white dry spot on my face? It\",\"What is it like to have an ugly wife/partner?\\n\",\"What do you love most about your life and why?\\n\",\"In the unlikely event that the Electoral College t\",\"How is life as an Engineer?\\n\",\"Where and why are the imaginary numbers used?\\n\",\"What are some good hypo-allergenic lipsticks?\\n\",\"Did the United Nations play a part in the divide o\",\"When and Why did America become a world power?\\n\",\"What are some recipes using Hormel Black Label Ham\",\"Which is the best company to invest shares on Nove\",\"The man I'm about 2 marry says when I have my peri\",\"What can be the best answer for why finance?\\n\",\"What are the best facts about the universe?\\n\",\"What's the sweetest thing you did for a bestfriend\",\"What is the difference between techno and trance m\",\"TV Sitcoms: Why do English comedy shows have peopl\",\"Does percentile system would affect neet 1 student\",\"Is there Uber in Valencia, Madrid and Barcelona?\\n\",\"Have real-life siblings ever shot intimate scenes \",\"How should I improve my writing skill for blogging\",\"Can cold weather affect a menstrual cycle?\\n\",\"How can we earn money online while studying?\\n\",\"Can a tablet keyboard be used on any kind of table\",\"What are the Upcoming development projects in Chha\",\"Where can I buy cheap Twitter followers?\\n\",\"Why do passengers from aircraft are not given a bu\",\"When should I tell my crush I like her?\\n\",\"Why does Pakistan have a better image and reputati\",\"What are Andrea Pirlo's strengths as a midfielder?\",\"From a point in space billions of light years away\",\"Will Medicaid pay for electrologist to do the shav\",\"Why do technical employees despise sales people so\",\"What are the best freelance websites for C#?\\n\",\"Will I be successful without educations?\\n\",\"How can I learn about cars?\\n\",\"What is the best question asked in an interview?\\n\",\"Why there is so much hatred against Brahmins in In\",\"How do I learn to enter journal entries online in \",\"Will CS be issuing a PR message for Boston?\\n\",\"Why do some people 'hate' drugs or people who ever\",\"How do I know my passion? What is my talent and wh\",\"How do pessimists and optimists differ?\\n\",\"How many pulleys did it take for Archimedes to lif\",\"What is the best course after 12th for a medical s\",\"What are the steps that I should follow to get in \",\"Where was the boston marathon?\\n\",\"What is it like to be in or around a bomb blast?\\n\",\"Will Trump destroy international US-companies thro\",\"Should celebrities have the right to voice their o\",\"Can I say that: \\\"A battery can be seem as a capaci\",\"What is it like to be an ENTP?\\n\",\"How do I start designing on glass?\\n\",\"What is the market risk premium formula?\\n\",\"How can I pay the parking meter if I have no coins\",\"Is it true that Obama has a secret son named \\\"Luth\",\"Which is the best coaching for IAS in up?\\n\",\"How big is the equity funding market in North Amer\",\"Which are the good government medical colleges in \",\"How do I control my hair fall?\\n\",\"Is it really worth creating Shopify themes?\\n\",\"What can cause knee pain? It only hurts when I sta\",\"Where can you find a list of common 9 letter words\",\"NSFW: Is this penis color normal or should I see a\",\"Why do most women remove the hair from their arm p\",\"Which processor is better (faster/more efficient),\",\"Which two statements are true regarding views in s\",\"What is the easiest and quickest Indian food recip\",\"What are the best local SEO companies in India?\\n\",\"How do I get rid of adult content on my Quora feed\",\"Can the zombie fungi attack humans as well?\\n\",\"If I wanted to learn about the Roman Empire,what w\",\"What are the key differences between LXDE and XFCE\",\"Can people see the sellers real name, e-mail addre\",\"Should I still watch The Matrix movie?\\n\",\"Is there any truth to the rumor that the youngest \",\"Is it ok that I don't want to hang out with my fam\",\"I am in class 9. If i want to crack IIT JEE, then \",\"Will Obama's gang stalking/surveillance program be\",\"What are some good songs to lyric text prank a fri\",\"Where can I get best quality video DJ for party in\",\"How long does it take for your hair to grow?\\n\",\"Should I update my Redmi 3s from MIUI 7 to MIUI 8?\",\"How do muscles work?\\n\",\"WHAT IS THE BEST ROUT FOR NEPAL PASUPATI NATH TEMP\",\"How to make a website similar to feedwiser.com in \",\"Why does India so scared of CPEC?\\n\",\"What did your first sex feel like as a girl?\\n\",\"In International ODI/T20 cricket matches, if a bat\",\"Why can humans feel acceleration, but not constant\",\"Can the Microsoft Surface Pro 4 run AutoCAD?\\n\",\"What are the differences between stock Crown Victo\",\"What are the good ways to download Lynda.com's tut\",\"How much is the average salary package for a 1.5 y\",\"How can you reduce the barriers of communication?\\n\",\"Why would someone use Instagram Stories over Snapc\",\"Whiskey: How many 'shots' are in a fifth of Jack D\",\"What might happen now that President-elect Donald \",\"How do I write a waiver letter for school?\\n\",\"I am interested in persuing ma industrial psycholo\",\"Does modafinil shows up on a drug test? Because my\",\"Is it possible to get high off Vyvanse?\\n\",\"Is an agnostic necessarily a skeptic, and how?\\n\",\"Where can I get best support in Sydney for buying \",\"What are the duties of a lieutenant in Indian army\",\"Why is smileys not used on Quora?\\n\",\"What does it feel like for a man when someone who \",\"How does post graduation permit impact .lets say I\",\"Online Payment Gateways and Processing: What is th\",\"What are the best books to learn c programing lang\",\"Solid State Physics: What is The Theory of Alloys?\",\"How do I fill in my first name in a PAN card dupli\",\"Why is egg yolk not good for you?\\n\",\"Anatomy of Female Pelvis: Do women really have an \",\"How much does it cost to develop mobile applicatio\",\"Who is the most honest Game of Thrones character?\\n\",\"What is a high quality Apple MacBook Air charger?\\n\",\"Where and how is the WWE championship belt made?\\n\",\"What is green communication?\\n\",\"I have been a good student since chiild hood but j\",\"I'm solving exercises of artificial neural network\",\"Compared to your own compensation, and in consider\",\"How can I keep browsing Quora forever?\\n\",\"Having built web stuff the old way (PHP/MySQL) bac\",\"Is our new currency note of Rs.2000 equipped with \",\"What's the best way to join a startup in DC?\\n\",\"What would happen if we added a second Earth of eq\",\"When will piracy on Android stop?\\n\",\"What do you mean by executive consultant and suppo\",\"Why do I always feel like I am missing something?\\n\",\"What does a user see when he/she gets a new messag\",\"How can I become a web developer?\\n\",\"Is there any good alternative softwares to Tally?\\n\",\"Would you have sex during period?\\n\",\"Are there prominent Bangladeshi Hindus?\\n\",\"I have registered for PhD (no NET) (phy) in 2013, \",\"I changed my name, but the person did a mistake. M\",\"At what age do your breasts stop growing?\\n\",\"How do I get a girl's phone number in a library?\\n\",\"I am into a habit of over thinking things. How do \",\"What is the average salary of a civil engineer?\\n\",\"What is the difference between rote learning vs me\",\"What are the ways to compete in the Olympics in 20\",\"What trivia (and/or little-known facts) do you fin\",\"Xiaomi Redmi note 3: Which is the best colour to b\",\"What does \\\" the Hadamard Perron theorem\\\" means?\\n\",\"Is there a way to see the viewing history and chat\",\"What is the best place for trekking in Goa?\\n\",\"How does an instant messenger work?\\n\",\"What are the disadvantages of the World Trade Orga\",\"Why does the US military not use AK series rifles?\",\"Does Moto m have gorilla glass?\\n\",\"What is the hierarchy of an associate consultant a\",\"What are some major landforms in Texas, and how do\",\"What other jobs can a medical degree holder do mea\",\"MY HP DEXTOP DOESNOT CONNECT WIFI WHY?\\n\",\"How can I get motivated to workout?\\n\",\"What should I gift it to my mom on her birthday?\\n\",\"Which is the best video you have ever seen?\\n\",\"I was selected in campus and was issued a joining \",\"What makes a poem a good way to express emotions? \",\"What would happen if I cut down a tree outside my \",\"Can you make money in Amway?\\n\",\"Body Weight: How many pounds can I gain every week\",\"What are the impacts (both positive & negative) of\",\"I forgot the password which I used to login n n lo\",\"What are the best websites for career?\\n\",\"What is your favourite episode of the office (USA)\",\"Why is time slower down near heavy objects?\\n\",\"How do l update any version after rooting the mobi\",\"Why is 3 am called the witching hour?\\n\",\"How do I run a shell script from Java code?\\n\",\"What are the advertising campaigns of 2011?\\n\",\"Should I opt for computer science if I don't take \",\"What are the polymers of protein?\\n\",\"How much better will the JWST be than Hubble?\\n\",\"What are the greatest examples of absence of mind?\",\"How can I understand the STOCK market from the bas\",\"How do I make Gazpacho?\\n\",\"What is the typical role of a brand manager?\\n\",\"Who are the top 5 hottest women ever?\\n\",\"What is the name of the game that Aamir Khan was r\",\"How long does it take to learn dance?\\n\",\"What's the funniest thing that's happened to you a\",\"Why are metals malleable and ductile?\\n\",\"List of national daily in India?\\n\",\"Are Volvos actually safer than comparable cars?\\n\",\"Can you tell who has been looking at your Instagra\",\"A ball dropped from the roof of a building takes 4\",\"What percentage of Hillary Clinton's supporters ha\",\"Do you think you are beautiful?\\n\",\"Which are the free email marketing tools?\\n\",\"What topic of discussion do people hate the most? \",\"What is the point in having hyper-politicised stud\",\"Why Steve Jobs is considered as innovator?\\n\",\"How long would it take an average programmer to wr\",\"Why are conservatives defending Holly Fisher? (see\",\"What is so important about Adam Smith's pin factor\",\"What is the Arizona bark scorpion, and how do anim\",\"How do I stop smoking cigarettes?\\n\",\"What are the functions of a computer's motherboard\",\"How can tea bags help for styes?\\n\",\"How can I get a patent for my really effective inn\",\"Can India ever become 'Sone Ki Chidiya' again?\\n\",\"Is there any way to play Android games LAN multipl\",\"Why should I ask my first question?\\n\",\"Who are the top writers on Hinduism on Quora? Who \",\"How do I wake up at 4:00 A.M.?\\n\",\"Why is Quora moderation collapsing all my answers?\",\"In an honest assessment, what do you think of Trum\",\"What type of bonding is present in a coordinate bo\",\"Is it possible to delete your Wikipedia account hi\",\"I'm a +2 CBSE non-medical student. Is there any pr\",\"Are there any limitations as to setting up a forei\",\"How will the drought in California affect its econ\",\"What is Informatica online training?\\n\",\"Is it compulsory for a Web designer and developer \",\"How could the US realistically pay off its debt?\\n\",\"Who is Barry Soetoro?\\n\",\"How do I solve [math]2x^3-x^2+11x+3=0[/math]?\\n\",\"What are some hobbies couples can do at home?\\n\",\"How have meerkats adapted to the desert?\\n\",\"What causes dizziness when you lay down?\\n\",\"What should one do after a civil engineering degre\",\"What are the advantages of hiring skip bins servic\",\"Why is it necessary that singers lip-sync?\\n\",\"How can I turn off the screen overlay detected on \",\"How do you clean or polish a pair of Woodland shoe\",\"What are some classes you wish you took in high sc\",\"What is the formula of [math](a+b)^3[/math]?\\n\",\"What is it like to commit yourself to a psychiatri\",\"Is there any way to slow or reverse the late effec\",\"What would the implications be if we discovered th\",\"Any other program to help on code contribution for\",\"What is the bond order of [math]H_2[/math]?\\n\",\"What is the best way to create a website without c\",\"What were some causes and effects of the French Re\",\"What are some catchy headlines for a dating site?\\n\",\"Should I get Company of Heroes, World in Conflict \",\"How do I remove a person from a group in Skype?\\n\",\"Why was Manmohan Singh briefed by PM Modi after su\",\"Does anybody want to learn Chinese?\\n\",\"Is Xiaomi going the Nokia way to oblivion?\\n\",\"Should I buy hp 17.3 AMD laptop or lenovo 17.3 i5 \",\"Which is better a government job or a software job\",\"How can the word \\\"credulity\\\" be used in a sentence\",\"Does uber track time on app?\\n\",\"How do I get over direct rejection?\\n\",\"How can any institute get an ISO certificate?\\n\",\"What are the best pranks?\\n\",\"Are non-solicit agreements enforceable if the pers\",\"Which phone is best in 2016 for a 18 years boy my \",\"What is the definition of an archetypal hero?\\n\",\"Why are some \\\"ugly\\\" people still very attractive?\\n\",\"What are the chances of Donald Trump's impeachment\",\"What would a society based on laws enforcing only \",\"What is the full form of \\\"veto\\\" power?\\n\",\"How much do people get paid to do a TED talk?\\n\",\"What does it mean to say \\\"enriching herself off of\",\"How can I be more persuasive at work?\\n\",\"What is the corporate culture like at National Bev\",\"What is the fastest way to get a PAN card?\\n\",\"Who will win in America presidential elections in \",\"How do I solve this differential problem?\\n\",\"How is Banjara's Saffron Facial Kit used?\\n\",\"How do you understand life?\\n\",\"Will an MS from NUS in electrical engineering prov\",\"How does one create a strong password? Any tips?\\n\",\"Who was the best dressed at the 2016 Emmy's?\\n\",\"What is the cost of manufacturing a SIM card?\\n\",\"Are you tolerant?\\n\",\"Is [math]\\\\{1,2,3\\\\}[/math] a compact subset of a me\",\"What kind of energy is involved in hearing and vis\",\"What happened with Lehman Brothers?\\n\",\"What is a good web page publisher?\\n\",\"Why does eating radishes cause diarrhea?\\n\",\"How do I encrypt the data on my Android phone?\\n\",\"If there were an Oscar for \\\"Best Line in a Movie\\\",\",\"Why are tyres black?\\n\",\"What is the best way to unlock a Motorola Droid Bi\",\"Is a $45 a month job worth the experience?\\n\",\"Should I settle in Canada or Japan?\\n\",\"How is the appraisal process in Accenture? How wil\",\"How does sand turn into glass?\\n\",\"What effect will increased automation of jobs and \",\"I am 25 years old Indian guy, want to settle in Ne\",\"What are some Raksha Bandhan gift suggestions for \",\"How do I write a multi-dimensional villain that is\",\"Why is there no nucleus in a red blood cell?\\n\",\"Why do Quora allow anonymous fake questions from A\",\"Is it possible to merge a foursquare venue into a \",\"How do I find out if I have Siri on my phone?\\n\",\"Why do I feel like I'm not living my life?\\n\",\"What will happen to global stock market if Donald \",\"What makes weeds grow so much faster and easier th\",\"Do people with extremely high IQ need higher sugar\",\"What should teaching assistants do?\\n\",\"Why is Perth one of the most liveable cities in th\",\"How do you get to the entrance for Resolution Cave\",\"How do I get involved in research as an undergradu\",\"If you have one option to remove anything, what wi\",\"What are the risk after angioplasty?\\n\",\"Why can't men read the signals women give off when\",\"How can a non-EU medical graduate get into residen\",\"How do I stay active?\\n\",\"I'm going to Paris. What is the equivalent \\\"neighb\",\"How do I get rid of dandruff, or at least prevent \",\"Is Medicaid going to pay for the electrologist for\",\"When Australia became a nation in 1901, Did aborig\",\"What is the difference between SSL and Sitelock?\\n\",\"What are some unsolved problems in deep machine le\",\"What's the difference between computer engineering\",\"Is it possible to get a decent job after completin\",\"What is the difference between MG & BG in railway \",\"How do I control an Arduino with a Raspberry Pi?\\n\",\"What is the best field to pursue MS after doing el\",\"What is the difference between Directx and graphic\",\"How do I wirelessly charge the electrical devices \",\"Can you upload Numbers sheets from iPad to Google \",\"What's the best movie franchise you have ever watc\",\"If light does not have mass, then how can it be ab\",\"Why is the book of Esther in the Bible?\\n\",\"What makes comic books worth reading?\\n\",\"What are the advantages of outsourcing property ma\",\"What is a Quora credit competition?\\n\",\"Are data analyst/data science jobs boring?\\n\",\"Why don't satellites crash into each other?\\n\",\"How do dermatologists remove blackheads?\\n\",\"How can I choose between my dad and my mom?\\n\",\"Can you really not change people?\\n\",\"Being a non believer of a spiritual entity, I have\",\"Is black coffee fattening? If so, what makes it fa\",\"The education system is outdated. What would you d\",\"Who are the founders of Quora?\\n\",\"What is it like to be a landlord?\\n\",\"How many stamps do I need to send a letter to germ\",\"My father just recently got married. His wife goes\",\"Which countries are best to migrate from the US?\\n\",\"Can any one tell me a basketball club in Bangalore\",\"How can Spotify download songs offline?\\n\",\"How do I make money online for free in Spain?\\n\",\"Why is Tornado Alley prone to tornadoes?\\n\",\"How does helium change the inhaler's voice?\\n\",\"What is a bedding ceremony in Game of Thrones?\\n\",\"What is it like living in former East Germany as a\",\"Did the USA or NATO commit any war crimes in Iraq?\",\"Why don't we capture terrorist and behead them?\\n\",\"What is your favorite quote (books, movies, people\",\"What mixes well with peach vodka?\\n\",\"Which Patanjali products contain cow urine?\\n\",\"Why are three phases denoted by RYB?\\n\",\"Where could I learn JavaScript online?\\n\",\"Is it appropriate to wear a sports bra simply to t\",\"What are the differences between Jenkins CI and Dr\",\"T right do you think we should be entitled to?\\n\",\"What was the public's reaction to Crystal Pepsi?\\n\",\"How can I crack MH-CET 2017 engineering by self-st\",\"What is the way to become a dental hygienist in th\",\"Why do solving math/statistics problems causes my \",\"Does your name sound as awkward to others as it so\",\"What is the proper format of writing formal-inform\",\"How does doc2vec represent feature vector of a doc\",\"Why are software development task estimations regu\",\"How can I set up molecular pathology lab?\\n\",\"How do I score a rank in CA - IPCC?\\n\",\"What are some examples of strong organic acids?\\n\",\"What can be a good hindi (indian) name for a tea b\",\"Is the Google host matching process different for \",\"Is Cuba considered part of Latin America?\\n\",\"Does the following script (\\u0256\\u2200\\u0f61\\u0632\\u2202 \\u0250\\u0167 \\u01ab\\u04bf\\u03de\\u026e\\u2609 \\u027d\\u03c6\\u0289\\u029b\\u0195), \",\"How can I increase my website's DA?\\n\",\"Is it normal to imagine having sex with other guy \",\"What is the percent purity (approx) of consumable \",\"Do soulmates just come walking into your life when\",\"If I use marijuana with my boyfriend, is there a p\",\"Can you analyze everything in soil?\\n\",\"What difference it would make if India Nuked and K\",\"What are the advantages of a dominant party system\",\"What were some things India did not do but takes c\",\"How many total women have accused Bill Clinton of \",\"Why do I wish some fictional characters existed?\\n\",\"Where can I find best hotel at Ranikhet?\\n\",\"How do I make good memes?\\n\",\"What are some of the common sayings or proverbs in\",\"What kind of writing style makes someone a \\\"dark w\",\"Are Trump and Hillary really the best America has \",\"How can I make my career in embedded system and ro\",\"Will adding a USB to VGA adapter always give an ex\",\"We will never be able to see our own faces with ou\",\"What are the ways you can stop a friend from pitch\",\"What is the average time for preparation of IAS?\\n\",\"How can I learn new things quickly?\\n\",\"What is the definition of political courage?\\n\",\"What makes death scary?\\n\",\"I'm really pretty but I don't want to be I hate th\",\"Is Assam Down Town University good?\\n\",\"How do the brain structures of bonobos change as t\",\"What's the biggest scam?\\n\",\"Does the US government have an alien flying saucer\",\"I need to gain weight, but I don't have abs. It's \",\"Why should I study Calculus?\\n\",\"Do you think your childhood contributed to your fi\",\"How does the Goods and Services Tax (GST) works?\\n\",\"Where can I download Cisco 500-285 exam dumps?\\n\",\"How do I can make a second nation in Cybernations \",\"Did Neil Armstrong really land on the moon?\\n\",\"Why is Devil any other than God head of state?\\n\",\"How do I stop being possessive over my girlfriend?\",\"How does Kongregate compute the statistics of adve\",\"Who is the best nuero physician at NIMHANS, Bangal\",\"What are nonprofit organizations?\\n\",\"I want to know the process of starting outbound ca\",\"Which are some of the best hotels to stay in Helsi\",\"What is good about Deloitte Chicago?\\n\",\"How do I recover data from a formatted hard drive?\",\"Could India and Pakistan unite again?\\n\",\"How often should I massage my face with Argan oil?\",\"How is psychodynamic therapy different from psycho\",\"What are some of Barack Obama's character traits?\\n\",\"Would it make sense to replace the B-52's 8 1960s \",\"Is it possible to bring forward my flight date of \",\"How can I learn marathons?\\n\"],\"x\":{\"__ndarray__\":\"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\",\"dtype\":\"float32\",\"order\":\"little\",\"shape\":[1001]},\"y\":{\"__ndarray__\":\"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\",\"dtype\":\"float32\",\"order\":\"little\",\"shape\":[1001]}},\"selected\":{\"id\":\"1871\"},\"selection_policy\":{\"id\":\"1872\"}},\"id\":\"1772\",\"type\":\"ColumnDataSource\"},{\"attributes\":{},\"id\":\"1776\",\"type\":\"DataRange1d\"},{\"attributes\":{},\"id\":\"1774\",\"type\":\"DataRange1d\"},{\"attributes\":{},\"id\":\"1791\",\"type\":\"WheelZoomTool\"},{\"attributes\":{\"fill_alpha\":{\"value\":0.25},\"fill_color\":{\"field\":\"color\"},\"line_alpha\":{\"value\":0.25},\"line_color\":{\"field\":\"color\"},\"size\":{\"units\":\"screen\",\"value\":20},\"x\":{\"field\":\"x\"},\"y\":{\"field\":\"y\"}},\"id\":\"1805\",\"type\":\"Scatter\"},{\"attributes\":{},\"id\":\"1787\",\"type\":\"BasicTicker\"},{\"attributes\":{},\"id\":\"1793\",\"type\":\"SaveTool\"},{\"attributes\":{},\"id\":\"1794\",\"type\":\"ResetTool\"},{\"attributes\":{},\"id\":\"1872\",\"type\":\"UnionRenderers\"},{\"attributes\":{},\"id\":\"1783\",\"type\":\"BasicTicker\"},{\"attributes\":{\"data_source\":{\"id\":\"1772\"},\"glyph\":{\"id\":\"1805\"},\"hover_glyph\":null,\"muted_glyph\":null,\"nonselection_glyph\":{\"id\":\"1806\"},\"selection_glyph\":null,\"view\":{\"id\":\"1808\"}},\"id\":\"1807\",\"type\":\"GlyphRenderer\"},{\"attributes\":{},\"id\":\"1869\",\"type\":\"BasicTickFormatter\"},{\"attributes\":{\"overlay\":{\"id\":\"1796\"}},\"id\":\"1792\",\"type\":\"BoxZoomTool\"},{\"attributes\":{\"axis\":{\"id\":\"1786\"},\"dimension\":1,\"ticker\":null},\"id\":\"1789\",\"type\":\"Grid\"},{\"attributes\":{\"text\":\"\"},\"id\":\"1865\",\"type\":\"Title\"},{\"attributes\":{},\"id\":\"1867\",\"type\":\"BasicTickFormatter\"},{\"attributes\":{},\"id\":\"1790\",\"type\":\"PanTool\"},{\"attributes\":{},\"id\":\"1795\",\"type\":\"HelpTool\"},{\"attributes\":{\"fill_alpha\":{\"value\":0.1},\"fill_color\":{\"field\":\"color\"},\"line_alpha\":{\"value\":0.1},\"line_color\":{\"field\":\"color\"},\"size\":{\"units\":\"screen\",\"value\":20},\"x\":{\"field\":\"x\"},\"y\":{\"field\":\"y\"}},\"id\":\"1806\",\"type\":\"Scatter\"},{\"attributes\":{\"formatter\":{\"id\":\"1869\"},\"ticker\":{\"id\":\"1787\"}},\"id\":\"1786\",\"type\":\"LinearAxis\"},{\"attributes\":{\"active_drag\":\"auto\",\"active_inspect\":\"auto\",\"active_multi\":null,\"active_scroll\":{\"id\":\"1791\"},\"active_tap\":\"auto\",\"tools\":[{\"id\":\"1790\"},{\"id\":\"1791\"},{\"id\":\"1792\"},{\"id\":\"1793\"},{\"id\":\"1794\"},{\"id\":\"1795\"},{\"id\":\"1809\"}]},\"id\":\"1797\",\"type\":\"Toolbar\"}],\"root_ids\":[\"1773\"]},\"title\":\"Bokeh Application\",\"version\":\"2.1.1\"}};\n",
              "  var render_items = [{\"docid\":\"34100ed2-4755-47db-b0f7-17125d78cbd0\",\"root_ids\":[\"1773\"],\"roots\":{\"1773\":\"c5a2620e-ef37-4b9d-8657-7d8bb7191af7\"}}];\n",
              "  root.Bokeh.embed.embed_items_notebook(docs_json, render_items);\n",
              "\n",
              "  }\n",
              "  if (root.Bokeh !== undefined) {\n",
              "    embed_document(root);\n",
              "  } else {\n",
              "    var attempts = 0;\n",
              "    var timer = setInterval(function(root) {\n",
              "      if (root.Bokeh !== undefined) {\n",
              "        clearInterval(timer);\n",
              "        embed_document(root);\n",
              "      } else {\n",
              "        attempts++;\n",
              "        if (attempts > 100) {\n",
              "          clearInterval(timer);\n",
              "          console.log(\"Bokeh: ERROR: Unable to run BokehJS code because BokehJS library is missing\");\n",
              "        }\n",
              "      }\n",
              "    }, 10, root)\n",
              "  }\n",
              "})(window);"
            ],
            "application/vnd.bokehjs_exec.v0+json": ""
          },
          "metadata": {
            "tags": [],
            "application/vnd.bokehjs_exec.v0+json": {
              "id": "1773"
            }
          }
        },
        {
          "output_type": "execute_result",
          "data": {
            "text/html": [
              "<div style=\"display: table;\"><div style=\"display: table-row;\"><div style=\"display: table-cell;\"><b title=\"bokeh.plotting.figure.Figure\">Figure</b>(</div><div style=\"display: table-cell;\">id&nbsp;=&nbsp;'1773', <span id=\"1929\" style=\"cursor: pointer;\">&hellip;)</span></div></div><div class=\"1928\" style=\"display: none;\"><div style=\"display: table-cell;\"></div><div style=\"display: table-cell;\">above&nbsp;=&nbsp;[],</div></div><div class=\"1928\" style=\"display: none;\"><div style=\"display: table-cell;\"></div><div style=\"display: table-cell;\">align&nbsp;=&nbsp;'start',</div></div><div class=\"1928\" style=\"display: none;\"><div style=\"display: table-cell;\"></div><div style=\"display: table-cell;\">aspect_ratio&nbsp;=&nbsp;None,</div></div><div class=\"1928\" style=\"display: none;\"><div style=\"display: table-cell;\"></div><div style=\"display: table-cell;\">aspect_scale&nbsp;=&nbsp;1,</div></div><div class=\"1928\" style=\"display: none;\"><div style=\"display: table-cell;\"></div><div style=\"display: table-cell;\">background&nbsp;=&nbsp;None,</div></div><div class=\"1928\" style=\"display: none;\"><div style=\"display: table-cell;\"></div><div style=\"display: table-cell;\">background_fill_alpha&nbsp;=&nbsp;1.0,</div></div><div class=\"1928\" style=\"display: none;\"><div style=\"display: table-cell;\"></div><div style=\"display: table-cell;\">background_fill_color&nbsp;=&nbsp;'#ffffff',</div></div><div class=\"1928\" style=\"display: none;\"><div style=\"display: table-cell;\"></div><div style=\"display: table-cell;\">below&nbsp;=&nbsp;[LinearAxis(id='1782', ...)],</div></div><div class=\"1928\" style=\"display: none;\"><div style=\"display: table-cell;\"></div><div style=\"display: table-cell;\">border_fill_alpha&nbsp;=&nbsp;1.0,</div></div><div class=\"1928\" style=\"display: none;\"><div style=\"display: table-cell;\"></div><div style=\"display: table-cell;\">border_fill_color&nbsp;=&nbsp;'#ffffff',</div></div><div class=\"1928\" style=\"display: none;\"><div style=\"display: table-cell;\"></div><div style=\"display: table-cell;\">center&nbsp;=&nbsp;[Grid(id='1785', ...), Grid(id='1789', ...)],</div></div><div class=\"1928\" style=\"display: none;\"><div style=\"display: table-cell;\"></div><div style=\"display: table-cell;\">css_classes&nbsp;=&nbsp;[],</div></div><div class=\"1928\" style=\"display: none;\"><div style=\"display: table-cell;\"></div><div style=\"display: table-cell;\">disabled&nbsp;=&nbsp;False,</div></div><div class=\"1928\" style=\"display: none;\"><div style=\"display: table-cell;\"></div><div style=\"display: table-cell;\">extra_x_ranges&nbsp;=&nbsp;{},</div></div><div class=\"1928\" style=\"display: none;\"><div style=\"display: table-cell;\"></div><div style=\"display: table-cell;\">extra_y_ranges&nbsp;=&nbsp;{},</div></div><div class=\"1928\" style=\"display: none;\"><div style=\"display: table-cell;\"></div><div style=\"display: table-cell;\">frame_height&nbsp;=&nbsp;None,</div></div><div class=\"1928\" style=\"display: none;\"><div style=\"display: table-cell;\"></div><div style=\"display: table-cell;\">frame_width&nbsp;=&nbsp;None,</div></div><div class=\"1928\" style=\"display: none;\"><div style=\"display: table-cell;\"></div><div style=\"display: table-cell;\">height&nbsp;=&nbsp;None,</div></div><div class=\"1928\" style=\"display: none;\"><div style=\"display: table-cell;\"></div><div style=\"display: table-cell;\">height_policy&nbsp;=&nbsp;'auto',</div></div><div class=\"1928\" style=\"display: none;\"><div style=\"display: table-cell;\"></div><div style=\"display: table-cell;\">hidpi&nbsp;=&nbsp;True,</div></div><div class=\"1928\" style=\"display: none;\"><div style=\"display: table-cell;\"></div><div style=\"display: table-cell;\">js_event_callbacks&nbsp;=&nbsp;{},</div></div><div class=\"1928\" style=\"display: none;\"><div style=\"display: table-cell;\"></div><div style=\"display: table-cell;\">js_property_callbacks&nbsp;=&nbsp;{},</div></div><div class=\"1928\" style=\"display: none;\"><div style=\"display: table-cell;\"></div><div style=\"display: table-cell;\">left&nbsp;=&nbsp;[LinearAxis(id='1786', ...)],</div></div><div class=\"1928\" style=\"display: none;\"><div style=\"display: table-cell;\"></div><div style=\"display: table-cell;\">lod_factor&nbsp;=&nbsp;10,</div></div><div class=\"1928\" style=\"display: none;\"><div style=\"display: table-cell;\"></div><div style=\"display: table-cell;\">lod_interval&nbsp;=&nbsp;300,</div></div><div class=\"1928\" style=\"display: none;\"><div style=\"display: table-cell;\"></div><div style=\"display: table-cell;\">lod_threshold&nbsp;=&nbsp;2000,</div></div><div class=\"1928\" style=\"display: none;\"><div style=\"display: table-cell;\"></div><div style=\"display: table-cell;\">lod_timeout&nbsp;=&nbsp;500,</div></div><div class=\"1928\" style=\"display: none;\"><div style=\"display: table-cell;\"></div><div style=\"display: table-cell;\">margin&nbsp;=&nbsp;(0, 0, 0, 0),</div></div><div class=\"1928\" style=\"display: none;\"><div style=\"display: table-cell;\"></div><div style=\"display: table-cell;\">match_aspect&nbsp;=&nbsp;False,</div></div><div class=\"1928\" style=\"display: none;\"><div style=\"display: table-cell;\"></div><div style=\"display: table-cell;\">max_height&nbsp;=&nbsp;None,</div></div><div class=\"1928\" style=\"display: none;\"><div style=\"display: table-cell;\"></div><div style=\"display: table-cell;\">max_width&nbsp;=&nbsp;None,</div></div><div class=\"1928\" style=\"display: none;\"><div style=\"display: table-cell;\"></div><div style=\"display: table-cell;\">min_border&nbsp;=&nbsp;5,</div></div><div class=\"1928\" style=\"display: none;\"><div style=\"display: table-cell;\"></div><div style=\"display: table-cell;\">min_border_bottom&nbsp;=&nbsp;None,</div></div><div class=\"1928\" style=\"display: none;\"><div style=\"display: table-cell;\"></div><div style=\"display: table-cell;\">min_border_left&nbsp;=&nbsp;None,</div></div><div class=\"1928\" style=\"display: none;\"><div style=\"display: table-cell;\"></div><div style=\"display: table-cell;\">min_border_right&nbsp;=&nbsp;None,</div></div><div class=\"1928\" style=\"display: none;\"><div style=\"display: table-cell;\"></div><div style=\"display: table-cell;\">min_border_top&nbsp;=&nbsp;None,</div></div><div class=\"1928\" style=\"display: none;\"><div style=\"display: table-cell;\"></div><div style=\"display: table-cell;\">min_height&nbsp;=&nbsp;None,</div></div><div class=\"1928\" style=\"display: none;\"><div style=\"display: table-cell;\"></div><div style=\"display: table-cell;\">min_width&nbsp;=&nbsp;None,</div></div><div class=\"1928\" style=\"display: none;\"><div style=\"display: table-cell;\"></div><div style=\"display: table-cell;\">name&nbsp;=&nbsp;None,</div></div><div class=\"1928\" style=\"display: none;\"><div style=\"display: table-cell;\"></div><div style=\"display: table-cell;\">outline_line_alpha&nbsp;=&nbsp;1.0,</div></div><div class=\"1928\" style=\"display: none;\"><div style=\"display: table-cell;\"></div><div style=\"display: table-cell;\">outline_line_cap&nbsp;=&nbsp;'butt',</div></div><div class=\"1928\" style=\"display: none;\"><div style=\"display: table-cell;\"></div><div style=\"display: table-cell;\">outline_line_color&nbsp;=&nbsp;'#e5e5e5',</div></div><div class=\"1928\" style=\"display: none;\"><div style=\"display: table-cell;\"></div><div style=\"display: table-cell;\">outline_line_dash&nbsp;=&nbsp;[],</div></div><div class=\"1928\" style=\"display: none;\"><div style=\"display: table-cell;\"></div><div style=\"display: table-cell;\">outline_line_dash_offset&nbsp;=&nbsp;0,</div></div><div class=\"1928\" style=\"display: none;\"><div style=\"display: table-cell;\"></div><div style=\"display: table-cell;\">outline_line_join&nbsp;=&nbsp;'bevel',</div></div><div class=\"1928\" style=\"display: none;\"><div style=\"display: table-cell;\"></div><div style=\"display: table-cell;\">outline_line_width&nbsp;=&nbsp;1,</div></div><div class=\"1928\" style=\"display: none;\"><div style=\"display: table-cell;\"></div><div style=\"display: table-cell;\">output_backend&nbsp;=&nbsp;'canvas',</div></div><div class=\"1928\" style=\"display: none;\"><div style=\"display: table-cell;\"></div><div style=\"display: table-cell;\">plot_height&nbsp;=&nbsp;400,</div></div><div class=\"1928\" style=\"display: none;\"><div style=\"display: table-cell;\"></div><div style=\"display: table-cell;\">plot_width&nbsp;=&nbsp;600,</div></div><div class=\"1928\" style=\"display: none;\"><div style=\"display: table-cell;\"></div><div style=\"display: table-cell;\">renderers&nbsp;=&nbsp;[GlyphRenderer(id='1807', ...)],</div></div><div class=\"1928\" style=\"display: none;\"><div style=\"display: table-cell;\"></div><div style=\"display: table-cell;\">reset_policy&nbsp;=&nbsp;'standard',</div></div><div class=\"1928\" style=\"display: none;\"><div style=\"display: table-cell;\"></div><div style=\"display: table-cell;\">right&nbsp;=&nbsp;[],</div></div><div class=\"1928\" style=\"display: none;\"><div style=\"display: table-cell;\"></div><div style=\"display: table-cell;\">sizing_mode&nbsp;=&nbsp;None,</div></div><div class=\"1928\" style=\"display: none;\"><div style=\"display: table-cell;\"></div><div style=\"display: table-cell;\">subscribed_events&nbsp;=&nbsp;[],</div></div><div class=\"1928\" style=\"display: none;\"><div style=\"display: table-cell;\"></div><div style=\"display: table-cell;\">tags&nbsp;=&nbsp;[],</div></div><div class=\"1928\" style=\"display: none;\"><div style=\"display: table-cell;\"></div><div style=\"display: table-cell;\">title&nbsp;=&nbsp;Title(id='1865', ...),</div></div><div class=\"1928\" style=\"display: none;\"><div style=\"display: table-cell;\"></div><div style=\"display: table-cell;\">title_location&nbsp;=&nbsp;'above',</div></div><div class=\"1928\" style=\"display: none;\"><div style=\"display: table-cell;\"></div><div style=\"display: table-cell;\">toolbar&nbsp;=&nbsp;Toolbar(id='1797', ...),</div></div><div class=\"1928\" style=\"display: none;\"><div style=\"display: table-cell;\"></div><div style=\"display: table-cell;\">toolbar_location&nbsp;=&nbsp;'right',</div></div><div class=\"1928\" style=\"display: none;\"><div style=\"display: table-cell;\"></div><div style=\"display: table-cell;\">toolbar_sticky&nbsp;=&nbsp;True,</div></div><div class=\"1928\" style=\"display: none;\"><div style=\"display: table-cell;\"></div><div style=\"display: table-cell;\">visible&nbsp;=&nbsp;True,</div></div><div class=\"1928\" style=\"display: none;\"><div style=\"display: table-cell;\"></div><div style=\"display: table-cell;\">width&nbsp;=&nbsp;None,</div></div><div class=\"1928\" style=\"display: none;\"><div style=\"display: table-cell;\"></div><div style=\"display: table-cell;\">width_policy&nbsp;=&nbsp;'auto',</div></div><div class=\"1928\" style=\"display: none;\"><div style=\"display: table-cell;\"></div><div style=\"display: table-cell;\">x_range&nbsp;=&nbsp;DataRange1d(id='1774', ...),</div></div><div class=\"1928\" style=\"display: none;\"><div style=\"display: table-cell;\"></div><div style=\"display: table-cell;\">x_scale&nbsp;=&nbsp;LinearScale(id='1778', ...),</div></div><div class=\"1928\" style=\"display: none;\"><div style=\"display: table-cell;\"></div><div style=\"display: table-cell;\">y_range&nbsp;=&nbsp;DataRange1d(id='1776', ...),</div></div><div class=\"1928\" style=\"display: none;\"><div style=\"display: table-cell;\"></div><div style=\"display: table-cell;\">y_scale&nbsp;=&nbsp;LinearScale(id='1780', ...))</div></div></div>\n",
              "<script>\n",
              "(function() {\n",
              "  var expanded = false;\n",
              "  var ellipsis = document.getElementById(\"1929\");\n",
              "  ellipsis.addEventListener(\"click\", function() {\n",
              "    var rows = document.getElementsByClassName(\"1928\");\n",
              "    for (var i = 0; i < rows.length; i++) {\n",
              "      var el = rows[i];\n",
              "      el.style.display = expanded ? \"none\" : \"table-row\";\n",
              "    }\n",
              "    ellipsis.innerHTML = expanded ? \"&hellip;)\" : \"&lsaquo;&lsaquo;&lsaquo;\";\n",
              "    expanded = !expanded;\n",
              "  });\n",
              "})();\n",
              "</script>\n"
            ],
            "text/plain": [
              "Figure(id='1773', ...)"
            ]
          },
          "metadata": {
            "tags": []
          },
          "execution_count": 55
        }
      ]
    },
    {
      "cell_type": "markdown",
      "metadata": {
        "id": "rFAKwEfrb8Zk",
        "colab_type": "text"
      },
      "source": [
        "### Other embeddings in the model zoo"
      ]
    },
    {
      "cell_type": "code",
      "metadata": {
        "id": "0-qxutfNcHPw",
        "colab_type": "code",
        "colab": {}
      },
      "source": [
        "import gensim.downloader as gensim_downloader\n",
        "\n",
        "\n",
        "# gensim_downloader.info()"
      ],
      "execution_count": 56,
      "outputs": []
    },
    {
      "cell_type": "markdown",
      "metadata": {
        "id": "yw9CCAlic2Z3",
        "colab_type": "text"
      },
      "source": [
        "### Optimizing find_nearest with locality-sensetive hashing"
      ]
    },
    {
      "cell_type": "code",
      "metadata": {
        "id": "mluxV7Jsc14B",
        "colab_type": "code",
        "colab": {}
      },
      "source": [
        "from sklearn.neighbors import NearestNeighbors\n",
        "\n",
        "\n",
        "def find_nearest_opt(query, k=10):\n",
        "    query_vector = get_phrase_embedding(query)\n",
        "    nbrs = NearestNeighbors(n_neighbors=k, algorithm='ball_tree').fit(data_vectors)\n",
        "\n",
        "    distances, indices = nbrs.kneighbors([query_vector])\n",
        "\n",
        "    out = [data[i] for i in indices[0][::-1]]\n",
        "    return out"
      ],
      "execution_count": 57,
      "outputs": []
    },
    {
      "cell_type": "code",
      "metadata": {
        "id": "g5DfWygmdXsR",
        "colab_type": "code",
        "colab": {
          "base_uri": "https://localhost:8080/",
          "height": 187
        },
        "outputId": "e28548d7-435d-44a5-a196-4a9b9aef004e"
      },
      "source": [
        "find_nearest_opt(query=\"How does Trump?\", k=10)"
      ],
      "execution_count": 58,
      "outputs": [
        {
          "output_type": "execute_result",
          "data": {
            "text/plain": [
              "['Who or what is Donald Trump, really?\\n',\n",
              " 'What do you think about Donald Trump and Hillary Clinton?\\n',\n",
              " 'What do you think Melania Trump really thinks of Donald?\\n',\n",
              " 'Does the common American actually agree with Donald trump ? And why?\\n',\n",
              " 'What does India think of Donald Trump?\\n',\n",
              " 'What does Donald Trump think of India?\\n',\n",
              " 'Does anyone like Trump and Clinton?\\n',\n",
              " 'What does Cortana mean?\\n',\n",
              " 'What does Donald Trump think about Pakistan?\\n',\n",
              " 'What does Donald Trump think about Israel?\\n']"
            ]
          },
          "metadata": {
            "tags": []
          },
          "execution_count": 58
        }
      ]
    },
    {
      "cell_type": "code",
      "metadata": {
        "id": "_lS5nmTvio_d",
        "colab_type": "code",
        "colab": {
          "base_uri": "https://localhost:8080/",
          "height": 187
        },
        "outputId": "497c198d-5421-4d89-971e-707d9e2044a5"
      },
      "source": [
        "find_nearest_opt(query=\"Why don't i ask a question myself?\", k=10)"
      ],
      "execution_count": 59,
      "outputs": [
        {
          "output_type": "execute_result",
          "data": {
            "text/plain": [
              "[\"Why don't I have a girlfriend?\\n\",\n",
              " \"Why don't I get a girlfriend?\\n\",\n",
              " \"Why can't I ask a question anonymously?\\n\",\n",
              " \"Why don't you own a gun?\\n\",\n",
              " \"Why don't you use Facebook much?\\n\",\n",
              " \"Why don't I like people touching me?\\n\",\n",
              " \"Why she don't interact with me?\\n\",\n",
              " \"Why don't I get a date?\\n\",\n",
              " \"Why don't people appreciate me?\\n\",\n",
              " \"Why don't my parents listen to me?\\n\"]"
            ]
          },
          "metadata": {
            "tags": []
          },
          "execution_count": 59
        }
      ]
    },
    {
      "cell_type": "markdown",
      "metadata": {
        "colab_type": "text",
        "id": "8ARDxde0plpO"
      },
      "source": [
        "__Now what?__\n",
        "* Try running TSNE instead of UMAP (it takes a long time)\n",
        "* Try running UMAP or TSNEon all data, not just 1000 phrases\n",
        "* See what other embeddings are there in the model zoo: `gensim.downloader.info()`\n",
        "* Take a look at [FastText](https://github.com/facebookresearch/fastText) embeddings\n",
        "* Optimize find_nearest with locality-sensitive hashing: use [nearpy](https://github.com/pixelogik/NearPy) or `sklearn.neighbors`.\n",
        "\n",
        "\n"
      ]
    },
    {
      "cell_type": "markdown",
      "metadata": {
        "colab_type": "text",
        "id": "-ejeD9ZoplpP"
      },
      "source": [
        "### Extra: your own word2vec"
      ]
    },
    {
      "cell_type": "code",
      "metadata": {
        "colab_type": "code",
        "id": "ggBs5BeBplpQ",
        "colab": {}
      },
      "source": [
        "import torch\n",
        "import torch.nn as  nn\n",
        "import torch.autograd  as autograd\n",
        "import torch.optim as optim\n",
        "import torch.nn.functional as F\n",
        "from torch.optim.lr_scheduler import StepLR, ReduceLROnPlateau"
      ],
      "execution_count": 60,
      "outputs": []
    },
    {
      "cell_type": "code",
      "metadata": {
        "colab_type": "code",
        "id": "nn3plcVtplpT",
        "colab": {}
      },
      "source": [
        "vocabulary = set(itertools.chain.from_iterable(data_tok))\n",
        "\n",
        "word_to_index = {val: key for key, val in enumerate(vocabulary)}\n",
        "index_to_word = {key: val for key, val in enumerate(vocabulary)}\n",
        "word_counter = {word: 0 for word in word_to_index.keys()}"
      ],
      "execution_count": 61,
      "outputs": []
    },
    {
      "cell_type": "markdown",
      "metadata": {
        "colab_type": "text",
        "id": "uV7zvkGrplpW"
      },
      "source": [
        "Generating context pairs:"
      ]
    },
    {
      "cell_type": "code",
      "metadata": {
        "colab_type": "code",
        "id": "nBI3PZgcplpX",
        "colab": {
          "base_uri": "https://localhost:8080/",
          "height": 34
        },
        "outputId": "50177991-75c8-4a43-b802-826a542041ba"
      },
      "source": [
        "context_tuple_list = []\n",
        "w = 4\n",
        "\n",
        "for text in data_tok:\n",
        "    for i, word in enumerate(text):\n",
        "        first_context_word_index = max(0,i-w)\n",
        "        last_context_word_index = min(i+w, len(text))\n",
        "        for j in range(first_context_word_index, last_context_word_index):\n",
        "            if i!=j:\n",
        "                context_tuple_list.append((word_to_index[word], word_to_index[text[j]]))\n",
        "                word_counter[word] += 1.\n",
        "print(\"There are {} pairs of target and context words\".format(len(context_tuple_list)))"
      ],
      "execution_count": 62,
      "outputs": [
        {
          "output_type": "stream",
          "text": [
            "There are 41323344 pairs of target and context words\n"
          ],
          "name": "stdout"
        }
      ]
    },
    {
      "cell_type": "markdown",
      "metadata": {
        "colab_type": "text",
        "id": "1eB-g7rYplpa"
      },
      "source": [
        "Casting everything to `torch.LongTensor`"
      ]
    },
    {
      "cell_type": "code",
      "metadata": {
        "id": "SOuMmLuaoqOK",
        "colab_type": "code",
        "colab": {
          "base_uri": "https://localhost:8080/",
          "height": 34
        },
        "outputId": "433a8908-7bdc-4df2-8222-adcac72e3b36"
      },
      "source": [
        "len(word_to_index)"
      ],
      "execution_count": 63,
      "outputs": [
        {
          "output_type": "execute_result",
          "data": {
            "text/plain": [
              "87819"
            ]
          },
          "metadata": {
            "tags": []
          },
          "execution_count": 63
        }
      ]
    },
    {
      "cell_type": "code",
      "metadata": {
        "colab_type": "code",
        "id": "hOPKozW0plpa",
        "colab": {}
      },
      "source": [
        "data_torch = torch.tensor(context_tuple_list).type(torch.LongTensor)\n",
        "X_torch = data_torch[:, 0]\n",
        "y_torch = data_torch[:, 1]\n",
        "del data_torch"
      ],
      "execution_count": 64,
      "outputs": []
    },
    {
      "cell_type": "code",
      "metadata": {
        "colab_type": "code",
        "id": "a8-svBX4plpf",
        "colab": {}
      },
      "source": [
        "class Word2VecModel(nn.Module):\n",
        "\n",
        "    def __init__(self, embedding_size, vocab_size):\n",
        "        super(Word2VecModel, self).__init__()\n",
        "        self.embeddings = nn.Embedding(vocab_size, embedding_size)\n",
        "        self.linear = nn.Linear(embedding_size, vocab_size)\n",
        "        \n",
        "    def forward(self, context_word):\n",
        "        emb = self.embeddings(context_word)\n",
        "        hidden = self.linear(emb)\n",
        "        out = F.log_softmax(hidden)\n",
        "        return out"
      ],
      "execution_count": 209,
      "outputs": []
    },
    {
      "cell_type": "code",
      "metadata": {
        "colab_type": "code",
        "id": "OUDuC3iPplpl",
        "colab": {}
      },
      "source": [
        "device = torch.device('cuda:0') if torch.cuda.is_available() else torch.device('cpu')"
      ],
      "execution_count": 210,
      "outputs": []
    },
    {
      "cell_type": "code",
      "metadata": {
        "colab_type": "code",
        "id": "knLUPLsTplpr",
        "colab": {}
      },
      "source": [
        "model = Word2VecModel(25, len(word_to_index)).to(device)"
      ],
      "execution_count": 211,
      "outputs": []
    },
    {
      "cell_type": "code",
      "metadata": {
        "colab_type": "code",
        "id": "L-qlXMuJplpv",
        "colab": {}
      },
      "source": [
        "loss_func = nn.CrossEntropyLoss()\n",
        "opt = torch.optim.Adam(model.parameters(), lr=0.01)\n",
        "# To reduce learning rate on plateau of the loss functions\n",
        "lr_scheduler = ReduceLROnPlateau(opt, patience=35)"
      ],
      "execution_count": 212,
      "outputs": []
    },
    {
      "cell_type": "code",
      "metadata": {
        "id": "wnpiiLdkKMaC",
        "colab_type": "code",
        "colab": {
          "base_uri": "https://localhost:8080/",
          "height": 170
        },
        "outputId": "66f0e61f-85fe-4859-c45a-74142631ca4f"
      },
      "source": [
        "model(X_torch[:6].to(device))"
      ],
      "execution_count": 213,
      "outputs": [
        {
          "output_type": "stream",
          "text": [
            "/usr/local/lib/python3.6/dist-packages/ipykernel_launcher.py:11: UserWarning: Implicit dimension choice for log_softmax has been deprecated. Change the call to include dim=X as an argument.\n",
            "  # This is added back by InteractiveShellApp.init_path()\n"
          ],
          "name": "stderr"
        },
        {
          "output_type": "execute_result",
          "data": {
            "text/plain": [
              "tensor([[-11.5048, -12.0177, -10.8020,  ..., -11.9834, -11.4880, -12.2101],\n",
              "        [-11.5048, -12.0177, -10.8020,  ..., -11.9834, -11.4880, -12.2101],\n",
              "        [-11.5048, -12.0177, -10.8020,  ..., -11.9834, -11.4880, -12.2101],\n",
              "        [-11.5270, -11.3632, -11.6043,  ..., -12.2446, -11.2684, -11.4586],\n",
              "        [-11.5270, -11.3632, -11.6043,  ..., -12.2446, -11.2684, -11.4586],\n",
              "        [-11.5270, -11.3632, -11.6043,  ..., -12.2446, -11.2684, -11.4586]],\n",
              "       grad_fn=<LogSoftmaxBackward>)"
            ]
          },
          "metadata": {
            "tags": []
          },
          "execution_count": 213
        }
      ]
    },
    {
      "cell_type": "code",
      "metadata": {
        "colab_type": "code",
        "id": "AZYin4Akplp0",
        "colab": {
          "base_uri": "https://localhost:8080/",
          "height": 68
        },
        "outputId": "1ebc1cf1-e550-4ee9-cf77-98e5828cd2b8"
      },
      "source": [
        "loss_func(model(X_torch[:6].to(device)), y_torch[:6].to(device))"
      ],
      "execution_count": 214,
      "outputs": [
        {
          "output_type": "stream",
          "text": [
            "/usr/local/lib/python3.6/dist-packages/ipykernel_launcher.py:11: UserWarning: Implicit dimension choice for log_softmax has been deprecated. Change the call to include dim=X as an argument.\n",
            "  # This is added back by InteractiveShellApp.init_path()\n"
          ],
          "name": "stderr"
        },
        {
          "output_type": "execute_result",
          "data": {
            "text/plain": [
              "tensor(11.7090, grad_fn=<NllLossBackward>)"
            ]
          },
          "metadata": {
            "tags": []
          },
          "execution_count": 214
        }
      ]
    },
    {
      "cell_type": "code",
      "metadata": {
        "colab_type": "code",
        "id": "Bn7KKEkIplp3",
        "colab": {}
      },
      "source": [
        "batch_size = 1024\n",
        "n_iterations = 1000\n",
        "local_train_loss_history = []"
      ],
      "execution_count": 215,
      "outputs": []
    },
    {
      "cell_type": "code",
      "metadata": {
        "colab_type": "code",
        "id": "dl7aRvI-plp6",
        "colab": {}
      },
      "source": [
        "def plot_train_process(train_loss):\n",
        "    fig, axes = plt.subplots(1, 1, figsize=(15, 5))\n",
        "\n",
        "    axes.set_title('Loss')\n",
        "    axes.plot(train_loss, label='train')\n",
        "    axes.legend()\n",
        "    plt.show()"
      ],
      "execution_count": 216,
      "outputs": []
    },
    {
      "cell_type": "code",
      "metadata": {
        "colab_type": "code",
        "id": "ueQ2Pq8YplqB",
        "colab": {
          "base_uri": "https://localhost:8080/",
          "height": 694
        },
        "outputId": "046476b8-decb-466d-d1da-0bc8b389f2e5"
      },
      "source": [
        "for i in range(n_iterations):\n",
        "\n",
        "    ix = np.random.randint(0, len(context_tuple_list), batch_size)\n",
        "    x_batch = X_torch[ix].to(device)\n",
        "    y_batch = y_torch[ix].to(device)\n",
        "\n",
        "    # predict log-probabilities or logits\n",
        "    log_probs = model(x_batch)\n",
        "    \n",
        "    # compute loss, just like before\n",
        "    loss = loss_func(log_probs, y_batch)\n",
        "\n",
        "    # compute gradients\n",
        "    loss.backward()\n",
        "\n",
        "    # Adam step\n",
        "    opt.step()\n",
        "\n",
        "    # clear gradients\n",
        "    model.zero_grad()\n",
        "\n",
        "    local_train_loss_history.append(loss.item())\n",
        "    lr_scheduler.step(local_train_loss_history[-1])\n",
        "    \n",
        "    if i % 100 == 0:\n",
        "        clear_output(True)\n",
        "        plot_train_process(local_train_loss_history)"
      ],
      "execution_count": 219,
      "outputs": [
        {
          "output_type": "display_data",
          "data": {
            "image/png": "[encoded data removed]",
            "text/plain": [
              "<Figure size 1080x360 with 1 Axes>"
            ]
          },
          "metadata": {
            "tags": [],
            "needs_background": "light"
          }
        },
        {
          "output_type": "error",
          "ename": "KeyboardInterrupt",
          "evalue": "ignored",
          "traceback": [
            "\u001b[0;31m---------------------------------------------------------------------------\u001b[0m",
            "\u001b[0;31mKeyboardInterrupt\u001b[0m                         Traceback (most recent call last)",
            "\u001b[0;32m<ipython-input-219-9b3bc48c4eea>\u001b[0m in \u001b[0;36m<module>\u001b[0;34m()\u001b[0m\n\u001b[1;32m      6\u001b[0m \u001b[0;34m\u001b[0m\u001b[0m\n\u001b[1;32m      7\u001b[0m     \u001b[0;31m# predict log-probabilities or logits\u001b[0m\u001b[0;34m\u001b[0m\u001b[0;34m\u001b[0m\u001b[0;34m\u001b[0m\u001b[0m\n\u001b[0;32m----> 8\u001b[0;31m     \u001b[0mlog_probs\u001b[0m \u001b[0;34m=\u001b[0m \u001b[0mmodel\u001b[0m\u001b[0;34m(\u001b[0m\u001b[0mx_batch\u001b[0m\u001b[0;34m)\u001b[0m\u001b[0;34m\u001b[0m\u001b[0;34m\u001b[0m\u001b[0m\n\u001b[0m\u001b[1;32m      9\u001b[0m \u001b[0;34m\u001b[0m\u001b[0m\n\u001b[1;32m     10\u001b[0m     \u001b[0;31m# compute loss, just like before\u001b[0m\u001b[0;34m\u001b[0m\u001b[0;34m\u001b[0m\u001b[0;34m\u001b[0m\u001b[0m\n",
            "\u001b[0;32m/usr/local/lib/python3.6/dist-packages/torch/nn/modules/module.py\u001b[0m in \u001b[0;36m_call_impl\u001b[0;34m(self, *input, **kwargs)\u001b[0m\n\u001b[1;32m    720\u001b[0m             \u001b[0mresult\u001b[0m \u001b[0;34m=\u001b[0m \u001b[0mself\u001b[0m\u001b[0;34m.\u001b[0m\u001b[0m_slow_forward\u001b[0m\u001b[0;34m(\u001b[0m\u001b[0;34m*\u001b[0m\u001b[0minput\u001b[0m\u001b[0;34m,\u001b[0m \u001b[0;34m**\u001b[0m\u001b[0mkwargs\u001b[0m\u001b[0;34m)\u001b[0m\u001b[0;34m\u001b[0m\u001b[0;34m\u001b[0m\u001b[0m\n\u001b[1;32m    721\u001b[0m         \u001b[0;32melse\u001b[0m\u001b[0;34m:\u001b[0m\u001b[0;34m\u001b[0m\u001b[0;34m\u001b[0m\u001b[0m\n\u001b[0;32m--> 722\u001b[0;31m             \u001b[0mresult\u001b[0m \u001b[0;34m=\u001b[0m \u001b[0mself\u001b[0m\u001b[0;34m.\u001b[0m\u001b[0mforward\u001b[0m\u001b[0;34m(\u001b[0m\u001b[0;34m*\u001b[0m\u001b[0minput\u001b[0m\u001b[0;34m,\u001b[0m \u001b[0;34m**\u001b[0m\u001b[0mkwargs\u001b[0m\u001b[0;34m)\u001b[0m\u001b[0;34m\u001b[0m\u001b[0;34m\u001b[0m\u001b[0m\n\u001b[0m\u001b[1;32m    723\u001b[0m         for hook in itertools.chain(\n\u001b[1;32m    724\u001b[0m                 \u001b[0m_global_forward_hooks\u001b[0m\u001b[0;34m.\u001b[0m\u001b[0mvalues\u001b[0m\u001b[0;34m(\u001b[0m\u001b[0;34m)\u001b[0m\u001b[0;34m,\u001b[0m\u001b[0;34m\u001b[0m\u001b[0;34m\u001b[0m\u001b[0m\n",
            "\u001b[0;32m<ipython-input-209-e26c8a8f083c>\u001b[0m in \u001b[0;36mforward\u001b[0;34m(self, context_word)\u001b[0m\n\u001b[1;32m      9\u001b[0m         \u001b[0memb\u001b[0m \u001b[0;34m=\u001b[0m \u001b[0mself\u001b[0m\u001b[0;34m.\u001b[0m\u001b[0membeddings\u001b[0m\u001b[0;34m(\u001b[0m\u001b[0mcontext_word\u001b[0m\u001b[0;34m)\u001b[0m\u001b[0;34m\u001b[0m\u001b[0;34m\u001b[0m\u001b[0m\n\u001b[1;32m     10\u001b[0m         \u001b[0mhidden\u001b[0m \u001b[0;34m=\u001b[0m \u001b[0mself\u001b[0m\u001b[0;34m.\u001b[0m\u001b[0mlinear\u001b[0m\u001b[0;34m(\u001b[0m\u001b[0memb\u001b[0m\u001b[0;34m)\u001b[0m\u001b[0;34m\u001b[0m\u001b[0;34m\u001b[0m\u001b[0m\n\u001b[0;32m---> 11\u001b[0;31m         \u001b[0mout\u001b[0m \u001b[0;34m=\u001b[0m \u001b[0mF\u001b[0m\u001b[0;34m.\u001b[0m\u001b[0mlog_softmax\u001b[0m\u001b[0;34m(\u001b[0m\u001b[0mhidden\u001b[0m\u001b[0;34m)\u001b[0m\u001b[0;34m\u001b[0m\u001b[0;34m\u001b[0m\u001b[0m\n\u001b[0m\u001b[1;32m     12\u001b[0m         \u001b[0;32mreturn\u001b[0m \u001b[0mout\u001b[0m\u001b[0;34m\u001b[0m\u001b[0;34m\u001b[0m\u001b[0m\n",
            "\u001b[0;32m/usr/local/lib/python3.6/dist-packages/torch/nn/functional.py\u001b[0m in \u001b[0;36mlog_softmax\u001b[0;34m(input, dim, _stacklevel, dtype)\u001b[0m\n\u001b[1;32m   1589\u001b[0m         \u001b[0mdim\u001b[0m \u001b[0;34m=\u001b[0m \u001b[0m_get_softmax_dim\u001b[0m\u001b[0;34m(\u001b[0m\u001b[0;34m'log_softmax'\u001b[0m\u001b[0;34m,\u001b[0m \u001b[0minput\u001b[0m\u001b[0;34m.\u001b[0m\u001b[0mdim\u001b[0m\u001b[0;34m(\u001b[0m\u001b[0;34m)\u001b[0m\u001b[0;34m,\u001b[0m \u001b[0m_stacklevel\u001b[0m\u001b[0;34m)\u001b[0m\u001b[0;34m\u001b[0m\u001b[0;34m\u001b[0m\u001b[0m\n\u001b[1;32m   1590\u001b[0m     \u001b[0;32mif\u001b[0m \u001b[0mdtype\u001b[0m \u001b[0;32mis\u001b[0m \u001b[0;32mNone\u001b[0m\u001b[0;34m:\u001b[0m\u001b[0;34m\u001b[0m\u001b[0;34m\u001b[0m\u001b[0m\n\u001b[0;32m-> 1591\u001b[0;31m         \u001b[0mret\u001b[0m \u001b[0;34m=\u001b[0m \u001b[0minput\u001b[0m\u001b[0;34m.\u001b[0m\u001b[0mlog_softmax\u001b[0m\u001b[0;34m(\u001b[0m\u001b[0mdim\u001b[0m\u001b[0;34m)\u001b[0m\u001b[0;34m\u001b[0m\u001b[0;34m\u001b[0m\u001b[0m\n\u001b[0m\u001b[1;32m   1592\u001b[0m     \u001b[0;32melse\u001b[0m\u001b[0;34m:\u001b[0m\u001b[0;34m\u001b[0m\u001b[0;34m\u001b[0m\u001b[0m\n\u001b[1;32m   1593\u001b[0m         \u001b[0mret\u001b[0m \u001b[0;34m=\u001b[0m \u001b[0minput\u001b[0m\u001b[0;34m.\u001b[0m\u001b[0mlog_softmax\u001b[0m\u001b[0;34m(\u001b[0m\u001b[0mdim\u001b[0m\u001b[0;34m,\u001b[0m \u001b[0mdtype\u001b[0m\u001b[0;34m=\u001b[0m\u001b[0mdtype\u001b[0m\u001b[0;34m)\u001b[0m\u001b[0;34m\u001b[0m\u001b[0;34m\u001b[0m\u001b[0m\n",
            "\u001b[0;31mKeyboardInterrupt\u001b[0m: "
          ]
        }
      ]
    },
    {
      "cell_type": "code",
      "metadata": {
        "colab_type": "code",
        "id": "leuJNdY7plqE",
        "colab": {}
      },
      "source": [
        "matrix = next(model.embeddings.parameters()).detach().cpu()"
      ],
      "execution_count": 220,
      "outputs": []
    },
    {
      "cell_type": "code",
      "metadata": {
        "colab_type": "code",
        "id": "pCZ34N0zplqH",
        "colab": {}
      },
      "source": [
        "def get_closest(word, top_n):\n",
        "    global matrix, word_to_index, index_to_word\n",
        "    y = matrix[word_to_index[word]][None, :]\n",
        "\n",
        "    dist = F.cosine_similarity(matrix,y)\n",
        "    index_sorted = torch.argsort(dist)\n",
        "    top_n = index_sorted[-top_n:]\n",
        "    return [index_to_word[x] for x in top_n.numpy()]"
      ],
      "execution_count": 221,
      "outputs": []
    },
    {
      "cell_type": "code",
      "metadata": {
        "colab_type": "code",
        "id": "8kKr0dE3plqL",
        "colab": {
          "base_uri": "https://localhost:8080/",
          "height": 34
        },
        "outputId": "6074a810-6601-4934-d566-7fe728561eb7"
      },
      "source": [
        "get_closest('apple', 5)"
      ],
      "execution_count": 222,
      "outputs": [
        {
          "output_type": "execute_result",
          "data": {
            "text/plain": [
              "['starry', 'helplessness', 'tirith', 'huston', 'apple']"
            ]
          },
          "metadata": {
            "tags": []
          },
          "execution_count": 222
        }
      ]
    },
    {
      "cell_type": "markdown",
      "metadata": {
        "colab_type": "text",
        "id": "4Ck4i0nOplqO"
      },
      "source": [
        "It might look not so promising. Remember about the upgrades to word2vec: subsampling and negative sampling."
      ]
    }
  ]
}