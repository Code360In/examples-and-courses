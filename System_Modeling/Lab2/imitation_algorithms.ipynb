{
 "cells": [
  {
   "cell_type": "markdown",
   "metadata": {},
   "source": [
    "# Lab 2\n",
    "+ ## Автор: Роман Кривохижа\n",
    "+ ## Група: ІС-72\n",
    "+ ## Викладач: Новікова П.А."
   ]
  },
  {
   "cell_type": "markdown",
   "metadata": {},
   "source": [
    "****\n",
    "****\n",
    "****"
   ]
  },
  {
   "cell_type": "markdown",
   "metadata": {},
   "source": [
    "## Module importing"
   ]
  },
  {
   "cell_type": "code",
   "execution_count": 64,
   "metadata": {},
   "outputs": [],
   "source": [
    "import numpy as np\n",
    "import pandas as pd"
   ]
  },
  {
   "cell_type": "code",
   "execution_count": 65,
   "metadata": {},
   "outputs": [],
   "source": [
    "import matplotlib.pyplot as plt\n",
    "import seaborn as sns"
   ]
  },
  {
   "cell_type": "code",
   "execution_count": 66,
   "metadata": {},
   "outputs": [],
   "source": [
    "sns.set_style('darkgrid')\n",
    "%matplotlib inline"
   ]
  },
  {
   "cell_type": "markdown",
   "metadata": {},
   "source": [
    "## Algorithm implementation"
   ]
  },
  {
   "cell_type": "markdown",
   "metadata": {},
   "source": [
    "+ Алгоритм, який відтворює функціонування системи, за допомогою комп’ютерної програми називається **алгоритмом імітації**.\n",
    "\n",
    "<font size=\"4\">Ймовірність відмови: $P = \\frac{N_{unserv}}{N_{all}}$</font>\n",
    "\n",
    "<font size=\"4\">Середня довжина черги: $L_{aver} = \\frac{\\sum_{i} L_i \\Delta t_i}{T_{mod}}$</font>\n",
    "\n",
    "<font size=\"4\">Середній час очікування: $Q_{aver} = \\frac{\\sum_{i} L_i \\Delta t_i}{N_{serv}}$</font>"
   ]
  },
  {
   "cell_type": "code",
   "execution_count": 67,
   "metadata": {},
   "outputs": [],
   "source": [
    "class Rand:\n",
    "    \"\"\"\n",
    "    Генерація випадкового числа за заданим законом розподілу\n",
    "    \"\"\"\n",
    "    @staticmethod\n",
    "    def exp(time_mean):\n",
    "        a = 0\n",
    "        while a == 0:\n",
    "            a = np.random.rand()\n",
    "        return -time_mean * np.log(a)"
   ]
  },
  {
   "cell_type": "code",
   "execution_count": 68,
   "metadata": {},
   "outputs": [],
   "source": [
    "class Model:\n",
    "    def __init__(self, delay0, delay1, maxQ=0, print_logs=False):\n",
    "        \"\"\"\n",
    "        :param delay0: mean delay of create\n",
    "        :param delay1: mean delay of process\n",
    "        :param maxQ: max size of queue\n",
    "        :type delay0: float\n",
    "        :type delay1: float\n",
    "        :type maxQ: int\n",
    "        \"\"\"\n",
    "        self.delay_create = delay0\n",
    "        self.delay_process = delay1\n",
    "        # момент найближчої події\n",
    "        self.tnext = 0.0\n",
    "        # конкретний час\n",
    "        self.tcurr = self.tnext\n",
    "        # час завершення створення\n",
    "        self.t0 = self.tcurr\n",
    "        # час завершення обробки\n",
    "        self.t1 = np.inf\n",
    "        # max size of queue\n",
    "        self.maxqueue = maxQ\n",
    "        # number of created tasks\n",
    "        self.num_create = 0\n",
    "        # number of processed tasks\n",
    "        self.num_process = 0\n",
    "        # number of failure tasks\n",
    "        self.failure = 0\n",
    "        # current state\n",
    "        self.state = 0\n",
    "        # current size of queue\n",
    "        self.queue = 0\n",
    "        # ind of next event\n",
    "        self.next_event = 0\n",
    "        \n",
    "        self.delta_t_history = []\n",
    "        self.queue_history = []\n",
    "        self.print_logs = print_logs\n",
    "        \n",
    "    def simulate(self, time_modeling):\n",
    "        self.time_modeling = time_modeling\n",
    "        while self.tcurr < self.time_modeling:\n",
    "            self.tnext = self.t0\n",
    "            self.next_event = 0\n",
    "            \n",
    "            # знайти найменший із моментів часу «момент надходження вимоги у систему»\n",
    "            # та «момент звільнення пристрою обслуговування» і запам’ятати,\n",
    "            # якій події  він відповідає\n",
    "            if self.t1 < self.tnext:\n",
    "                self.tnext = self.t1\n",
    "                self.next_event = 1\n",
    "            \n",
    "            # просунути поточний час у момент найближчої події\n",
    "            self.tcurr = self.tnext\n",
    "            \n",
    "            # виконати подію, яка відповідає моменту найближчої події\n",
    "            if self.next_event == 0:\n",
    "                self.event0()\n",
    "            elif self.next_event == 1:\n",
    "                self.event1()\n",
    "            else:\n",
    "                pass\n",
    "            self.delta_t_history.append(self.tcurr)\n",
    "            self.queue_history.append(self.queue)\n",
    "            \n",
    "            if self.print_logs:\n",
    "                self.print_info()\n",
    "        self.print_statistic()\n",
    "        self.print_L_aver()\n",
    "        self.print_Q_aver()\n",
    "        self.print_p_fail()\n",
    "        \n",
    "    def print_statistic(self):\n",
    "        \"\"\"\n",
    "        Відображення основних статистик\n",
    "        \"\"\"\n",
    "        print(f'num_create = {self.num_create}; num_process = {self.num_process}; failure = {self.failure}')\n",
    "        \n",
    "    def print_info(self):\n",
    "        \"\"\"\n",
    "        Відображення детальної інформації про кожен етап роботи моделі\n",
    "        \"\"\"\n",
    "        print(f't = {self.tcurr}; state = {self.state}; queue = {self.queue}')\n",
    "        \n",
    "    def print_L_aver(self):\n",
    "        \"\"\"\n",
    "        Середня довжина черги черги\n",
    "        \"\"\"\n",
    "        t = [self.delta_t_history[0]]\n",
    "        for i in range(0, len(self.delta_t_history)-1):\n",
    "             t.append(self.delta_t_history[i+1] - self.delta_t_history[i])\n",
    "            \n",
    "        self.l_aver = np.sum(np.array(t) * np.array(self.queue_history)) / self.time_modeling\n",
    "        print(f'Середня довжина черги черги = {self.l_aver}')\n",
    "        \n",
    "    def print_Q_aver(self):\n",
    "        \"\"\"\n",
    "        Середній час очікування в черзі\n",
    "        \"\"\"\n",
    "        t = [self.delta_t_history[0]]\n",
    "        for i in range(0, len(self.delta_t_history)-1):\n",
    "             t.append(self.delta_t_history[i+1] - self.delta_t_history[i])\n",
    "            \n",
    "        self.q_aver = np.sum(np.array(t) * np.array(self.queue_history)) / self.num_process\n",
    "        print(f'Середній час очікування в черзі = {self.q_aver}')\n",
    "    \n",
    "    def print_p_fail(self):\n",
    "        \"\"\"\n",
    "        Ймовірність відмови\n",
    "        \"\"\"\n",
    "        self.p_fail = self.failure / self.num_create\n",
    "        print(f'Ймовірність відмови: {self.p_fail}')\n",
    "    \n",
    "    def event0(self):\n",
    "        # подія \"натходження\"\n",
    "        self.t0 = self.tcurr + self.__get_delay_of_create()\n",
    "        self.num_create += 1\n",
    "        \n",
    "        # якщо пристрій вільний, тоді встановлюємо стан \"зайнятий\"\n",
    "        if self.state == 0:\n",
    "            self.state = 1\n",
    "            # запам'ятаємо час виходу\n",
    "            self.t1 = self.tcurr + self.__get_delay_of_process()\n",
    "        else:\n",
    "            if self.queue < self.maxqueue:\n",
    "                self.queue += 1\n",
    "            else:\n",
    "                self.failure += 1\n",
    "                \n",
    "    def event1(self):\n",
    "        # подія \"закінчилось обслуговування в пристрої\"\n",
    "        self.t1 = np.inf\n",
    "        # стан \"вільний\"\n",
    "        self.state = 0\n",
    "        # якщо черга вимог не пуста, перемістити одну вимогу із черги у канал обслуговування\n",
    "        if self.queue > 0:\n",
    "            self.queue -= 1\n",
    "            # стан \"зайнятий\"\n",
    "            self.state = 1\n",
    "            # запам'ятаємо час виходу\n",
    "            self.t1 = self.tcurr + self.__get_delay_of_process()\n",
    "        self.num_process += 1\n",
    "        \n",
    "    def __get_delay_of_create(self):\n",
    "        return Rand.exp(self.delay_create)\n",
    "    \n",
    "    def __get_delay_of_process(self):\n",
    "        return Rand.exp(self.delay_process)"
   ]
  },
  {
   "cell_type": "code",
   "execution_count": 69,
   "metadata": {},
   "outputs": [
    {
     "name": "stdout",
     "output_type": "stream",
     "text": [
      "t = 0.0; state = 1; queue = 0\n",
      "t = 1.765636097692804; state = 1; queue = 1\n",
      "t = 2.799923884841094; state = 1; queue = 0\n",
      "t = 3.706583932089599; state = 1; queue = 1\n",
      "t = 4.697707050006574; state = 1; queue = 2\n",
      "t = 7.243897795446555; state = 1; queue = 1\n",
      "t = 7.559975824484018; state = 1; queue = 0\n",
      "t = 8.637960855552107; state = 0; queue = 0\n",
      "t = 9.001747418993773; state = 1; queue = 0\n",
      "t = 12.11789685605814; state = 1; queue = 1\n",
      "num_create = 6; num_process = 4; failure = 0\n",
      "Середня довжина черги черги = 1.0316882563279608\n",
      "Середній час очікування в черзі = 2.579220640819902\n",
      "Ймовірність відмови: 0.0\n"
     ]
    }
   ],
   "source": [
    "model = Model(1, 3, 5, print_logs=True)\n",
    "model.simulate(10)"
   ]
  },
  {
   "cell_type": "code",
   "execution_count": 70,
   "metadata": {},
   "outputs": [
    {
     "name": "stdout",
     "output_type": "stream",
     "text": [
      "1 itteration\n",
      "num_create = 856; num_process = 855; failure = 1\n",
      "Середня довжина черги черги = 0.15884746966489832\n",
      "Середній час очікування в черзі = 0.9289325711397564\n",
      "Ймовірність відмови: 0.0011682242990654205\n",
      "\n",
      "2 itteration\n",
      "num_create = 1987; num_process = 769; failure = 1211\n",
      "Середня довжина черги черги = 6.319680557575348\n",
      "Середній час очікування в черзі = 32.87220055955968\n",
      "Ймовірність відмови: 0.6094614997483644\n",
      "\n",
      "3 itteration\n",
      "num_create = 763; num_process = 744; failure = 17\n",
      "Середня довжина черги черги = 0.11316080397393366\n",
      "Середній час очікування в черзі = 1.06468498362572\n",
      "Ймовірність відмови: 0.022280471821756225\n",
      "\n",
      "4 itteration\n",
      "num_create = 1519; num_process = 616; failure = 893\n",
      "Середня довжина черги черги = 9.295363980860001\n",
      "Середній час очікування в черзі = 90.53925955383117\n",
      "Ймовірність відмови: 0.5878867676102699\n",
      "\n",
      "5 itteration\n",
      "num_create = 400; num_process = 260; failure = 139\n",
      "Середня довжина черги черги = 0.3821114237870091\n",
      "Середній час очікування в черзі = 4.408977966773182\n",
      "Ймовірність відмови: 0.3475\n",
      "\n",
      "6 itteration\n",
      "num_create = 7935; num_process = 6401; failure = 1533\n",
      "Середня довжина черги черги = 1.1727459173552721\n",
      "Середній час очікування в черзі = 1.4657033805408806\n",
      "Ймовірність відмови: 0.19319470699432892\n",
      "\n",
      "7 itteration\n",
      "num_create = 1442; num_process = 1303; failure = 131\n",
      "Середня довжина черги черги = 3.889660404418048\n",
      "Середній час очікування в черзі = 29.85157639614772\n",
      "Ймовірність відмови: 0.09084604715672677\n",
      "\n",
      "8 itteration\n",
      "num_create = 653; num_process = 469; failure = 182\n",
      "Середня довжина черги черги = 2.2031130195589537\n",
      "Середній час очікування в черзі = 9.394938249718352\n",
      "Ймовірність відмови: 0.2787136294027565\n",
      "\n",
      "9 itteration\n",
      "num_create = 995; num_process = 867; failure = 119\n",
      "Середня довжина черги черги = 3.562520895440323\n",
      "Середній час очікування в черзі = 36.981185765816505\n",
      "Ймовірність відмови: 0.11959798994974874\n",
      "\n",
      "10 itteration\n",
      "num_create = 198; num_process = 141; failure = 54\n",
      "Середня довжина черги черги = 3.641944305578846\n",
      "Середній час очікування в черзі = 25.829392238147843\n",
      "Ймовірність відмови: 0.2727272727272727\n",
      "\n"
     ]
    }
   ],
   "source": [
    "n_param = 10\n",
    "\n",
    "delay0_list = list(range(1, n_param+1))\n",
    "delay1_list = list(range(1, n_param+1))\n",
    "maxQ_list = list(range(1, n_param+1))\n",
    "\n",
    "time_modeling_list = [i*1000 for i in range(1, n_param+1)]\n",
    "\n",
    "np.random.shuffle(delay0_list)\n",
    "np.random.shuffle(delay1_list)\n",
    "np.random.shuffle(maxQ_list)\n",
    "np.random.shuffle(time_modeling_list)\n",
    "\n",
    "df = pd.DataFrame()\n",
    "rows = []\n",
    "\n",
    "for i in range(n_param):\n",
    "    print(f'{i+1} itteration')\n",
    "    model = Model(delay0_list[i], delay1_list[i], maxQ_list[i], print_logs=False)\n",
    "    model.simulate(time_modeling_list[i])\n",
    "    rows.append({'delay_create': delay0_list[i], 'delay_process': delay1_list[i], 'maxqueue': maxQ_list[i], 'time_modeling': model.time_modeling, \n",
    "                 'num_create': model.num_create, 'num_process': model.num_process, 'failure': model.failure, 'last_queue_cnt': model.queue,\n",
    "                 'l_aver': model.l_aver, 'q_aver': model.q_aver, 'p_fail': model.p_fail})\n",
    "    print()\n",
    "df = df.append(rows)"
   ]
  },
  {
   "cell_type": "markdown",
   "metadata": {},
   "source": [
    "**Проведемо верифікацію, використовуючи побудовану таблицю:**"
   ]
  },
  {
   "cell_type": "code",
   "execution_count": 71,
   "metadata": {},
   "outputs": [
    {
     "data": {
      "text/html": [
       "<div>\n",
       "<style scoped>\n",
       "    .dataframe tbody tr th:only-of-type {\n",
       "        vertical-align: middle;\n",
       "    }\n",
       "\n",
       "    .dataframe tbody tr th {\n",
       "        vertical-align: top;\n",
       "    }\n",
       "\n",
       "    .dataframe thead th {\n",
       "        text-align: right;\n",
       "    }\n",
       "</style>\n",
       "<table border=\"1\" class=\"dataframe\">\n",
       "  <thead>\n",
       "    <tr style=\"text-align: right;\">\n",
       "      <th></th>\n",
       "      <th>delay_create</th>\n",
       "      <th>delay_process</th>\n",
       "      <th>maxqueue</th>\n",
       "      <th>time_modeling</th>\n",
       "      <th>num_create</th>\n",
       "      <th>num_process</th>\n",
       "      <th>failure</th>\n",
       "      <th>last_queue_cnt</th>\n",
       "      <th>l_aver</th>\n",
       "      <th>q_aver</th>\n",
       "      <th>p_fail</th>\n",
       "    </tr>\n",
       "  </thead>\n",
       "  <tbody>\n",
       "    <tr>\n",
       "      <th>0</th>\n",
       "      <td>6</td>\n",
       "      <td>2</td>\n",
       "      <td>5</td>\n",
       "      <td>5000</td>\n",
       "      <td>856</td>\n",
       "      <td>855</td>\n",
       "      <td>1</td>\n",
       "      <td>0</td>\n",
       "      <td>0.158847</td>\n",
       "      <td>0.928933</td>\n",
       "      <td>0.001168</td>\n",
       "    </tr>\n",
       "    <tr>\n",
       "      <th>1</th>\n",
       "      <td>2</td>\n",
       "      <td>5</td>\n",
       "      <td>7</td>\n",
       "      <td>4000</td>\n",
       "      <td>1987</td>\n",
       "      <td>769</td>\n",
       "      <td>1211</td>\n",
       "      <td>6</td>\n",
       "      <td>6.319681</td>\n",
       "      <td>32.872201</td>\n",
       "      <td>0.609461</td>\n",
       "    </tr>\n",
       "    <tr>\n",
       "      <th>2</th>\n",
       "      <td>10</td>\n",
       "      <td>3</td>\n",
       "      <td>2</td>\n",
       "      <td>7000</td>\n",
       "      <td>763</td>\n",
       "      <td>744</td>\n",
       "      <td>17</td>\n",
       "      <td>1</td>\n",
       "      <td>0.113161</td>\n",
       "      <td>1.064685</td>\n",
       "      <td>0.022280</td>\n",
       "    </tr>\n",
       "    <tr>\n",
       "      <th>3</th>\n",
       "      <td>4</td>\n",
       "      <td>10</td>\n",
       "      <td>10</td>\n",
       "      <td>6000</td>\n",
       "      <td>1519</td>\n",
       "      <td>616</td>\n",
       "      <td>893</td>\n",
       "      <td>9</td>\n",
       "      <td>9.295364</td>\n",
       "      <td>90.539260</td>\n",
       "      <td>0.587887</td>\n",
       "    </tr>\n",
       "    <tr>\n",
       "      <th>4</th>\n",
       "      <td>8</td>\n",
       "      <td>8</td>\n",
       "      <td>1</td>\n",
       "      <td>3000</td>\n",
       "      <td>400</td>\n",
       "      <td>260</td>\n",
       "      <td>139</td>\n",
       "      <td>0</td>\n",
       "      <td>0.382111</td>\n",
       "      <td>4.408978</td>\n",
       "      <td>0.347500</td>\n",
       "    </tr>\n",
       "    <tr>\n",
       "      <th>5</th>\n",
       "      <td>1</td>\n",
       "      <td>1</td>\n",
       "      <td>3</td>\n",
       "      <td>8000</td>\n",
       "      <td>7935</td>\n",
       "      <td>6401</td>\n",
       "      <td>1533</td>\n",
       "      <td>0</td>\n",
       "      <td>1.172746</td>\n",
       "      <td>1.465703</td>\n",
       "      <td>0.193195</td>\n",
       "    </tr>\n",
       "    <tr>\n",
       "      <th>6</th>\n",
       "      <td>7</td>\n",
       "      <td>7</td>\n",
       "      <td>9</td>\n",
       "      <td>10000</td>\n",
       "      <td>1442</td>\n",
       "      <td>1303</td>\n",
       "      <td>131</td>\n",
       "      <td>7</td>\n",
       "      <td>3.889660</td>\n",
       "      <td>29.851576</td>\n",
       "      <td>0.090846</td>\n",
       "    </tr>\n",
       "    <tr>\n",
       "      <th>7</th>\n",
       "      <td>3</td>\n",
       "      <td>4</td>\n",
       "      <td>4</td>\n",
       "      <td>2000</td>\n",
       "      <td>653</td>\n",
       "      <td>469</td>\n",
       "      <td>182</td>\n",
       "      <td>1</td>\n",
       "      <td>2.203113</td>\n",
       "      <td>9.394938</td>\n",
       "      <td>0.278714</td>\n",
       "    </tr>\n",
       "    <tr>\n",
       "      <th>8</th>\n",
       "      <td>9</td>\n",
       "      <td>9</td>\n",
       "      <td>8</td>\n",
       "      <td>9000</td>\n",
       "      <td>995</td>\n",
       "      <td>867</td>\n",
       "      <td>119</td>\n",
       "      <td>8</td>\n",
       "      <td>3.562521</td>\n",
       "      <td>36.981186</td>\n",
       "      <td>0.119598</td>\n",
       "    </tr>\n",
       "    <tr>\n",
       "      <th>9</th>\n",
       "      <td>5</td>\n",
       "      <td>6</td>\n",
       "      <td>6</td>\n",
       "      <td>1000</td>\n",
       "      <td>198</td>\n",
       "      <td>141</td>\n",
       "      <td>54</td>\n",
       "      <td>2</td>\n",
       "      <td>3.641944</td>\n",
       "      <td>25.829392</td>\n",
       "      <td>0.272727</td>\n",
       "    </tr>\n",
       "  </tbody>\n",
       "</table>\n",
       "</div>"
      ],
      "text/plain": [
       "   delay_create  delay_process  maxqueue  time_modeling  num_create  \\\n",
       "0             6              2         5           5000         856   \n",
       "1             2              5         7           4000        1987   \n",
       "2            10              3         2           7000         763   \n",
       "3             4             10        10           6000        1519   \n",
       "4             8              8         1           3000         400   \n",
       "5             1              1         3           8000        7935   \n",
       "6             7              7         9          10000        1442   \n",
       "7             3              4         4           2000         653   \n",
       "8             9              9         8           9000         995   \n",
       "9             5              6         6           1000         198   \n",
       "\n",
       "   num_process  failure  last_queue_cnt    l_aver     q_aver    p_fail  \n",
       "0          855        1               0  0.158847   0.928933  0.001168  \n",
       "1          769     1211               6  6.319681  32.872201  0.609461  \n",
       "2          744       17               1  0.113161   1.064685  0.022280  \n",
       "3          616      893               9  9.295364  90.539260  0.587887  \n",
       "4          260      139               0  0.382111   4.408978  0.347500  \n",
       "5         6401     1533               0  1.172746   1.465703  0.193195  \n",
       "6         1303      131               7  3.889660  29.851576  0.090846  \n",
       "7          469      182               1  2.203113   9.394938  0.278714  \n",
       "8          867      119               8  3.562521  36.981186  0.119598  \n",
       "9          141       54               2  3.641944  25.829392  0.272727  "
      ]
     },
     "execution_count": 71,
     "metadata": {},
     "output_type": "execute_result"
    }
   ],
   "source": [
    "df"
   ]
  },
  {
   "cell_type": "markdown",
   "metadata": {},
   "source": [
    "## Conclusion"
   ]
  },
  {
   "cell_type": "markdown",
   "metadata": {},
   "source": [
    "**В данній лабораторній роботі ми реалізували алгоритм імітації простої моделі обслуговування, використовуючи спосіб, який орієнтований на події (аби уникнути випадку, коли дві події приходять в один час).**\n",
    "+ за допомогою статичних методів була зібрана інформація про роботу/поведінку моделі\n",
    "+ зміна віхдних параметрів моделі призводить до зміни вихідних значень\n",
    "+ при досить великій кількості вхідинх параметрів важко проводити етап верифікації моделі\n",
    "\n",
    "P.S. нижче наведено декілька графіків, які ілюструють залежність вихідних параметрів від вхідних"
   ]
  },
  {
   "cell_type": "markdown",
   "metadata": {},
   "source": [
    "## Bonus"
   ]
  },
  {
   "cell_type": "markdown",
   "metadata": {},
   "source": [
    "**Зафіксуємо значення параметра _time_modeling_**"
   ]
  },
  {
   "cell_type": "code",
   "execution_count": 72,
   "metadata": {},
   "outputs": [
    {
     "name": "stdout",
     "output_type": "stream",
     "text": [
      "1 itteration\n",
      "num_create = 49942; num_process = 16204; failure = 33735\n",
      "Середня довжина черги черги = 1.5806193157144095\n",
      "Середній час очікування в черзі = 9.754500837536469\n",
      "Ймовірність відмови: 0.6754835609306796\n",
      "\n",
      "2 itteration\n",
      "num_create = 10910; num_process = 10909; failure = 0\n",
      "Середня довжина черги черги = 0.013322601243749083\n",
      "Середній час очікування в черзі = 0.12212486244155361\n",
      "Ймовірність відмови: 0.0\n",
      "\n",
      "3 itteration\n",
      "num_create = 12675; num_process = 11817; failure = 857\n",
      "Середня довжина черги черги = 0.5790309057646028\n",
      "Середній час очікування в черзі = 4.899982277774416\n",
      "Ймовірність відмови: 0.06761341222879684\n",
      "\n",
      "4 itteration\n",
      "num_create = 9936; num_process = 7771; failure = 2164\n",
      "Середня довжина черги черги = 0.21569558608225764\n",
      "Середній час очікування в черзі = 2.775647742661918\n",
      "Ймовірність відмови: 0.2177938808373591\n",
      "\n",
      "5 itteration\n",
      "num_create = 14154; num_process = 14145; failure = 9\n",
      "Середня довжина черги черги = 0.11359178127203573\n",
      "Середній час очікування в черзі = 0.8030525363876687\n",
      "Ймовірність відмови: 0.000635862653666808\n",
      "\n",
      "6 itteration\n",
      "num_create = 33339; num_process = 24773; failure = 8557\n",
      "Середня довжина черги черги = 6.482759920275414\n",
      "Середній час очікування в черзі = 26.168651032476543\n",
      "Ймовірність відмови: 0.256666366717658\n",
      "\n",
      "7 itteration\n",
      "num_create = 100136; num_process = 11239; failure = 88889\n",
      "Середня довжина черги черги = 6.876120071608802\n",
      "Середній час очікування в черзі = 61.18088861650326\n",
      "Ймовірність відмови: 0.8876827514580171\n",
      "\n",
      "8 itteration\n",
      "num_create = 16496; num_process = 12107; failure = 4383\n",
      "Середня довжина черги черги = 5.641318447720104\n",
      "Середній час очікування в черзі = 46.59551042966964\n",
      "Ймовірність відмови: 0.2657007759456838\n",
      "\n",
      "9 itteration\n",
      "num_create = 24927; num_process = 9984; failure = 14934\n",
      "Середня довжина черги черги = 9.33056287904985\n",
      "Середній час очікування в черзі = 93.45515704176533\n",
      "Ймовірність відмови: 0.5991093994463834\n",
      "\n",
      "10 itteration\n",
      "num_create = 20075; num_process = 19863; failure = 210\n",
      "Середня довжина черги черги = 0.7760561338954646\n",
      "Середній час очікування в черзі = 3.9070439203315943\n",
      "Ймовірність відмови: 0.01046077210460772\n",
      "\n"
     ]
    }
   ],
   "source": [
    "n_param = 10\n",
    "\n",
    "delay0_list = list(range(1, n_param+1))\n",
    "delay1_list = list(range(1, n_param+1))\n",
    "maxQ_list = list(range(1, n_param+1))\n",
    "\n",
    "time_modeling = 100000\n",
    "\n",
    "np.random.shuffle(delay0_list)\n",
    "np.random.shuffle(delay1_list)\n",
    "np.random.shuffle(maxQ_list)\n",
    "\n",
    "df = pd.DataFrame()\n",
    "rows = []\n",
    "\n",
    "for i in range(n_param):\n",
    "    print(f'{i+1} itteration')\n",
    "    model = Model(delay0_list[i], delay1_list[i], maxQ_list[i], print_logs=False)\n",
    "    model.simulate(time_modeling)\n",
    "    rows.append({'delay_create': delay0_list[i], 'delay_process': delay1_list[i], 'maxqueue': maxQ_list[i], 'time_modeling': model.time_modeling, \n",
    "                 'num_create': model.num_create, 'num_process': model.num_process, 'failure': model.failure, 'last_queue_cnt': model.queue,\n",
    "                 'l_aver': model.l_aver, 'q_aver': model.q_aver, 'p_fail': model.p_fail})\n",
    "    print()\n",
    "df = df.append(rows)"
   ]
  },
  {
   "cell_type": "markdown",
   "metadata": {},
   "source": [
    "**Побудуємо декілька графіків**"
   ]
  },
  {
   "cell_type": "code",
   "execution_count": 73,
   "metadata": {},
   "outputs": [
    {
     "data": {
      "image/png": "[encoded data removed]",
      "text/plain": [
       "<Figure size 1080x432 with 1 Axes>"
      ]
     },
     "metadata": {
      "needs_background": "light"
     },
     "output_type": "display_data"
    }
   ],
   "source": [
    "fig, ax = plt.subplots(1,1, figsize=(15,6))\n",
    "\n",
    "sns.barplot(x='delay_create', y='num_create', data=df, ax=ax, color='darkviolet')\n",
    "\n",
    "ax.set_xlabel(u'delay_create')\n",
    "# ax.set_xlim(0, 200)\n",
    "ax.set_ylabel(u'num_create')\n",
    "ax.set_title(u'');"
   ]
  },
  {
   "cell_type": "code",
   "execution_count": 74,
   "metadata": {},
   "outputs": [
    {
     "data": {
      "image/png": "[encoded data removed]",
      "text/plain": [
       "<Figure size 1080x432 with 1 Axes>"
      ]
     },
     "metadata": {
      "needs_background": "light"
     },
     "output_type": "display_data"
    }
   ],
   "source": [
    "fig, ax = plt.subplots(1,1, figsize=(15,6))\n",
    "\n",
    "sns.barplot(x='delay_create', y='failure', data=df, ax=ax, color='darkviolet')\n",
    "\n",
    "ax.set_xlabel(u'delay_create')\n",
    "# ax.set_xlim(0, 200)\n",
    "ax.set_ylabel(u'failure')\n",
    "ax.set_title(u'');"
   ]
  },
  {
   "cell_type": "code",
   "execution_count": 75,
   "metadata": {},
   "outputs": [
    {
     "data": {
      "image/png": "[encoded data removed]",
      "text/plain": [
       "<Figure size 1080x432 with 1 Axes>"
      ]
     },
     "metadata": {
      "needs_background": "light"
     },
     "output_type": "display_data"
    }
   ],
   "source": [
    "fig, ax = plt.subplots(1,1, figsize=(15,6))\n",
    "\n",
    "sns.barplot(x='delay_create', y='p_fail', data=df, ax=ax, color='darkviolet')\n",
    "\n",
    "ax.set_xlabel(u'delay_create')\n",
    "# ax.set_xlim(0, 200)\n",
    "ax.set_ylabel(u'p_fail')\n",
    "ax.set_title(u'');"
   ]
  },
  {
   "cell_type": "code",
   "execution_count": 76,
   "metadata": {},
   "outputs": [
    {
     "data": {
      "image/png": "[encoded data removed]",
      "text/plain": [
       "<Figure size 1080x432 with 1 Axes>"
      ]
     },
     "metadata": {
      "needs_background": "light"
     },
     "output_type": "display_data"
    }
   ],
   "source": [
    "fig, ax = plt.subplots(1,1, figsize=(15,6))\n",
    "\n",
    "sns.barplot(x='delay_process', y='num_process', data=df, ax=ax, color='darkviolet')\n",
    "\n",
    "ax.set_xlabel(u'delay_process')\n",
    "# ax.set_xlim(0, 200)\n",
    "ax.set_ylabel(u'num_process')\n",
    "ax.set_title(u'');"
   ]
  },
  {
   "cell_type": "code",
   "execution_count": 77,
   "metadata": {},
   "outputs": [
    {
     "data": {
      "image/png": "[encoded data removed]",
      "text/plain": [
       "<Figure size 1080x432 with 1 Axes>"
      ]
     },
     "metadata": {
      "needs_background": "light"
     },
     "output_type": "display_data"
    }
   ],
   "source": [
    "fig, ax = plt.subplots(1,1, figsize=(15,6))\n",
    "\n",
    "sns.barplot(x='delay_process', y='failure', data=df, ax=ax, color='darkviolet')\n",
    "\n",
    "ax.set_xlabel(u'delay_process')\n",
    "# ax.set_xlim(0, 200)\n",
    "ax.set_ylabel(u'failure')\n",
    "ax.set_title(u'');"
   ]
  },
  {
   "cell_type": "code",
   "execution_count": 78,
   "metadata": {},
   "outputs": [
    {
     "data": {
      "image/png": "[encoded data removed]",
      "text/plain": [
       "<Figure size 1080x432 with 1 Axes>"
      ]
     },
     "metadata": {
      "needs_background": "light"
     },
     "output_type": "display_data"
    }
   ],
   "source": [
    "fig, ax = plt.subplots(1,1, figsize=(15,6))\n",
    "\n",
    "sns.barplot(x='delay_process', y='p_fail', data=df, ax=ax, color='darkviolet')\n",
    "\n",
    "ax.set_xlabel(u'delay_process')\n",
    "# ax.set_xlim(0, 200)\n",
    "ax.set_ylabel(u'p_fail')\n",
    "ax.set_title(u'');"
   ]
  },
  {
   "cell_type": "code",
   "execution_count": null,
   "metadata": {},
   "outputs": [],
   "source": []
  }
 ],
 "metadata": {
  "kernelspec": {
   "display_name": "Python 3",
   "language": "python",
   "name": "python3"
  },
  "language_info": {
   "codemirror_mode": {
    "name": "ipython",
    "version": 3
   },
   "file_extension": ".py",
   "mimetype": "text/x-python",
   "name": "python",
   "nbconvert_exporter": "python",
   "pygments_lexer": "ipython3",
   "version": "3.7.5"
  }
 },
 "nbformat": 4,
 "nbformat_minor": 4
}
