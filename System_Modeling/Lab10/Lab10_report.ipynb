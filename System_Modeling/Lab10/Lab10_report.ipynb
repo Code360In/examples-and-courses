{
 "cells": [
  {
   "cell_type": "markdown",
   "metadata": {},
   "source": [
    "# Lab 10\n",
    "+ ## Автор: Роман Кривохижа\n",
    "+ ## Група: ІС-72"
   ]
  },
  {
   "cell_type": "markdown",
   "metadata": {},
   "source": [
    "****\n",
    "****\n",
    "****"
   ]
  },
  {
   "cell_type": "markdown",
   "metadata": {},
   "source": [
    "## Task 1"
   ]
  },
  {
   "cell_type": "markdown",
   "metadata": {},
   "source": [
    "З використанням алгоритму імітації стохастичної мережі Петрі класу PetriSim реалізувати модель, розроблену за текстом завдання 1 практикуму 6, та виконати її верифікацію. Зробити висновки про функціонування моделі."
   ]
  },
  {
   "cell_type": "markdown",
   "metadata": {},
   "source": [
    "**До запуску:**\n",
    "\n",
    "<img src=\"https://github.com/kryvokhyzha/Courses/blob/master/System_Modeling/Lab10/1/1_net_before.jpg?raw=true\">"
   ]
  },
  {
   "cell_type": "markdown",
   "metadata": {},
   "source": [
    "**1. Time modeling = 1000**"
   ]
  },
  {
   "cell_type": "markdown",
   "metadata": {},
   "source": [
    "**Після запуску:**\n",
    "\n",
    "<img src=\"https://github.com/kryvokhyzha/Courses/blob/master/System_Modeling/Lab10/1/1_net_after_1000.jpg?raw=true\">"
   ]
  },
  {
   "cell_type": "markdown",
   "metadata": {},
   "source": [
    "**Статистика:**\n",
    "\n",
    "<img src=\"https://github.com/kryvokhyzha/Courses/blob/master/System_Modeling/Lab10/1/1_stat_1000.jpg?raw=true\">"
   ]
  },
  {
   "cell_type": "markdown",
   "metadata": {},
   "source": [
    "**2. Time modeling = 500**"
   ]
  },
  {
   "cell_type": "markdown",
   "metadata": {},
   "source": [
    "**Після запуску:**\n",
    "\n",
    "<img src=\"https://github.com/kryvokhyzha/Courses/blob/master/System_Modeling/Lab10/1/1_net_after_500.jpg?raw=true\">"
   ]
  },
  {
   "cell_type": "markdown",
   "metadata": {},
   "source": [
    "**Статистика:**\n",
    "\n",
    "<img src=\"https://github.com/kryvokhyzha/Courses/blob/master/System_Modeling/Lab10/1/1_stat_500.jpg?raw=true\">"
   ]
  },
  {
   "cell_type": "markdown",
   "metadata": {},
   "source": [
    "## Task 2"
   ]
  },
  {
   "cell_type": "markdown",
   "metadata": {},
   "source": [
    "З використанням алгоритму імітації стохастичної мережі Петрі класу PetriSim реалізувати модель, розроблену за текстом завдання 4 практикуму 6, та виконати її верифікацію. Зробити висновки про функціонування моделі."
   ]
  },
  {
   "cell_type": "markdown",
   "metadata": {},
   "source": [
    "**До запуску:**\n",
    "\n",
    "<img src=\"https://github.com/kryvokhyzha/Courses/blob/master/System_Modeling/Lab10/2/2_net_before.jpg?raw=true\">"
   ]
  },
  {
   "cell_type": "markdown",
   "metadata": {},
   "source": [
    "**1. Time modeling = 1000**"
   ]
  },
  {
   "cell_type": "markdown",
   "metadata": {},
   "source": [
    "**Після запуску:**\n",
    "\n",
    "<img src=\"https://github.com/kryvokhyzha/Courses/blob/master/System_Modeling/Lab10/2/2_net_after_1000.jpg?raw=true\">"
   ]
  },
  {
   "cell_type": "markdown",
   "metadata": {},
   "source": [
    "**Статистика:**\n",
    "\n",
    "<img src=\"https://github.com/kryvokhyzha/Courses/blob/master/System_Modeling/Lab10/2/2_stat_1000.jpg?raw=true\">"
   ]
  },
  {
   "cell_type": "markdown",
   "metadata": {},
   "source": [
    "**2. Time modeling = 500**"
   ]
  },
  {
   "cell_type": "markdown",
   "metadata": {},
   "source": [
    "**Після запуску:**\n",
    "\n",
    "<img src=\"https://github.com/kryvokhyzha/Courses/blob/master/System_Modeling/Lab10/2/2_net_after_500.jpg?raw=true\">"
   ]
  },
  {
   "cell_type": "markdown",
   "metadata": {},
   "source": [
    "**Статистика:**\n",
    "\n",
    "<img src=\"https://github.com/kryvokhyzha/Courses/blob/master/System_Modeling/Lab10/2/2_stat_500.jpg?raw=true\">"
   ]
  },
  {
   "cell_type": "markdown",
   "metadata": {},
   "source": [
    "## Task 3"
   ]
  },
  {
   "cell_type": "markdown",
   "metadata": {},
   "source": [
    "Побудувати модель системи, що відтворює обробку потоку запитів головним та допоміжним сервером. Ймовірність звернення до допоміжного сервера 0,3. Часові характеристики обробки запитів задайте самостійно."
   ]
  },
  {
   "cell_type": "markdown",
   "metadata": {},
   "source": [
    "**До запуску:**\n",
    "\n",
    "<img src=\"https://github.com/kryvokhyzha/Courses/blob/master/System_Modeling/Lab10/3/3_net_before.jpg?raw=true\">"
   ]
  },
  {
   "cell_type": "markdown",
   "metadata": {},
   "source": [
    "**1. Time modeling = 1000**"
   ]
  },
  {
   "cell_type": "markdown",
   "metadata": {},
   "source": [
    "**Після запуску:**\n",
    "\n",
    "<img src=\"https://github.com/kryvokhyzha/Courses/blob/master/System_Modeling/Lab10/3/3_net_after_1000.jpg?raw=true\">"
   ]
  },
  {
   "cell_type": "markdown",
   "metadata": {},
   "source": [
    "**Статистика:**\n",
    "\n",
    "<img src=\"https://github.com/kryvokhyzha/Courses/blob/master/System_Modeling/Lab10/3/3_stat_1000.jpg?raw=true\">"
   ]
  },
  {
   "cell_type": "markdown",
   "metadata": {},
   "source": [
    "**2. Time modeling = 500**"
   ]
  },
  {
   "cell_type": "markdown",
   "metadata": {},
   "source": [
    "**Після запуску:**\n",
    "\n",
    "<img src=\"https://github.com/kryvokhyzha/Courses/blob/master/System_Modeling/Lab10/3/3_net_after_500.jpg?raw=true\">"
   ]
  },
  {
   "cell_type": "markdown",
   "metadata": {},
   "source": [
    "**Статистика:**\n",
    "\n",
    "<img src=\"https://github.com/kryvokhyzha/Courses/blob/master/System_Modeling/Lab10/3/3_stat_500.jpg?raw=true\">"
   ]
  },
  {
   "cell_type": "markdown",
   "metadata": {},
   "source": [
    "## Task 4"
   ]
  },
  {
   "cell_type": "markdown",
   "metadata": {},
   "source": [
    "Скласти математичні рівняння, що описують побудовану за текстом завдання 3 (цього практикуму) стохастичну мережу Петрі."
   ]
  },
  {
   "cell_type": "code",
   "execution_count": null,
   "metadata": {},
   "outputs": [],
   "source": []
  }
 ],
 "metadata": {
  "kernelspec": {
   "display_name": "Python 3",
   "language": "python",
   "name": "python3"
  },
  "language_info": {
   "codemirror_mode": {
    "name": "ipython",
    "version": 3
   },
   "file_extension": ".py",
   "mimetype": "text/x-python",
   "name": "python",
   "nbconvert_exporter": "python",
   "pygments_lexer": "ipython3",
   "version": "3.8.6"
  }
 },
 "nbformat": 4,
 "nbformat_minor": 4
}
