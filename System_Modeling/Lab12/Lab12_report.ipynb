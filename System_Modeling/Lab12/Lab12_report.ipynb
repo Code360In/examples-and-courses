{
 "cells": [
  {
   "cell_type": "markdown",
   "metadata": {},
   "source": [
    "# Lab 12\n",
    "+ ## Автор: Роман Кривохижа\n",
    "+ ## Група: ІС-72"
   ]
  },
  {
   "cell_type": "markdown",
   "metadata": {},
   "source": [
    "****\n",
    "****\n",
    "****"
   ]
  },
  {
   "cell_type": "markdown",
   "metadata": {},
   "source": [
    "## Task 1"
   ]
  },
  {
   "cell_type": "markdown",
   "metadata": {},
   "source": [
    "**Петрі модель:**"
   ]
  },
  {
   "cell_type": "markdown",
   "metadata": {},
   "source": [
    "<img src=\"https://github.com/kryvokhyzha/Courses/blob/master/System_Modeling/Lab12/img/task1_base.jpg?raw=true\">"
   ]
  },
  {
   "cell_type": "markdown",
   "metadata": {},
   "source": [
    "**Петрі-об'єктна модель:**"
   ]
  },
  {
   "cell_type": "markdown",
   "metadata": {},
   "source": [
    "<img src=\"https://github.com/kryvokhyzha/Courses/blob/master/System_Modeling/Lab12/img/task1_petri_obj.jpg?raw=true\">"
   ]
  },
  {
   "cell_type": "markdown",
   "metadata": {},
   "source": [
    "Скласти математичні рівняння, що описують побудовану за текстом завдання 3 (цього практикуму) стохастичну мережу Петрі."
   ]
  },
  {
   "cell_type": "markdown",
   "metadata": {},
   "source": [
    "$T = \\{T_1, T_2, T_3\\}$\n",
    "\n",
    "$P = \\{P_1, P_2, P_3, P_4, P_5, P_6\\}$\n",
    "\n",
    "$A = \\{(P_1, T_1), (T_1, P_1), (T_1, P_2), (P_2, T_2), (P_2, T_3), (T_2, P_5), (P_5, T_2), (T_3, P_6), (P_6, T3), (T_2, P_3), (T_3, P_4)\\}$\n",
    "\n",
    "$K = \\{(0, 1), (0, 0.7), (0, 0.3)\\}$\n",
    "\n",
    "$I = \\varnothing$\n",
    "\n",
    "$w = \\{1,1,1,1,1,1,1,1,1,1,1\\}$\n",
    "\n",
    "$s(0,0) = \\begin{Bmatrix}\n",
    "\\begin{pmatrix}\n",
    "1 \\\\\n",
    "0 \\\\\n",
    "0 \\\\\n",
    "0 \\\\\n",
    "1 \\\\\n",
    "1\n",
    "\\end{pmatrix} & \n",
    "\\begin{pmatrix}\n",
    "\\infty \\\\\n",
    "\\infty \\\\\n",
    "\\infty\n",
    "\\end{pmatrix}\n",
    "\\end{Bmatrix}$"
   ]
  },
  {
   "cell_type": "markdown",
   "metadata": {},
   "source": [
    "| Затримка  $T_1$ | Затримка  $T_2$ | Затримка  $T_3$ |\n",
    "| --- | --- | --- |\n",
    "| 0.012 | 2.5 | 3.6 |\n",
    "| 0.054 | 0.335 | 1.2 |\n",
    "| 0.086 | 0.652 | 0.354 |"
   ]
  },
  {
   "cell_type": "markdown",
   "metadata": {},
   "source": [
    "### Ітерація 1"
   ]
  },
  {
   "cell_type": "markdown",
   "metadata": {},
   "source": [
    "$P_1 \\geq 1 \\implies Z(T_1, 0.0) = 1$\n",
    "\n",
    "$P_2 \\leq 1 \\implies Z(T_2, 0.0) = 0$\n",
    "\n",
    "$P_3 \\leq 1 \\implies Z(T_3, 0.0) = 0$\n",
    "\n",
    "$\\psi = \\{T_1\\} \\implies X(T_1) = 1$\n",
    "****"
   ]
  },
  {
   "cell_type": "markdown",
   "metadata": {},
   "source": [
    "$D^-:$\n",
    "\n",
    "$M_{p1}(0.0) = 0$\n",
    "\n",
    "$M_{p2}(0.0) = 0$\n",
    "\n",
    "$M_{p3}(0.0) = 0$\n",
    "\n",
    "$M_{p4}(0.0) = 0$\n",
    "\n",
    "$M_{p5}(0.0) = 1$\n",
    "\n",
    "$M_{p6}(0.0) = 1$\n",
    "\n",
    "$E_{T1}(0.0) = \\{0.0 + 0.012\\}$\n",
    "\n",
    "$E_{T2}(0.0) = \\{\\infty\\}$\n",
    "\n",
    "$E_{T3}(0.0) = \\{\\infty\\}$\n",
    "****"
   ]
  },
  {
   "cell_type": "markdown",
   "metadata": {},
   "source": [
    "$t_1 = min\\{0.012, \\infty, \\infty\\}$\n",
    "****"
   ]
  },
  {
   "cell_type": "markdown",
   "metadata": {},
   "source": [
    "$s(0.0) = \\begin{Bmatrix}\n",
    "\\begin{pmatrix}\n",
    "0 \\\\\n",
    "0 \\\\\n",
    "0 \\\\\n",
    "0 \\\\\n",
    "1 \\\\\n",
    "1\n",
    "\\end{pmatrix} & \n",
    "\\begin{pmatrix}\n",
    "0.012 \\\\\n",
    "\\infty \\\\\n",
    "\\infty\n",
    "\\end{pmatrix}\n",
    "\\end{Bmatrix}$\n",
    "****"
   ]
  },
  {
   "cell_type": "markdown",
   "metadata": {},
   "source": [
    "$Z_{T_1}(0.0) = 1$\n",
    "\n",
    "$Z_{T_2}(0.0) = 0$\n",
    "\n",
    "$Z_{T_3}(0.0) = 0$\n",
    "****"
   ]
  },
  {
   "cell_type": "markdown",
   "metadata": {},
   "source": [
    "$D^+:$\n",
    "\n",
    "$Y(T_1, 0.012) = 1$\n",
    "\n",
    "$Y(T_2, 0.012) = 0$\n",
    "\n",
    "$Y(T_3, 0.012) = 0$\n",
    "\n",
    "$M_{p1}(0.012) = 1$\n",
    "\n",
    "$M_{p2}(0.012) = 1$\n",
    "\n",
    "$M_{p3}(0.012) = 0$\n",
    "\n",
    "$M_{p4}(0.012) = 0$\n",
    "\n",
    "$M_{p5}(0.012) = 1$\n",
    "\n",
    "$M_{p6}(0.012) = 1$\n",
    "\n",
    "$E_{T1}(0.012) = \\{\\infty\\}$\n",
    "\n",
    "$E_{T2}(0.012) = \\{\\infty\\}$\n",
    "\n",
    "$E_{T3}(0.012) = \\{\\infty\\}$\n",
    "****"
   ]
  },
  {
   "cell_type": "markdown",
   "metadata": {},
   "source": [
    "$s(0.0) = \\begin{Bmatrix}\n",
    "\\begin{pmatrix}\n",
    "1 \\\\\n",
    "1 \\\\\n",
    "0 \\\\\n",
    "0 \\\\\n",
    "1 \\\\\n",
    "1\n",
    "\\end{pmatrix} & \n",
    "\\begin{pmatrix}\n",
    "\\infty \\\\\n",
    "\\infty \\\\\n",
    "\\infty\n",
    "\\end{pmatrix}\n",
    "\\end{Bmatrix}$\n",
    "****\n",
    "****"
   ]
  },
  {
   "cell_type": "markdown",
   "metadata": {},
   "source": [
    "### Ітерація 2"
   ]
  },
  {
   "cell_type": "markdown",
   "metadata": {},
   "source": [
    "$P_1 \\geq 1 \\implies Z(T_1, 0.012) = 1$\n",
    "\n",
    "$P_2 \\geq 1 \\implies Z(T_2, 0.012) = 1$\n",
    "\n",
    "$P_3 \\leq 1 \\implies Z(T_3, 0.012) = 0$\n",
    "\n",
    "$\\psi = \\{T_1, T_2, T_3\\}$\n",
    "\n",
    "$P_2$ - конфліктна позиція (можемо перейти до $T_2$ або $T_3$)\n",
    "\n",
    "Виршішивши конфлікт, оберемо $T_2$ $\\implies X(T_1) = 1$ та $X(T_2) = 1$\n",
    "****"
   ]
  },
  {
   "cell_type": "markdown",
   "metadata": {},
   "source": [
    "$D^-:$\n",
    "\n",
    "$M_{p1}(0.012) = 0$\n",
    "\n",
    "$M_{p2}(0.012) = 0$\n",
    "\n",
    "$M_{p3}(0.012) = 0$\n",
    "\n",
    "$M_{p4}(0.012) = 0$\n",
    "\n",
    "$M_{p5}(0.012) = 0$\n",
    "\n",
    "$M_{p6}(0.012) = 1$\n",
    "\n",
    "$E_{T1}(0.0) = \\{0.012 + 0.054\\}$\n",
    "\n",
    "$E_{T2}(0.0) = \\{0.012 + 0.335\\}$\n",
    "\n",
    "$E_{T3}(0.0) = \\{\\infty\\}$\n",
    "****"
   ]
  },
  {
   "cell_type": "markdown",
   "metadata": {},
   "source": [
    "$s(0.012) = \\begin{Bmatrix}\n",
    "\\begin{pmatrix}\n",
    "0 \\\\\n",
    "0 \\\\\n",
    "0 \\\\\n",
    "0 \\\\\n",
    "0 \\\\\n",
    "1\n",
    "\\end{pmatrix} & \n",
    "\\begin{pmatrix}\n",
    "0.066 \\\\\n",
    "0.347 \\\\\n",
    "\\infty\n",
    "\\end{pmatrix}\n",
    "\\end{Bmatrix}$\n",
    "****"
   ]
  },
  {
   "cell_type": "markdown",
   "metadata": {},
   "source": [
    "$Z_{T_1}(0.012) = 1$\n",
    "\n",
    "$Z_{T_2}(0.012) = 1$\n",
    "\n",
    "$Z_{T_3}(0.012) = 0$\n",
    "****"
   ]
  },
  {
   "cell_type": "markdown",
   "metadata": {},
   "source": [
    "$t_2 = min\\{0.066, 0.347, \\infty\\}$\n",
    "****"
   ]
  },
  {
   "cell_type": "markdown",
   "metadata": {},
   "source": [
    "$D^+:$\n",
    "\n",
    "$Y(T_1, 0.066) = 1$\n",
    "\n",
    "$Y(T_2, 0.066) = 0$\n",
    "\n",
    "$Y(T_3, 0.066) = 0$\n",
    "\n",
    "$M_{p1}(0.066) = 1$\n",
    "\n",
    "$M_{p2}(0.066) = 1$\n",
    "\n",
    "$M_{p3}(0.066) = 0$\n",
    "\n",
    "$M_{p4}(0.066) = 0$\n",
    "\n",
    "$M_{p5}(0.066) = 1$\n",
    "\n",
    "$M_{p6}(0.066) = 1$\n",
    "\n",
    "$E_{T1}(0.066) = \\{\\infty\\}$\n",
    "\n",
    "$E_{T2}(0.066) = \\{\\infty\\}$\n",
    "\n",
    "$E_{T3}(0.066) = \\{\\infty\\}$\n",
    "****"
   ]
  },
  {
   "cell_type": "markdown",
   "metadata": {},
   "source": [
    "$s(0,0) = \\begin{Bmatrix}\n",
    "\\begin{pmatrix}\n",
    "1 \\\\\n",
    "1 \\\\\n",
    "0 \\\\\n",
    "0 \\\\\n",
    "1 \\\\\n",
    "1\n",
    "\\end{pmatrix} & \n",
    "\\begin{pmatrix}\n",
    "\\infty \\\\\n",
    "\\infty \\\\\n",
    "\\infty\n",
    "\\end{pmatrix}\n",
    "\\end{Bmatrix}$\n",
    "****"
   ]
  },
  {
   "cell_type": "code",
   "execution_count": null,
   "metadata": {},
   "outputs": [],
   "source": []
  }
 ],
 "metadata": {
  "kernelspec": {
   "display_name": "Python 3",
   "language": "python",
   "name": "python3"
  },
  "language_info": {
   "codemirror_mode": {
    "name": "ipython",
    "version": 3
   },
   "file_extension": ".py",
   "mimetype": "text/x-python",
   "name": "python",
   "nbconvert_exporter": "python",
   "pygments_lexer": "ipython3",
   "version": "3.8.6"
  }
 },
 "nbformat": 4,
 "nbformat_minor": 4
}
