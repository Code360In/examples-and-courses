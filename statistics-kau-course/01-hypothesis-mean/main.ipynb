{
 "cells": [
  {
   "cell_type": "code",
   "execution_count": 1,
   "metadata": {},
   "outputs": [],
   "source": [
    "import numpy as np\n",
    "from scipy.stats import f, t"
   ]
  },
  {
   "cell_type": "markdown",
   "metadata": {},
   "source": [
    "## 5.18\n",
    "\n",
    "Twenty engineer apprentices and 20 pilots were given six tests (Travers 1939). The variables were:\n",
    "\n",
    "+ $y_1$ = intelligence\n",
    "+ $y_2$ = form relations\n",
    "+ $y_3$ = dynamometer\n",
    "+ $y_4$ = dotting\n",
    "+ $y_5$ = sensory motor coordination\n",
    "+ $y_6$ = perseveration\n",
    "\n",
    "$T^{2} = \\dfrac{n_{1}n_{2}}{n_{1}+n_{2}}(\\bar{y_{1}} − \\bar{y_{2}})^{'} S^{-1}_{pl}(\\bar{y_{1}} − \\bar{y_{2}})$"
   ]
  },
  {
   "cell_type": "code",
   "execution_count": 2,
   "metadata": {},
   "outputs": [],
   "source": [
    "alpha = 0.05"
   ]
  },
  {
   "cell_type": "code",
   "execution_count": 3,
   "metadata": {},
   "outputs": [
    {
     "data": {
      "text/plain": [
       "(40, 7)"
      ]
     },
     "execution_count": 3,
     "metadata": {},
     "output_type": "execute_result"
    }
   ],
   "source": [
    "data = np.loadtxt('T5_6_PILOT.dat', dtype=int)\n",
    "data.shape"
   ]
  },
  {
   "cell_type": "code",
   "execution_count": 4,
   "metadata": {},
   "outputs": [
    {
     "data": {
      "text/plain": [
       "(20, 6)"
      ]
     },
     "execution_count": 4,
     "metadata": {},
     "output_type": "execute_result"
    }
   ],
   "source": [
    "pilots_data = data[:20, 1:]\n",
    "nx = pilots_data.shape[0]\n",
    "p = pilots_data.shape[1]\n",
    "pilots_data.shape"
   ]
  },
  {
   "cell_type": "code",
   "execution_count": 5,
   "metadata": {},
   "outputs": [
    {
     "data": {
      "text/plain": [
       "(20, 6)"
      ]
     },
     "execution_count": 5,
     "metadata": {},
     "output_type": "execute_result"
    }
   ],
   "source": [
    "engineers_data = data[20:, 1:]\n",
    "ny = engineers_data.shape[0]\n",
    "engineers_data.shape"
   ]
  },
  {
   "cell_type": "markdown",
   "metadata": {},
   "source": [
    "a) Test $H_{0}:\\mu_{1}=\\mu_{2}$."
   ]
  },
  {
   "cell_type": "code",
   "execution_count": 6,
   "metadata": {},
   "outputs": [],
   "source": [
    "def calc_hotteling(mean1, mean2, S, n1, n2, p):\n",
    "    T_2 = (mean1.T - mean2.T) @ np.linalg.pinv(S) @ (mean1 - mean2) * ((n1 * n2) /(n1 + n2))\n",
    "    \n",
    "    statistic = T_2 * (n1 + n2 - p - 1) / (p * (n1 + n2 - 2))\n",
    "    F = f(p, n1 + n2 - p - 1)\n",
    "    p_value = 1 - F.cdf(statistic)\n",
    "    return T_2, statistic, p_value"
   ]
  },
  {
   "cell_type": "code",
   "execution_count": 7,
   "metadata": {},
   "outputs": [],
   "source": [
    "engineers_mean = np.mean(engineers_data, axis=0)\n",
    "pilots_mean = np.mean(pilots_data, axis=0)\n",
    "\n",
    "engineers_cov = np.cov(engineers_data, rowvar=False)\n",
    "pilots_cov = np.cov(pilots_data, rowvar=False)"
   ]
  },
  {
   "cell_type": "code",
   "execution_count": 8,
   "metadata": {},
   "outputs": [],
   "source": [
    "S = ((nx - 1) * engineers_cov + (ny - 1) * pilots_cov) / (nx + ny - 2)"
   ]
  },
  {
   "cell_type": "code",
   "execution_count": 9,
   "metadata": {},
   "outputs": [
    {
     "data": {
      "text/plain": [
       "(66.66043899022219, 9.648221432795317, 3.851202317717295e-06)"
      ]
     },
     "execution_count": 9,
     "metadata": {},
     "output_type": "execute_result"
    }
   ],
   "source": [
    "T_2, statistic, p_value = calc_hotteling(engineers_mean, pilots_mean, S, nx, ny, p)\n",
    "T_2, statistic, p_value"
   ]
  },
  {
   "cell_type": "code",
   "execution_count": 10,
   "metadata": {},
   "outputs": [
    {
     "name": "stdout",
     "output_type": "stream",
     "text": [
      "Reject H_0\n"
     ]
    }
   ],
   "source": [
    "if p_value <= alpha:\n",
    "    print('Reject H_0')\n",
    "else:\n",
    "    print('Accept H_0')"
   ]
  },
  {
   "cell_type": "markdown",
   "metadata": {},
   "source": [
    "$p_{val} \\leq 0.05$ -> reject $H_0$ "
   ]
  },
  {
   "cell_type": "markdown",
   "metadata": {},
   "source": [
    "b) If the $T^2-test$ in part (a) rejects $H_0$, carry out a _t-test_ for each variable, as in (5.15)\n",
    "\n",
    "$t_{j} = \\frac{\\bar{y_{1j}} − \\bar{y_{2j}}}{\\sqrt{[(n_{1}+n_{2})/n_{1}n_{2}]s_{jj}}} $ , $j = 1,...6$"
   ]
  },
  {
   "cell_type": "code",
   "execution_count": 11,
   "metadata": {},
   "outputs": [
    {
     "data": {
      "text/plain": [
       "array([ True, False, False, False,  True, False])"
      ]
     },
     "execution_count": 11,
     "metadata": {},
     "output_type": "execute_result"
    }
   ],
   "source": [
    "df = ny + nx - 2\n",
    "cv = t.ppf(1.0 - alpha, df)\n",
    "\n",
    "t_stats = np.asarray([\n",
    "    (engineers_mean[j] - pilots_mean[j]) / np.sqrt(((nx + ny) / (nx * ny)) * S[j,j])\n",
    "    for j in range(p)\n",
    "])\n",
    "\n",
    "p_vals = np.asarray([\n",
    "    (1 - t.cdf(abs(t_stats[j]), df)) * 2\n",
    "    for j in range(p)\n",
    "])\n",
    "\n",
    "p_vals > alpha"
   ]
  },
  {
   "cell_type": "markdown",
   "metadata": {},
   "source": [
    "Accept $H_0$ only for $\\mu_1$ and $\\mu_5$"
   ]
  },
  {
   "cell_type": "markdown",
   "metadata": {},
   "source": [
    "## 5.20\n",
    "\n",
    "Various aspects of economic cycles were measured for consumers’ goods and producers’ goods by Tintner (1946). The variables are:\n",
    "\n",
    "+ $y_1$ = length of cycle\n",
    "+ $y_2$ = percentage of rising prices\n",
    "+ $y_3$ = cyclical amplitude\n",
    "+ $y_4$ = rate of change"
   ]
  },
  {
   "cell_type": "code",
   "execution_count": 12,
   "metadata": {},
   "outputs": [
    {
     "data": {
      "text/plain": [
       "(19, 6)"
      ]
     },
     "execution_count": 12,
     "metadata": {},
     "output_type": "execute_result"
    }
   ],
   "source": [
    "data = np.loadtxt('T5_8_GOODS.dat', dtype=float)\n",
    "data.shape"
   ]
  },
  {
   "cell_type": "code",
   "execution_count": 13,
   "metadata": {},
   "outputs": [
    {
     "data": {
      "text/plain": [
       "(9, 5)"
      ]
     },
     "execution_count": 13,
     "metadata": {},
     "output_type": "execute_result"
    }
   ],
   "source": [
    "cons_data = data[:9, 1:]\n",
    "nx = cons_data.shape[0]\n",
    "p = cons_data.shape[1]\n",
    "cons_data.shape"
   ]
  },
  {
   "cell_type": "code",
   "execution_count": 14,
   "metadata": {},
   "outputs": [
    {
     "data": {
      "text/plain": [
       "(10, 5)"
      ]
     },
     "execution_count": 14,
     "metadata": {},
     "output_type": "execute_result"
    }
   ],
   "source": [
    "prod_data = data[9:, 1:]\n",
    "ny = prod_data.shape[0]\n",
    "prod_data.shape"
   ]
  },
  {
   "cell_type": "markdown",
   "metadata": {},
   "source": [
    "a) Test $H_{0}:\\mu_{1}=\\mu_{2}$ using $T^2$."
   ]
  },
  {
   "cell_type": "code",
   "execution_count": 15,
   "metadata": {},
   "outputs": [],
   "source": [
    "cons_mean = np.mean(cons_data, axis=0)\n",
    "prod_mean = np.mean(prod_data, axis=0)\n",
    "\n",
    "cons_cov = np.cov(cons_data, rowvar=False)\n",
    "prod_cov = np.cov(prod_data, rowvar=False)"
   ]
  },
  {
   "cell_type": "code",
   "execution_count": 16,
   "metadata": {},
   "outputs": [],
   "source": [
    "S = ((nx - 1) * cons_cov + (ny - 1) * prod_cov) / (nx + ny - 2)"
   ]
  },
  {
   "cell_type": "code",
   "execution_count": 17,
   "metadata": {},
   "outputs": [
    {
     "data": {
      "text/plain": [
       "(18.462480293007854, 2.823673456577672, 0.061072768410669886)"
      ]
     },
     "execution_count": 17,
     "metadata": {},
     "output_type": "execute_result"
    }
   ],
   "source": [
    "T_2, statistic, p_value = calc_hotteling(cons_mean, prod_mean, S, nx, ny, p)\n",
    "T_2, statistic, p_value"
   ]
  },
  {
   "cell_type": "code",
   "execution_count": 18,
   "metadata": {},
   "outputs": [
    {
     "name": "stdout",
     "output_type": "stream",
     "text": [
      "Accept H_0\n"
     ]
    }
   ],
   "source": [
    "if p_value <= alpha:\n",
    "    print('Reject H_0')\n",
    "else:\n",
    "    print('Accept H_0')"
   ]
  },
  {
   "cell_type": "code",
   "execution_count": null,
   "metadata": {},
   "outputs": [],
   "source": []
  }
 ],
 "metadata": {
  "interpreter": {
   "hash": "c6e4e9f98eb68ad3b7c296f83d20e6de614cb42e90992a65aa266555a3137d0d"
  },
  "kernelspec": {
   "display_name": "Python 3.9.7 ('base')",
   "language": "python",
   "name": "python3"
  },
  "language_info": {
   "codemirror_mode": {
    "name": "ipython",
    "version": 3
   },
   "file_extension": ".py",
   "mimetype": "text/x-python",
   "name": "python",
   "nbconvert_exporter": "python",
   "pygments_lexer": "ipython3",
   "version": "3.9.7"
  },
  "orig_nbformat": 4
 },
 "nbformat": 4,
 "nbformat_minor": 2
}
