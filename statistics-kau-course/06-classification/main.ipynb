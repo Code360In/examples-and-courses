{
 "cells": [
  {
   "cell_type": "markdown",
   "metadata": {},
   "source": [
    "## Import packages"
   ]
  },
  {
   "cell_type": "code",
   "execution_count": 1,
   "metadata": {},
   "outputs": [],
   "source": [
    "import numpy as np\n",
    "import pandas as pd"
   ]
  },
  {
   "cell_type": "code",
   "execution_count": 2,
   "metadata": {},
   "outputs": [],
   "source": [
    "from sklearn.model_selection import train_test_split\n",
    "from sklearn.preprocessing import StandardScaler\n",
    "from sklearn.metrics import classification_report"
   ]
  },
  {
   "cell_type": "markdown",
   "metadata": {},
   "source": [
    "## Data Loading"
   ]
  },
  {
   "cell_type": "code",
   "execution_count": 3,
   "metadata": {},
   "outputs": [],
   "source": [
    "seed = 42\n",
    "test_ratio = 0.2\n",
    "scaler = StandardScaler()"
   ]
  },
  {
   "cell_type": "code",
   "execution_count": 4,
   "metadata": {},
   "outputs": [
    {
     "data": {
      "text/plain": [
       "(569, 31)"
      ]
     },
     "execution_count": 4,
     "metadata": {},
     "output_type": "execute_result"
    }
   ],
   "source": [
    "data_df = (\n",
    "    pd.read_csv('data.csv')\n",
    "    .drop(columns=['id', 'Unnamed: 32'])\n",
    ")\n",
    "data_df.shape"
   ]
  },
  {
   "cell_type": "code",
   "execution_count": 5,
   "metadata": {},
   "outputs": [
    {
     "data": {
      "text/plain": [
       "B    357\n",
       "M    212\n",
       "Name: diagnosis, dtype: int64"
      ]
     },
     "execution_count": 5,
     "metadata": {},
     "output_type": "execute_result"
    }
   ],
   "source": [
    "data_df.diagnosis.value_counts()"
   ]
  },
  {
   "cell_type": "markdown",
   "metadata": {},
   "source": [
    "## Data Preprocessing"
   ]
  },
  {
   "cell_type": "code",
   "execution_count": 6,
   "metadata": {},
   "outputs": [],
   "source": [
    "X = scaler.fit_transform(data_df.drop(columns=['diagnosis']))\n",
    "y = data_df['diagnosis'].map({'M': 0, 'B': 1}).values"
   ]
  },
  {
   "cell_type": "code",
   "execution_count": 7,
   "metadata": {},
   "outputs": [],
   "source": [
    "X_train, X_test, y_train, y_test = train_test_split(X, y, stratify=y, shuffle=True, random_state=seed, test_size=test_ratio)"
   ]
  },
  {
   "cell_type": "code",
   "execution_count": 8,
   "metadata": {},
   "outputs": [],
   "source": [
    "X_m = X[y == 0].copy()\n",
    "X_b = X[y == 1].copy()\n",
    "\n",
    "n_m = X_m.shape[0]\n",
    "n_b = X_b.shape[0]\n",
    "\n",
    "p_m = n_m / X.shape[0]\n",
    "p_b = n_b / X.shape[0]"
   ]
  },
  {
   "cell_type": "code",
   "execution_count": 9,
   "metadata": {},
   "outputs": [],
   "source": [
    "X_m_train, X_m_test = train_test_split(X_m, random_state=seed, test_size=test_ratio)\n",
    "X_b_train, X_b_test = train_test_split(X_b, random_state=seed, test_size=test_ratio)"
   ]
  },
  {
   "cell_type": "code",
   "execution_count": 10,
   "metadata": {},
   "outputs": [
    {
     "data": {
      "text/plain": [
       "((169, 30), (454, 30))"
      ]
     },
     "execution_count": 10,
     "metadata": {},
     "output_type": "execute_result"
    }
   ],
   "source": [
    "X_m_train.shape, np.vstack((X_m_train, X_b_train,)).shape"
   ]
  },
  {
   "cell_type": "code",
   "execution_count": 11,
   "metadata": {},
   "outputs": [],
   "source": [
    "X_m_mean = np.mean(X_m_train, axis=0)\n",
    "X_b_mean = np.mean(X_b_train, axis=0)\n",
    "\n",
    "X_m_cov = np.cov(X_m_train, rowvar=False)\n",
    "X_b_cov = np.cov(X_b_train, rowvar=False)"
   ]
  },
  {
   "cell_type": "markdown",
   "metadata": {},
   "source": [
    "## Task 1\n",
    "\n",
    "В першій задачі  зробити \"вручну\" класифікацію,  використовуючи ядерні оцінки щільності"
   ]
  },
  {
   "cell_type": "markdown",
   "metadata": {},
   "source": [
    "a) нормальна щільність,  багатовимірний випадок"
   ]
  },
  {
   "cell_type": "code",
   "execution_count": 12,
   "metadata": {},
   "outputs": [],
   "source": [
    "def compute_ln_f(x, x_mean, S, p=None):\n",
    "    if p is None:\n",
    "        p = 1\n",
    "    x_centered = x - x_mean\n",
    "    return -0.5 * (x.shape[0] * np.log(2 * np.pi) + np.log(np.linalg.det(S)) + x_centered.T @ np.linalg.inv(S) @ x_centered) + np.log(p)"
   ]
  },
  {
   "cell_type": "code",
   "execution_count": 13,
   "metadata": {},
   "outputs": [],
   "source": [
    "def predict(X, x_m_mean, x_b_mean, x_m_cov, x_b_cov, p_m=None, p_b=None):\n",
    "    result = []\n",
    "    for row in X:\n",
    "        result.append(\n",
    "            int(compute_ln_f(row, x_b_mean, x_b_cov, p=p_b) > compute_ln_f(row, x_m_mean, x_m_cov, p=p_m))\n",
    "        )\n",
    "    return result"
   ]
  },
  {
   "cell_type": "code",
   "execution_count": 14,
   "metadata": {},
   "outputs": [
    {
     "name": "stdout",
     "output_type": "stream",
     "text": [
      "              precision    recall  f1-score   support\n",
      "\n",
      "           0       0.89      0.98      0.93        43\n",
      "           1       0.99      0.93      0.96        72\n",
      "\n",
      "    accuracy                           0.95       115\n",
      "   macro avg       0.94      0.95      0.95       115\n",
      "weighted avg       0.95      0.95      0.95       115\n",
      "\n"
     ]
    }
   ],
   "source": [
    "predictions = predict(np.vstack((X_m_test, X_b_test,)), X_m_mean, X_b_mean, X_m_cov, X_b_cov, p_m, p_b)\n",
    "print(classification_report(\n",
    "    np.asarray([0]*X_m_test.shape[0] + [1]*X_b_test.shape[0]),\n",
    "    predictions\n",
    "))"
   ]
  },
  {
   "cell_type": "markdown",
   "metadata": {},
   "source": [
    "б) взяти radius.mean  і використати  ядро $K(u)= (\\pi)^{-1} sin^2 (u)/u^2$"
   ]
  },
  {
   "cell_type": "code",
   "execution_count": 15,
   "metadata": {},
   "outputs": [],
   "source": [
    "def sin_kernal(u):\n",
    "    return np.sin(u) ** 2 / ((u ** 2) * np.pi)"
   ]
  },
  {
   "cell_type": "code",
   "execution_count": 16,
   "metadata": {},
   "outputs": [],
   "source": [
    "def estimate(linspace, sample, n, h, kernal):\n",
    "    return np.sum(kernal((linspace - sample) / h), axis=1) / (n*h)"
   ]
  },
  {
   "cell_type": "code",
   "execution_count": 17,
   "metadata": {},
   "outputs": [],
   "source": [
    "def predict(linspace1, linspace2, x, n, h, kernal, p1=1, p2=1):\n",
    "    predict1 = estimate(linspace1, x, n, h, kernal)\n",
    "    predict2 = estimate(linspace2, x, n, h, kernal)\n",
    "    return (p2*predict2 > p1*predict1).astype(int)"
   ]
  },
  {
   "cell_type": "code",
   "execution_count": 18,
   "metadata": {},
   "outputs": [
    {
     "data": {
      "text/plain": [
       "(6.981, 28.11)"
      ]
     },
     "execution_count": 18,
     "metadata": {},
     "output_type": "execute_result"
    }
   ],
   "source": [
    "data_df['radius_mean'].min(), data_df['radius_mean'].max()"
   ]
  },
  {
   "cell_type": "code",
   "execution_count": 19,
   "metadata": {},
   "outputs": [],
   "source": [
    "n = 100\n",
    "h = 0.1\n",
    "x_linspace = np.linspace(start=5, stop=30, num=n, endpoint=True)"
   ]
  },
  {
   "cell_type": "code",
   "execution_count": 20,
   "metadata": {},
   "outputs": [
    {
     "name": "stdout",
     "output_type": "stream",
     "text": [
      "              precision    recall  f1-score   support\n",
      "\n",
      "           0       0.57      0.91      0.70        43\n",
      "           1       0.91      0.58      0.71        72\n",
      "\n",
      "    accuracy                           0.70       115\n",
      "   macro avg       0.74      0.75      0.70       115\n",
      "weighted avg       0.78      0.70      0.71       115\n",
      "\n"
     ]
    },
    {
     "name": "stderr",
     "output_type": "stream",
     "text": [
      "/var/folders/rl/_3vj1pms68l3nf_8kr_xl4980000gn/T/ipykernel_4636/2026148005.py:2: RuntimeWarning: invalid value encountered in true_divide\n",
      "  return np.sin(u) ** 2 / ((u ** 2) * np.pi)\n"
     ]
    }
   ],
   "source": [
    "prediction_m = predict(X_m_train[:, 0], X_b_train[:, 0], X_m_test[:, 0][:, None], n, h, sin_kernal, p1=p_m, p2=p_b)\n",
    "prediction_b = predict(X_m_train[:, 0], X_b_train[:, 0], X_b_test[:, 0][:, None], n, h, sin_kernal, p1=p_m, p2=p_b)\n",
    "\n",
    "print(classification_report(\n",
    "    np.asarray([0]*X_m_test.shape[0] + [1]*X_b_test.shape[0]),\n",
    "    np.concatenate((prediction_m, prediction_b,))\n",
    "))"
   ]
  },
  {
   "cell_type": "markdown",
   "metadata": {},
   "source": [
    "## Task 2\n",
    "\n",
    "Записати алгоритм для методу Fix & Hodges."
   ]
  },
  {
   "cell_type": "code",
   "execution_count": 21,
   "metadata": {},
   "outputs": [],
   "source": [
    "from sklearn.base import BaseEstimator, ClassifierMixin\n",
    "from scipy.spatial import distance_matrix"
   ]
  },
  {
   "cell_type": "code",
   "execution_count": 22,
   "metadata": {},
   "outputs": [],
   "source": [
    "class KNearestNeighbor(BaseEstimator, ClassifierMixin):\n",
    "    \n",
    "    def __init__(self, n_neighbors: int = 1, p: int = 2):\n",
    "        self.n_neighbors = n_neighbors\n",
    "        self.p = p\n",
    "\n",
    "    def fit(self, X, y):\n",
    "        self.X_train = X\n",
    "        self.y_train = y\n",
    "        self.proportions = np.unique(y, return_counts=True)[1] / len(y)\n",
    "\n",
    "    def predict(self, X):\n",
    "        return self._predict_labels(distance_matrix(X, self.X_train, p=self.p))\n",
    "\n",
    "    def _predict_labels(self, dists):\n",
    "        num_test = dists.shape[0]\n",
    "        y_pred = np.zeros(num_test)\n",
    "        for i in range(num_test):\n",
    "            y_ind = np.argsort(dists[i, :], axis=0)\n",
    "            closest_y = self.y_train[y_ind[:self.n_neighbors]]\n",
    "            \n",
    "            bins = np.bincount(closest_y)\n",
    "            y_pred[i] = np.argmax(bins * self.proportions[:len(bins)])\n",
    "\n",
    "        return y_pred"
   ]
  },
  {
   "cell_type": "code",
   "execution_count": 23,
   "metadata": {},
   "outputs": [
    {
     "name": "stdout",
     "output_type": "stream",
     "text": [
      "              precision    recall  f1-score   support\n",
      "\n",
      "           0       1.00      0.95      0.98        42\n",
      "           1       0.97      1.00      0.99        72\n",
      "\n",
      "    accuracy                           0.98       114\n",
      "   macro avg       0.99      0.98      0.98       114\n",
      "weighted avg       0.98      0.98      0.98       114\n",
      "\n"
     ]
    }
   ],
   "source": [
    "knn_clf = KNearestNeighbor(n_neighbors=3)\n",
    "knn_clf.fit(X_train, y_train);\n",
    "\n",
    "prediction = knn_clf.predict(X_test)\n",
    "\n",
    "print(classification_report(y_test, prediction))"
   ]
  },
  {
   "cell_type": "code",
   "execution_count": null,
   "metadata": {},
   "outputs": [],
   "source": []
  }
 ],
 "metadata": {
  "interpreter": {
   "hash": "c6e4e9f98eb68ad3b7c296f83d20e6de614cb42e90992a65aa266555a3137d0d"
  },
  "kernelspec": {
   "display_name": "Python 3.9.7 ('base')",
   "language": "python",
   "name": "python3"
  },
  "language_info": {
   "codemirror_mode": {
    "name": "ipython",
    "version": 3
   },
   "file_extension": ".py",
   "mimetype": "text/x-python",
   "name": "python",
   "nbconvert_exporter": "python",
   "pygments_lexer": "ipython3",
   "version": "3.9.7"
  },
  "orig_nbformat": 4
 },
 "nbformat": 4,
 "nbformat_minor": 2
}
