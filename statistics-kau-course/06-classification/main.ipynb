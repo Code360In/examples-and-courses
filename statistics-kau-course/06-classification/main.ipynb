{
 "cells": [
  {
   "cell_type": "markdown",
   "metadata": {},
   "source": [
    "## Import packages"
   ]
  },
  {
   "cell_type": "code",
   "execution_count": null,
   "metadata": {},
   "outputs": [],
   "source": [
    "import numpy as np\n",
    "import pandas as pd"
   ]
  },
  {
   "cell_type": "markdown",
   "metadata": {},
   "source": [
    "## Data Loading"
   ]
  },
  {
   "cell_type": "code",
   "execution_count": null,
   "metadata": {},
   "outputs": [],
   "source": [
    "data_df = pd.read_csv('data.csv')"
   ]
  },
  {
   "cell_type": "markdown",
   "metadata": {},
   "source": [
    "## Task 1\n",
    "\n",
    "В першій задачі  зробити \"вручну\" класифікацію,  використовуючи ядерні оцінки щільності"
   ]
  },
  {
   "cell_type": "markdown",
   "metadata": {},
   "source": [
    "a) нормальна щільність,  багатовимірний випадок"
   ]
  },
  {
   "cell_type": "code",
   "execution_count": null,
   "metadata": {},
   "outputs": [],
   "source": []
  },
  {
   "cell_type": "markdown",
   "metadata": {},
   "source": [
    "б) взяти radius.mean  і використати  ядро $K(u)= (\\pi)^{-1} sin^2 (u)/u^2$"
   ]
  },
  {
   "cell_type": "code",
   "execution_count": null,
   "metadata": {},
   "outputs": [],
   "source": []
  },
  {
   "cell_type": "markdown",
   "metadata": {},
   "source": [
    "## Task 2\n",
    "\n",
    "Записати алгоритм для методу Fix & Hodges."
   ]
  },
  {
   "cell_type": "code",
   "execution_count": null,
   "metadata": {},
   "outputs": [],
   "source": [
    "from sklearn.base import BaseEstimator, ClassifierMixin\n",
    "from scipy.spatial import distance_matrix"
   ]
  },
  {
   "cell_type": "code",
   "execution_count": null,
   "metadata": {},
   "outputs": [],
   "source": [
    "class KNearestNeighbor(BaseEstimator, ClassifierMixin):\n",
    "    \"\"\"A kNN classifier\"\"\"\n",
    "\n",
    "    def __init__(self, n_neighbors: int = 1, p: int = 2):\n",
    "        \"\"\"\n",
    "        Args:\n",
    "            n_neighbors (int): number of neighbors. Defaults to 1.\n",
    "            p (int): Minkowski p-norm. Defaults to 2.\n",
    "        \"\"\"\n",
    "        self.n_neighbors = n_neighbors\n",
    "        self.p = p\n",
    "\n",
    "    def fit(self, X, y):\n",
    "        self.X_train = X\n",
    "        self.y_train = y\n",
    "\n",
    "    def predict(self, X):\n",
    "        return self._predict_labels(distance_matrix(X, self.X_train, p=self.p))\n",
    "\n",
    "    def _predict_labels(self, dists):\n",
    "        \"\"\"\n",
    "        Given a matrix of distances between test points and training points,\n",
    "        predict a label for each test point.\n",
    "        \"\"\"\n",
    "        num_test = dists.shape[0]\n",
    "        y_pred = np.zeros(num_test)\n",
    "        for i in range(num_test):\n",
    "\n",
    "            # Use the distance matrix to find the k nearest neighbors of the ith\n",
    "            # testing point, and use self.y_train to find the labels of these neighbors\n",
    "            y_ind = np.argsort(dists[i, :], axis=0)\n",
    "            closest_y = self.y_train[y_ind[:self.n_neighbors]]\n",
    "\n",
    "            # Find the most common label in the list closest_y of labels.\n",
    "            y_pred[i] = np.argmax(np.bincount(closest_y))\n",
    "\n",
    "        return y_pred"
   ]
  }
 ],
 "metadata": {
  "interpreter": {
   "hash": "c6e4e9f98eb68ad3b7c296f83d20e6de614cb42e90992a65aa266555a3137d0d"
  },
  "kernelspec": {
   "display_name": "Python 3.9.7 ('base')",
   "language": "python",
   "name": "python3"
  },
  "language_info": {
   "name": "python",
   "version": "3.9.7"
  },
  "orig_nbformat": 4
 },
 "nbformat": 4,
 "nbformat_minor": 2
}
