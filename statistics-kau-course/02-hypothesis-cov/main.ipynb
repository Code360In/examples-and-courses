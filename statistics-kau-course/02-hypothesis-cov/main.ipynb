{
 "cells": [
  {
   "cell_type": "code",
   "execution_count": 1,
   "metadata": {},
   "outputs": [],
   "source": [
    "import numpy as np\n",
    "import scipy.stats as stats\n",
    "from math import sqrt"
   ]
  },
  {
   "cell_type": "code",
   "execution_count": 2,
   "metadata": {},
   "outputs": [],
   "source": [
    "alpha = 0.05"
   ]
  },
  {
   "cell_type": "markdown",
   "metadata": {},
   "source": [
    "## 7.14\n",
    "\n",
    "In Example 5.2.2, we assumed that for the height and weight data of Table 3.1,\n",
    "the population covariance matrix is:\n",
    "\n",
    "$\\sum = \\left( \\begin{array}{cc} 20 & 100 \\\\ 100 & 1000 \\end{array} \\right)$\n",
    "\n",
    "Test this as a hypothesis using (7.2)."
   ]
  },
  {
   "cell_type": "code",
   "execution_count": 3,
   "metadata": {},
   "outputs": [
    {
     "data": {
      "text/plain": [
       "(20, 2)"
      ]
     },
     "execution_count": 3,
     "metadata": {},
     "output_type": "execute_result"
    }
   ],
   "source": [
    "E_0 = np.asarray([[20, 100], [100, 1000]])\n",
    "data = np.loadtxt('T3_1_HEIGHTWT.dat', dtype=int)[:, 1:]\n",
    "nu, p = data.shape\n",
    "data.shape"
   ]
  },
  {
   "cell_type": "code",
   "execution_count": 4,
   "metadata": {},
   "outputs": [],
   "source": [
    "S = np.cov(data, rowvar=False)\n",
    "eig_vals, _ = np.linalg.eig(S @ np.linalg.pinv(E_0))\n",
    "eig_vals = eig_vals[:p]"
   ]
  },
  {
   "cell_type": "code",
   "execution_count": 5,
   "metadata": {},
   "outputs": [
    {
     "data": {
      "text/plain": [
       "11.677624284744414"
      ]
     },
     "execution_count": 5,
     "metadata": {},
     "output_type": "execute_result"
    }
   ],
   "source": [
    "u = nu * (np.sum(eig_vals - np.log(eig_vals)) - p)\n",
    "u"
   ]
  },
  {
   "cell_type": "code",
   "execution_count": 6,
   "metadata": {},
   "outputs": [
    {
     "data": {
      "text/plain": [
       "11.252388666532433"
      ]
     },
     "execution_count": 6,
     "metadata": {},
     "output_type": "execute_result"
    }
   ],
   "source": [
    "u_t = (1 - (1 / (6 * nu - 1) * (2 * p + 1 - (2 / (p + 1))))) * u\n",
    "u_t"
   ]
  },
  {
   "cell_type": "code",
   "execution_count": 7,
   "metadata": {},
   "outputs": [
    {
     "data": {
      "text/plain": [
       "7.814727903251179"
      ]
     },
     "execution_count": 7,
     "metadata": {},
     "output_type": "execute_result"
    }
   ],
   "source": [
    "df = (0.5 * p * (p + 1))\n",
    "xi_critical = stats.chi2.ppf(1 - alpha, df=df)\n",
    "xi_critical"
   ]
  },
  {
   "cell_type": "code",
   "execution_count": 8,
   "metadata": {},
   "outputs": [
    {
     "name": "stdout",
     "output_type": "stream",
     "text": [
      "Reject H_0\n"
     ]
    }
   ],
   "source": [
    "if u_t > xi_critical:\n",
    "    print('Reject H_0')\n",
    "else:\n",
    "    print('Accept H_0')"
   ]
  },
  {
   "cell_type": "markdown",
   "metadata": {},
   "source": [
    "## 7.15\n",
    "\n",
    "$H_{0} : \\sum = σ^2I$\n",
    "\n",
    "and\n",
    "\n",
    "$H_{0} : C \\sum C^{'} = σ^2I$\n",
    "\n",
    "for the calculator speed data of Table 6.12."
   ]
  },
  {
   "cell_type": "code",
   "execution_count": 3,
   "metadata": {},
   "outputs": [
    {
     "data": {
      "text/plain": [
       "(5, 4)"
      ]
     },
     "execution_count": 3,
     "metadata": {},
     "output_type": "execute_result"
    }
   ],
   "source": [
    "data = np.loadtxt('T6_12_CALCSPD.DAT', dtype=int)\n",
    "n, p = data.shape\n",
    "nu = n - 1\n",
    "data.shape"
   ]
  },
  {
   "cell_type": "markdown",
   "metadata": {},
   "source": [
    "part I"
   ]
  },
  {
   "cell_type": "code",
   "execution_count": 4,
   "metadata": {},
   "outputs": [],
   "source": [
    "S = np.cov(data, rowvar=False)"
   ]
  },
  {
   "cell_type": "code",
   "execution_count": 5,
   "metadata": {},
   "outputs": [
    {
     "data": {
      "text/plain": [
       "(5.9358646550531846e-05, 23.51878917015389)"
      ]
     },
     "execution_count": 5,
     "metadata": {},
     "output_type": "execute_result"
    }
   ],
   "source": [
    "u = (p ** p)  * (np.linalg.det(S) / (np.trace(S) ** p)) \n",
    "u_t = -(nu - (2 * (p**2) + p + 2) / (6 * p)) * np.log(u)\n",
    "u, u_t"
   ]
  },
  {
   "cell_type": "code",
   "execution_count": 6,
   "metadata": {},
   "outputs": [],
   "source": [
    "eig_vals, _ = np.linalg.eig(S)\n",
    "eig_vals = eig_vals[:p]"
   ]
  },
  {
   "cell_type": "code",
   "execution_count": 7,
   "metadata": {},
   "outputs": [
    {
     "data": {
      "text/plain": [
       "(5.935864655048137e-05, 23.51878917015594)"
      ]
     },
     "execution_count": 7,
     "metadata": {},
     "output_type": "execute_result"
    }
   ],
   "source": [
    "u = (p ** p)  * (np.prod(eig_vals) / (np.sum(eig_vals) ** p)) \n",
    "u_t = - (nu - (2 * (p**2) + p + 2) / (6 * p)) * np.log(u)\n",
    "u, u_t"
   ]
  },
  {
   "cell_type": "code",
   "execution_count": 8,
   "metadata": {},
   "outputs": [
    {
     "data": {
      "text/plain": [
       "16.918977604620448"
      ]
     },
     "execution_count": 8,
     "metadata": {},
     "output_type": "execute_result"
    }
   ],
   "source": [
    "df = (0.5 * p * (p + 1) - 1)\n",
    "xi_critical = stats.chi2.ppf(1 - alpha, df=df)\n",
    "xi_critical"
   ]
  },
  {
   "cell_type": "code",
   "execution_count": 9,
   "metadata": {},
   "outputs": [
    {
     "name": "stdout",
     "output_type": "stream",
     "text": [
      "Reject H_0\n"
     ]
    }
   ],
   "source": [
    "if u_t >= xi_critical:\n",
    "    print('Reject H_0')\n",
    "else:\n",
    "    print('Accept H_0')"
   ]
  },
  {
   "cell_type": "markdown",
   "metadata": {},
   "source": [
    "part II"
   ]
  },
  {
   "cell_type": "code",
   "execution_count": 10,
   "metadata": {},
   "outputs": [],
   "source": [
    "C = np.asarray([\n",
    "    [3/sqrt(12), -1/sqrt(12), -1/sqrt(12), -1/sqrt(12)],\n",
    "    [0, 2/sqrt(6), -1/sqrt(6), -1/sqrt(6)],\n",
    "    [0, 0, 1/sqrt(2), -1/sqrt(2)],\n",
    "])\n",
    "S = np.cov(data, rowvar=False)\n",
    "S_ort = C @ S @ C.T\n",
    "p_ort = p - 1"
   ]
  },
  {
   "cell_type": "code",
   "execution_count": 11,
   "metadata": {},
   "outputs": [
    {
     "data": {
      "text/plain": [
       "(0.47090219714321957, 2.0501187744088436)"
      ]
     },
     "execution_count": 11,
     "metadata": {},
     "output_type": "execute_result"
    }
   ],
   "source": [
    "u = (p_ort ** p_ort)  * (np.linalg.det(S_ort) / (np.trace(S_ort) ** p_ort)) \n",
    "u_t = - (nu - (2 * (p_ort**2) + p_ort + 2) / (6 * p_ort)) * np.log(u)\n",
    "u, u_t"
   ]
  },
  {
   "cell_type": "code",
   "execution_count": 12,
   "metadata": {},
   "outputs": [
    {
     "data": {
      "text/plain": [
       "11.070497693516351"
      ]
     },
     "execution_count": 12,
     "metadata": {},
     "output_type": "execute_result"
    }
   ],
   "source": [
    "df = (0.5 * p_ort * (p_ort + 1) - 1)\n",
    "xi_critical = stats.chi2.ppf(1 - alpha, df=df)\n",
    "xi_critical"
   ]
  },
  {
   "cell_type": "code",
   "execution_count": 13,
   "metadata": {},
   "outputs": [
    {
     "name": "stdout",
     "output_type": "stream",
     "text": [
      "Accept H_0\n"
     ]
    }
   ],
   "source": [
    "if u_t >= xi_critical:\n",
    "    print('Reject H_0')\n",
    "else:\n",
    "    print('Accept H_0')"
   ]
  },
  {
   "cell_type": "markdown",
   "metadata": {},
   "source": [
    "## 7.28\n",
    "\n",
    "Test independence of $(y_1, y_2)$ and $(x_1, x_2)$ for the sons data in Table 3.7."
   ]
  },
  {
   "cell_type": "code",
   "execution_count": 14,
   "metadata": {},
   "outputs": [
    {
     "data": {
      "text/plain": [
       "(25, 4)"
      ]
     },
     "execution_count": 14,
     "metadata": {},
     "output_type": "execute_result"
    }
   ],
   "source": [
    "data = np.loadtxt('T3_7_SONS.DAT', dtype=int)\n",
    "k = 2\n",
    "n, p = data.shape\n",
    "data.shape"
   ]
  },
  {
   "cell_type": "code",
   "execution_count": 15,
   "metadata": {},
   "outputs": [],
   "source": [
    "son_a = data[:, :2]\n",
    "n_a, p_a = son_a.shape\n",
    "\n",
    "son_b = data[:, 2:]\n",
    "n_b, p_b = son_b.shape\n",
    "\n",
    "nu = min(n_a, n_b) - k"
   ]
  },
  {
   "cell_type": "code",
   "execution_count": 16,
   "metadata": {},
   "outputs": [],
   "source": [
    "S = np.cov(data, rowvar=False)\n",
    "s_xx = S[:2, :2]\n",
    "s_yy = S[-2:, -2:]"
   ]
  },
  {
   "cell_type": "code",
   "execution_count": 17,
   "metadata": {},
   "outputs": [
    {
     "data": {
      "text/plain": [
       "(0.37716288143958254, 19.989101840898154)"
      ]
     },
     "execution_count": 17,
     "metadata": {},
     "output_type": "execute_result"
    }
   ],
   "source": [
    "L = np.linalg.det(S) / (np.linalg.det(s_xx) * np.linalg.det(s_yy))\n",
    "a2 = p**2 - (p_a ** 2 + p_b ** 2)\n",
    "a3 = p**3 - (p_a ** 3 + p_b ** 3)\n",
    "f = a2 * 0.5\n",
    "c = 1 - (2 * a3 + 3 * a2) / (12 * f * nu)\n",
    "L_t = -nu * c * np.log(L)\n",
    "L, L_t"
   ]
  },
  {
   "cell_type": "code",
   "execution_count": 18,
   "metadata": {},
   "outputs": [
    {
     "data": {
      "text/plain": [
       "9.487729036781154"
      ]
     },
     "execution_count": 18,
     "metadata": {},
     "output_type": "execute_result"
    }
   ],
   "source": [
    "xi_critical = stats.chi2.ppf(1 - alpha, df=f)\n",
    "xi_critical"
   ]
  },
  {
   "cell_type": "code",
   "execution_count": 19,
   "metadata": {},
   "outputs": [
    {
     "name": "stdout",
     "output_type": "stream",
     "text": [
      "Reject H_0\n"
     ]
    }
   ],
   "source": [
    "if L_t > xi_critical:\n",
    "    print('Reject H_0')\n",
    "else:\n",
    "    print('Accept H_0')"
   ]
  },
  {
   "cell_type": "code",
   "execution_count": null,
   "metadata": {},
   "outputs": [],
   "source": []
  }
 ],
 "metadata": {
  "interpreter": {
   "hash": "c6e4e9f98eb68ad3b7c296f83d20e6de614cb42e90992a65aa266555a3137d0d"
  },
  "kernelspec": {
   "display_name": "Python 3.9.7 ('base')",
   "language": "python",
   "name": "python3"
  },
  "language_info": {
   "codemirror_mode": {
    "name": "ipython",
    "version": 3
   },
   "file_extension": ".py",
   "mimetype": "text/x-python",
   "name": "python",
   "nbconvert_exporter": "python",
   "pygments_lexer": "ipython3",
   "version": "3.9.7"
  },
  "orig_nbformat": 4
 },
 "nbformat": 4,
 "nbformat_minor": 2
}
