{
 "cells": [
  {
   "cell_type": "code",
   "execution_count": 25,
   "id": "a4fa1903",
   "metadata": {},
   "outputs": [
    {
     "name": "stdout",
     "output_type": "stream",
     "text": [
      "    Unnamed: 0  weight group\n",
      "0            1    4.17  ctrl\n",
      "1            2    5.58  ctrl\n",
      "2            3    5.18  ctrl\n",
      "3            4    6.11  ctrl\n",
      "4            5    4.50  ctrl\n",
      "5            6    4.61  ctrl\n",
      "6            7    5.17  ctrl\n",
      "7            8    4.53  ctrl\n",
      "8            9    5.33  ctrl\n",
      "9           10    5.14  ctrl\n",
      "10          11    4.81  trt1\n",
      "11          12    4.17  trt1\n",
      "12          13    4.41  trt1\n",
      "13          14    3.59  trt1\n",
      "14          15    5.87  trt1\n",
      "15          16    3.83  trt1\n",
      "16          17    6.03  trt1\n",
      "17          18    4.89  trt1\n",
      "18          19    4.32  trt1\n",
      "19          20    4.69  trt1\n",
      "20          21    6.31  trt2\n",
      "21          22    5.12  trt2\n",
      "22          23    5.54  trt2\n",
      "23          24    5.50  trt2\n",
      "24          25    5.37  trt2\n",
      "25          26    5.29  trt2\n",
      "26          27    4.92  trt2\n",
      "27          28    6.15  trt2\n",
      "28          29    5.80  trt2\n",
      "29          30    5.26  trt2\n"
     ]
    }
   ],
   "source": [
    "# ANOVA + MANOVA\n",
    "import pandas as pd\n",
    "import numpy as np\n",
    "import csv\n",
    "# Просто задача, не з Ренчер\n",
    "# Зчитаємо файл PlantGrowth.csv\n",
    "# Треба на Github обрати raw\n",
    "\n",
    "\n",
    "url = (r'https://raw.githubusercontent.com/vincentarelbundock/Rdatasets/master/csv/datasets/PlantGrowth.csv')\n",
    "Plant = pd.read_csv(url)\n",
    "\n",
    "print(Plant) \n"
   ]
  },
  {
   "cell_type": "code",
   "execution_count": 26,
   "id": "d1f9186b",
   "metadata": {},
   "outputs": [],
   "source": [
    "# https://www.marsja.se/four-ways-to-conduct-one-way-anovas-using-python/\n",
    "\n",
    "ctrl = Plant['weight'][Plant.group == 'ctrl']\n",
    "grps = pd.unique(Plant.group.values)\n",
    "d_data = {grp:Plant['weight'][Plant.group == grp] for grp in grps}\n",
    "\n",
    "k = len(pd.unique(Plant.group))  # кількість груп   3\n",
    "N = len(Plant.values)  # k помножити на  n\n",
    "n = Plant.groupby('group').size()[0] # кількість даних в групі  10"
   ]
  },
  {
   "cell_type": "code",
   "execution_count": 27,
   "id": "df3a7ccb",
   "metadata": {},
   "outputs": [
    {
     "name": "stdout",
     "output_type": "stream",
     "text": [
      "            df    sum_sq   mean_sq         F   PR(>F)\n",
      "group      2.0   3.76634  1.883170  4.846088  0.01591\n",
      "Residual  27.0  10.49209  0.388596       NaN      NaN\n"
     ]
    }
   ],
   "source": [
    "import statsmodels.api as sm\n",
    "from statsmodels.formula.api import ols  # ols = ordinary least squares\n",
    "\n",
    "mod = ols('weight ~ group', data=Plant).fit()   # будуємо модель лінійної регресії\n",
    "aov_table =  sm.stats.anova_lm(mod, type = 2)\n",
    "print(aov_table)\n",
    "# print(mod.summary())"
   ]
  },
  {
   "cell_type": "code",
   "execution_count": 4,
   "id": "aef20271",
   "metadata": {},
   "outputs": [
    {
     "data": {
      "text/plain": [
       "3.766340000000014"
      ]
     },
     "execution_count": 4,
     "metadata": {},
     "output_type": "execute_result"
    }
   ],
   "source": [
    "SSbetween = (sum(Plant.groupby('group').sum()['weight']**2)/n) \\\n",
    "    - (Plant['weight'].sum()**2)/N\n",
    "SSbetween  #SSH"
   ]
  },
  {
   "cell_type": "code",
   "execution_count": 5,
   "id": "f072836b",
   "metadata": {},
   "outputs": [
    {
     "data": {
      "text/plain": [
       "10.492090000000076"
      ]
     },
     "execution_count": 5,
     "metadata": {},
     "output_type": "execute_result"
    }
   ],
   "source": [
    "sum_y_squared = sum([value**2 for value in Plant['weight'].values])\n",
    "\n",
    "SSwithin = sum_y_squared - sum(Plant.groupby('group').sum()['weight']**2)/n\n",
    "SSwithin  #SSE"
   ]
  },
  {
   "cell_type": "code",
   "execution_count": 6,
   "id": "2c16ea88",
   "metadata": {},
   "outputs": [
    {
     "data": {
      "text/plain": [
       "14.25843000000009"
      ]
     },
     "execution_count": 6,
     "metadata": {},
     "output_type": "execute_result"
    }
   ],
   "source": [
    "SStotal = sum_y_squared - (Plant['weight'].sum()**2)/N\n",
    "SStotal  #SST\n"
   ]
  },
  {
   "cell_type": "code",
   "execution_count": 7,
   "id": "673b80fb",
   "metadata": {},
   "outputs": [
    {
     "data": {
      "text/plain": [
       "4.846087862380118"
      ]
     },
     "execution_count": 7,
     "metadata": {},
     "output_type": "execute_result"
    }
   ],
   "source": [
    "DFbetween = k - 1\n",
    "DFwithin = N - k\n",
    "DFtotal = N - 1\n",
    "MSwithin = SSwithin/DFwithin\n",
    "MSbetween = SSbetween/DFbetween\n",
    "F = MSbetween/MSwithin\n",
    "F"
   ]
  },
  {
   "cell_type": "code",
   "execution_count": 28,
   "id": "841269e0",
   "metadata": {},
   "outputs": [
    {
     "name": "stdout",
     "output_type": "stream",
     "text": [
      "[[1.    1.11  2.569 3.58  0.76 ]\n",
      " [1.    1.19  2.928 3.75  0.821]\n",
      " [1.    1.09  2.865 3.93  0.928]\n",
      " [1.    1.25  3.844 3.94  1.009]\n",
      " [1.    1.11  3.027 3.6   0.766]\n",
      " [1.    1.08  2.336 3.51  0.726]\n",
      " [1.    1.11  3.211 3.98  1.209]\n",
      " [1.    1.16  3.037 3.62  0.75 ]\n",
      " [2.    1.05  2.074 4.09  1.036]\n",
      " [2.    1.17  2.885 4.06  1.094]\n",
      " [2.    1.11  3.378 4.87  1.635]\n",
      " [2.    1.25  3.906 4.98  1.517]\n",
      " [2.    1.17  2.782 4.38  1.197]\n",
      " [2.    1.15  3.018 4.65  1.244]\n",
      " [2.    1.17  3.383 4.69  1.495]\n",
      " [2.    1.19  3.447 4.4   1.026]\n",
      " [3.    1.07  2.505 3.76  0.912]\n",
      " [3.    0.99  2.315 4.44  1.398]\n",
      " [3.    1.06  2.667 4.38  1.197]\n",
      " [3.    1.02  2.39  4.67  1.613]\n",
      " [3.    1.15  3.021 4.48  1.476]\n",
      " [3.    1.2   3.085 4.78  1.571]\n",
      " [3.    1.2   3.308 4.57  1.506]\n",
      " [3.    1.17  3.231 4.56  1.458]\n",
      " [4.    1.22  2.838 3.89  0.944]\n",
      " [4.    1.03  2.351 4.05  1.241]\n",
      " [4.    1.14  3.001 4.05  1.023]\n",
      " [4.    1.01  2.439 3.92  1.067]\n",
      " [4.    0.99  2.199 3.27  0.693]\n",
      " [4.    1.11  3.318 3.95  1.085]\n",
      " [4.    1.2   3.601 4.27  1.242]\n",
      " [4.    1.08  3.291 3.85  1.017]\n",
      " [5.    0.91  1.532 4.04  1.084]\n",
      " [5.    1.15  2.552 4.16  1.151]\n",
      " [5.    1.14  3.083 4.79  1.381]\n",
      " [5.    1.05  2.33  4.42  1.242]\n",
      " [5.    0.99  2.079 3.47  0.673]\n",
      " [5.    1.22  3.366 4.41  1.137]\n",
      " [5.    1.05  2.416 4.64  1.455]\n",
      " [5.    1.13  3.1   4.57  1.325]\n",
      " [6.    1.11  2.813 3.76  0.8  ]\n",
      " [6.    0.75  0.84  3.14  0.606]\n",
      " [6.    1.05  2.199 3.75  0.79 ]\n",
      " [6.    1.02  2.132 3.99  0.853]\n",
      " [6.    1.05  1.949 3.34  0.61 ]\n",
      " [6.    1.07  2.251 3.21  0.562]\n",
      " [6.    1.13  3.064 3.63  0.707]\n",
      " [6.    1.11  2.469 3.95  0.952]]\n"
     ]
    }
   ],
   "source": [
    "# MANOVA Приклад 6.1.7 з Rencher\n",
    "path = 'c:/Users/vica/Dropbox/KAU-Stat2/multivariate_analysis/T6_2_ROOT.DAT'\n",
    "Data_6_2 = np.loadtxt(path, dtype=float)\n",
    "print(Data_6_2)"
   ]
  },
  {
   "cell_type": "code",
   "execution_count": 9,
   "id": "19cea2c1",
   "metadata": {},
   "outputs": [
    {
     "data": {
      "text/html": [
       "<div>\n",
       "<style scoped>\n",
       "    .dataframe tbody tr th:only-of-type {\n",
       "        vertical-align: middle;\n",
       "    }\n",
       "\n",
       "    .dataframe tbody tr th {\n",
       "        vertical-align: top;\n",
       "    }\n",
       "\n",
       "    .dataframe thead th {\n",
       "        text-align: right;\n",
       "    }\n",
       "</style>\n",
       "<table border=\"1\" class=\"dataframe\">\n",
       "  <thead>\n",
       "    <tr style=\"text-align: right;\">\n",
       "      <th></th>\n",
       "      <th>A</th>\n",
       "      <th>B</th>\n",
       "      <th>C</th>\n",
       "      <th>D</th>\n",
       "      <th>group</th>\n",
       "    </tr>\n",
       "  </thead>\n",
       "  <tbody>\n",
       "    <tr>\n",
       "      <th>0</th>\n",
       "      <td>1.11</td>\n",
       "      <td>2.569</td>\n",
       "      <td>3.58</td>\n",
       "      <td>0.760</td>\n",
       "      <td>1</td>\n",
       "    </tr>\n",
       "    <tr>\n",
       "      <th>1</th>\n",
       "      <td>1.19</td>\n",
       "      <td>2.928</td>\n",
       "      <td>3.75</td>\n",
       "      <td>0.821</td>\n",
       "      <td>1</td>\n",
       "    </tr>\n",
       "    <tr>\n",
       "      <th>2</th>\n",
       "      <td>1.09</td>\n",
       "      <td>2.865</td>\n",
       "      <td>3.93</td>\n",
       "      <td>0.928</td>\n",
       "      <td>1</td>\n",
       "    </tr>\n",
       "    <tr>\n",
       "      <th>3</th>\n",
       "      <td>1.25</td>\n",
       "      <td>3.844</td>\n",
       "      <td>3.94</td>\n",
       "      <td>1.009</td>\n",
       "      <td>1</td>\n",
       "    </tr>\n",
       "    <tr>\n",
       "      <th>4</th>\n",
       "      <td>1.11</td>\n",
       "      <td>3.027</td>\n",
       "      <td>3.60</td>\n",
       "      <td>0.766</td>\n",
       "      <td>1</td>\n",
       "    </tr>\n",
       "  </tbody>\n",
       "</table>\n",
       "</div>"
      ],
      "text/plain": [
       "      A      B     C      D  group\n",
       "0  1.11  2.569  3.58  0.760      1\n",
       "1  1.19  2.928  3.75  0.821      1\n",
       "2  1.09  2.865  3.93  0.928      1\n",
       "3  1.25  3.844  3.94  1.009      1\n",
       "4  1.11  3.027  3.60  0.766      1"
      ]
     },
     "execution_count": 9,
     "metadata": {},
     "output_type": "execute_result"
    }
   ],
   "source": [
    "data = pd.DataFrame(Data_6_2[:,1:], columns=['A', 'B', 'C','D'])\n",
    "data['group'] = [1] * 8 + [2] * 8+ [3] * 8 + [4] * 8+ [5] * 8 +  [6] * 8\n",
    "data.head()"
   ]
  },
  {
   "cell_type": "code",
   "execution_count": 30,
   "id": "a4e31b84",
   "metadata": {},
   "outputs": [],
   "source": [
    "# інші можливості згрупувати: \n",
    "df= pd.DataFrame(Data_6_2[:,1:], columns=['A', 'B', 'C','D'])\n",
    "df['group'] = Data_6_2[:,0]\n"
   ]
  },
  {
   "cell_type": "code",
   "execution_count": 34,
   "id": "ba1cf592",
   "metadata": {},
   "outputs": [],
   "source": [
    "# або так, більш компактно: \n",
    "df['group'] = [0+ int(x) for x in df['group']]\n"
   ]
  },
  {
   "cell_type": "code",
   "execution_count": 12,
   "id": "00b87850",
   "metadata": {},
   "outputs": [
    {
     "name": "stdout",
     "output_type": "stream",
     "text": [
      "                  Multivariate linear model\n",
      "==============================================================\n",
      "                                                              \n",
      "--------------------------------------------------------------\n",
      "       Intercept         Value  Num DF  Den DF F Value  Pr > F\n",
      "--------------------------------------------------------------\n",
      "          Wilks' lambda  0.0112 4.0000 43.0000 950.7953 0.0000\n",
      "         Pillai's trace  0.9888 4.0000 43.0000 950.7953 0.0000\n",
      " Hotelling-Lawley trace 88.4461 4.0000 43.0000 950.7953 0.0000\n",
      "    Roy's greatest root 88.4461 4.0000 43.0000 950.7953 0.0000\n",
      "--------------------------------------------------------------\n",
      "                                                              \n",
      "--------------------------------------------------------------\n",
      "           group          Value  Num DF  Den DF F Value Pr > F\n",
      "--------------------------------------------------------------\n",
      "            Wilks' lambda 0.7642 4.0000 43.0000  3.3162 0.0187\n",
      "           Pillai's trace 0.2358 4.0000 43.0000  3.3162 0.0187\n",
      "   Hotelling-Lawley trace 0.3085 4.0000 43.0000  3.3162 0.0187\n",
      "      Roy's greatest root 0.3085 4.0000 43.0000  3.3162 0.0187\n",
      "==============================================================\n",
      "\n"
     ]
    }
   ],
   "source": [
    "# тепер завантажимо функцію MANOVA та виконаємо аналіз\n",
    "from statsmodels.multivariate.manova import MANOVA\n",
    "fit = MANOVA.from_formula('A+B+C+D ~ group', data=df)\n",
    "print(fit.mv_test())"
   ]
  },
  {
   "cell_type": "code",
   "execution_count": 13,
   "id": "a09fdd80",
   "metadata": {},
   "outputs": [],
   "source": [
    "# тут можна прочитати більще https://towardsdatascience.com/manova-97e675a96158   Пояснення + порівняння з R \n",
    "# А тут-- подивитися код\n",
    "# https://www.statsmodels.org/dev/_modules/statsmodels/multivariate/multivariate_ols.html#MultivariateTestResults"
   ]
  },
  {
   "cell_type": "code",
   "execution_count": 14,
   "id": "f15b0e5c",
   "metadata": {},
   "outputs": [
    {
     "name": "stdout",
     "output_type": "stream",
     "text": [
      "[[ 58.7599   148.2601   217.2267    57.7488  ]\n",
      " [148.2601   381.683715 547.9786   147.163597]\n",
      " [217.2267   547.9786   812.2905   218.73647 ]\n",
      " [ 57.7488   147.163597 218.73647   60.514288]]\n"
     ]
    }
   ],
   "source": [
    "# Обчислення матриці  E \n",
    "# візьмемо дані без першого рядка \n",
    "df = Data_6_2\n",
    "df_col = df[:,1:]\n",
    "# Порахуємо суму  sum_{i=1}^k \\sum_{j=1}^n y_{ij}y_{ij}'   n=8, k=6\n",
    "# reshape робимо для того, щоб в результаті отрамати матриці розміру (4,4)\n",
    "# інакше сприймає вектори як рядки і просто рахує скалярний добуток\n",
    "A= np.zeros(shape=(4,4))\n",
    "for i in range(48): \n",
    "    A+=(np.array(df_col[i,:]).reshape(4,1))@(np.array(df_col[i,:]).reshape(1,4))\n",
    "print(A)   \n"
   ]
  },
  {
   "cell_type": "code",
   "execution_count": 15,
   "id": "147dec25",
   "metadata": {},
   "outputs": [
    {
     "name": "stdout",
     "output_type": "stream",
     "text": [
      "[[ 9.1   23.817 29.91   6.969]\n",
      " [ 9.26  24.873 36.12  10.244]\n",
      " [ 8.86  22.522 35.64  11.131]\n",
      " [ 8.78  23.038 31.25   8.312]\n",
      " [ 8.64  20.458 34.5    9.448]\n",
      " [ 8.29  17.717 28.77   5.88 ]]\n"
     ]
    }
   ],
   "source": [
    "# рахуємо суми всередині групи \\sum_{i=1}^k y_{i \\dot} y_{i \\dot}'/n \n",
    "g=np.zeros(shape=(6,4))\n",
    "for i in range(6):\n",
    "    for j in range(8):\n",
    "         g[i,:]+= df_col[i*8+j,:]\n",
    "print(g)"
   ]
  },
  {
   "cell_type": "code",
   "execution_count": 16,
   "id": "dafd9087",
   "metadata": {},
   "outputs": [
    {
     "name": "stdout",
     "output_type": "stream",
     "text": [
      "[[ 58.4399125  146.56353625 216.6726125   57.53166   ]\n",
      " [146.56353625 369.54092487 543.6149875  145.05338338]\n",
      " [216.6726125  543.6149875  807.9996875  216.25481375]\n",
      " [ 57.53166    145.05338338 216.25481375  58.79176325]]\n"
     ]
    }
   ],
   "source": [
    "# рахуємо другу суму\n",
    "B= np.zeros(shape=(4,4))\n",
    "for i in range(6): \n",
    "    B+=(np.array(g[i,:]).reshape(4,1))@(np.array(g[i,:]).reshape(1,4))\n",
    "print(B/8)  "
   ]
  },
  {
   "cell_type": "code",
   "execution_count": 17,
   "id": "df486c10",
   "metadata": {},
   "outputs": [
    {
     "name": "stdout",
     "output_type": "stream",
     "text": [
      "[[ 0.3199875   1.69656375  0.5540875   0.21714   ]\n",
      " [ 1.69656375 12.14279013  4.3636125   2.11021363]\n",
      " [ 0.5540875   4.3636125   4.2908125   2.48165625]\n",
      " [ 0.21714     2.11021363  2.48165625  1.72252475]]\n"
     ]
    }
   ],
   "source": [
    "# рахуємо матрицю Е: \n",
    "E = A-(B/8)\n",
    "print(E)"
   ]
  },
  {
   "cell_type": "code",
   "execution_count": 18,
   "id": "d994fb0e",
   "metadata": {},
   "outputs": [
    {
     "data": {
      "text/plain": [
       "array([ 52.93 , 132.425, 196.19 ,  51.984])"
      ]
     },
     "execution_count": 18,
     "metadata": {},
     "output_type": "execute_result"
    }
   ],
   "source": [
    "# обчислимо тепер матрицю H. Нам залишилося порахувати   y_{\\dot \\dot} y_{\\dot \\dot}'/(kn)\n",
    "y_2dot= np.sum(g,axis=0)\n",
    "y_2dot"
   ]
  },
  {
   "cell_type": "code",
   "execution_count": 19,
   "id": "86c08b65",
   "metadata": {
    "scrolled": true
   },
   "outputs": [
    {
     "data": {
      "text/plain": [
       "array([[ 58.36635208, 146.02615104, 216.34034792,  57.32319   ],\n",
       "       [146.02615104, 365.34126302, 541.25959896, 143.416275  ],\n",
       "       [216.34034792, 541.25959896, 801.88575208, 212.47377   ],\n",
       "       [ 57.32319   , 143.416275  , 212.47377   ,  56.298672  ]])"
      ]
     },
     "execution_count": 19,
     "metadata": {},
     "output_type": "execute_result"
    }
   ],
   "source": [
    "D = (np.array(y_2dot.reshape(4,1)))@(np.array(y_2dot.reshape(1,4)))\n",
    "D/48"
   ]
  },
  {
   "cell_type": "code",
   "execution_count": 20,
   "id": "532b7a19",
   "metadata": {},
   "outputs": [
    {
     "data": {
      "text/plain": [
       "array([[0.07356042, 0.53738521, 0.33226458, 0.20847   ],\n",
       "       [0.53738521, 4.19966185, 2.35538854, 1.63710838],\n",
       "       [0.33226458, 2.35538854, 6.11393542, 3.78104375],\n",
       "       [0.20847   , 1.63710838, 3.78104375, 2.49309125]])"
      ]
     },
     "execution_count": 20,
     "metadata": {},
     "output_type": "execute_result"
    }
   ],
   "source": [
    "H= B/8- D/48\n",
    "H"
   ]
  },
  {
   "cell_type": "code",
   "execution_count": 21,
   "id": "4e24bade",
   "metadata": {},
   "outputs": [
    {
     "data": {
      "text/plain": [
       "0.15400766733799798"
      ]
     },
     "execution_count": 21,
     "metadata": {},
     "output_type": "execute_result"
    }
   ],
   "source": [
    "# Wilks Lambda= det(E)/det(E+H)\n",
    "Lambda =  np.linalg.det(E)/np.linalg.det(E+H)\n",
    "Lambda"
   ]
  },
  {
   "cell_type": "code",
   "execution_count": 22,
   "id": "fc1dbbe8",
   "metadata": {},
   "outputs": [
    {
     "data": {
      "text/plain": [
       "1.3054724154815531"
      ]
     },
     "execution_count": 22,
     "metadata": {},
     "output_type": "execute_result"
    }
   ],
   "source": [
    "# Pilai statistics\n",
    "V_s = np.matrix.trace(np.linalg.inv(E+H)@H)\n",
    "V_s"
   ]
  },
  {
   "cell_type": "code",
   "execution_count": 23,
   "id": "b7184d02",
   "metadata": {},
   "outputs": [
    {
     "name": "stdout",
     "output_type": "stream",
     "text": [
      "4.069718325783936\n",
      "None\n"
     ]
    }
   ],
   "source": [
    "# F stat\n",
    "def F(m,s,r,V): \n",
    "    F = (2*r+s+1)*V/((2*m+s+1)*(s-V))\n",
    "    print(F)\n",
    "\n",
    "p = 4\n",
    "nu_E = 42  # k(n-1)= 6*7=42\n",
    "nu_H = 5   # k-1\n",
    "m = 0.5*(abs(p-nu_H)-1)\n",
    "r = 0.5*(nu_E-p-1)\n",
    "s = min(p,nu_H)\n",
    "\n",
    "print(F(m,s,r,V_s))\n"
   ]
  },
  {
   "cell_type": "code",
   "execution_count": 24,
   "id": "11143fbb",
   "metadata": {},
   "outputs": [
    {
     "data": {
      "text/plain": [
       "2.437692640311651"
      ]
     },
     "execution_count": 24,
     "metadata": {},
     "output_type": "execute_result"
    }
   ],
   "source": [
    "import scipy.stats\n",
    "scipy.stats.f.ppf(q=1-0.05, dfn=2*m+s+1, dfd=2*r+s+1)  #  Знайшли квантіль розподілу. Відхиляємо гіпотезу"
   ]
  }
 ],
 "metadata": {
  "kernelspec": {
   "display_name": "Python 3",
   "language": "python",
   "name": "python3"
  },
  "language_info": {
   "codemirror_mode": {
    "name": "ipython",
    "version": 3
   },
   "file_extension": ".py",
   "mimetype": "text/x-python",
   "name": "python",
   "nbconvert_exporter": "python",
   "pygments_lexer": "ipython3",
   "version": "3.8.8"
  }
 },
 "nbformat": 4,
 "nbformat_minor": 5
}
