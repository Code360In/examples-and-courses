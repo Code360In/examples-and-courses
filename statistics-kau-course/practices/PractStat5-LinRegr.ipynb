{
 "cells": [
  {
   "cell_type": "code",
   "execution_count": 1,
   "id": "4d9fb42f",
   "metadata": {},
   "outputs": [
    {
     "name": "stdout",
     "output_type": "stream",
     "text": [
      "[[10]\n",
      " [ 8]\n",
      " [13]\n",
      " [ 9]\n",
      " [11]\n",
      " [14]\n",
      " [ 6]\n",
      " [ 4]\n",
      " [12]\n",
      " [ 7]\n",
      " [ 5]]\n"
     ]
    }
   ],
   "source": [
    "# одновимірна модель, лінійна регресія\n",
    "#  дані з 'Квартету Аскомбе', не з Ренчер\n",
    "import numpy as np\n",
    "import math\n",
    "from sklearn.linear_model import LinearRegression\n",
    "y = np.array([8.04,6.95,7.58,8.81,8.33,9.96,7.24,4.26,10.84,4.82,5.68])\n",
    "x1 = [10,8,13,9,11,14,6,4,12,7,5]\n",
    "x = np.array([10,8,13,9,11,14,6,4,12,7,5]).reshape((-1,1))\n",
    "w = [math.sqrt(y[i]) for i in range(len(x))]+ np.random.normal(0,1,len(y))\n",
    "w\n",
    "print(x)"
   ]
  },
  {
   "cell_type": "code",
   "execution_count": 2,
   "id": "c1cd33f0",
   "metadata": {},
   "outputs": [
    {
     "name": "stdout",
     "output_type": "stream",
     "text": [
      "coefficient of determination: 0.6665424595087748\n"
     ]
    }
   ],
   "source": [
    "model = LinearRegression().fit(x, y)\n",
    "r_sq = model.score(x, y)\n",
    "print('coefficient of determination:', r_sq)   # R^2"
   ]
  },
  {
   "cell_type": "code",
   "execution_count": 3,
   "id": "50de2a9a",
   "metadata": {},
   "outputs": [
    {
     "name": "stdout",
     "output_type": "stream",
     "text": [
      "intercept: 3.0000909090909094\n",
      "slope: [0.50009091]\n"
     ]
    }
   ],
   "source": [
    "print('intercept:', model.intercept_)\n",
    "print('slope:', model.coef_)\n"
   ]
  },
  {
   "cell_type": "code",
   "execution_count": 4,
   "id": "4bbf90f1",
   "metadata": {},
   "outputs": [
    {
     "data": {
      "text/plain": [
       "[[10, 2.8071504412856836],\n",
       " [8, 3.4177137820668193],\n",
       " [13, 1.6357907144600627],\n",
       " [9, 2.534765738767161],\n",
       " [11, 2.407005599525616],\n",
       " [14, 3.7018173078922105],\n",
       " [6, 3.6899084232680397],\n",
       " [4, 2.5931560110334737],\n",
       " [12, 3.5044795599647682],\n",
       " [7, 2.7066167211436962],\n",
       " [5, 3.5772313641831675]]"
      ]
     },
     "execution_count": 4,
     "metadata": {},
     "output_type": "execute_result"
    }
   ],
   "source": [
    "# добавимо ще одну змінну\n",
    "Z = [[x1[i],w[i]] for i in range(len(x))]\n",
    "Z"
   ]
  },
  {
   "cell_type": "code",
   "execution_count": 5,
   "id": "8d7f8766",
   "metadata": {},
   "outputs": [
    {
     "name": "stdout",
     "output_type": "stream",
     "text": [
      "intercept: -0.6316813278208313\n",
      "slope: [0.54014428 1.10463572]\n"
     ]
    }
   ],
   "source": [
    "model2 = LinearRegression().fit(Z, y)\n",
    "print('intercept:', model2.intercept_)\n",
    "print('slope:', model2.coef_)"
   ]
  },
  {
   "cell_type": "code",
   "execution_count": 6,
   "id": "bc59dc3b",
   "metadata": {},
   "outputs": [
    {
     "name": "stdout",
     "output_type": "stream",
     "text": [
      "                            OLS Regression Results                            \n",
      "==============================================================================\n",
      "Dep. Variable:                      y   R-squared:                       0.793\n",
      "Model:                            OLS   Adj. R-squared:                  0.742\n",
      "Method:                 Least Squares   F-statistic:                     15.35\n",
      "Date:                Tue, 22 Mar 2022   Prob (F-statistic):            0.00183\n",
      "Time:                        16:53:05   Log-Likelihood:                -14.210\n",
      "No. Observations:                  11   AIC:                             34.42\n",
      "Df Residuals:                       8   BIC:                             35.61\n",
      "Df Model:                           2                                         \n",
      "Covariance Type:            nonrobust                                         \n",
      "==============================================================================\n",
      "                 coef    std err          t      P>|t|      [0.025      0.975]\n",
      "------------------------------------------------------------------------------\n",
      "const         -0.6317      1.890     -0.334      0.747      -4.989       3.726\n",
      "x1             0.5401      0.100      5.396      0.001       0.309       0.771\n",
      "x2             1.1046      0.499      2.215      0.058      -0.045       2.255\n",
      "==============================================================================\n",
      "Omnibus:                        0.690   Durbin-Watson:                   2.556\n",
      "Prob(Omnibus):                  0.708   Jarque-Bera (JB):                0.505\n",
      "Skew:                           0.448   Prob(JB):                        0.777\n",
      "Kurtosis:                       2.455   Cond. No.                         62.2\n",
      "==============================================================================\n",
      "\n",
      "Notes:\n",
      "[1] Standard Errors assume that the covariance matrix of the errors is correctly specified.\n"
     ]
    },
    {
     "name": "stderr",
     "output_type": "stream",
     "text": [
      "C:\\Users\\vica\\anaconda3\\lib\\site-packages\\scipy\\stats\\stats.py:1541: UserWarning: kurtosistest only valid for n>=20 ... continuing anyway, n=11\n",
      "  warnings.warn(\"kurtosistest only valid for n>=20 ... continuing \"\n"
     ]
    }
   ],
   "source": [
    "# Зробимо повний аналіз моделі. Для цього завантажимо наступні бібліотеки\n",
    "import statsmodels.api as sm\n",
    "from statsmodels.api import OLS  # ordinary least squares estimates\n",
    "Z2 =  [[1,x1[i],w[i]] for i in range(len(x))]\n",
    "Z2 = np.asarray(Z2)\n",
    "model2 = LinearRegression().fit(Z2, y)\n",
    "model3 = sm.OLS(y,Z2)\n",
    "results = model3.fit() # не дуже точна модель, оскільки мало випробувань\n",
    "print(results.summary())"
   ]
  },
  {
   "cell_type": "code",
   "execution_count": 7,
   "id": "6d6764e2",
   "metadata": {},
   "outputs": [
    {
     "name": "stdout",
     "output_type": "stream",
     "text": [
      "[-0.63168133  0.54014428  1.10463572]\n"
     ]
    }
   ],
   "source": [
    "# окремі обчислення: \n",
    "print(results.params) # коефіцієнти"
   ]
  },
  {
   "cell_type": "code",
   "execution_count": 8,
   "id": "89c33482",
   "metadata": {
    "scrolled": true
   },
   "outputs": [
    {
     "name": "stdout",
     "output_type": "stream",
     "text": [
      "0.7933060374302633\n"
     ]
    }
   ],
   "source": [
    "print(results.rsquared) #R2"
   ]
  },
  {
   "cell_type": "code",
   "execution_count": 9,
   "id": "2f0a141f",
   "metadata": {},
   "outputs": [
    {
     "name": "stdout",
     "output_type": "stream",
     "text": [
      "[1.8895717  0.10010539 0.49870158]\n"
     ]
    }
   ],
   "source": [
    "print(results.bse) # std err"
   ]
  },
  {
   "cell_type": "code",
   "execution_count": 10,
   "id": "e1fe406e",
   "metadata": {},
   "outputs": [
    {
     "name": "stdout",
     "output_type": "stream",
     "text": [
      "0.0018252029629999137\n"
     ]
    }
   ],
   "source": [
    "print(results.f_pvalue)  # Prob  F-statistic   "
   ]
  },
  {
   "cell_type": "code",
   "execution_count": 11,
   "id": "ca3a21aa",
   "metadata": {},
   "outputs": [
    {
     "data": {
      "text/plain": [
       "['HC0_se',\n",
       " 'HC1_se',\n",
       " 'HC2_se',\n",
       " 'HC3_se',\n",
       " '_HCCM',\n",
       " '__class__',\n",
       " '__delattr__',\n",
       " '__dict__',\n",
       " '__dir__',\n",
       " '__doc__',\n",
       " '__eq__',\n",
       " '__format__',\n",
       " '__ge__',\n",
       " '__getattribute__',\n",
       " '__gt__',\n",
       " '__hash__',\n",
       " '__init__',\n",
       " '__init_subclass__',\n",
       " '__le__',\n",
       " '__lt__',\n",
       " '__module__',\n",
       " '__ne__',\n",
       " '__new__',\n",
       " '__reduce__',\n",
       " '__reduce_ex__',\n",
       " '__repr__',\n",
       " '__setattr__',\n",
       " '__sizeof__',\n",
       " '__str__',\n",
       " '__subclasshook__',\n",
       " '__weakref__',\n",
       " '_abat_diagonal',\n",
       " '_cache',\n",
       " '_data_attr',\n",
       " '_data_in_cache',\n",
       " '_get_robustcov_results',\n",
       " '_is_nested',\n",
       " '_use_t',\n",
       " '_wexog_singular_values',\n",
       " 'aic',\n",
       " 'bic',\n",
       " 'bse',\n",
       " 'centered_tss',\n",
       " 'compare_f_test',\n",
       " 'compare_lm_test',\n",
       " 'compare_lr_test',\n",
       " 'condition_number',\n",
       " 'conf_int',\n",
       " 'conf_int_el',\n",
       " 'cov_HC0',\n",
       " 'cov_HC1',\n",
       " 'cov_HC2',\n",
       " 'cov_HC3',\n",
       " 'cov_kwds',\n",
       " 'cov_params',\n",
       " 'cov_type',\n",
       " 'df_model',\n",
       " 'df_resid',\n",
       " 'diagn',\n",
       " 'eigenvals',\n",
       " 'el_test',\n",
       " 'ess',\n",
       " 'f_pvalue',\n",
       " 'f_test',\n",
       " 'fittedvalues',\n",
       " 'fvalue',\n",
       " 'get_influence',\n",
       " 'get_prediction',\n",
       " 'get_robustcov_results',\n",
       " 'initialize',\n",
       " 'k_constant',\n",
       " 'llf',\n",
       " 'load',\n",
       " 'model',\n",
       " 'mse_model',\n",
       " 'mse_resid',\n",
       " 'mse_total',\n",
       " 'nobs',\n",
       " 'normalized_cov_params',\n",
       " 'outlier_test',\n",
       " 'params',\n",
       " 'predict',\n",
       " 'pvalues',\n",
       " 'remove_data',\n",
       " 'resid',\n",
       " 'resid_pearson',\n",
       " 'rsquared',\n",
       " 'rsquared_adj',\n",
       " 'save',\n",
       " 'scale',\n",
       " 'ssr',\n",
       " 'summary',\n",
       " 'summary2',\n",
       " 't_test',\n",
       " 't_test_pairwise',\n",
       " 'tvalues',\n",
       " 'uncentered_tss',\n",
       " 'use_t',\n",
       " 'wald_test',\n",
       " 'wald_test_terms',\n",
       " 'wresid']"
      ]
     },
     "execution_count": 11,
     "metadata": {},
     "output_type": "execute_result"
    }
   ],
   "source": [
    "dir(results) # інші параметри- треба дивитися атрібути\n",
    "# https://www.statsmodels.org/devel/generated/statsmodels.regression.linear_model.OLSResults.html"
   ]
  },
  {
   "cell_type": "code",
   "execution_count": 12,
   "id": "7df925e6",
   "metadata": {},
   "outputs": [],
   "source": [
    "# https://www.accelebrate.com/blog/interpreting-results-from-linear-regression-is-the-data-appropriate \n",
    "# більше пор останній блок резульатів "
   ]
  },
  {
   "cell_type": "code",
   "execution_count": 13,
   "id": "64d834f0",
   "metadata": {},
   "outputs": [
    {
     "name": "stdout",
     "output_type": "stream",
     "text": [
      "Intercept: \n",
      " -0.6316813278208331\n",
      "Coefficients: \n",
      " [0.         0.54014428 1.10463572]\n"
     ]
    }
   ],
   "source": [
    "# дещо можна було отримати і з model2\n",
    "print('Intercept: \\n', model2.intercept_)  # коефіцієнт при вільному доданку, тобто при 1\n",
    "print('Coefficients: \\n', model2.coef_)    # оцінки коефіцієнтів\n"
   ]
  },
  {
   "cell_type": "code",
   "execution_count": 14,
   "id": "0328ba50",
   "metadata": {},
   "outputs": [
    {
     "data": {
      "text/plain": [
       "array([-0.63168133,  0.54014428,  1.10463572])"
      ]
     },
     "execution_count": 14,
     "metadata": {},
     "output_type": "execute_result"
    }
   ],
   "source": [
    "# оцінка матриці B вручну\n",
    "B =  np.linalg.inv(Z2.T @ Z2) @ (Z2.T @ y)\n",
    "B"
   ]
  },
  {
   "cell_type": "code",
   "execution_count": 56,
   "id": "6e8cfcbe",
   "metadata": {},
   "outputs": [
    {
     "name": "stdout",
     "output_type": "stream",
     "text": [
      "     Y1    Y2    Y3     X1    X2   X3\n",
      "0  41.5  45.9  11.2  162.0  23.0  3.0\n",
      "1  33.8  53.3  11.2  162.0  23.0  8.0\n",
      "2  27.7  57.5  12.7  162.0  30.0  5.0\n",
      "3  21.7  58.8  16.0  162.0  30.0  8.0\n",
      "4  19.9  60.6  16.2  172.0  25.0  5.0\n"
     ]
    }
   ],
   "source": [
    "# Багатовимірна регресія. Приклад  10.4.2 Rencher\n",
    "import pandas as pd\n",
    "path = 'c:/Users/vica/Dropbox/KAU-Stat2/multivariate_analysis/T10_1_CHEM.DAT'\n",
    "df1 = np.loadtxt(path, dtype=float)\n",
    "data2 = pd.DataFrame(df1[:,1:], columns=['Y1','Y2','Y3','X1', 'X2', 'X3'])\n",
    "print(data.head())"
   ]
  },
  {
   "cell_type": "code",
   "execution_count": 57,
   "id": "cb6f51e2",
   "metadata": {},
   "outputs": [],
   "source": [
    "X = df1[:, 4:]  \n",
    "Y = df1[:,1:4]"
   ]
  },
  {
   "cell_type": "code",
   "execution_count": 58,
   "id": "faa1afa4",
   "metadata": {},
   "outputs": [
    {
     "name": "stdout",
     "output_type": "stream",
     "text": [
      "[[-1.54596082 -1.42455873 -2.23736565]\n",
      " [ 0.40455059  0.29298999  1.03380047]\n",
      " [ 0.91392477  0.89947254  1.15348549]]\n",
      "[ 332.11098334  -26.03526431 -164.0789411 ]\n"
     ]
    }
   ],
   "source": [
    "from sklearn import linear_model\n",
    "model_ols =  linear_model.LinearRegression(normalize=True)\n",
    "results2 = model_ols.fit(X,Y)\n",
    "print(model_ols.coef_)   # Отримаємо матрицю В  \n",
    "print(model_ols.intercept_)"
   ]
  },
  {
   "cell_type": "code",
   "execution_count": 1,
   "id": "621659c5",
   "metadata": {},
   "outputs": [
    {
     "ename": "NameError",
     "evalue": "name 'X' is not defined",
     "output_type": "error",
     "traceback": [
      "\u001b[0;31m---------------------------------------------------------------------------\u001b[0m",
      "\u001b[0;31mNameError\u001b[0m                                 Traceback (most recent call last)",
      "\u001b[0;32m/var/folders/rl/_3vj1pms68l3nf_8kr_xl4980000gn/T/ipykernel_7255/48451109.py\u001b[0m in \u001b[0;36m<module>\u001b[0;34m\u001b[0m\n\u001b[1;32m      1\u001b[0m \u001b[0;32mfrom\u001b[0m \u001b[0mstatsmodels\u001b[0m\u001b[0;34m.\u001b[0m\u001b[0mmultivariate\u001b[0m\u001b[0;34m.\u001b[0m\u001b[0mmanova\u001b[0m \u001b[0;32mimport\u001b[0m \u001b[0mMANOVA\u001b[0m\u001b[0;34m\u001b[0m\u001b[0;34m\u001b[0m\u001b[0m\n\u001b[0;32m----> 2\u001b[0;31m \u001b[0mfit1\u001b[0m \u001b[0;34m=\u001b[0m \u001b[0mMANOVA\u001b[0m\u001b[0;34m.\u001b[0m\u001b[0mfrom_formula\u001b[0m\u001b[0;34m(\u001b[0m\u001b[0mendog\u001b[0m\u001b[0;34m=\u001b[0m\u001b[0mX\u001b[0m\u001b[0;34m,\u001b[0m \u001b[0mexog\u001b[0m\u001b[0;34m=\u001b[0m\u001b[0mY\u001b[0m\u001b[0;34m)\u001b[0m\u001b[0;34m\u001b[0m\u001b[0;34m\u001b[0m\u001b[0m\n\u001b[0m\u001b[1;32m      3\u001b[0m \u001b[0mprint\u001b[0m\u001b[0;34m(\u001b[0m\u001b[0mfit1\u001b[0m\u001b[0;34m.\u001b[0m\u001b[0mmv_test\u001b[0m\u001b[0;34m(\u001b[0m\u001b[0;34m)\u001b[0m\u001b[0;34m)\u001b[0m\u001b[0;34m\u001b[0m\u001b[0;34m\u001b[0m\u001b[0m\n",
      "\u001b[0;31mNameError\u001b[0m: name 'X' is not defined"
     ]
    }
   ],
   "source": [
    "from statsmodels.multivariate.manova import MANOVA\n",
    "fit1 = MANOVA.from_formula('Y ~ X', data= data2)\n",
    "print(fit1.mv_test())"
   ]
  },
  {
   "cell_type": "code",
   "execution_count": null,
   "id": "cbd03a6b",
   "metadata": {},
   "outputs": [],
   "source": []
  }
 ],
 "metadata": {
  "kernelspec": {
   "display_name": "Python 3",
   "language": "python",
   "name": "python3"
  },
  "language_info": {
   "codemirror_mode": {
    "name": "ipython",
    "version": 3
   },
   "file_extension": ".py",
   "mimetype": "text/x-python",
   "name": "python",
   "nbconvert_exporter": "python",
   "pygments_lexer": "ipython3",
   "version": "3.9.7"
  }
 },
 "nbformat": 4,
 "nbformat_minor": 5
}
