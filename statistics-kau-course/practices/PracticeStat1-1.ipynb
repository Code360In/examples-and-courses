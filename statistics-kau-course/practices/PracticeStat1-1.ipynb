{
 "cells": [
  {
   "cell_type": "code",
   "execution_count": 1,
   "id": "059c88db",
   "metadata": {},
   "outputs": [
    {
     "name": "stdout",
     "output_type": "stream",
     "text": [
      "\n",
      "скалярний добуток: 32\n",
      "dot: 32\n"
     ]
    }
   ],
   "source": [
    "# Посилання: https://towardsdatascience.com/top-10-matrix-operations-in-numpy-with-examples-d761448cb7a8\n",
    "\n",
    "import numpy as np\n",
    "# введемо вектори як 1D numpy arrays\n",
    "a = np.array([1, 2, 3])\n",
    "b = np.array([4, 5, 6])\n",
    "print(\"\\nскалярний добуток:\", np.inner(a, b))   # скалярний добуток, \\n перед словом означає новий рядок\n",
    "print(\"dot:\", np.dot(a, b))"
   ]
  },
  {
   "cell_type": "code",
   "execution_count": 2,
   "id": "5782242d",
   "metadata": {},
   "outputs": [
    {
     "name": "stdout",
     "output_type": "stream",
     "text": [
      "\n",
      "c <class 'numpy.matrix'>\n",
      "[[1 2]\n",
      " [3 4]]\n",
      "\n",
      "d <class 'numpy.matrix'>\n",
      "[[ 5  6  7]\n",
      " [ 8  9 10]]\n",
      "\n",
      "добуток масивів\n",
      "[[21 24 27]\n",
      " [47 54 61]]\n",
      "\n",
      "добуток матриць\n",
      "[[21 24 27]\n",
      " [47 54 61]]\n"
     ]
    }
   ],
   "source": [
    "# Матриці як масиви\n",
    "a = np.array([[1, 2], [3, 4]])  \n",
    "b = np.array([[5, 6, 7], [8, 9, 10]])\n",
    "\n",
    "# Мариці як матриці\n",
    "c = np.matrix([[1, 2], [3, 4]])\n",
    "d = np.matrix([[5, 6, 7], [8, 9, 10]])\n",
    "print(\"\\nc\", type(c))  \n",
    "print(c)\n",
    "print(\"\\nd\", type(d))\n",
    "print(d)\n",
    "print(\"\\nдобуток масивів\")\n",
    "print(np.dot(a, b))\n",
    "print(\"\\nдобуток матриць\")\n",
    "print(np.dot(c, d))"
   ]
  },
  {
   "cell_type": "code",
   "execution_count": 3,
   "id": "be400afc",
   "metadata": {},
   "outputs": [
    {
     "name": "stdout",
     "output_type": "stream",
     "text": [
      "[[1 2]\n",
      " [3 4]\n",
      " [5 6]]\n",
      "\n",
      "За допомоги np.transpose(a)\n",
      "[[1 3 5]\n",
      " [2 4 6]]\n",
      "\n",
      "За допомоги ndarray.transpose()\n",
      "[[1 3 5]\n",
      " [2 4 6]]\n",
      "\n",
      "За допомоги ndarray.T\n",
      "[[1 3 5]\n",
      " [2 4 6]]\n"
     ]
    }
   ],
   "source": [
    "# Транспонування\n",
    "\n",
    "a = np.array([[1, 2], [3, 4], [5, 6]])\n",
    "print(a)\n",
    "\n",
    "print(\"\\nЗа допомоги np.transpose(a)\")\n",
    "print(np.transpose(a))\n",
    "\n",
    "print(\"\\nЗа допомоги ndarray.transpose()\")\n",
    "print(a.transpose())\n",
    "\n",
    "print(\"\\nЗа допомоги ndarray.T\")\n",
    "print(a.T)"
   ]
  },
  {
   "cell_type": "code",
   "execution_count": 4,
   "id": "09b06fb6",
   "metadata": {},
   "outputs": [
    {
     "name": "stdout",
     "output_type": "stream",
     "text": [
      "a = \n",
      "[[2 2 1]\n",
      " [1 3 1]\n",
      " [1 2 2]]\n",
      "\n",
      "Слід: 7\n",
      "Слід: 7\n"
     ]
    }
   ],
   "source": [
    "# Слід матриці\n",
    "a = np.array([[2, 2, 1],\n",
    "               [1, 3, 1],\n",
    "               [1, 2, 2]])\n",
    "print(\"a = \")\n",
    "print(a)\n",
    "print(\"\\nСлід:\", a.trace())  \n",
    "print(\"Слід:\", sum(a.diagonal()))  # сума на діагоналі не смінюється! "
   ]
  },
  {
   "cell_type": "code",
   "execution_count": 5,
   "id": "335a64c3",
   "metadata": {},
   "outputs": [
    {
     "name": "stdout",
     "output_type": "stream",
     "text": [
      "\n",
      "детермінант: 4.999999999999999\n",
      "\n",
      "округлений детермінант: 5.0\n"
     ]
    }
   ],
   "source": [
    "# Детермінант матриці\n",
    "a = np.array([[2, 2, 1],\n",
    "               [1, 3, 1],\n",
    "               [1, 2, 2]])\n",
    "det = np.linalg.det(a)\n",
    "print(\"\\nдетермінант:\", det)            # значення, я є\n",
    "print(\"\\nокруглений детермінант:\", np.round(det))  # округлити \n"
   ]
  },
  {
   "cell_type": "code",
   "execution_count": 6,
   "id": "26be6ec4",
   "metadata": {},
   "outputs": [
    {
     "name": "stdout",
     "output_type": "stream",
     "text": [
      "\n",
      "обернена матриця a = \n",
      "[[ 0.8 -0.4 -0.2]\n",
      " [-0.2  0.6 -0.2]\n",
      " [-0.2 -0.4  0.8]]\n"
     ]
    }
   ],
   "source": [
    "# Обернена матриця\n",
    "inv = np.linalg.inv(a)\n",
    "print(\"\\nобернена матриця a = \")\n",
    "print(inv)"
   ]
  },
  {
   "cell_type": "code",
   "execution_count": 7,
   "id": "c2d55883",
   "metadata": {},
   "outputs": [
    {
     "name": "stdout",
     "output_type": "stream",
     "text": [
      "\n",
      "детермінант: 0.0\n",
      "\n",
      "псевдо-обернена матриця a = \n",
      "[[0.02352941 0.01176471]\n",
      " [0.09411765 0.04705882]]\n"
     ]
    }
   ],
   "source": [
    "# Псевдо-обернена матриця, якщо детермінант =0. \n",
    "a = np.array([[2, 8],\n",
    "               [1, 4]])\n",
    "det = np.linalg.det(a)\n",
    "print(\"\\nдетермінант:\", np.round(det))\n",
    "pinv = np.linalg.pinv(a)\n",
    "print(\"\\nпсевдо-обернена матриця a = \")\n",
    "print(pinv)"
   ]
  },
  {
   "cell_type": "code",
   "execution_count": 8,
   "id": "fa56d97b",
   "metadata": {},
   "outputs": [
    {
     "name": "stdout",
     "output_type": "stream",
     "text": [
      "\n",
      "власні числа:\n",
      "[5. 1. 1.]\n",
      "\n",
      "власні вектори:\n",
      "[[ 0.57735027  0.90453403  0.36601928]\n",
      " [ 0.57735027 -0.30151134 -0.55609927]\n",
      " [ 0.57735027 -0.30151134  0.74617926]]\n"
     ]
    }
   ],
   "source": [
    "# Власні вектори і власні числа\n",
    "a = np.array([[2, 2, 1],\n",
    "               [1, 3, 1],\n",
    "               [1, 2, 2]])\n",
    "w, v = np.linalg.eig(a)\n",
    "print(\"\\nвласні числа:\")\n",
    "print(w)\n",
    "print(\"\\nвласні вектори:\")\n",
    "print(v)"
   ]
  }
 ],
 "metadata": {
  "kernelspec": {
   "display_name": "Python 3",
   "language": "python",
   "name": "python3"
  },
  "language_info": {
   "codemirror_mode": {
    "name": "ipython",
    "version": 3
   },
   "file_extension": ".py",
   "mimetype": "text/x-python",
   "name": "python",
   "nbconvert_exporter": "python",
   "pygments_lexer": "ipython3",
   "version": "3.8.8"
  }
 },
 "nbformat": 4,
 "nbformat_minor": 5
}
