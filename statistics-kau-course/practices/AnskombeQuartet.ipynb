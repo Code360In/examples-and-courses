{
 "cells": [
  {
   "cell_type": "markdown",
   "id": "19acb97d",
   "metadata": {},
   "source": [
    "## Квартет Анскомбе \n",
    "\n",
    "Детальніше можна почитати  __[тут](https://matplotlib.org/stable/gallery/specialty_plots/anscombe.html#sphx-glr-gallery-specialty-plots-anscombe-py)__"
   ]
  },
  {
   "cell_type": "markdown",
   "id": "61c1f69a",
   "metadata": {},
   "source": [
    "Квартет Анскомбе (Anscombe's quartet) - це група даних  (x, y), у яких однакове математично сподівання, стандартне відхилення, та всі моделі вкладаються в модель лінійної регресії, але якісно всі ці моделі різні. Цей приклад ілюструє  важливість графічного зображення даних. "
   ]
  },
  {
   "cell_type": "code",
   "execution_count": 1,
   "id": "7abbb5e3",
   "metadata": {},
   "outputs": [],
   "source": [
    "import matplotlib.pyplot as plt\n",
    "import numpy as np\n",
    "\n",
    "x = [10, 8, 13, 9, 11, 14, 6, 4, 12, 7, 5]\n",
    "y1 = [8.04, 6.95, 7.58, 8.81, 8.33, 9.96, 7.24, 4.26, 10.84, 4.82, 5.68]\n",
    "y2 = [9.14, 8.14, 8.74, 8.77, 9.26, 8.10, 6.13, 3.10, 9.13, 7.26, 4.74]\n",
    "y3 = [7.46, 6.77, 12.74, 7.11, 7.81, 8.84, 6.08, 5.39, 8.15, 6.42, 5.73]\n",
    "x4 = [8, 8, 8, 8, 8, 8, 8, 19, 8, 8, 8]\n",
    "y4 = [6.58, 5.76, 7.71, 8.84, 8.47, 7.04, 5.25, 12.50, 5.56, 7.91, 6.89]\n",
    "\n",
    "datasets = {\n",
    "    'red': (x, y1),\n",
    "    'green': (x, y2),\n",
    "    'blue': (x, y3),\n",
    "    'black': (x4, y4)\n",
    "}"
   ]
  },
  {
   "cell_type": "code",
   "execution_count": 2,
   "id": "5f52a7a3",
   "metadata": {},
   "outputs": [
    {
     "data": {
      "image/png": "[encoded data removed]",
      "text/plain": [
       "<Figure size 432x432 with 4 Axes>"
      ]
     },
     "metadata": {
      "needs_background": "light"
     },
     "output_type": "display_data"
    }
   ],
   "source": [
    "fig, ax = plt.subplots(2, 2, sharex=True, sharey=True, figsize=(6, 6))\n",
    "\n",
    "colors = ['r', 'g', 'blue', 'black']\n",
    "\n",
    "for ax, colr, (label, (x, y)) in zip(ax.flat, colors, datasets.items()):\n",
    "    ax.plot(x, y, 'o',  color = colr)\n",
    "       \n",
    "plt.show()\n"
   ]
  },
  {
   "cell_type": "code",
   "execution_count": 3,
   "id": "1558e8fa",
   "metadata": {},
   "outputs": [],
   "source": [
    "#! pip install statsmodels\n",
    "import statsmodels.api as sm\n",
    "from statsmodels.api import OLS "
   ]
  },
  {
   "cell_type": "code",
   "execution_count": 5,
   "id": "8886fd5b",
   "metadata": {},
   "outputs": [
    {
     "name": "stdout",
     "output_type": "stream",
     "text": [
      "1.8117598849584943e-08\n"
     ]
    }
   ],
   "source": [
    "x1 = np.array([10, 8, 13, 9, 11, 14, 6, 4, 12, 7, 5]).reshape((-1,1))\n",
    "model1 = sm.OLS(y1,x1)\n",
    "results1 = model1.fit()\n",
    "#print(results1.summary())\n",
    "print(results1.f_pvalue)"
   ]
  },
  {
   "cell_type": "markdown",
   "id": "d907e6c9",
   "metadata": {},
   "source": [
    "Ми бачимо, що дуже мале, а отже, гіпотезу про те, що коефіцієнт регресії нульовий, треба відхилити. Отже, ми приймаємо модель лінійної регресії. Так само з іншими 3ма випадками: "
   ]
  },
  {
   "cell_type": "code",
   "execution_count": 5,
   "id": "48cc5a7e",
   "metadata": {},
   "outputs": [
    {
     "name": "stdout",
     "output_type": "stream",
     "text": [
      "1.8189263081538412e-08\n"
     ]
    }
   ],
   "source": [
    "model2 = sm.OLS(y2,x1)\n",
    "results2 = model2.fit()\n",
    "print(results2.f_pvalue)"
   ]
  },
  {
   "cell_type": "code",
   "execution_count": 6,
   "id": "966b9c13",
   "metadata": {},
   "outputs": [
    {
     "name": "stdout",
     "output_type": "stream",
     "text": [
      "1.8184049617347677e-08\n"
     ]
    }
   ],
   "source": [
    "model3 = sm.OLS(y3,x1)\n",
    "results3 = model3.fit()\n",
    "print(results3.f_pvalue)"
   ]
  },
  {
   "cell_type": "code",
   "execution_count": 7,
   "id": "0c761e87",
   "metadata": {},
   "outputs": [
    {
     "name": "stdout",
     "output_type": "stream",
     "text": [
      "1.8092431334383593e-08\n"
     ]
    }
   ],
   "source": [
    "x44 = np.array([8, 8, 8, 8, 8, 8, 8, 19, 8, 8, 8]).reshape((-1,1))\n",
    "model4 = sm.OLS(y4,x44)\n",
    "results4 = model4.fit()\n",
    "print(results4.f_pvalue)"
   ]
  },
  {
   "cell_type": "markdown",
   "id": "5ac7e6e6",
   "metadata": {},
   "source": [
    "Отже, у всіх 4х випадках ми приймаємо модель лінійної регресії, але картинки при цьому абсолютно різні! "
   ]
  }
 ],
 "metadata": {
  "kernelspec": {
   "display_name": "Python 3 (ipykernel)",
   "language": "python",
   "name": "python3"
  },
  "language_info": {
   "codemirror_mode": {
    "name": "ipython",
    "version": 3
   },
   "file_extension": ".py",
   "mimetype": "text/x-python",
   "name": "python",
   "nbconvert_exporter": "python",
   "pygments_lexer": "ipython3",
   "version": "3.9.7"
  }
 },
 "nbformat": 4,
 "nbformat_minor": 5
}
