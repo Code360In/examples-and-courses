{
 "cells": [
  {
   "cell_type": "code",
   "execution_count": 202,
   "id": "3d56fbd6",
   "metadata": {},
   "outputs": [
    {
     "name": "stdout",
     "output_type": "stream",
     "text": [
      "[[ 1 51 36 50 35 42]\n",
      " [ 2 27 20 26 17 27]\n",
      " [ 3 37 22 41 37 30]\n",
      " [ 4 42 36 32 34 27]\n",
      " [ 5 27 18 33 14 29]\n",
      " [ 6 43 32 43 35 40]\n",
      " [ 7 41 22 36 25 38]\n",
      " [ 8 38 21 31 20 16]\n",
      " [ 9 36 23 27 25 28]\n",
      " [10 26 31 31 32 36]\n",
      " [11 29 20 25 26 25]]\n"
     ]
    }
   ],
   "source": [
    "####     Example 7.2.2  (Table 3.5)  Rencher. Тести для ков. матриць\n",
    "## Тесе на діагональність ков. матриці\n",
    "import numpy as np\n",
    "path = 'c:/Users/vica/Dropbox/KAU-Stat2/multivariate_analysis/T3_5_PROBE.DAT'\n",
    "Data_3_5 = np.loadtxt(path, dtype=int)\n",
    "print(Data_3_5)\n"
   ]
  },
  {
   "cell_type": "code",
   "execution_count": 203,
   "id": "8bd6af95",
   "metadata": {},
   "outputs": [
    {
     "name": "stdout",
     "output_type": "stream",
     "text": [
      "[[51 36 50 35 42]\n",
      " [27 20 26 17 27]\n",
      " [37 22 41 37 30]\n",
      " [42 36 32 34 27]\n",
      " [27 18 33 14 29]\n",
      " [43 32 43 35 40]\n",
      " [41 22 36 25 38]\n",
      " [38 21 31 20 16]\n",
      " [36 23 27 25 28]\n",
      " [26 31 31 32 36]\n",
      " [29 20 25 26 25]]\n"
     ]
    }
   ],
   "source": [
    "Data_3_5_new = Data_3_5[:,1:]  # видаляємо перший стовбчик, оскільки там нумерація\n",
    "print(Data_3_5_new)"
   ]
  },
  {
   "cell_type": "code",
   "execution_count": 204,
   "id": "9c586ba5",
   "metadata": {},
   "outputs": [
    {
     "data": {
      "text/plain": [
       "11"
      ]
     },
     "execution_count": 204,
     "metadata": {},
     "output_type": "execute_result"
    }
   ],
   "source": [
    "n = len(Data_3_5_new)  # кількість випробувань\n",
    "n"
   ]
  },
  {
   "cell_type": "code",
   "execution_count": 205,
   "id": "fada1801",
   "metadata": {},
   "outputs": [
    {
     "data": {
      "text/plain": [
       "array([36.09, 25.55, 34.09, 27.27, 30.73])"
      ]
     },
     "execution_count": 205,
     "metadata": {},
     "output_type": "execute_result"
    }
   ],
   "source": [
    "xbar = np.mean(Data_3_5_new,axis=0) # порахуємо середнє\n",
    "np_xbar = np.round((xbar), 2)       # округимо до 2го знаку\n",
    "np_xbar"
   ]
  },
  {
   "cell_type": "code",
   "execution_count": 206,
   "id": "d0d14d84",
   "metadata": {},
   "outputs": [
    {
     "data": {
      "text/plain": [
       "array([[65.09090909, 33.64545455, 47.59090909, 36.77272727, 25.42727273],\n",
       "       [33.64545455, 46.07272727, 28.94545455, 40.33636364, 28.36363636],\n",
       "       [47.59090909, 28.94545455, 60.69090909, 37.37272727, 41.12727273],\n",
       "       [36.77272727, 40.33636364, 37.37272727, 62.81818182, 31.68181818],\n",
       "       [25.42727273, 28.36363636, 41.12727273, 31.68181818, 58.21818182]])"
      ]
     },
     "execution_count": 206,
     "metadata": {},
     "output_type": "execute_result"
    }
   ],
   "source": [
    "# cov\n",
    "S = np.cov(Data_3_5_new.T)\n",
    "S"
   ]
  },
  {
   "cell_type": "code",
   "execution_count": 207,
   "id": "c2c7dc73",
   "metadata": {},
   "outputs": [
    {
     "data": {
      "text/plain": [
       "27236585.648872674"
      ]
     },
     "execution_count": 207,
     "metadata": {},
     "output_type": "execute_result"
    }
   ],
   "source": [
    "det_S= np.linalg.det(S)   # det(cov)\n",
    "det_S"
   ]
  },
  {
   "cell_type": "code",
   "execution_count": 208,
   "id": "1fa8e5cb",
   "metadata": {},
   "outputs": [
    {
     "data": {
      "text/plain": [
       "292.8909090909091"
      ]
     },
     "execution_count": 208,
     "metadata": {},
     "output_type": "execute_result"
    }
   ],
   "source": [
    "Tr_S = np.trace(S, offset=0, axis1=0, axis2=1, dtype=None, out=None)   # trace(cov)\n",
    "Tr_S"
   ]
  },
  {
   "cell_type": "code",
   "execution_count": 209,
   "id": "440b3586",
   "metadata": {},
   "outputs": [
    {
     "data": {
      "text/plain": [
       "5"
      ]
     },
     "execution_count": 209,
     "metadata": {},
     "output_type": "execute_result"
    }
   ],
   "source": [
    "p = len(S)    #  dim(cov)\n",
    "p"
   ]
  },
  {
   "cell_type": "code",
   "execution_count": 210,
   "id": "7aa6fb64",
   "metadata": {},
   "outputs": [
    {
     "data": {
      "text/plain": [
       "0.03948873535811227"
      ]
     },
     "execution_count": 210,
     "metadata": {},
     "output_type": "execute_result"
    }
   ],
   "source": [
    "# Обчислимо статистику  U = ((p^p)*det(S))/(TrS)^p\n",
    "U = (p**p)*det_S/((Tr_S)**p)\n",
    "U"
   ]
  },
  {
   "cell_type": "code",
   "execution_count": 45,
   "id": "d33b624e",
   "metadata": {},
   "outputs": [
    {
     "data": {
      "text/plain": [
       "26.177092611288405"
      ]
     },
     "execution_count": 45,
     "metadata": {},
     "output_type": "execute_result"
    }
   ],
   "source": [
    "til_U = -(n-1-(2*p**2 +p+2)/(6*p)) * np.log(U)     # Обчислимо статистику  til_U \n",
    "til_U"
   ]
  },
  {
   "cell_type": "code",
   "execution_count": 82,
   "id": "e33d167f",
   "metadata": {},
   "outputs": [
    {
     "data": {
      "text/plain": [
       "23.684791304840576"
      ]
     },
     "execution_count": 82,
     "metadata": {},
     "output_type": "execute_result"
    }
   ],
   "source": [
    "# знайдемо квантіль розподілу хі квадрат з p(p+1)/2 = 15  ступенями свободи\n",
    "    \n",
    "from scipy.stats import chi2  #\n",
    "chi2.ppf(0.95, 14, loc=0, scale=1)  # Отримали:  26.17 > 23.68\n",
    "                                    # тому відхиляємо нульову гіпотезу про те, що Sigma= sigma I"
   ]
  },
  {
   "cell_type": "code",
   "execution_count": 30,
   "id": "12eb7b98",
   "metadata": {},
   "outputs": [
    {
     "ename": "NameError",
     "evalue": "name 'Data_3_5_new' is not defined",
     "output_type": "error",
     "traceback": [
      "\u001b[1;31m---------------------------------------------------------------------------\u001b[0m",
      "\u001b[1;31mNameError\u001b[0m                                 Traceback (most recent call last)",
      "\u001b[1;32m<ipython-input-30-2e16122606b0>\u001b[0m in \u001b[0;36m<module>\u001b[1;34m\u001b[0m\n\u001b[0;32m      4\u001b[0m \u001b[1;32mimport\u001b[0m \u001b[0mpingouin\u001b[0m \u001b[1;32mas\u001b[0m \u001b[0mpg\u001b[0m\u001b[1;33m\u001b[0m\u001b[1;33m\u001b[0m\u001b[0m\n\u001b[0;32m      5\u001b[0m \u001b[1;31m# pg.sphericity(data) Mauchly test (sphericity, Sigma = sigma^2 I\u001b[0m\u001b[1;33m\u001b[0m\u001b[1;33m\u001b[0m\u001b[1;33m\u001b[0m\u001b[0m\n\u001b[1;32m----> 6\u001b[1;33m \u001b[0mdata\u001b[0m \u001b[1;33m=\u001b[0m \u001b[0mpd\u001b[0m\u001b[1;33m.\u001b[0m\u001b[0mDataFrame\u001b[0m\u001b[1;33m(\u001b[0m\u001b[0mData_3_5_new\u001b[0m\u001b[1;33m)\u001b[0m\u001b[1;33m\u001b[0m\u001b[1;33m\u001b[0m\u001b[0m\n\u001b[0m\u001b[0;32m      7\u001b[0m \u001b[0mpg\u001b[0m\u001b[1;33m.\u001b[0m\u001b[0msphericity\u001b[0m\u001b[1;33m(\u001b[0m\u001b[0mdata\u001b[0m\u001b[1;33m)\u001b[0m\u001b[1;33m\u001b[0m\u001b[1;33m\u001b[0m\u001b[0m\n",
      "\u001b[1;31mNameError\u001b[0m: name 'Data_3_5_new' is not defined"
     ]
    }
   ],
   "source": [
    "# \"Build in\" function \n",
    "\n",
    "import pandas as pd\n",
    "import pingouin as pg\n",
    "# pg.sphericity(data) Mauchly test (sphericity, Sigma = sigma^2 I\n",
    "data = pd.DataFrame(Data_3_5_new)\n",
    "pg.sphericity(data)"
   ]
  },
  {
   "cell_type": "code",
   "execution_count": null,
   "id": "c112b220",
   "metadata": {},
   "outputs": [],
   "source": [
    "# Увага! pg.sphericity(data) обчислює не U- статистику і значення  квантілю chi2!!! \n",
    "# Це перевірка іншої сферичності! \n",
    "# https://github.com/raphaelvallat/pingouin/blob/dcfdc82bbc7f1ba5991b80717a5ca156617443e8/pingouin/distribution.py\n",
    "# А також Rencher, розділ   7.2.2"
   ]
  },
  {
   "cell_type": "code",
   "execution_count": 31,
   "id": "e1ccbba5",
   "metadata": {},
   "outputs": [
    {
     "data": {
      "text/html": [
       "<div>\n",
       "<style scoped>\n",
       "    .dataframe tbody tr th:only-of-type {\n",
       "        vertical-align: middle;\n",
       "    }\n",
       "\n",
       "    .dataframe tbody tr th {\n",
       "        vertical-align: top;\n",
       "    }\n",
       "\n",
       "    .dataframe thead th {\n",
       "        text-align: right;\n",
       "    }\n",
       "</style>\n",
       "<table border=\"1\" class=\"dataframe\">\n",
       "  <thead>\n",
       "    <tr style=\"text-align: right;\">\n",
       "      <th></th>\n",
       "      <th>Chi2</th>\n",
       "      <th>df</th>\n",
       "      <th>pval</th>\n",
       "      <th>equal_cov</th>\n",
       "    </tr>\n",
       "  </thead>\n",
       "  <tbody>\n",
       "    <tr>\n",
       "      <th>box</th>\n",
       "      <td>13.550751</td>\n",
       "      <td>10.0</td>\n",
       "      <td>0.194487</td>\n",
       "      <td>True</td>\n",
       "    </tr>\n",
       "  </tbody>\n",
       "</table>\n",
       "</div>"
      ],
      "text/plain": [
       "          Chi2    df      pval  equal_cov\n",
       "box  13.550751  10.0  0.194487       True"
      ]
     },
     "execution_count": 31,
     "metadata": {},
     "output_type": "execute_result"
    }
   ],
   "source": [
    "#  Тест на рівність коваріацій у двох вибірках  \n",
    "#  Example 7.3.2  (Table 5.1)  Rencher\\\n",
    "#  https://pingouin-stats.org/generated/pingouin.box_m.html\n",
    "path = 'c:/Users/vica/Dropbox/KAU-Stat2/multivariate_analysis/T5_1_PSYCH.DAT'\n",
    "Data_5_1 = np.loadtxt(path, dtype=int)\n",
    "Data_5_1M = Data_5_1[0:32,1:] \n",
    "Data_5_1F = Data_5_1[32:,1:]\n",
    "np.shape(Data_5_1M)\n",
    "data = pd.DataFrame(Data_5_1[:,1:], columns=['A', 'B', 'C','D'])\n",
    "data['group'] = [1] * 32 + [2] * 32 \n",
    "data.head()\n",
    "pg.box_m(data, dvs=['A', 'B', 'C','D'], group='group')  # 10 = 0.5* (k-1)*p(p+1), k=2, p=4"
   ]
  },
  {
   "cell_type": "code",
   "execution_count": 198,
   "id": "fd4ee2f9",
   "metadata": {},
   "outputs": [
    {
     "data": {
      "text/plain": [
       "array([[ 7.16431452,  6.04737903,  5.69304435,  4.70060484],\n",
       "       [ 6.04737903, 15.89415323,  8.49243952,  5.85584677],\n",
       "       [ 5.69304435,  8.49243952, 29.35635081, 13.98084677],\n",
       "       [ 4.70060484,  5.85584677, 13.98084677, 22.32056452]])"
      ]
     },
     "execution_count": 198,
     "metadata": {},
     "output_type": "execute_result"
    }
   ],
   "source": [
    "# Руками: \n",
    "d1 = len(Data_5_1M)  # 32\n",
    "d2 = len(Data_5_1F)  # 32\n",
    "Spl = ((d1-1)*np.cov(Data_5_1M.T)+ (d2-1)*np.cov(Data_5_1F.T))/(d1+d2-2)\n",
    "Spl"
   ]
  },
  {
   "cell_type": "code",
   "execution_count": 220,
   "id": "7888bfdf",
   "metadata": {},
   "outputs": [],
   "source": [
    "Det1 = np.linalg.det(np.cov(Data_5_1M.T))"
   ]
  },
  {
   "cell_type": "code",
   "execution_count": 228,
   "id": "7f4f9eb7",
   "metadata": {},
   "outputs": [
    {
     "data": {
      "text/plain": [
       "0.0005447693950026875"
      ]
     },
     "execution_count": 228,
     "metadata": {},
     "output_type": "execute_result"
    }
   ],
   "source": [
    "Det1 = np.linalg.det(np.cov(Data_5_1M.T))\n",
    "Det2 = np.linalg.det(np.cov(Data_5_1F.T))\n",
    "Det = np.linalg.det(Spl)\n",
    "\n",
    "M = ((Det1)**(d1/2))*((Det2)**(d2/2))/((Det)**(d1/2+d2/2)) # (7.21)\n",
    "M"
   ]
  },
  {
   "cell_type": "code",
   "execution_count": 232,
   "id": "33b75c61",
   "metadata": {},
   "outputs": [
    {
     "data": {
      "text/plain": [
       "14.02044795257655"
      ]
     },
     "execution_count": 232,
     "metadata": {},
     "output_type": "execute_result"
    }
   ],
   "source": [
    "d=32\n",
    "k = 2\n",
    "p =  4\n",
    "C1=(k+1)*(2*p**2+3*p-1)/(6*k*d * (p+1))\n",
    "C1\n",
    "u= -2*(1-C1)*np.log(M) #(7.23) Rencher\n",
    "u                      # "
   ]
  },
  {
   "cell_type": "code",
   "execution_count": 233,
   "id": "cfe0d099",
   "metadata": {},
   "outputs": [
    {
     "data": {
      "text/plain": [
       "18.307038053275146"
      ]
     },
     "execution_count": 233,
     "metadata": {},
     "output_type": "execute_result"
    }
   ],
   "source": [
    "# 0.5* (k-1)*p*(p+1)=10\n",
    "chi2.ppf(0.95, 10, loc=0, scale=1)   # 14.02< 18.3  Прийняти  H_0"
   ]
  },
  {
   "cell_type": "code",
   "execution_count": 3,
   "id": "9bc1e5fc",
   "metadata": {},
   "outputs": [
    {
     "name": "stdout",
     "output_type": "stream",
     "text": [
      "[[  1.     0.81  80.   356.   124.    55.  ]\n",
      " [  2.     0.95  97.   289.   117.    76.  ]\n",
      " [  3.     0.94 105.   319.   143.   105.  ]\n",
      " [  4.     1.04  90.   356.   199.   108.  ]\n",
      " [  5.     1.    90.   323.   240.   143.  ]\n",
      " [  6.     0.76  86.   381.   157.   165.  ]\n",
      " [  7.     0.91 100.   350.   221.   119.  ]\n",
      " [  8.     1.1   85.   301.   186.   105.  ]\n",
      " [  9.     0.99  97.   379.   142.    98.  ]\n",
      " [ 10.     0.78  97.   296.   131.    94.  ]\n",
      " [ 11.     0.9   91.   353.   221.    53.  ]\n",
      " [ 12.     0.73  87.   306.   178.    66.  ]\n",
      " [ 13.     0.96  78.   290.   136.   142.  ]\n",
      " [ 14.     0.84  90.   371.   200.    93.  ]\n",
      " [ 15.     0.74  86.   312.   208.    68.  ]\n",
      " [ 16.     0.98  80.   393.   202.   102.  ]\n",
      " [ 17.     1.1   90.   364.   152.    76.  ]\n",
      " [ 18.     0.85  99.   359.   185.    37.  ]\n",
      " [ 19.     0.83  85.   296.   116.    60.  ]\n",
      " [ 20.     0.93  90.   345.   123.    50.  ]\n",
      " [ 21.     0.95  90.   378.   136.    47.  ]\n",
      " [ 22.     0.74  88.   304.   134.    50.  ]\n",
      " [ 23.     0.95  95.   347.   184.    91.  ]\n",
      " [ 24.     0.97  90.   327.   192.   124.  ]\n",
      " [ 25.     0.72  92.   386.   279.    74.  ]\n",
      " [ 26.     1.11  74.   365.   228.   235.  ]\n",
      " [ 27.     1.2   98.   365.   145.   158.  ]\n",
      " [ 28.     1.13 100.   352.   172.   140.  ]\n",
      " [ 29.     1.    86.   325.   179.   145.  ]\n",
      " [ 30.     0.78  98.   321.   222.    99.  ]\n",
      " [ 31.     1.    70.   360.   134.    90.  ]\n",
      " [ 32.     1.    99.   336.   143.   105.  ]\n",
      " [ 33.     0.71  75.   352.   169.    32.  ]\n",
      " [ 34.     0.76  90.   353.   263.   165.  ]\n",
      " [ 35.     0.89  85.   373.   174.    78.  ]\n",
      " [ 36.     0.88  99.   376.   134.    80.  ]\n",
      " [ 37.     1.17 100.   367.   182.    54.  ]\n",
      " [ 38.     0.85  78.   335.   241.   175.  ]\n",
      " [ 39.     0.97 106.   396.   128.    80.  ]\n",
      " [ 40.     1.    98.   277.   222.   186.  ]\n",
      " [ 41.     1.   102.   378.   165.   117.  ]\n",
      " [ 42.     0.89  90.   360.   282.   160.  ]\n",
      " [ 43.     0.98  94.   291.    94.    71.  ]\n",
      " [ 44.     0.78  80.   269.   121.    29.  ]\n",
      " [ 45.     0.74  93.   318.    73.    42.  ]\n",
      " [ 46.     0.91  86.   328.   106.    56.  ]]\n"
     ]
    }
   ],
   "source": [
    "# Example 7.4.1\n",
    "# Таблиця 3.4  Wilks Lambda \n",
    "# import numpy as np\n",
    "path = 'c:/Users/vica/Dropbox/KAU-Stat2/multivariate_analysis/T3_4_DIABETES.DAT'\n",
    "Data_3_4 = np.loadtxt(path, dtype=float)\n",
    "print(Data_3_4)\n"
   ]
  },
  {
   "cell_type": "code",
   "execution_count": 17,
   "id": "c6ab450e",
   "metadata": {},
   "outputs": [
    {
     "data": {
      "text/plain": [
       "array([[ 1.61818357e-02,  2.16028986e-01,  7.87169082e-01,\n",
       "        -2.13845411e-01,  2.18907246e+00],\n",
       "       [ 2.16028986e-01,  7.05589372e+01,  2.62289855e+01,\n",
       "        -2.39560386e+01, -2.08415459e+01],\n",
       "       [ 7.87169082e-01,  2.62289855e+01,  1.10641353e+03,\n",
       "         3.96732367e+02,  1.08383575e+02],\n",
       "       [-2.13845411e-01, -2.39560386e+01,  3.96732367e+02,\n",
       "         2.38188261e+03,  1.14263768e+03],\n",
       "       [ 2.18907246e+00, -2.08415459e+01,  1.08383575e+02,\n",
       "         1.14263768e+03,  2.13639614e+03]])"
      ]
     },
     "execution_count": 17,
     "metadata": {},
     "output_type": "execute_result"
    }
   ],
   "source": [
    "Data_3_4_new = Data_3_4[:,1:] \n",
    "S = np.cov(Data_3_4_new.T)\n",
    "S"
   ]
  },
  {
   "cell_type": "code",
   "execution_count": 22,
   "id": "d8d0e952",
   "metadata": {},
   "outputs": [
    {
     "data": {
      "text/plain": [
       "array([[1.61818357e-02, 2.16028986e-01],\n",
       "       [2.16028986e-01, 7.05589372e+01]])"
      ]
     },
     "execution_count": 22,
     "metadata": {},
     "output_type": "execute_result"
    }
   ],
   "source": [
    "Syy = S[0:2,0:2]\n",
    "Syy"
   ]
  },
  {
   "cell_type": "code",
   "execution_count": 19,
   "id": "7dddb59b",
   "metadata": {},
   "outputs": [
    {
     "data": {
      "text/plain": [
       "array([[1106.41352657,  396.73236715,  108.38357488],\n",
       "       [ 396.73236715, 2381.8826087 , 1142.63768116],\n",
       "       [ 108.38357488, 1142.63768116, 2136.39613527]])"
      ]
     },
     "execution_count": 19,
     "metadata": {},
     "output_type": "execute_result"
    }
   ],
   "source": [
    "Sxx = S[2:,2:]\n",
    "Sxx"
   ]
  },
  {
   "cell_type": "code",
   "execution_count": 23,
   "id": "a1bda9f4",
   "metadata": {},
   "outputs": [
    {
     "data": {
      "text/plain": [
       "0.7240096269007144"
      ]
     },
     "execution_count": 23,
     "metadata": {},
     "output_type": "execute_result"
    }
   ],
   "source": [
    "Lambda =  np.linalg.det(S)/ (np.linalg.det(Sxx)*np.linalg.det(Syy))\n",
    "Lambda"
   ]
  }
 ],
 "metadata": {
  "kernelspec": {
   "display_name": "Python 3",
   "language": "python",
   "name": "python3"
  },
  "language_info": {
   "codemirror_mode": {
    "name": "ipython",
    "version": 3
   },
   "file_extension": ".py",
   "mimetype": "text/x-python",
   "name": "python",
   "nbconvert_exporter": "python",
   "pygments_lexer": "ipython3",
   "version": "3.8.8"
  }
 },
 "nbformat": 4,
 "nbformat_minor": 5
}
