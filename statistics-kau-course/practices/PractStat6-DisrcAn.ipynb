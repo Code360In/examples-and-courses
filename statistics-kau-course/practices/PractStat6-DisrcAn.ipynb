{
 "cells": [
  {
   "cell_type": "code",
   "execution_count": null,
   "id": "59e05d99",
   "metadata": {},
   "outputs": [],
   "source": [
    "# Дискримінантний аналіз\n",
    "# https://www.statology.org/linear-discriminant-analysis-in-python/"
   ]
  },
  {
   "cell_type": "code",
   "execution_count": 1,
   "id": "2a5c00d9",
   "metadata": {},
   "outputs": [],
   "source": [
    "import numpy as np\n",
    "import pandas as pd\n",
    "import matplotlib.pyplot as plt\n",
    "from matplotlib import style"
   ]
  },
  {
   "cell_type": "code",
   "execution_count": 2,
   "id": "e3b9d5cc",
   "metadata": {},
   "outputs": [
    {
     "name": "stdout",
     "output_type": "stream",
     "text": [
      "[[ 1. 33. 60.]\n",
      " [ 1. 36. 61.]\n",
      " [ 1. 35. 64.]\n",
      " [ 1. 38. 63.]\n",
      " [ 1. 40. 65.]\n",
      " [ 2. 35. 57.]\n",
      " [ 2. 36. 59.]\n",
      " [ 2. 38. 59.]\n",
      " [ 2. 39. 61.]\n",
      " [ 2. 41. 63.]\n",
      " [ 2. 43. 65.]\n",
      " [ 2. 41. 59.]]\n"
     ]
    }
   ],
   "source": [
    "# Examplt 8.2 Rencher\n",
    "path = 'c:/Users/vica/Dropbox/KAU-Stat2/multivariate_analysis/T8_1_STEEL.DAT'\n",
    "Temp = np.loadtxt(path, dtype=float)\n",
    "print(Temp)\n",
    "Temp1 = Temp[:5,1:].T #  T1\n",
    "Temp2 = Temp[5:,1:].T  # Table of temperatures  T2\n",
    "# np.array(Temp1).T\n",
    "# Temp['group'] = Temp[:,0]"
   ]
  },
  {
   "cell_type": "code",
   "execution_count": 3,
   "id": "727f8db7",
   "metadata": {},
   "outputs": [
    {
     "data": {
      "image/png": "[encoded data removed]",
      "text/plain": [
       "<Figure size 504x504 with 1 Axes>"
      ]
     },
     "metadata": {
      "needs_background": "light"
     },
     "output_type": "display_data"
    }
   ],
   "source": [
    "#Plot the data\n",
    "fig = plt.figure(figsize=(7,7))\n",
    "ax0 = fig.add_subplot(111)\n",
    "\n",
    "\n",
    "# scatter малює лише точки \n",
    "# marker='s' малює  квадрати,'o' - коло\n",
    "ax0.scatter(Temp1[0],Temp1[1],marker='s',c='blue',edgecolor='black')\n",
    "\n",
    "# додаємо точки \n",
    "ax0.scatter(Temp2[0],Temp2[1],marker='o',c='red',edgecolor='black')  \n",
    "\n",
    "plt.show()"
   ]
  },
  {
   "cell_type": "code",
   "execution_count": 4,
   "id": "460f42bf",
   "metadata": {},
   "outputs": [
    {
     "name": "stdout",
     "output_type": "stream",
     "text": [
      "[[7.3 4.2]\n",
      " [4.2 4.3]]\n",
      "[[8.33333333 6.66666667]\n",
      " [6.66666667 7.61904762]]\n"
     ]
    }
   ],
   "source": [
    "# обчислюємо коваріаційні матриці\n",
    "S1 = np.cov(Temp1)\n",
    "S2 = np.cov(Temp2)\n",
    "print(S1)\n",
    "print(S2)"
   ]
  },
  {
   "cell_type": "code",
   "execution_count": 6,
   "id": "c1d83213",
   "metadata": {},
   "outputs": [
    {
     "name": "stdout",
     "output_type": "stream",
     "text": [
      "5 7\n",
      "[36.4 62.6] [39.         60.42857143]\n"
     ]
    }
   ],
   "source": [
    "d1 = len(Temp1.T) # кількість елементів в T1\n",
    "d2 = len(Temp2.T) # кількість елементів в   T2\n",
    "\n",
    "print(d1,d2)\n",
    "\n",
    "y1 = np.mean(Temp1, axis=1)\n",
    "y2 = np.mean(Temp2, axis=1)\n",
    "\n",
    "print(y1,y2)"
   ]
  },
  {
   "cell_type": "code",
   "execution_count": 7,
   "id": "39c2243a",
   "metadata": {},
   "outputs": [
    {
     "name": "stdout",
     "output_type": "stream",
     "text": [
      "[-1.63337671  1.81977879]\n"
     ]
    }
   ],
   "source": [
    "Spl = ((d1-1)*S1+ (d2-1)*S2)/(d1+d2-2)   #  зважена коваріація\n",
    "\n",
    "a = np.linalg.inv(Spl)@(y1-y2)  # дискримінантна функція\n",
    "print(a)"
   ]
  },
  {
   "cell_type": "code",
   "execution_count": 8,
   "id": "9ee8d3f6",
   "metadata": {},
   "outputs": [
    {
     "name": "stdout",
     "output_type": "stream",
     "text": [
      "[[33. 36. 35. 38. 40.]\n",
      " [60. 61. 64. 63. 65.]]\n",
      "[55.28529603 52.2049447  59.29765777 52.57774886 52.95055303]\n"
     ]
    }
   ],
   "source": [
    "print(Temp1)\n",
    "z1 = Temp1.T @ a\n",
    "print(z1)\n",
    "\n",
    "z2 = Temp2.T @ a"
   ]
  },
  {
   "cell_type": "code",
   "execution_count": 12,
   "id": "59b806cf",
   "metadata": {},
   "outputs": [],
   "source": [
    "# Розділимо  z  на 2 групи (z1 та z2) відповідно до того, чи більше ці значення\n",
    "#  zmean або менші\n",
    "\n",
    "zmean = 0.5*(np.mean(z1)+np.mean(z2)) # середнє значення\n",
    "\n",
    "t = Temp[:,1:]@a\n",
    "# print(t)  "
   ]
  },
  {
   "cell_type": "code",
   "execution_count": 13,
   "id": "9884182f",
   "metadata": {},
   "outputs": [
    {
     "name": "stdout",
     "output_type": "stream",
     "text": [
      "[1. 1. 1. 1. 1. 2. 2. 2. 2. 2. 2. 2.]\n"
     ]
    }
   ],
   "source": [
    "# ділимо на 2 групи,  1  та   2\n",
    "def group(x): \n",
    "    y=[]\n",
    "    for i in range(len(x)):\n",
    "        if (x[i] > zmean): \n",
    "            y = np.append(y,1)\n",
    "        else: y = np.append(y,2)\n",
    "    return y\n",
    "print(group(t))"
   ]
  },
  {
   "cell_type": "code",
   "execution_count": 14,
   "id": "bb268aed",
   "metadata": {},
   "outputs": [
    {
     "name": "stdout",
     "output_type": "stream",
     "text": [
      "[[ 1.   13.5  57.15 19.5  12.5  14.   11.  ]\n",
      " [ 1.   15.5  58.42 21.   12.   16.   12.  ]\n",
      " [ 1.   14.5  55.88 19.   10.   13.   12.  ]\n",
      " [ 1.   15.5  58.42 20.   13.5  15.   12.  ]\n",
      " [ 1.   14.5  58.42 20.   13.   15.5  12.  ]\n",
      " [ 1.   14.   60.96 21.   12.   14.   13.  ]\n",
      " [ 1.   15.   58.42 19.5  13.5  15.5  13.  ]\n",
      " [ 1.   15.   58.42 21.   13.   14.   13.  ]\n",
      " [ 1.   15.5  59.69 20.5  13.5  14.5  12.5 ]\n",
      " [ 1.   15.5  59.69 20.5  13.   15.   13.  ]]\n"
     ]
    }
   ],
   "source": [
    "# Приклад  8.4.1 з Rencher\n",
    "path = 'c:/Users/vica/Dropbox/KAU-Stat2/multivariate_analysis/T8_3_FOOTBALL.DAT'\n",
    "Foot = np.loadtxt(path, dtype=float)\n",
    "print(Foot[:10,])"
   ]
  },
  {
   "cell_type": "code",
   "execution_count": 15,
   "id": "8a348068",
   "metadata": {},
   "outputs": [],
   "source": [
    "X = Foot[:, 1:]  #  змінні \n",
    "y = Foot[:,0]    #  перша колонка, номери груп\n",
    "# print(X)"
   ]
  },
  {
   "cell_type": "code",
   "execution_count": 16,
   "id": "c72b0b8f",
   "metadata": {},
   "outputs": [
    {
     "data": {
      "text/plain": [
       "array([148.5 , 585.47, 202.  , 126.  , 146.5 , 123.5 ])"
      ]
     },
     "execution_count": 16,
     "metadata": {},
     "output_type": "execute_result"
    }
   ],
   "source": [
    "np.sum(X[:10,], axis = 0)  # сумуємо по стовбчиках в Х"
   ]
  },
  {
   "cell_type": "code",
   "execution_count": 20,
   "id": "b5054b1a",
   "metadata": {},
   "outputs": [
    {
     "data": {
      "image/png": "[encoded data removed]",
      "text/plain": [
       "<Figure size 432x288 with 1 Axes>"
      ]
     },
     "metadata": {
      "needs_background": "light"
     },
     "output_type": "display_data"
    }
   ],
   "source": [
    "from sklearn.discriminant_analysis import LinearDiscriminantAnalysis\n",
    "\n",
    "model = LinearDiscriminantAnalysis()   #  задаємо модель \n",
    "model.fit(X,y)                         #  підгонка моделі\n",
    "\n",
    "data_plot = model.fit(X, y).transform(X) # малюємо картинку, отриману після перетворення\n",
    "target_names = y\n",
    "\n",
    "plt.figure()\n",
    "colors = ['red', 'green', 'blue']   # задаємо список кольорів \n",
    "\n",
    "for color, i, target_name in zip(colors, [1, 2, 3], target_names):\n",
    "    plt.scatter(data_plot[y == i, 0], data_plot[y == i, 1], alpha=.8, color=color,\n",
    "             label=target_name)"
   ]
  },
  {
   "cell_type": "code",
   "execution_count": 21,
   "id": "367455ef",
   "metadata": {},
   "outputs": [],
   "source": [
    "# що робить data_plot = model.fit(X, y).transform(X): перераховує дані в нових координатах\n",
    "\n",
    "X_bar = np.mean(X,0)                   # взяли середнє по стовбчикам\n",
    "X_centr =  X - X_bar                   # центрували \n",
    "b = np.array(model.scalings_ )         # власні вектори E^{-1}H, не нормовані\n",
    "\n",
    "z =  np.dot(X_centr,b)                 # дискримінантна функція (те саме: data_plot) \n",
    "# print(data_plot)"
   ]
  },
  {
   "cell_type": "code",
   "execution_count": 22,
   "id": "d6b38214",
   "metadata": {},
   "outputs": [
    {
     "data": {
      "text/plain": [
       "['__class__',\n",
       " '__delattr__',\n",
       " '__dict__',\n",
       " '__dir__',\n",
       " '__doc__',\n",
       " '__eq__',\n",
       " '__format__',\n",
       " '__ge__',\n",
       " '__getattribute__',\n",
       " '__getstate__',\n",
       " '__gt__',\n",
       " '__hash__',\n",
       " '__init__',\n",
       " '__init_subclass__',\n",
       " '__le__',\n",
       " '__lt__',\n",
       " '__module__',\n",
       " '__ne__',\n",
       " '__new__',\n",
       " '__reduce__',\n",
       " '__reduce_ex__',\n",
       " '__repr__',\n",
       " '__setattr__',\n",
       " '__setstate__',\n",
       " '__sizeof__',\n",
       " '__str__',\n",
       " '__subclasshook__',\n",
       " '__weakref__',\n",
       " '_check_n_features',\n",
       " '_estimator_type',\n",
       " '_get_param_names',\n",
       " '_get_tags',\n",
       " '_max_components',\n",
       " '_more_tags',\n",
       " '_predict_proba_lr',\n",
       " '_repr_html_',\n",
       " '_repr_html_inner',\n",
       " '_repr_mimebundle_',\n",
       " '_solve_eigen',\n",
       " '_solve_lsqr',\n",
       " '_solve_svd',\n",
       " '_validate_data',\n",
       " 'classes_',\n",
       " 'coef_',\n",
       " 'covariance_estimator',\n",
       " 'decision_function',\n",
       " 'explained_variance_ratio_',\n",
       " 'fit',\n",
       " 'fit_transform',\n",
       " 'get_params',\n",
       " 'intercept_',\n",
       " 'means_',\n",
       " 'n_components',\n",
       " 'n_features_in_',\n",
       " 'predict',\n",
       " 'predict_log_proba',\n",
       " 'predict_proba',\n",
       " 'priors',\n",
       " 'priors_',\n",
       " 'scalings_',\n",
       " 'score',\n",
       " 'set_params',\n",
       " 'shrinkage',\n",
       " 'solver',\n",
       " 'store_covariance',\n",
       " 'tol',\n",
       " 'transform',\n",
       " 'xbar_']"
      ]
     },
     "execution_count": 22,
     "metadata": {},
     "output_type": "execute_result"
    }
   ],
   "source": [
    "dir(model)  # атрібути"
   ]
  },
  {
   "cell_type": "code",
   "execution_count": 26,
   "id": "1a10da46",
   "metadata": {},
   "outputs": [
    {
     "name": "stdout",
     "output_type": "stream",
     "text": [
      "[0.33 0.33 0.33]\n",
      "[[ 9.48e-01  1.41e+00]\n",
      " [-3.64e-03 -5.13e-04]\n",
      " [-6.44e-03 -2.86e-02]\n",
      " [-6.47e-01  5.40e-01]\n",
      " [-5.04e-01 -3.84e-01]\n",
      " [-8.29e-01 -1.53e+00]]\n",
      "[[15.2  58.94 20.11 13.08 14.73 12.27]\n",
      " [15.42 57.38 19.8  10.08 13.45 11.94]\n",
      " [15.58 57.77 19.81 10.95 13.7  11.8 ]]\n"
     ]
    }
   ],
   "source": [
    "np.set_printoptions(2)\n",
    "print(model.priors_)     # Попередній розподіл: всі групи рівноцінні \n",
    "print(model.scalings_)   # Перші 2 власних вектори E^{-1}H, не нормовані\n",
    "                         # перші 2- тому що у всіх інших власні числа комплексні\n",
    "print(model.means_)      # Середні по колонкам V2 -- V7"
   ]
  },
  {
   "cell_type": "code",
   "execution_count": 190,
   "id": "ba79e3b3",
   "metadata": {},
   "outputs": [
    {
     "name": "stdout",
     "output_type": "stream",
     "text": [
      "[[ 21383.84    80471.085   27603.355   15752.77    19354.57    16655.3   ]\n",
      " [ 80471.085  303376.0856 104064.454   59512.837   72975.866   62748.251 ]\n",
      " [ 27603.355  104064.454   35716.0925  20393.335   25031.625   21523.965 ]\n",
      " [ 15752.77    59512.837   20393.335   11885.51    14376.49    12306.24  ]\n",
      " [ 19354.57    72975.866   25031.625   14376.49    17623.63    15092.98  ]\n",
      " [ 16655.3     62748.251   21523.965   12306.24    15092.98    13005.66  ]]\n"
     ]
    }
   ],
   "source": [
    "# Матриці  E та  H\n",
    "# \n",
    "p = 6   # розмірність \n",
    "n = 30  # кількість спостережень в групі\n",
    "k = 3   # кількість груп\n",
    "# Порахуємо суму  S1 = sum_{i=1}^k \\sum_{j=1}^n y_{ij}y_{ij}'   n=30, k=3 len(y)= n*k = 90\n",
    "S1 = np.zeros(shape=(6,6))\n",
    "for i in range(len(y)): \n",
    "    S1+=(np.array(X[i,:]).reshape(6,1))@(np.array(X[i,:]).reshape(1,6))\n",
    "print(S1)  "
   ]
  },
  {
   "cell_type": "code",
   "execution_count": 198,
   "id": "3c7edf3e",
   "metadata": {},
   "outputs": [
    {
     "name": "stdout",
     "output_type": "stream",
     "text": [
      "[[ 456.   1768.11  603.25  392.5   442.    368.  ]\n",
      " [ 462.6  1721.39  594.1   302.4   403.6   358.3 ]\n",
      " [ 467.4  1733.1   594.3   328.4   410.9   354.1 ]]\n"
     ]
    }
   ],
   "source": [
    "# рахуємо суми всередині групи \\sum_{i=1}^k y_{i \\dot} y_{i \\dot}'/n \n",
    "\n",
    "# 1. Середнє по групам і по стовбчикам, тобто y_{i \\dot}\n",
    "g = np.zeros(shape =(3,6))\n",
    "for i in range(3):\n",
    "    g[i,:]+= np.sum(X[i*30: (i+1)*30,:], axis = 0)\n",
    "print(g)"
   ]
  },
  {
   "cell_type": "code",
   "execution_count": 196,
   "id": "f15192a9",
   "metadata": {},
   "outputs": [
    {
     "name": "stdout",
     "output_type": "stream",
     "text": [
      "[[ 21346.584       80420.8038      27589.616       15745.48\n",
      "   19343.734       16635.464     ]\n",
      " [ 80420.8038     303101.07047333 103975.71621667  59456.0517\n",
      "   72946.28046667  62704.30756667]\n",
      " [ 27589.616      103975.71621667  35668.59541667  20386.65283333\n",
      "   25020.43766667  21510.122     ]\n",
      " [ 15745.48        59456.0517      20386.65283333  11778.28566667\n",
      "   14349.10666667  12302.54533333]\n",
      " [ 19343.734       72946.28046667  25020.43766667  14349.10666667\n",
      "   17569.859       15092.18566667]\n",
      " [ 16635.464       62704.30756667  21510.122       12302.54533333\n",
      "   15092.18566667  12972.99      ]]\n"
     ]
    }
   ],
   "source": [
    "# рахуємо скалярний добуток і сумуємо\n",
    "B= np.zeros(shape=(6,6))\n",
    "for i in range(3): \n",
    "    B+=  (np.array(g[i,:]).reshape((6,1)))  @ (np.array(g[i,:]).reshape((1,6)))\n",
    "S2 = B/30\n",
    "print(S2)"
   ]
  },
  {
   "cell_type": "code",
   "execution_count": 197,
   "id": "7f92afd1",
   "metadata": {},
   "outputs": [
    {
     "name": "stdout",
     "output_type": "stream",
     "text": [
      "[[ 37.256       50.2812      13.739        7.29        10.836\n",
      "   19.836     ]\n",
      " [ 50.2812     275.01512667  88.73778333  56.7853      29.58553333\n",
      "   43.94343333]\n",
      " [ 13.739       88.73778333  47.49708333   6.68216667  11.18733333\n",
      "   13.843     ]\n",
      " [  7.29        56.7853       6.68216667 107.22433333  27.38333333\n",
      "    3.69466667]\n",
      " [ 10.836       29.58553333  11.18733333  27.38333333  53.771\n",
      "    0.79433333]\n",
      " [ 19.836       43.94343333  13.843        3.69466667   0.79433333\n",
      "   32.67      ]]\n"
     ]
    }
   ],
   "source": [
    "E = S1-S2\n",
    "print(E)"
   ]
  },
  {
   "cell_type": "code",
   "execution_count": 199,
   "id": "0d44d9ad",
   "metadata": {},
   "outputs": [
    {
     "data": {
      "text/plain": [
       "array([1386.  , 5222.6 , 1791.65, 1023.3 , 1256.5 , 1080.4 ])"
      ]
     },
     "execution_count": 199,
     "metadata": {},
     "output_type": "execute_result"
    }
   ],
   "source": [
    "# тепер перейдемо до матриці Н\n",
    "# рахуємо y_{dot dot}\n",
    "y_2dot= np.sum(g,axis=0)\n",
    "y_2dot"
   ]
  },
  {
   "cell_type": "code",
   "execution_count": 200,
   "id": "69c82070",
   "metadata": {},
   "outputs": [
    {
     "data": {
      "text/plain": [
       "array([[ 21344.4       ,  80428.04      ,  27591.41      ,\n",
       "         15758.82      ,  19350.1       ,  16638.16      ],\n",
       "       [ 80428.04      , 303061.67511111, 103967.45877778,\n",
       "         59380.962     ,  72913.29888889,  62694.41155556],\n",
       "       [ 27591.41      , 103967.45877778,  35666.77469444,\n",
       "         20371.0605    ,  25013.42472222,  21507.76288889],\n",
       "       [ 15758.82      ,  59380.962     ,  20371.0605    ,\n",
       "         11634.921     ,  14286.405     ,  12284.148     ],\n",
       "       [ 19350.1       ,  72913.29888889,  25013.42472222,\n",
       "         14286.405     ,  17542.13611111,  15083.58444444],\n",
       "       [ 16638.16      ,  62694.41155556,  21507.76288889,\n",
       "         12284.148     ,  15083.58444444,  12969.60177778]])"
      ]
     },
     "execution_count": 200,
     "metadata": {},
     "output_type": "execute_result"
    }
   ],
   "source": [
    "# рахуємо скалярний добуток \n",
    "D = (np.array(y_2dot.reshape(6,1)))@(np.array(y_2dot.reshape(1,6)))\n",
    "# і ділимо на k * n = 90\n",
    "D/90   "
   ]
  },
  {
   "cell_type": "code",
   "execution_count": 204,
   "id": "c9f789ef",
   "metadata": {},
   "outputs": [
    {
     "data": {
      "text/plain": [
       "array([[  2.184     ,  -7.2362    ,  -1.794     , -13.34      ,\n",
       "         -6.366     ,  -2.696     ],\n",
       "       [ -7.2362    ,  39.39536222,   8.25743889,  75.0897    ,\n",
       "         32.98157778,   9.89601111],\n",
       "       [ -1.794     ,   8.25743889,   1.82072222,  15.59233333,\n",
       "          7.01294444,   2.35911111],\n",
       "       [-13.34      ,  75.0897    ,  15.59233333, 143.36466667,\n",
       "         62.70166667,  18.39733333],\n",
       "       [ -6.366     ,  32.98157778,   7.01294444,  62.70166667,\n",
       "         27.72288889,   8.60122222],\n",
       "       [ -2.696     ,   9.89601111,   2.35911111,  18.39733333,\n",
       "          8.60122222,   3.38822222]])"
      ]
     },
     "execution_count": 204,
     "metadata": {},
     "output_type": "execute_result"
    }
   ],
   "source": [
    "#  тепео остаточно знаходимо Н: \n",
    "H= B/30- D/90\n",
    "H"
   ]
  },
  {
   "cell_type": "code",
   "execution_count": 17,
   "id": "9003abaa",
   "metadata": {},
   "outputs": [
    {
     "ename": "AttributeError",
     "evalue": "module 'numpy' has no attribute 'set_precision'",
     "output_type": "error",
     "traceback": [
      "\u001b[1;31m---------------------------------------------------------------------------\u001b[0m",
      "\u001b[1;31mAttributeError\u001b[0m                            Traceback (most recent call last)",
      "\u001b[1;32m<ipython-input-17-c6ef6100876c>\u001b[0m in \u001b[0;36m<module>\u001b[1;34m\u001b[0m\n\u001b[0;32m      1\u001b[0m \u001b[1;31m# власні числа та власні вектори E^{-1}H\u001b[0m\u001b[1;33m\u001b[0m\u001b[1;33m\u001b[0m\u001b[1;33m\u001b[0m\u001b[0m\n\u001b[1;32m----> 2\u001b[1;33m \u001b[0mnp\u001b[0m\u001b[1;33m.\u001b[0m\u001b[0mset_precision\u001b[0m\u001b[1;33m(\u001b[0m\u001b[1;36m2\u001b[0m\u001b[1;33m)\u001b[0m\u001b[1;33m\u001b[0m\u001b[1;33m\u001b[0m\u001b[0m\n\u001b[0m\u001b[0;32m      3\u001b[0m \u001b[0mprint\u001b[0m\u001b[1;33m(\u001b[0m\u001b[0mnp\u001b[0m\u001b[1;33m.\u001b[0m\u001b[0mlinalg\u001b[0m\u001b[1;33m.\u001b[0m\u001b[0meig\u001b[0m\u001b[1;33m(\u001b[0m\u001b[0mnp\u001b[0m\u001b[1;33m.\u001b[0m\u001b[0mlinalg\u001b[0m\u001b[1;33m.\u001b[0m\u001b[0minv\u001b[0m\u001b[1;33m(\u001b[0m\u001b[0mE\u001b[0m\u001b[1;33m)\u001b[0m\u001b[1;33m@\u001b[0m \u001b[0mH\u001b[0m\u001b[1;33m)\u001b[0m\u001b[1;33m)\u001b[0m  \u001b[1;31m# тут власні вектори вже нормовані!  В model.scalings_  не нормовані\u001b[0m\u001b[1;33m\u001b[0m\u001b[1;33m\u001b[0m\u001b[0m\n",
      "\u001b[1;32m~\\anaconda3\\lib\\site-packages\\numpy\\__init__.py\u001b[0m in \u001b[0;36m__getattr__\u001b[1;34m(attr)\u001b[0m\n\u001b[0;32m    301\u001b[0m                 \u001b[1;32mreturn\u001b[0m \u001b[0mTester\u001b[0m\u001b[1;33m\u001b[0m\u001b[1;33m\u001b[0m\u001b[0m\n\u001b[0;32m    302\u001b[0m \u001b[1;33m\u001b[0m\u001b[0m\n\u001b[1;32m--> 303\u001b[1;33m             raise AttributeError(\"module {!r} has no attribute \"\n\u001b[0m\u001b[0;32m    304\u001b[0m                                  \"{!r}\".format(__name__, attr))\n\u001b[0;32m    305\u001b[0m \u001b[1;33m\u001b[0m\u001b[0m\n",
      "\u001b[1;31mAttributeError\u001b[0m: module 'numpy' has no attribute 'set_precision'"
     ]
    }
   ],
   "source": [
    "# власні числа та власні вектори E^{-1}H\n",
    "np.set_precision(2)\n",
    "print(np.linalg.eig(np.linalg.inv(E)@ H))  # тут власні вектори вже нормовані!  В model.scalings_  не нормовані"
   ]
  }
 ],
 "metadata": {
  "kernelspec": {
   "display_name": "Python 3",
   "language": "python",
   "name": "python3"
  },
  "language_info": {
   "codemirror_mode": {
    "name": "ipython",
    "version": 3
   },
   "file_extension": ".py",
   "mimetype": "text/x-python",
   "name": "python",
   "nbconvert_exporter": "python",
   "pygments_lexer": "ipython3",
   "version": "3.8.8"
  }
 },
 "nbformat": 4,
 "nbformat_minor": 5
}
