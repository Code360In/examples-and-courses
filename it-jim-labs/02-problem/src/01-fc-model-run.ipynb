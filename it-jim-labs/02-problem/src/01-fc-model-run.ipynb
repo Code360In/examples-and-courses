{
 "cells": [
  {
   "cell_type": "markdown",
   "metadata": {},
   "source": [
    "## Import packages"
   ]
  },
  {
   "cell_type": "code",
   "execution_count": 5,
   "metadata": {},
   "outputs": [],
   "source": [
    "\n",
    "import numpy as np\n",
    "import torch\n",
    "from torch.utils.data import DataLoader\n",
    "from torch.optim.lr_scheduler import ReduceLROnPlateau\n",
    "from torchsummary import summary\n",
    "\n",
    "import matplotlib.pyplot as plt\n",
    "plt.rcParams[\"figure.figsize\"] = (16, 9)"
   ]
  },
  {
   "cell_type": "code",
   "execution_count": 6,
   "metadata": {},
   "outputs": [
    {
     "name": "stderr",
     "output_type": "stream",
     "text": [
      "/opt/homebrew/Caskroom/miniforge/base/lib/python3.9/site-packages/torchvision/io/image.py:11: UserWarning: Failed to load image Python extension: \n",
      "  warn(f\"Failed to load image Python extension: {e}\")\n"
     ]
    }
   ],
   "source": [
    "from config import opt\n",
    "from models import FlowersFcModel\n",
    "from utils import train_model, get_val_metrics, get_images_paths, get_train_test_split, show_tensor_images, init_seeds\n",
    "from datasets import FlowersDataset\n",
    "from datasets.preprocessing import train_transformations_without_norm, val_transformations_without_norm"
   ]
  },
  {
   "cell_type": "code",
   "execution_count": 7,
   "metadata": {},
   "outputs": [],
   "source": [
    "init_seeds(opt.seed)"
   ]
  },
  {
   "cell_type": "markdown",
   "metadata": {},
   "source": [
    "## Prepare dataset"
   ]
  },
  {
   "cell_type": "code",
   "execution_count": 8,
   "metadata": {},
   "outputs": [],
   "source": [
    "num_classes = len(set(opt.idx_to_class.keys()))"
   ]
  },
  {
   "cell_type": "code",
   "execution_count": 9,
   "metadata": {},
   "outputs": [],
   "source": [
    "data_df = get_images_paths(opt=opt)\n",
    "train_df, val_df = get_train_test_split(df=data_df, opt=opt)"
   ]
  },
  {
   "cell_type": "code",
   "execution_count": 10,
   "metadata": {},
   "outputs": [
    {
     "data": {
      "text/plain": [
       "4    602\n",
       "0    518\n",
       "2    472\n",
       "3    420\n",
       "1    239\n",
       "Name: label, dtype: int64"
      ]
     },
     "execution_count": 10,
     "metadata": {},
     "output_type": "execute_result"
    }
   ],
   "source": [
    "data_df.label.value_counts()"
   ]
  },
  {
   "cell_type": "code",
   "execution_count": 11,
   "metadata": {},
   "outputs": [],
   "source": [
    "train_dataset = FlowersDataset(\n",
    "    img_paths=train_df['path'].values.copy(),\n",
    "    labels=train_df['label'].values.copy(),\n",
    "    num_classes=num_classes,\n",
    "    transform=train_transformations_without_norm,\n",
    "    use_descriptors_as_features=opt.use_descriptors_as_features,\n",
    "    features_type=opt.features_type,\n",
    ")\n",
    "\n",
    "train_dataloader = DataLoader(\n",
    "    train_dataset,\n",
    "    batch_size=opt.batch_size,\n",
    "    shuffle=True,\n",
    "    num_workers=opt.num_workers,\n",
    "    pin_memory=opt.pin_memory,\n",
    ")\n",
    "\n",
    "val_dataset = FlowersDataset(\n",
    "    img_paths=val_df['path'].values.copy(),\n",
    "    labels=val_df['label'].values.copy(),\n",
    "    num_classes=num_classes,\n",
    "    transform=val_transformations_without_norm,\n",
    "    use_descriptors_as_features=opt.use_descriptors_as_features,\n",
    "    features_type=opt.features_type,\n",
    ")\n",
    "\n",
    "val_dataloader = DataLoader(\n",
    "    train_dataset,\n",
    "    batch_size=opt.batch_size,\n",
    "    shuffle=False,\n",
    "    num_workers=opt.num_workers,\n",
    "    pin_memory=opt.pin_memory,\n",
    ")"
   ]
  },
  {
   "cell_type": "markdown",
   "metadata": {},
   "source": [
    "## Training"
   ]
  },
  {
   "cell_type": "code",
   "execution_count": 14,
   "metadata": {},
   "outputs": [
    {
     "data": {
      "text/plain": [
       "torch.Size([32, 1542])"
      ]
     },
     "execution_count": 14,
     "metadata": {},
     "output_type": "execute_result"
    }
   ],
   "source": [
    "next(iter(val_dataloader))['image'].shape"
   ]
  },
  {
   "cell_type": "code",
   "execution_count": 15,
   "metadata": {},
   "outputs": [],
   "source": [
    "in_features = 1542\n",
    "hidden_dim = in_features // 2\n",
    "model = FlowersFcModel(\n",
    "    in_features=in_features, hidden_dim=hidden_dim, num_classes=num_classes\n",
    ").to(opt.device)\n",
    "# model.freeze_middle_layers()\n",
    "\n",
    "criterion = torch.nn.CrossEntropyLoss()\n",
    "optimizer = torch.optim.Adam(filter(lambda p: p.requires_grad, model.parameters()), lr=opt.lr)\n",
    "scheduler = ReduceLROnPlateau(optimizer, mode='min', patience=2, factor=0.1, verbose=True)"
   ]
  },
  {
   "cell_type": "code",
   "execution_count": 16,
   "metadata": {},
   "outputs": [
    {
     "name": "stdout",
     "output_type": "stream",
     "text": [
      "----------------------------------------------------------------\n",
      "        Layer (type)               Output Shape         Param #\n",
      "================================================================\n",
      "            Linear-1                  [32, 771]       1,189,653\n",
      "              ReLU-2                  [32, 771]               0\n",
      "       BatchNorm1d-3                  [32, 771]           1,542\n",
      "           Dropout-4                  [32, 771]               0\n",
      "            Linear-5                   [32, 96]          74,112\n",
      "              ReLU-6                   [32, 96]               0\n",
      "       BatchNorm1d-7                   [32, 96]             192\n",
      "           Dropout-8                   [32, 96]               0\n",
      "            Linear-9                   [32, 48]           4,656\n",
      "             ReLU-10                   [32, 48]               0\n",
      "      BatchNorm1d-11                   [32, 48]              96\n",
      "          Dropout-12                   [32, 48]               0\n",
      "           Linear-13                   [32, 24]           1,176\n",
      "             ReLU-14                   [32, 24]               0\n",
      "      BatchNorm1d-15                   [32, 24]              48\n",
      "           Linear-16                    [32, 5]             125\n",
      "================================================================\n",
      "Total params: 1,271,600\n",
      "Trainable params: 1,271,600\n",
      "Non-trainable params: 0\n",
      "----------------------------------------------------------------\n",
      "Input size (MB): 0.19\n",
      "Forward/backward pass size (MB): 0.91\n",
      "Params size (MB): 4.85\n",
      "Estimated Total Size (MB): 5.95\n",
      "----------------------------------------------------------------\n"
     ]
    }
   ],
   "source": [
    "summary(model, input_size=(in_features, ), batch_size=opt.batch_size)"
   ]
  },
  {
   "cell_type": "code",
   "execution_count": 17,
   "metadata": {},
   "outputs": [
    {
     "name": "stdout",
     "output_type": "stream",
     "text": [
      "Epoch: [0][ 0/57]\tTime 11.757 (11.757)\tData 11.717 (11.717)\tLoss 1.8550e+00 (1.8550e+00)\tAcc   0.19 (  0.19)\tF1   0.18 (  0.18)\n",
      "Epoch: [0][10/57]\tTime  0.017 ( 2.867)\tData  0.002 ( 2.850)\tLoss 1.5848e+00 (1.7005e+00)\tAcc   0.25 (  0.22)\tF1   0.24 (  0.22)\n",
      "Epoch: [0][20/57]\tTime  9.781 ( 2.928)\tData  9.761 ( 2.911)\tLoss 1.5304e+00 (1.6585e+00)\tAcc   0.38 (  0.25)\tF1   0.36 (  0.25)\n",
      "Epoch: [0][30/57]\tTime  0.024 ( 2.628)\tData  0.001 ( 2.611)\tLoss 1.6111e+00 (1.6428e+00)\tAcc   0.28 (  0.27)\tF1   0.28 (  0.26)\n",
      "Epoch: [0][40/57]\tTime  9.946 ( 2.720)\tData  9.932 ( 2.704)\tLoss 1.5243e+00 (1.6408e+00)\tAcc   0.34 (  0.26)\tF1   0.33 (  0.26)\n",
      "Epoch: [0][50/57]\tTime  0.017 ( 2.570)\tData  0.001 ( 2.553)\tLoss 1.5218e+00 (1.6234e+00)\tAcc   0.28 (  0.26)\tF1   0.27 (  0.26)\n",
      "Val: [ 0/57]\tTime 10.977 (10.977)\tLoss 1.5625e+00 (1.5625e+00)\tAcc   0.25 (  0.25)\tF1   0.21 (  0.21)\n",
      "Val: [10/57]\tTime  0.005 ( 2.768)\tLoss 1.6199e+00 (1.5822e+00)\tAcc   0.09 (  0.25)\tF1   0.03 (  0.15)\n",
      "Val: [20/57]\tTime  9.788 ( 2.853)\tLoss 1.6570e+00 (1.5725e+00)\tAcc   0.22 (  0.25)\tF1   0.14 (  0.16)\n",
      "Val: [30/57]\tTime  0.006 ( 2.582)\tLoss 1.6557e+00 (1.5752e+00)\tAcc   0.25 (  0.25)\tF1   0.13 (  0.16)\n",
      "Val: [40/57]\tTime  9.920 ( 2.673)\tLoss 1.5606e+00 (1.5729e+00)\tAcc   0.28 (  0.25)\tF1   0.23 (  0.16)\n",
      "Val: [50/57]\tTime  0.006 ( 2.536)\tLoss 1.5618e+00 (1.5767e+00)\tAcc   0.28 (  0.25)\tF1   0.17 (  0.16)\n",
      "Epoch: [1][ 0/57]\tTime 11.255 (11.255)\tData 11.229 (11.229)\tLoss 1.7509e+00 (1.7509e+00)\tAcc   0.19 (  0.19)\tF1   0.17 (  0.17)\n",
      "Epoch: [1][10/57]\tTime  0.017 ( 2.877)\tData  0.002 ( 2.860)\tLoss 1.4998e+00 (1.5500e+00)\tAcc   0.41 (  0.30)\tF1   0.42 (  0.29)\n",
      "Epoch: [1][20/57]\tTime  9.710 ( 2.898)\tData  9.694 ( 2.881)\tLoss 1.5473e+00 (1.5357e+00)\tAcc   0.31 (  0.32)\tF1   0.29 (  0.30)\n",
      "Epoch: [1][30/57]\tTime  0.017 ( 2.610)\tData  0.002 ( 2.594)\tLoss 1.6416e+00 (1.5433e+00)\tAcc   0.28 (  0.31)\tF1   0.27 (  0.29)\n",
      "Epoch: [1][40/57]\tTime  9.474 ( 2.686)\tData  9.459 ( 2.670)\tLoss 1.4949e+00 (1.5312e+00)\tAcc   0.28 (  0.32)\tF1   0.26 (  0.30)\n",
      "Epoch: [1][50/57]\tTime  0.017 ( 2.556)\tData  0.002 ( 2.540)\tLoss 1.5330e+00 (1.5247e+00)\tAcc   0.38 (  0.32)\tF1   0.35 (  0.31)\n",
      "Val: [ 0/57]\tTime 11.151 (11.151)\tLoss 1.4413e+00 (1.4413e+00)\tAcc   0.31 (  0.31)\tF1   0.31 (  0.31)\n",
      "Val: [10/57]\tTime  0.008 ( 2.810)\tLoss 1.4602e+00 (1.4770e+00)\tAcc   0.41 (  0.35)\tF1   0.44 (  0.33)\n",
      "Val: [20/57]\tTime  9.705 ( 2.885)\tLoss 1.5701e+00 (1.4879e+00)\tAcc   0.25 (  0.35)\tF1   0.21 (  0.33)\n",
      "Val: [30/57]\tTime  0.116 ( 2.592)\tLoss 1.6652e+00 (1.4941e+00)\tAcc   0.25 (  0.35)\tF1   0.22 (  0.33)\n",
      "Val: [40/57]\tTime  9.529 ( 2.665)\tLoss 1.4658e+00 (1.5016e+00)\tAcc   0.34 (  0.36)\tF1   0.32 (  0.33)\n",
      "Val: [50/57]\tTime  0.274 ( 2.551)\tLoss 1.4636e+00 (1.5030e+00)\tAcc   0.47 (  0.35)\tF1   0.41 (  0.33)\n",
      "Epoch: [2][ 0/57]\tTime 11.096 (11.096)\tData 11.078 (11.078)\tLoss 1.5080e+00 (1.5080e+00)\tAcc   0.28 (  0.28)\tF1   0.30 (  0.30)\n",
      "Epoch: [2][10/57]\tTime  0.017 ( 2.791)\tData  0.002 ( 2.775)\tLoss 1.4403e+00 (1.5192e+00)\tAcc   0.38 (  0.31)\tF1   0.35 (  0.30)\n",
      "Epoch: [2][20/57]\tTime  9.610 ( 2.861)\tData  9.593 ( 2.844)\tLoss 1.4278e+00 (1.4909e+00)\tAcc   0.38 (  0.32)\tF1   0.36 (  0.32)\n",
      "Epoch: [2][30/57]\tTime  0.015 ( 2.582)\tData  0.001 ( 2.566)\tLoss 1.4089e+00 (1.4892e+00)\tAcc   0.47 (  0.33)\tF1   0.45 (  0.32)\n",
      "Epoch: [2][40/57]\tTime  9.517 ( 2.668)\tData  9.503 ( 2.652)\tLoss 1.5016e+00 (1.4936e+00)\tAcc   0.25 (  0.34)\tF1   0.22 (  0.32)\n",
      "Epoch: [2][50/57]\tTime  0.016 ( 2.536)\tData  0.001 ( 2.520)\tLoss 1.5113e+00 (1.4930e+00)\tAcc   0.38 (  0.35)\tF1   0.38 (  0.33)\n",
      "Val: [ 0/57]\tTime 11.018 (11.018)\tLoss 1.3748e+00 (1.3748e+00)\tAcc   0.53 (  0.53)\tF1   0.47 (  0.47)\n",
      "Val: [10/57]\tTime  0.005 ( 2.786)\tLoss 1.3873e+00 (1.4288e+00)\tAcc   0.34 (  0.40)\tF1   0.32 (  0.34)\n",
      "Val: [20/57]\tTime  9.540 ( 2.872)\tLoss 1.5445e+00 (1.4438e+00)\tAcc   0.38 (  0.37)\tF1   0.33 (  0.32)\n",
      "Val: [30/57]\tTime  0.006 ( 2.609)\tLoss 1.5311e+00 (1.4564e+00)\tAcc   0.34 (  0.37)\tF1   0.30 (  0.32)\n",
      "Val: [40/57]\tTime  9.550 ( 2.689)\tLoss 1.4763e+00 (1.4656e+00)\tAcc   0.53 (  0.37)\tF1   0.52 (  0.32)\n",
      "Val: [50/57]\tTime  0.005 ( 2.559)\tLoss 1.5374e+00 (1.4725e+00)\tAcc   0.25 (  0.37)\tF1   0.18 (  0.32)\n",
      "Epoch: [3][ 0/57]\tTime 11.350 (11.350)\tData 11.330 (11.330)\tLoss 1.3915e+00 (1.3915e+00)\tAcc   0.44 (  0.44)\tF1   0.40 (  0.40)\n",
      "Epoch: [3][10/57]\tTime  0.066 ( 2.823)\tData  0.051 ( 2.808)\tLoss 1.4285e+00 (1.4494e+00)\tAcc   0.34 (  0.39)\tF1   0.32 (  0.36)\n",
      "Epoch: [3][20/57]\tTime  9.901 ( 2.931)\tData  9.885 ( 2.916)\tLoss 1.4143e+00 (1.4394e+00)\tAcc   0.53 (  0.41)\tF1   0.51 (  0.38)\n",
      "Epoch: [3][30/57]\tTime  0.152 ( 2.642)\tData  0.138 ( 2.627)\tLoss 1.6707e+00 (1.4572e+00)\tAcc   0.19 (  0.40)\tF1   0.17 (  0.37)\n",
      "Epoch: [3][40/57]\tTime  9.341 ( 2.727)\tData  9.325 ( 2.712)\tLoss 1.4071e+00 (1.4611e+00)\tAcc   0.38 (  0.38)\tF1   0.34 (  0.35)\n",
      "Epoch: [3][50/57]\tTime  0.524 ( 2.611)\tData  0.509 ( 2.596)\tLoss 1.4076e+00 (1.4617e+00)\tAcc   0.38 (  0.38)\tF1   0.34 (  0.35)\n",
      "Val: [ 0/57]\tTime 11.209 (11.209)\tLoss 1.2372e+00 (1.2372e+00)\tAcc   0.66 (  0.66)\tF1   0.63 (  0.63)\n",
      "Val: [10/57]\tTime  0.006 ( 2.852)\tLoss 1.3515e+00 (1.3878e+00)\tAcc   0.47 (  0.43)\tF1   0.46 (  0.39)\n",
      "Val: [20/57]\tTime 10.079 ( 2.958)\tLoss 1.6293e+00 (1.3993e+00)\tAcc   0.22 (  0.39)\tF1   0.20 (  0.35)\n",
      "Val: [30/57]\tTime  0.006 ( 2.662)\tLoss 1.6211e+00 (1.4127e+00)\tAcc   0.31 (  0.39)\tF1   0.27 (  0.35)\n",
      "Val: [40/57]\tTime 10.009 ( 2.749)\tLoss 1.2411e+00 (1.4252e+00)\tAcc   0.56 (  0.37)\tF1   0.52 (  0.33)\n",
      "Val: [50/57]\tTime  0.006 ( 2.607)\tLoss 1.4235e+00 (1.4353e+00)\tAcc   0.50 (  0.38)\tF1   0.47 (  0.34)\n",
      "Epoch: [4][ 0/57]\tTime 10.896 (10.896)\tData 10.876 (10.876)\tLoss 1.3778e+00 (1.3778e+00)\tAcc   0.44 (  0.44)\tF1   0.38 (  0.38)\n",
      "Epoch: [4][10/57]\tTime  0.018 ( 2.797)\tData  0.002 ( 2.781)\tLoss 1.3611e+00 (1.4310e+00)\tAcc   0.50 (  0.40)\tF1   0.45 (  0.36)\n",
      "Epoch: [4][20/57]\tTime  9.998 ( 2.905)\tData  9.983 ( 2.890)\tLoss 1.3734e+00 (1.4529e+00)\tAcc   0.53 (  0.38)\tF1   0.45 (  0.33)\n",
      "Epoch: [4][30/57]\tTime  0.025 ( 2.619)\tData  0.001 ( 2.604)\tLoss 1.3054e+00 (1.4420e+00)\tAcc   0.47 (  0.38)\tF1   0.43 (  0.34)\n",
      "Epoch: [4][40/57]\tTime 10.055 ( 2.725)\tData 10.039 ( 2.710)\tLoss 1.3126e+00 (1.4384e+00)\tAcc   0.47 (  0.37)\tF1   0.42 (  0.33)\n",
      "Epoch: [4][50/57]\tTime  0.031 ( 2.589)\tData  0.012 ( 2.574)\tLoss 1.4467e+00 (1.4402e+00)\tAcc   0.31 (  0.37)\tF1   0.27 (  0.33)\n",
      "Val: [ 0/57]\tTime 11.269 (11.269)\tLoss 1.4592e+00 (1.4592e+00)\tAcc   0.44 (  0.44)\tF1   0.37 (  0.37)\n",
      "Val: [10/57]\tTime  0.006 ( 2.815)\tLoss 1.6786e+00 (1.6642e+00)\tAcc   0.25 (  0.32)\tF1   0.19 (  0.28)\n",
      "Val: [20/57]\tTime 10.343 ( 2.928)\tLoss 1.9930e+00 (1.6530e+00)\tAcc   0.16 (  0.31)\tF1   0.07 (  0.26)\n",
      "Val: [30/57]\tTime  0.005 ( 2.626)\tLoss 1.8300e+00 (1.6596e+00)\tAcc   0.25 (  0.32)\tF1   0.18 (  0.26)\n",
      "Val: [40/57]\tTime  9.868 ( 2.709)\tLoss 1.5378e+00 (1.6735e+00)\tAcc   0.34 (  0.31)\tF1   0.22 (  0.26)\n",
      "Val: [50/57]\tTime  0.006 ( 2.566)\tLoss 1.5485e+00 (1.6781e+00)\tAcc   0.31 (  0.30)\tF1   0.25 (  0.25)\n",
      "Epoch: [5][ 0/57]\tTime 11.486 (11.486)\tData 11.469 (11.469)\tLoss 1.4471e+00 (1.4471e+00)\tAcc   0.47 (  0.47)\tF1   0.44 (  0.44)\n",
      "Epoch: [5][10/57]\tTime  0.017 ( 2.836)\tData  0.002 ( 2.820)\tLoss 1.4928e+00 (1.4350e+00)\tAcc   0.31 (  0.36)\tF1   0.30 (  0.36)\n",
      "Epoch: [5][20/57]\tTime  9.699 ( 2.906)\tData  9.684 ( 2.890)\tLoss 1.4438e+00 (1.4273e+00)\tAcc   0.34 (  0.38)\tF1   0.35 (  0.36)\n",
      "Epoch: [5][30/57]\tTime  0.015 ( 2.618)\tData  0.001 ( 2.602)\tLoss 1.4904e+00 (1.4279e+00)\tAcc   0.38 (  0.38)\tF1   0.34 (  0.36)\n",
      "Epoch: [5][40/57]\tTime  9.460 ( 2.692)\tData  9.446 ( 2.677)\tLoss 1.5420e+00 (1.4316e+00)\tAcc   0.31 (  0.39)\tF1   0.32 (  0.37)\n",
      "Epoch: [5][50/57]\tTime  0.015 ( 2.554)\tData  0.001 ( 2.539)\tLoss 1.2187e+00 (1.4323e+00)\tAcc   0.53 (  0.39)\tF1   0.51 (  0.36)\n",
      "Val: [ 0/57]\tTime 10.914 (10.914)\tLoss 1.2888e+00 (1.2888e+00)\tAcc   0.44 (  0.44)\tF1   0.35 (  0.35)\n",
      "Val: [10/57]\tTime  0.007 ( 2.815)\tLoss 1.3211e+00 (1.3669e+00)\tAcc   0.50 (  0.40)\tF1   0.48 (  0.35)\n",
      "Val: [20/57]\tTime  9.756 ( 2.883)\tLoss 1.5444e+00 (1.3837e+00)\tAcc   0.31 (  0.40)\tF1   0.24 (  0.34)\n",
      "Val: [30/57]\tTime  0.005 ( 2.603)\tLoss 1.6059e+00 (1.3993e+00)\tAcc   0.28 (  0.40)\tF1   0.25 (  0.34)\n",
      "Val: [40/57]\tTime  9.692 ( 2.682)\tLoss 1.2437e+00 (1.4101e+00)\tAcc   0.47 (  0.39)\tF1   0.41 (  0.33)\n",
      "Val: [50/57]\tTime  0.006 ( 2.545)\tLoss 1.5142e+00 (1.4212e+00)\tAcc   0.31 (  0.39)\tF1   0.27 (  0.33)\n",
      "Epoch: [6][ 0/57]\tTime 11.904 (11.904)\tData 11.884 (11.884)\tLoss 1.4961e+00 (1.4961e+00)\tAcc   0.38 (  0.38)\tF1   0.30 (  0.30)\n",
      "Epoch: [6][10/57]\tTime  0.018 ( 2.876)\tData  0.002 ( 2.860)\tLoss 1.2094e+00 (1.3855e+00)\tAcc   0.50 (  0.45)\tF1   0.48 (  0.42)\n",
      "Epoch: [6][20/57]\tTime 10.049 ( 2.939)\tData 10.031 ( 2.924)\tLoss 1.5013e+00 (1.3891e+00)\tAcc   0.38 (  0.44)\tF1   0.32 (  0.39)\n",
      "Epoch: [6][30/57]\tTime  0.017 ( 2.640)\tData  0.001 ( 2.624)\tLoss 1.6226e+00 (1.4162e+00)\tAcc   0.31 (  0.43)\tF1   0.28 (  0.38)\n",
      "Epoch: [6][40/57]\tTime  9.847 ( 2.721)\tData  9.832 ( 2.706)\tLoss 1.5911e+00 (1.4253e+00)\tAcc   0.38 (  0.42)\tF1   0.33 (  0.38)\n",
      "Epoch: [6][50/57]\tTime  0.017 ( 2.579)\tData  0.002 ( 2.563)\tLoss 1.2505e+00 (1.4226e+00)\tAcc   0.47 (  0.41)\tF1   0.43 (  0.37)\n",
      "Val: [ 0/57]\tTime 11.051 (11.051)\tLoss 1.2879e+00 (1.2879e+00)\tAcc   0.44 (  0.44)\tF1   0.48 (  0.48)\n",
      "Val: [10/57]\tTime  0.060 ( 2.778)\tLoss 1.2924e+00 (1.3552e+00)\tAcc   0.44 (  0.43)\tF1   0.46 (  0.41)\n",
      "Val: [20/57]\tTime  9.728 ( 2.864)\tLoss 1.5177e+00 (1.3658e+00)\tAcc   0.16 (  0.42)\tF1   0.11 (  0.39)\n",
      "Val: [30/57]\tTime  0.007 ( 2.585)\tLoss 1.6123e+00 (1.3842e+00)\tAcc   0.31 (  0.41)\tF1   0.26 (  0.38)\n",
      "Val: [40/57]\tTime  9.629 ( 2.665)\tLoss 1.2917e+00 (1.3890e+00)\tAcc   0.53 (  0.41)\tF1   0.51 (  0.38)\n",
      "Val: [50/57]\tTime  0.006 ( 2.527)\tLoss 1.4221e+00 (1.3942e+00)\tAcc   0.28 (  0.40)\tF1   0.23 (  0.37)\n",
      "Epoch: [7][ 0/57]\tTime 11.025 (11.025)\tData 11.004 (11.004)\tLoss 1.3756e+00 (1.3756e+00)\tAcc   0.44 (  0.44)\tF1   0.40 (  0.40)\n",
      "Epoch: [7][10/57]\tTime  0.016 ( 2.780)\tData  0.002 ( 2.764)\tLoss 1.2349e+00 (1.3870e+00)\tAcc   0.53 (  0.38)\tF1   0.49 (  0.37)\n",
      "Epoch: [7][20/57]\tTime  9.994 ( 2.873)\tData  9.981 ( 2.857)\tLoss 1.4710e+00 (1.3849e+00)\tAcc   0.28 (  0.39)\tF1   0.26 (  0.37)\n",
      "Epoch: [7][30/57]\tTime  0.018 ( 2.588)\tData  0.001 ( 2.572)\tLoss 1.4589e+00 (1.4001e+00)\tAcc   0.38 (  0.38)\tF1   0.36 (  0.36)\n",
      "Epoch: [7][40/57]\tTime 10.046 ( 2.687)\tData 10.031 ( 2.672)\tLoss 1.4116e+00 (1.3985e+00)\tAcc   0.38 (  0.39)\tF1   0.37 (  0.37)\n",
      "Epoch: [7][50/57]\tTime  0.028 ( 2.560)\tData  0.002 ( 2.544)\tLoss 1.3738e+00 (1.3984e+00)\tAcc   0.47 (  0.39)\tF1   0.45 (  0.38)\n",
      "Val: [ 0/57]\tTime 11.296 (11.296)\tLoss 1.1688e+00 (1.1688e+00)\tAcc   0.62 (  0.62)\tF1   0.60 (  0.60)\n",
      "Val: [10/57]\tTime  0.106 ( 2.841)\tLoss 1.3554e+00 (1.3501e+00)\tAcc   0.50 (  0.46)\tF1   0.49 (  0.41)\n",
      "Val: [20/57]\tTime  9.920 ( 2.909)\tLoss 1.4946e+00 (1.3764e+00)\tAcc   0.31 (  0.43)\tF1   0.22 (  0.39)\n",
      "Val: [30/57]\tTime  0.006 ( 2.630)\tLoss 1.5818e+00 (1.3925e+00)\tAcc   0.31 (  0.41)\tF1   0.27 (  0.37)\n",
      "Val: [40/57]\tTime  9.611 ( 2.702)\tLoss 1.2491e+00 (1.3992e+00)\tAcc   0.56 (  0.40)\tF1   0.52 (  0.37)\n",
      "Val: [50/57]\tTime  0.106 ( 2.573)\tLoss 1.4628e+00 (1.3982e+00)\tAcc   0.22 (  0.40)\tF1   0.18 (  0.36)\n",
      "Epoch: [8][ 0/57]\tTime 11.163 (11.163)\tData 11.147 (11.147)\tLoss 1.5050e+00 (1.5050e+00)\tAcc   0.38 (  0.38)\tF1   0.35 (  0.35)\n",
      "Epoch: [8][10/57]\tTime  0.016 ( 2.810)\tData  0.001 ( 2.795)\tLoss 1.4700e+00 (1.3902e+00)\tAcc   0.47 (  0.42)\tF1   0.45 (  0.40)\n",
      "Epoch: [8][20/57]\tTime  9.926 ( 2.888)\tData  9.911 ( 2.873)\tLoss 1.7140e+00 (1.4122e+00)\tAcc   0.22 (  0.39)\tF1   0.21 (  0.37)\n",
      "Epoch: [8][30/57]\tTime  0.106 ( 2.617)\tData  0.091 ( 2.602)\tLoss 1.3606e+00 (1.4118e+00)\tAcc   0.38 (  0.39)\tF1   0.39 (  0.37)\n",
      "Epoch: [8][40/57]\tTime 10.016 ( 2.704)\tData 10.001 ( 2.688)\tLoss 1.3159e+00 (1.4090e+00)\tAcc   0.41 (  0.39)\tF1   0.39 (  0.37)\n",
      "Epoch: [8][50/57]\tTime  0.061 ( 2.566)\tData  0.045 ( 2.551)\tLoss 1.3293e+00 (1.4088e+00)\tAcc   0.50 (  0.40)\tF1   0.51 (  0.38)\n",
      "Val: [ 0/57]\tTime 11.309 (11.309)\tLoss 1.2939e+00 (1.2939e+00)\tAcc   0.44 (  0.44)\tF1   0.45 (  0.45)\n",
      "Val: [10/57]\tTime  0.006 ( 2.826)\tLoss 1.3248e+00 (1.3550e+00)\tAcc   0.59 (  0.43)\tF1   0.59 (  0.40)\n",
      "Val: [20/57]\tTime  9.687 ( 2.884)\tLoss 1.4993e+00 (1.3659e+00)\tAcc   0.34 (  0.42)\tF1   0.29 (  0.39)\n",
      "Val: [30/57]\tTime  0.005 ( 2.597)\tLoss 1.4684e+00 (1.3820e+00)\tAcc   0.47 (  0.42)\tF1   0.43 (  0.39)\n",
      "Val: [40/57]\tTime  9.784 ( 2.681)\tLoss 1.3125e+00 (1.3892e+00)\tAcc   0.47 (  0.41)\tF1   0.44 (  0.39)\n",
      "Val: [50/57]\tTime  0.005 ( 2.550)\tLoss 1.5156e+00 (1.3923e+00)\tAcc   0.22 (  0.41)\tF1   0.19 (  0.38)\n",
      "Epoch: [9][ 0/57]\tTime 11.183 (11.183)\tData 11.166 (11.166)\tLoss 1.5222e+00 (1.5222e+00)\tAcc   0.38 (  0.38)\tF1   0.35 (  0.35)\n",
      "Epoch: [9][10/57]\tTime  0.101 ( 2.844)\tData  0.083 ( 2.827)\tLoss 1.5022e+00 (1.4359e+00)\tAcc   0.31 (  0.39)\tF1   0.27 (  0.36)\n",
      "Epoch: [9][20/57]\tTime  9.867 ( 2.903)\tData  9.853 ( 2.887)\tLoss 1.4550e+00 (1.4182e+00)\tAcc   0.25 (  0.40)\tF1   0.22 (  0.38)\n",
      "Epoch: [9][30/57]\tTime  0.113 ( 2.612)\tData  0.099 ( 2.596)\tLoss 1.6697e+00 (1.4076e+00)\tAcc   0.41 (  0.42)\tF1   0.38 (  0.39)\n",
      "Epoch: [9][40/57]\tTime  9.644 ( 2.694)\tData  9.629 ( 2.678)\tLoss 1.2933e+00 (1.4013e+00)\tAcc   0.53 (  0.42)\tF1   0.51 (  0.39)\n",
      "Epoch: [9][50/57]\tTime  0.316 ( 2.563)\tData  0.302 ( 2.548)\tLoss 1.2607e+00 (1.4045e+00)\tAcc   0.44 (  0.42)\tF1   0.41 (  0.39)\n",
      "Val: [ 0/57]\tTime 11.143 (11.143)\tLoss 1.3898e+00 (1.3898e+00)\tAcc   0.56 (  0.56)\tF1   0.54 (  0.54)\n",
      "Val: [10/57]\tTime  0.005 ( 2.791)\tLoss 1.2916e+00 (1.4146e+00)\tAcc   0.56 (  0.43)\tF1   0.56 (  0.39)\n",
      "Val: [20/57]\tTime  9.844 ( 2.869)\tLoss 1.6101e+00 (1.4318e+00)\tAcc   0.31 (  0.41)\tF1   0.24 (  0.36)\n",
      "Val: [30/57]\tTime  0.005 ( 2.585)\tLoss 1.6386e+00 (1.4479e+00)\tAcc   0.25 (  0.39)\tF1   0.22 (  0.35)\n",
      "Val: [40/57]\tTime  9.792 ( 2.677)\tLoss 1.3068e+00 (1.4459e+00)\tAcc   0.56 (  0.40)\tF1   0.54 (  0.35)\n",
      "Val: [50/57]\tTime  0.081 ( 2.550)\tLoss 1.4370e+00 (1.4562e+00)\tAcc   0.34 (  0.39)\tF1   0.31 (  0.35)\n"
     ]
    }
   ],
   "source": [
    "train_model(model, optimizer, scheduler, criterion, train_dataloader, val_dataloader, opt, target_metric='f1_avg', best_target_metric=-np.inf)"
   ]
  },
  {
   "cell_type": "markdown",
   "metadata": {},
   "source": [
    "## Model performance metrics"
   ]
  },
  {
   "cell_type": "code",
   "execution_count": 18,
   "metadata": {},
   "outputs": [],
   "source": [
    "from sklearn.metrics import ConfusionMatrixDisplay"
   ]
  },
  {
   "cell_type": "code",
   "execution_count": 19,
   "metadata": {},
   "outputs": [
    {
     "data": {
      "text/plain": [
       "<All keys matched successfully>"
      ]
     },
     "execution_count": 19,
     "metadata": {},
     "output_type": "execute_result"
    }
   ],
   "source": [
    "model = FlowersFcModel(\n",
    "    in_features=in_features, hidden_dim=hidden_dim, num_classes=num_classes\n",
    ").to(opt.device)\n",
    "\n",
    "last_state = torch.load(str(opt.path_to_models / f'{model.__class__.__name__}_model_best.pth'))\n",
    "model.load_state_dict(last_state['state_dict'])"
   ]
  },
  {
   "cell_type": "code",
   "execution_count": 20,
   "metadata": {},
   "outputs": [
    {
     "name": "stderr",
     "output_type": "stream",
     "text": [
      "batch loop: 100%|██████████| 57/57 [02:43<00:00,  2.87s/it]"
     ]
    },
    {
     "name": "stdout",
     "output_type": "stream",
     "text": [
      "Accuracy: 0.405\n",
      "F1: 0.379\n",
      "Precision: 0.508\n",
      "Recall: 0.405\n"
     ]
    },
    {
     "name": "stderr",
     "output_type": "stream",
     "text": [
      "\n"
     ]
    }
   ],
   "source": [
    "acc_metric, f1_metric, precision_metric, recall_metric, conf_matrix = get_val_metrics(val_dataloader, model, opt.device)\n",
    "print(f'Accuracy: {acc_metric:.3}')\n",
    "print(f'F1: {f1_metric:.3}')\n",
    "print(f'Precision: {precision_metric:.3}')\n",
    "print(f'Recall: {recall_metric:.3}')"
   ]
  },
  {
   "cell_type": "code",
   "execution_count": 21,
   "metadata": {},
   "outputs": [
    {
     "data": {
      "image/png": "[encoded data removed]",
      "text/plain": [
       "<Figure size 1152x648 with 2 Axes>"
      ]
     },
     "metadata": {},
     "output_type": "display_data"
    }
   ],
   "source": [
    "disp = ConfusionMatrixDisplay(\n",
    "    confusion_matrix=conf_matrix / conf_matrix.astype('float').sum(axis=1, keepdims=True),\n",
    ")\n",
    "disp.plot(xticks_rotation='vertical', values_format='.2f');"
   ]
  },
  {
   "cell_type": "markdown",
   "metadata": {},
   "source": [
    "## Inference"
   ]
  },
  {
   "cell_type": "code",
   "execution_count": 22,
   "metadata": {},
   "outputs": [],
   "source": [
    "from utils.loops import infer_folder, infer_one_file"
   ]
  },
  {
   "cell_type": "code",
   "execution_count": 23,
   "metadata": {},
   "outputs": [
    {
     "data": {
      "text/plain": [
       "4"
      ]
     },
     "execution_count": 23,
     "metadata": {},
     "output_type": "execute_result"
    }
   ],
   "source": [
    "image_path = '../data/daisy/10712722853_5632165b04.jpg'\n",
    "infer_one_file(\n",
    "    image_path, model, opt.device, transform=val_transformations_without_norm,\n",
    "    use_descriptors_as_features=opt.use_descriptors_as_features, features_type=opt.features_type\n",
    ")"
   ]
  },
  {
   "cell_type": "code",
   "execution_count": 24,
   "metadata": {},
   "outputs": [
    {
     "data": {
      "text/plain": [
       "[('../data/daisy/14167534527_781ceb1b7a_n.jpg', 0),\n",
       " ('../data/daisy/476857510_d2b30175de_n.jpg', 0),\n",
       " ('../data/daisy/521762040_f26f2e08dd.jpg', 0),\n",
       " ('../data/daisy/7320089276_87b544e341.jpg', 0),\n",
       " ('../data/daisy/721595842_bacd80a6ac.jpg', 2)]"
      ]
     },
     "execution_count": 24,
     "metadata": {},
     "output_type": "execute_result"
    }
   ],
   "source": [
    "folder_path = '../data/daisy'\n",
    "result = infer_folder(\n",
    "    folder_path, model, opt.device, image_ext='jpg',\n",
    "    transform=val_transformations_without_norm,\n",
    "    use_descriptors_as_features=opt.use_descriptors_as_features,\n",
    "    features_type=opt.features_type\n",
    ")\n",
    "result[:5]"
   ]
  },
  {
   "cell_type": "code",
   "execution_count": null,
   "metadata": {},
   "outputs": [],
   "source": []
  }
 ],
 "metadata": {
  "interpreter": {
   "hash": "c6e4e9f98eb68ad3b7c296f83d20e6de614cb42e90992a65aa266555a3137d0d"
  },
  "kernelspec": {
   "display_name": "Python 3.9.7 ('base')",
   "language": "python",
   "name": "python3"
  },
  "language_info": {
   "codemirror_mode": {
    "name": "ipython",
    "version": 3
   },
   "file_extension": ".py",
   "mimetype": "text/x-python",
   "name": "python",
   "nbconvert_exporter": "python",
   "pygments_lexer": "ipython3",
   "version": "3.9.7"
  },
  "orig_nbformat": 4
 },
 "nbformat": 4,
 "nbformat_minor": 2
}
