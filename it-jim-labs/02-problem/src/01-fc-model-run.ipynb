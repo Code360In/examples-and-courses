{
 "cells": [
  {
   "cell_type": "markdown",
   "metadata": {},
   "source": [
    "## Import packages"
   ]
  },
  {
   "cell_type": "code",
   "execution_count": 1,
   "metadata": {},
   "outputs": [],
   "source": [
    "\n",
    "import numpy as np\n",
    "import torch\n",
    "import shutil\n",
    "from torch.utils.data import DataLoader\n",
    "from torch.optim.lr_scheduler import ReduceLROnPlateau\n",
    "from torchsummary import summary\n",
    "from tensorboardX import SummaryWriter\n",
    "\n",
    "import matplotlib.pyplot as plt\n",
    "plt.rcParams[\"figure.figsize\"] = (16, 9)"
   ]
  },
  {
   "cell_type": "code",
   "execution_count": 2,
   "metadata": {},
   "outputs": [
    {
     "name": "stderr",
     "output_type": "stream",
     "text": [
      "/opt/homebrew/Caskroom/miniforge/base/lib/python3.9/site-packages/torchvision/io/image.py:11: UserWarning: Failed to load image Python extension: \n",
      "  warn(f\"Failed to load image Python extension: {e}\")\n"
     ]
    }
   ],
   "source": [
    "from config import opt\n",
    "from models import FlowersFcModel\n",
    "from utils import train_one_epoch, validate_one_epoch, get_val_metrics, get_images_paths, get_train_test_split, show_tensor_images, save_checkpoint, init_seeds\n",
    "from datasets import FlowersDataset\n",
    "from datasets.preprocessing import train_transformations_without_norm, val_transformations_without_norm"
   ]
  },
  {
   "cell_type": "code",
   "execution_count": 3,
   "metadata": {},
   "outputs": [],
   "source": [
    "init_seeds(opt.seed)"
   ]
  },
  {
   "cell_type": "markdown",
   "metadata": {},
   "source": [
    "## Prepare dataset"
   ]
  },
  {
   "cell_type": "code",
   "execution_count": 4,
   "metadata": {},
   "outputs": [],
   "source": [
    "num_classes = len(set(opt.idx_to_class.keys()))"
   ]
  },
  {
   "cell_type": "code",
   "execution_count": 5,
   "metadata": {},
   "outputs": [],
   "source": [
    "data_df = get_images_paths(opt=opt)\n",
    "train_df, val_df = get_train_test_split(df=data_df, opt=opt)"
   ]
  },
  {
   "cell_type": "code",
   "execution_count": 6,
   "metadata": {},
   "outputs": [
    {
     "data": {
      "text/plain": [
       "4    602\n",
       "0    518\n",
       "2    472\n",
       "3    420\n",
       "1    239\n",
       "Name: label, dtype: int64"
      ]
     },
     "execution_count": 6,
     "metadata": {},
     "output_type": "execute_result"
    }
   ],
   "source": [
    "data_df.label.value_counts()"
   ]
  },
  {
   "cell_type": "code",
   "execution_count": 7,
   "metadata": {},
   "outputs": [],
   "source": [
    "train_dataset = FlowersDataset(\n",
    "    img_paths=train_df['path'].values.copy(),\n",
    "    labels=train_df['label'].values.copy(),\n",
    "    num_classes=num_classes,\n",
    "    transform=train_transformations_without_norm,\n",
    "    use_descriptors_as_features=opt.use_descriptors_as_features,\n",
    "    features_type=opt.features_type,\n",
    ")\n",
    "\n",
    "train_dataloader = DataLoader(\n",
    "    train_dataset,\n",
    "    batch_size=opt.batch_size,\n",
    "    shuffle=True,\n",
    "    num_workers=opt.num_workers,\n",
    "    pin_memory=opt.pin_memory,\n",
    ")\n",
    "\n",
    "val_dataset = FlowersDataset(\n",
    "    img_paths=val_df['path'].values.copy(),\n",
    "    labels=val_df['label'].values.copy(),\n",
    "    num_classes=num_classes,\n",
    "    transform=val_transformations_without_norm,\n",
    "    use_descriptors_as_features=opt.use_descriptors_as_features,\n",
    "    features_type=opt.features_type,\n",
    ")\n",
    "\n",
    "val_dataloader = DataLoader(\n",
    "    train_dataset,\n",
    "    batch_size=opt.batch_size,\n",
    "    shuffle=False,\n",
    "    num_workers=opt.num_workers,\n",
    "    pin_memory=opt.pin_memory,\n",
    ")"
   ]
  },
  {
   "cell_type": "code",
   "execution_count": 8,
   "metadata": {},
   "outputs": [],
   "source": [
    "if opt.features_type == 'gabor':\n",
    "    t = (next(iter(train_dataloader))['image'].view(opt.batch_size, opt.img_height, opt.img_width, 3).permute(0, 3, 1, 2) + 1 ) / 2.0\n",
    "    show_tensor_images(t)"
   ]
  },
  {
   "cell_type": "code",
   "execution_count": 9,
   "metadata": {},
   "outputs": [],
   "source": [
    "if opt.features_type == 'gabor':\n",
    "    t = (next(iter(val_dataloader))['image'].view(opt.batch_size, opt.img_height, opt.img_width, 3).permute(0, 3, 1, 2) + 1 ) / 2.0\n",
    "    show_tensor_images(t)"
   ]
  },
  {
   "cell_type": "markdown",
   "metadata": {},
   "source": [
    "## Training"
   ]
  },
  {
   "cell_type": "code",
   "execution_count": 10,
   "metadata": {},
   "outputs": [
    {
     "data": {
      "text/plain": [
       "torch.Size([32, 12800])"
      ]
     },
     "execution_count": 10,
     "metadata": {},
     "output_type": "execute_result"
    }
   ],
   "source": [
    "next(iter(val_dataloader))['image'].shape"
   ]
  },
  {
   "cell_type": "code",
   "execution_count": 11,
   "metadata": {},
   "outputs": [],
   "source": [
    "in_features = 12800\n",
    "hidden_dim = in_features // 2\n",
    "model = FlowersFcModel(\n",
    "    in_features=in_features, hidden_dim=hidden_dim, num_classes=num_classes\n",
    ").to(opt.device)\n",
    "# model.freeze_middle_layers()\n",
    "\n",
    "criterion = torch.nn.CrossEntropyLoss()\n",
    "optimizer = torch.optim.Adam(filter(lambda p: p.requires_grad, model.parameters()), lr=opt.lr)\n",
    "scheduler = ReduceLROnPlateau(optimizer, mode='min', patience=2, factor=0.1, verbose=True)"
   ]
  },
  {
   "cell_type": "code",
   "execution_count": 12,
   "metadata": {},
   "outputs": [
    {
     "name": "stdout",
     "output_type": "stream",
     "text": [
      "----------------------------------------------------------------\n",
      "        Layer (type)               Output Shape         Param #\n",
      "================================================================\n",
      "            Linear-1                 [32, 6400]      81,926,400\n",
      "         LeakyReLU-2                 [32, 6400]               0\n",
      "       BatchNorm1d-3                 [32, 6400]          12,800\n",
      "           Dropout-4                 [32, 6400]               0\n",
      "            Linear-5                  [32, 800]       5,120,800\n",
      "         LeakyReLU-6                  [32, 800]               0\n",
      "       BatchNorm1d-7                  [32, 800]           1,600\n",
      "           Dropout-8                  [32, 800]               0\n",
      "            Linear-9                  [32, 400]         320,400\n",
      "        LeakyReLU-10                  [32, 400]               0\n",
      "      BatchNorm1d-11                  [32, 400]             800\n",
      "          Dropout-12                  [32, 400]               0\n",
      "           Linear-13                  [32, 200]          80,200\n",
      "        LeakyReLU-14                  [32, 200]               0\n",
      "      BatchNorm1d-15                  [32, 200]             400\n",
      "           Linear-16                    [32, 5]           1,005\n",
      "================================================================\n",
      "Total params: 87,464,405\n",
      "Trainable params: 87,464,405\n",
      "Non-trainable params: 0\n",
      "----------------------------------------------------------------\n",
      "Input size (MB): 1.56\n",
      "Forward/backward pass size (MB): 7.57\n",
      "Params size (MB): 333.65\n",
      "Estimated Total Size (MB): 342.78\n",
      "----------------------------------------------------------------\n"
     ]
    }
   ],
   "source": [
    "summary(model, input_size=(in_features, ), batch_size=opt.batch_size)"
   ]
  },
  {
   "cell_type": "code",
   "execution_count": 13,
   "metadata": {},
   "outputs": [
    {
     "name": "stdout",
     "output_type": "stream",
     "text": [
      "Epoch: [0][ 0/57]\tTime  1.819 ( 1.819)\tData  1.391 ( 1.391)\tLoss 1.9076e+00 (1.9076e+00)\tAcc   0.16 (  0.16)\tF1   0.17 (  0.17)\n",
      "Epoch: [0][10/57]\tTime  0.265 ( 0.427)\tData  0.008 ( 0.136)\tLoss 1.2047e+00 (1.7633e+00)\tAcc   0.56 (  0.32)\tF1   0.50 (  0.30)\n",
      "Epoch: [0][20/57]\tTime  0.259 ( 0.352)\tData  0.008 ( 0.075)\tLoss 1.7416e+00 (1.6762e+00)\tAcc   0.22 (  0.32)\tF1   0.20 (  0.30)\n",
      "Epoch: [0][30/57]\tTime  0.266 ( 0.328)\tData  0.008 ( 0.053)\tLoss 1.4293e+00 (1.6395e+00)\tAcc   0.25 (  0.30)\tF1   0.24 (  0.29)\n",
      "Epoch: [0][40/57]\tTime  0.301 ( 0.316)\tData  0.008 ( 0.042)\tLoss 1.5368e+00 (1.6067e+00)\tAcc   0.31 (  0.31)\tF1   0.27 (  0.29)\n",
      "Epoch: [0][50/57]\tTime  0.267 ( 0.308)\tData  0.009 ( 0.036)\tLoss 1.5589e+00 (1.5790e+00)\tAcc   0.34 (  0.31)\tF1   0.32 (  0.30)\n",
      "Val: [ 0/57]\tTime  1.354 ( 1.354)\tLoss 1.5845e+00 (1.5845e+00)\tAcc   0.38 (  0.38)\tF1   0.37 (  0.37)\n",
      "Val: [10/57]\tTime  0.032 ( 0.157)\tLoss 1.3820e+00 (1.3863e+00)\tAcc   0.47 (  0.41)\tF1   0.45 (  0.39)\n",
      "Val: [20/57]\tTime  0.046 ( 0.104)\tLoss 1.3814e+00 (1.4175e+00)\tAcc   0.47 (  0.38)\tF1   0.45 (  0.36)\n",
      "Val: [30/57]\tTime  0.028 ( 0.083)\tLoss 1.3525e+00 (1.4322e+00)\tAcc   0.44 (  0.38)\tF1   0.41 (  0.35)\n",
      "Val: [40/57]\tTime  0.075 ( 0.074)\tLoss 1.3390e+00 (1.4346e+00)\tAcc   0.47 (  0.38)\tF1   0.42 (  0.35)\n",
      "Val: [50/57]\tTime  0.030 ( 0.067)\tLoss 1.3314e+00 (1.4346e+00)\tAcc   0.47 (  0.38)\tF1   0.45 (  0.35)\n",
      "Epoch: [1][ 0/57]\tTime  1.810 ( 1.810)\tData  1.438 ( 1.438)\tLoss 1.5433e+00 (1.5433e+00)\tAcc   0.38 (  0.38)\tF1   0.36 (  0.36)\n",
      "Epoch: [1][10/57]\tTime  0.269 ( 0.448)\tData  0.008 ( 0.139)\tLoss 1.2950e+00 (1.4055e+00)\tAcc   0.41 (  0.36)\tF1   0.35 (  0.35)\n",
      "Epoch: [1][20/57]\tTime  0.257 ( 0.361)\tData  0.008 ( 0.077)\tLoss 1.4185e+00 (1.4066e+00)\tAcc   0.50 (  0.36)\tF1   0.50 (  0.36)\n",
      "Epoch: [1][30/57]\tTime  0.257 ( 0.335)\tData  0.008 ( 0.055)\tLoss 1.4679e+00 (1.4382e+00)\tAcc   0.38 (  0.35)\tF1   0.36 (  0.34)\n",
      "Epoch: [1][40/57]\tTime  0.370 ( 0.328)\tData  0.023 ( 0.044)\tLoss 1.3769e+00 (1.4468e+00)\tAcc   0.50 (  0.35)\tF1   0.48 (  0.34)\n",
      "Epoch: [1][50/57]\tTime  0.257 ( 0.320)\tData  0.009 ( 0.037)\tLoss 1.2976e+00 (1.4414e+00)\tAcc   0.38 (  0.35)\tF1   0.39 (  0.34)\n",
      "Val: [ 0/57]\tTime  1.123 ( 1.123)\tLoss 1.2879e+00 (1.2879e+00)\tAcc   0.53 (  0.53)\tF1   0.50 (  0.50)\n",
      "Val: [10/57]\tTime  0.029 ( 0.134)\tLoss 1.1358e+00 (1.3393e+00)\tAcc   0.53 (  0.42)\tF1   0.52 (  0.41)\n",
      "Val: [20/57]\tTime  0.057 ( 0.091)\tLoss 1.5656e+00 (1.3631e+00)\tAcc   0.34 (  0.42)\tF1   0.32 (  0.40)\n",
      "Val: [30/57]\tTime  0.030 ( 0.073)\tLoss 1.4243e+00 (1.3716e+00)\tAcc   0.28 (  0.41)\tF1   0.25 (  0.39)\n",
      "Val: [40/57]\tTime  0.053 ( 0.065)\tLoss 1.3401e+00 (1.3986e+00)\tAcc   0.47 (  0.39)\tF1   0.46 (  0.38)\n",
      "Val: [50/57]\tTime  0.027 ( 0.059)\tLoss 1.2596e+00 (1.3936e+00)\tAcc   0.50 (  0.39)\tF1   0.51 (  0.38)\n",
      "Epoch: [2][ 0/57]\tTime  1.643 ( 1.643)\tData  1.249 ( 1.249)\tLoss 1.4293e+00 (1.4293e+00)\tAcc   0.38 (  0.38)\tF1   0.38 (  0.38)\n",
      "Epoch: [2][10/57]\tTime  0.318 ( 0.406)\tData  0.010 ( 0.121)\tLoss 1.5592e+00 (1.4724e+00)\tAcc   0.34 (  0.34)\tF1   0.31 (  0.33)\n",
      "Epoch: [2][20/57]\tTime  0.264 ( 0.347)\tData  0.007 ( 0.068)\tLoss 1.3087e+00 (1.4163e+00)\tAcc   0.53 (  0.38)\tF1   0.52 (  0.37)\n",
      "Epoch: [2][30/57]\tTime  0.265 ( 0.322)\tData  0.009 ( 0.049)\tLoss 1.3740e+00 (1.4138e+00)\tAcc   0.47 (  0.39)\tF1   0.42 (  0.38)\n",
      "Epoch: [2][40/57]\tTime  0.263 ( 0.312)\tData  0.008 ( 0.039)\tLoss 1.3309e+00 (1.4229e+00)\tAcc   0.38 (  0.39)\tF1   0.38 (  0.37)\n",
      "Epoch: [2][50/57]\tTime  0.259 ( 0.311)\tData  0.007 ( 0.033)\tLoss 1.5118e+00 (1.4287e+00)\tAcc   0.25 (  0.38)\tF1   0.21 (  0.37)\n",
      "Val: [ 0/57]\tTime  1.417 ( 1.417)\tLoss 1.3093e+00 (1.3093e+00)\tAcc   0.47 (  0.47)\tF1   0.46 (  0.46)\n",
      "Val: [10/57]\tTime  0.038 ( 0.162)\tLoss 1.3270e+00 (1.3626e+00)\tAcc   0.44 (  0.45)\tF1   0.42 (  0.45)\n",
      "Val: [20/57]\tTime  0.059 ( 0.105)\tLoss 1.4504e+00 (1.4013e+00)\tAcc   0.34 (  0.42)\tF1   0.36 (  0.42)\n",
      "Val: [30/57]\tTime  0.033 ( 0.084)\tLoss 1.3567e+00 (1.3980e+00)\tAcc   0.47 (  0.42)\tF1   0.43 (  0.41)\n",
      "Val: [40/57]\tTime  0.069 ( 0.075)\tLoss 1.4030e+00 (1.4075e+00)\tAcc   0.41 (  0.41)\tF1   0.36 (  0.40)\n",
      "Val: [50/57]\tTime  0.026 ( 0.067)\tLoss 1.2461e+00 (1.4166e+00)\tAcc   0.59 (  0.41)\tF1   0.58 (  0.40)\n",
      "Epoch: [3][ 0/57]\tTime  1.659 ( 1.659)\tData  1.099 ( 1.099)\tLoss 1.3399e+00 (1.3399e+00)\tAcc   0.34 (  0.34)\tF1   0.35 (  0.35)\n",
      "Epoch: [3][10/57]\tTime  0.333 ( 0.435)\tData  0.009 ( 0.109)\tLoss 1.4251e+00 (1.4051e+00)\tAcc   0.31 (  0.41)\tF1   0.28 (  0.40)\n",
      "Epoch: [3][20/57]\tTime  0.286 ( 0.364)\tData  0.008 ( 0.061)\tLoss 1.5041e+00 (1.3988e+00)\tAcc   0.25 (  0.37)\tF1   0.21 (  0.37)\n",
      "Epoch: [3][30/57]\tTime  0.321 ( 0.349)\tData  0.012 ( 0.044)\tLoss 1.3396e+00 (1.3979e+00)\tAcc   0.47 (  0.39)\tF1   0.44 (  0.38)\n",
      "Epoch: [3][40/57]\tTime  0.332 ( 0.340)\tData  0.011 ( 0.036)\tLoss 1.7824e+00 (1.3978e+00)\tAcc   0.38 (  0.39)\tF1   0.37 (  0.38)\n",
      "Epoch: [3][50/57]\tTime  0.347 ( 0.337)\tData  0.011 ( 0.031)\tLoss 1.4302e+00 (1.4085e+00)\tAcc   0.47 (  0.39)\tF1   0.44 (  0.38)\n",
      "Val: [ 0/57]\tTime  1.228 ( 1.228)\tLoss 1.2296e+00 (1.2296e+00)\tAcc   0.50 (  0.50)\tF1   0.50 (  0.50)\n",
      "Val: [10/57]\tTime  0.039 ( 0.147)\tLoss 1.1595e+00 (1.4084e+00)\tAcc   0.66 (  0.42)\tF1   0.65 (  0.41)\n",
      "Val: [20/57]\tTime  0.050 ( 0.107)\tLoss 1.6281e+00 (1.4147e+00)\tAcc   0.28 (  0.43)\tF1   0.30 (  0.42)\n",
      "Val: [30/57]\tTime  0.037 ( 0.084)\tLoss 1.3423e+00 (1.4090e+00)\tAcc   0.31 (  0.43)\tF1   0.28 (  0.41)\n",
      "Val: [40/57]\tTime  0.047 ( 0.073)\tLoss 1.3548e+00 (1.4272e+00)\tAcc   0.41 (  0.41)\tF1   0.39 (  0.40)\n",
      "Val: [50/57]\tTime  0.031 ( 0.066)\tLoss 1.4954e+00 (1.4350e+00)\tAcc   0.31 (  0.41)\tF1   0.32 (  0.39)\n",
      "Epoch: [4][ 0/57]\tTime  1.373 ( 1.373)\tData  1.030 ( 1.030)\tLoss 1.7498e+00 (1.7498e+00)\tAcc   0.31 (  0.31)\tF1   0.29 (  0.29)\n",
      "Epoch: [4][10/57]\tTime  0.292 ( 0.421)\tData  0.011 ( 0.102)\tLoss 1.2439e+00 (1.4101e+00)\tAcc   0.50 (  0.39)\tF1   0.47 (  0.39)\n",
      "Epoch: [4][20/57]\tTime  0.264 ( 0.346)\tData  0.008 ( 0.057)\tLoss 1.2204e+00 (1.4090e+00)\tAcc   0.47 (  0.39)\tF1   0.45 (  0.39)\n",
      "Epoch: [4][30/57]\tTime  0.264 ( 0.319)\tData  0.008 ( 0.041)\tLoss 1.4533e+00 (1.3976e+00)\tAcc   0.22 (  0.39)\tF1   0.20 (  0.39)\n",
      "Epoch: [4][40/57]\tTime  0.265 ( 0.305)\tData  0.008 ( 0.033)\tLoss 1.4282e+00 (1.4071e+00)\tAcc   0.41 (  0.38)\tF1   0.41 (  0.37)\n",
      "Epoch: [4][50/57]\tTime  0.258 ( 0.301)\tData  0.008 ( 0.028)\tLoss 1.3382e+00 (1.4064e+00)\tAcc   0.53 (  0.37)\tF1   0.55 (  0.37)\n",
      "Val: [ 0/57]\tTime  1.094 ( 1.094)\tLoss 1.3644e+00 (1.3644e+00)\tAcc   0.44 (  0.44)\tF1   0.43 (  0.43)\n",
      "Val: [10/57]\tTime  0.030 ( 0.132)\tLoss 1.0559e+00 (1.2689e+00)\tAcc   0.62 (  0.49)\tF1   0.63 (  0.48)\n",
      "Val: [20/57]\tTime  0.050 ( 0.087)\tLoss 1.4604e+00 (1.2930e+00)\tAcc   0.34 (  0.47)\tF1   0.30 (  0.44)\n",
      "Val: [30/57]\tTime  0.038 ( 0.071)\tLoss 1.3283e+00 (1.3001e+00)\tAcc   0.44 (  0.47)\tF1   0.41 (  0.45)\n",
      "Val: [40/57]\tTime  0.057 ( 0.063)\tLoss 1.2908e+00 (1.3132e+00)\tAcc   0.53 (  0.45)\tF1   0.50 (  0.43)\n",
      "Val: [50/57]\tTime  0.029 ( 0.058)\tLoss 1.2445e+00 (1.3205e+00)\tAcc   0.50 (  0.45)\tF1   0.50 (  0.42)\n",
      "Epoch: [5][ 0/57]\tTime  1.782 ( 1.782)\tData  1.127 ( 1.127)\tLoss 1.4929e+00 (1.4929e+00)\tAcc   0.25 (  0.25)\tF1   0.28 (  0.28)\n",
      "Epoch: [5][10/57]\tTime  0.256 ( 0.413)\tData  0.007 ( 0.110)\tLoss 1.2631e+00 (1.3954e+00)\tAcc   0.53 (  0.43)\tF1   0.53 (  0.42)\n",
      "Epoch: [5][20/57]\tTime  0.271 ( 0.357)\tData  0.008 ( 0.062)\tLoss 1.4402e+00 (1.3885e+00)\tAcc   0.41 (  0.40)\tF1   0.37 (  0.39)\n",
      "Epoch: [5][30/57]\tTime  0.263 ( 0.328)\tData  0.008 ( 0.044)\tLoss 1.3284e+00 (1.3764e+00)\tAcc   0.47 (  0.40)\tF1   0.48 (  0.40)\n",
      "Epoch: [5][40/57]\tTime  0.271 ( 0.323)\tData  0.007 ( 0.035)\tLoss 1.2971e+00 (1.3685e+00)\tAcc   0.38 (  0.41)\tF1   0.39 (  0.40)\n",
      "Epoch: [5][50/57]\tTime  0.304 ( 0.322)\tData  0.010 ( 0.030)\tLoss 1.1731e+00 (1.3716e+00)\tAcc   0.56 (  0.40)\tF1   0.55 (  0.39)\n",
      "Val: [ 0/57]\tTime  1.149 ( 1.149)\tLoss 1.2515e+00 (1.2515e+00)\tAcc   0.47 (  0.47)\tF1   0.45 (  0.45)\n",
      "Val: [10/57]\tTime  0.031 ( 0.140)\tLoss 1.1433e+00 (1.3062e+00)\tAcc   0.50 (  0.43)\tF1   0.50 (  0.42)\n",
      "Val: [20/57]\tTime  0.038 ( 0.091)\tLoss 1.6114e+00 (1.3719e+00)\tAcc   0.31 (  0.39)\tF1   0.25 (  0.37)\n",
      "Val: [30/57]\tTime  0.030 ( 0.073)\tLoss 1.4076e+00 (1.3778e+00)\tAcc   0.44 (  0.39)\tF1   0.41 (  0.37)\n",
      "Val: [40/57]\tTime  0.034 ( 0.064)\tLoss 1.2656e+00 (1.3643e+00)\tAcc   0.34 (  0.39)\tF1   0.32 (  0.37)\n",
      "Val: [50/57]\tTime  0.030 ( 0.059)\tLoss 1.3708e+00 (1.3571e+00)\tAcc   0.50 (  0.40)\tF1   0.45 (  0.38)\n",
      "Epoch: [6][ 0/57]\tTime  1.448 ( 1.448)\tData  1.067 ( 1.067)\tLoss 1.4649e+00 (1.4649e+00)\tAcc   0.41 (  0.41)\tF1   0.40 (  0.40)\n",
      "Epoch: [6][10/57]\tTime  0.301 ( 0.407)\tData  0.008 ( 0.107)\tLoss 1.4501e+00 (1.4051e+00)\tAcc   0.38 (  0.39)\tF1   0.41 (  0.38)\n",
      "Epoch: [6][20/57]\tTime  0.276 ( 0.360)\tData  0.008 ( 0.060)\tLoss 1.2497e+00 (1.3833e+00)\tAcc   0.47 (  0.39)\tF1   0.48 (  0.39)\n",
      "Epoch: [6][30/57]\tTime  0.264 ( 0.341)\tData  0.008 ( 0.044)\tLoss 1.4142e+00 (1.3590e+00)\tAcc   0.41 (  0.41)\tF1   0.40 (  0.41)\n",
      "Epoch: [6][40/57]\tTime  0.338 ( 0.334)\tData  0.010 ( 0.036)\tLoss 1.3523e+00 (1.3644e+00)\tAcc   0.38 (  0.41)\tF1   0.38 (  0.40)\n",
      "Epoch: [6][50/57]\tTime  0.265 ( 0.327)\tData  0.008 ( 0.031)\tLoss 1.1906e+00 (1.3690e+00)\tAcc   0.38 (  0.40)\tF1   0.34 (  0.39)\n",
      "Val: [ 0/57]\tTime  1.221 ( 1.221)\tLoss 1.2061e+00 (1.2061e+00)\tAcc   0.56 (  0.56)\tF1   0.54 (  0.54)\n",
      "Val: [10/57]\tTime  0.035 ( 0.144)\tLoss 1.2926e+00 (1.3529e+00)\tAcc   0.50 (  0.44)\tF1   0.48 (  0.44)\n",
      "Val: [20/57]\tTime  0.039 ( 0.093)\tLoss 1.4231e+00 (1.3728e+00)\tAcc   0.25 (  0.40)\tF1   0.21 (  0.39)\n",
      "Val: [30/57]\tTime  0.029 ( 0.074)\tLoss 1.3511e+00 (1.3635e+00)\tAcc   0.38 (  0.40)\tF1   0.33 (  0.39)\n",
      "Val: [40/57]\tTime  0.033 ( 0.064)\tLoss 1.3472e+00 (1.3577e+00)\tAcc   0.44 (  0.40)\tF1   0.43 (  0.39)\n",
      "Val: [50/57]\tTime  0.036 ( 0.058)\tLoss 1.2214e+00 (1.3504e+00)\tAcc   0.50 (  0.40)\tF1   0.49 (  0.39)\n",
      "Epoch: [7][ 0/57]\tTime  1.427 ( 1.427)\tData  1.057 ( 1.057)\tLoss 1.4218e+00 (1.4218e+00)\tAcc   0.34 (  0.34)\tF1   0.33 (  0.33)\n",
      "Epoch: [7][10/57]\tTime  0.265 ( 0.371)\tData  0.008 ( 0.103)\tLoss 1.3165e+00 (1.3374e+00)\tAcc   0.41 (  0.42)\tF1   0.33 (  0.41)\n",
      "Epoch: [7][20/57]\tTime  0.262 ( 0.320)\tData  0.008 ( 0.058)\tLoss 1.7076e+00 (1.3553e+00)\tAcc   0.31 (  0.41)\tF1   0.25 (  0.40)\n",
      "Epoch: [7][30/57]\tTime  0.300 ( 0.302)\tData  0.008 ( 0.042)\tLoss 1.3473e+00 (1.3711e+00)\tAcc   0.47 (  0.40)\tF1   0.44 (  0.38)\n",
      "Epoch: [7][40/57]\tTime  0.273 ( 0.300)\tData  0.008 ( 0.034)\tLoss 1.3160e+00 (1.3705e+00)\tAcc   0.41 (  0.40)\tF1   0.40 (  0.39)\n",
      "Epoch: [7][50/57]\tTime  0.249 ( 0.298)\tData  0.007 ( 0.029)\tLoss 1.5807e+00 (1.3663e+00)\tAcc   0.25 (  0.40)\tF1   0.26 (  0.39)\n",
      "Val: [ 0/57]\tTime  1.205 ( 1.205)\tLoss 1.2885e+00 (1.2885e+00)\tAcc   0.53 (  0.53)\tF1   0.52 (  0.52)\n",
      "Val: [10/57]\tTime  0.037 ( 0.145)\tLoss 1.0956e+00 (1.3227e+00)\tAcc   0.59 (  0.44)\tF1   0.60 (  0.44)\n",
      "Val: [20/57]\tTime  0.044 ( 0.100)\tLoss 1.4755e+00 (1.3395e+00)\tAcc   0.38 (  0.44)\tF1   0.36 (  0.43)\n",
      "Val: [30/57]\tTime  0.031 ( 0.079)\tLoss 1.2760e+00 (1.3418e+00)\tAcc   0.41 (  0.43)\tF1   0.33 (  0.42)\n",
      "Val: [40/57]\tTime  0.077 ( 0.070)\tLoss 1.2551e+00 (1.3512e+00)\tAcc   0.53 (  0.42)\tF1   0.52 (  0.41)\n",
      "Val: [50/57]\tTime  0.033 ( 0.064)\tLoss 1.1144e+00 (1.3479e+00)\tAcc   0.59 (  0.42)\tF1   0.58 (  0.41)\n",
      "Epoch     8: reducing learning rate of group 0 to 3.0000e-04.\n",
      "Epoch: [8][ 0/57]\tTime  1.710 ( 1.710)\tData  1.199 ( 1.199)\tLoss 1.1180e+00 (1.1180e+00)\tAcc   0.56 (  0.56)\tF1   0.58 (  0.58)\n",
      "Epoch: [8][10/57]\tTime  0.260 ( 0.423)\tData  0.008 ( 0.117)\tLoss 1.5283e+00 (1.3297e+00)\tAcc   0.38 (  0.44)\tF1   0.35 (  0.44)\n",
      "Epoch: [8][20/57]\tTime  0.254 ( 0.344)\tData  0.008 ( 0.065)\tLoss 1.0829e+00 (1.3182e+00)\tAcc   0.62 (  0.42)\tF1   0.62 (  0.42)\n",
      "Epoch: [8][30/57]\tTime  0.294 ( 0.323)\tData  0.007 ( 0.047)\tLoss 1.3665e+00 (1.3286e+00)\tAcc   0.44 (  0.42)\tF1   0.40 (  0.41)\n",
      "Epoch: [8][40/57]\tTime  0.320 ( 0.313)\tData  0.009 ( 0.037)\tLoss 1.0411e+00 (1.3260e+00)\tAcc   0.56 (  0.42)\tF1   0.55 (  0.41)\n",
      "Epoch: [8][50/57]\tTime  0.246 ( 0.304)\tData  0.007 ( 0.032)\tLoss 1.1858e+00 (1.3294e+00)\tAcc   0.53 (  0.42)\tF1   0.53 (  0.41)\n",
      "Val: [ 0/57]\tTime  1.086 ( 1.086)\tLoss 1.1401e+00 (1.1401e+00)\tAcc   0.53 (  0.53)\tF1   0.49 (  0.49)\n",
      "Val: [10/57]\tTime  0.036 ( 0.133)\tLoss 1.0814e+00 (1.2212e+00)\tAcc   0.53 (  0.48)\tF1   0.50 (  0.46)\n",
      "Val: [20/57]\tTime  0.061 ( 0.088)\tLoss 1.4457e+00 (1.2445e+00)\tAcc   0.25 (  0.45)\tF1   0.24 (  0.43)\n",
      "Val: [30/57]\tTime  0.027 ( 0.071)\tLoss 1.3915e+00 (1.2717e+00)\tAcc   0.47 (  0.46)\tF1   0.45 (  0.43)\n",
      "Val: [40/57]\tTime  0.069 ( 0.064)\tLoss 1.3844e+00 (1.2661e+00)\tAcc   0.44 (  0.45)\tF1   0.39 (  0.43)\n",
      "Val: [50/57]\tTime  0.029 ( 0.058)\tLoss 1.2244e+00 (1.2709e+00)\tAcc   0.50 (  0.45)\tF1   0.50 (  0.43)\n",
      "Epoch: [9][ 0/57]\tTime  1.388 ( 1.388)\tData  1.014 ( 1.014)\tLoss 1.4736e+00 (1.4736e+00)\tAcc   0.31 (  0.31)\tF1   0.28 (  0.28)\n",
      "Epoch: [9][10/57]\tTime  0.274 ( 0.382)\tData  0.010 ( 0.100)\tLoss 1.3385e+00 (1.2742e+00)\tAcc   0.31 (  0.45)\tF1   0.29 (  0.44)\n",
      "Epoch: [9][20/57]\tTime  0.263 ( 0.325)\tData  0.008 ( 0.056)\tLoss 1.3480e+00 (1.2731e+00)\tAcc   0.41 (  0.46)\tF1   0.40 (  0.44)\n",
      "Epoch: [9][30/57]\tTime  0.258 ( 0.305)\tData  0.007 ( 0.041)\tLoss 1.2778e+00 (1.3063e+00)\tAcc   0.47 (  0.45)\tF1   0.46 (  0.43)\n",
      "Epoch: [9][40/57]\tTime  0.376 ( 0.297)\tData  0.008 ( 0.033)\tLoss 1.3219e+00 (1.3012e+00)\tAcc   0.34 (  0.43)\tF1   0.35 (  0.42)\n",
      "Epoch: [9][50/57]\tTime  0.317 ( 0.300)\tData  0.009 ( 0.028)\tLoss 1.0556e+00 (1.3062e+00)\tAcc   0.59 (  0.43)\tF1   0.59 (  0.41)\n",
      "Val: [ 0/57]\tTime  1.087 ( 1.087)\tLoss 1.1997e+00 (1.1997e+00)\tAcc   0.50 (  0.50)\tF1   0.48 (  0.48)\n",
      "Val: [10/57]\tTime  0.046 ( 0.134)\tLoss 1.1594e+00 (1.2590e+00)\tAcc   0.47 (  0.46)\tF1   0.47 (  0.45)\n",
      "Val: [20/57]\tTime  0.032 ( 0.090)\tLoss 1.3742e+00 (1.2754e+00)\tAcc   0.41 (  0.45)\tF1   0.36 (  0.43)\n",
      "Val: [30/57]\tTime  0.042 ( 0.074)\tLoss 1.4599e+00 (1.2894e+00)\tAcc   0.38 (  0.45)\tF1   0.35 (  0.43)\n",
      "Val: [40/57]\tTime  0.047 ( 0.067)\tLoss 1.1367e+00 (1.2875e+00)\tAcc   0.53 (  0.44)\tF1   0.51 (  0.42)\n",
      "Val: [50/57]\tTime  0.037 ( 0.063)\tLoss 1.0590e+00 (1.2757e+00)\tAcc   0.62 (  0.45)\tF1   0.61 (  0.43)\n"
     ]
    }
   ],
   "source": [
    "best_target_metric = -np.inf\n",
    "target_metric = 'f1_avg'\n",
    "model_writer_path = opt.path_to_tensorboard_logs / model.__class__.__name__\n",
    "\n",
    "if model_writer_path.exists():\n",
    "    shutil.rmtree(model_writer_path)\n",
    "writer = SummaryWriter(log_dir=str(model_writer_path))\n",
    "\n",
    "for epoch in range(opt.start_epoch, opt.epochs):\n",
    "    # train for one epoch\n",
    "    train_metrics = train_one_epoch(train_dataloader, model, criterion, optimizer, epoch, opt.device, opt.print_freq, writer)\n",
    "\n",
    "    # evaluate on validation set\n",
    "    val_metrics = validate_one_epoch(val_dataloader, model, criterion, epoch, opt.device, opt.print_freq, writer)\n",
    "    \n",
    "    # learning rate scheduler step\n",
    "    scheduler.step(val_metrics['loss_avg'])\n",
    "\n",
    "    # remember best value and save checkpoint\n",
    "    target_metric_value = val_metrics[target_metric]\n",
    "    is_best = target_metric_value > best_target_metric\n",
    "    best_target_metric = max(target_metric_value, best_target_metric)\n",
    "\n",
    "    save_checkpoint(\n",
    "        {\n",
    "            'epoch': epoch,\n",
    "            'state_dict': model.state_dict(),\n",
    "            f'best_{target_metric}': best_target_metric,\n",
    "            'optimizer' : optimizer.state_dict(),\n",
    "        },\n",
    "        is_best,\n",
    "        filename=str(opt.path_to_models / f'{model.__class__.__name__}_checkpoint.pth'),\n",
    "        best_filename=str(opt.path_to_models / f'{model.__class__.__name__}_model_best.pth'),\n",
    "    )\n",
    "writer.close()"
   ]
  },
  {
   "cell_type": "markdown",
   "metadata": {},
   "source": [
    "## Model performance metrics"
   ]
  },
  {
   "cell_type": "code",
   "execution_count": 14,
   "metadata": {},
   "outputs": [],
   "source": [
    "from sklearn.metrics import ConfusionMatrixDisplay"
   ]
  },
  {
   "cell_type": "code",
   "execution_count": 15,
   "metadata": {},
   "outputs": [
    {
     "data": {
      "text/plain": [
       "<All keys matched successfully>"
      ]
     },
     "execution_count": 15,
     "metadata": {},
     "output_type": "execute_result"
    }
   ],
   "source": [
    "model = FlowersFcModel(\n",
    "    in_features=in_features, hidden_dim=hidden_dim, num_classes=num_classes\n",
    ").to(opt.device)\n",
    "\n",
    "last_state = torch.load(str(opt.path_to_models / f'{model.__class__.__name__}_model_best.pth'))\n",
    "model.load_state_dict(last_state['state_dict'])"
   ]
  },
  {
   "cell_type": "code",
   "execution_count": 16,
   "metadata": {},
   "outputs": [
    {
     "name": "stderr",
     "output_type": "stream",
     "text": [
      "batch loop: 100%|██████████| 57/57 [00:23<00:00,  2.39it/s]"
     ]
    },
    {
     "name": "stdout",
     "output_type": "stream",
     "text": [
      "Accuracy: 0.447\n",
      "F1: 0.427\n",
      "Precision: 0.456\n",
      "Recall: 0.447\n"
     ]
    },
    {
     "name": "stderr",
     "output_type": "stream",
     "text": [
      "\n"
     ]
    }
   ],
   "source": [
    "acc_metric, f1_metric, precision_metric, recall_metric, conf_matrix = get_val_metrics(val_dataloader, model, opt.device)\n",
    "print(f'Accuracy: {acc_metric:.3}')\n",
    "print(f'F1: {f1_metric:.3}')\n",
    "print(f'Precision: {precision_metric:.3}')\n",
    "print(f'Recall: {recall_metric:.3}')"
   ]
  },
  {
   "cell_type": "code",
   "execution_count": 17,
   "metadata": {},
   "outputs": [
    {
     "data": {
      "image/png": "[encoded data removed]",
      "text/plain": [
       "<Figure size 1152x648 with 2 Axes>"
      ]
     },
     "metadata": {},
     "output_type": "display_data"
    }
   ],
   "source": [
    "disp = ConfusionMatrixDisplay(\n",
    "    confusion_matrix=conf_matrix / conf_matrix.astype('float').sum(axis=1, keepdims=True),\n",
    ")\n",
    "disp.plot(xticks_rotation='vertical', values_format='.2f');"
   ]
  },
  {
   "cell_type": "markdown",
   "metadata": {},
   "source": [
    "## Inference"
   ]
  },
  {
   "cell_type": "code",
   "execution_count": 18,
   "metadata": {},
   "outputs": [],
   "source": [
    "from utils.loops import infer_folder, infer_one_file"
   ]
  },
  {
   "cell_type": "code",
   "execution_count": 19,
   "metadata": {},
   "outputs": [
    {
     "data": {
      "text/plain": [
       "2"
      ]
     },
     "execution_count": 19,
     "metadata": {},
     "output_type": "execute_result"
    }
   ],
   "source": [
    "image_path = '../data/daisy/10712722853_5632165b04.jpg'\n",
    "infer_one_file(\n",
    "    image_path, model, opt.device, transform=val_transformations_without_norm,\n",
    "    use_descriptors_as_features=opt.use_descriptors_as_features, features_type=opt.features_type\n",
    ")"
   ]
  },
  {
   "cell_type": "code",
   "execution_count": 20,
   "metadata": {},
   "outputs": [
    {
     "data": {
      "text/plain": [
       "[('../data/daisy/14167534527_781ceb1b7a_n.jpg', 0),\n",
       " ('../data/daisy/476857510_d2b30175de_n.jpg', 0),\n",
       " ('../data/daisy/521762040_f26f2e08dd.jpg', 2),\n",
       " ('../data/daisy/7320089276_87b544e341.jpg', 4),\n",
       " ('../data/daisy/721595842_bacd80a6ac.jpg', 0)]"
      ]
     },
     "execution_count": 20,
     "metadata": {},
     "output_type": "execute_result"
    }
   ],
   "source": [
    "folder_path = '../data/daisy'\n",
    "result = infer_folder(\n",
    "    folder_path, model, opt.device, image_ext='jpg',\n",
    "    transform=val_transformations_without_norm,\n",
    "    use_descriptors_as_features=opt.use_descriptors_as_features,\n",
    "    features_type=opt.features_type\n",
    ")\n",
    "result[:5]"
   ]
  },
  {
   "cell_type": "code",
   "execution_count": null,
   "metadata": {},
   "outputs": [],
   "source": []
  }
 ],
 "metadata": {
  "interpreter": {
   "hash": "c6e4e9f98eb68ad3b7c296f83d20e6de614cb42e90992a65aa266555a3137d0d"
  },
  "kernelspec": {
   "display_name": "Python 3.9.7 ('base')",
   "language": "python",
   "name": "python3"
  },
  "language_info": {
   "codemirror_mode": {
    "name": "ipython",
    "version": 3
   },
   "file_extension": ".py",
   "mimetype": "text/x-python",
   "name": "python",
   "nbconvert_exporter": "python",
   "pygments_lexer": "ipython3",
   "version": "3.9.7"
  },
  "orig_nbformat": 4
 },
 "nbformat": 4,
 "nbformat_minor": 2
}
