{
 "cells": [
  {
   "cell_type": "markdown",
   "metadata": {},
   "source": [
    "## Import packages"
   ]
  },
  {
   "cell_type": "code",
   "execution_count": 1,
   "metadata": {},
   "outputs": [],
   "source": [
    "\n",
    "import numpy as np\n",
    "import torch\n",
    "from torch.utils.data import DataLoader\n",
    "from torch.optim.lr_scheduler import ReduceLROnPlateau\n",
    "from torchsummary import summary\n",
    "\n",
    "import matplotlib.pyplot as plt\n",
    "plt.rcParams[\"figure.figsize\"] = (16, 9)"
   ]
  },
  {
   "cell_type": "code",
   "execution_count": 2,
   "metadata": {},
   "outputs": [
    {
     "name": "stderr",
     "output_type": "stream",
     "text": [
      "/opt/homebrew/Caskroom/miniforge/base/lib/python3.9/site-packages/torchvision/io/image.py:11: UserWarning: Failed to load image Python extension: \n",
      "  warn(f\"Failed to load image Python extension: {e}\")\n"
     ]
    }
   ],
   "source": [
    "from config import opt\n",
    "from models import FlowersFcModel\n",
    "from utils import train_model, get_val_metrics, get_images_paths, get_train_test_split, show_tensor_images, init_seeds\n",
    "from datasets import FlowersDataset\n",
    "from datasets.preprocessing import train_transformations_without_norm, val_transformations_without_norm"
   ]
  },
  {
   "cell_type": "code",
   "execution_count": 3,
   "metadata": {},
   "outputs": [],
   "source": [
    "init_seeds(opt.seed)"
   ]
  },
  {
   "cell_type": "markdown",
   "metadata": {},
   "source": [
    "## Prepare dataset"
   ]
  },
  {
   "cell_type": "code",
   "execution_count": 4,
   "metadata": {},
   "outputs": [],
   "source": [
    "num_classes = len(set(opt.idx_to_class.keys()))"
   ]
  },
  {
   "cell_type": "code",
   "execution_count": 5,
   "metadata": {},
   "outputs": [],
   "source": [
    "data_df = get_images_paths(opt=opt)\n",
    "train_df, val_df = get_train_test_split(df=data_df, opt=opt)"
   ]
  },
  {
   "cell_type": "code",
   "execution_count": 6,
   "metadata": {},
   "outputs": [
    {
     "data": {
      "text/plain": [
       "4    602\n",
       "0    518\n",
       "2    472\n",
       "3    420\n",
       "1    239\n",
       "Name: label, dtype: int64"
      ]
     },
     "execution_count": 6,
     "metadata": {},
     "output_type": "execute_result"
    }
   ],
   "source": [
    "data_df.label.value_counts()"
   ]
  },
  {
   "cell_type": "code",
   "execution_count": 7,
   "metadata": {},
   "outputs": [],
   "source": [
    "train_dataset = FlowersDataset(\n",
    "    img_paths=train_df['path'].values.copy(),\n",
    "    labels=train_df['label'].values.copy(),\n",
    "    num_classes=num_classes,\n",
    "    transform=train_transformations_without_norm,\n",
    "    use_descriptors_as_features=opt.use_descriptors_as_features,\n",
    "    features_type=opt.features_type,\n",
    ")\n",
    "\n",
    "train_dataloader = DataLoader(\n",
    "    train_dataset,\n",
    "    batch_size=opt.batch_size,\n",
    "    shuffle=True,\n",
    "    num_workers=opt.num_workers,\n",
    "    pin_memory=opt.pin_memory,\n",
    ")\n",
    "\n",
    "val_dataset = FlowersDataset(\n",
    "    img_paths=val_df['path'].values.copy(),\n",
    "    labels=val_df['label'].values.copy(),\n",
    "    num_classes=num_classes,\n",
    "    transform=val_transformations_without_norm,\n",
    "    use_descriptors_as_features=opt.use_descriptors_as_features,\n",
    "    features_type=opt.features_type,\n",
    ")\n",
    "\n",
    "val_dataloader = DataLoader(\n",
    "    train_dataset,\n",
    "    batch_size=opt.batch_size,\n",
    "    shuffle=False,\n",
    "    num_workers=opt.num_workers,\n",
    "    pin_memory=opt.pin_memory,\n",
    ")"
   ]
  },
  {
   "cell_type": "markdown",
   "metadata": {},
   "source": [
    "## Training"
   ]
  },
  {
   "cell_type": "code",
   "execution_count": 8,
   "metadata": {},
   "outputs": [
    {
     "data": {
      "text/plain": [
       "torch.Size([32, 1542])"
      ]
     },
     "execution_count": 8,
     "metadata": {},
     "output_type": "execute_result"
    }
   ],
   "source": [
    "next(iter(val_dataloader))['image'].shape"
   ]
  },
  {
   "cell_type": "code",
   "execution_count": 9,
   "metadata": {},
   "outputs": [],
   "source": [
    "in_features = 1542\n",
    "hidden_dim = in_features  # // 2\n",
    "model = FlowersFcModel(\n",
    "    in_features=in_features, hidden_dim=hidden_dim, num_classes=num_classes\n",
    ").to(opt.device)\n",
    "# model.freeze_middle_layers()\n",
    "\n",
    "criterion = torch.nn.CrossEntropyLoss()\n",
    "optimizer = torch.optim.Adam(filter(lambda p: p.requires_grad, model.parameters()), lr=opt.lr)\n",
    "scheduler = ReduceLROnPlateau(optimizer, mode='min', patience=2, factor=0.1, verbose=True)"
   ]
  },
  {
   "cell_type": "code",
   "execution_count": 10,
   "metadata": {},
   "outputs": [
    {
     "name": "stdout",
     "output_type": "stream",
     "text": [
      "----------------------------------------------------------------\n",
      "        Layer (type)               Output Shape         Param #\n",
      "================================================================\n",
      "            Linear-1                 [32, 3084]       4,758,612\n",
      "              ReLU-2                 [32, 3084]               0\n",
      "       BatchNorm1d-3                 [32, 3084]           6,168\n",
      "           Dropout-4                 [32, 3084]               0\n",
      "            Linear-5                 [32, 3084]       9,514,140\n",
      "              ReLU-6                 [32, 3084]               0\n",
      "       BatchNorm1d-7                 [32, 3084]           6,168\n",
      "           Dropout-8                 [32, 3084]               0\n",
      "            Linear-9                  [32, 192]         592,320\n",
      "             ReLU-10                  [32, 192]               0\n",
      "      BatchNorm1d-11                  [32, 192]             384\n",
      "           Linear-12                    [32, 5]             965\n",
      "================================================================\n",
      "Total params: 14,878,757\n",
      "Trainable params: 14,878,757\n",
      "Non-trainable params: 0\n",
      "----------------------------------------------------------------\n",
      "Input size (MB): 0.19\n",
      "Forward/backward pass size (MB): 6.17\n",
      "Params size (MB): 56.76\n",
      "Estimated Total Size (MB): 63.11\n",
      "----------------------------------------------------------------\n"
     ]
    }
   ],
   "source": [
    "summary(model, input_size=(in_features, ), batch_size=opt.batch_size)"
   ]
  },
  {
   "cell_type": "code",
   "execution_count": 11,
   "metadata": {},
   "outputs": [
    {
     "name": "stdout",
     "output_type": "stream",
     "text": [
      "Epoch: [0][ 0/57]\tTime 11.062 (11.062)\tData 10.967 (10.967)\tLoss 1.9226e+00 (1.9226e+00)\tAcc   0.16 (  0.16)\tF1   0.17 (  0.17)\n",
      "Epoch: [0][10/57]\tTime  0.096 ( 2.789)\tData  0.002 ( 2.702)\tLoss 1.4968e+00 (1.7721e+00)\tAcc   0.44 (  0.23)\tF1   0.41 (  0.22)\n",
      "Epoch: [0][20/57]\tTime 10.212 ( 2.951)\tData 10.125 ( 2.867)\tLoss 1.4749e+00 (1.6820e+00)\tAcc   0.34 (  0.27)\tF1   0.33 (  0.26)\n",
      "Epoch: [0][30/57]\tTime  0.226 ( 2.656)\tData  0.148 ( 2.572)\tLoss 1.6266e+00 (1.6526e+00)\tAcc   0.31 (  0.28)\tF1   0.32 (  0.26)\n",
      "Epoch: [0][40/57]\tTime  8.889 ( 2.699)\tData  8.803 ( 2.615)\tLoss 1.5120e+00 (1.6254e+00)\tAcc   0.34 (  0.29)\tF1   0.31 (  0.27)\n",
      "Epoch: [0][50/57]\tTime  0.202 ( 2.563)\tData  0.078 ( 2.477)\tLoss 1.5495e+00 (1.6098e+00)\tAcc   0.28 (  0.29)\tF1   0.21 (  0.27)\n",
      "Val: [ 0/57]\tTime 10.995 (10.995)\tLoss 1.5828e+00 (1.5828e+00)\tAcc   0.09 (  0.09)\tF1   0.06 (  0.06)\n",
      "Val: [10/57]\tTime  0.018 ( 2.717)\tLoss 1.5819e+00 (1.5661e+00)\tAcc   0.06 (  0.21)\tF1   0.01 (  0.10)\n",
      "Val: [20/57]\tTime  9.248 ( 2.774)\tLoss 1.5979e+00 (1.5725e+00)\tAcc   0.16 (  0.21)\tF1   0.04 (  0.10)\n",
      "Val: [30/57]\tTime  0.070 ( 2.525)\tLoss 1.5915e+00 (1.5753e+00)\tAcc   0.22 (  0.21)\tF1   0.08 (  0.10)\n",
      "Val: [40/57]\tTime  9.132 ( 2.631)\tLoss 1.5646e+00 (1.5698e+00)\tAcc   0.19 (  0.22)\tF1   0.06 (  0.11)\n",
      "Val: [50/57]\tTime  0.016 ( 2.518)\tLoss 1.5875e+00 (1.5729e+00)\tAcc   0.22 (  0.22)\tF1   0.08 (  0.10)\n",
      "Epoch: [1][ 0/57]\tTime 10.866 (10.866)\tData 10.770 (10.770)\tLoss 1.4185e+00 (1.4185e+00)\tAcc   0.41 (  0.41)\tF1   0.38 (  0.38)\n",
      "Epoch: [1][10/57]\tTime  0.079 ( 2.786)\tData  0.003 ( 2.700)\tLoss 1.5562e+00 (1.4961e+00)\tAcc   0.41 (  0.39)\tF1   0.35 (  0.38)\n",
      "Epoch: [1][20/57]\tTime  9.625 ( 2.868)\tData  9.538 ( 2.782)\tLoss 1.4772e+00 (1.4734e+00)\tAcc   0.34 (  0.38)\tF1   0.35 (  0.37)\n",
      "Epoch: [1][30/57]\tTime  0.347 ( 2.597)\tData  0.263 ( 2.511)\tLoss 1.3101e+00 (1.4813e+00)\tAcc   0.50 (  0.38)\tF1   0.49 (  0.36)\n",
      "Epoch: [1][40/57]\tTime  9.141 ( 2.672)\tData  9.055 ( 2.585)\tLoss 1.1400e+00 (1.4822e+00)\tAcc   0.69 (  0.38)\tF1   0.67 (  0.37)\n",
      "Epoch: [1][50/57]\tTime  0.481 ( 2.559)\tData  0.399 ( 2.473)\tLoss 1.3247e+00 (1.4756e+00)\tAcc   0.34 (  0.38)\tF1   0.37 (  0.37)\n",
      "Val: [ 0/57]\tTime 11.127 (11.127)\tLoss 1.3338e+00 (1.3338e+00)\tAcc   0.50 (  0.50)\tF1   0.48 (  0.48)\n",
      "Val: [10/57]\tTime  0.019 ( 2.747)\tLoss 1.6197e+00 (1.5724e+00)\tAcc   0.31 (  0.36)\tF1   0.26 (  0.32)\n",
      "Val: [20/57]\tTime  9.765 ( 2.857)\tLoss 1.7903e+00 (1.5766e+00)\tAcc   0.22 (  0.35)\tF1   0.17 (  0.31)\n",
      "Val: [30/57]\tTime  0.010 ( 2.571)\tLoss 1.7343e+00 (1.6073e+00)\tAcc   0.25 (  0.33)\tF1   0.17 (  0.29)\n",
      "Val: [40/57]\tTime  9.459 ( 2.648)\tLoss 1.4650e+00 (1.6086e+00)\tAcc   0.41 (  0.33)\tF1   0.36 (  0.29)\n",
      "Val: [50/57]\tTime  0.012 ( 2.522)\tLoss 1.7241e+00 (1.6185e+00)\tAcc   0.22 (  0.32)\tF1   0.16 (  0.28)\n",
      "Epoch: [2][ 0/57]\tTime 10.948 (10.948)\tData 10.859 (10.859)\tLoss 1.5439e+00 (1.5439e+00)\tAcc   0.31 (  0.31)\tF1   0.29 (  0.29)\n",
      "Epoch: [2][10/57]\tTime  0.084 ( 2.736)\tData  0.004 ( 2.651)\tLoss 1.2914e+00 (1.4412e+00)\tAcc   0.50 (  0.38)\tF1   0.49 (  0.35)\n",
      "Epoch: [2][20/57]\tTime  9.346 ( 2.810)\tData  9.279 ( 2.728)\tLoss 1.4430e+00 (1.4219e+00)\tAcc   0.34 (  0.39)\tF1   0.27 (  0.36)\n",
      "Epoch: [2][30/57]\tTime  0.111 ( 2.555)\tData  0.006 ( 2.464)\tLoss 1.4416e+00 (1.4005e+00)\tAcc   0.44 (  0.40)\tF1   0.44 (  0.37)\n",
      "Epoch: [2][40/57]\tTime  9.359 ( 2.640)\tData  9.223 ( 2.545)\tLoss 1.3331e+00 (1.4163e+00)\tAcc   0.31 (  0.39)\tF1   0.33 (  0.37)\n",
      "Epoch: [2][50/57]\tTime  0.110 ( 2.518)\tData  0.007 ( 2.421)\tLoss 1.2852e+00 (1.4150e+00)\tAcc   0.53 (  0.40)\tF1   0.51 (  0.37)\n",
      "Val: [ 0/57]\tTime 11.132 (11.132)\tLoss 1.7100e+00 (1.7100e+00)\tAcc   0.44 (  0.44)\tF1   0.35 (  0.35)\n",
      "Val: [10/57]\tTime  0.015 ( 2.783)\tLoss 2.1949e+00 (1.9869e+00)\tAcc   0.34 (  0.31)\tF1   0.31 (  0.24)\n",
      "Val: [20/57]\tTime  9.742 ( 2.855)\tLoss 2.4298e+00 (1.9962e+00)\tAcc   0.12 (  0.30)\tF1   0.04 (  0.23)\n",
      "Val: [30/57]\tTime  0.009 ( 2.584)\tLoss 2.1501e+00 (2.0111e+00)\tAcc   0.22 (  0.29)\tF1   0.12 (  0.22)\n",
      "Val: [40/57]\tTime  9.722 ( 2.672)\tLoss 1.8200e+00 (2.0283e+00)\tAcc   0.41 (  0.29)\tF1   0.31 (  0.22)\n",
      "Val: [50/57]\tTime  0.018 ( 2.557)\tLoss 2.2739e+00 (2.0378e+00)\tAcc   0.22 (  0.29)\tF1   0.12 (  0.22)\n",
      "Epoch: [3][ 0/57]\tTime 11.092 (11.092)\tData 10.994 (10.994)\tLoss 1.5958e+00 (1.5958e+00)\tAcc   0.53 (  0.53)\tF1   0.52 (  0.52)\n",
      "Epoch: [3][10/57]\tTime  0.138 ( 2.901)\tData  0.008 ( 2.795)\tLoss 1.6150e+00 (1.4370e+00)\tAcc   0.31 (  0.42)\tF1   0.29 (  0.41)\n",
      "Epoch: [3][20/57]\tTime  9.556 ( 2.945)\tData  9.437 ( 2.837)\tLoss 1.6077e+00 (1.4492e+00)\tAcc   0.34 (  0.40)\tF1   0.30 (  0.38)\n",
      "Epoch: [3][30/57]\tTime  0.058 ( 2.667)\tData  0.003 ( 2.566)\tLoss 1.4857e+00 (1.4262e+00)\tAcc   0.44 (  0.41)\tF1   0.43 (  0.39)\n",
      "Epoch: [3][40/57]\tTime  9.386 ( 2.742)\tData  9.298 ( 2.639)\tLoss 1.6037e+00 (1.4221e+00)\tAcc   0.16 (  0.40)\tF1   0.14 (  0.38)\n",
      "Epoch: [3][50/57]\tTime  0.116 ( 2.606)\tData  0.005 ( 2.503)\tLoss 1.5176e+00 (1.4242e+00)\tAcc   0.38 (  0.41)\tF1   0.39 (  0.38)\n",
      "Val: [ 0/57]\tTime 10.780 (10.780)\tLoss 1.3440e+00 (1.3440e+00)\tAcc   0.53 (  0.53)\tF1   0.52 (  0.52)\n",
      "Val: [10/57]\tTime  0.009 ( 2.744)\tLoss 1.3759e+00 (1.3329e+00)\tAcc   0.41 (  0.46)\tF1   0.43 (  0.46)\n",
      "Val: [20/57]\tTime 10.106 ( 2.855)\tLoss 1.5296e+00 (1.3582e+00)\tAcc   0.25 (  0.43)\tF1   0.24 (  0.43)\n",
      "Val: [30/57]\tTime  0.015 ( 2.572)\tLoss 1.6186e+00 (1.3821e+00)\tAcc   0.28 (  0.43)\tF1   0.31 (  0.43)\n",
      "Val: [40/57]\tTime 12.554 ( 2.738)\tLoss 1.2606e+00 (1.3858e+00)\tAcc   0.44 (  0.43)\tF1   0.39 (  0.42)\n",
      "Val: [50/57]\tTime  0.017 ( 2.734)\tLoss 1.5515e+00 (1.3911e+00)\tAcc   0.41 (  0.42)\tF1   0.38 (  0.41)\n",
      "Epoch: [4][ 0/57]\tTime 11.101 (11.101)\tData 10.998 (10.998)\tLoss 1.2920e+00 (1.2920e+00)\tAcc   0.44 (  0.44)\tF1   0.44 (  0.44)\n",
      "Epoch: [4][10/57]\tTime  0.095 ( 3.086)\tData  0.004 ( 2.990)\tLoss 1.5429e+00 (1.3811e+00)\tAcc   0.28 (  0.42)\tF1   0.24 (  0.40)\n",
      "Epoch: [4][20/57]\tTime  9.719 ( 3.070)\tData  9.567 ( 2.969)\tLoss 1.6356e+00 (1.3804e+00)\tAcc   0.34 (  0.43)\tF1   0.32 (  0.40)\n",
      "Epoch: [4][30/57]\tTime  0.112 ( 2.721)\tData  0.006 ( 2.614)\tLoss 1.2045e+00 (1.3915e+00)\tAcc   0.53 (  0.43)\tF1   0.50 (  0.41)\n",
      "Epoch: [4][40/57]\tTime  9.462 ( 2.769)\tData  9.310 ( 2.660)\tLoss 1.1874e+00 (1.3964e+00)\tAcc   0.56 (  0.43)\tF1   0.54 (  0.41)\n",
      "Epoch: [4][50/57]\tTime  0.135 ( 2.617)\tData  0.007 ( 2.508)\tLoss 1.6561e+00 (1.4060e+00)\tAcc   0.28 (  0.43)\tF1   0.27 (  0.41)\n",
      "Val: [ 0/57]\tTime 11.405 (11.405)\tLoss 1.5848e+00 (1.5848e+00)\tAcc   0.38 (  0.38)\tF1   0.36 (  0.36)\n",
      "Val: [10/57]\tTime  0.014 ( 2.887)\tLoss 1.5083e+00 (1.5491e+00)\tAcc   0.38 (  0.34)\tF1   0.34 (  0.31)\n",
      "Val: [20/57]\tTime  9.739 ( 2.914)\tLoss 1.6427e+00 (1.5564e+00)\tAcc   0.28 (  0.35)\tF1   0.19 (  0.31)\n",
      "Val: [30/57]\tTime  0.018 ( 2.621)\tLoss 1.5814e+00 (1.5704e+00)\tAcc   0.25 (  0.33)\tF1   0.23 (  0.30)\n",
      "Val: [40/57]\tTime  9.926 ( 2.722)\tLoss 1.4417e+00 (1.5698e+00)\tAcc   0.41 (  0.33)\tF1   0.40 (  0.30)\n",
      "Val: [50/57]\tTime  0.014 ( 2.595)\tLoss 1.6059e+00 (1.5709e+00)\tAcc   0.22 (  0.33)\tF1   0.21 (  0.30)\n",
      "Epoch: [5][ 0/57]\tTime 11.479 (11.479)\tData 11.368 (11.368)\tLoss 1.2905e+00 (1.2905e+00)\tAcc   0.44 (  0.44)\tF1   0.44 (  0.44)\n",
      "Epoch: [5][10/57]\tTime  0.073 ( 2.889)\tData  0.003 ( 2.800)\tLoss 1.4414e+00 (1.3791e+00)\tAcc   0.34 (  0.41)\tF1   0.34 (  0.40)\n",
      "Epoch: [5][20/57]\tTime  9.304 ( 2.918)\tData  9.189 ( 2.819)\tLoss 1.3258e+00 (1.3478e+00)\tAcc   0.50 (  0.45)\tF1   0.47 (  0.43)\n",
      "Epoch: [5][30/57]\tTime  0.119 ( 2.653)\tData  0.009 ( 2.550)\tLoss 1.2950e+00 (1.3732e+00)\tAcc   0.59 (  0.44)\tF1   0.59 (  0.42)\n",
      "Epoch: [5][40/57]\tTime  9.332 ( 2.720)\tData  9.158 ( 2.612)\tLoss 1.5851e+00 (1.3802e+00)\tAcc   0.31 (  0.43)\tF1   0.30 (  0.41)\n",
      "Epoch: [5][50/57]\tTime  0.067 ( 2.594)\tData  0.002 ( 2.488)\tLoss 1.4333e+00 (1.3835e+00)\tAcc   0.41 (  0.42)\tF1   0.39 (  0.41)\n",
      "Val: [ 0/57]\tTime 10.780 (10.780)\tLoss 1.3527e+00 (1.3527e+00)\tAcc   0.56 (  0.56)\tF1   0.55 (  0.55)\n",
      "Val: [10/57]\tTime  0.069 ( 2.728)\tLoss 1.0918e+00 (1.3381e+00)\tAcc   0.62 (  0.47)\tF1   0.59 (  0.41)\n",
      "Val: [20/57]\tTime  9.607 ( 2.836)\tLoss 1.4963e+00 (1.3778e+00)\tAcc   0.47 (  0.46)\tF1   0.46 (  0.41)\n",
      "Val: [30/57]\tTime  0.015 ( 2.561)\tLoss 1.5591e+00 (1.3933e+00)\tAcc   0.38 (  0.44)\tF1   0.32 (  0.39)\n",
      "Val: [40/57]\tTime  9.789 ( 2.672)\tLoss 1.1808e+00 (1.4040e+00)\tAcc   0.56 (  0.44)\tF1   0.50 (  0.39)\n",
      "Val: [50/57]\tTime  0.110 ( 2.544)\tLoss 1.8435e+00 (1.4090e+00)\tAcc   0.34 (  0.44)\tF1   0.25 (  0.38)\n",
      "Epoch: [6][ 0/57]\tTime 11.012 (11.012)\tData 10.889 (10.889)\tLoss 1.2958e+00 (1.2958e+00)\tAcc   0.41 (  0.41)\tF1   0.39 (  0.39)\n",
      "Epoch: [6][10/57]\tTime  0.087 ( 2.763)\tData  0.004 ( 2.675)\tLoss 1.4051e+00 (1.3002e+00)\tAcc   0.38 (  0.45)\tF1   0.33 (  0.42)\n",
      "Epoch: [6][20/57]\tTime  9.675 ( 2.844)\tData  9.581 ( 2.758)\tLoss 1.5627e+00 (1.3214e+00)\tAcc   0.44 (  0.46)\tF1   0.42 (  0.44)\n",
      "Epoch: [6][30/57]\tTime  0.160 ( 2.574)\tData  0.017 ( 2.484)\tLoss 1.4819e+00 (1.3152e+00)\tAcc   0.41 (  0.47)\tF1   0.37 (  0.45)\n",
      "Epoch: [6][40/57]\tTime  9.644 ( 2.667)\tData  9.499 ( 2.573)\tLoss 1.2906e+00 (1.3366e+00)\tAcc   0.44 (  0.46)\tF1   0.41 (  0.44)\n",
      "Epoch: [6][50/57]\tTime  0.220 ( 2.579)\tData  0.114 ( 2.469)\tLoss 1.5003e+00 (1.3621e+00)\tAcc   0.38 (  0.44)\tF1   0.37 (  0.42)\n",
      "Val: [ 0/57]\tTime 11.008 (11.008)\tLoss 1.4669e+00 (1.4669e+00)\tAcc   0.44 (  0.44)\tF1   0.38 (  0.38)\n",
      "Val: [10/57]\tTime  0.107 ( 2.753)\tLoss 1.3742e+00 (1.6175e+00)\tAcc   0.47 (  0.36)\tF1   0.40 (  0.27)\n",
      "Val: [20/57]\tTime 10.018 ( 2.850)\tLoss 2.1176e+00 (1.6751e+00)\tAcc   0.28 (  0.34)\tF1   0.16 (  0.26)\n",
      "Val: [30/57]\tTime  0.017 ( 2.574)\tLoss 2.0998e+00 (1.6829e+00)\tAcc   0.28 (  0.35)\tF1   0.16 (  0.26)\n",
      "Val: [40/57]\tTime  9.620 ( 2.661)\tLoss 1.4550e+00 (1.6833e+00)\tAcc   0.44 (  0.34)\tF1   0.40 (  0.25)\n",
      "Val: [50/57]\tTime  0.019 ( 2.522)\tLoss 1.7978e+00 (1.6882e+00)\tAcc   0.31 (  0.34)\tF1   0.21 (  0.24)\n",
      "Epoch     7: reducing learning rate of group 0 to 3.0000e-04.\n",
      "Epoch: [7][ 0/57]\tTime 11.304 (11.304)\tData 11.185 (11.185)\tLoss 1.0791e+00 (1.0791e+00)\tAcc   0.56 (  0.56)\tF1   0.50 (  0.50)\n",
      "Epoch: [7][10/57]\tTime  0.138 ( 2.850)\tData  0.003 ( 2.750)\tLoss 1.2761e+00 (1.2930e+00)\tAcc   0.50 (  0.47)\tF1   0.48 (  0.45)\n",
      "Epoch: [7][20/57]\tTime 10.081 ( 2.925)\tData  9.963 ( 2.825)\tLoss 1.5412e+00 (1.3050e+00)\tAcc   0.34 (  0.45)\tF1   0.32 (  0.43)\n",
      "Epoch: [7][30/57]\tTime  0.102 ( 2.840)\tData  0.003 ( 2.739)\tLoss 1.4556e+00 (1.2928e+00)\tAcc   0.38 (  0.46)\tF1   0.33 (  0.43)\n",
      "Epoch: [7][40/57]\tTime  9.797 ( 3.169)\tData  9.690 ( 3.035)\tLoss 1.4998e+00 (1.2991e+00)\tAcc   0.41 (  0.46)\tF1   0.40 (  0.44)\n",
      "Epoch: [7][50/57]\tTime  0.129 ( 3.089)\tData  0.009 ( 2.960)\tLoss 1.1399e+00 (1.3069e+00)\tAcc   0.47 (  0.46)\tF1   0.49 (  0.44)\n",
      "Val: [ 0/57]\tTime 10.988 (10.988)\tLoss 1.0496e+00 (1.0496e+00)\tAcc   0.62 (  0.62)\tF1   0.60 (  0.60)\n",
      "Val: [10/57]\tTime  0.007 ( 2.747)\tLoss 1.2682e+00 (1.2294e+00)\tAcc   0.44 (  0.53)\tF1   0.43 (  0.51)\n",
      "Val: [20/57]\tTime  9.776 ( 2.841)\tLoss 1.4307e+00 (1.2752e+00)\tAcc   0.38 (  0.50)\tF1   0.33 (  0.48)\n",
      "Val: [30/57]\tTime  0.018 ( 2.565)\tLoss 1.4460e+00 (1.2845e+00)\tAcc   0.31 (  0.48)\tF1   0.27 (  0.46)\n",
      "Val: [40/57]\tTime  9.384 ( 2.654)\tLoss 1.1523e+00 (1.2845e+00)\tAcc   0.56 (  0.48)\tF1   0.54 (  0.47)\n",
      "Val: [50/57]\tTime  0.016 ( 2.726)\tLoss 1.3415e+00 (1.2829e+00)\tAcc   0.38 (  0.49)\tF1   0.34 (  0.47)\n",
      "Epoch: [8][ 0/57]\tTime 11.919 (11.919)\tData 11.824 (11.824)\tLoss 1.1814e+00 (1.1814e+00)\tAcc   0.53 (  0.53)\tF1   0.52 (  0.52)\n",
      "Epoch: [8][10/57]\tTime  0.175 ( 3.221)\tData  0.003 ( 3.116)\tLoss 1.2567e+00 (1.3102e+00)\tAcc   0.53 (  0.46)\tF1   0.54 (  0.45)\n",
      "Epoch: [8][20/57]\tTime 15.233 ( 3.786)\tData 15.102 ( 3.676)\tLoss 1.2510e+00 (1.2661e+00)\tAcc   0.41 (  0.48)\tF1   0.41 (  0.47)\n",
      "Epoch: [8][30/57]\tTime  0.135 ( 3.535)\tData  0.005 ( 3.422)\tLoss 1.2479e+00 (1.2816e+00)\tAcc   0.47 (  0.48)\tF1   0.50 (  0.47)\n",
      "Epoch: [8][40/57]\tTime  9.595 ( 3.415)\tData  9.442 ( 3.301)\tLoss 1.1508e+00 (1.2758e+00)\tAcc   0.47 (  0.48)\tF1   0.44 (  0.47)\n",
      "Epoch: [8][50/57]\tTime  0.072 ( 3.143)\tData  0.002 ( 3.033)\tLoss 1.2468e+00 (1.2767e+00)\tAcc   0.47 (  0.47)\tF1   0.50 (  0.46)\n",
      "Val: [ 0/57]\tTime 11.136 (11.136)\tLoss 1.1445e+00 (1.1445e+00)\tAcc   0.59 (  0.59)\tF1   0.57 (  0.57)\n",
      "Val: [10/57]\tTime  0.012 ( 2.764)\tLoss 1.2200e+00 (1.2174e+00)\tAcc   0.50 (  0.51)\tF1   0.50 (  0.50)\n",
      "Val: [20/57]\tTime  9.790 ( 2.856)\tLoss 1.4590e+00 (1.2532e+00)\tAcc   0.38 (  0.49)\tF1   0.36 (  0.48)\n",
      "Val: [30/57]\tTime  0.018 ( 2.572)\tLoss 1.4913e+00 (1.2703e+00)\tAcc   0.38 (  0.49)\tF1   0.38 (  0.48)\n",
      "Val: [40/57]\tTime  9.579 ( 2.655)\tLoss 1.1485e+00 (1.2768e+00)\tAcc   0.56 (  0.48)\tF1   0.53 (  0.47)\n",
      "Val: [50/57]\tTime  0.019 ( 2.523)\tLoss 1.4326e+00 (1.2851e+00)\tAcc   0.38 (  0.48)\tF1   0.36 (  0.47)\n",
      "Epoch: [9][ 0/57]\tTime 11.566 (11.566)\tData 11.451 (11.451)\tLoss 1.4077e+00 (1.4077e+00)\tAcc   0.31 (  0.31)\tF1   0.32 (  0.32)\n",
      "Epoch: [9][10/57]\tTime  0.093 ( 2.904)\tData  0.003 ( 2.813)\tLoss 1.2747e+00 (1.3323e+00)\tAcc   0.53 (  0.44)\tF1   0.57 (  0.44)\n",
      "Epoch: [9][20/57]\tTime  9.942 ( 2.941)\tData  9.848 ( 2.853)\tLoss 1.3647e+00 (1.2770e+00)\tAcc   0.44 (  0.49)\tF1   0.43 (  0.48)\n",
      "Epoch: [9][30/57]\tTime  0.093 ( 2.630)\tData  0.005 ( 2.544)\tLoss 1.3062e+00 (1.2930e+00)\tAcc   0.31 (  0.47)\tF1   0.29 (  0.46)\n",
      "Epoch: [9][40/57]\tTime  9.524 ( 2.696)\tData  9.442 ( 2.612)\tLoss 1.1471e+00 (1.2722e+00)\tAcc   0.53 (  0.49)\tF1   0.51 (  0.48)\n",
      "Epoch: [9][50/57]\tTime  0.294 ( 2.558)\tData  0.213 ( 2.473)\tLoss 9.4783e-01 (1.2507e+00)\tAcc   0.66 (  0.49)\tF1   0.63 (  0.48)\n",
      "Val: [ 0/57]\tTime 11.318 (11.318)\tLoss 9.8685e-01 (9.8685e-01)\tAcc   0.59 (  0.59)\tF1   0.56 (  0.56)\n",
      "Val: [10/57]\tTime  0.016 ( 2.780)\tLoss 1.2070e+00 (1.2005e+00)\tAcc   0.50 (  0.51)\tF1   0.49 (  0.50)\n",
      "Val: [20/57]\tTime  9.876 ( 2.862)\tLoss 1.4015e+00 (1.2238e+00)\tAcc   0.44 (  0.49)\tF1   0.45 (  0.48)\n",
      "Val: [30/57]\tTime  0.015 ( 2.579)\tLoss 1.4167e+00 (1.2437e+00)\tAcc   0.38 (  0.48)\tF1   0.37 (  0.47)\n",
      "Val: [40/57]\tTime 10.098 ( 2.678)\tLoss 1.1101e+00 (1.2579e+00)\tAcc   0.56 (  0.47)\tF1   0.52 (  0.46)\n",
      "Val: [50/57]\tTime  0.017 ( 2.546)\tLoss 1.2532e+00 (1.2648e+00)\tAcc   0.41 (  0.47)\tF1   0.37 (  0.46)\n"
     ]
    }
   ],
   "source": [
    "train_model(model, optimizer, scheduler, criterion, train_dataloader, val_dataloader, opt, target_metric='f1_avg', best_target_metric=-np.inf)"
   ]
  },
  {
   "cell_type": "markdown",
   "metadata": {},
   "source": [
    "## Model performance metrics"
   ]
  },
  {
   "cell_type": "code",
   "execution_count": 12,
   "metadata": {},
   "outputs": [],
   "source": [
    "from sklearn.metrics import ConfusionMatrixDisplay"
   ]
  },
  {
   "cell_type": "code",
   "execution_count": 13,
   "metadata": {},
   "outputs": [
    {
     "data": {
      "text/plain": [
       "<All keys matched successfully>"
      ]
     },
     "execution_count": 13,
     "metadata": {},
     "output_type": "execute_result"
    }
   ],
   "source": [
    "model = FlowersFcModel(\n",
    "    in_features=in_features, hidden_dim=hidden_dim, num_classes=num_classes\n",
    ").to(opt.device)\n",
    "\n",
    "last_state = torch.load(str(opt.path_to_models / f'{model.__class__.__name__}_model_best.pth'))\n",
    "model.load_state_dict(last_state['state_dict'])"
   ]
  },
  {
   "cell_type": "code",
   "execution_count": 14,
   "metadata": {},
   "outputs": [
    {
     "name": "stderr",
     "output_type": "stream",
     "text": [
      "batch loop: 100%|██████████| 57/57 [02:43<00:00,  2.87s/it]"
     ]
    },
    {
     "name": "stdout",
     "output_type": "stream",
     "text": [
      "Accuracy: 0.467\n",
      "F1: 0.451\n",
      "Precision: 0.47\n",
      "Recall: 0.467\n"
     ]
    },
    {
     "name": "stderr",
     "output_type": "stream",
     "text": [
      "\n"
     ]
    }
   ],
   "source": [
    "acc_metric, f1_metric, precision_metric, recall_metric, conf_matrix = get_val_metrics(val_dataloader, model, opt.device)\n",
    "print(f'Accuracy: {acc_metric:.3}')\n",
    "print(f'F1: {f1_metric:.3}')\n",
    "print(f'Precision: {precision_metric:.3}')\n",
    "print(f'Recall: {recall_metric:.3}')"
   ]
  },
  {
   "cell_type": "code",
   "execution_count": 15,
   "metadata": {},
   "outputs": [
    {
     "data": {
      "image/png": "[encoded data removed]",
      "text/plain": [
       "<Figure size 1152x648 with 2 Axes>"
      ]
     },
     "metadata": {},
     "output_type": "display_data"
    }
   ],
   "source": [
    "disp = ConfusionMatrixDisplay(\n",
    "    confusion_matrix=conf_matrix / conf_matrix.astype('float').sum(axis=1, keepdims=True),\n",
    ")\n",
    "disp.plot(xticks_rotation='vertical', values_format='.2f');"
   ]
  },
  {
   "cell_type": "markdown",
   "metadata": {},
   "source": [
    "## Inference"
   ]
  },
  {
   "cell_type": "code",
   "execution_count": 16,
   "metadata": {},
   "outputs": [],
   "source": [
    "from utils.loops import infer_folder, infer_one_file"
   ]
  },
  {
   "cell_type": "code",
   "execution_count": 17,
   "metadata": {},
   "outputs": [
    {
     "data": {
      "text/plain": [
       "0"
      ]
     },
     "execution_count": 17,
     "metadata": {},
     "output_type": "execute_result"
    }
   ],
   "source": [
    "image_path = '../data/daisy/10712722853_5632165b04.jpg'\n",
    "infer_one_file(\n",
    "    image_path, model, opt.device, transform=val_transformations_without_norm,\n",
    "    use_descriptors_as_features=opt.use_descriptors_as_features, features_type=opt.features_type\n",
    ")"
   ]
  },
  {
   "cell_type": "code",
   "execution_count": 18,
   "metadata": {},
   "outputs": [
    {
     "data": {
      "text/plain": [
       "[('../data/daisy/14167534527_781ceb1b7a_n.jpg', 4),\n",
       " ('../data/daisy/476857510_d2b30175de_n.jpg', 0),\n",
       " ('../data/daisy/521762040_f26f2e08dd.jpg', 0),\n",
       " ('../data/daisy/7320089276_87b544e341.jpg', 1),\n",
       " ('../data/daisy/721595842_bacd80a6ac.jpg', 2)]"
      ]
     },
     "execution_count": 18,
     "metadata": {},
     "output_type": "execute_result"
    }
   ],
   "source": [
    "folder_path = '../data/daisy'\n",
    "result = infer_folder(\n",
    "    folder_path, model, opt.device, image_ext='jpg',\n",
    "    transform=val_transformations_without_norm,\n",
    "    use_descriptors_as_features=opt.use_descriptors_as_features,\n",
    "    features_type=opt.features_type\n",
    ")\n",
    "result[:5]"
   ]
  },
  {
   "cell_type": "code",
   "execution_count": null,
   "metadata": {},
   "outputs": [],
   "source": []
  }
 ],
 "metadata": {
  "interpreter": {
   "hash": "c6e4e9f98eb68ad3b7c296f83d20e6de614cb42e90992a65aa266555a3137d0d"
  },
  "kernelspec": {
   "display_name": "Python 3.9.7 ('base')",
   "language": "python",
   "name": "python3"
  },
  "language_info": {
   "codemirror_mode": {
    "name": "ipython",
    "version": 3
   },
   "file_extension": ".py",
   "mimetype": "text/x-python",
   "name": "python",
   "nbconvert_exporter": "python",
   "pygments_lexer": "ipython3",
   "version": "3.9.7"
  },
  "orig_nbformat": 4
 },
 "nbformat": 4,
 "nbformat_minor": 2
}
