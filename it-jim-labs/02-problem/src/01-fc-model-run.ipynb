{
 "cells": [
  {
   "cell_type": "markdown",
   "metadata": {},
   "source": [
    "## Import packages"
   ]
  },
  {
   "cell_type": "code",
   "execution_count": 1,
   "metadata": {},
   "outputs": [],
   "source": [
    "\n",
    "import numpy as np\n",
    "import torch\n",
    "from torch.utils.data import DataLoader\n",
    "from torch.optim.lr_scheduler import ReduceLROnPlateau\n",
    "from torchsummary import summary\n",
    "\n",
    "import matplotlib.pyplot as plt\n",
    "plt.rcParams[\"figure.figsize\"] = (16, 9)"
   ]
  },
  {
   "cell_type": "code",
   "execution_count": 2,
   "metadata": {},
   "outputs": [],
   "source": [
    "from config import opt\n",
    "from models import FlowersFcModel\n",
    "from utils import train_model, get_val_metrics, get_images_paths, get_train_test_split, show_tensor_images, init_seeds\n",
    "from datasets import FlowersDataset\n",
    "from datasets.preprocessing import train_transformations_without_norm, val_transformations_without_norm"
   ]
  },
  {
   "cell_type": "code",
   "execution_count": 3,
   "metadata": {},
   "outputs": [],
   "source": [
    "init_seeds(opt.seed)"
   ]
  },
  {
   "cell_type": "markdown",
   "metadata": {},
   "source": [
    "## Prepare dataset"
   ]
  },
  {
   "cell_type": "code",
   "execution_count": 4,
   "metadata": {},
   "outputs": [],
   "source": [
    "num_classes = len(set(opt.idx_to_class.keys()))"
   ]
  },
  {
   "cell_type": "code",
   "execution_count": 5,
   "metadata": {},
   "outputs": [],
   "source": [
    "data_df = get_images_paths(opt=opt)\n",
    "train_df, val_df = get_train_test_split(df=data_df, opt=opt)"
   ]
  },
  {
   "cell_type": "code",
   "execution_count": 6,
   "metadata": {},
   "outputs": [
    {
     "data": {
      "text/plain": [
       "4    602\n",
       "0    518\n",
       "2    472\n",
       "3    420\n",
       "1    239\n",
       "Name: label, dtype: int64"
      ]
     },
     "execution_count": 6,
     "metadata": {},
     "output_type": "execute_result"
    }
   ],
   "source": [
    "data_df.label.value_counts()"
   ]
  },
  {
   "cell_type": "code",
   "execution_count": 7,
   "metadata": {},
   "outputs": [],
   "source": [
    "train_dataset = FlowersDataset(\n",
    "    img_paths=train_df['path'].values.copy(),\n",
    "    labels=train_df['label'].values.copy(),\n",
    "    num_classes=num_classes,\n",
    "    transform=train_transformations_without_norm,\n",
    "    use_descriptors_as_features=opt.use_descriptors_as_features,\n",
    "    features_type=opt.features_type,\n",
    ")\n",
    "\n",
    "train_dataloader = DataLoader(\n",
    "    train_dataset,\n",
    "    batch_size=opt.batch_size,\n",
    "    shuffle=True,\n",
    "    num_workers=opt.num_workers,\n",
    "    pin_memory=opt.pin_memory,\n",
    ")\n",
    "\n",
    "val_dataset = FlowersDataset(\n",
    "    img_paths=val_df['path'].values.copy(),\n",
    "    labels=val_df['label'].values.copy(),\n",
    "    num_classes=num_classes,\n",
    "    transform=val_transformations_without_norm,\n",
    "    use_descriptors_as_features=opt.use_descriptors_as_features,\n",
    "    features_type=opt.features_type,\n",
    ")\n",
    "\n",
    "val_dataloader = DataLoader(\n",
    "    train_dataset,\n",
    "    batch_size=opt.batch_size,\n",
    "    shuffle=False,\n",
    "    num_workers=opt.num_workers,\n",
    "    pin_memory=opt.pin_memory,\n",
    ")"
   ]
  },
  {
   "cell_type": "markdown",
   "metadata": {},
   "source": [
    "## Training"
   ]
  },
  {
   "cell_type": "code",
   "execution_count": 8,
   "metadata": {},
   "outputs": [
    {
     "data": {
      "text/plain": [
       "torch.Size([32, 1542])"
      ]
     },
     "execution_count": 8,
     "metadata": {},
     "output_type": "execute_result"
    }
   ],
   "source": [
    "next(iter(val_dataloader))['image'].shape"
   ]
  },
  {
   "cell_type": "code",
   "execution_count": 9,
   "metadata": {},
   "outputs": [],
   "source": [
    "in_features = 1542\n",
    "hidden_dim = in_features  # // 2\n",
    "model = FlowersFcModel(\n",
    "    in_features=in_features, hidden_dim=hidden_dim, num_classes=num_classes\n",
    ").to(opt.device)\n",
    "# model.freeze_middle_layers()\n",
    "\n",
    "criterion = torch.nn.CrossEntropyLoss()\n",
    "optimizer = torch.optim.Adam(filter(lambda p: p.requires_grad, model.parameters()), lr=opt.lr)\n",
    "scheduler = ReduceLROnPlateau(optimizer, mode='min', patience=2, factor=0.1, verbose=True)"
   ]
  },
  {
   "cell_type": "code",
   "execution_count": 10,
   "metadata": {},
   "outputs": [
    {
     "name": "stdout",
     "output_type": "stream",
     "text": [
      "----------------------------------------------------------------\n",
      "        Layer (type)               Output Shape         Param #\n",
      "================================================================\n",
      "            Linear-1                 [32, 3084]       4,758,612\n",
      "              ReLU-2                 [32, 3084]               0\n",
      "       BatchNorm1d-3                 [32, 3084]           6,168\n",
      "           Dropout-4                 [32, 3084]               0\n",
      "            Linear-5                 [32, 3084]       9,514,140\n",
      "              ReLU-6                 [32, 3084]               0\n",
      "       BatchNorm1d-7                 [32, 3084]           6,168\n",
      "           Dropout-8                 [32, 3084]               0\n",
      "            Linear-9                  [32, 192]         592,320\n",
      "             ReLU-10                  [32, 192]               0\n",
      "      BatchNorm1d-11                  [32, 192]             384\n",
      "           Linear-12                    [32, 5]             965\n",
      "================================================================\n",
      "Total params: 14,878,757\n",
      "Trainable params: 14,878,757\n",
      "Non-trainable params: 0\n",
      "----------------------------------------------------------------\n",
      "Input size (MB): 0.19\n",
      "Forward/backward pass size (MB): 6.17\n",
      "Params size (MB): 56.76\n",
      "Estimated Total Size (MB): 63.11\n",
      "----------------------------------------------------------------\n"
     ]
    }
   ],
   "source": [
    "summary(model, input_size=(in_features, ), batch_size=opt.batch_size)"
   ]
  },
  {
   "cell_type": "code",
   "execution_count": 11,
   "metadata": {},
   "outputs": [
    {
     "name": "stdout",
     "output_type": "stream",
     "text": [
      "Epoch: [0][ 0/57]\tTime 12.746 (12.746)\tData 12.006 (12.006)\tLoss 1.9226e+00 (1.9226e+00)\tAcc   0.16 (  0.16)\tF1   0.17 (  0.17)\n",
      "Epoch: [0][10/57]\tTime  0.441 ( 3.357)\tData  0.005 ( 2.699)\tLoss 1.4868e+00 (1.7631e+00)\tAcc   0.41 (  0.22)\tF1   0.39 (  0.21)\n",
      "Epoch: [0][20/57]\tTime  9.646 ( 3.304)\tData  8.864 ( 2.687)\tLoss 1.4756e+00 (1.6796e+00)\tAcc   0.34 (  0.27)\tF1   0.31 (  0.26)\n",
      "Epoch: [0][30/57]\tTime  0.553 ( 3.012)\tData  0.005 ( 2.407)\tLoss 1.6392e+00 (1.6499e+00)\tAcc   0.28 (  0.28)\tF1   0.27 (  0.27)\n",
      "Epoch: [0][40/57]\tTime 10.022 ( 3.080)\tData  9.370 ( 2.487)\tLoss 1.5187e+00 (1.6237e+00)\tAcc   0.31 (  0.29)\tF1   0.26 (  0.28)\n",
      "Epoch: [0][50/57]\tTime  3.986 ( 3.238)\tData  0.071 ( 2.474)\tLoss 1.5644e+00 (1.6066e+00)\tAcc   0.28 (  0.30)\tF1   0.21 (  0.28)\n",
      "Val: [ 0/57]\tTime 11.524 (11.524)\tLoss 1.6060e+00 (1.6060e+00)\tAcc   0.09 (  0.09)\tF1   0.06 (  0.06)\n",
      "Val: [10/57]\tTime  0.275 ( 2.929)\tLoss 1.5990e+00 (1.5767e+00)\tAcc   0.09 (  0.21)\tF1   0.06 (  0.11)\n",
      "Val: [20/57]\tTime  9.549 ( 3.034)\tLoss 1.5966e+00 (1.5829e+00)\tAcc   0.16 (  0.21)\tF1   0.04 (  0.10)\n",
      "Val: [30/57]\tTime  0.057 ( 2.749)\tLoss 1.5922e+00 (1.5864e+00)\tAcc   0.22 (  0.21)\tF1   0.08 (  0.10)\n",
      "Val: [40/57]\tTime  9.475 ( 2.829)\tLoss 1.5766e+00 (1.5810e+00)\tAcc   0.19 (  0.22)\tF1   0.06 (  0.11)\n",
      "Val: [50/57]\tTime  0.425 ( 2.704)\tLoss 1.5934e+00 (1.5842e+00)\tAcc   0.22 (  0.21)\tF1   0.08 (  0.10)\n",
      "Epoch: [1][ 0/57]\tTime 11.569 (11.569)\tData 10.981 (10.981)\tLoss 1.4191e+00 (1.4191e+00)\tAcc   0.31 (  0.31)\tF1   0.30 (  0.30)\n",
      "Epoch: [1][10/57]\tTime  0.349 ( 3.123)\tData  0.004 ( 2.577)\tLoss 1.5780e+00 (1.4952e+00)\tAcc   0.31 (  0.36)\tF1   0.27 (  0.35)\n",
      "Epoch: [1][20/57]\tTime  9.666 ( 3.176)\tData  8.985 ( 2.650)\tLoss 1.4737e+00 (1.4761e+00)\tAcc   0.38 (  0.37)\tF1   0.38 (  0.36)\n",
      "Epoch: [1][30/57]\tTime  0.744 ( 2.911)\tData  0.004 ( 2.379)\tLoss 1.3060e+00 (1.4805e+00)\tAcc   0.47 (  0.37)\tF1   0.46 (  0.36)\n",
      "Epoch: [1][40/57]\tTime 10.175 ( 3.017)\tData  9.210 ( 2.468)\tLoss 1.1888e+00 (1.4800e+00)\tAcc   0.56 (  0.37)\tF1   0.55 (  0.36)\n",
      "Epoch: [1][50/57]\tTime  0.462 ( 2.902)\tData  0.003 ( 2.334)\tLoss 1.3300e+00 (1.4737e+00)\tAcc   0.38 (  0.37)\tF1   0.39 (  0.36)\n",
      "Val: [ 0/57]\tTime 11.781 (11.781)\tLoss 1.3161e+00 (1.3161e+00)\tAcc   0.50 (  0.50)\tF1   0.47 (  0.47)\n",
      "Val: [10/57]\tTime  0.139 ( 3.073)\tLoss 1.6426e+00 (1.5342e+00)\tAcc   0.34 (  0.36)\tF1   0.29 (  0.33)\n",
      "Val: [20/57]\tTime  9.279 ( 3.082)\tLoss 1.7287e+00 (1.5464e+00)\tAcc   0.22 (  0.36)\tF1   0.18 (  0.33)\n",
      "Val: [30/57]\tTime  0.365 ( 2.782)\tLoss 1.7117e+00 (1.5822e+00)\tAcc   0.25 (  0.34)\tF1   0.17 (  0.30)\n",
      "Val: [40/57]\tTime  9.712 ( 2.860)\tLoss 1.4532e+00 (1.5843e+00)\tAcc   0.38 (  0.34)\tF1   0.33 (  0.30)\n",
      "Val: [50/57]\tTime  0.388 ( 2.735)\tLoss 1.6911e+00 (1.5960e+00)\tAcc   0.22 (  0.32)\tF1   0.17 (  0.28)\n",
      "Epoch: [2][ 0/57]\tTime 11.832 (11.832)\tData 11.217 (11.217)\tLoss 1.5046e+00 (1.5046e+00)\tAcc   0.31 (  0.31)\tF1   0.28 (  0.28)\n",
      "Epoch: [2][10/57]\tTime  0.624 ( 3.185)\tData  0.003 ( 2.592)\tLoss 1.2670e+00 (1.4455e+00)\tAcc   0.41 (  0.37)\tF1   0.39 (  0.34)\n",
      "Epoch: [2][20/57]\tTime  9.520 ( 3.248)\tData  9.108 ( 2.653)\tLoss 1.4506e+00 (1.4323e+00)\tAcc   0.34 (  0.38)\tF1   0.27 (  0.35)\n",
      "Epoch: [2][30/57]\tTime  0.198 ( 2.968)\tData  0.004 ( 2.380)\tLoss 1.3905e+00 (1.4067e+00)\tAcc   0.44 (  0.39)\tF1   0.43 (  0.37)\n",
      "Epoch: [2][40/57]\tTime  9.607 ( 3.026)\tData  8.993 ( 2.468)\tLoss 1.3412e+00 (1.4249e+00)\tAcc   0.41 (  0.39)\tF1   0.41 (  0.36)\n",
      "Epoch: [2][50/57]\tTime  0.395 ( 2.887)\tData  0.004 ( 2.335)\tLoss 1.2967e+00 (1.4225e+00)\tAcc   0.47 (  0.39)\tF1   0.44 (  0.37)\n",
      "Val: [ 0/57]\tTime 11.283 (11.283)\tLoss 1.3221e+00 (1.3221e+00)\tAcc   0.50 (  0.50)\tF1   0.48 (  0.48)\n",
      "Val: [10/57]\tTime  0.334 ( 2.968)\tLoss 1.5017e+00 (1.4578e+00)\tAcc   0.38 (  0.35)\tF1   0.37 (  0.30)\n",
      "Val: [20/57]\tTime  9.932 ( 3.028)\tLoss 1.8089e+00 (1.4885e+00)\tAcc   0.19 (  0.33)\tF1   0.14 (  0.29)\n",
      "Val: [30/57]\tTime  0.178 ( 2.737)\tLoss 1.6318e+00 (1.4957e+00)\tAcc   0.31 (  0.34)\tF1   0.24 (  0.29)\n",
      "Val: [40/57]\tTime  9.491 ( 2.833)\tLoss 1.3483e+00 (1.5103e+00)\tAcc   0.50 (  0.34)\tF1   0.45 (  0.29)\n",
      "Val: [50/57]\tTime  0.373 ( 2.717)\tLoss 1.7397e+00 (1.5170e+00)\tAcc   0.25 (  0.34)\tF1   0.16 (  0.29)\n",
      "Epoch: [3][ 0/57]\tTime 11.387 (11.387)\tData 10.683 (10.683)\tLoss 1.5948e+00 (1.5948e+00)\tAcc   0.47 (  0.47)\tF1   0.46 (  0.46)\n",
      "Epoch: [3][10/57]\tTime  0.210 ( 3.013)\tData  0.003 ( 2.483)\tLoss 1.5961e+00 (1.4270e+00)\tAcc   0.38 (  0.41)\tF1   0.36 (  0.40)\n",
      "Epoch: [3][20/57]\tTime  9.190 ( 3.024)\tData  8.601 ( 2.520)\tLoss 1.7050e+00 (1.4547e+00)\tAcc   0.31 (  0.39)\tF1   0.26 (  0.38)\n",
      "Epoch: [3][30/57]\tTime  0.530 ( 2.736)\tData  0.245 ( 2.268)\tLoss 1.5211e+00 (1.4359e+00)\tAcc   0.41 (  0.41)\tF1   0.41 (  0.39)\n",
      "Epoch: [3][40/57]\tTime  8.564 ( 2.819)\tData  7.938 ( 2.330)\tLoss 1.6428e+00 (1.4330e+00)\tAcc   0.22 (  0.41)\tF1   0.21 (  0.39)\n",
      "Epoch: [3][50/57]\tTime  0.472 ( 2.695)\tData  0.226 ( 2.212)\tLoss 1.4525e+00 (1.4297e+00)\tAcc   0.44 (  0.41)\tF1   0.45 (  0.39)\n",
      "Val: [ 0/57]\tTime 11.134 (11.134)\tLoss 1.3718e+00 (1.3718e+00)\tAcc   0.47 (  0.47)\tF1   0.43 (  0.43)\n",
      "Val: [10/57]\tTime  0.198 ( 2.915)\tLoss 1.4901e+00 (1.4466e+00)\tAcc   0.50 (  0.40)\tF1   0.40 (  0.31)\n",
      "Val: [20/57]\tTime  9.417 ( 2.914)\tLoss 1.6648e+00 (1.4629e+00)\tAcc   0.25 (  0.38)\tF1   0.14 (  0.29)\n",
      "Val: [30/57]\tTime  0.327 ( 2.657)\tLoss 1.7898e+00 (1.4964e+00)\tAcc   0.12 (  0.35)\tF1   0.07 (  0.27)\n",
      "Val: [40/57]\tTime  9.116 ( 2.720)\tLoss 1.2585e+00 (1.5034e+00)\tAcc   0.50 (  0.35)\tF1   0.44 (  0.26)\n",
      "Val: [50/57]\tTime  0.344 ( 2.607)\tLoss 1.6669e+00 (1.5093e+00)\tAcc   0.31 (  0.35)\tF1   0.26 (  0.27)\n",
      "Epoch: [4][ 0/57]\tTime 11.476 (11.476)\tData 10.903 (10.903)\tLoss 1.3301e+00 (1.3301e+00)\tAcc   0.47 (  0.47)\tF1   0.47 (  0.47)\n",
      "Epoch: [4][10/57]\tTime  0.330 ( 3.005)\tData  0.003 ( 2.580)\tLoss 1.5267e+00 (1.3723e+00)\tAcc   0.28 (  0.42)\tF1   0.24 (  0.39)\n",
      "Epoch: [4][20/57]\tTime  9.453 ( 3.083)\tData  8.739 ( 2.598)\tLoss 1.6401e+00 (1.3772e+00)\tAcc   0.25 (  0.42)\tF1   0.24 (  0.39)\n",
      "Epoch: [4][30/57]\tTime  0.356 ( 2.801)\tData  0.003 ( 2.325)\tLoss 1.1815e+00 (1.3902e+00)\tAcc   0.53 (  0.42)\tF1   0.51 (  0.40)\n",
      "Epoch: [4][40/57]\tTime  8.827 ( 2.867)\tData  8.204 ( 2.376)\tLoss 1.2181e+00 (1.3960e+00)\tAcc   0.56 (  0.42)\tF1   0.54 (  0.41)\n",
      "Epoch: [4][50/57]\tTime  0.563 ( 2.741)\tData  0.003 ( 2.242)\tLoss 1.6928e+00 (1.4039e+00)\tAcc   0.22 (  0.42)\tF1   0.21 (  0.41)\n",
      "Val: [ 0/57]\tTime 11.227 (11.227)\tLoss 1.3614e+00 (1.3614e+00)\tAcc   0.50 (  0.50)\tF1   0.50 (  0.50)\n",
      "Val: [10/57]\tTime  0.268 ( 2.921)\tLoss 1.3284e+00 (1.4049e+00)\tAcc   0.50 (  0.40)\tF1   0.48 (  0.39)\n",
      "Val: [20/57]\tTime  9.331 ( 2.939)\tLoss 1.4945e+00 (1.4214e+00)\tAcc   0.31 (  0.40)\tF1   0.30 (  0.40)\n",
      "Val: [30/57]\tTime  0.403 ( 2.684)\tLoss 1.4457e+00 (1.4328e+00)\tAcc   0.38 (  0.38)\tF1   0.34 (  0.38)\n",
      "Val: [40/57]\tTime  9.410 ( 2.748)\tLoss 1.2701e+00 (1.4388e+00)\tAcc   0.47 (  0.38)\tF1   0.47 (  0.38)\n",
      "Val: [50/57]\tTime  0.215 ( 2.615)\tLoss 1.4403e+00 (1.4392e+00)\tAcc   0.28 (  0.38)\tF1   0.30 (  0.37)\n",
      "Epoch: [5][ 0/57]\tTime 11.299 (11.299)\tData 10.787 (10.787)\tLoss 1.2847e+00 (1.2847e+00)\tAcc   0.41 (  0.41)\tF1   0.43 (  0.43)\n",
      "Epoch: [5][10/57]\tTime  0.333 ( 2.966)\tData  0.003 ( 2.561)\tLoss 1.4211e+00 (1.3727e+00)\tAcc   0.38 (  0.42)\tF1   0.38 (  0.41)\n",
      "Epoch: [5][20/57]\tTime  9.223 ( 3.027)\tData  8.558 ( 2.566)\tLoss 1.2982e+00 (1.3463e+00)\tAcc   0.47 (  0.45)\tF1   0.46 (  0.44)\n",
      "Epoch: [5][30/57]\tTime  0.223 ( 2.760)\tData  0.003 ( 2.293)\tLoss 1.2427e+00 (1.3779e+00)\tAcc   0.59 (  0.44)\tF1   0.60 (  0.43)\n",
      "Epoch: [5][40/57]\tTime  8.883 ( 2.844)\tData  8.336 ( 2.353)\tLoss 1.6159e+00 (1.3831e+00)\tAcc   0.34 (  0.43)\tF1   0.32 (  0.42)\n",
      "Epoch: [5][50/57]\tTime  0.644 ( 2.749)\tData  0.004 ( 2.237)\tLoss 1.4030e+00 (1.3858e+00)\tAcc   0.44 (  0.43)\tF1   0.42 (  0.41)\n",
      "Val: [ 0/57]\tTime 11.298 (11.298)\tLoss 1.3376e+00 (1.3376e+00)\tAcc   0.53 (  0.53)\tF1   0.52 (  0.52)\n",
      "Val: [10/57]\tTime  0.402 ( 2.953)\tLoss 1.1188e+00 (1.3139e+00)\tAcc   0.62 (  0.47)\tF1   0.58 (  0.43)\n",
      "Val: [20/57]\tTime  9.129 ( 2.977)\tLoss 1.4760e+00 (1.3540e+00)\tAcc   0.44 (  0.45)\tF1   0.43 (  0.41)\n",
      "Val: [30/57]\tTime  0.399 ( 2.698)\tLoss 1.5099e+00 (1.3684e+00)\tAcc   0.44 (  0.43)\tF1   0.41 (  0.40)\n",
      "Val: [40/57]\tTime  9.361 ( 2.775)\tLoss 1.1764e+00 (1.3742e+00)\tAcc   0.53 (  0.44)\tF1   0.49 (  0.40)\n",
      "Val: [50/57]\tTime  0.395 ( 2.659)\tLoss 1.6392e+00 (1.3761e+00)\tAcc   0.41 (  0.44)\tF1   0.33 (  0.40)\n",
      "Epoch: [6][ 0/57]\tTime 11.709 (11.709)\tData 10.951 (10.951)\tLoss 1.2984e+00 (1.2984e+00)\tAcc   0.38 (  0.38)\tF1   0.36 (  0.36)\n",
      "Epoch: [6][10/57]\tTime  0.646 ( 3.148)\tData  0.005 ( 2.571)\tLoss 1.4400e+00 (1.3061e+00)\tAcc   0.38 (  0.46)\tF1   0.35 (  0.44)\n",
      "Epoch: [6][20/57]\tTime  9.204 ( 3.162)\tData  8.686 ( 2.582)\tLoss 1.5588e+00 (1.3243e+00)\tAcc   0.41 (  0.47)\tF1   0.39 (  0.46)\n",
      "Epoch: [6][30/57]\tTime  0.490 ( 2.882)\tData  0.003 ( 2.315)\tLoss 1.4847e+00 (1.3209e+00)\tAcc   0.34 (  0.47)\tF1   0.32 (  0.46)\n",
      "Epoch: [6][40/57]\tTime  8.926 ( 2.924)\tData  8.426 ( 2.375)\tLoss 1.2943e+00 (1.3383e+00)\tAcc   0.44 (  0.45)\tF1   0.41 (  0.44)\n",
      "Epoch: [6][50/57]\tTime  0.575 ( 2.794)\tData  0.004 ( 2.238)\tLoss 1.4984e+00 (1.3609e+00)\tAcc   0.41 (  0.44)\tF1   0.39 (  0.43)\n",
      "Val: [ 0/57]\tTime 11.437 (11.437)\tLoss 1.2158e+00 (1.2158e+00)\tAcc   0.50 (  0.50)\tF1   0.48 (  0.48)\n",
      "Val: [10/57]\tTime  0.410 ( 3.026)\tLoss 1.2219e+00 (1.4014e+00)\tAcc   0.62 (  0.44)\tF1   0.58 (  0.37)\n",
      "Val: [20/57]\tTime  9.519 ( 3.029)\tLoss 1.7651e+00 (1.4431e+00)\tAcc   0.34 (  0.42)\tF1   0.24 (  0.36)\n",
      "Val: [30/57]\tTime  0.338 ( 2.743)\tLoss 1.8491e+00 (1.4560e+00)\tAcc   0.28 (  0.41)\tF1   0.20 (  0.34)\n",
      "Val: [40/57]\tTime  9.076 ( 2.815)\tLoss 1.2752e+00 (1.4623e+00)\tAcc   0.50 (  0.40)\tF1   0.47 (  0.33)\n",
      "Val: [50/57]\tTime  0.348 ( 2.697)\tLoss 1.4662e+00 (1.4655e+00)\tAcc   0.38 (  0.40)\tF1   0.31 (  0.33)\n",
      "Epoch: [7][ 0/57]\tTime 11.441 (11.441)\tData 10.833 (10.833)\tLoss 1.1130e+00 (1.1130e+00)\tAcc   0.47 (  0.47)\tF1   0.45 (  0.45)\n",
      "Epoch: [7][10/57]\tTime  0.360 ( 3.012)\tData  0.004 ( 2.548)\tLoss 1.2791e+00 (1.3365e+00)\tAcc   0.50 (  0.43)\tF1   0.51 (  0.43)\n",
      "Epoch: [7][20/57]\tTime  9.351 ( 3.025)\tData  8.815 ( 2.571)\tLoss 1.5949e+00 (1.3651e+00)\tAcc   0.28 (  0.43)\tF1   0.26 (  0.42)\n",
      "Epoch: [7][30/57]\tTime  0.455 ( 2.769)\tData  0.004 ( 2.298)\tLoss 1.5524e+00 (1.3548e+00)\tAcc   0.34 (  0.44)\tF1   0.30 (  0.42)\n",
      "Epoch: [7][40/57]\tTime  8.758 ( 2.833)\tData  8.441 ( 2.358)\tLoss 1.4829e+00 (1.3536e+00)\tAcc   0.47 (  0.44)\tF1   0.46 (  0.43)\n",
      "Epoch: [7][50/57]\tTime  0.348 ( 2.708)\tData  0.087 ( 2.234)\tLoss 1.3442e+00 (1.3662e+00)\tAcc   0.41 (  0.43)\tF1   0.42 (  0.42)\n",
      "Val: [ 0/57]\tTime 11.807 (11.807)\tLoss 1.0636e+00 (1.0636e+00)\tAcc   0.59 (  0.59)\tF1   0.60 (  0.60)\n",
      "Val: [10/57]\tTime  0.483 ( 3.090)\tLoss 1.3619e+00 (1.2953e+00)\tAcc   0.25 (  0.47)\tF1   0.26 (  0.45)\n",
      "Val: [20/57]\tTime  9.726 ( 3.066)\tLoss 1.6082e+00 (1.3483e+00)\tAcc   0.34 (  0.43)\tF1   0.24 (  0.41)\n",
      "Val: [30/57]\tTime  0.315 ( 2.755)\tLoss 1.5215e+00 (1.3433e+00)\tAcc   0.34 (  0.43)\tF1   0.32 (  0.41)\n",
      "Val: [40/57]\tTime  8.954 ( 2.890)\tLoss 1.2153e+00 (1.3460e+00)\tAcc   0.59 (  0.43)\tF1   0.55 (  0.41)\n",
      "Val: [50/57]\tTime  0.747 ( 2.809)\tLoss 1.4625e+00 (1.3448e+00)\tAcc   0.31 (  0.43)\tF1   0.24 (  0.41)\n",
      "Epoch: [8][ 0/57]\tTime 11.520 (11.520)\tData 10.901 (10.901)\tLoss 1.2127e+00 (1.2127e+00)\tAcc   0.56 (  0.56)\tF1   0.54 (  0.54)\n",
      "Epoch: [8][10/57]\tTime  0.676 ( 3.133)\tData  0.003 ( 2.515)\tLoss 1.3113e+00 (1.3503e+00)\tAcc   0.44 (  0.47)\tF1   0.45 (  0.47)\n",
      "Epoch: [8][20/57]\tTime  9.233 ( 3.103)\tData  8.754 ( 2.549)\tLoss 1.2255e+00 (1.3299e+00)\tAcc   0.44 (  0.47)\tF1   0.45 (  0.46)\n",
      "Epoch: [8][30/57]\tTime  0.474 ( 2.819)\tData  0.003 ( 2.289)\tLoss 1.4199e+00 (1.3435e+00)\tAcc   0.41 (  0.45)\tF1   0.44 (  0.44)\n",
      "Epoch: [8][40/57]\tTime  8.990 ( 2.883)\tData  8.485 ( 2.362)\tLoss 1.1058e+00 (1.3388e+00)\tAcc   0.56 (  0.46)\tF1   0.55 (  0.45)\n",
      "Epoch: [8][50/57]\tTime  0.357 ( 2.750)\tData  0.004 ( 2.233)\tLoss 1.4490e+00 (1.3444e+00)\tAcc   0.47 (  0.45)\tF1   0.46 (  0.45)\n",
      "Val: [ 0/57]\tTime 11.727 (11.727)\tLoss 1.3018e+00 (1.3018e+00)\tAcc   0.41 (  0.41)\tF1   0.38 (  0.38)\n",
      "Val: [10/57]\tTime  0.398 ( 2.977)\tLoss 1.3836e+00 (1.3596e+00)\tAcc   0.41 (  0.42)\tF1   0.41 (  0.38)\n",
      "Val: [20/57]\tTime  9.298 ( 2.985)\tLoss 1.6951e+00 (1.3635e+00)\tAcc   0.28 (  0.43)\tF1   0.25 (  0.39)\n",
      "Val: [30/57]\tTime  0.377 ( 2.714)\tLoss 1.6809e+00 (1.3954e+00)\tAcc   0.25 (  0.41)\tF1   0.22 (  0.38)\n",
      "Val: [40/57]\tTime  9.224 ( 2.774)\tLoss 1.2077e+00 (1.3978e+00)\tAcc   0.56 (  0.42)\tF1   0.53 (  0.38)\n",
      "Val: [50/57]\tTime  0.323 ( 2.641)\tLoss 1.5810e+00 (1.4057e+00)\tAcc   0.38 (  0.41)\tF1   0.33 (  0.38)\n",
      "Epoch: [9][ 0/57]\tTime 11.723 (11.723)\tData 10.885 (10.885)\tLoss 1.4308e+00 (1.4308e+00)\tAcc   0.34 (  0.34)\tF1   0.35 (  0.35)\n",
      "Epoch: [9][10/57]\tTime  0.501 ( 3.104)\tData  0.003 ( 2.520)\tLoss 1.2936e+00 (1.3817e+00)\tAcc   0.53 (  0.42)\tF1   0.56 (  0.42)\n",
      "Epoch: [9][20/57]\tTime  9.471 ( 3.113)\tData  8.731 ( 2.547)\tLoss 1.4857e+00 (1.3510e+00)\tAcc   0.28 (  0.43)\tF1   0.26 (  0.43)\n",
      "Epoch: [9][30/57]\tTime  0.594 ( 2.853)\tData  0.003 ( 2.289)\tLoss 1.3977e+00 (1.3774e+00)\tAcc   0.34 (  0.43)\tF1   0.33 (  0.43)\n",
      "Epoch: [9][40/57]\tTime  9.918 ( 2.948)\tData  9.200 ( 2.384)\tLoss 1.3514e+00 (1.3654e+00)\tAcc   0.56 (  0.44)\tF1   0.54 (  0.44)\n",
      "Epoch: [9][50/57]\tTime  0.634 ( 2.831)\tData  0.004 ( 2.268)\tLoss 9.4429e-01 (1.3381e+00)\tAcc   0.69 (  0.44)\tF1   0.67 (  0.44)\n",
      "Val: [ 0/57]\tTime 11.287 (11.287)\tLoss 1.3295e+00 (1.3295e+00)\tAcc   0.44 (  0.44)\tF1   0.44 (  0.44)\n",
      "Val: [10/57]\tTime  0.300 ( 2.954)\tLoss 1.4252e+00 (1.4563e+00)\tAcc   0.38 (  0.41)\tF1   0.38 (  0.40)\n",
      "Val: [20/57]\tTime  9.237 ( 2.993)\tLoss 1.6806e+00 (1.5021e+00)\tAcc   0.38 (  0.40)\tF1   0.32 (  0.38)\n",
      "Val: [30/57]\tTime  0.373 ( 2.723)\tLoss 1.6204e+00 (1.5043e+00)\tAcc   0.38 (  0.40)\tF1   0.33 (  0.37)\n",
      "Val: [40/57]\tTime  9.563 ( 2.846)\tLoss 1.2868e+00 (1.5075e+00)\tAcc   0.50 (  0.39)\tF1   0.49 (  0.37)\n",
      "Val: [50/57]\tTime  0.535 ( 2.735)\tLoss 1.5074e+00 (1.5115e+00)\tAcc   0.34 (  0.39)\tF1   0.30 (  0.37)\n"
     ]
    }
   ],
   "source": [
    "train_model(model, optimizer, scheduler, criterion, train_dataloader, val_dataloader, opt, target_metric='f1_avg', best_target_metric=-np.inf)"
   ]
  },
  {
   "cell_type": "markdown",
   "metadata": {},
   "source": [
    "## Model performance metrics"
   ]
  },
  {
   "cell_type": "code",
   "execution_count": 12,
   "metadata": {},
   "outputs": [],
   "source": [
    "from sklearn.metrics import ConfusionMatrixDisplay"
   ]
  },
  {
   "cell_type": "code",
   "execution_count": 13,
   "metadata": {},
   "outputs": [
    {
     "data": {
      "text/plain": [
       "<All keys matched successfully>"
      ]
     },
     "execution_count": 13,
     "metadata": {},
     "output_type": "execute_result"
    }
   ],
   "source": [
    "model = FlowersFcModel(\n",
    "    in_features=in_features, hidden_dim=hidden_dim, num_classes=num_classes\n",
    ").to(opt.device)\n",
    "\n",
    "last_state = torch.load(str(opt.path_to_models / f'{model.__class__.__name__}_model_best.pth'))\n",
    "model.load_state_dict(last_state['state_dict'])"
   ]
  },
  {
   "cell_type": "code",
   "execution_count": 14,
   "metadata": {},
   "outputs": [
    {
     "name": "stderr",
     "output_type": "stream",
     "text": [
      "batch loop: 100%|██████████| 57/57 [02:50<00:00,  2.99s/it]"
     ]
    },
    {
     "name": "stdout",
     "output_type": "stream",
     "text": [
      "Accuracy: 0.43\n",
      "F1: 0.395\n",
      "Precision: 0.478\n",
      "Recall: 0.43\n"
     ]
    },
    {
     "name": "stderr",
     "output_type": "stream",
     "text": [
      "\n"
     ]
    }
   ],
   "source": [
    "acc_metric, f1_metric, precision_metric, recall_metric, conf_matrix = get_val_metrics(val_dataloader, model, opt.device)\n",
    "print(f'Accuracy: {acc_metric:.3}')\n",
    "print(f'F1: {f1_metric:.3}')\n",
    "print(f'Precision: {precision_metric:.3}')\n",
    "print(f'Recall: {recall_metric:.3}')"
   ]
  },
  {
   "cell_type": "code",
   "execution_count": 15,
   "metadata": {},
   "outputs": [
    {
     "data": {
      "image/png": "[encoded data removed]",
      "text/plain": [
       "<Figure size 1152x648 with 2 Axes>"
      ]
     },
     "metadata": {},
     "output_type": "display_data"
    }
   ],
   "source": [
    "disp = ConfusionMatrixDisplay(\n",
    "    confusion_matrix=conf_matrix / conf_matrix.astype('float').sum(axis=1, keepdims=True),\n",
    ")\n",
    "disp.plot(xticks_rotation='vertical', values_format='.2f');"
   ]
  },
  {
   "cell_type": "markdown",
   "metadata": {},
   "source": [
    "## Inference"
   ]
  },
  {
   "cell_type": "code",
   "execution_count": 16,
   "metadata": {},
   "outputs": [],
   "source": [
    "from utils.loops import infer_folder, infer_one_file"
   ]
  },
  {
   "cell_type": "code",
   "execution_count": 17,
   "metadata": {},
   "outputs": [
    {
     "data": {
      "text/plain": [
       "0"
      ]
     },
     "execution_count": 17,
     "metadata": {},
     "output_type": "execute_result"
    }
   ],
   "source": [
    "image_path = '../data/daisy/10712722853_5632165b04.jpg'\n",
    "infer_one_file(\n",
    "    image_path, model, opt.device, transform=val_transformations_without_norm,\n",
    "    use_descriptors_as_features=opt.use_descriptors_as_features, features_type=opt.features_type\n",
    ")"
   ]
  },
  {
   "cell_type": "code",
   "execution_count": 18,
   "metadata": {},
   "outputs": [
    {
     "data": {
      "text/plain": [
       "[('../data/daisy/14167534527_781ceb1b7a_n.jpg', 4),\n",
       " ('../data/daisy/476857510_d2b30175de_n.jpg', 4),\n",
       " ('../data/daisy/521762040_f26f2e08dd.jpg', 4),\n",
       " ('../data/daisy/7320089276_87b544e341.jpg', 1),\n",
       " ('../data/daisy/721595842_bacd80a6ac.jpg', 2)]"
      ]
     },
     "execution_count": 18,
     "metadata": {},
     "output_type": "execute_result"
    }
   ],
   "source": [
    "folder_path = '../data/daisy'\n",
    "result = infer_folder(\n",
    "    folder_path, model, opt.device, image_ext='jpg',\n",
    "    transform=val_transformations_without_norm,\n",
    "    use_descriptors_as_features=opt.use_descriptors_as_features,\n",
    "    features_type=opt.features_type\n",
    ")\n",
    "result[:5]"
   ]
  },
  {
   "cell_type": "code",
   "execution_count": null,
   "metadata": {},
   "outputs": [],
   "source": []
  }
 ],
 "metadata": {
  "interpreter": {
   "hash": "c6e4e9f98eb68ad3b7c296f83d20e6de614cb42e90992a65aa266555a3137d0d"
  },
  "kernelspec": {
   "display_name": "Python 3.9.7 ('base')",
   "language": "python",
   "name": "python3"
  },
  "language_info": {
   "codemirror_mode": {
    "name": "ipython",
    "version": 3
   },
   "file_extension": ".py",
   "mimetype": "text/x-python",
   "name": "python",
   "nbconvert_exporter": "python",
   "pygments_lexer": "ipython3",
   "version": "3.9.7"
  },
  "orig_nbformat": 4
 },
 "nbformat": 4,
 "nbformat_minor": 2
}
