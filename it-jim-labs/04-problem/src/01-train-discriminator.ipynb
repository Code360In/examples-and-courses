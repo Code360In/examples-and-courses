{
 "cells": [
  {
   "cell_type": "markdown",
   "metadata": {},
   "source": [
    "## Import packages"
   ]
  },
  {
   "cell_type": "code",
   "execution_count": 1,
   "metadata": {},
   "outputs": [],
   "source": [
    "\n",
    "import numpy as np\n",
    "import torch\n",
    "from torch.optim.lr_scheduler import ReduceLROnPlateau\n",
    "from torchsummary import summary\n",
    "\n",
    "import matplotlib.pyplot as plt\n",
    "plt.rcParams[\"figure.figsize\"] = (16, 9)"
   ]
  },
  {
   "cell_type": "code",
   "execution_count": 2,
   "metadata": {},
   "outputs": [],
   "source": [
    "import warnings\n",
    "warnings.filterwarnings('ignore')"
   ]
  },
  {
   "cell_type": "code",
   "execution_count": 3,
   "metadata": {},
   "outputs": [],
   "source": [
    "from config import opt\n",
    "from models import DiscMNISTModel\n",
    "from utils import get_dataloaders, train_disc_model, get_val_metrics, show_tensor_images, init_seeds\n",
    "from datasets.preprocessing import train_disc_transformations, val_disc_transformations, train_autoencoder_transformations, val_autoencoder_transformations, target_transform"
   ]
  },
  {
   "cell_type": "code",
   "execution_count": 4,
   "metadata": {},
   "outputs": [],
   "source": [
    "init_seeds(opt.seed)"
   ]
  },
  {
   "cell_type": "markdown",
   "metadata": {},
   "source": [
    "## Prepare dataset"
   ]
  },
  {
   "cell_type": "code",
   "execution_count": 5,
   "metadata": {},
   "outputs": [],
   "source": [
    "_, _, train_disc_loader, val_disc_loader = get_dataloaders(\n",
    "    train_disc_transformations, val_disc_transformations, train_autoencoder_transformations, val_autoencoder_transformations, target_transform\n",
    ")"
   ]
  },
  {
   "cell_type": "code",
   "execution_count": 6,
   "metadata": {},
   "outputs": [
    {
     "data": {
      "image/png": "[encoded data removed]",
      "text/plain": [
       "<Figure size 1152x648 with 1 Axes>"
      ]
     },
     "metadata": {},
     "output_type": "display_data"
    }
   ],
   "source": [
    "show_tensor_images(next(iter(val_disc_loader))[0], norm_mean=opt.norm_mean, norm_std=opt.norm_std)"
   ]
  },
  {
   "cell_type": "code",
   "execution_count": 7,
   "metadata": {},
   "outputs": [
    {
     "data": {
      "text/plain": [
       "(2, torch.Size([128, 10]), torch.Size([128, 1, 28, 28]))"
      ]
     },
     "execution_count": 7,
     "metadata": {},
     "output_type": "execute_result"
    }
   ],
   "source": [
    "len(next(iter(val_disc_loader))), next(iter(val_disc_loader))[-1].shape, next(iter(val_disc_loader))[0].shape"
   ]
  },
  {
   "cell_type": "markdown",
   "metadata": {},
   "source": [
    "## Training"
   ]
  },
  {
   "cell_type": "code",
   "execution_count": 8,
   "metadata": {},
   "outputs": [],
   "source": [
    "input_dim = (1, opt.img_height, opt.img_width)\n",
    "\n",
    "model = DiscMNISTModel(\n",
    "    input_dim, opt.n_classes, opt.disc_hidden_channels\n",
    ").to(opt.device)\n",
    "\n",
    "criterion = torch.nn.CrossEntropyLoss()\n",
    "optimizer = torch.optim.Adam(filter(lambda p: p.requires_grad, model.parameters()), lr=opt.lr)\n",
    "scheduler = ReduceLROnPlateau(optimizer, mode='min', patience=2, factor=0.1, verbose=True)"
   ]
  },
  {
   "cell_type": "code",
   "execution_count": 9,
   "metadata": {},
   "outputs": [
    {
     "name": "stdout",
     "output_type": "stream",
     "text": [
      "----------------------------------------------------------------\n",
      "        Layer (type)               Output Shape         Param #\n",
      "================================================================\n",
      "            Conv2d-1          [128, 16, 24, 24]             416\n",
      "              ReLU-2          [128, 16, 24, 24]               0\n",
      "         MaxPool2d-3          [128, 16, 12, 12]               0\n",
      "         Dropout2d-4          [128, 16, 12, 12]               0\n",
      "            Conv2d-5            [128, 32, 8, 8]          12,832\n",
      "              ReLU-6            [128, 32, 8, 8]               0\n",
      "         Dropout2d-7            [128, 32, 8, 8]               0\n",
      "         MaxPool2d-8            [128, 32, 4, 4]               0\n",
      "            Linear-9                 [128, 102]          52,326\n",
      "             ReLU-10                 [128, 102]               0\n",
      "          Dropout-11                 [128, 102]               0\n",
      "           Linear-12                  [128, 10]           1,030\n",
      "================================================================\n",
      "Total params: 66,604\n",
      "Trainable params: 66,604\n",
      "Non-trainable params: 0\n",
      "----------------------------------------------------------------\n",
      "Input size (MB): 0.38\n",
      "Forward/backward pass size (MB): 29.31\n",
      "Params size (MB): 0.25\n",
      "Estimated Total Size (MB): 29.95\n",
      "----------------------------------------------------------------\n"
     ]
    }
   ],
   "source": [
    "summary(model, input_size=input_dim, batch_size=opt.batch_size)"
   ]
  },
  {
   "cell_type": "code",
   "execution_count": 10,
   "metadata": {},
   "outputs": [
    {
     "name": "stdout",
     "output_type": "stream",
     "text": [
      "Epoch: [0][  0/235]\tTime  2.712 ( 2.712)\tData  1.302 ( 1.302)\tLoss 2.3201e+00 (2.3201e+00)\tAcc   0.09 (  0.09)\tF1   0.06 (  0.06)\n",
      "Epoch: [0][ 10/235]\tTime  0.082 ( 0.537)\tData  0.001 ( 0.119)\tLoss 2.2882e+00 (2.2990e+00)\tAcc   0.14 (  0.13)\tF1   0.11 (  0.09)\n",
      "Epoch: [0][ 20/235]\tTime  0.046 ( 0.316)\tData  0.001 ( 0.063)\tLoss 2.2716e+00 (2.2941e+00)\tAcc   0.22 (  0.14)\tF1   0.19 (  0.10)\n",
      "Epoch: [0][ 30/235]\tTime  0.044 ( 0.231)\tData  0.001 ( 0.043)\tLoss 2.2509e+00 (2.2865e+00)\tAcc   0.26 (  0.16)\tF1   0.21 (  0.12)\n",
      "Epoch: [0][ 40/235]\tTime  0.093 ( 0.188)\tData  0.001 ( 0.033)\tLoss 2.2352e+00 (2.2766e+00)\tAcc   0.20 (  0.17)\tF1   0.17 (  0.13)\n",
      "Epoch: [0][ 50/235]\tTime  0.049 ( 0.161)\tData  0.001 ( 0.026)\tLoss 2.1627e+00 (2.2593e+00)\tAcc   0.28 (  0.19)\tF1   0.25 (  0.15)\n",
      "Epoch: [0][ 60/235]\tTime  0.046 ( 0.143)\tData  0.001 ( 0.022)\tLoss 2.0665e+00 (2.2368e+00)\tAcc   0.33 (  0.21)\tF1   0.32 (  0.17)\n",
      "Epoch: [0][ 70/235]\tTime  0.045 ( 0.130)\tData  0.001 ( 0.019)\tLoss 1.8858e+00 (2.2002e+00)\tAcc   0.38 (  0.23)\tF1   0.34 (  0.20)\n",
      "Epoch: [0][ 80/235]\tTime  0.046 ( 0.122)\tData  0.001 ( 0.017)\tLoss 1.8264e+00 (2.1637e+00)\tAcc   0.40 (  0.25)\tF1   0.38 (  0.22)\n",
      "Epoch: [0][ 90/235]\tTime  0.050 ( 0.114)\tData  0.001 ( 0.015)\tLoss 1.5668e+00 (2.1147e+00)\tAcc   0.52 (  0.27)\tF1   0.50 (  0.24)\n",
      "Epoch: [0][100/235]\tTime  0.048 ( 0.108)\tData  0.001 ( 0.014)\tLoss 1.4847e+00 (2.0624e+00)\tAcc   0.55 (  0.30)\tF1   0.55 (  0.27)\n",
      "Epoch: [0][110/235]\tTime  0.044 ( 0.103)\tData  0.001 ( 0.013)\tLoss 1.4637e+00 (2.0066e+00)\tAcc   0.51 (  0.32)\tF1   0.49 (  0.29)\n",
      "Epoch: [0][120/235]\tTime  0.050 ( 0.099)\tData  0.001 ( 0.012)\tLoss 1.3137e+00 (1.9511e+00)\tAcc   0.55 (  0.34)\tF1   0.56 (  0.31)\n",
      "Epoch: [0][130/235]\tTime  0.048 ( 0.096)\tData  0.001 ( 0.011)\tLoss 1.2570e+00 (1.9032e+00)\tAcc   0.59 (  0.36)\tF1   0.58 (  0.33)\n",
      "Epoch: [0][140/235]\tTime  0.047 ( 0.093)\tData  0.001 ( 0.010)\tLoss 1.2095e+00 (1.8554e+00)\tAcc   0.62 (  0.38)\tF1   0.61 (  0.35)\n",
      "Epoch: [0][150/235]\tTime  0.048 ( 0.090)\tData  0.001 ( 0.009)\tLoss 1.1032e+00 (1.8089e+00)\tAcc   0.69 (  0.39)\tF1   0.68 (  0.37)\n",
      "Epoch: [0][160/235]\tTime  0.051 ( 0.088)\tData  0.001 ( 0.009)\tLoss 1.1952e+00 (1.7656e+00)\tAcc   0.59 (  0.41)\tF1   0.59 (  0.38)\n",
      "Epoch: [0][170/235]\tTime  0.047 ( 0.086)\tData  0.001 ( 0.008)\tLoss 1.1256e+00 (1.7265e+00)\tAcc   0.62 (  0.42)\tF1   0.62 (  0.40)\n",
      "Epoch: [0][180/235]\tTime  0.055 ( 0.084)\tData  0.001 ( 0.008)\tLoss 1.0266e+00 (1.6897e+00)\tAcc   0.67 (  0.43)\tF1   0.67 (  0.41)\n",
      "Epoch: [0][190/235]\tTime  0.045 ( 0.083)\tData  0.001 ( 0.008)\tLoss 8.6630e-01 (1.6517e+00)\tAcc   0.74 (  0.45)\tF1   0.74 (  0.43)\n",
      "Epoch: [0][200/235]\tTime  0.040 ( 0.081)\tData  0.001 ( 0.007)\tLoss 9.6526e-01 (1.6181e+00)\tAcc   0.69 (  0.46)\tF1   0.68 (  0.44)\n",
      "Epoch: [0][210/235]\tTime  0.049 ( 0.080)\tData  0.000 ( 0.007)\tLoss 8.4769e-01 (1.5855e+00)\tAcc   0.75 (  0.47)\tF1   0.75 (  0.45)\n",
      "Epoch: [0][220/235]\tTime  0.047 ( 0.079)\tData  0.001 ( 0.007)\tLoss 9.4665e-01 (1.5539e+00)\tAcc   0.70 (  0.48)\tF1   0.68 (  0.47)\n",
      "Epoch: [0][230/235]\tTime  0.045 ( 0.078)\tData  0.001 ( 0.006)\tLoss 9.3682e-01 (1.5258e+00)\tAcc   0.70 (  0.49)\tF1   0.70 (  0.48)\n",
      "Val Epoch: [0][ 0/40]\tTime  0.877 ( 0.877)\tLoss 4.9689e-01 (4.9689e-01)\tAcc   0.85 (  0.85)\tF1   0.85 (  0.85)\n",
      "Val Epoch: [0][10/40]\tTime  0.010 ( 0.090)\tLoss 4.9317e-01 (4.5981e-01)\tAcc   0.82 (  0.86)\tF1   0.81 (  0.86)\n",
      "Val Epoch: [0][20/40]\tTime  0.010 ( 0.052)\tLoss 4.2724e-01 (4.5902e-01)\tAcc   0.88 (  0.86)\tF1   0.87 (  0.86)\n",
      "Val Epoch: [0][30/40]\tTime  0.009 ( 0.039)\tLoss 4.3655e-01 (4.7055e-01)\tAcc   0.87 (  0.86)\tF1   0.86 (  0.86)\n",
      "Epoch: [1][  0/235]\tTime  1.206 ( 1.206)\tData  0.903 ( 0.903)\tLoss 1.0372e+00 (1.0372e+00)\tAcc   0.65 (  0.65)\tF1   0.64 (  0.64)\n",
      "Epoch: [1][ 10/235]\tTime  0.045 ( 0.161)\tData  0.001 ( 0.083)\tLoss 8.6219e-01 (8.5719e-01)\tAcc   0.72 (  0.74)\tF1   0.72 (  0.73)\n",
      "Epoch: [1][ 20/235]\tTime  0.068 ( 0.110)\tData  0.001 ( 0.044)\tLoss 8.0376e-01 (8.5696e-01)\tAcc   0.73 (  0.73)\tF1   0.73 (  0.72)\n",
      "Epoch: [1][ 30/235]\tTime  0.049 ( 0.091)\tData  0.001 ( 0.030)\tLoss 9.0503e-01 (8.7255e-01)\tAcc   0.73 (  0.72)\tF1   0.73 (  0.72)\n",
      "Epoch: [1][ 40/235]\tTime  0.048 ( 0.081)\tData  0.001 ( 0.023)\tLoss 7.4999e-01 (8.5232e-01)\tAcc   0.81 (  0.73)\tF1   0.81 (  0.72)\n",
      "Epoch: [1][ 50/235]\tTime  0.075 ( 0.075)\tData  0.001 ( 0.018)\tLoss 8.2128e-01 (8.4417e-01)\tAcc   0.74 (  0.73)\tF1   0.75 (  0.73)\n",
      "Epoch: [1][ 60/235]\tTime  0.057 ( 0.072)\tData  0.001 ( 0.016)\tLoss 8.7644e-01 (8.4598e-01)\tAcc   0.73 (  0.73)\tF1   0.73 (  0.73)\n",
      "Epoch: [1][ 70/235]\tTime  0.053 ( 0.068)\tData  0.001 ( 0.013)\tLoss 6.5407e-01 (8.3583e-01)\tAcc   0.78 (  0.74)\tF1   0.79 (  0.73)\n",
      "Epoch: [1][ 80/235]\tTime  0.046 ( 0.066)\tData  0.001 ( 0.012)\tLoss 8.2029e-01 (8.2954e-01)\tAcc   0.75 (  0.74)\tF1   0.75 (  0.74)\n",
      "Epoch: [1][ 90/235]\tTime  0.047 ( 0.065)\tData  0.001 ( 0.011)\tLoss 8.1513e-01 (8.2879e-01)\tAcc   0.72 (  0.74)\tF1   0.72 (  0.74)\n",
      "Epoch: [1][100/235]\tTime  0.048 ( 0.063)\tData  0.001 ( 0.010)\tLoss 7.5362e-01 (8.2038e-01)\tAcc   0.77 (  0.74)\tF1   0.77 (  0.74)\n",
      "Epoch: [1][110/235]\tTime  0.040 ( 0.062)\tData  0.001 ( 0.009)\tLoss 7.7544e-01 (8.1346e-01)\tAcc   0.76 (  0.74)\tF1   0.76 (  0.74)\n",
      "Epoch: [1][120/235]\tTime  0.052 ( 0.061)\tData  0.001 ( 0.008)\tLoss 8.2786e-01 (8.1171e-01)\tAcc   0.76 (  0.75)\tF1   0.76 (  0.74)\n",
      "Epoch: [1][130/235]\tTime  0.048 ( 0.061)\tData  0.001 ( 0.008)\tLoss 7.3601e-01 (8.0306e-01)\tAcc   0.77 (  0.75)\tF1   0.77 (  0.74)\n",
      "Epoch: [1][140/235]\tTime  0.048 ( 0.060)\tData  0.001 ( 0.007)\tLoss 7.4577e-01 (7.9746e-01)\tAcc   0.73 (  0.75)\tF1   0.73 (  0.75)\n",
      "Epoch: [1][150/235]\tTime  0.044 ( 0.059)\tData  0.001 ( 0.007)\tLoss 7.0508e-01 (7.9206e-01)\tAcc   0.78 (  0.75)\tF1   0.78 (  0.75)\n",
      "Epoch: [1][160/235]\tTime  0.046 ( 0.059)\tData  0.001 ( 0.006)\tLoss 8.7815e-01 (7.8600e-01)\tAcc   0.76 (  0.75)\tF1   0.76 (  0.75)\n",
      "Epoch: [1][170/235]\tTime  0.047 ( 0.059)\tData  0.001 ( 0.006)\tLoss 6.5915e-01 (7.8060e-01)\tAcc   0.81 (  0.76)\tF1   0.81 (  0.75)\n",
      "Epoch: [1][180/235]\tTime  0.049 ( 0.058)\tData  0.001 ( 0.006)\tLoss 5.6614e-01 (7.7498e-01)\tAcc   0.81 (  0.76)\tF1   0.81 (  0.76)\n",
      "Epoch: [1][190/235]\tTime  0.044 ( 0.058)\tData  0.001 ( 0.005)\tLoss 6.7821e-01 (7.6933e-01)\tAcc   0.80 (  0.76)\tF1   0.79 (  0.76)\n",
      "Epoch: [1][200/235]\tTime  0.047 ( 0.057)\tData  0.001 ( 0.005)\tLoss 7.6391e-01 (7.6383e-01)\tAcc   0.77 (  0.76)\tF1   0.78 (  0.76)\n",
      "Epoch: [1][210/235]\tTime  0.046 ( 0.057)\tData  0.001 ( 0.005)\tLoss 4.3860e-01 (7.6102e-01)\tAcc   0.84 (  0.76)\tF1   0.84 (  0.76)\n",
      "Epoch: [1][220/235]\tTime  0.049 ( 0.057)\tData  0.001 ( 0.005)\tLoss 5.7657e-01 (7.5640e-01)\tAcc   0.81 (  0.76)\tF1   0.81 (  0.76)\n",
      "Epoch: [1][230/235]\tTime  0.047 ( 0.057)\tData  0.001 ( 0.005)\tLoss 6.5748e-01 (7.5092e-01)\tAcc   0.80 (  0.77)\tF1   0.80 (  0.76)\n",
      "Val Epoch: [1][ 0/40]\tTime  0.922 ( 0.922)\tLoss 4.1050e-01 (4.1050e-01)\tAcc   0.88 (  0.88)\tF1   0.88 (  0.88)\n",
      "Val Epoch: [1][10/40]\tTime  0.010 ( 0.094)\tLoss 2.5109e-01 (3.0891e-01)\tAcc   0.92 (  0.91)\tF1   0.92 (  0.91)\n",
      "Val Epoch: [1][20/40]\tTime  0.010 ( 0.054)\tLoss 2.6153e-01 (2.8860e-01)\tAcc   0.90 (  0.91)\tF1   0.90 (  0.91)\n",
      "Val Epoch: [1][30/40]\tTime  0.011 ( 0.040)\tLoss 2.9957e-01 (2.9175e-01)\tAcc   0.91 (  0.91)\tF1   0.90 (  0.91)\n",
      "Epoch: [2][  0/235]\tTime  0.936 ( 0.936)\tData  0.865 ( 0.865)\tLoss 7.5884e-01 (7.5884e-01)\tAcc   0.74 (  0.74)\tF1   0.74 (  0.74)\n",
      "Epoch: [2][ 10/235]\tTime  0.055 ( 0.144)\tData  0.001 ( 0.079)\tLoss 6.1169e-01 (6.4803e-01)\tAcc   0.84 (  0.80)\tF1   0.83 (  0.80)\n",
      "Epoch: [2][ 20/235]\tTime  0.040 ( 0.100)\tData  0.001 ( 0.042)\tLoss 7.4753e-01 (6.6480e-01)\tAcc   0.75 (  0.80)\tF1   0.75 (  0.80)\n",
      "Epoch: [2][ 30/235]\tTime  0.056 ( 0.086)\tData  0.001 ( 0.029)\tLoss 5.9839e-01 (6.5239e-01)\tAcc   0.81 (  0.80)\tF1   0.81 (  0.80)\n",
      "Epoch: [2][ 40/235]\tTime  0.050 ( 0.078)\tData  0.000 ( 0.022)\tLoss 6.0298e-01 (6.5384e-01)\tAcc   0.84 (  0.81)\tF1   0.84 (  0.80)\n",
      "Epoch: [2][ 50/235]\tTime  0.048 ( 0.073)\tData  0.001 ( 0.018)\tLoss 5.1126e-01 (6.4050e-01)\tAcc   0.81 (  0.81)\tF1   0.81 (  0.81)\n",
      "Epoch: [2][ 60/235]\tTime  0.049 ( 0.070)\tData  0.001 ( 0.015)\tLoss 6.3090e-01 (6.2805e-01)\tAcc   0.84 (  0.81)\tF1   0.84 (  0.81)\n",
      "Epoch: [2][ 70/235]\tTime  0.046 ( 0.067)\tData  0.001 ( 0.013)\tLoss 6.2852e-01 (6.2825e-01)\tAcc   0.81 (  0.81)\tF1   0.81 (  0.81)\n",
      "Epoch: [2][ 80/235]\tTime  0.043 ( 0.067)\tData  0.001 ( 0.011)\tLoss 7.8325e-01 (6.2254e-01)\tAcc   0.81 (  0.81)\tF1   0.81 (  0.81)\n",
      "Epoch: [2][ 90/235]\tTime  0.048 ( 0.065)\tData  0.001 ( 0.010)\tLoss 4.6048e-01 (6.1975e-01)\tAcc   0.80 (  0.81)\tF1   0.81 (  0.81)\n",
      "Epoch: [2][100/235]\tTime  0.044 ( 0.064)\tData  0.001 ( 0.009)\tLoss 5.4095e-01 (6.1285e-01)\tAcc   0.81 (  0.81)\tF1   0.82 (  0.81)\n",
      "Epoch: [2][110/235]\tTime  0.051 ( 0.063)\tData  0.001 ( 0.009)\tLoss 5.3454e-01 (6.0783e-01)\tAcc   0.82 (  0.82)\tF1   0.82 (  0.81)\n",
      "Epoch: [2][120/235]\tTime  0.048 ( 0.062)\tData  0.001 ( 0.008)\tLoss 5.8847e-01 (6.0517e-01)\tAcc   0.81 (  0.82)\tF1   0.81 (  0.81)\n",
      "Epoch: [2][130/235]\tTime  0.048 ( 0.061)\tData  0.001 ( 0.007)\tLoss 7.2582e-01 (6.0712e-01)\tAcc   0.77 (  0.82)\tF1   0.78 (  0.81)\n",
      "Epoch: [2][140/235]\tTime  0.063 ( 0.061)\tData  0.001 ( 0.007)\tLoss 5.6606e-01 (6.0244e-01)\tAcc   0.80 (  0.82)\tF1   0.80 (  0.81)\n",
      "Epoch: [2][150/235]\tTime  0.047 ( 0.060)\tData  0.001 ( 0.006)\tLoss 6.5141e-01 (6.0061e-01)\tAcc   0.80 (  0.82)\tF1   0.80 (  0.81)\n",
      "Epoch: [2][160/235]\tTime  0.049 ( 0.059)\tData  0.001 ( 0.006)\tLoss 4.6175e-01 (5.9552e-01)\tAcc   0.84 (  0.82)\tF1   0.83 (  0.82)\n",
      "Epoch: [2][170/235]\tTime  0.049 ( 0.059)\tData  0.001 ( 0.006)\tLoss 4.6885e-01 (5.9111e-01)\tAcc   0.84 (  0.82)\tF1   0.84 (  0.82)\n",
      "Epoch: [2][180/235]\tTime  0.049 ( 0.059)\tData  0.001 ( 0.006)\tLoss 4.9899e-01 (5.8781e-01)\tAcc   0.88 (  0.82)\tF1   0.89 (  0.82)\n",
      "Epoch: [2][190/235]\tTime  0.046 ( 0.058)\tData  0.001 ( 0.005)\tLoss 4.8837e-01 (5.8602e-01)\tAcc   0.82 (  0.82)\tF1   0.82 (  0.82)\n",
      "Epoch: [2][200/235]\tTime  0.042 ( 0.058)\tData  0.001 ( 0.005)\tLoss 5.5855e-01 (5.8352e-01)\tAcc   0.88 (  0.82)\tF1   0.87 (  0.82)\n",
      "Epoch: [2][210/235]\tTime  0.051 ( 0.058)\tData  0.001 ( 0.005)\tLoss 5.7042e-01 (5.8480e-01)\tAcc   0.86 (  0.82)\tF1   0.86 (  0.82)\n",
      "Epoch: [2][220/235]\tTime  0.049 ( 0.057)\tData  0.001 ( 0.005)\tLoss 6.0464e-01 (5.8031e-01)\tAcc   0.81 (  0.82)\tF1   0.81 (  0.82)\n",
      "Epoch: [2][230/235]\tTime  0.043 ( 0.057)\tData  0.000 ( 0.005)\tLoss 6.7594e-01 (5.7798e-01)\tAcc   0.78 (  0.82)\tF1   0.78 (  0.82)\n",
      "Val Epoch: [2][ 0/40]\tTime  0.892 ( 0.892)\tLoss 2.3260e-01 (2.3260e-01)\tAcc   0.91 (  0.91)\tF1   0.91 (  0.91)\n",
      "Val Epoch: [2][10/40]\tTime  0.010 ( 0.093)\tLoss 3.8023e-01 (2.2295e-01)\tAcc   0.87 (  0.93)\tF1   0.86 (  0.93)\n",
      "Val Epoch: [2][20/40]\tTime  0.011 ( 0.054)\tLoss 2.4609e-01 (2.3418e-01)\tAcc   0.95 (  0.93)\tF1   0.95 (  0.93)\n",
      "Val Epoch: [2][30/40]\tTime  0.011 ( 0.040)\tLoss 1.8394e-01 (2.3040e-01)\tAcc   0.95 (  0.93)\tF1   0.95 (  0.93)\n",
      "Epoch: [3][  0/235]\tTime  0.965 ( 0.965)\tData  0.907 ( 0.907)\tLoss 6.2720e-01 (6.2720e-01)\tAcc   0.77 (  0.77)\tF1   0.77 (  0.77)\n",
      "Epoch: [3][ 10/235]\tTime  0.050 ( 0.147)\tData  0.001 ( 0.083)\tLoss 5.3389e-01 (5.3627e-01)\tAcc   0.84 (  0.84)\tF1   0.84 (  0.83)\n",
      "Epoch: [3][ 20/235]\tTime  0.046 ( 0.101)\tData  0.001 ( 0.044)\tLoss 5.5806e-01 (5.2022e-01)\tAcc   0.82 (  0.84)\tF1   0.82 (  0.84)\n",
      "Epoch: [3][ 30/235]\tTime  0.045 ( 0.085)\tData  0.001 ( 0.030)\tLoss 4.0449e-01 (5.1440e-01)\tAcc   0.88 (  0.84)\tF1   0.88 (  0.84)\n",
      "Epoch: [3][ 40/235]\tTime  0.052 ( 0.077)\tData  0.001 ( 0.023)\tLoss 4.3227e-01 (5.1393e-01)\tAcc   0.87 (  0.84)\tF1   0.87 (  0.84)\n",
      "Epoch: [3][ 50/235]\tTime  0.051 ( 0.072)\tData  0.001 ( 0.018)\tLoss 5.2902e-01 (5.1450e-01)\tAcc   0.82 (  0.84)\tF1   0.82 (  0.84)\n",
      "Epoch: [3][ 60/235]\tTime  0.048 ( 0.069)\tData  0.001 ( 0.016)\tLoss 4.5020e-01 (5.0621e-01)\tAcc   0.84 (  0.85)\tF1   0.84 (  0.84)\n",
      "Epoch: [3][ 70/235]\tTime  0.049 ( 0.066)\tData  0.000 ( 0.013)\tLoss 7.6314e-01 (5.1248e-01)\tAcc   0.77 (  0.84)\tF1   0.78 (  0.84)\n",
      "Epoch: [3][ 80/235]\tTime  0.047 ( 0.064)\tData  0.001 ( 0.012)\tLoss 4.6875e-01 (5.1230e-01)\tAcc   0.82 (  0.84)\tF1   0.82 (  0.84)\n",
      "Epoch: [3][ 90/235]\tTime  0.049 ( 0.063)\tData  0.000 ( 0.011)\tLoss 5.5777e-01 (5.1073e-01)\tAcc   0.87 (  0.84)\tF1   0.87 (  0.84)\n",
      "Epoch: [3][100/235]\tTime  0.048 ( 0.062)\tData  0.001 ( 0.010)\tLoss 4.5702e-01 (5.0560e-01)\tAcc   0.84 (  0.84)\tF1   0.84 (  0.84)\n",
      "Epoch: [3][110/235]\tTime  0.062 ( 0.061)\tData  0.001 ( 0.009)\tLoss 5.0471e-01 (5.0510e-01)\tAcc   0.85 (  0.84)\tF1   0.85 (  0.84)\n",
      "Epoch: [3][120/235]\tTime  0.059 ( 0.075)\tData  0.001 ( 0.008)\tLoss 4.6836e-01 (5.0403e-01)\tAcc   0.88 (  0.84)\tF1   0.88 (  0.84)\n",
      "Epoch: [3][130/235]\tTime  0.047 ( 0.074)\tData  0.001 ( 0.008)\tLoss 4.9493e-01 (5.0273e-01)\tAcc   0.83 (  0.85)\tF1   0.83 (  0.84)\n",
      "Epoch: [3][140/235]\tTime  0.043 ( 0.093)\tData  0.001 ( 0.007)\tLoss 5.0641e-01 (5.0116e-01)\tAcc   0.81 (  0.85)\tF1   0.81 (  0.85)\n",
      "Epoch: [3][150/235]\tTime  0.048 ( 0.091)\tData  0.001 ( 0.007)\tLoss 4.8550e-01 (4.9993e-01)\tAcc   0.87 (  0.85)\tF1   0.87 (  0.85)\n",
      "Epoch: [3][160/235]\tTime  0.045 ( 0.088)\tData  0.001 ( 0.006)\tLoss 4.8111e-01 (4.9871e-01)\tAcc   0.86 (  0.85)\tF1   0.86 (  0.85)\n",
      "Epoch: [3][170/235]\tTime  0.043 ( 0.086)\tData  0.001 ( 0.006)\tLoss 4.0856e-01 (4.9627e-01)\tAcc   0.89 (  0.85)\tF1   0.89 (  0.85)\n",
      "Epoch: [3][180/235]\tTime  0.053 ( 0.084)\tData  0.001 ( 0.006)\tLoss 4.1910e-01 (4.9367e-01)\tAcc   0.88 (  0.85)\tF1   0.88 (  0.85)\n",
      "Epoch: [3][190/235]\tTime  0.046 ( 0.083)\tData  0.001 ( 0.006)\tLoss 4.4715e-01 (4.8966e-01)\tAcc   0.88 (  0.85)\tF1   0.87 (  0.85)\n",
      "Epoch: [3][200/235]\tTime  0.041 ( 0.081)\tData  0.001 ( 0.005)\tLoss 3.8360e-01 (4.8883e-01)\tAcc   0.86 (  0.85)\tF1   0.86 (  0.85)\n",
      "Epoch: [3][210/235]\tTime  0.045 ( 0.080)\tData  0.001 ( 0.005)\tLoss 4.8212e-01 (4.8655e-01)\tAcc   0.86 (  0.85)\tF1   0.86 (  0.85)\n",
      "Epoch: [3][220/235]\tTime  0.051 ( 0.079)\tData  0.001 ( 0.005)\tLoss 5.4727e-01 (4.8585e-01)\tAcc   0.84 (  0.85)\tF1   0.85 (  0.85)\n",
      "Epoch: [3][230/235]\tTime  0.043 ( 0.078)\tData  0.000 ( 0.005)\tLoss 5.2783e-01 (4.8472e-01)\tAcc   0.84 (  0.85)\tF1   0.84 (  0.85)\n",
      "Val Epoch: [3][ 0/40]\tTime  0.925 ( 0.925)\tLoss 3.0293e-01 (3.0293e-01)\tAcc   0.89 (  0.89)\tF1   0.89 (  0.89)\n",
      "Val Epoch: [3][10/40]\tTime  0.010 ( 0.094)\tLoss 1.0543e-01 (2.2259e-01)\tAcc   0.97 (  0.93)\tF1   0.97 (  0.93)\n",
      "Val Epoch: [3][20/40]\tTime  0.012 ( 0.055)\tLoss 1.9514e-01 (2.0851e-01)\tAcc   0.94 (  0.93)\tF1   0.94 (  0.93)\n",
      "Val Epoch: [3][30/40]\tTime  0.009 ( 0.040)\tLoss 1.4557e-01 (2.0434e-01)\tAcc   0.95 (  0.94)\tF1   0.94 (  0.93)\n",
      "Epoch: [4][  0/235]\tTime  0.944 ( 0.944)\tData  0.859 ( 0.859)\tLoss 5.9849e-01 (5.9849e-01)\tAcc   0.80 (  0.80)\tF1   0.80 (  0.80)\n",
      "Epoch: [4][ 10/235]\tTime  0.065 ( 0.141)\tData  0.001 ( 0.079)\tLoss 4.4123e-01 (4.8345e-01)\tAcc   0.86 (  0.86)\tF1   0.86 (  0.85)\n",
      "Epoch: [4][ 20/235]\tTime  0.051 ( 0.101)\tData  0.001 ( 0.042)\tLoss 3.4123e-01 (4.5827e-01)\tAcc   0.89 (  0.87)\tF1   0.89 (  0.86)\n",
      "Epoch: [4][ 30/235]\tTime  0.042 ( 0.085)\tData  0.001 ( 0.028)\tLoss 5.6474e-01 (4.4038e-01)\tAcc   0.84 (  0.87)\tF1   0.84 (  0.87)\n",
      "Epoch: [4][ 40/235]\tTime  0.042 ( 0.077)\tData  0.001 ( 0.022)\tLoss 5.7378e-01 (4.4665e-01)\tAcc   0.85 (  0.87)\tF1   0.85 (  0.87)\n",
      "Epoch: [4][ 50/235]\tTime  0.048 ( 0.072)\tData  0.001 ( 0.018)\tLoss 4.0224e-01 (4.4357e-01)\tAcc   0.86 (  0.87)\tF1   0.86 (  0.87)\n",
      "Epoch: [4][ 60/235]\tTime  0.051 ( 0.069)\tData  0.001 ( 0.015)\tLoss 4.3665e-01 (4.4238e-01)\tAcc   0.90 (  0.87)\tF1   0.90 (  0.87)\n",
      "Epoch: [4][ 70/235]\tTime  0.046 ( 0.067)\tData  0.001 ( 0.013)\tLoss 6.0714e-01 (4.3886e-01)\tAcc   0.85 (  0.87)\tF1   0.85 (  0.87)\n",
      "Epoch: [4][ 80/235]\tTime  0.055 ( 0.064)\tData  0.001 ( 0.011)\tLoss 5.3139e-01 (4.4124e-01)\tAcc   0.80 (  0.87)\tF1   0.80 (  0.87)\n",
      "Epoch: [4][ 90/235]\tTime  0.044 ( 0.063)\tData  0.001 ( 0.010)\tLoss 4.1297e-01 (4.4053e-01)\tAcc   0.87 (  0.87)\tF1   0.87 (  0.87)\n",
      "Epoch: [4][100/235]\tTime  0.049 ( 0.062)\tData  0.001 ( 0.009)\tLoss 4.0806e-01 (4.3893e-01)\tAcc   0.88 (  0.87)\tF1   0.87 (  0.87)\n",
      "Epoch: [4][110/235]\tTime  0.042 ( 0.061)\tData  0.001 ( 0.008)\tLoss 3.4123e-01 (4.3550e-01)\tAcc   0.89 (  0.87)\tF1   0.89 (  0.87)\n",
      "Epoch: [4][120/235]\tTime  0.052 ( 0.060)\tData  0.001 ( 0.008)\tLoss 3.4344e-01 (4.3840e-01)\tAcc   0.91 (  0.87)\tF1   0.91 (  0.87)\n",
      "Epoch: [4][130/235]\tTime  0.046 ( 0.060)\tData  0.001 ( 0.007)\tLoss 3.9484e-01 (4.3748e-01)\tAcc   0.90 (  0.87)\tF1   0.90 (  0.87)\n",
      "Epoch: [4][140/235]\tTime  0.046 ( 0.060)\tData  0.001 ( 0.007)\tLoss 3.6284e-01 (4.3939e-01)\tAcc   0.88 (  0.87)\tF1   0.88 (  0.87)\n",
      "Epoch: [4][150/235]\tTime  0.046 ( 0.059)\tData  0.001 ( 0.006)\tLoss 2.9922e-01 (4.3736e-01)\tAcc   0.91 (  0.87)\tF1   0.92 (  0.87)\n",
      "Epoch: [4][160/235]\tTime  0.050 ( 0.059)\tData  0.001 ( 0.006)\tLoss 5.3332e-01 (4.3733e-01)\tAcc   0.88 (  0.87)\tF1   0.88 (  0.87)\n",
      "Epoch: [4][170/235]\tTime  0.051 ( 0.059)\tData  0.001 ( 0.006)\tLoss 5.0910e-01 (4.3660e-01)\tAcc   0.85 (  0.87)\tF1   0.85 (  0.87)\n",
      "Epoch: [4][180/235]\tTime  0.062 ( 0.059)\tData  0.001 ( 0.005)\tLoss 4.3565e-01 (4.3562e-01)\tAcc   0.88 (  0.87)\tF1   0.87 (  0.87)\n",
      "Epoch: [4][190/235]\tTime  0.059 ( 0.059)\tData  0.001 ( 0.005)\tLoss 4.0112e-01 (4.3490e-01)\tAcc   0.88 (  0.87)\tF1   0.88 (  0.87)\n",
      "Epoch: [4][200/235]\tTime  0.046 ( 0.058)\tData  0.001 ( 0.005)\tLoss 4.1082e-01 (4.3436e-01)\tAcc   0.87 (  0.87)\tF1   0.87 (  0.87)\n",
      "Epoch: [4][210/235]\tTime  0.054 ( 0.059)\tData  0.001 ( 0.005)\tLoss 4.1402e-01 (4.3366e-01)\tAcc   0.86 (  0.87)\tF1   0.86 (  0.87)\n",
      "Epoch: [4][220/235]\tTime  0.068 ( 0.058)\tData  0.001 ( 0.005)\tLoss 5.2933e-01 (4.3439e-01)\tAcc   0.85 (  0.87)\tF1   0.85 (  0.87)\n",
      "Epoch: [4][230/235]\tTime  0.043 ( 0.058)\tData  0.000 ( 0.004)\tLoss 4.2242e-01 (4.3358e-01)\tAcc   0.86 (  0.87)\tF1   0.86 (  0.87)\n",
      "Val Epoch: [4][ 0/40]\tTime  0.926 ( 0.926)\tLoss 1.5773e-01 (1.5773e-01)\tAcc   0.95 (  0.95)\tF1   0.95 (  0.95)\n",
      "Val Epoch: [4][10/40]\tTime  0.009 ( 0.094)\tLoss 1.3174e-01 (1.6777e-01)\tAcc   0.96 (  0.95)\tF1   0.96 (  0.95)\n",
      "Val Epoch: [4][20/40]\tTime  0.009 ( 0.054)\tLoss 1.5501e-01 (1.7471e-01)\tAcc   0.95 (  0.95)\tF1   0.95 (  0.94)\n",
      "Val Epoch: [4][30/40]\tTime  0.011 ( 0.040)\tLoss 1.2283e-01 (1.6984e-01)\tAcc   0.95 (  0.95)\tF1   0.95 (  0.95)\n",
      "Epoch: [5][  0/235]\tTime  0.945 ( 0.945)\tData  0.853 ( 0.853)\tLoss 4.4372e-01 (4.4372e-01)\tAcc   0.86 (  0.86)\tF1   0.85 (  0.85)\n",
      "Epoch: [5][ 10/235]\tTime  0.052 ( 0.141)\tData  0.001 ( 0.078)\tLoss 4.1914e-01 (4.1888e-01)\tAcc   0.87 (  0.87)\tF1   0.87 (  0.87)\n",
      "Epoch: [5][ 20/235]\tTime  0.048 ( 0.098)\tData  0.001 ( 0.041)\tLoss 2.8176e-01 (4.0617e-01)\tAcc   0.91 (  0.87)\tF1   0.91 (  0.87)\n",
      "Epoch: [5][ 30/235]\tTime  0.077 ( 0.085)\tData  0.001 ( 0.028)\tLoss 4.7964e-01 (3.9759e-01)\tAcc   0.83 (  0.87)\tF1   0.83 (  0.87)\n",
      "Epoch: [5][ 40/235]\tTime  0.046 ( 0.077)\tData  0.001 ( 0.022)\tLoss 4.3109e-01 (4.0734e-01)\tAcc   0.85 (  0.87)\tF1   0.85 (  0.87)\n",
      "Epoch: [5][ 50/235]\tTime  0.102 ( 0.074)\tData  0.001 ( 0.017)\tLoss 5.5803e-01 (4.0313e-01)\tAcc   0.82 (  0.87)\tF1   0.81 (  0.87)\n",
      "Epoch: [5][ 60/235]\tTime  0.044 ( 0.070)\tData  0.001 ( 0.015)\tLoss 3.8103e-01 (4.0305e-01)\tAcc   0.85 (  0.87)\tF1   0.85 (  0.87)\n",
      "Epoch: [5][ 70/235]\tTime  0.045 ( 0.067)\tData  0.001 ( 0.013)\tLoss 3.5436e-01 (4.0346e-01)\tAcc   0.88 (  0.87)\tF1   0.87 (  0.87)\n",
      "Epoch: [5][ 80/235]\tTime  0.041 ( 0.066)\tData  0.001 ( 0.011)\tLoss 5.0888e-01 (3.9857e-01)\tAcc   0.88 (  0.88)\tF1   0.88 (  0.88)\n",
      "Epoch: [5][ 90/235]\tTime  0.054 ( 0.064)\tData  0.001 ( 0.010)\tLoss 3.8149e-01 (3.9600e-01)\tAcc   0.90 (  0.88)\tF1   0.90 (  0.88)\n",
      "Epoch: [5][100/235]\tTime  0.044 ( 0.063)\tData  0.001 ( 0.009)\tLoss 2.7943e-01 (3.9516e-01)\tAcc   0.92 (  0.88)\tF1   0.92 (  0.88)\n",
      "Epoch: [5][110/235]\tTime  0.043 ( 0.062)\tData  0.001 ( 0.008)\tLoss 3.5225e-01 (3.9342e-01)\tAcc   0.91 (  0.88)\tF1   0.90 (  0.88)\n",
      "Epoch: [5][120/235]\tTime  0.047 ( 0.061)\tData  0.001 ( 0.008)\tLoss 3.2359e-01 (3.9262e-01)\tAcc   0.90 (  0.88)\tF1   0.90 (  0.88)\n",
      "Epoch: [5][130/235]\tTime  0.053 ( 0.061)\tData  0.001 ( 0.007)\tLoss 4.1071e-01 (3.9169e-01)\tAcc   0.91 (  0.88)\tF1   0.91 (  0.88)\n",
      "Epoch: [5][140/235]\tTime  0.045 ( 0.060)\tData  0.001 ( 0.007)\tLoss 3.7628e-01 (3.8926e-01)\tAcc   0.91 (  0.88)\tF1   0.91 (  0.88)\n",
      "Epoch: [5][150/235]\tTime  0.042 ( 0.059)\tData  0.001 ( 0.006)\tLoss 2.6256e-01 (3.8779e-01)\tAcc   0.92 (  0.88)\tF1   0.92 (  0.88)\n",
      "Epoch: [5][160/235]\tTime  0.042 ( 0.059)\tData  0.001 ( 0.006)\tLoss 4.5129e-01 (3.8857e-01)\tAcc   0.86 (  0.88)\tF1   0.86 (  0.88)\n",
      "Epoch: [5][170/235]\tTime  0.039 ( 0.058)\tData  0.001 ( 0.006)\tLoss 3.5686e-01 (3.9208e-01)\tAcc   0.89 (  0.88)\tF1   0.89 (  0.88)\n",
      "Epoch: [5][180/235]\tTime  0.052 ( 0.058)\tData  0.001 ( 0.005)\tLoss 4.1640e-01 (3.9217e-01)\tAcc   0.88 (  0.88)\tF1   0.88 (  0.88)\n",
      "Epoch: [5][190/235]\tTime  0.050 ( 0.058)\tData  0.001 ( 0.005)\tLoss 3.7807e-01 (3.9077e-01)\tAcc   0.89 (  0.88)\tF1   0.89 (  0.88)\n",
      "Epoch: [5][200/235]\tTime  0.046 ( 0.057)\tData  0.001 ( 0.005)\tLoss 3.5511e-01 (3.9389e-01)\tAcc   0.89 (  0.88)\tF1   0.89 (  0.88)\n",
      "Epoch: [5][210/235]\tTime  0.042 ( 0.057)\tData  0.001 ( 0.005)\tLoss 3.5065e-01 (3.9294e-01)\tAcc   0.88 (  0.88)\tF1   0.87 (  0.88)\n",
      "Epoch: [5][220/235]\tTime  0.040 ( 0.056)\tData  0.001 ( 0.005)\tLoss 3.0951e-01 (3.9103e-01)\tAcc   0.89 (  0.88)\tF1   0.89 (  0.88)\n",
      "Epoch: [5][230/235]\tTime  0.048 ( 0.056)\tData  0.000 ( 0.004)\tLoss 3.3040e-01 (3.9164e-01)\tAcc   0.88 (  0.88)\tF1   0.88 (  0.88)\n",
      "Val Epoch: [5][ 0/40]\tTime  0.863 ( 0.863)\tLoss 5.6455e-02 (5.6455e-02)\tAcc   0.99 (  0.99)\tF1   0.99 (  0.99)\n",
      "Val Epoch: [5][10/40]\tTime  0.011 ( 0.089)\tLoss 2.2457e-01 (1.7314e-01)\tAcc   0.89 (  0.94)\tF1   0.89 (  0.94)\n",
      "Val Epoch: [5][20/40]\tTime  0.021 ( 0.053)\tLoss 1.1595e-01 (1.6042e-01)\tAcc   0.95 (  0.95)\tF1   0.95 (  0.95)\n",
      "Val Epoch: [5][30/40]\tTime  0.011 ( 0.039)\tLoss 2.3987e-01 (1.5861e-01)\tAcc   0.92 (  0.95)\tF1   0.92 (  0.95)\n",
      "Epoch: [6][  0/235]\tTime  0.950 ( 0.950)\tData  0.878 ( 0.878)\tLoss 2.6946e-01 (2.6946e-01)\tAcc   0.95 (  0.95)\tF1   0.94 (  0.94)\n",
      "Epoch: [6][ 10/235]\tTime  0.045 ( 0.142)\tData  0.001 ( 0.080)\tLoss 2.9474e-01 (3.9786e-01)\tAcc   0.89 (  0.88)\tF1   0.89 (  0.88)\n",
      "Epoch: [6][ 20/235]\tTime  0.047 ( 0.102)\tData  0.001 ( 0.042)\tLoss 3.9252e-01 (4.0827e-01)\tAcc   0.85 (  0.88)\tF1   0.86 (  0.88)\n",
      "Epoch: [6][ 30/235]\tTime  0.039 ( 0.085)\tData  0.001 ( 0.029)\tLoss 5.8034e-01 (4.0025e-01)\tAcc   0.88 (  0.88)\tF1   0.88 (  0.88)\n",
      "Epoch: [6][ 40/235]\tTime  0.051 ( 0.077)\tData  0.001 ( 0.022)\tLoss 4.5055e-01 (3.9353e-01)\tAcc   0.88 (  0.89)\tF1   0.88 (  0.89)\n",
      "Epoch: [6][ 50/235]\tTime  0.051 ( 0.072)\tData  0.001 ( 0.018)\tLoss 2.3514e-01 (3.8541e-01)\tAcc   0.95 (  0.89)\tF1   0.95 (  0.89)\n",
      "Epoch: [6][ 60/235]\tTime  0.049 ( 0.068)\tData  0.001 ( 0.015)\tLoss 4.3280e-01 (3.8658e-01)\tAcc   0.86 (  0.89)\tF1   0.86 (  0.89)\n",
      "Epoch: [6][ 70/235]\tTime  0.044 ( 0.066)\tData  0.001 ( 0.013)\tLoss 3.3990e-01 (3.8142e-01)\tAcc   0.91 (  0.89)\tF1   0.92 (  0.89)\n",
      "Epoch: [6][ 80/235]\tTime  0.047 ( 0.064)\tData  0.001 ( 0.012)\tLoss 2.8283e-01 (3.8082e-01)\tAcc   0.89 (  0.89)\tF1   0.89 (  0.89)\n",
      "Epoch: [6][ 90/235]\tTime  0.046 ( 0.063)\tData  0.001 ( 0.010)\tLoss 2.9198e-01 (3.8052e-01)\tAcc   0.91 (  0.89)\tF1   0.91 (  0.89)\n",
      "Epoch: [6][100/235]\tTime  0.042 ( 0.062)\tData  0.001 ( 0.009)\tLoss 2.3981e-01 (3.7855e-01)\tAcc   0.95 (  0.89)\tF1   0.94 (  0.89)\n",
      "Epoch: [6][110/235]\tTime  0.047 ( 0.061)\tData  0.001 ( 0.009)\tLoss 2.4649e-01 (3.7802e-01)\tAcc   0.94 (  0.89)\tF1   0.94 (  0.89)\n",
      "Epoch: [6][120/235]\tTime  0.052 ( 0.060)\tData  0.001 ( 0.008)\tLoss 3.2761e-01 (3.8095e-01)\tAcc   0.86 (  0.89)\tF1   0.86 (  0.89)\n",
      "Epoch: [6][130/235]\tTime  0.047 ( 0.059)\tData  0.001 ( 0.007)\tLoss 3.5581e-01 (3.7548e-01)\tAcc   0.93 (  0.89)\tF1   0.93 (  0.89)\n",
      "Epoch: [6][140/235]\tTime  0.040 ( 0.059)\tData  0.001 ( 0.007)\tLoss 4.0825e-01 (3.7053e-01)\tAcc   0.86 (  0.89)\tF1   0.86 (  0.89)\n",
      "Epoch: [6][150/235]\tTime  0.049 ( 0.058)\tData  0.001 ( 0.007)\tLoss 2.9973e-01 (3.6870e-01)\tAcc   0.91 (  0.89)\tF1   0.92 (  0.89)\n",
      "Epoch: [6][160/235]\tTime  0.048 ( 0.058)\tData  0.000 ( 0.006)\tLoss 3.9455e-01 (3.6667e-01)\tAcc   0.88 (  0.89)\tF1   0.88 (  0.89)\n",
      "Epoch: [6][170/235]\tTime  0.051 ( 0.057)\tData  0.001 ( 0.006)\tLoss 2.8773e-01 (3.6540e-01)\tAcc   0.89 (  0.89)\tF1   0.89 (  0.89)\n",
      "Epoch: [6][180/235]\tTime  0.051 ( 0.057)\tData  0.001 ( 0.006)\tLoss 2.7441e-01 (3.6615e-01)\tAcc   0.93 (  0.89)\tF1   0.93 (  0.89)\n",
      "Epoch: [6][190/235]\tTime  0.046 ( 0.057)\tData  0.001 ( 0.005)\tLoss 4.8430e-01 (3.6585e-01)\tAcc   0.93 (  0.89)\tF1   0.93 (  0.89)\n",
      "Epoch: [6][200/235]\tTime  0.048 ( 0.056)\tData  0.000 ( 0.005)\tLoss 2.4331e-01 (3.6389e-01)\tAcc   0.94 (  0.89)\tF1   0.94 (  0.89)\n",
      "Epoch: [6][210/235]\tTime  0.046 ( 0.056)\tData  0.001 ( 0.005)\tLoss 2.9086e-01 (3.6249e-01)\tAcc   0.90 (  0.89)\tF1   0.90 (  0.89)\n",
      "Epoch: [6][220/235]\tTime  0.048 ( 0.056)\tData  0.001 ( 0.005)\tLoss 3.1261e-01 (3.6061e-01)\tAcc   0.91 (  0.89)\tF1   0.90 (  0.89)\n",
      "Epoch: [6][230/235]\tTime  0.043 ( 0.056)\tData  0.001 ( 0.005)\tLoss 2.6942e-01 (3.6035e-01)\tAcc   0.92 (  0.89)\tF1   0.92 (  0.89)\n",
      "Val Epoch: [6][ 0/40]\tTime  0.998 ( 0.998)\tLoss 1.6560e-01 (1.6560e-01)\tAcc   0.95 (  0.95)\tF1   0.95 (  0.95)\n",
      "Val Epoch: [6][10/40]\tTime  0.010 ( 0.100)\tLoss 1.8923e-01 (1.6516e-01)\tAcc   0.91 (  0.95)\tF1   0.91 (  0.95)\n",
      "Val Epoch: [6][20/40]\tTime  0.010 ( 0.057)\tLoss 1.3414e-01 (1.4598e-01)\tAcc   0.96 (  0.95)\tF1   0.96 (  0.96)\n",
      "Val Epoch: [6][30/40]\tTime  0.010 ( 0.042)\tLoss 1.9214e-01 (1.4816e-01)\tAcc   0.94 (  0.95)\tF1   0.94 (  0.95)\n",
      "Epoch: [7][  0/235]\tTime  0.960 ( 0.960)\tData  0.863 ( 0.863)\tLoss 3.0214e-01 (3.0214e-01)\tAcc   0.91 (  0.91)\tF1   0.91 (  0.91)\n",
      "Epoch: [7][ 10/235]\tTime  0.048 ( 0.146)\tData  0.001 ( 0.079)\tLoss 4.3080e-01 (3.5479e-01)\tAcc   0.85 (  0.90)\tF1   0.85 (  0.90)\n",
      "Epoch: [7][ 20/235]\tTime  0.045 ( 0.101)\tData  0.001 ( 0.042)\tLoss 3.6142e-01 (3.5274e-01)\tAcc   0.91 (  0.90)\tF1   0.91 (  0.90)\n",
      "Epoch: [7][ 30/235]\tTime  0.046 ( 0.085)\tData  0.001 ( 0.029)\tLoss 2.9219e-01 (3.5167e-01)\tAcc   0.95 (  0.90)\tF1   0.95 (  0.90)\n",
      "Epoch: [7][ 40/235]\tTime  0.052 ( 0.079)\tData  0.001 ( 0.022)\tLoss 2.2752e-01 (3.5872e-01)\tAcc   0.91 (  0.90)\tF1   0.91 (  0.90)\n",
      "Epoch: [7][ 50/235]\tTime  0.048 ( 0.073)\tData  0.001 ( 0.018)\tLoss 3.3744e-01 (3.5604e-01)\tAcc   0.88 (  0.90)\tF1   0.88 (  0.90)\n",
      "Epoch: [7][ 60/235]\tTime  0.050 ( 0.069)\tData  0.001 ( 0.015)\tLoss 3.8070e-01 (3.5915e-01)\tAcc   0.87 (  0.90)\tF1   0.87 (  0.90)\n",
      "Epoch: [7][ 70/235]\tTime  0.048 ( 0.067)\tData  0.000 ( 0.013)\tLoss 4.1185e-01 (3.5603e-01)\tAcc   0.88 (  0.90)\tF1   0.87 (  0.90)\n",
      "Epoch: [7][ 80/235]\tTime  0.044 ( 0.065)\tData  0.001 ( 0.011)\tLoss 4.5497e-01 (3.5562e-01)\tAcc   0.88 (  0.90)\tF1   0.88 (  0.90)\n",
      "Epoch: [7][ 90/235]\tTime  0.052 ( 0.063)\tData  0.001 ( 0.010)\tLoss 5.5743e-01 (3.5227e-01)\tAcc   0.87 (  0.90)\tF1   0.86 (  0.90)\n",
      "Epoch: [7][100/235]\tTime  0.038 ( 0.062)\tData  0.001 ( 0.009)\tLoss 2.5590e-01 (3.5230e-01)\tAcc   0.93 (  0.90)\tF1   0.93 (  0.90)\n",
      "Epoch: [7][110/235]\tTime  0.045 ( 0.061)\tData  0.001 ( 0.008)\tLoss 2.5638e-01 (3.5182e-01)\tAcc   0.93 (  0.90)\tF1   0.93 (  0.90)\n",
      "Epoch: [7][120/235]\tTime  0.045 ( 0.060)\tData  0.001 ( 0.008)\tLoss 2.6059e-01 (3.5016e-01)\tAcc   0.93 (  0.90)\tF1   0.93 (  0.90)\n",
      "Epoch: [7][130/235]\tTime  0.049 ( 0.059)\tData  0.001 ( 0.007)\tLoss 2.6205e-01 (3.5021e-01)\tAcc   0.91 (  0.90)\tF1   0.91 (  0.90)\n",
      "Epoch: [7][140/235]\tTime  0.043 ( 0.059)\tData  0.001 ( 0.007)\tLoss 2.8603e-01 (3.5082e-01)\tAcc   0.94 (  0.90)\tF1   0.94 (  0.90)\n",
      "Epoch: [7][150/235]\tTime  0.044 ( 0.058)\tData  0.001 ( 0.006)\tLoss 2.3143e-01 (3.5217e-01)\tAcc   0.94 (  0.90)\tF1   0.94 (  0.90)\n",
      "Epoch: [7][160/235]\tTime  0.044 ( 0.058)\tData  0.001 ( 0.006)\tLoss 3.9317e-01 (3.5244e-01)\tAcc   0.88 (  0.90)\tF1   0.87 (  0.90)\n",
      "Epoch: [7][170/235]\tTime  0.050 ( 0.057)\tData  0.001 ( 0.006)\tLoss 4.3826e-01 (3.5127e-01)\tAcc   0.85 (  0.90)\tF1   0.85 (  0.90)\n",
      "Epoch: [7][180/235]\tTime  0.053 ( 0.057)\tData  0.001 ( 0.005)\tLoss 3.2982e-01 (3.4954e-01)\tAcc   0.91 (  0.90)\tF1   0.91 (  0.90)\n",
      "Epoch: [7][190/235]\tTime  0.048 ( 0.057)\tData  0.001 ( 0.005)\tLoss 3.4528e-01 (3.4863e-01)\tAcc   0.89 (  0.90)\tF1   0.89 (  0.90)\n",
      "Epoch: [7][200/235]\tTime  0.041 ( 0.056)\tData  0.001 ( 0.005)\tLoss 2.8356e-01 (3.4652e-01)\tAcc   0.91 (  0.90)\tF1   0.91 (  0.90)\n",
      "Epoch: [7][210/235]\tTime  0.043 ( 0.056)\tData  0.001 ( 0.005)\tLoss 3.6228e-01 (3.4511e-01)\tAcc   0.88 (  0.90)\tF1   0.88 (  0.90)\n",
      "Epoch: [7][220/235]\tTime  0.051 ( 0.056)\tData  0.001 ( 0.005)\tLoss 3.6145e-01 (3.4492e-01)\tAcc   0.88 (  0.90)\tF1   0.87 (  0.90)\n",
      "Epoch: [7][230/235]\tTime  0.043 ( 0.055)\tData  0.001 ( 0.004)\tLoss 3.3385e-01 (3.4472e-01)\tAcc   0.89 (  0.90)\tF1   0.89 (  0.90)\n",
      "Val Epoch: [7][ 0/40]\tTime  0.864 ( 0.864)\tLoss 1.0111e-01 (1.0111e-01)\tAcc   0.97 (  0.97)\tF1   0.97 (  0.97)\n",
      "Val Epoch: [7][10/40]\tTime  0.014 ( 0.090)\tLoss 2.1004e-01 (1.4217e-01)\tAcc   0.94 (  0.96)\tF1   0.94 (  0.96)\n",
      "Val Epoch: [7][20/40]\tTime  0.011 ( 0.052)\tLoss 2.0052e-01 (1.3913e-01)\tAcc   0.94 (  0.95)\tF1   0.94 (  0.95)\n",
      "Val Epoch: [7][30/40]\tTime  0.014 ( 0.039)\tLoss 2.0086e-01 (1.3843e-01)\tAcc   0.95 (  0.96)\tF1   0.95 (  0.96)\n",
      "Epoch: [8][  0/235]\tTime  1.059 ( 1.059)\tData  0.875 ( 0.875)\tLoss 2.6498e-01 (2.6498e-01)\tAcc   0.91 (  0.91)\tF1   0.90 (  0.90)\n",
      "Epoch: [8][ 10/235]\tTime  0.049 ( 0.154)\tData  0.000 ( 0.080)\tLoss 2.5509e-01 (3.4341e-01)\tAcc   0.93 (  0.91)\tF1   0.93 (  0.91)\n",
      "Epoch: [8][ 20/235]\tTime  0.065 ( 0.106)\tData  0.001 ( 0.042)\tLoss 2.9561e-01 (3.5325e-01)\tAcc   0.90 (  0.90)\tF1   0.90 (  0.90)\n",
      "Epoch: [8][ 30/235]\tTime  0.049 ( 0.088)\tData  0.001 ( 0.029)\tLoss 3.3395e-01 (3.4257e-01)\tAcc   0.92 (  0.90)\tF1   0.92 (  0.90)\n",
      "Epoch: [8][ 40/235]\tTime  0.050 ( 0.079)\tData  0.001 ( 0.022)\tLoss 2.8748e-01 (3.3861e-01)\tAcc   0.91 (  0.90)\tF1   0.91 (  0.90)\n",
      "Epoch: [8][ 50/235]\tTime  0.045 ( 0.074)\tData  0.001 ( 0.018)\tLoss 3.3743e-01 (3.3892e-01)\tAcc   0.91 (  0.90)\tF1   0.90 (  0.90)\n",
      "Epoch: [8][ 60/235]\tTime  0.047 ( 0.070)\tData  0.001 ( 0.015)\tLoss 4.0366e-01 (3.3922e-01)\tAcc   0.88 (  0.90)\tF1   0.88 (  0.90)\n",
      "Epoch: [8][ 70/235]\tTime  0.037 ( 0.067)\tData  0.001 ( 0.013)\tLoss 3.6903e-01 (3.4131e-01)\tAcc   0.88 (  0.90)\tF1   0.88 (  0.90)\n",
      "Epoch: [8][ 80/235]\tTime  0.040 ( 0.065)\tData  0.001 ( 0.012)\tLoss 2.7460e-01 (3.4494e-01)\tAcc   0.89 (  0.90)\tF1   0.89 (  0.90)\n",
      "Epoch: [8][ 90/235]\tTime  0.045 ( 0.064)\tData  0.001 ( 0.010)\tLoss 2.7559e-01 (3.4265e-01)\tAcc   0.93 (  0.90)\tF1   0.93 (  0.90)\n",
      "Epoch: [8][100/235]\tTime  0.051 ( 0.063)\tData  0.001 ( 0.009)\tLoss 2.5257e-01 (3.4124e-01)\tAcc   0.90 (  0.90)\tF1   0.90 (  0.90)\n",
      "Epoch: [8][110/235]\tTime  0.045 ( 0.062)\tData  0.001 ( 0.009)\tLoss 2.8675e-01 (3.3781e-01)\tAcc   0.91 (  0.90)\tF1   0.91 (  0.90)\n",
      "Epoch: [8][120/235]\tTime  0.045 ( 0.061)\tData  0.001 ( 0.008)\tLoss 3.6011e-01 (3.3846e-01)\tAcc   0.88 (  0.90)\tF1   0.88 (  0.90)\n",
      "Epoch: [8][130/235]\tTime  0.053 ( 0.060)\tData  0.001 ( 0.007)\tLoss 3.1908e-01 (3.3546e-01)\tAcc   0.88 (  0.90)\tF1   0.88 (  0.90)\n",
      "Epoch: [8][140/235]\tTime  0.047 ( 0.059)\tData  0.001 ( 0.007)\tLoss 2.4859e-01 (3.3462e-01)\tAcc   0.92 (  0.90)\tF1   0.92 (  0.90)\n",
      "Epoch: [8][150/235]\tTime  0.044 ( 0.059)\tData  0.001 ( 0.007)\tLoss 3.6693e-01 (3.3312e-01)\tAcc   0.91 (  0.90)\tF1   0.91 (  0.90)\n",
      "Epoch: [8][160/235]\tTime  0.047 ( 0.058)\tData  0.001 ( 0.006)\tLoss 3.3881e-01 (3.3007e-01)\tAcc   0.90 (  0.90)\tF1   0.90 (  0.90)\n",
      "Epoch: [8][170/235]\tTime  0.044 ( 0.058)\tData  0.001 ( 0.006)\tLoss 3.0228e-01 (3.2810e-01)\tAcc   0.90 (  0.90)\tF1   0.90 (  0.90)\n",
      "Epoch: [8][180/235]\tTime  0.046 ( 0.057)\tData  0.000 ( 0.006)\tLoss 3.5256e-01 (3.2858e-01)\tAcc   0.90 (  0.90)\tF1   0.90 (  0.90)\n",
      "Epoch: [8][190/235]\tTime  0.060 ( 0.057)\tData  0.001 ( 0.005)\tLoss 3.2085e-01 (3.2832e-01)\tAcc   0.90 (  0.90)\tF1   0.90 (  0.90)\n",
      "Epoch: [8][200/235]\tTime  0.048 ( 0.057)\tData  0.001 ( 0.005)\tLoss 2.8008e-01 (3.2625e-01)\tAcc   0.91 (  0.90)\tF1   0.91 (  0.90)\n",
      "Epoch: [8][210/235]\tTime  0.045 ( 0.057)\tData  0.001 ( 0.005)\tLoss 4.1113e-01 (3.2499e-01)\tAcc   0.92 (  0.90)\tF1   0.92 (  0.90)\n",
      "Epoch: [8][220/235]\tTime  0.050 ( 0.056)\tData  0.001 ( 0.005)\tLoss 2.9831e-01 (3.2392e-01)\tAcc   0.91 (  0.90)\tF1   0.91 (  0.90)\n",
      "Epoch: [8][230/235]\tTime  0.040 ( 0.056)\tData  0.001 ( 0.005)\tLoss 3.5263e-01 (3.2356e-01)\tAcc   0.90 (  0.90)\tF1   0.90 (  0.90)\n",
      "Val Epoch: [8][ 0/40]\tTime  0.907 ( 0.907)\tLoss 1.1826e-01 (1.1826e-01)\tAcc   0.96 (  0.96)\tF1   0.96 (  0.96)\n",
      "Val Epoch: [8][10/40]\tTime  0.016 ( 0.093)\tLoss 1.3842e-01 (1.1646e-01)\tAcc   0.94 (  0.96)\tF1   0.94 (  0.96)\n",
      "Val Epoch: [8][20/40]\tTime  0.010 ( 0.054)\tLoss 9.9113e-02 (1.2478e-01)\tAcc   0.96 (  0.96)\tF1   0.96 (  0.96)\n",
      "Val Epoch: [8][30/40]\tTime  0.012 ( 0.040)\tLoss 7.6532e-02 (1.2634e-01)\tAcc   0.98 (  0.96)\tF1   0.98 (  0.96)\n",
      "Epoch: [9][  0/235]\tTime  1.016 ( 1.016)\tData  0.913 ( 0.913)\tLoss 3.5327e-01 (3.5327e-01)\tAcc   0.92 (  0.92)\tF1   0.92 (  0.92)\n",
      "Epoch: [9][ 10/235]\tTime  0.054 ( 0.153)\tData  0.001 ( 0.084)\tLoss 3.3604e-01 (3.2602e-01)\tAcc   0.89 (  0.90)\tF1   0.89 (  0.90)\n",
      "Epoch: [9][ 20/235]\tTime  0.046 ( 0.105)\tData  0.001 ( 0.044)\tLoss 3.2700e-01 (3.3671e-01)\tAcc   0.91 (  0.90)\tF1   0.91 (  0.90)\n",
      "Epoch: [9][ 30/235]\tTime  0.047 ( 0.089)\tData  0.001 ( 0.030)\tLoss 2.9943e-01 (3.2217e-01)\tAcc   0.92 (  0.90)\tF1   0.92 (  0.90)\n",
      "Epoch: [9][ 40/235]\tTime  0.049 ( 0.079)\tData  0.001 ( 0.023)\tLoss 2.5335e-01 (3.3382e-01)\tAcc   0.93 (  0.90)\tF1   0.93 (  0.90)\n",
      "Epoch: [9][ 50/235]\tTime  0.047 ( 0.073)\tData  0.001 ( 0.019)\tLoss 3.2626e-01 (3.3593e-01)\tAcc   0.88 (  0.90)\tF1   0.87 (  0.90)\n",
      "Epoch: [9][ 60/235]\tTime  0.050 ( 0.070)\tData  0.001 ( 0.016)\tLoss 3.4706e-01 (3.2899e-01)\tAcc   0.91 (  0.90)\tF1   0.91 (  0.90)\n",
      "Epoch: [9][ 70/235]\tTime  0.045 ( 0.067)\tData  0.001 ( 0.014)\tLoss 3.2246e-01 (3.2590e-01)\tAcc   0.91 (  0.90)\tF1   0.91 (  0.90)\n",
      "Epoch: [9][ 80/235]\tTime  0.047 ( 0.066)\tData  0.000 ( 0.012)\tLoss 3.1537e-01 (3.2575e-01)\tAcc   0.91 (  0.90)\tF1   0.91 (  0.90)\n",
      "Epoch: [9][ 90/235]\tTime  0.045 ( 0.064)\tData  0.001 ( 0.011)\tLoss 3.4183e-01 (3.1989e-01)\tAcc   0.89 (  0.91)\tF1   0.89 (  0.91)\n",
      "Epoch: [9][100/235]\tTime  0.052 ( 0.063)\tData  0.001 ( 0.010)\tLoss 3.2213e-01 (3.1643e-01)\tAcc   0.91 (  0.91)\tF1   0.91 (  0.91)\n",
      "Epoch: [9][110/235]\tTime  0.047 ( 0.062)\tData  0.001 ( 0.009)\tLoss 3.6881e-01 (3.1538e-01)\tAcc   0.88 (  0.91)\tF1   0.88 (  0.91)\n",
      "Epoch: [9][120/235]\tTime  0.048 ( 0.061)\tData  0.001 ( 0.008)\tLoss 2.4342e-01 (3.1375e-01)\tAcc   0.92 (  0.91)\tF1   0.92 (  0.91)\n",
      "Epoch: [9][130/235]\tTime  0.044 ( 0.060)\tData  0.000 ( 0.008)\tLoss 4.1315e-01 (3.1521e-01)\tAcc   0.90 (  0.91)\tF1   0.90 (  0.91)\n",
      "Epoch: [9][140/235]\tTime  0.044 ( 0.060)\tData  0.001 ( 0.007)\tLoss 3.6839e-01 (3.1514e-01)\tAcc   0.89 (  0.91)\tF1   0.89 (  0.91)\n",
      "Epoch: [9][150/235]\tTime  0.053 ( 0.059)\tData  0.001 ( 0.007)\tLoss 3.6727e-01 (3.1473e-01)\tAcc   0.89 (  0.91)\tF1   0.89 (  0.91)\n",
      "Epoch: [9][160/235]\tTime  0.047 ( 0.059)\tData  0.001 ( 0.006)\tLoss 2.4612e-01 (3.1103e-01)\tAcc   0.92 (  0.91)\tF1   0.92 (  0.91)\n",
      "Epoch: [9][170/235]\tTime  0.050 ( 0.058)\tData  0.000 ( 0.006)\tLoss 3.1379e-01 (3.0959e-01)\tAcc   0.88 (  0.91)\tF1   0.88 (  0.91)\n",
      "Epoch: [9][180/235]\tTime  0.052 ( 0.059)\tData  0.001 ( 0.006)\tLoss 2.4973e-01 (3.0812e-01)\tAcc   0.92 (  0.91)\tF1   0.92 (  0.91)\n",
      "Epoch: [9][190/235]\tTime  0.187 ( 0.059)\tData  0.001 ( 0.006)\tLoss 3.1865e-01 (3.1003e-01)\tAcc   0.89 (  0.91)\tF1   0.89 (  0.91)\n",
      "Epoch: [9][200/235]\tTime  0.053 ( 0.059)\tData  0.001 ( 0.005)\tLoss 2.9223e-01 (3.1049e-01)\tAcc   0.92 (  0.91)\tF1   0.92 (  0.91)\n",
      "Epoch: [9][210/235]\tTime  0.045 ( 0.059)\tData  0.001 ( 0.005)\tLoss 2.5453e-01 (3.1073e-01)\tAcc   0.91 (  0.91)\tF1   0.91 (  0.91)\n",
      "Epoch: [9][220/235]\tTime  0.052 ( 0.058)\tData  0.001 ( 0.005)\tLoss 2.7555e-01 (3.1070e-01)\tAcc   0.91 (  0.91)\tF1   0.90 (  0.91)\n",
      "Epoch: [9][230/235]\tTime  0.043 ( 0.058)\tData  0.001 ( 0.005)\tLoss 3.2543e-01 (3.1020e-01)\tAcc   0.93 (  0.91)\tF1   0.93 (  0.91)\n",
      "Val Epoch: [9][ 0/40]\tTime  0.933 ( 0.933)\tLoss 1.2975e-01 (1.2975e-01)\tAcc   0.95 (  0.95)\tF1   0.95 (  0.95)\n",
      "Val Epoch: [9][10/40]\tTime  0.009 ( 0.095)\tLoss 1.5489e-01 (1.2732e-01)\tAcc   0.94 (  0.96)\tF1   0.94 (  0.96)\n",
      "Val Epoch: [9][20/40]\tTime  0.010 ( 0.055)\tLoss 7.9853e-02 (1.2117e-01)\tAcc   0.98 (  0.96)\tF1   0.98 (  0.96)\n",
      "Val Epoch: [9][30/40]\tTime  0.011 ( 0.041)\tLoss 6.0932e-02 (1.2450e-01)\tAcc   0.98 (  0.96)\tF1   0.98 (  0.96)\n",
      "Epoch: [10][  0/235]\tTime  0.943 ( 0.943)\tData  0.879 ( 0.879)\tLoss 2.5968e-01 (2.5968e-01)\tAcc   0.94 (  0.94)\tF1   0.94 (  0.94)\n",
      "Epoch: [10][ 10/235]\tTime  0.042 ( 0.152)\tData  0.000 ( 0.081)\tLoss 2.6439e-01 (2.8967e-01)\tAcc   0.90 (  0.91)\tF1   0.90 (  0.91)\n",
      "Epoch: [10][ 20/235]\tTime  0.046 ( 0.104)\tData  0.000 ( 0.043)\tLoss 2.5429e-01 (3.0023e-01)\tAcc   0.92 (  0.91)\tF1   0.92 (  0.91)\n",
      "Epoch: [10][ 30/235]\tTime  0.046 ( 0.088)\tData  0.001 ( 0.029)\tLoss 2.1907e-01 (2.9663e-01)\tAcc   0.94 (  0.91)\tF1   0.94 (  0.91)\n",
      "Epoch: [10][ 40/235]\tTime  0.051 ( 0.078)\tData  0.001 ( 0.022)\tLoss 2.4809e-01 (2.9357e-01)\tAcc   0.95 (  0.91)\tF1   0.94 (  0.91)\n",
      "Epoch: [10][ 50/235]\tTime  0.051 ( 0.073)\tData  0.001 ( 0.018)\tLoss 2.8261e-01 (2.9721e-01)\tAcc   0.93 (  0.91)\tF1   0.93 (  0.91)\n",
      "Epoch: [10][ 60/235]\tTime  0.044 ( 0.070)\tData  0.001 ( 0.015)\tLoss 2.9451e-01 (2.9877e-01)\tAcc   0.92 (  0.91)\tF1   0.92 (  0.91)\n",
      "Epoch: [10][ 70/235]\tTime  0.048 ( 0.067)\tData  0.001 ( 0.013)\tLoss 2.2135e-01 (2.9401e-01)\tAcc   0.92 (  0.91)\tF1   0.92 (  0.91)\n",
      "Epoch: [10][ 80/235]\tTime  0.047 ( 0.065)\tData  0.001 ( 0.012)\tLoss 2.5271e-01 (2.9633e-01)\tAcc   0.92 (  0.91)\tF1   0.92 (  0.91)\n",
      "Epoch: [10][ 90/235]\tTime  0.049 ( 0.064)\tData  0.001 ( 0.010)\tLoss 2.1659e-01 (2.9594e-01)\tAcc   0.92 (  0.91)\tF1   0.92 (  0.91)\n",
      "Epoch: [10][100/235]\tTime  0.047 ( 0.062)\tData  0.000 ( 0.009)\tLoss 2.7864e-01 (2.9737e-01)\tAcc   0.91 (  0.91)\tF1   0.91 (  0.91)\n",
      "Epoch: [10][110/235]\tTime  0.045 ( 0.061)\tData  0.001 ( 0.009)\tLoss 4.2710e-01 (2.9827e-01)\tAcc   0.86 (  0.91)\tF1   0.86 (  0.91)\n",
      "Epoch: [10][120/235]\tTime  0.046 ( 0.060)\tData  0.001 ( 0.008)\tLoss 2.5649e-01 (3.0067e-01)\tAcc   0.91 (  0.91)\tF1   0.91 (  0.91)\n",
      "Epoch: [10][130/235]\tTime  0.045 ( 0.060)\tData  0.001 ( 0.007)\tLoss 3.7325e-01 (3.0280e-01)\tAcc   0.88 (  0.91)\tF1   0.88 (  0.91)\n",
      "Epoch: [10][140/235]\tTime  0.050 ( 0.059)\tData  0.001 ( 0.007)\tLoss 3.8924e-01 (3.0353e-01)\tAcc   0.88 (  0.91)\tF1   0.87 (  0.91)\n",
      "Epoch: [10][150/235]\tTime  0.049 ( 0.058)\tData  0.001 ( 0.007)\tLoss 3.1342e-01 (3.0219e-01)\tAcc   0.90 (  0.91)\tF1   0.90 (  0.91)\n",
      "Epoch: [10][160/235]\tTime  0.038 ( 0.058)\tData  0.001 ( 0.006)\tLoss 3.4030e-01 (3.0320e-01)\tAcc   0.87 (  0.91)\tF1   0.87 (  0.91)\n",
      "Epoch: [10][170/235]\tTime  0.049 ( 0.057)\tData  0.001 ( 0.006)\tLoss 2.2596e-01 (3.0272e-01)\tAcc   0.95 (  0.91)\tF1   0.94 (  0.91)\n",
      "Epoch: [10][180/235]\tTime  0.046 ( 0.057)\tData  0.001 ( 0.006)\tLoss 2.6053e-01 (3.0306e-01)\tAcc   0.94 (  0.91)\tF1   0.94 (  0.91)\n",
      "Epoch: [10][190/235]\tTime  0.051 ( 0.056)\tData  0.001 ( 0.005)\tLoss 4.8030e-01 (3.0421e-01)\tAcc   0.88 (  0.91)\tF1   0.88 (  0.91)\n",
      "Epoch: [10][200/235]\tTime  0.050 ( 0.056)\tData  0.001 ( 0.005)\tLoss 2.6048e-01 (3.0396e-01)\tAcc   0.91 (  0.91)\tF1   0.91 (  0.91)\n",
      "Epoch: [10][210/235]\tTime  0.051 ( 0.056)\tData  0.001 ( 0.005)\tLoss 3.3782e-01 (3.0157e-01)\tAcc   0.89 (  0.91)\tF1   0.89 (  0.91)\n",
      "Epoch: [10][220/235]\tTime  0.047 ( 0.056)\tData  0.001 ( 0.005)\tLoss 3.6572e-01 (3.0160e-01)\tAcc   0.88 (  0.91)\tF1   0.88 (  0.91)\n",
      "Epoch: [10][230/235]\tTime  0.044 ( 0.055)\tData  0.001 ( 0.005)\tLoss 2.2770e-01 (3.0121e-01)\tAcc   0.91 (  0.91)\tF1   0.91 (  0.91)\n",
      "Val Epoch: [10][ 0/40]\tTime  0.902 ( 0.902)\tLoss 9.4357e-02 (9.4357e-02)\tAcc   0.98 (  0.98)\tF1   0.98 (  0.98)\n",
      "Val Epoch: [10][10/40]\tTime  0.009 ( 0.092)\tLoss 1.1195e-01 (1.3307e-01)\tAcc   0.96 (  0.96)\tF1   0.96 (  0.96)\n",
      "Val Epoch: [10][20/40]\tTime  0.011 ( 0.053)\tLoss 1.0840e-01 (1.2565e-01)\tAcc   0.95 (  0.96)\tF1   0.95 (  0.96)\n",
      "Val Epoch: [10][30/40]\tTime  0.012 ( 0.040)\tLoss 1.1945e-01 (1.2452e-01)\tAcc   0.97 (  0.96)\tF1   0.97 (  0.96)\n",
      "Epoch: [11][  0/235]\tTime  0.969 ( 0.969)\tData  0.870 ( 0.870)\tLoss 3.6289e-01 (3.6289e-01)\tAcc   0.90 (  0.90)\tF1   0.90 (  0.90)\n",
      "Epoch: [11][ 10/235]\tTime  0.044 ( 0.154)\tData  0.001 ( 0.080)\tLoss 3.7743e-01 (2.8744e-01)\tAcc   0.91 (  0.91)\tF1   0.91 (  0.91)\n",
      "Epoch: [11][ 20/235]\tTime  0.055 ( 0.104)\tData  0.001 ( 0.042)\tLoss 3.9481e-01 (3.0076e-01)\tAcc   0.89 (  0.91)\tF1   0.89 (  0.91)\n",
      "Epoch: [11][ 30/235]\tTime  0.038 ( 0.087)\tData  0.001 ( 0.029)\tLoss 3.4642e-01 (3.0945e-01)\tAcc   0.90 (  0.91)\tF1   0.90 (  0.91)\n",
      "Epoch: [11][ 40/235]\tTime  0.043 ( 0.078)\tData  0.001 ( 0.022)\tLoss 2.9527e-01 (3.0533e-01)\tAcc   0.95 (  0.91)\tF1   0.95 (  0.91)\n",
      "Epoch: [11][ 50/235]\tTime  0.058 ( 0.073)\tData  0.000 ( 0.018)\tLoss 1.9675e-01 (2.9411e-01)\tAcc   0.96 (  0.92)\tF1   0.96 (  0.92)\n",
      "Epoch: [11][ 60/235]\tTime  0.047 ( 0.070)\tData  0.001 ( 0.015)\tLoss 1.7002e-01 (2.8305e-01)\tAcc   0.95 (  0.92)\tF1   0.95 (  0.92)\n",
      "Epoch: [11][ 70/235]\tTime  0.046 ( 0.067)\tData  0.001 ( 0.013)\tLoss 5.0774e-01 (2.8887e-01)\tAcc   0.91 (  0.92)\tF1   0.91 (  0.92)\n",
      "Epoch: [11][ 80/235]\tTime  0.045 ( 0.065)\tData  0.001 ( 0.011)\tLoss 3.1483e-01 (2.9079e-01)\tAcc   0.90 (  0.92)\tF1   0.90 (  0.92)\n",
      "Epoch: [11][ 90/235]\tTime  0.049 ( 0.063)\tData  0.001 ( 0.010)\tLoss 5.0427e-01 (2.9063e-01)\tAcc   0.88 (  0.92)\tF1   0.88 (  0.92)\n",
      "Epoch: [11][100/235]\tTime  0.055 ( 0.063)\tData  0.000 ( 0.009)\tLoss 2.2360e-01 (2.8490e-01)\tAcc   0.92 (  0.92)\tF1   0.92 (  0.92)\n",
      "Epoch: [11][110/235]\tTime  0.049 ( 0.061)\tData  0.000 ( 0.009)\tLoss 2.8465e-01 (2.8406e-01)\tAcc   0.94 (  0.92)\tF1   0.94 (  0.92)\n",
      "Epoch: [11][120/235]\tTime  0.056 ( 0.061)\tData  0.001 ( 0.008)\tLoss 3.5144e-01 (2.8672e-01)\tAcc   0.90 (  0.92)\tF1   0.90 (  0.92)\n",
      "Epoch: [11][130/235]\tTime  0.044 ( 0.060)\tData  0.001 ( 0.007)\tLoss 2.3360e-01 (2.8946e-01)\tAcc   0.92 (  0.92)\tF1   0.92 (  0.91)\n",
      "Epoch: [11][140/235]\tTime  0.047 ( 0.059)\tData  0.000 ( 0.007)\tLoss 2.9954e-01 (2.8709e-01)\tAcc   0.92 (  0.92)\tF1   0.92 (  0.92)\n",
      "Epoch: [11][150/235]\tTime  0.049 ( 0.058)\tData  0.001 ( 0.007)\tLoss 2.1126e-01 (2.8676e-01)\tAcc   0.93 (  0.92)\tF1   0.93 (  0.92)\n",
      "Epoch: [11][160/235]\tTime  0.044 ( 0.058)\tData  0.001 ( 0.006)\tLoss 2.7331e-01 (2.8764e-01)\tAcc   0.94 (  0.91)\tF1   0.94 (  0.91)\n",
      "Epoch: [11][170/235]\tTime  0.048 ( 0.058)\tData  0.001 ( 0.006)\tLoss 2.6059e-01 (2.8630e-01)\tAcc   0.89 (  0.91)\tF1   0.89 (  0.91)\n",
      "Epoch: [11][180/235]\tTime  0.047 ( 0.057)\tData  0.000 ( 0.006)\tLoss 2.5252e-01 (2.8575e-01)\tAcc   0.92 (  0.91)\tF1   0.92 (  0.91)\n",
      "Epoch: [11][190/235]\tTime  0.047 ( 0.057)\tData  0.001 ( 0.005)\tLoss 3.2944e-01 (2.8665e-01)\tAcc   0.94 (  0.91)\tF1   0.94 (  0.91)\n",
      "Epoch: [11][200/235]\tTime  0.041 ( 0.057)\tData  0.001 ( 0.005)\tLoss 3.6080e-01 (2.8888e-01)\tAcc   0.91 (  0.91)\tF1   0.91 (  0.91)\n",
      "Epoch: [11][210/235]\tTime  0.054 ( 0.056)\tData  0.000 ( 0.005)\tLoss 2.4340e-01 (2.8823e-01)\tAcc   0.90 (  0.91)\tF1   0.90 (  0.91)\n",
      "Epoch: [11][220/235]\tTime  0.050 ( 0.056)\tData  0.001 ( 0.005)\tLoss 2.3471e-01 (2.8695e-01)\tAcc   0.94 (  0.91)\tF1   0.94 (  0.91)\n",
      "Epoch: [11][230/235]\tTime  0.054 ( 0.056)\tData  0.000 ( 0.005)\tLoss 2.4199e-01 (2.8597e-01)\tAcc   0.91 (  0.92)\tF1   0.91 (  0.92)\n",
      "Val Epoch: [11][ 0/40]\tTime  0.905 ( 0.905)\tLoss 8.8592e-02 (8.8592e-02)\tAcc   0.95 (  0.95)\tF1   0.95 (  0.95)\n",
      "Val Epoch: [11][10/40]\tTime  0.010 ( 0.092)\tLoss 5.1284e-02 (9.6662e-02)\tAcc   0.98 (  0.97)\tF1   0.98 (  0.97)\n",
      "Val Epoch: [11][20/40]\tTime  0.012 ( 0.054)\tLoss 1.9650e-01 (1.1903e-01)\tAcc   0.92 (  0.96)\tF1   0.92 (  0.96)\n",
      "Val Epoch: [11][30/40]\tTime  0.010 ( 0.040)\tLoss 7.0492e-02 (1.1423e-01)\tAcc   0.98 (  0.96)\tF1   0.98 (  0.96)\n",
      "Epoch: [12][  0/235]\tTime  0.986 ( 0.986)\tData  0.898 ( 0.898)\tLoss 2.4293e-01 (2.4293e-01)\tAcc   0.93 (  0.93)\tF1   0.93 (  0.93)\n",
      "Epoch: [12][ 10/235]\tTime  0.048 ( 0.146)\tData  0.000 ( 0.082)\tLoss 2.1034e-01 (3.0470e-01)\tAcc   0.91 (  0.91)\tF1   0.90 (  0.91)\n",
      "Epoch: [12][ 20/235]\tTime  0.042 ( 0.108)\tData  0.001 ( 0.043)\tLoss 2.3710e-01 (2.8600e-01)\tAcc   0.93 (  0.91)\tF1   0.93 (  0.91)\n",
      "Epoch: [12][ 30/235]\tTime  0.055 ( 0.090)\tData  0.001 ( 0.030)\tLoss 2.0629e-01 (2.7233e-01)\tAcc   0.95 (  0.91)\tF1   0.95 (  0.91)\n",
      "Epoch: [12][ 40/235]\tTime  0.048 ( 0.080)\tData  0.001 ( 0.023)\tLoss 3.6142e-01 (2.8514e-01)\tAcc   0.86 (  0.91)\tF1   0.86 (  0.91)\n",
      "Epoch: [12][ 50/235]\tTime  0.046 ( 0.075)\tData  0.001 ( 0.018)\tLoss 1.7420e-01 (2.8287e-01)\tAcc   0.93 (  0.91)\tF1   0.93 (  0.91)\n",
      "Epoch: [12][ 60/235]\tTime  0.050 ( 0.071)\tData  0.001 ( 0.015)\tLoss 3.3545e-01 (2.8844e-01)\tAcc   0.88 (  0.91)\tF1   0.88 (  0.91)\n",
      "Epoch: [12][ 70/235]\tTime  0.050 ( 0.068)\tData  0.001 ( 0.013)\tLoss 2.6513e-01 (2.8383e-01)\tAcc   0.92 (  0.91)\tF1   0.92 (  0.91)\n",
      "Epoch: [12][ 80/235]\tTime  0.042 ( 0.067)\tData  0.001 ( 0.012)\tLoss 2.9105e-01 (2.8293e-01)\tAcc   0.91 (  0.91)\tF1   0.91 (  0.91)\n",
      "Epoch: [12][ 90/235]\tTime  0.050 ( 0.065)\tData  0.001 ( 0.011)\tLoss 2.4068e-01 (2.7998e-01)\tAcc   0.92 (  0.91)\tF1   0.92 (  0.91)\n",
      "Epoch: [12][100/235]\tTime  0.049 ( 0.064)\tData  0.000 ( 0.010)\tLoss 2.9933e-01 (2.8245e-01)\tAcc   0.89 (  0.91)\tF1   0.89 (  0.91)\n",
      "Epoch: [12][110/235]\tTime  0.047 ( 0.063)\tData  0.001 ( 0.009)\tLoss 2.4025e-01 (2.8287e-01)\tAcc   0.91 (  0.91)\tF1   0.91 (  0.91)\n",
      "Epoch: [12][120/235]\tTime  0.048 ( 0.062)\tData  0.001 ( 0.008)\tLoss 2.8630e-01 (2.8332e-01)\tAcc   0.91 (  0.91)\tF1   0.91 (  0.91)\n",
      "Epoch: [12][130/235]\tTime  0.056 ( 0.061)\tData  0.001 ( 0.008)\tLoss 3.0176e-01 (2.8218e-01)\tAcc   0.92 (  0.91)\tF1   0.92 (  0.91)\n",
      "Epoch: [12][140/235]\tTime  0.052 ( 0.061)\tData  0.001 ( 0.007)\tLoss 4.0068e-01 (2.8145e-01)\tAcc   0.89 (  0.91)\tF1   0.89 (  0.91)\n",
      "Epoch: [12][150/235]\tTime  0.044 ( 0.060)\tData  0.001 ( 0.007)\tLoss 2.1241e-01 (2.8131e-01)\tAcc   0.92 (  0.92)\tF1   0.92 (  0.92)\n",
      "Epoch: [12][160/235]\tTime  0.049 ( 0.060)\tData  0.001 ( 0.006)\tLoss 2.6685e-01 (2.8153e-01)\tAcc   0.95 (  0.92)\tF1   0.95 (  0.92)\n",
      "Epoch: [12][170/235]\tTime  0.052 ( 0.059)\tData  0.000 ( 0.006)\tLoss 2.8674e-01 (2.7976e-01)\tAcc   0.91 (  0.92)\tF1   0.91 (  0.92)\n",
      "Epoch: [12][180/235]\tTime  0.044 ( 0.059)\tData  0.001 ( 0.006)\tLoss 2.5916e-01 (2.7863e-01)\tAcc   0.93 (  0.92)\tF1   0.93 (  0.92)\n",
      "Epoch: [12][190/235]\tTime  0.052 ( 0.058)\tData  0.001 ( 0.005)\tLoss 2.7159e-01 (2.7730e-01)\tAcc   0.92 (  0.92)\tF1   0.92 (  0.92)\n",
      "Epoch: [12][200/235]\tTime  0.064 ( 0.058)\tData  0.001 ( 0.005)\tLoss 2.8595e-01 (2.7498e-01)\tAcc   0.91 (  0.92)\tF1   0.90 (  0.92)\n",
      "Epoch: [12][210/235]\tTime  0.046 ( 0.058)\tData  0.001 ( 0.005)\tLoss 3.6407e-01 (2.7467e-01)\tAcc   0.91 (  0.92)\tF1   0.91 (  0.92)\n",
      "Epoch: [12][220/235]\tTime  0.046 ( 0.058)\tData  0.001 ( 0.005)\tLoss 1.9939e-01 (2.7269e-01)\tAcc   0.95 (  0.92)\tF1   0.94 (  0.92)\n",
      "Epoch: [12][230/235]\tTime  0.045 ( 0.057)\tData  0.001 ( 0.005)\tLoss 3.1788e-01 (2.7502e-01)\tAcc   0.92 (  0.92)\tF1   0.92 (  0.92)\n",
      "Val Epoch: [12][ 0/40]\tTime  0.911 ( 0.911)\tLoss 1.8184e-01 (1.8184e-01)\tAcc   0.95 (  0.95)\tF1   0.94 (  0.94)\n",
      "Val Epoch: [12][10/40]\tTime  0.010 ( 0.093)\tLoss 1.6926e-01 (1.0835e-01)\tAcc   0.96 (  0.97)\tF1   0.96 (  0.97)\n",
      "Val Epoch: [12][20/40]\tTime  0.011 ( 0.053)\tLoss 1.2215e-01 (1.0607e-01)\tAcc   0.95 (  0.96)\tF1   0.95 (  0.96)\n",
      "Val Epoch: [12][30/40]\tTime  0.011 ( 0.040)\tLoss 1.5230e-01 (1.1664e-01)\tAcc   0.95 (  0.96)\tF1   0.95 (  0.96)\n",
      "Epoch: [13][  0/235]\tTime  0.905 ( 0.905)\tData  0.846 ( 0.846)\tLoss 3.3118e-01 (3.3118e-01)\tAcc   0.88 (  0.88)\tF1   0.88 (  0.88)\n",
      "Epoch: [13][ 10/235]\tTime  0.052 ( 0.138)\tData  0.001 ( 0.078)\tLoss 3.3374e-01 (2.4859e-01)\tAcc   0.88 (  0.92)\tF1   0.88 (  0.92)\n",
      "Epoch: [13][ 20/235]\tTime  0.041 ( 0.095)\tData  0.001 ( 0.041)\tLoss 2.6531e-01 (2.7417e-01)\tAcc   0.94 (  0.91)\tF1   0.94 (  0.91)\n",
      "Epoch: [13][ 30/235]\tTime  0.042 ( 0.081)\tData  0.001 ( 0.028)\tLoss 2.5089e-01 (2.5883e-01)\tAcc   0.93 (  0.92)\tF1   0.93 (  0.92)\n",
      "Epoch: [13][ 40/235]\tTime  0.046 ( 0.074)\tData  0.001 ( 0.021)\tLoss 4.5220e-01 (2.5913e-01)\tAcc   0.92 (  0.92)\tF1   0.92 (  0.92)\n",
      "Epoch: [13][ 50/235]\tTime  0.046 ( 0.069)\tData  0.001 ( 0.017)\tLoss 3.1694e-01 (2.6203e-01)\tAcc   0.91 (  0.92)\tF1   0.91 (  0.92)\n",
      "Epoch: [13][ 60/235]\tTime  0.050 ( 0.066)\tData  0.001 ( 0.015)\tLoss 2.0673e-01 (2.6385e-01)\tAcc   0.94 (  0.92)\tF1   0.94 (  0.92)\n",
      "Epoch: [13][ 70/235]\tTime  0.051 ( 0.064)\tData  0.001 ( 0.013)\tLoss 4.0502e-01 (2.6610e-01)\tAcc   0.88 (  0.92)\tF1   0.88 (  0.92)\n",
      "Epoch: [13][ 80/235]\tTime  0.045 ( 0.063)\tData  0.001 ( 0.011)\tLoss 2.2892e-01 (2.6767e-01)\tAcc   0.91 (  0.92)\tF1   0.92 (  0.92)\n",
      "Epoch: [13][ 90/235]\tTime  0.046 ( 0.061)\tData  0.000 ( 0.010)\tLoss 3.3075e-01 (2.6749e-01)\tAcc   0.92 (  0.92)\tF1   0.92 (  0.92)\n",
      "Epoch: [13][100/235]\tTime  0.042 ( 0.060)\tData  0.001 ( 0.009)\tLoss 3.0493e-01 (2.6583e-01)\tAcc   0.92 (  0.92)\tF1   0.92 (  0.92)\n",
      "Epoch: [13][110/235]\tTime  0.046 ( 0.059)\tData  0.001 ( 0.008)\tLoss 3.4892e-01 (2.6832e-01)\tAcc   0.90 (  0.92)\tF1   0.90 (  0.92)\n",
      "Epoch: [13][120/235]\tTime  0.050 ( 0.059)\tData  0.001 ( 0.008)\tLoss 2.0015e-01 (2.6559e-01)\tAcc   0.93 (  0.92)\tF1   0.93 (  0.92)\n",
      "Epoch: [13][130/235]\tTime  0.040 ( 0.058)\tData  0.001 ( 0.007)\tLoss 2.7086e-01 (2.6828e-01)\tAcc   0.91 (  0.92)\tF1   0.91 (  0.92)\n",
      "Epoch: [13][140/235]\tTime  0.042 ( 0.058)\tData  0.001 ( 0.007)\tLoss 3.1553e-01 (2.6731e-01)\tAcc   0.94 (  0.92)\tF1   0.94 (  0.92)\n",
      "Epoch: [13][150/235]\tTime  0.044 ( 0.057)\tData  0.001 ( 0.006)\tLoss 1.9313e-01 (2.6895e-01)\tAcc   0.94 (  0.92)\tF1   0.94 (  0.92)\n",
      "Epoch: [13][160/235]\tTime  0.047 ( 0.057)\tData  0.001 ( 0.006)\tLoss 2.6197e-01 (2.6655e-01)\tAcc   0.91 (  0.92)\tF1   0.91 (  0.92)\n",
      "Epoch: [13][170/235]\tTime  0.045 ( 0.056)\tData  0.001 ( 0.006)\tLoss 2.1070e-01 (2.6489e-01)\tAcc   0.94 (  0.92)\tF1   0.94 (  0.92)\n",
      "Epoch: [13][180/235]\tTime  0.043 ( 0.056)\tData  0.001 ( 0.005)\tLoss 2.2541e-01 (2.6670e-01)\tAcc   0.92 (  0.92)\tF1   0.92 (  0.92)\n",
      "Epoch: [13][190/235]\tTime  0.044 ( 0.056)\tData  0.001 ( 0.005)\tLoss 3.7163e-01 (2.6805e-01)\tAcc   0.88 (  0.92)\tF1   0.88 (  0.92)\n",
      "Epoch: [13][200/235]\tTime  0.041 ( 0.056)\tData  0.001 ( 0.005)\tLoss 4.0925e-01 (2.6987e-01)\tAcc   0.87 (  0.92)\tF1   0.87 (  0.92)\n",
      "Epoch: [13][210/235]\tTime  0.038 ( 0.055)\tData  0.001 ( 0.005)\tLoss 1.8011e-01 (2.6878e-01)\tAcc   0.96 (  0.92)\tF1   0.96 (  0.92)\n",
      "Epoch: [13][220/235]\tTime  0.048 ( 0.055)\tData  0.001 ( 0.005)\tLoss 2.7385e-01 (2.6690e-01)\tAcc   0.91 (  0.92)\tF1   0.91 (  0.92)\n",
      "Epoch: [13][230/235]\tTime  0.045 ( 0.055)\tData  0.001 ( 0.004)\tLoss 1.9641e-01 (2.6862e-01)\tAcc   0.93 (  0.92)\tF1   0.93 (  0.92)\n",
      "Val Epoch: [13][ 0/40]\tTime  0.934 ( 0.934)\tLoss 1.6307e-01 (1.6307e-01)\tAcc   0.95 (  0.95)\tF1   0.95 (  0.95)\n",
      "Val Epoch: [13][10/40]\tTime  0.010 ( 0.095)\tLoss 1.7543e-01 (1.2771e-01)\tAcc   0.95 (  0.96)\tF1   0.95 (  0.96)\n",
      "Val Epoch: [13][20/40]\tTime  0.011 ( 0.056)\tLoss 5.7868e-02 (1.0985e-01)\tAcc   0.97 (  0.96)\tF1   0.97 (  0.96)\n",
      "Val Epoch: [13][30/40]\tTime  0.010 ( 0.041)\tLoss 5.4953e-02 (1.0353e-01)\tAcc   0.98 (  0.97)\tF1   0.98 (  0.97)\n",
      "Epoch: [14][  0/235]\tTime  1.011 ( 1.011)\tData  0.855 ( 0.855)\tLoss 2.6657e-01 (2.6657e-01)\tAcc   0.91 (  0.91)\tF1   0.91 (  0.91)\n",
      "Epoch: [14][ 10/235]\tTime  0.044 ( 0.149)\tData  0.001 ( 0.078)\tLoss 1.7579e-01 (2.3702e-01)\tAcc   0.95 (  0.93)\tF1   0.95 (  0.93)\n",
      "Epoch: [14][ 20/235]\tTime  0.048 ( 0.103)\tData  0.001 ( 0.041)\tLoss 2.9346e-01 (2.5126e-01)\tAcc   0.91 (  0.92)\tF1   0.91 (  0.92)\n",
      "Epoch: [14][ 30/235]\tTime  0.051 ( 0.090)\tData  0.001 ( 0.028)\tLoss 3.1000e-01 (2.5853e-01)\tAcc   0.92 (  0.92)\tF1   0.92 (  0.92)\n",
      "Epoch: [14][ 40/235]\tTime  0.048 ( 0.081)\tData  0.001 ( 0.022)\tLoss 3.2863e-01 (2.5028e-01)\tAcc   0.89 (  0.92)\tF1   0.89 (  0.92)\n",
      "Epoch: [14][ 50/235]\tTime  0.047 ( 0.075)\tData  0.001 ( 0.018)\tLoss 2.0886e-01 (2.4885e-01)\tAcc   0.92 (  0.93)\tF1   0.92 (  0.93)\n",
      "Epoch: [14][ 60/235]\tTime  0.049 ( 0.071)\tData  0.001 ( 0.015)\tLoss 2.7300e-01 (2.5069e-01)\tAcc   0.91 (  0.93)\tF1   0.91 (  0.93)\n",
      "Epoch: [14][ 70/235]\tTime  0.061 ( 0.069)\tData  0.001 ( 0.013)\tLoss 3.5835e-01 (2.5026e-01)\tAcc   0.88 (  0.92)\tF1   0.88 (  0.92)\n",
      "Epoch: [14][ 80/235]\tTime  0.044 ( 0.067)\tData  0.001 ( 0.011)\tLoss 1.7708e-01 (2.5187e-01)\tAcc   0.95 (  0.93)\tF1   0.95 (  0.93)\n",
      "Epoch: [14][ 90/235]\tTime  0.064 ( 0.065)\tData  0.000 ( 0.010)\tLoss 1.8546e-01 (2.5259e-01)\tAcc   0.94 (  0.92)\tF1   0.94 (  0.92)\n",
      "Epoch: [14][100/235]\tTime  0.048 ( 0.064)\tData  0.001 ( 0.009)\tLoss 2.4136e-01 (2.5344e-01)\tAcc   0.89 (  0.92)\tF1   0.89 (  0.92)\n",
      "Epoch: [14][110/235]\tTime  0.053 ( 0.062)\tData  0.000 ( 0.008)\tLoss 2.1563e-01 (2.5232e-01)\tAcc   0.94 (  0.92)\tF1   0.94 (  0.92)\n",
      "Epoch: [14][120/235]\tTime  0.076 ( 0.062)\tData  0.001 ( 0.008)\tLoss 1.9427e-01 (2.5242e-01)\tAcc   0.95 (  0.92)\tF1   0.95 (  0.92)\n",
      "Epoch: [14][130/235]\tTime  0.040 ( 0.061)\tData  0.001 ( 0.007)\tLoss 2.8425e-01 (2.5458e-01)\tAcc   0.89 (  0.92)\tF1   0.89 (  0.92)\n",
      "Epoch: [14][140/235]\tTime  0.045 ( 0.060)\tData  0.001 ( 0.007)\tLoss 2.6542e-01 (2.5392e-01)\tAcc   0.92 (  0.92)\tF1   0.92 (  0.92)\n",
      "Epoch: [14][150/235]\tTime  0.066 ( 0.059)\tData  0.001 ( 0.006)\tLoss 4.5346e-01 (2.5630e-01)\tAcc   0.87 (  0.92)\tF1   0.87 (  0.92)\n",
      "Epoch: [14][160/235]\tTime  0.046 ( 0.059)\tData  0.000 ( 0.006)\tLoss 3.5460e-01 (2.5668e-01)\tAcc   0.89 (  0.92)\tF1   0.89 (  0.92)\n",
      "Epoch: [14][170/235]\tTime  0.040 ( 0.058)\tData  0.001 ( 0.006)\tLoss 3.5341e-01 (2.5631e-01)\tAcc   0.89 (  0.92)\tF1   0.89 (  0.92)\n",
      "Epoch: [14][180/235]\tTime  0.053 ( 0.058)\tData  0.001 ( 0.005)\tLoss 2.2539e-01 (2.5878e-01)\tAcc   0.95 (  0.92)\tF1   0.95 (  0.92)\n",
      "Epoch: [14][190/235]\tTime  0.048 ( 0.058)\tData  0.000 ( 0.005)\tLoss 2.8418e-01 (2.5868e-01)\tAcc   0.92 (  0.92)\tF1   0.92 (  0.92)\n",
      "Epoch: [14][200/235]\tTime  0.049 ( 0.057)\tData  0.001 ( 0.005)\tLoss 2.3245e-01 (2.5888e-01)\tAcc   0.93 (  0.92)\tF1   0.93 (  0.92)\n",
      "Epoch: [14][210/235]\tTime  0.049 ( 0.057)\tData  0.001 ( 0.005)\tLoss 1.9769e-01 (2.5866e-01)\tAcc   0.93 (  0.92)\tF1   0.93 (  0.92)\n",
      "Epoch: [14][220/235]\tTime  0.048 ( 0.057)\tData  0.001 ( 0.005)\tLoss 1.7178e-01 (2.5707e-01)\tAcc   0.96 (  0.92)\tF1   0.96 (  0.92)\n",
      "Epoch: [14][230/235]\tTime  0.044 ( 0.056)\tData  0.001 ( 0.004)\tLoss 2.8391e-01 (2.5747e-01)\tAcc   0.91 (  0.92)\tF1   0.91 (  0.92)\n",
      "Val Epoch: [14][ 0/40]\tTime  0.832 ( 0.832)\tLoss 8.4050e-02 (8.4050e-02)\tAcc   0.98 (  0.98)\tF1   0.98 (  0.98)\n",
      "Val Epoch: [14][10/40]\tTime  0.012 ( 0.096)\tLoss 5.7449e-02 (8.8584e-02)\tAcc   0.98 (  0.97)\tF1   0.98 (  0.97)\n",
      "Val Epoch: [14][20/40]\tTime  0.011 ( 0.056)\tLoss 1.5639e-01 (9.8734e-02)\tAcc   0.95 (  0.97)\tF1   0.95 (  0.97)\n",
      "Val Epoch: [14][30/40]\tTime  0.010 ( 0.041)\tLoss 1.1764e-01 (1.0213e-01)\tAcc   0.96 (  0.97)\tF1   0.96 (  0.97)\n"
     ]
    }
   ],
   "source": [
    "train_disc_model(model, optimizer, scheduler, criterion, train_disc_loader, val_disc_loader, opt, target_metric='f1_avg', best_target_metric=-np.inf)"
   ]
  },
  {
   "cell_type": "markdown",
   "metadata": {},
   "source": [
    "## Model performance metrics"
   ]
  },
  {
   "cell_type": "code",
   "execution_count": 11,
   "metadata": {},
   "outputs": [],
   "source": [
    "from sklearn.metrics import ConfusionMatrixDisplay"
   ]
  },
  {
   "cell_type": "code",
   "execution_count": 12,
   "metadata": {},
   "outputs": [
    {
     "data": {
      "text/plain": [
       "<All keys matched successfully>"
      ]
     },
     "execution_count": 12,
     "metadata": {},
     "output_type": "execute_result"
    }
   ],
   "source": [
    "model = DiscMNISTModel(\n",
    "    input_dim, opt.n_classes, opt.disc_hidden_channels,\n",
    ").to(opt.device)\n",
    "\n",
    "last_state = torch.load(str(opt.path_to_models / f'{model.__class__.__name__}_model_best.pth'))\n",
    "model.load_state_dict(last_state['state_dict'])"
   ]
  },
  {
   "cell_type": "code",
   "execution_count": 13,
   "metadata": {},
   "outputs": [
    {
     "name": "stderr",
     "output_type": "stream",
     "text": [
      "batch loop: 100%|██████████| 40/40 [00:01<00:00, 28.72it/s]"
     ]
    },
    {
     "name": "stdout",
     "output_type": "stream",
     "text": [
      "Accuracy: 0.965\n",
      "F1: 0.965\n",
      "Precision: 0.966\n",
      "Recall: 0.965\n"
     ]
    },
    {
     "name": "stderr",
     "output_type": "stream",
     "text": [
      "\n"
     ]
    }
   ],
   "source": [
    "acc_metric, f1_metric, precision_metric, recall_metric, conf_matrix = get_val_metrics(val_disc_loader, model, opt.device)\n",
    "print(f'Accuracy: {acc_metric:.3}')\n",
    "print(f'F1: {f1_metric:.3}')\n",
    "print(f'Precision: {precision_metric:.3}')\n",
    "print(f'Recall: {recall_metric:.3}')"
   ]
  },
  {
   "cell_type": "code",
   "execution_count": 14,
   "metadata": {},
   "outputs": [
    {
     "data": {
      "image/png": "[encoded data removed]",
      "text/plain": [
       "<Figure size 1152x648 with 2 Axes>"
      ]
     },
     "metadata": {},
     "output_type": "display_data"
    }
   ],
   "source": [
    "disp = ConfusionMatrixDisplay(\n",
    "    confusion_matrix=conf_matrix / conf_matrix.astype('float').sum(axis=1, keepdims=True),\n",
    ")\n",
    "disp.plot(xticks_rotation='vertical', values_format='.2f');"
   ]
  },
  {
   "cell_type": "markdown",
   "metadata": {},
   "source": [
    "## Inference"
   ]
  },
  {
   "cell_type": "code",
   "execution_count": 15,
   "metadata": {},
   "outputs": [],
   "source": [
    "from torchvision.datasets import MNIST\n",
    "from utils.loops import infer_disc_one_image"
   ]
  },
  {
   "cell_type": "code",
   "execution_count": 16,
   "metadata": {},
   "outputs": [
    {
     "name": "stdout",
     "output_type": "stream",
     "text": [
      "Predicted class: 7; Target: 7\n"
     ]
    }
   ],
   "source": [
    "infer_disc_dataset = MNIST(\n",
    "    opt.path_to_data / 'mnist', download=True, train=False,\n",
    ")\n",
    "\n",
    "image = next(iter(infer_disc_dataset))[0]\n",
    "target = next(iter(infer_disc_dataset))[1]\n",
    "predicted = infer_disc_one_image(\n",
    "    image, model, opt.device, transform=val_disc_transformations,\n",
    ")\n",
    "\n",
    "print(f'Predicted class: {predicted}; Target: {target}')"
   ]
  },
  {
   "cell_type": "code",
   "execution_count": null,
   "metadata": {},
   "outputs": [],
   "source": []
  }
 ],
 "metadata": {
  "interpreter": {
   "hash": "c6e4e9f98eb68ad3b7c296f83d20e6de614cb42e90992a65aa266555a3137d0d"
  },
  "kernelspec": {
   "display_name": "Python 3.9.7 ('base')",
   "language": "python",
   "name": "python3"
  },
  "language_info": {
   "codemirror_mode": {
    "name": "ipython",
    "version": 3
   },
   "file_extension": ".py",
   "mimetype": "text/x-python",
   "name": "python",
   "nbconvert_exporter": "python",
   "pygments_lexer": "ipython3",
   "version": "3.9.7"
  },
  "orig_nbformat": 4
 },
 "nbformat": 4,
 "nbformat_minor": 2
}
