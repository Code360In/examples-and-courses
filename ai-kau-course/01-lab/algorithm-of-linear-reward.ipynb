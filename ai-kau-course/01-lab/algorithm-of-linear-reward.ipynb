{
 "cells": [
  {
   "cell_type": "markdown",
   "metadata": {
    "id": "v07AQIHbtqrZ"
   },
   "source": [
    "## Lab 1\n",
    "\n",
    "### Імплементація лінійної винагороди бездіяльності\n",
    "\n",
    "+ Програмно реалізувати алгоритм лінійної винагороди-бездіяльності для навчання з підкріпленням (мова програмування - Java або Python). Проілюструвати, як за рахунок вибору швидкості навчання алгоритм за одних і тих самих умов може збігатися до оптимальної або неоптимальної стратегії"
   ]
  },
  {
   "cell_type": "code",
   "execution_count": 1,
   "metadata": {
    "colab": {
     "base_uri": "https://localhost:8080/"
    },
    "id": "dX5NZXy-tqrb",
    "outputId": "73075cbb-bf3f-4c6f-c98a-4c99c45f218f"
   },
   "outputs": [],
   "source": [
    "import numpy as np\n",
    "import matplotlib.pyplot as plt\n",
    "import time\n",
    "\n",
    "from IPython.display import clear_output"
   ]
  },
  {
   "cell_type": "markdown",
   "metadata": {
    "id": "RRUd1cpetqrb"
   },
   "source": [
    "### Середовище\n",
    "\n",
    "+ для тестування оберемо середовище під назвою **Taxi-v3**"
   ]
  },
  {
   "cell_type": "code",
   "execution_count": 2,
   "metadata": {
    "id": "iqhVrgDltqrb"
   },
   "outputs": [
    {
     "name": "stdout",
     "output_type": "stream",
     "text": [
      "n_states=500, n_actions=6\n"
     ]
    }
   ],
   "source": [
    "import gym\n",
    "env = gym.make(\"Taxi-v3\")\n",
    "\n",
    "n_states = env.observation_space.n\n",
    "n_actions = env.action_space.n\n",
    "\n",
    "print(\"n_states=%i, n_actions=%i\" % (n_states, n_actions))"
   ]
  },
  {
   "cell_type": "markdown",
   "metadata": {},
   "source": [
    "Політика буде мати вигляд 2-вимірного масиву, оскільки в нашому середовищі існує скінченна кількість дій та станів:\n",
    "\n",
    "`policy[s,a] = P(take action a | in state s)`"
   ]
  },
  {
   "cell_type": "markdown",
   "metadata": {},
   "source": [
    "Створимо функцію для генерації сесій гри:"
   ]
  },
  {
   "cell_type": "code",
   "execution_count": 3,
   "metadata": {},
   "outputs": [],
   "source": [
    "def generate_session(policy, t_max=int(10**4)):\n",
    "    \"\"\"\n",
    "    Play game until end or for t_max ticks.\n",
    "    :param policy: an array of shape [n_states,n_actions] with action probabilities\n",
    "    :returns: list of states, list of actions and sum of rewards\n",
    "    \"\"\"\n",
    "    renders, states, actions, rewards, dones = [], [], [], [], []\n",
    "    total_reward = 0.\n",
    "\n",
    "    s = env.reset()\n",
    "    renders.append(env.render(mode='ansi'))\n",
    "    for _ in range(t_max):\n",
    "        # sample action from policy\n",
    "        a = np.random.choice(np.arange(n_actions), p=policy[s])\n",
    "\n",
    "        new_s, r, done, info = env.step(a)\n",
    "\n",
    "        # Record state, action and reward\n",
    "        renders.append(env.render(mode='ansi'))\n",
    "        states.append(s)\n",
    "        actions.append(a)\n",
    "        rewards.append(r)\n",
    "        dones.append(done)\n",
    "        total_reward += r\n",
    "\n",
    "        s = new_s\n",
    "        if done:\n",
    "            break\n",
    "    return renders, states, actions, rewards, dones, total_reward"
   ]
  },
  {
   "cell_type": "markdown",
   "metadata": {},
   "source": [
    "Створимо функцію для оновлення політики:\n",
    "+ будемо вважати що i-та дія прийшла до успіху, якщо агент зміг виконати завдання"
   ]
  },
  {
   "cell_type": "code",
   "execution_count": 4,
   "metadata": {},
   "outputs": [],
   "source": [
    "def update_policy(policy, states, actions, dones, learning_rate):\n",
    "    \"\"\"\n",
    "    Given old policy and a list of states/actions,\n",
    "    return new updated policy where each action probability is proportional to\n",
    "\n",
    "    policy[s_i,a_i] ~ #[occurences of si and ai in states/actions]\n",
    "\n",
    "    :param states: 1D list of states from sessions\n",
    "    :param actions: 1D list of actions from sessions\n",
    "    \"\"\"\n",
    "\n",
    "    # p_i = p_i + a * (1 - p_i)\n",
    "    # p_j = p_j - a * p_j\n",
    "\n",
    "    for idx in range(len(states)):\n",
    "        p = policy[states[idx], actions[idx]]\n",
    "        if dones[idx][-1]:\n",
    "            policy[states[idx], actions[idx]] = p + learning_rate * (1 - p)\n",
    "        else:\n",
    "            policy[states[idx], actions[idx]] = p - learning_rate * p\n",
    "    # віднормуємо ймовірності, що коректно працювала функція np.random.choice\n",
    "    policy /= policy.sum(axis=1)[:, None]\n",
    "        \n",
    "    return policy"
   ]
  },
  {
   "cell_type": "markdown",
   "metadata": {},
   "source": [
    "Також, додамо функцію для візуалізації процесу навчання:"
   ]
  },
  {
   "cell_type": "code",
   "execution_count": 5,
   "metadata": {},
   "outputs": [],
   "source": [
    "def show_progress(rewards_batch, log, percentile, reward_range=[-990, +10]):\n",
    "    \"\"\"\n",
    "    A convenience function that displays training progress. \n",
    "    No cool math here, just charts.\n",
    "    \"\"\"\n",
    "\n",
    "    mean_reward = np.mean(rewards_batch)\n",
    "    threshold = np.percentile(rewards_batch, percentile)\n",
    "    log.append([mean_reward, threshold])\n",
    "\n",
    "    clear_output(True)\n",
    "    print(\"mean reward = %.3f, threshold=%.3f\" % (mean_reward, threshold))\n",
    "    plt.figure(figsize=[8, 4])\n",
    "    plt.subplot(1, 2, 1)\n",
    "    plt.plot(list(zip(*log))[0], label='Mean rewards')\n",
    "    plt.plot(list(zip(*log))[1], label='Reward thresholds')\n",
    "    plt.legend()\n",
    "    plt.grid()\n",
    "\n",
    "    plt.subplot(1, 2, 2)\n",
    "    plt.hist(rewards_batch, range=reward_range)\n",
    "    plt.vlines([np.percentile(rewards_batch, percentile)],\n",
    "               [0], [100], label=\"percentile\", color='red')\n",
    "    plt.legend()\n",
    "    plt.grid()\n",
    "\n",
    "    plt.show()"
   ]
  },
  {
   "cell_type": "markdown",
   "metadata": {},
   "source": [
    "Проведемо сесію навчання:"
   ]
  },
  {
   "cell_type": "code",
   "execution_count": 9,
   "metadata": {},
   "outputs": [
    {
     "name": "stdout",
     "output_type": "stream",
     "text": [
      "mean reward = -696.600, threshold=-722.000\n"
     ]
    },
    {
     "data": {
      "image/png": "[encoded data removed]",
      "text/plain": [
       "<Figure size 576x288 with 2 Axes>"
      ]
     },
     "metadata": {},
     "output_type": "display_data"
    }
   ],
   "source": [
    "# sample this many sessions\n",
    "n_sessions = 200\n",
    "# take this percent of session with highest rewards\n",
    "percentile = 50\n",
    "# add this thing to all counts for stability\n",
    "learning_rate = 0.001\n",
    "# decay coeff for learning rate\n",
    "decay_lr = 0.5\n",
    "\n",
    "policy = np.full((n_states, n_actions), 1./n_actions)\n",
    "log = []\n",
    "\n",
    "for i in range(500):\n",
    "    if (i+1) % 100 == 0:\n",
    "        learning_rate *= decay_lr\n",
    "    # generate new session\n",
    "    sessions = [generate_session(policy) for _ in range(n_sessions)]\n",
    "    _, states_batch, actions_batch, _, dones_batch, total_reward = zip(*sessions)\n",
    "\n",
    "    # update policy\n",
    "    policy = update_policy(policy, states_batch, actions_batch, dones_batch, learning_rate)\n",
    "\n",
    "    # display results on chart\n",
    "    show_progress(total_reward, log, percentile)"
   ]
  },
  {
   "cell_type": "markdown",
   "metadata": {},
   "source": [
    "+ як ми бачимо з графіків вище, функція лінійної винагороди бездіяльності погано працює на даній задачі, хоча і спостерігається поступовий процес сходження\n",
    "+ це можна пояснити тим, що вектор ймовірностей для кожного стану збігається до вектору, в якого лише одна компонента дорівнює 1, а решта мають нульові значення\n",
    "+ тому для даної задачі краще використовувати інші функції оновлення політики"
   ]
  },
  {
   "cell_type": "markdown",
   "metadata": {},
   "source": [
    "## Спробуємо іншу функцію оновлення політики"
   ]
  },
  {
   "cell_type": "code",
   "execution_count": null,
   "metadata": {},
   "outputs": [],
   "source": [
    "def update_policy_2(policy, states, actions, learning_rate):\n",
    "    \"\"\"\n",
    "    Given old policy and a list of states/actions,\n",
    "    return new updated policy where each action probability is proportional to\n",
    "\n",
    "    policy[s_i,a_i] ~ #[occurences of si and ai in states/actions]\n",
    "\n",
    "    :param states: 1D list of states from sessions\n",
    "    :param actions: 1D list of actions from sessions\n",
    "    \"\"\"\n",
    "\n",
    "    new_policy = np.zeros(policy_2.shape)\n",
    "\n",
    "    for idx in range(len(states)):\n",
    "        new_policy[states[idx], actions[idx]] += 1\n",
    "\n",
    "    never_visited_states = new_policy.sum(axis=1) == 0\n",
    "    new_policy[never_visited_states] = 1\n",
    "\n",
    "    new_policy /= new_policy.sum(axis=1)[:, None]\n",
    "    \n",
    "    return learning_rate*new_policy + (1-learning_rate)*policy"
   ]
  },
  {
   "cell_type": "code",
   "execution_count": null,
   "metadata": {},
   "outputs": [
    {
     "name": "stdout",
     "output_type": "stream",
     "text": [
      "mean reward = 1.107, threshold=3.500\n"
     ]
    },
    {
     "data": {
      "image/png": "[encoded data removed]",
      "text/plain": [
       "<Figure size 576x288 with 2 Axes>"
      ]
     },
     "metadata": {},
     "output_type": "display_data"
    }
   ],
   "source": [
    "# sample this many sessions\n",
    "n_sessions = 200\n",
    "# take this percent of session with highest rewards\n",
    "percentile = 50\n",
    "# add this thing to all counts for stability\n",
    "learning_rate = 0.5\n",
    "# decay coeff for learning rate\n",
    "decay_lr = 0.5\n",
    "\n",
    "policy_2 = np.full((n_states, n_actions), 1./n_actions)\n",
    "log = []\n",
    "\n",
    "for i in range(150):\n",
    "    if (i+1) % 100 == 0:\n",
    "        learning_rate *= decay_lr\n",
    "    # generate new session\n",
    "    sessions = [generate_session(policy_2) for _ in range(n_sessions)]\n",
    "    _, states_batch, actions_batch, _, _, total_reward = zip(*sessions)\n",
    "\n",
    "    # update policy\n",
    "    policy_2 = update_policy_2(policy_2, states_batch, actions_batch, learning_rate)\n",
    "\n",
    "    # display results on chart\n",
    "    show_progress(total_reward, log, percentile)"
   ]
  },
  {
   "cell_type": "code",
   "execution_count": null,
   "metadata": {},
   "outputs": [],
   "source": [
    "def render_replay(steps, delay=0.5):\n",
    "    cum_reward = 0\n",
    "    for step in steps:\n",
    "        clear_output(wait=True)\n",
    "        cum_reward += step[1]\n",
    "        print(\"{} \\nAction: {}\\nReward: {}\\nCumulative Reward: {}\".format(step[0], step[2], step[1], cum_reward))\n",
    "        time.sleep(delay)"
   ]
  },
  {
   "cell_type": "code",
   "execution_count": null,
   "metadata": {},
   "outputs": [],
   "source": [
    "steps = []\n",
    "steps.append([env.render(mode='ansi'), 0, \"-\"])\n",
    "renders_batch, states_batch, actions_batch, rewards_batch, _, total_reward = generate_session(policy_2)\n",
    "for render, state, action, reward in zip(renders_batch, states_batch, actions_batch, rewards_batch):\n",
    "    steps.append([render, reward, action])"
   ]
  },
  {
   "cell_type": "code",
   "execution_count": null,
   "metadata": {},
   "outputs": [
    {
     "name": "stdout",
     "output_type": "stream",
     "text": [
      "+---------+\n",
      "|R: | : :G|\n",
      "| : | : : |\n",
      "| : : : : |\n",
      "| | : | : |\n",
      "|Y| : |\u001b[35m\u001b[42mB\u001b[0m\u001b[0m: |\n",
      "+---------+\n",
      "  (West)\n",
      " \n",
      "Action: 5\n",
      "Reward: 20\n",
      "Cumulative Reward: -4\n"
     ]
    }
   ],
   "source": [
    "render_replay(steps)"
   ]
  },
  {
   "cell_type": "code",
   "execution_count": null,
   "metadata": {},
   "outputs": [],
   "source": []
  }
 ],
 "metadata": {
  "colab": {
   "collapsed_sections": [],
   "name": "Copy of week08_qlearning_practice.ipynb",
   "provenance": []
  },
  "kernelspec": {
   "display_name": "Python 3",
   "language": "python",
   "name": "python3"
  },
  "language_info": {
   "codemirror_mode": {
    "name": "ipython",
    "version": 3
   },
   "file_extension": ".py",
   "mimetype": "text/x-python",
   "name": "python",
   "nbconvert_exporter": "python",
   "pygments_lexer": "ipython3",
   "version": "3.9.7"
  }
 },
 "nbformat": 4,
 "nbformat_minor": 1
}
